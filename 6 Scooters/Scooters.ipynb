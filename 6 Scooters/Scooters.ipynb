{
 "cells": [
  {
   "cell_type": "markdown",
   "id": "1494d874",
   "metadata": {},
   "source": [
    "# Проект: Статистический анализ данных\n",
    "\n",
    "# Название проекта: \"Анализ модели поведения пользователей сервиса аренды самокатов GoFast\".\n",
    "\n",
    "В аналитический отдел компании сервиса аренды самокатов GoFast поступила задача. Необходимо проанализировать данные и проверить некоторые гипотезы, которые могут помочь бизнесу вырасти. Для анализа переданы данные о некоторых пользователях из нескольких городов, а также об их поездках (всего 3 таблицы). Небольшое пояснение к данным:\n",
    "\n",
    "Сервисом можно пользоваться:\n",
    "- без подписки (ежемесячный платеж отсутствует);\n",
    "- с подпиской (абонентская плата 199р/месяц)\n",
    "\n",
    "При этом:\n",
    "стоимость одной минуты поездки — \n",
    "- без подписки 8 рублей\n",
    "- с подпиской 6 рублей;\n",
    "\n",
    "Стоимость старта (начала поездки) — \n",
    "- без подписки 50 рублей;\n",
    "- с подпиской - бесплатно.\n",
    "\n",
    " Основные задачи:\n",
    "- Провести исследовательский анализ данных и выявить:\n",
    "    * частоту встречаемости городов, \n",
    "    * соотношение пользователей с подпиской и без подписки, \n",
    "    * возраст пользователей, \n",
    "    * расстояние, которое пользователь преодолел за одну поездку;\n",
    "    * среднюю продолжительность поездок.\n",
    "- Посчитать выручку;\n",
    "- Проверить гипотезы:\n",
    "    * тратят ли пользователи с подпиской больше времени на поездки? \n",
    "    * Можно ли сказать, что среднее расстояние, которое проезжают пользователи с подпиской за одну поездку, не превышает 3130 метров?\n",
    "    * будет ли помесячная выручка от пользователей с подпиской по месяцам выше, чем выручка от пользователей без подписки. \n",
    "\n",
    " Сопутствующие задачи:\n",
    "- провести предобработку данных.\n",
    "\n",
    " Дополнительные задачи:\n",
    "- посчитать необходимо количество промокодов для успешного завершения акции;\n",
    "- посчитать вероятность того, что акция с push-уведомлениями принесет менее 40% просмотров в случае рассылки 1 млн. уведомлений.\n"
   ]
  },
  {
   "cell_type": "markdown",
   "id": "fc232b87",
   "metadata": {},
   "source": [
    "# План работы:\n",
    "    - определить необходимые библиотеки и подключить их;\n",
    "    - загрузить и осмотреть данные;\n",
    "    - сделать предобработку;\n",
    "    - провести исследовательский анализ данных;\n",
    "    - подтвердить или опровергнуть гипотезы;\n",
    "    - по возможности сделать дополнительное задание;\n",
    "    - написать выводы."
   ]
  },
  {
   "cell_type": "code",
   "execution_count": 1,
   "id": "72576667",
   "metadata": {},
   "outputs": [],
   "source": [
    "# Подключим библиотеки\n",
    "import pandas as pd\n",
    "import numpy as np\n",
    "from math import*\n",
    "import matplotlib.pyplot as plt\n",
    "from scipy import stats as st\n",
    "from scipy.stats import binom, poisson, norm"
   ]
  },
  {
   "cell_type": "markdown",
   "id": "c42cbe00",
   "metadata": {},
   "source": [
    "#### Шаг 1. Загрузка данных"
   ]
  },
  {
   "cell_type": "code",
   "execution_count": 2,
   "id": "eff9f206",
   "metadata": {},
   "outputs": [],
   "source": [
    "df_user = pd.read_csv('/datasets/users_go.csv')\n",
    "df_ride = pd.read_csv('/datasets/rides_go.csv')\n",
    "df_sub = pd.read_csv('/datasets/subscriptions_go.csv')"
   ]
  },
  {
   "cell_type": "markdown",
   "id": "5c15e54d",
   "metadata": {},
   "source": [
    "Выведем первые строки датафреймов:"
   ]
  },
  {
   "cell_type": "code",
   "execution_count": 3,
   "id": "dbe41e55",
   "metadata": {},
   "outputs": [
    {
     "name": "stdout",
     "output_type": "stream",
     "text": [
      "   user_id        name  age            city subscription_type\n",
      "0        1        Кира   22          Тюмень             ultra\n",
      "1        2   Станислав   31            Омск             ultra\n",
      "2        3     Алексей   20          Москва             ultra\n",
      "3        4  Константин   26  Ростов-на-Дону             ultra\n",
      "4        5       Адель   28            Омск             ultra\n",
      "\n",
      "   user_id     distance   duration        date\n",
      "0        1  4409.919140  25.599769  2021-01-01\n",
      "1        1  2617.592153  15.816871  2021-01-18\n",
      "2        1   754.159807   6.232113  2021-04-20\n",
      "3        1  2694.783254  18.511000  2021-08-11\n",
      "4        1  4028.687306  26.265803  2021-08-28\n",
      "\n",
      "  subscription_type  minute_price  start_ride_price  subscription_fee\n",
      "0              free             8                50                 0\n",
      "1             ultra             6                 0               199\n"
     ]
    }
   ],
   "source": [
    "print(df_user.head())\n",
    "print()\n",
    "print(df_ride.head())\n",
    "print()\n",
    "print(df_sub.head())"
   ]
  },
  {
   "cell_type": "markdown",
   "id": "6e488dd0",
   "metadata": {},
   "source": [
    "Посмотрим общую информацию и тип данных:"
   ]
  },
  {
   "cell_type": "code",
   "execution_count": 4,
   "id": "a0829c75",
   "metadata": {},
   "outputs": [
    {
     "name": "stdout",
     "output_type": "stream",
     "text": [
      "<class 'pandas.core.frame.DataFrame'>\n",
      "RangeIndex: 1565 entries, 0 to 1564\n",
      "Data columns (total 5 columns):\n",
      " #   Column             Non-Null Count  Dtype \n",
      "---  ------             --------------  ----- \n",
      " 0   user_id            1565 non-null   int64 \n",
      " 1   name               1565 non-null   object\n",
      " 2   age                1565 non-null   int64 \n",
      " 3   city               1565 non-null   object\n",
      " 4   subscription_type  1565 non-null   object\n",
      "dtypes: int64(2), object(3)\n",
      "memory usage: 61.3+ KB\n"
     ]
    },
    {
     "data": {
      "text/html": [
       "<div>\n",
       "<style scoped>\n",
       "    .dataframe tbody tr th:only-of-type {\n",
       "        vertical-align: middle;\n",
       "    }\n",
       "\n",
       "    .dataframe tbody tr th {\n",
       "        vertical-align: top;\n",
       "    }\n",
       "\n",
       "    .dataframe thead th {\n",
       "        text-align: right;\n",
       "    }\n",
       "</style>\n",
       "<table border=\"1\" class=\"dataframe\">\n",
       "  <thead>\n",
       "    <tr style=\"text-align: right;\">\n",
       "      <th></th>\n",
       "      <th>user_id</th>\n",
       "      <th>age</th>\n",
       "    </tr>\n",
       "  </thead>\n",
       "  <tbody>\n",
       "    <tr>\n",
       "      <th>count</th>\n",
       "      <td>1565.000000</td>\n",
       "      <td>1565.000000</td>\n",
       "    </tr>\n",
       "    <tr>\n",
       "      <th>mean</th>\n",
       "      <td>762.633866</td>\n",
       "      <td>24.922045</td>\n",
       "    </tr>\n",
       "    <tr>\n",
       "      <th>std</th>\n",
       "      <td>443.260155</td>\n",
       "      <td>4.553496</td>\n",
       "    </tr>\n",
       "    <tr>\n",
       "      <th>min</th>\n",
       "      <td>1.000000</td>\n",
       "      <td>12.000000</td>\n",
       "    </tr>\n",
       "    <tr>\n",
       "      <th>25%</th>\n",
       "      <td>378.000000</td>\n",
       "      <td>22.000000</td>\n",
       "    </tr>\n",
       "    <tr>\n",
       "      <th>50%</th>\n",
       "      <td>762.000000</td>\n",
       "      <td>25.000000</td>\n",
       "    </tr>\n",
       "    <tr>\n",
       "      <th>75%</th>\n",
       "      <td>1146.000000</td>\n",
       "      <td>28.000000</td>\n",
       "    </tr>\n",
       "    <tr>\n",
       "      <th>max</th>\n",
       "      <td>1534.000000</td>\n",
       "      <td>43.000000</td>\n",
       "    </tr>\n",
       "  </tbody>\n",
       "</table>\n",
       "</div>"
      ],
      "text/plain": [
       "           user_id          age\n",
       "count  1565.000000  1565.000000\n",
       "mean    762.633866    24.922045\n",
       "std     443.260155     4.553496\n",
       "min       1.000000    12.000000\n",
       "25%     378.000000    22.000000\n",
       "50%     762.000000    25.000000\n",
       "75%    1146.000000    28.000000\n",
       "max    1534.000000    43.000000"
      ]
     },
     "execution_count": 4,
     "metadata": {},
     "output_type": "execute_result"
    }
   ],
   "source": [
    "df_user.info()\n",
    "df_user.describe()"
   ]
  },
  {
   "cell_type": "code",
   "execution_count": 5,
   "id": "1aa3f17e",
   "metadata": {},
   "outputs": [
    {
     "name": "stdout",
     "output_type": "stream",
     "text": [
      "<class 'pandas.core.frame.DataFrame'>\n",
      "RangeIndex: 18068 entries, 0 to 18067\n",
      "Data columns (total 4 columns):\n",
      " #   Column    Non-Null Count  Dtype  \n",
      "---  ------    --------------  -----  \n",
      " 0   user_id   18068 non-null  int64  \n",
      " 1   distance  18068 non-null  float64\n",
      " 2   duration  18068 non-null  float64\n",
      " 3   date      18068 non-null  object \n",
      "dtypes: float64(2), int64(1), object(1)\n",
      "memory usage: 564.8+ KB\n"
     ]
    },
    {
     "data": {
      "text/html": [
       "<div>\n",
       "<style scoped>\n",
       "    .dataframe tbody tr th:only-of-type {\n",
       "        vertical-align: middle;\n",
       "    }\n",
       "\n",
       "    .dataframe tbody tr th {\n",
       "        vertical-align: top;\n",
       "    }\n",
       "\n",
       "    .dataframe thead th {\n",
       "        text-align: right;\n",
       "    }\n",
       "</style>\n",
       "<table border=\"1\" class=\"dataframe\">\n",
       "  <thead>\n",
       "    <tr style=\"text-align: right;\">\n",
       "      <th></th>\n",
       "      <th>user_id</th>\n",
       "      <th>distance</th>\n",
       "      <th>duration</th>\n",
       "    </tr>\n",
       "  </thead>\n",
       "  <tbody>\n",
       "    <tr>\n",
       "      <th>count</th>\n",
       "      <td>18068.000000</td>\n",
       "      <td>18068.000000</td>\n",
       "      <td>18068.000000</td>\n",
       "    </tr>\n",
       "    <tr>\n",
       "      <th>mean</th>\n",
       "      <td>842.869936</td>\n",
       "      <td>3070.659976</td>\n",
       "      <td>17.805011</td>\n",
       "    </tr>\n",
       "    <tr>\n",
       "      <th>std</th>\n",
       "      <td>434.734317</td>\n",
       "      <td>1116.831209</td>\n",
       "      <td>6.091051</td>\n",
       "    </tr>\n",
       "    <tr>\n",
       "      <th>min</th>\n",
       "      <td>1.000000</td>\n",
       "      <td>0.855683</td>\n",
       "      <td>0.500000</td>\n",
       "    </tr>\n",
       "    <tr>\n",
       "      <th>25%</th>\n",
       "      <td>487.000000</td>\n",
       "      <td>2543.226360</td>\n",
       "      <td>13.597563</td>\n",
       "    </tr>\n",
       "    <tr>\n",
       "      <th>50%</th>\n",
       "      <td>889.000000</td>\n",
       "      <td>3133.609994</td>\n",
       "      <td>17.678395</td>\n",
       "    </tr>\n",
       "    <tr>\n",
       "      <th>75%</th>\n",
       "      <td>1213.250000</td>\n",
       "      <td>3776.222735</td>\n",
       "      <td>21.724800</td>\n",
       "    </tr>\n",
       "    <tr>\n",
       "      <th>max</th>\n",
       "      <td>1534.000000</td>\n",
       "      <td>7211.007745</td>\n",
       "      <td>40.823963</td>\n",
       "    </tr>\n",
       "  </tbody>\n",
       "</table>\n",
       "</div>"
      ],
      "text/plain": [
       "            user_id      distance      duration\n",
       "count  18068.000000  18068.000000  18068.000000\n",
       "mean     842.869936   3070.659976     17.805011\n",
       "std      434.734317   1116.831209      6.091051\n",
       "min        1.000000      0.855683      0.500000\n",
       "25%      487.000000   2543.226360     13.597563\n",
       "50%      889.000000   3133.609994     17.678395\n",
       "75%     1213.250000   3776.222735     21.724800\n",
       "max     1534.000000   7211.007745     40.823963"
      ]
     },
     "execution_count": 5,
     "metadata": {},
     "output_type": "execute_result"
    }
   ],
   "source": [
    "df_ride.info()\n",
    "df_ride.describe()"
   ]
  },
  {
   "cell_type": "code",
   "execution_count": 6,
   "id": "396a563a",
   "metadata": {},
   "outputs": [
    {
     "name": "stdout",
     "output_type": "stream",
     "text": [
      "<class 'pandas.core.frame.DataFrame'>\n",
      "RangeIndex: 2 entries, 0 to 1\n",
      "Data columns (total 4 columns):\n",
      " #   Column             Non-Null Count  Dtype \n",
      "---  ------             --------------  ----- \n",
      " 0   subscription_type  2 non-null      object\n",
      " 1   minute_price       2 non-null      int64 \n",
      " 2   start_ride_price   2 non-null      int64 \n",
      " 3   subscription_fee   2 non-null      int64 \n",
      "dtypes: int64(3), object(1)\n",
      "memory usage: 192.0+ bytes\n"
     ]
    },
    {
     "data": {
      "text/html": [
       "<div>\n",
       "<style scoped>\n",
       "    .dataframe tbody tr th:only-of-type {\n",
       "        vertical-align: middle;\n",
       "    }\n",
       "\n",
       "    .dataframe tbody tr th {\n",
       "        vertical-align: top;\n",
       "    }\n",
       "\n",
       "    .dataframe thead th {\n",
       "        text-align: right;\n",
       "    }\n",
       "</style>\n",
       "<table border=\"1\" class=\"dataframe\">\n",
       "  <thead>\n",
       "    <tr style=\"text-align: right;\">\n",
       "      <th></th>\n",
       "      <th>minute_price</th>\n",
       "      <th>start_ride_price</th>\n",
       "      <th>subscription_fee</th>\n",
       "    </tr>\n",
       "  </thead>\n",
       "  <tbody>\n",
       "    <tr>\n",
       "      <th>count</th>\n",
       "      <td>2.000000</td>\n",
       "      <td>2.000000</td>\n",
       "      <td>2.000000</td>\n",
       "    </tr>\n",
       "    <tr>\n",
       "      <th>mean</th>\n",
       "      <td>7.000000</td>\n",
       "      <td>25.000000</td>\n",
       "      <td>99.500000</td>\n",
       "    </tr>\n",
       "    <tr>\n",
       "      <th>std</th>\n",
       "      <td>1.414214</td>\n",
       "      <td>35.355339</td>\n",
       "      <td>140.714249</td>\n",
       "    </tr>\n",
       "    <tr>\n",
       "      <th>min</th>\n",
       "      <td>6.000000</td>\n",
       "      <td>0.000000</td>\n",
       "      <td>0.000000</td>\n",
       "    </tr>\n",
       "    <tr>\n",
       "      <th>25%</th>\n",
       "      <td>6.500000</td>\n",
       "      <td>12.500000</td>\n",
       "      <td>49.750000</td>\n",
       "    </tr>\n",
       "    <tr>\n",
       "      <th>50%</th>\n",
       "      <td>7.000000</td>\n",
       "      <td>25.000000</td>\n",
       "      <td>99.500000</td>\n",
       "    </tr>\n",
       "    <tr>\n",
       "      <th>75%</th>\n",
       "      <td>7.500000</td>\n",
       "      <td>37.500000</td>\n",
       "      <td>149.250000</td>\n",
       "    </tr>\n",
       "    <tr>\n",
       "      <th>max</th>\n",
       "      <td>8.000000</td>\n",
       "      <td>50.000000</td>\n",
       "      <td>199.000000</td>\n",
       "    </tr>\n",
       "  </tbody>\n",
       "</table>\n",
       "</div>"
      ],
      "text/plain": [
       "       minute_price  start_ride_price  subscription_fee\n",
       "count      2.000000          2.000000          2.000000\n",
       "mean       7.000000         25.000000         99.500000\n",
       "std        1.414214         35.355339        140.714249\n",
       "min        6.000000          0.000000          0.000000\n",
       "25%        6.500000         12.500000         49.750000\n",
       "50%        7.000000         25.000000         99.500000\n",
       "75%        7.500000         37.500000        149.250000\n",
       "max        8.000000         50.000000        199.000000"
      ]
     },
     "execution_count": 6,
     "metadata": {},
     "output_type": "execute_result"
    }
   ],
   "source": [
    "df_sub.info()\n",
    "df_sub.describe()"
   ]
  },
  {
   "cell_type": "markdown",
   "id": "85a38bd6",
   "metadata": {},
   "source": [
    "Данные загрузились и считались почти нормально, отрицательных значений нет. Исключение столбец - date в df_ride. Он считался как строковый тип данных, на этапе предобработки надо будет это исправить на datetime."
   ]
  },
  {
   "cell_type": "markdown",
   "id": "e95ebca7",
   "metadata": {},
   "source": [
    "#### Шаг 2. Предобработка данных"
   ]
  },
  {
   "cell_type": "markdown",
   "id": "507c8f26",
   "metadata": {},
   "source": [
    "##### Смена типа данных в столбце date df_user"
   ]
  },
  {
   "cell_type": "code",
   "execution_count": 7,
   "id": "af6d202c",
   "metadata": {},
   "outputs": [
    {
     "name": "stdout",
     "output_type": "stream",
     "text": [
      "datetime64[ns]\n"
     ]
    }
   ],
   "source": [
    "# изменим тип данных в 'date' со строкового на datetime\n",
    "df_ride['date'] = pd.to_datetime(df_ride['date'], format='%Y-%m-%d')\n",
    "#проверим\n",
    "print(df_ride['date'].dtypes)"
   ]
  },
  {
   "cell_type": "markdown",
   "id": "92789083",
   "metadata": {},
   "source": [
    "##### Создание столбца с номером месяца"
   ]
  },
  {
   "cell_type": "code",
   "execution_count": 8,
   "id": "527656cb",
   "metadata": {},
   "outputs": [
    {
     "data": {
      "text/html": [
       "<div>\n",
       "<style scoped>\n",
       "    .dataframe tbody tr th:only-of-type {\n",
       "        vertical-align: middle;\n",
       "    }\n",
       "\n",
       "    .dataframe tbody tr th {\n",
       "        vertical-align: top;\n",
       "    }\n",
       "\n",
       "    .dataframe thead th {\n",
       "        text-align: right;\n",
       "    }\n",
       "</style>\n",
       "<table border=\"1\" class=\"dataframe\">\n",
       "  <thead>\n",
       "    <tr style=\"text-align: right;\">\n",
       "      <th></th>\n",
       "      <th>user_id</th>\n",
       "      <th>distance</th>\n",
       "      <th>duration</th>\n",
       "      <th>date</th>\n",
       "      <th>month</th>\n",
       "    </tr>\n",
       "  </thead>\n",
       "  <tbody>\n",
       "    <tr>\n",
       "      <th>0</th>\n",
       "      <td>1</td>\n",
       "      <td>4409.919140</td>\n",
       "      <td>25.599769</td>\n",
       "      <td>2021-01-01</td>\n",
       "      <td>1</td>\n",
       "    </tr>\n",
       "    <tr>\n",
       "      <th>1</th>\n",
       "      <td>1</td>\n",
       "      <td>2617.592153</td>\n",
       "      <td>15.816871</td>\n",
       "      <td>2021-01-18</td>\n",
       "      <td>1</td>\n",
       "    </tr>\n",
       "    <tr>\n",
       "      <th>2</th>\n",
       "      <td>1</td>\n",
       "      <td>754.159807</td>\n",
       "      <td>6.232113</td>\n",
       "      <td>2021-04-20</td>\n",
       "      <td>4</td>\n",
       "    </tr>\n",
       "    <tr>\n",
       "      <th>3</th>\n",
       "      <td>1</td>\n",
       "      <td>2694.783254</td>\n",
       "      <td>18.511000</td>\n",
       "      <td>2021-08-11</td>\n",
       "      <td>8</td>\n",
       "    </tr>\n",
       "    <tr>\n",
       "      <th>4</th>\n",
       "      <td>1</td>\n",
       "      <td>4028.687306</td>\n",
       "      <td>26.265803</td>\n",
       "      <td>2021-08-28</td>\n",
       "      <td>8</td>\n",
       "    </tr>\n",
       "  </tbody>\n",
       "</table>\n",
       "</div>"
      ],
      "text/plain": [
       "   user_id     distance   duration       date  month\n",
       "0        1  4409.919140  25.599769 2021-01-01      1\n",
       "1        1  2617.592153  15.816871 2021-01-18      1\n",
       "2        1   754.159807   6.232113 2021-04-20      4\n",
       "3        1  2694.783254  18.511000 2021-08-11      8\n",
       "4        1  4028.687306  26.265803 2021-08-28      8"
      ]
     },
     "execution_count": 8,
     "metadata": {},
     "output_type": "execute_result"
    }
   ],
   "source": [
    "# cоздадим новый столбец с номером месяца на основе столбца date\n",
    "df_ride['month'] = df_ride.date.dt.month\n",
    "#проверим\n",
    "df_ride.head()"
   ]
  },
  {
   "cell_type": "markdown",
   "id": "2959bad2",
   "metadata": {},
   "source": [
    "##### Дубликаты и пропуски"
   ]
  },
  {
   "cell_type": "markdown",
   "id": "18dbe53c",
   "metadata": {},
   "source": [
    "###### df_user"
   ]
  },
  {
   "cell_type": "markdown",
   "id": "6e3a72c4",
   "metadata": {},
   "source": [
    "Проверим наличие дубликатов и пропусков в df_user:"
   ]
  },
  {
   "cell_type": "code",
   "execution_count": 9,
   "id": "22e6154d",
   "metadata": {},
   "outputs": [
    {
     "name": "stdout",
     "output_type": "stream",
     "text": [
      "Количество явных дубликатов в df_user 31\n",
      "Количество пропусков в столбцах df_user user_id              0\n",
      "name                 0\n",
      "age                  0\n",
      "city                 0\n",
      "subscription_type    0\n",
      "dtype: int64\n"
     ]
    }
   ],
   "source": [
    "print('Количество явных дубликатов в df_user', df_user.duplicated().sum())\n",
    "print('Количество пропусков в столбцах df_user', df_user.isnull().sum())"
   ]
  },
  {
   "cell_type": "markdown",
   "id": "170fbd9f",
   "metadata": {},
   "source": [
    "Пропусков нет, но явных дубликатов - 31, удалим их:"
   ]
  },
  {
   "cell_type": "code",
   "execution_count": 10,
   "id": "239136ee",
   "metadata": {},
   "outputs": [
    {
     "name": "stdout",
     "output_type": "stream",
     "text": [
      "Количество явных дубликатов в df_user: 0\n"
     ]
    }
   ],
   "source": [
    "df_user = df_user.drop_duplicates()\n",
    "print('Количество явных дубликатов в df_user:', df_user.duplicated().sum())"
   ]
  },
  {
   "cell_type": "markdown",
   "id": "2eeac842",
   "metadata": {},
   "source": [
    "На всякий случай, посмотрим названия городов в столбце city:"
   ]
  },
  {
   "cell_type": "code",
   "execution_count": 11,
   "id": "916c7c3b",
   "metadata": {},
   "outputs": [
    {
     "name": "stdout",
     "output_type": "stream",
     "text": [
      "['Тюмень' 'Омск' 'Москва' 'Ростов-на-Дону' 'Краснодар' 'Пятигорск'\n",
      " 'Екатеринбург' 'Сочи']\n"
     ]
    }
   ],
   "source": [
    "print(df_user['city'].unique())"
   ]
  },
  {
   "cell_type": "markdown",
   "id": "ca685800",
   "metadata": {},
   "source": [
    "Похоже, города заполнены верно. Перейдем к следующему дф."
   ]
  },
  {
   "cell_type": "markdown",
   "id": "3fa1b096",
   "metadata": {},
   "source": [
    "###### df_ride"
   ]
  },
  {
   "cell_type": "code",
   "execution_count": 12,
   "id": "9154fee7",
   "metadata": {},
   "outputs": [
    {
     "name": "stdout",
     "output_type": "stream",
     "text": [
      "Количество явных дубликатов в df_ride 0\n",
      "Количество пропусков в столбцах df_ride: user_id     0\n",
      "distance    0\n",
      "duration    0\n",
      "date        0\n",
      "month       0\n",
      "dtype: int64\n"
     ]
    }
   ],
   "source": [
    "print('Количество явных дубликатов в df_ride', df_ride.duplicated().sum())\n",
    "print('Количество пропусков в столбцах df_ride:', df_ride.isnull().sum())"
   ]
  },
  {
   "cell_type": "markdown",
   "id": "1c877fda",
   "metadata": {},
   "source": [
    "Пропусков и дубликатов нет, отрицательные значения мы проверили ранее. Хорошо, идем дальше."
   ]
  },
  {
   "cell_type": "markdown",
   "id": "f46a8a11",
   "metadata": {},
   "source": [
    "###### df_sub"
   ]
  },
  {
   "cell_type": "code",
   "execution_count": 13,
   "id": "a153e48f",
   "metadata": {},
   "outputs": [
    {
     "name": "stdout",
     "output_type": "stream",
     "text": [
      "Количество явных дубликатов в df_sub 0\n",
      "Количество пропусков в столбцах df_sub: subscription_type    0\n",
      "minute_price         0\n",
      "start_ride_price     0\n",
      "subscription_fee     0\n",
      "dtype: int64\n"
     ]
    }
   ],
   "source": [
    "print('Количество явных дубликатов в df_sub', df_sub.duplicated().sum())\n",
    "print('Количество пропусков в столбцах df_sub:', df_sub.isnull().sum())"
   ]
  },
  {
   "cell_type": "markdown",
   "id": "c096c186",
   "metadata": {},
   "source": [
    "Пропусков и дубликатов нет, проверим столбцы дф на наличие странных и ошибочных значений:"
   ]
  },
  {
   "cell_type": "code",
   "execution_count": 14,
   "id": "1c41bb34",
   "metadata": {},
   "outputs": [
    {
     "name": "stdout",
     "output_type": "stream",
     "text": [
      "Уникальные значения в столбце 'subscription_type': ['free' 'ultra']\n",
      "Уникальные значения в столбце 'minute_price': [8 6]\n",
      "Уникальные значения в столбце 'start_ride_price': [50  0]\n",
      "Уникальные значения в столбце 'subscription_fee': [  0 199]\n"
     ]
    }
   ],
   "source": [
    "for column in df_sub.columns:\n",
    "    unique_values = df_sub[column].unique()\n",
    "    print(f\"Уникальные значения в столбце '{column}': {unique_values}\")"
   ]
  },
  {
   "cell_type": "markdown",
   "id": "d930f16a",
   "metadata": {},
   "source": [
    "Похоже, все соответствует заданию, перейдём к исследовательскому анализу данных:"
   ]
  },
  {
   "cell_type": "markdown",
   "id": "212593c7",
   "metadata": {},
   "source": [
    "#### Шаг 3. Исследовательский анализ данных"
   ]
  },
  {
   "cell_type": "markdown",
   "id": "f98b261d",
   "metadata": {},
   "source": [
    "##### Частота встречаемости городов:"
   ]
  },
  {
   "cell_type": "markdown",
   "id": "ad7f2099",
   "metadata": {},
   "source": [
    "построим таблицу:"
   ]
  },
  {
   "cell_type": "code",
   "execution_count": 15,
   "id": "bde423f3",
   "metadata": {},
   "outputs": [
    {
     "name": "stdout",
     "output_type": "stream",
     "text": [
      "city\n",
      "Пятигорск         219\n",
      "Екатеринбург      204\n",
      "Ростов-на-Дону    198\n",
      "Краснодар         193\n",
      "Сочи              189\n",
      "Омск              183\n",
      "Тюмень            180\n",
      "Москва            168\n",
      "Name: user_id, dtype: int64\n"
     ]
    }
   ],
   "source": [
    "city_frequency = df_user.groupby('city')['user_id'].count()\n",
    "city_frequency = city_frequency.sort_values(ascending=False)\n",
    "print(city_frequency)"
   ]
  },
  {
   "cell_type": "markdown",
   "id": "e986218b",
   "metadata": {},
   "source": [
    "Построим столбчатую диаграмму, здесь она будет наиболее наглядно демонстрировать результат:"
   ]
  },
  {
   "cell_type": "code",
   "execution_count": 16,
   "id": "7ffbea7a",
   "metadata": {},
   "outputs": [
    {
     "data": {
      "image/png": "[encoded data removed]",
      "text/plain": [
       "<Figure size 720x360 with 1 Axes>"
      ]
     },
     "metadata": {
      "needs_background": "light"
     },
     "output_type": "display_data"
    }
   ],
   "source": [
    "city_frequency.plot(x = 'city', kind = 'bar', figsize=(10, 5), color = 'green', edgecolor = 'brown', label = 'Количество пользователей')\n",
    "plt.xlabel('Города')\n",
    "plt.ylabel('Количество пользователей')\n",
    "plt.title('Частота встречаемости городов')\n",
    "plt.legend()\n",
    "plt.show()"
   ]
  },
  {
   "cell_type": "markdown",
   "id": "26c4a058",
   "metadata": {},
   "source": [
    "Вывод довольно неожиданный... Несмотря на явную разницу в количестве населения, Пятигорск находится на первом месте, Москва на последнем. Всего городов представлено 8."
   ]
  },
  {
   "cell_type": "markdown",
   "id": "b6e8d839",
   "metadata": {},
   "source": [
    "##### Cоотношение пользователей с подпиской и без подписки"
   ]
  },
  {
   "cell_type": "markdown",
   "id": "f172b42c",
   "metadata": {},
   "source": [
    "Построим сводную таблицу:"
   ]
  },
  {
   "cell_type": "code",
   "execution_count": 17,
   "id": "466b9063",
   "metadata": {},
   "outputs": [
    {
     "name": "stdout",
     "output_type": "stream",
     "text": [
      "subscription_type\n",
      "free     835\n",
      "ultra    699\n",
      "Name: user_id, dtype: int64\n"
     ]
    }
   ],
   "source": [
    "subs_frequency = df_user.groupby('subscription_type')['user_id'].count()\n",
    "print(subs_frequency)"
   ]
  },
  {
   "cell_type": "markdown",
   "id": "1f4df243",
   "metadata": {},
   "source": [
    "Построим круговую диаграмму, здесь она будет наглядной:"
   ]
  },
  {
   "cell_type": "code",
   "execution_count": 18,
   "id": "5344e32c",
   "metadata": {},
   "outputs": [
    {
     "data": {
      "image/png": "[encoded data removed]",
      "text/plain": [
       "<Figure size 360x360 with 1 Axes>"
      ]
     },
     "metadata": {},
     "output_type": "display_data"
    }
   ],
   "source": [
    "subs_frequency.plot(kind = 'pie', figsize=(5, 5), autopct='%1.1f%%')\n",
    "plt.title('Соотношение пользователей с подпиской (ultra) и без (free)')\n",
    "plt.legend()\n",
    "plt.show()"
   ]
  },
  {
   "cell_type": "markdown",
   "id": "16bae322",
   "metadata": {},
   "source": [
    "Пользователей с подпиской немного меньше чем без неё."
   ]
  },
  {
   "cell_type": "markdown",
   "id": "8d5856bf",
   "metadata": {},
   "source": [
    "##### Возраст пользователей"
   ]
  },
  {
   "cell_type": "code",
   "execution_count": 19,
   "id": "d13a4182",
   "metadata": {},
   "outputs": [
    {
     "data": {
      "image/png": "[encoded data removed]",
      "text/plain": [
       "<Figure size 720x360 with 1 Axes>"
      ]
     },
     "metadata": {
      "needs_background": "light"
     },
     "output_type": "display_data"
    },
    {
     "data": {
      "text/plain": [
       "count    1534.000000\n",
       "mean       24.903520\n",
       "std         4.572367\n",
       "min        12.000000\n",
       "25%        22.000000\n",
       "50%        25.000000\n",
       "75%        28.000000\n",
       "max        43.000000\n",
       "Name: age, dtype: float64"
      ]
     },
     "execution_count": 19,
     "metadata": {},
     "output_type": "execute_result"
    }
   ],
   "source": [
    "df_user['age'].hist(grid=True, figsize = (10,5), bins = 30, color = 'lightgreen', edgecolor='green', label = 'Возраст пользователей')\n",
    "plt.xlabel('возраст')\n",
    "plt.ylabel('количество пользователей')\n",
    "plt.show()\n",
    "df_user['age'].describe()"
   ]
  },
  {
   "cell_type": "markdown",
   "id": "9ce4f5d4",
   "metadata": {},
   "source": [
    "Данные по возрасту распределены нормально, выбросов не видно, что подтверждается гистограммой и близкими значениями медианы и среднего (~25 лет)."
   ]
  },
  {
   "cell_type": "markdown",
   "id": "1effd0fd",
   "metadata": {},
   "source": [
    "##### Расстояние, которое пользователь преодолел за одну поездку"
   ]
  },
  {
   "cell_type": "code",
   "execution_count": 20,
   "id": "579cacce",
   "metadata": {},
   "outputs": [
    {
     "data": {
      "image/png": "[encoded data removed]",
      "text/plain": [
       "<Figure size 720x360 with 1 Axes>"
      ]
     },
     "metadata": {
      "needs_background": "light"
     },
     "output_type": "display_data"
    },
    {
     "data": {
      "text/plain": [
       "count    18068.000000\n",
       "mean      3070.659976\n",
       "std       1116.831209\n",
       "min          0.855683\n",
       "25%       2543.226360\n",
       "50%       3133.609994\n",
       "75%       3776.222735\n",
       "max       7211.007745\n",
       "Name: distance, dtype: float64"
      ]
     },
     "execution_count": 20,
     "metadata": {},
     "output_type": "execute_result"
    }
   ],
   "source": [
    "df_ride['distance'].hist(grid=True, color = 'purple', edgecolor = 'blue', figsize = (10,5), bins = 50)\n",
    "plt.title('Расстояние одной поездки')\n",
    "plt.xlabel('расстояние, м')\n",
    "plt.ylabel('количество пользователей')\n",
    "plt.show()\n",
    "df_ride['distance'].describe()"
   ]
  },
  {
   "cell_type": "markdown",
   "id": "28fa288b",
   "metadata": {},
   "source": [
    "Среднее расстояние большинства поездок составляет около 3-х км. Имеется всплеск около 600м, но из-за того что он небольшой, назвать распределением бимодальным нельзя. Поездки на 3 км - вероятно, это прогулки, а вот 500-600 м скорее похоже на способ добраться до метро."
   ]
  },
  {
   "cell_type": "markdown",
   "id": "dcd49ff4",
   "metadata": {},
   "source": [
    "##### Продолжительность поездок"
   ]
  },
  {
   "cell_type": "code",
   "execution_count": 21,
   "id": "b04e8d19",
   "metadata": {},
   "outputs": [
    {
     "data": {
      "image/png": "[encoded data removed]",
      "text/plain": [
       "<Figure size 720x360 with 1 Axes>"
      ]
     },
     "metadata": {
      "needs_background": "light"
     },
     "output_type": "display_data"
    },
    {
     "data": {
      "text/plain": [
       "count    18068.000000\n",
       "mean        17.805011\n",
       "std          6.091051\n",
       "min          0.500000\n",
       "25%         13.597563\n",
       "50%         17.678395\n",
       "75%         21.724800\n",
       "max         40.823963\n",
       "Name: duration, dtype: float64"
      ]
     },
     "execution_count": 21,
     "metadata": {},
     "output_type": "execute_result"
    }
   ],
   "source": [
    "df_ride['duration'].hist(grid=True, figsize = (10,5), color = 'pink', edgecolor = 'blue', bins = 50)\n",
    "plt.title('Продолжительность одной поездки')\n",
    "plt.xlabel('время, мин')\n",
    "plt.ylabel('количество пользователей')\n",
    "plt.show()\n",
    "df_ride['duration'].describe()"
   ]
  },
  {
   "cell_type": "markdown",
   "id": "5ce20935",
   "metadata": {},
   "source": [
    "Данные распределены нормально, среднее время поездки составляет около 15-20 минут."
   ]
  },
  {
   "cell_type": "markdown",
   "id": "dfba12be",
   "metadata": {},
   "source": [
    "Странный выброс в районе менее 1 минуты. Посмотрим на эти строки:"
   ]
  },
  {
   "cell_type": "code",
   "execution_count": 22,
   "id": "3abdbfc5",
   "metadata": {},
   "outputs": [
    {
     "name": "stdout",
     "output_type": "stream",
     "text": [
      "       user_id     distance  duration       date  month\n",
      "6531       701  4196.445201       0.5 2021-08-31      8\n",
      "6570       704  4830.824371       0.5 2021-10-14     10\n",
      "6680       712  4684.004397       0.5 2021-03-04      3\n",
      "6695       713  5215.642710       0.5 2021-02-25      2\n",
      "6768       718  5197.436649       0.5 2021-02-11      2\n",
      "...        ...          ...       ...        ...    ...\n",
      "17004     1460  5531.335845       0.5 2021-01-19      1\n",
      "17242     1477  6724.932981       0.5 2021-01-12      1\n",
      "17314     1483  4445.481070       0.5 2021-03-06      3\n",
      "17505     1496  5722.551787       0.5 2021-02-14      2\n",
      "17909     1524  4103.998874       0.5 2021-06-18      6\n",
      "\n",
      "[95 rows x 5 columns]\n"
     ]
    }
   ],
   "source": [
    "print(df_ride[df_ride['duration']<1])"
   ]
  },
  {
   "cell_type": "markdown",
   "id": "d245c819",
   "metadata": {},
   "source": [
    "По всей видимости имеет место какая-то техническая ошибка. Дистанция 4-7 км за 30 секунд. Это почти 840 км/ч. Вряд ли самокат выдает такие характеристики. Таких данных почти 100 строк, надо сообщить об этом коллегам занимающимся регистрацией и снятием данных."
   ]
  },
  {
   "cell_type": "markdown",
   "id": "4ef51331",
   "metadata": {},
   "source": [
    "#### Шаг 4. Объединение данных"
   ]
  },
  {
   "cell_type": "markdown",
   "id": "af32bddc",
   "metadata": {},
   "source": [
    "##### Объединим все в один дф"
   ]
  },
  {
   "cell_type": "code",
   "execution_count": 23,
   "id": "ba885773",
   "metadata": {},
   "outputs": [
    {
     "data": {
      "text/html": [
       "<div>\n",
       "<style scoped>\n",
       "    .dataframe tbody tr th:only-of-type {\n",
       "        vertical-align: middle;\n",
       "    }\n",
       "\n",
       "    .dataframe tbody tr th {\n",
       "        vertical-align: top;\n",
       "    }\n",
       "\n",
       "    .dataframe thead th {\n",
       "        text-align: right;\n",
       "    }\n",
       "</style>\n",
       "<table border=\"1\" class=\"dataframe\">\n",
       "  <thead>\n",
       "    <tr style=\"text-align: right;\">\n",
       "      <th></th>\n",
       "      <th>user_id</th>\n",
       "      <th>distance</th>\n",
       "      <th>duration</th>\n",
       "      <th>date</th>\n",
       "      <th>month</th>\n",
       "      <th>name</th>\n",
       "      <th>age</th>\n",
       "      <th>city</th>\n",
       "      <th>subscription_type</th>\n",
       "      <th>minute_price</th>\n",
       "      <th>start_ride_price</th>\n",
       "      <th>subscription_fee</th>\n",
       "    </tr>\n",
       "  </thead>\n",
       "  <tbody>\n",
       "    <tr>\n",
       "      <th>0</th>\n",
       "      <td>1</td>\n",
       "      <td>4409.919140</td>\n",
       "      <td>25.599769</td>\n",
       "      <td>2021-01-01</td>\n",
       "      <td>1</td>\n",
       "      <td>Кира</td>\n",
       "      <td>22</td>\n",
       "      <td>Тюмень</td>\n",
       "      <td>ultra</td>\n",
       "      <td>6</td>\n",
       "      <td>0</td>\n",
       "      <td>199</td>\n",
       "    </tr>\n",
       "    <tr>\n",
       "      <th>1</th>\n",
       "      <td>1</td>\n",
       "      <td>2617.592153</td>\n",
       "      <td>15.816871</td>\n",
       "      <td>2021-01-18</td>\n",
       "      <td>1</td>\n",
       "      <td>Кира</td>\n",
       "      <td>22</td>\n",
       "      <td>Тюмень</td>\n",
       "      <td>ultra</td>\n",
       "      <td>6</td>\n",
       "      <td>0</td>\n",
       "      <td>199</td>\n",
       "    </tr>\n",
       "    <tr>\n",
       "      <th>2</th>\n",
       "      <td>1</td>\n",
       "      <td>754.159807</td>\n",
       "      <td>6.232113</td>\n",
       "      <td>2021-04-20</td>\n",
       "      <td>4</td>\n",
       "      <td>Кира</td>\n",
       "      <td>22</td>\n",
       "      <td>Тюмень</td>\n",
       "      <td>ultra</td>\n",
       "      <td>6</td>\n",
       "      <td>0</td>\n",
       "      <td>199</td>\n",
       "    </tr>\n",
       "    <tr>\n",
       "      <th>3</th>\n",
       "      <td>1</td>\n",
       "      <td>2694.783254</td>\n",
       "      <td>18.511000</td>\n",
       "      <td>2021-08-11</td>\n",
       "      <td>8</td>\n",
       "      <td>Кира</td>\n",
       "      <td>22</td>\n",
       "      <td>Тюмень</td>\n",
       "      <td>ultra</td>\n",
       "      <td>6</td>\n",
       "      <td>0</td>\n",
       "      <td>199</td>\n",
       "    </tr>\n",
       "    <tr>\n",
       "      <th>4</th>\n",
       "      <td>1</td>\n",
       "      <td>4028.687306</td>\n",
       "      <td>26.265803</td>\n",
       "      <td>2021-08-28</td>\n",
       "      <td>8</td>\n",
       "      <td>Кира</td>\n",
       "      <td>22</td>\n",
       "      <td>Тюмень</td>\n",
       "      <td>ultra</td>\n",
       "      <td>6</td>\n",
       "      <td>0</td>\n",
       "      <td>199</td>\n",
       "    </tr>\n",
       "    <tr>\n",
       "      <th>...</th>\n",
       "      <td>...</td>\n",
       "      <td>...</td>\n",
       "      <td>...</td>\n",
       "      <td>...</td>\n",
       "      <td>...</td>\n",
       "      <td>...</td>\n",
       "      <td>...</td>\n",
       "      <td>...</td>\n",
       "      <td>...</td>\n",
       "      <td>...</td>\n",
       "      <td>...</td>\n",
       "      <td>...</td>\n",
       "    </tr>\n",
       "    <tr>\n",
       "      <th>18063</th>\n",
       "      <td>1534</td>\n",
       "      <td>3781.098080</td>\n",
       "      <td>19.822962</td>\n",
       "      <td>2021-11-04</td>\n",
       "      <td>11</td>\n",
       "      <td>Альберт</td>\n",
       "      <td>25</td>\n",
       "      <td>Краснодар</td>\n",
       "      <td>free</td>\n",
       "      <td>8</td>\n",
       "      <td>50</td>\n",
       "      <td>0</td>\n",
       "    </tr>\n",
       "    <tr>\n",
       "      <th>18064</th>\n",
       "      <td>1534</td>\n",
       "      <td>2840.423057</td>\n",
       "      <td>21.409799</td>\n",
       "      <td>2021-11-16</td>\n",
       "      <td>11</td>\n",
       "      <td>Альберт</td>\n",
       "      <td>25</td>\n",
       "      <td>Краснодар</td>\n",
       "      <td>free</td>\n",
       "      <td>8</td>\n",
       "      <td>50</td>\n",
       "      <td>0</td>\n",
       "    </tr>\n",
       "    <tr>\n",
       "      <th>18065</th>\n",
       "      <td>1534</td>\n",
       "      <td>3826.185507</td>\n",
       "      <td>18.435051</td>\n",
       "      <td>2021-11-18</td>\n",
       "      <td>11</td>\n",
       "      <td>Альберт</td>\n",
       "      <td>25</td>\n",
       "      <td>Краснодар</td>\n",
       "      <td>free</td>\n",
       "      <td>8</td>\n",
       "      <td>50</td>\n",
       "      <td>0</td>\n",
       "    </tr>\n",
       "    <tr>\n",
       "      <th>18066</th>\n",
       "      <td>1534</td>\n",
       "      <td>2902.308661</td>\n",
       "      <td>16.674362</td>\n",
       "      <td>2021-11-27</td>\n",
       "      <td>11</td>\n",
       "      <td>Альберт</td>\n",
       "      <td>25</td>\n",
       "      <td>Краснодар</td>\n",
       "      <td>free</td>\n",
       "      <td>8</td>\n",
       "      <td>50</td>\n",
       "      <td>0</td>\n",
       "    </tr>\n",
       "    <tr>\n",
       "      <th>18067</th>\n",
       "      <td>1534</td>\n",
       "      <td>2371.711192</td>\n",
       "      <td>15.893917</td>\n",
       "      <td>2021-12-29</td>\n",
       "      <td>12</td>\n",
       "      <td>Альберт</td>\n",
       "      <td>25</td>\n",
       "      <td>Краснодар</td>\n",
       "      <td>free</td>\n",
       "      <td>8</td>\n",
       "      <td>50</td>\n",
       "      <td>0</td>\n",
       "    </tr>\n",
       "  </tbody>\n",
       "</table>\n",
       "<p>18068 rows × 12 columns</p>\n",
       "</div>"
      ],
      "text/plain": [
       "       user_id     distance   duration       date  month     name  age  \\\n",
       "0            1  4409.919140  25.599769 2021-01-01      1     Кира   22   \n",
       "1            1  2617.592153  15.816871 2021-01-18      1     Кира   22   \n",
       "2            1   754.159807   6.232113 2021-04-20      4     Кира   22   \n",
       "3            1  2694.783254  18.511000 2021-08-11      8     Кира   22   \n",
       "4            1  4028.687306  26.265803 2021-08-28      8     Кира   22   \n",
       "...        ...          ...        ...        ...    ...      ...  ...   \n",
       "18063     1534  3781.098080  19.822962 2021-11-04     11  Альберт   25   \n",
       "18064     1534  2840.423057  21.409799 2021-11-16     11  Альберт   25   \n",
       "18065     1534  3826.185507  18.435051 2021-11-18     11  Альберт   25   \n",
       "18066     1534  2902.308661  16.674362 2021-11-27     11  Альберт   25   \n",
       "18067     1534  2371.711192  15.893917 2021-12-29     12  Альберт   25   \n",
       "\n",
       "            city subscription_type  minute_price  start_ride_price  \\\n",
       "0         Тюмень             ultra             6                 0   \n",
       "1         Тюмень             ultra             6                 0   \n",
       "2         Тюмень             ultra             6                 0   \n",
       "3         Тюмень             ultra             6                 0   \n",
       "4         Тюмень             ultra             6                 0   \n",
       "...          ...               ...           ...               ...   \n",
       "18063  Краснодар              free             8                50   \n",
       "18064  Краснодар              free             8                50   \n",
       "18065  Краснодар              free             8                50   \n",
       "18066  Краснодар              free             8                50   \n",
       "18067  Краснодар              free             8                50   \n",
       "\n",
       "       subscription_fee  \n",
       "0                   199  \n",
       "1                   199  \n",
       "2                   199  \n",
       "3                   199  \n",
       "4                   199  \n",
       "...                 ...  \n",
       "18063                 0  \n",
       "18064                 0  \n",
       "18065                 0  \n",
       "18066                 0  \n",
       "18067                 0  \n",
       "\n",
       "[18068 rows x 12 columns]"
      ]
     },
     "metadata": {},
     "output_type": "display_data"
    }
   ],
   "source": [
    "df_mrg = df_ride.copy() # на всякий случай сделаем копию\n",
    "df_mrg = df_mrg.merge(df_user, how = 'left', on = 'user_id' )\n",
    "df_mrg = df_mrg.merge(df_sub, how = 'left', on='subscription_type')\n",
    "display(df_mrg) # посмотрим, что получилось. В отличие от print() выводит данные более читаемо"
   ]
  },
  {
   "cell_type": "markdown",
   "id": "fd775fb3",
   "metadata": {},
   "source": [
    "Похоже, все более-менее склеилось."
   ]
  },
  {
   "cell_type": "markdown",
   "id": "3940178a",
   "metadata": {},
   "source": [
    "##### Создание дф в зависимости от наличия подписки"
   ]
  },
  {
   "cell_type": "markdown",
   "id": "f353d9bc",
   "metadata": {},
   "source": [
    "###### Без подписки"
   ]
  },
  {
   "cell_type": "code",
   "execution_count": 24,
   "id": "486c429e",
   "metadata": {},
   "outputs": [
    {
     "data": {
      "text/html": [
       "<div>\n",
       "<style scoped>\n",
       "    .dataframe tbody tr th:only-of-type {\n",
       "        vertical-align: middle;\n",
       "    }\n",
       "\n",
       "    .dataframe tbody tr th {\n",
       "        vertical-align: top;\n",
       "    }\n",
       "\n",
       "    .dataframe thead th {\n",
       "        text-align: right;\n",
       "    }\n",
       "</style>\n",
       "<table border=\"1\" class=\"dataframe\">\n",
       "  <thead>\n",
       "    <tr style=\"text-align: right;\">\n",
       "      <th></th>\n",
       "      <th>user_id</th>\n",
       "      <th>distance</th>\n",
       "      <th>duration</th>\n",
       "      <th>date</th>\n",
       "      <th>month</th>\n",
       "      <th>name</th>\n",
       "      <th>age</th>\n",
       "      <th>city</th>\n",
       "      <th>subscription_type</th>\n",
       "      <th>minute_price</th>\n",
       "      <th>start_ride_price</th>\n",
       "      <th>subscription_fee</th>\n",
       "    </tr>\n",
       "  </thead>\n",
       "  <tbody>\n",
       "    <tr>\n",
       "      <th>6500</th>\n",
       "      <td>700</td>\n",
       "      <td>2515.690719</td>\n",
       "      <td>14.944286</td>\n",
       "      <td>2021-01-02</td>\n",
       "      <td>1</td>\n",
       "      <td>Айдар</td>\n",
       "      <td>22</td>\n",
       "      <td>Омск</td>\n",
       "      <td>free</td>\n",
       "      <td>8</td>\n",
       "      <td>50</td>\n",
       "      <td>0</td>\n",
       "    </tr>\n",
       "    <tr>\n",
       "      <th>6501</th>\n",
       "      <td>700</td>\n",
       "      <td>846.932642</td>\n",
       "      <td>16.234663</td>\n",
       "      <td>2021-02-01</td>\n",
       "      <td>2</td>\n",
       "      <td>Айдар</td>\n",
       "      <td>22</td>\n",
       "      <td>Омск</td>\n",
       "      <td>free</td>\n",
       "      <td>8</td>\n",
       "      <td>50</td>\n",
       "      <td>0</td>\n",
       "    </tr>\n",
       "    <tr>\n",
       "      <th>6502</th>\n",
       "      <td>700</td>\n",
       "      <td>4004.434142</td>\n",
       "      <td>20.016628</td>\n",
       "      <td>2021-02-04</td>\n",
       "      <td>2</td>\n",
       "      <td>Айдар</td>\n",
       "      <td>22</td>\n",
       "      <td>Омск</td>\n",
       "      <td>free</td>\n",
       "      <td>8</td>\n",
       "      <td>50</td>\n",
       "      <td>0</td>\n",
       "    </tr>\n",
       "    <tr>\n",
       "      <th>6503</th>\n",
       "      <td>700</td>\n",
       "      <td>1205.911290</td>\n",
       "      <td>9.782872</td>\n",
       "      <td>2021-02-10</td>\n",
       "      <td>2</td>\n",
       "      <td>Айдар</td>\n",
       "      <td>22</td>\n",
       "      <td>Омск</td>\n",
       "      <td>free</td>\n",
       "      <td>8</td>\n",
       "      <td>50</td>\n",
       "      <td>0</td>\n",
       "    </tr>\n",
       "    <tr>\n",
       "      <th>6504</th>\n",
       "      <td>700</td>\n",
       "      <td>3047.379435</td>\n",
       "      <td>17.427673</td>\n",
       "      <td>2021-02-14</td>\n",
       "      <td>2</td>\n",
       "      <td>Айдар</td>\n",
       "      <td>22</td>\n",
       "      <td>Омск</td>\n",
       "      <td>free</td>\n",
       "      <td>8</td>\n",
       "      <td>50</td>\n",
       "      <td>0</td>\n",
       "    </tr>\n",
       "  </tbody>\n",
       "</table>\n",
       "</div>"
      ],
      "text/plain": [
       "      user_id     distance   duration       date  month   name  age  city  \\\n",
       "6500      700  2515.690719  14.944286 2021-01-02      1  Айдар   22  Омск   \n",
       "6501      700   846.932642  16.234663 2021-02-01      2  Айдар   22  Омск   \n",
       "6502      700  4004.434142  20.016628 2021-02-04      2  Айдар   22  Омск   \n",
       "6503      700  1205.911290   9.782872 2021-02-10      2  Айдар   22  Омск   \n",
       "6504      700  3047.379435  17.427673 2021-02-14      2  Айдар   22  Омск   \n",
       "\n",
       "     subscription_type  minute_price  start_ride_price  subscription_fee  \n",
       "6500              free             8                50                 0  \n",
       "6501              free             8                50                 0  \n",
       "6502              free             8                50                 0  \n",
       "6503              free             8                50                 0  \n",
       "6504              free             8                50                 0  "
      ]
     },
     "metadata": {},
     "output_type": "display_data"
    },
    {
     "name": "stdout",
     "output_type": "stream",
     "text": [
      "\n",
      "<class 'pandas.core.frame.DataFrame'>\n",
      "Int64Index: 11568 entries, 6500 to 18067\n",
      "Data columns (total 12 columns):\n",
      " #   Column             Non-Null Count  Dtype         \n",
      "---  ------             --------------  -----         \n",
      " 0   user_id            11568 non-null  int64         \n",
      " 1   distance           11568 non-null  float64       \n",
      " 2   duration           11568 non-null  float64       \n",
      " 3   date               11568 non-null  datetime64[ns]\n",
      " 4   month              11568 non-null  int64         \n",
      " 5   name               11568 non-null  object        \n",
      " 6   age                11568 non-null  int64         \n",
      " 7   city               11568 non-null  object        \n",
      " 8   subscription_type  11568 non-null  object        \n",
      " 9   minute_price       11568 non-null  int64         \n",
      " 10  start_ride_price   11568 non-null  int64         \n",
      " 11  subscription_fee   11568 non-null  int64         \n",
      "dtypes: datetime64[ns](1), float64(2), int64(6), object(3)\n",
      "memory usage: 1.1+ MB\n",
      "None\n"
     ]
    }
   ],
   "source": [
    "df_mrg_free = df_mrg[df_mrg['subscription_type'] == 'free'] #склеиваем\n",
    "display(df_mrg_free.head()) #посмотрим что получилось\n",
    "print()\n",
    "print(df_mrg_free.info()) #глянем на общую инфо полученного дф"
   ]
  },
  {
   "cell_type": "markdown",
   "id": "b60b0dee",
   "metadata": {},
   "source": [
    "Похоже, все получилось, перейдем ко 2 части."
   ]
  },
  {
   "cell_type": "markdown",
   "id": "da7378ea",
   "metadata": {},
   "source": [
    "###### С подпиской"
   ]
  },
  {
   "cell_type": "code",
   "execution_count": 25,
   "id": "32df055b",
   "metadata": {},
   "outputs": [
    {
     "data": {
      "text/html": [
       "<div>\n",
       "<style scoped>\n",
       "    .dataframe tbody tr th:only-of-type {\n",
       "        vertical-align: middle;\n",
       "    }\n",
       "\n",
       "    .dataframe tbody tr th {\n",
       "        vertical-align: top;\n",
       "    }\n",
       "\n",
       "    .dataframe thead th {\n",
       "        text-align: right;\n",
       "    }\n",
       "</style>\n",
       "<table border=\"1\" class=\"dataframe\">\n",
       "  <thead>\n",
       "    <tr style=\"text-align: right;\">\n",
       "      <th></th>\n",
       "      <th>user_id</th>\n",
       "      <th>distance</th>\n",
       "      <th>duration</th>\n",
       "      <th>date</th>\n",
       "      <th>month</th>\n",
       "      <th>name</th>\n",
       "      <th>age</th>\n",
       "      <th>city</th>\n",
       "      <th>subscription_type</th>\n",
       "      <th>minute_price</th>\n",
       "      <th>start_ride_price</th>\n",
       "      <th>subscription_fee</th>\n",
       "    </tr>\n",
       "  </thead>\n",
       "  <tbody>\n",
       "    <tr>\n",
       "      <th>0</th>\n",
       "      <td>1</td>\n",
       "      <td>4409.919140</td>\n",
       "      <td>25.599769</td>\n",
       "      <td>2021-01-01</td>\n",
       "      <td>1</td>\n",
       "      <td>Кира</td>\n",
       "      <td>22</td>\n",
       "      <td>Тюмень</td>\n",
       "      <td>ultra</td>\n",
       "      <td>6</td>\n",
       "      <td>0</td>\n",
       "      <td>199</td>\n",
       "    </tr>\n",
       "    <tr>\n",
       "      <th>1</th>\n",
       "      <td>1</td>\n",
       "      <td>2617.592153</td>\n",
       "      <td>15.816871</td>\n",
       "      <td>2021-01-18</td>\n",
       "      <td>1</td>\n",
       "      <td>Кира</td>\n",
       "      <td>22</td>\n",
       "      <td>Тюмень</td>\n",
       "      <td>ultra</td>\n",
       "      <td>6</td>\n",
       "      <td>0</td>\n",
       "      <td>199</td>\n",
       "    </tr>\n",
       "    <tr>\n",
       "      <th>2</th>\n",
       "      <td>1</td>\n",
       "      <td>754.159807</td>\n",
       "      <td>6.232113</td>\n",
       "      <td>2021-04-20</td>\n",
       "      <td>4</td>\n",
       "      <td>Кира</td>\n",
       "      <td>22</td>\n",
       "      <td>Тюмень</td>\n",
       "      <td>ultra</td>\n",
       "      <td>6</td>\n",
       "      <td>0</td>\n",
       "      <td>199</td>\n",
       "    </tr>\n",
       "    <tr>\n",
       "      <th>3</th>\n",
       "      <td>1</td>\n",
       "      <td>2694.783254</td>\n",
       "      <td>18.511000</td>\n",
       "      <td>2021-08-11</td>\n",
       "      <td>8</td>\n",
       "      <td>Кира</td>\n",
       "      <td>22</td>\n",
       "      <td>Тюмень</td>\n",
       "      <td>ultra</td>\n",
       "      <td>6</td>\n",
       "      <td>0</td>\n",
       "      <td>199</td>\n",
       "    </tr>\n",
       "    <tr>\n",
       "      <th>4</th>\n",
       "      <td>1</td>\n",
       "      <td>4028.687306</td>\n",
       "      <td>26.265803</td>\n",
       "      <td>2021-08-28</td>\n",
       "      <td>8</td>\n",
       "      <td>Кира</td>\n",
       "      <td>22</td>\n",
       "      <td>Тюмень</td>\n",
       "      <td>ultra</td>\n",
       "      <td>6</td>\n",
       "      <td>0</td>\n",
       "      <td>199</td>\n",
       "    </tr>\n",
       "  </tbody>\n",
       "</table>\n",
       "</div>"
      ],
      "text/plain": [
       "   user_id     distance   duration       date  month  name  age    city  \\\n",
       "0        1  4409.919140  25.599769 2021-01-01      1  Кира   22  Тюмень   \n",
       "1        1  2617.592153  15.816871 2021-01-18      1  Кира   22  Тюмень   \n",
       "2        1   754.159807   6.232113 2021-04-20      4  Кира   22  Тюмень   \n",
       "3        1  2694.783254  18.511000 2021-08-11      8  Кира   22  Тюмень   \n",
       "4        1  4028.687306  26.265803 2021-08-28      8  Кира   22  Тюмень   \n",
       "\n",
       "  subscription_type  minute_price  start_ride_price  subscription_fee  \n",
       "0             ultra             6                 0               199  \n",
       "1             ultra             6                 0               199  \n",
       "2             ultra             6                 0               199  \n",
       "3             ultra             6                 0               199  \n",
       "4             ultra             6                 0               199  "
      ]
     },
     "metadata": {},
     "output_type": "display_data"
    },
    {
     "name": "stdout",
     "output_type": "stream",
     "text": [
      "\n",
      "<class 'pandas.core.frame.DataFrame'>\n",
      "Int64Index: 6500 entries, 0 to 6499\n",
      "Data columns (total 12 columns):\n",
      " #   Column             Non-Null Count  Dtype         \n",
      "---  ------             --------------  -----         \n",
      " 0   user_id            6500 non-null   int64         \n",
      " 1   distance           6500 non-null   float64       \n",
      " 2   duration           6500 non-null   float64       \n",
      " 3   date               6500 non-null   datetime64[ns]\n",
      " 4   month              6500 non-null   int64         \n",
      " 5   name               6500 non-null   object        \n",
      " 6   age                6500 non-null   int64         \n",
      " 7   city               6500 non-null   object        \n",
      " 8   subscription_type  6500 non-null   object        \n",
      " 9   minute_price       6500 non-null   int64         \n",
      " 10  start_ride_price   6500 non-null   int64         \n",
      " 11  subscription_fee   6500 non-null   int64         \n",
      "dtypes: datetime64[ns](1), float64(2), int64(6), object(3)\n",
      "memory usage: 660.2+ KB\n",
      "None\n"
     ]
    }
   ],
   "source": [
    "df_mrg_ultra = df_mrg[df_mrg['subscription_type'] == 'ultra'] #склеиваем\n",
    "display(df_mrg_ultra.head()) #посмотрим что получилось\n",
    "print()\n",
    "print(df_mrg_ultra.info()) #глянем на общую инфо полученного дф"
   ]
  },
  {
   "cell_type": "markdown",
   "id": "07804224",
   "metadata": {},
   "source": [
    "Вроде бы, все нормально. Идем дальше."
   ]
  },
  {
   "cell_type": "markdown",
   "id": "7e87343b",
   "metadata": {},
   "source": [
    "##### Визуализация"
   ]
  },
  {
   "cell_type": "markdown",
   "id": "795e3be2",
   "metadata": {},
   "source": [
    "###### Расстояние поездки"
   ]
  },
  {
   "cell_type": "code",
   "execution_count": 26,
   "id": "339824fc",
   "metadata": {},
   "outputs": [
    {
     "data": {
      "image/png": "[encoded data removed]",
      "text/plain": [
       "<Figure size 720x360 with 1 Axes>"
      ]
     },
     "metadata": {
      "needs_background": "light"
     },
     "output_type": "display_data"
    }
   ],
   "source": [
    "df_mrg_free['distance'].plot(kind = 'hist', grid=True, color='lightgreen', edgecolor='darkgreen', figsize = (10,5), bins = 50, label='без подписки')\n",
    "df_mrg_ultra['distance'].plot(kind = 'hist', grid=True, color = 'green', edgecolor='darkgreen', figsize = (10,5), bins = 50, label='с подпиской Ultra')\n",
    "plt.title('Расстояние одной поездки для пользователей с подпиской и без')\n",
    "plt.xlabel('расстояние, м')\n",
    "plt.ylabel('количество пользователей')\n",
    "plt.legend(loc='upper right')\n",
    "plt.show()"
   ]
  },
  {
   "cell_type": "markdown",
   "id": "e17110ad",
   "metadata": {},
   "source": [
    "###### Продолжительность поездки"
   ]
  },
  {
   "cell_type": "code",
   "execution_count": 27,
   "id": "564c1844",
   "metadata": {},
   "outputs": [
    {
     "data": {
      "image/png": "[encoded data removed]",
      "text/plain": [
       "<Figure size 720x360 with 1 Axes>"
      ]
     },
     "metadata": {
      "needs_background": "light"
     },
     "output_type": "display_data"
    }
   ],
   "source": [
    "df_mrg_free['duration'].plot(kind = 'hist', grid=True, color = 'lightblue', edgecolor = 'darkblue', figsize = (10,5), bins = 50, label='без подписки')\n",
    "df_mrg_ultra['duration'].plot(kind = 'hist', grid=True, color = 'blue', edgecolor = 'darkblue', figsize = (10,5), bins = 50, label='с подпиской Ultra')\n",
    "plt.title('Продолжительность одной поездки пользователей с подпиской и без')\n",
    "plt.xlabel('время, мин')\n",
    "plt.ylabel('количество пользователей')\n",
    "plt.legend(loc='upper right')\n",
    "plt.show()"
   ]
  },
  {
   "cell_type": "markdown",
   "id": "c2e933ea",
   "metadata": {},
   "source": [
    "Данные успешно объеденены в единый датафрейм. Также были визуализированы соотношение расстояний и продолжительности поездок для пользователей с подпиской и без. Гистограммы подтверждают ранее опубликованную круговую диаграмму о том, что пользователей с подпиской немного меньше чем без. При это данные по поездкам (дальность, время) у обоих категорий распределены нормально."
   ]
  },
  {
   "cell_type": "markdown",
   "id": "402d620f",
   "metadata": {},
   "source": [
    "#### Шаг 5. Подсчёт выручки"
   ]
  },
  {
   "cell_type": "markdown",
   "id": "ad7e5f9d",
   "metadata": {},
   "source": [
    "##### ДФ с аггрегированными данными"
   ]
  },
  {
   "cell_type": "code",
   "execution_count": 28,
   "id": "53049e0a",
   "metadata": {
    "scrolled": true
   },
   "outputs": [
    {
     "data": {
      "text/html": [
       "<div>\n",
       "<style scoped>\n",
       "    .dataframe tbody tr th:only-of-type {\n",
       "        vertical-align: middle;\n",
       "    }\n",
       "\n",
       "    .dataframe tbody tr th {\n",
       "        vertical-align: top;\n",
       "    }\n",
       "\n",
       "    .dataframe thead tr th {\n",
       "        text-align: left;\n",
       "    }\n",
       "\n",
       "    .dataframe thead tr:last-of-type th {\n",
       "        text-align: right;\n",
       "    }\n",
       "</style>\n",
       "<table border=\"1\" class=\"dataframe\">\n",
       "  <thead>\n",
       "    <tr>\n",
       "      <th></th>\n",
       "      <th></th>\n",
       "      <th colspan=\"2\" halign=\"left\">count</th>\n",
       "      <th colspan=\"2\" halign=\"left\">sum</th>\n",
       "    </tr>\n",
       "    <tr>\n",
       "      <th></th>\n",
       "      <th></th>\n",
       "      <th>distance</th>\n",
       "      <th>duration</th>\n",
       "      <th>distance</th>\n",
       "      <th>duration</th>\n",
       "    </tr>\n",
       "    <tr>\n",
       "      <th>user_id</th>\n",
       "      <th>month</th>\n",
       "      <th></th>\n",
       "      <th></th>\n",
       "      <th></th>\n",
       "      <th></th>\n",
       "    </tr>\n",
       "  </thead>\n",
       "  <tbody>\n",
       "    <tr>\n",
       "      <th rowspan=\"5\" valign=\"top\">1</th>\n",
       "      <th>1</th>\n",
       "      <td>2</td>\n",
       "      <td>2</td>\n",
       "      <td>7027.511294</td>\n",
       "      <td>42</td>\n",
       "    </tr>\n",
       "    <tr>\n",
       "      <th>4</th>\n",
       "      <td>1</td>\n",
       "      <td>1</td>\n",
       "      <td>754.159807</td>\n",
       "      <td>7</td>\n",
       "    </tr>\n",
       "    <tr>\n",
       "      <th>8</th>\n",
       "      <td>2</td>\n",
       "      <td>2</td>\n",
       "      <td>6723.470560</td>\n",
       "      <td>46</td>\n",
       "    </tr>\n",
       "    <tr>\n",
       "      <th>10</th>\n",
       "      <td>2</td>\n",
       "      <td>2</td>\n",
       "      <td>5809.911100</td>\n",
       "      <td>32</td>\n",
       "    </tr>\n",
       "    <tr>\n",
       "      <th>11</th>\n",
       "      <td>3</td>\n",
       "      <td>3</td>\n",
       "      <td>7003.499363</td>\n",
       "      <td>56</td>\n",
       "    </tr>\n",
       "    <tr>\n",
       "      <th>...</th>\n",
       "      <th>...</th>\n",
       "      <td>...</td>\n",
       "      <td>...</td>\n",
       "      <td>...</td>\n",
       "      <td>...</td>\n",
       "    </tr>\n",
       "    <tr>\n",
       "      <th rowspan=\"5\" valign=\"top\">1534</th>\n",
       "      <th>6</th>\n",
       "      <td>2</td>\n",
       "      <td>2</td>\n",
       "      <td>3409.468534</td>\n",
       "      <td>26</td>\n",
       "    </tr>\n",
       "    <tr>\n",
       "      <th>8</th>\n",
       "      <td>2</td>\n",
       "      <td>2</td>\n",
       "      <td>7622.453034</td>\n",
       "      <td>48</td>\n",
       "    </tr>\n",
       "    <tr>\n",
       "      <th>9</th>\n",
       "      <td>1</td>\n",
       "      <td>1</td>\n",
       "      <td>4928.173852</td>\n",
       "      <td>23</td>\n",
       "    </tr>\n",
       "    <tr>\n",
       "      <th>11</th>\n",
       "      <td>4</td>\n",
       "      <td>4</td>\n",
       "      <td>13350.015305</td>\n",
       "      <td>78</td>\n",
       "    </tr>\n",
       "    <tr>\n",
       "      <th>12</th>\n",
       "      <td>1</td>\n",
       "      <td>1</td>\n",
       "      <td>2371.711192</td>\n",
       "      <td>16</td>\n",
       "    </tr>\n",
       "  </tbody>\n",
       "</table>\n",
       "<p>11331 rows × 4 columns</p>\n",
       "</div>"
      ],
      "text/plain": [
       "                 count                    sum         \n",
       "              distance duration      distance duration\n",
       "user_id month                                         \n",
       "1       1            2        2   7027.511294       42\n",
       "        4            1        1    754.159807        7\n",
       "        8            2        2   6723.470560       46\n",
       "        10           2        2   5809.911100       32\n",
       "        11           3        3   7003.499363       56\n",
       "...                ...      ...           ...      ...\n",
       "1534    6            2        2   3409.468534       26\n",
       "        8            2        2   7622.453034       48\n",
       "        9            1        1   4928.173852       23\n",
       "        11           4        4  13350.015305       78\n",
       "        12           1        1   2371.711192       16\n",
       "\n",
       "[11331 rows x 4 columns]"
      ]
     },
     "metadata": {},
     "output_type": "display_data"
    }
   ],
   "source": [
    "# воспользуемся подсказкой из задания и округлим время поезки до следующего целого числа\n",
    "df_mrg['duration'] = np.ceil(df_mrg['duration'])\n",
    "df_mrg['duration'] = df_mrg['duration'].astype('int')\n",
    "#делаем сводную таблицу\n",
    "df_agg = df_mrg.pivot_table(index= ['user_id', 'month'], values = ['distance', 'duration'], aggfunc = ['count', 'sum']) \n",
    "display(df_agg)"
   ]
  },
  {
   "cell_type": "code",
   "execution_count": 29,
   "id": "27d9db83",
   "metadata": {},
   "outputs": [
    {
     "data": {
      "text/html": [
       "<div>\n",
       "<style scoped>\n",
       "    .dataframe tbody tr th:only-of-type {\n",
       "        vertical-align: middle;\n",
       "    }\n",
       "\n",
       "    .dataframe tbody tr th {\n",
       "        vertical-align: top;\n",
       "    }\n",
       "\n",
       "    .dataframe thead th {\n",
       "        text-align: right;\n",
       "    }\n",
       "</style>\n",
       "<table border=\"1\" class=\"dataframe\">\n",
       "  <thead>\n",
       "    <tr style=\"text-align: right;\">\n",
       "      <th></th>\n",
       "      <th>user_id</th>\n",
       "      <th>month</th>\n",
       "      <th>month_rides</th>\n",
       "      <th>count_duration</th>\n",
       "      <th>total_distance</th>\n",
       "      <th>total_duration</th>\n",
       "    </tr>\n",
       "  </thead>\n",
       "  <tbody>\n",
       "    <tr>\n",
       "      <th>0</th>\n",
       "      <td>1</td>\n",
       "      <td>1</td>\n",
       "      <td>2</td>\n",
       "      <td>2</td>\n",
       "      <td>7027.511294</td>\n",
       "      <td>42</td>\n",
       "    </tr>\n",
       "    <tr>\n",
       "      <th>1</th>\n",
       "      <td>1</td>\n",
       "      <td>4</td>\n",
       "      <td>1</td>\n",
       "      <td>1</td>\n",
       "      <td>754.159807</td>\n",
       "      <td>7</td>\n",
       "    </tr>\n",
       "    <tr>\n",
       "      <th>2</th>\n",
       "      <td>1</td>\n",
       "      <td>8</td>\n",
       "      <td>2</td>\n",
       "      <td>2</td>\n",
       "      <td>6723.470560</td>\n",
       "      <td>46</td>\n",
       "    </tr>\n",
       "    <tr>\n",
       "      <th>3</th>\n",
       "      <td>1</td>\n",
       "      <td>10</td>\n",
       "      <td>2</td>\n",
       "      <td>2</td>\n",
       "      <td>5809.911100</td>\n",
       "      <td>32</td>\n",
       "    </tr>\n",
       "    <tr>\n",
       "      <th>4</th>\n",
       "      <td>1</td>\n",
       "      <td>11</td>\n",
       "      <td>3</td>\n",
       "      <td>3</td>\n",
       "      <td>7003.499363</td>\n",
       "      <td>56</td>\n",
       "    </tr>\n",
       "    <tr>\n",
       "      <th>...</th>\n",
       "      <td>...</td>\n",
       "      <td>...</td>\n",
       "      <td>...</td>\n",
       "      <td>...</td>\n",
       "      <td>...</td>\n",
       "      <td>...</td>\n",
       "    </tr>\n",
       "    <tr>\n",
       "      <th>11326</th>\n",
       "      <td>1534</td>\n",
       "      <td>6</td>\n",
       "      <td>2</td>\n",
       "      <td>2</td>\n",
       "      <td>3409.468534</td>\n",
       "      <td>26</td>\n",
       "    </tr>\n",
       "    <tr>\n",
       "      <th>11327</th>\n",
       "      <td>1534</td>\n",
       "      <td>8</td>\n",
       "      <td>2</td>\n",
       "      <td>2</td>\n",
       "      <td>7622.453034</td>\n",
       "      <td>48</td>\n",
       "    </tr>\n",
       "    <tr>\n",
       "      <th>11328</th>\n",
       "      <td>1534</td>\n",
       "      <td>9</td>\n",
       "      <td>1</td>\n",
       "      <td>1</td>\n",
       "      <td>4928.173852</td>\n",
       "      <td>23</td>\n",
       "    </tr>\n",
       "    <tr>\n",
       "      <th>11329</th>\n",
       "      <td>1534</td>\n",
       "      <td>11</td>\n",
       "      <td>4</td>\n",
       "      <td>4</td>\n",
       "      <td>13350.015305</td>\n",
       "      <td>78</td>\n",
       "    </tr>\n",
       "    <tr>\n",
       "      <th>11330</th>\n",
       "      <td>1534</td>\n",
       "      <td>12</td>\n",
       "      <td>1</td>\n",
       "      <td>1</td>\n",
       "      <td>2371.711192</td>\n",
       "      <td>16</td>\n",
       "    </tr>\n",
       "  </tbody>\n",
       "</table>\n",
       "<p>11331 rows × 6 columns</p>\n",
       "</div>"
      ],
      "text/plain": [
       "       user_id  month  month_rides  count_duration  total_distance  \\\n",
       "0            1      1            2               2     7027.511294   \n",
       "1            1      4            1               1      754.159807   \n",
       "2            1      8            2               2     6723.470560   \n",
       "3            1     10            2               2     5809.911100   \n",
       "4            1     11            3               3     7003.499363   \n",
       "...        ...    ...          ...             ...             ...   \n",
       "11326     1534      6            2               2     3409.468534   \n",
       "11327     1534      8            2               2     7622.453034   \n",
       "11328     1534      9            1               1     4928.173852   \n",
       "11329     1534     11            4               4    13350.015305   \n",
       "11330     1534     12            1               1     2371.711192   \n",
       "\n",
       "       total_duration  \n",
       "0                  42  \n",
       "1                   7  \n",
       "2                  46  \n",
       "3                  32  \n",
       "4                  56  \n",
       "...               ...  \n",
       "11326              26  \n",
       "11327              48  \n",
       "11328              23  \n",
       "11329              78  \n",
       "11330              16  \n",
       "\n",
       "[11331 rows x 6 columns]"
      ]
     },
     "metadata": {},
     "output_type": "display_data"
    }
   ],
   "source": [
    "df_agg = df_agg.reset_index() #сбросим индекс и переименуем столбцы\n",
    "df_agg.columns = ['user_id', 'month', 'month_rides', 'count_duration', 'total_distance', 'total_duration']\n",
    "display(df_agg)"
   ]
  },
  {
   "cell_type": "code",
   "execution_count": 30,
   "id": "be1e9efd",
   "metadata": {},
   "outputs": [
    {
     "data": {
      "text/html": [
       "<div>\n",
       "<style scoped>\n",
       "    .dataframe tbody tr th:only-of-type {\n",
       "        vertical-align: middle;\n",
       "    }\n",
       "\n",
       "    .dataframe tbody tr th {\n",
       "        vertical-align: top;\n",
       "    }\n",
       "\n",
       "    .dataframe thead th {\n",
       "        text-align: right;\n",
       "    }\n",
       "</style>\n",
       "<table border=\"1\" class=\"dataframe\">\n",
       "  <thead>\n",
       "    <tr style=\"text-align: right;\">\n",
       "      <th></th>\n",
       "      <th>user_id</th>\n",
       "      <th>month</th>\n",
       "      <th>month_rides</th>\n",
       "      <th>total_distance</th>\n",
       "      <th>total_duration</th>\n",
       "    </tr>\n",
       "  </thead>\n",
       "  <tbody>\n",
       "    <tr>\n",
       "      <th>0</th>\n",
       "      <td>1</td>\n",
       "      <td>1</td>\n",
       "      <td>2</td>\n",
       "      <td>7027.511294</td>\n",
       "      <td>42</td>\n",
       "    </tr>\n",
       "    <tr>\n",
       "      <th>1</th>\n",
       "      <td>1</td>\n",
       "      <td>4</td>\n",
       "      <td>1</td>\n",
       "      <td>754.159807</td>\n",
       "      <td>7</td>\n",
       "    </tr>\n",
       "    <tr>\n",
       "      <th>2</th>\n",
       "      <td>1</td>\n",
       "      <td>8</td>\n",
       "      <td>2</td>\n",
       "      <td>6723.470560</td>\n",
       "      <td>46</td>\n",
       "    </tr>\n",
       "    <tr>\n",
       "      <th>3</th>\n",
       "      <td>1</td>\n",
       "      <td>10</td>\n",
       "      <td>2</td>\n",
       "      <td>5809.911100</td>\n",
       "      <td>32</td>\n",
       "    </tr>\n",
       "    <tr>\n",
       "      <th>4</th>\n",
       "      <td>1</td>\n",
       "      <td>11</td>\n",
       "      <td>3</td>\n",
       "      <td>7003.499363</td>\n",
       "      <td>56</td>\n",
       "    </tr>\n",
       "    <tr>\n",
       "      <th>...</th>\n",
       "      <td>...</td>\n",
       "      <td>...</td>\n",
       "      <td>...</td>\n",
       "      <td>...</td>\n",
       "      <td>...</td>\n",
       "    </tr>\n",
       "    <tr>\n",
       "      <th>11326</th>\n",
       "      <td>1534</td>\n",
       "      <td>6</td>\n",
       "      <td>2</td>\n",
       "      <td>3409.468534</td>\n",
       "      <td>26</td>\n",
       "    </tr>\n",
       "    <tr>\n",
       "      <th>11327</th>\n",
       "      <td>1534</td>\n",
       "      <td>8</td>\n",
       "      <td>2</td>\n",
       "      <td>7622.453034</td>\n",
       "      <td>48</td>\n",
       "    </tr>\n",
       "    <tr>\n",
       "      <th>11328</th>\n",
       "      <td>1534</td>\n",
       "      <td>9</td>\n",
       "      <td>1</td>\n",
       "      <td>4928.173852</td>\n",
       "      <td>23</td>\n",
       "    </tr>\n",
       "    <tr>\n",
       "      <th>11329</th>\n",
       "      <td>1534</td>\n",
       "      <td>11</td>\n",
       "      <td>4</td>\n",
       "      <td>13350.015305</td>\n",
       "      <td>78</td>\n",
       "    </tr>\n",
       "    <tr>\n",
       "      <th>11330</th>\n",
       "      <td>1534</td>\n",
       "      <td>12</td>\n",
       "      <td>1</td>\n",
       "      <td>2371.711192</td>\n",
       "      <td>16</td>\n",
       "    </tr>\n",
       "  </tbody>\n",
       "</table>\n",
       "<p>11331 rows × 5 columns</p>\n",
       "</div>"
      ],
      "text/plain": [
       "       user_id  month  month_rides  total_distance  total_duration\n",
       "0            1      1            2     7027.511294              42\n",
       "1            1      4            1      754.159807               7\n",
       "2            1      8            2     6723.470560              46\n",
       "3            1     10            2     5809.911100              32\n",
       "4            1     11            3     7003.499363              56\n",
       "...        ...    ...          ...             ...             ...\n",
       "11326     1534      6            2     3409.468534              26\n",
       "11327     1534      8            2     7622.453034              48\n",
       "11328     1534      9            1     4928.173852              23\n",
       "11329     1534     11            4    13350.015305              78\n",
       "11330     1534     12            1     2371.711192              16\n",
       "\n",
       "[11331 rows x 5 columns]"
      ]
     },
     "metadata": {},
     "output_type": "display_data"
    }
   ],
   "source": [
    "#столбец count_duration - лишний, можно от него избавится.\n",
    "df_agg = df_agg.drop(columns=['count_duration'])\n",
    "display(df_agg)"
   ]
  },
  {
   "cell_type": "markdown",
   "id": "bc143bfc",
   "metadata": {},
   "source": [
    "##### Добавление столбца с помесячной выручкой"
   ]
  },
  {
   "cell_type": "code",
   "execution_count": 31,
   "id": "71747e64",
   "metadata": {},
   "outputs": [
    {
     "data": {
      "text/html": [
       "<div>\n",
       "<style scoped>\n",
       "    .dataframe tbody tr th:only-of-type {\n",
       "        vertical-align: middle;\n",
       "    }\n",
       "\n",
       "    .dataframe tbody tr th {\n",
       "        vertical-align: top;\n",
       "    }\n",
       "\n",
       "    .dataframe thead th {\n",
       "        text-align: right;\n",
       "    }\n",
       "</style>\n",
       "<table border=\"1\" class=\"dataframe\">\n",
       "  <thead>\n",
       "    <tr style=\"text-align: right;\">\n",
       "      <th></th>\n",
       "      <th>user_id</th>\n",
       "      <th>month</th>\n",
       "      <th>month_rides</th>\n",
       "      <th>total_distance</th>\n",
       "      <th>total_duration</th>\n",
       "      <th>name</th>\n",
       "      <th>age</th>\n",
       "      <th>city</th>\n",
       "      <th>subscription_type</th>\n",
       "      <th>minute_price</th>\n",
       "      <th>start_ride_price</th>\n",
       "      <th>subscription_fee</th>\n",
       "    </tr>\n",
       "  </thead>\n",
       "  <tbody>\n",
       "    <tr>\n",
       "      <th>0</th>\n",
       "      <td>1</td>\n",
       "      <td>1</td>\n",
       "      <td>2</td>\n",
       "      <td>7027.511294</td>\n",
       "      <td>42</td>\n",
       "      <td>Кира</td>\n",
       "      <td>22</td>\n",
       "      <td>Тюмень</td>\n",
       "      <td>ultra</td>\n",
       "      <td>6</td>\n",
       "      <td>0</td>\n",
       "      <td>199</td>\n",
       "    </tr>\n",
       "    <tr>\n",
       "      <th>1</th>\n",
       "      <td>1</td>\n",
       "      <td>4</td>\n",
       "      <td>1</td>\n",
       "      <td>754.159807</td>\n",
       "      <td>7</td>\n",
       "      <td>Кира</td>\n",
       "      <td>22</td>\n",
       "      <td>Тюмень</td>\n",
       "      <td>ultra</td>\n",
       "      <td>6</td>\n",
       "      <td>0</td>\n",
       "      <td>199</td>\n",
       "    </tr>\n",
       "    <tr>\n",
       "      <th>2</th>\n",
       "      <td>1</td>\n",
       "      <td>8</td>\n",
       "      <td>2</td>\n",
       "      <td>6723.470560</td>\n",
       "      <td>46</td>\n",
       "      <td>Кира</td>\n",
       "      <td>22</td>\n",
       "      <td>Тюмень</td>\n",
       "      <td>ultra</td>\n",
       "      <td>6</td>\n",
       "      <td>0</td>\n",
       "      <td>199</td>\n",
       "    </tr>\n",
       "    <tr>\n",
       "      <th>3</th>\n",
       "      <td>1</td>\n",
       "      <td>10</td>\n",
       "      <td>2</td>\n",
       "      <td>5809.911100</td>\n",
       "      <td>32</td>\n",
       "      <td>Кира</td>\n",
       "      <td>22</td>\n",
       "      <td>Тюмень</td>\n",
       "      <td>ultra</td>\n",
       "      <td>6</td>\n",
       "      <td>0</td>\n",
       "      <td>199</td>\n",
       "    </tr>\n",
       "    <tr>\n",
       "      <th>4</th>\n",
       "      <td>1</td>\n",
       "      <td>11</td>\n",
       "      <td>3</td>\n",
       "      <td>7003.499363</td>\n",
       "      <td>56</td>\n",
       "      <td>Кира</td>\n",
       "      <td>22</td>\n",
       "      <td>Тюмень</td>\n",
       "      <td>ultra</td>\n",
       "      <td>6</td>\n",
       "      <td>0</td>\n",
       "      <td>199</td>\n",
       "    </tr>\n",
       "    <tr>\n",
       "      <th>...</th>\n",
       "      <td>...</td>\n",
       "      <td>...</td>\n",
       "      <td>...</td>\n",
       "      <td>...</td>\n",
       "      <td>...</td>\n",
       "      <td>...</td>\n",
       "      <td>...</td>\n",
       "      <td>...</td>\n",
       "      <td>...</td>\n",
       "      <td>...</td>\n",
       "      <td>...</td>\n",
       "      <td>...</td>\n",
       "    </tr>\n",
       "    <tr>\n",
       "      <th>11326</th>\n",
       "      <td>1534</td>\n",
       "      <td>6</td>\n",
       "      <td>2</td>\n",
       "      <td>3409.468534</td>\n",
       "      <td>26</td>\n",
       "      <td>Альберт</td>\n",
       "      <td>25</td>\n",
       "      <td>Краснодар</td>\n",
       "      <td>free</td>\n",
       "      <td>8</td>\n",
       "      <td>50</td>\n",
       "      <td>0</td>\n",
       "    </tr>\n",
       "    <tr>\n",
       "      <th>11327</th>\n",
       "      <td>1534</td>\n",
       "      <td>8</td>\n",
       "      <td>2</td>\n",
       "      <td>7622.453034</td>\n",
       "      <td>48</td>\n",
       "      <td>Альберт</td>\n",
       "      <td>25</td>\n",
       "      <td>Краснодар</td>\n",
       "      <td>free</td>\n",
       "      <td>8</td>\n",
       "      <td>50</td>\n",
       "      <td>0</td>\n",
       "    </tr>\n",
       "    <tr>\n",
       "      <th>11328</th>\n",
       "      <td>1534</td>\n",
       "      <td>9</td>\n",
       "      <td>1</td>\n",
       "      <td>4928.173852</td>\n",
       "      <td>23</td>\n",
       "      <td>Альберт</td>\n",
       "      <td>25</td>\n",
       "      <td>Краснодар</td>\n",
       "      <td>free</td>\n",
       "      <td>8</td>\n",
       "      <td>50</td>\n",
       "      <td>0</td>\n",
       "    </tr>\n",
       "    <tr>\n",
       "      <th>11329</th>\n",
       "      <td>1534</td>\n",
       "      <td>11</td>\n",
       "      <td>4</td>\n",
       "      <td>13350.015305</td>\n",
       "      <td>78</td>\n",
       "      <td>Альберт</td>\n",
       "      <td>25</td>\n",
       "      <td>Краснодар</td>\n",
       "      <td>free</td>\n",
       "      <td>8</td>\n",
       "      <td>50</td>\n",
       "      <td>0</td>\n",
       "    </tr>\n",
       "    <tr>\n",
       "      <th>11330</th>\n",
       "      <td>1534</td>\n",
       "      <td>12</td>\n",
       "      <td>1</td>\n",
       "      <td>2371.711192</td>\n",
       "      <td>16</td>\n",
       "      <td>Альберт</td>\n",
       "      <td>25</td>\n",
       "      <td>Краснодар</td>\n",
       "      <td>free</td>\n",
       "      <td>8</td>\n",
       "      <td>50</td>\n",
       "      <td>0</td>\n",
       "    </tr>\n",
       "  </tbody>\n",
       "</table>\n",
       "<p>11331 rows × 12 columns</p>\n",
       "</div>"
      ],
      "text/plain": [
       "       user_id  month  month_rides  total_distance  total_duration     name  \\\n",
       "0            1      1            2     7027.511294              42     Кира   \n",
       "1            1      4            1      754.159807               7     Кира   \n",
       "2            1      8            2     6723.470560              46     Кира   \n",
       "3            1     10            2     5809.911100              32     Кира   \n",
       "4            1     11            3     7003.499363              56     Кира   \n",
       "...        ...    ...          ...             ...             ...      ...   \n",
       "11326     1534      6            2     3409.468534              26  Альберт   \n",
       "11327     1534      8            2     7622.453034              48  Альберт   \n",
       "11328     1534      9            1     4928.173852              23  Альберт   \n",
       "11329     1534     11            4    13350.015305              78  Альберт   \n",
       "11330     1534     12            1     2371.711192              16  Альберт   \n",
       "\n",
       "       age       city subscription_type  minute_price  start_ride_price  \\\n",
       "0       22     Тюмень             ultra             6                 0   \n",
       "1       22     Тюмень             ultra             6                 0   \n",
       "2       22     Тюмень             ultra             6                 0   \n",
       "3       22     Тюмень             ultra             6                 0   \n",
       "4       22     Тюмень             ultra             6                 0   \n",
       "...    ...        ...               ...           ...               ...   \n",
       "11326   25  Краснодар              free             8                50   \n",
       "11327   25  Краснодар              free             8                50   \n",
       "11328   25  Краснодар              free             8                50   \n",
       "11329   25  Краснодар              free             8                50   \n",
       "11330   25  Краснодар              free             8                50   \n",
       "\n",
       "       subscription_fee  \n",
       "0                   199  \n",
       "1                   199  \n",
       "2                   199  \n",
       "3                   199  \n",
       "4                   199  \n",
       "...                 ...  \n",
       "11326                 0  \n",
       "11327                 0  \n",
       "11328                 0  \n",
       "11329                 0  \n",
       "11330                 0  \n",
       "\n",
       "[11331 rows x 12 columns]"
      ]
     },
     "metadata": {},
     "output_type": "display_data"
    }
   ],
   "source": [
    "df_agg = df_agg.merge(df_user, how='left', on='user_id')\n",
    "df_agg = df_agg.merge(df_sub, how = 'left', on='subscription_type')\n",
    "display(df_agg)"
   ]
  },
  {
   "cell_type": "code",
   "execution_count": 32,
   "id": "b2ccf770",
   "metadata": {},
   "outputs": [
    {
     "data": {
      "text/html": [
       "<div>\n",
       "<style scoped>\n",
       "    .dataframe tbody tr th:only-of-type {\n",
       "        vertical-align: middle;\n",
       "    }\n",
       "\n",
       "    .dataframe tbody tr th {\n",
       "        vertical-align: top;\n",
       "    }\n",
       "\n",
       "    .dataframe thead th {\n",
       "        text-align: right;\n",
       "    }\n",
       "</style>\n",
       "<table border=\"1\" class=\"dataframe\">\n",
       "  <thead>\n",
       "    <tr style=\"text-align: right;\">\n",
       "      <th></th>\n",
       "      <th>user_id</th>\n",
       "      <th>month</th>\n",
       "      <th>month_rides</th>\n",
       "      <th>total_distance</th>\n",
       "      <th>total_duration</th>\n",
       "      <th>name</th>\n",
       "      <th>age</th>\n",
       "      <th>city</th>\n",
       "      <th>subscription_type</th>\n",
       "      <th>minute_price</th>\n",
       "      <th>start_ride_price</th>\n",
       "      <th>subscription_fee</th>\n",
       "      <th>month_income</th>\n",
       "    </tr>\n",
       "  </thead>\n",
       "  <tbody>\n",
       "    <tr>\n",
       "      <th>0</th>\n",
       "      <td>1</td>\n",
       "      <td>1</td>\n",
       "      <td>2</td>\n",
       "      <td>7027.511294</td>\n",
       "      <td>42</td>\n",
       "      <td>Кира</td>\n",
       "      <td>22</td>\n",
       "      <td>Тюмень</td>\n",
       "      <td>ultra</td>\n",
       "      <td>6</td>\n",
       "      <td>0</td>\n",
       "      <td>199</td>\n",
       "      <td>451</td>\n",
       "    </tr>\n",
       "    <tr>\n",
       "      <th>1</th>\n",
       "      <td>1</td>\n",
       "      <td>4</td>\n",
       "      <td>1</td>\n",
       "      <td>754.159807</td>\n",
       "      <td>7</td>\n",
       "      <td>Кира</td>\n",
       "      <td>22</td>\n",
       "      <td>Тюмень</td>\n",
       "      <td>ultra</td>\n",
       "      <td>6</td>\n",
       "      <td>0</td>\n",
       "      <td>199</td>\n",
       "      <td>241</td>\n",
       "    </tr>\n",
       "    <tr>\n",
       "      <th>2</th>\n",
       "      <td>1</td>\n",
       "      <td>8</td>\n",
       "      <td>2</td>\n",
       "      <td>6723.470560</td>\n",
       "      <td>46</td>\n",
       "      <td>Кира</td>\n",
       "      <td>22</td>\n",
       "      <td>Тюмень</td>\n",
       "      <td>ultra</td>\n",
       "      <td>6</td>\n",
       "      <td>0</td>\n",
       "      <td>199</td>\n",
       "      <td>475</td>\n",
       "    </tr>\n",
       "    <tr>\n",
       "      <th>3</th>\n",
       "      <td>1</td>\n",
       "      <td>10</td>\n",
       "      <td>2</td>\n",
       "      <td>5809.911100</td>\n",
       "      <td>32</td>\n",
       "      <td>Кира</td>\n",
       "      <td>22</td>\n",
       "      <td>Тюмень</td>\n",
       "      <td>ultra</td>\n",
       "      <td>6</td>\n",
       "      <td>0</td>\n",
       "      <td>199</td>\n",
       "      <td>391</td>\n",
       "    </tr>\n",
       "    <tr>\n",
       "      <th>4</th>\n",
       "      <td>1</td>\n",
       "      <td>11</td>\n",
       "      <td>3</td>\n",
       "      <td>7003.499363</td>\n",
       "      <td>56</td>\n",
       "      <td>Кира</td>\n",
       "      <td>22</td>\n",
       "      <td>Тюмень</td>\n",
       "      <td>ultra</td>\n",
       "      <td>6</td>\n",
       "      <td>0</td>\n",
       "      <td>199</td>\n",
       "      <td>535</td>\n",
       "    </tr>\n",
       "    <tr>\n",
       "      <th>...</th>\n",
       "      <td>...</td>\n",
       "      <td>...</td>\n",
       "      <td>...</td>\n",
       "      <td>...</td>\n",
       "      <td>...</td>\n",
       "      <td>...</td>\n",
       "      <td>...</td>\n",
       "      <td>...</td>\n",
       "      <td>...</td>\n",
       "      <td>...</td>\n",
       "      <td>...</td>\n",
       "      <td>...</td>\n",
       "      <td>...</td>\n",
       "    </tr>\n",
       "    <tr>\n",
       "      <th>11326</th>\n",
       "      <td>1534</td>\n",
       "      <td>6</td>\n",
       "      <td>2</td>\n",
       "      <td>3409.468534</td>\n",
       "      <td>26</td>\n",
       "      <td>Альберт</td>\n",
       "      <td>25</td>\n",
       "      <td>Краснодар</td>\n",
       "      <td>free</td>\n",
       "      <td>8</td>\n",
       "      <td>50</td>\n",
       "      <td>0</td>\n",
       "      <td>308</td>\n",
       "    </tr>\n",
       "    <tr>\n",
       "      <th>11327</th>\n",
       "      <td>1534</td>\n",
       "      <td>8</td>\n",
       "      <td>2</td>\n",
       "      <td>7622.453034</td>\n",
       "      <td>48</td>\n",
       "      <td>Альберт</td>\n",
       "      <td>25</td>\n",
       "      <td>Краснодар</td>\n",
       "      <td>free</td>\n",
       "      <td>8</td>\n",
       "      <td>50</td>\n",
       "      <td>0</td>\n",
       "      <td>484</td>\n",
       "    </tr>\n",
       "    <tr>\n",
       "      <th>11328</th>\n",
       "      <td>1534</td>\n",
       "      <td>9</td>\n",
       "      <td>1</td>\n",
       "      <td>4928.173852</td>\n",
       "      <td>23</td>\n",
       "      <td>Альберт</td>\n",
       "      <td>25</td>\n",
       "      <td>Краснодар</td>\n",
       "      <td>free</td>\n",
       "      <td>8</td>\n",
       "      <td>50</td>\n",
       "      <td>0</td>\n",
       "      <td>234</td>\n",
       "    </tr>\n",
       "    <tr>\n",
       "      <th>11329</th>\n",
       "      <td>1534</td>\n",
       "      <td>11</td>\n",
       "      <td>4</td>\n",
       "      <td>13350.015305</td>\n",
       "      <td>78</td>\n",
       "      <td>Альберт</td>\n",
       "      <td>25</td>\n",
       "      <td>Краснодар</td>\n",
       "      <td>free</td>\n",
       "      <td>8</td>\n",
       "      <td>50</td>\n",
       "      <td>0</td>\n",
       "      <td>824</td>\n",
       "    </tr>\n",
       "    <tr>\n",
       "      <th>11330</th>\n",
       "      <td>1534</td>\n",
       "      <td>12</td>\n",
       "      <td>1</td>\n",
       "      <td>2371.711192</td>\n",
       "      <td>16</td>\n",
       "      <td>Альберт</td>\n",
       "      <td>25</td>\n",
       "      <td>Краснодар</td>\n",
       "      <td>free</td>\n",
       "      <td>8</td>\n",
       "      <td>50</td>\n",
       "      <td>0</td>\n",
       "      <td>178</td>\n",
       "    </tr>\n",
       "  </tbody>\n",
       "</table>\n",
       "<p>11331 rows × 13 columns</p>\n",
       "</div>"
      ],
      "text/plain": [
       "       user_id  month  month_rides  total_distance  total_duration     name  \\\n",
       "0            1      1            2     7027.511294              42     Кира   \n",
       "1            1      4            1      754.159807               7     Кира   \n",
       "2            1      8            2     6723.470560              46     Кира   \n",
       "3            1     10            2     5809.911100              32     Кира   \n",
       "4            1     11            3     7003.499363              56     Кира   \n",
       "...        ...    ...          ...             ...             ...      ...   \n",
       "11326     1534      6            2     3409.468534              26  Альберт   \n",
       "11327     1534      8            2     7622.453034              48  Альберт   \n",
       "11328     1534      9            1     4928.173852              23  Альберт   \n",
       "11329     1534     11            4    13350.015305              78  Альберт   \n",
       "11330     1534     12            1     2371.711192              16  Альберт   \n",
       "\n",
       "       age       city subscription_type  minute_price  start_ride_price  \\\n",
       "0       22     Тюмень             ultra             6                 0   \n",
       "1       22     Тюмень             ultra             6                 0   \n",
       "2       22     Тюмень             ultra             6                 0   \n",
       "3       22     Тюмень             ultra             6                 0   \n",
       "4       22     Тюмень             ultra             6                 0   \n",
       "...    ...        ...               ...           ...               ...   \n",
       "11326   25  Краснодар              free             8                50   \n",
       "11327   25  Краснодар              free             8                50   \n",
       "11328   25  Краснодар              free             8                50   \n",
       "11329   25  Краснодар              free             8                50   \n",
       "11330   25  Краснодар              free             8                50   \n",
       "\n",
       "       subscription_fee  month_income  \n",
       "0                   199           451  \n",
       "1                   199           241  \n",
       "2                   199           475  \n",
       "3                   199           391  \n",
       "4                   199           535  \n",
       "...                 ...           ...  \n",
       "11326                 0           308  \n",
       "11327                 0           484  \n",
       "11328                 0           234  \n",
       "11329                 0           824  \n",
       "11330                 0           178  \n",
       "\n",
       "[11331 rows x 13 columns]"
      ]
     },
     "metadata": {},
     "output_type": "display_data"
    }
   ],
   "source": [
    "# Добавляем столбец с помесячной выручкой, которую принёс каждый пользователь\n",
    "def income(row): #создадим функцию, которая будет суммировать все параметры из которых складывается выручка\n",
    "  total_income = 0\n",
    "  total_income = (row['start_ride_price'] * row['month_rides'] +\n",
    "              row['minute_price'] * row['total_duration'] +\n",
    "              row['subscription_fee']\n",
    "              )\n",
    "  return total_income\n",
    "\n",
    "df_agg['month_income'] = df_agg.apply(income, axis=1)\n",
    "display(df_agg)"
   ]
  },
  {
   "cell_type": "markdown",
   "id": "a3edeb3d",
   "metadata": {},
   "source": [
    "Данные агреггированы и необходимые значения посчитаны."
   ]
  },
  {
   "cell_type": "markdown",
   "id": "41545ac0",
   "metadata": {},
   "source": [
    "#### Шаг 6. Проверка гипотез"
   ]
  },
  {
   "cell_type": "markdown",
   "id": "5f6864ad",
   "metadata": {},
   "source": [
    "##### Гипотеза соотношений времени поездок"
   ]
  },
  {
   "cell_type": "markdown",
   "id": "40a6394d",
   "metadata": {},
   "source": [
    "Проведем независимый двухвыборочный анализ:\n",
    "    - Нулевая гипотеза состоит в том, что средние длительности поездок равны:\n",
    "    - Альтернативной гипотеза состоит в том, что средняя длительность поездки в df_mrg_ultra больше, чем средняя длительность df_mrg_free."
   ]
  },
  {
   "cell_type": "code",
   "execution_count": 33,
   "id": "23ea867b",
   "metadata": {},
   "outputs": [
    {
     "name": "stdout",
     "output_type": "stream",
     "text": [
      "p-значение: 1.2804098316645618e-34\n",
      "Отвергаем нулевую гипотезу\n"
     ]
    }
   ],
   "source": [
    "alpha = 0.05 #выставляем уровень статистической значимости\n",
    "\n",
    "# левосторонняя альтернативная гипотеза будем использовать параметр 'greater'\n",
    "results = st.ttest_ind(df_mrg_ultra['duration'], df_mrg_free['duration'], alternative='greater')\n",
    "\n",
    "print('p-значение:', results.pvalue)\n",
    "\n",
    "if results.pvalue < alpha:\n",
    "    print('Отвергаем нулевую гипотезу')\n",
    "else:\n",
    "    print('Не отвергаем нулевую гипотезу')"
   ]
  },
  {
   "cell_type": "markdown",
   "id": "c90e6ff2",
   "metadata": {},
   "source": [
    "Разница pvalue и уровня статистической значимости приличная. Нулевую гипотезу можно отвергнуть."
   ]
  },
  {
   "cell_type": "markdown",
   "id": "0189b786",
   "metadata": {},
   "source": [
    "##### Гипотеза, что расстояние одной поездки менее 3130 метров"
   ]
  },
  {
   "cell_type": "markdown",
   "id": "0da48bde",
   "metadata": {},
   "source": [
    "Проверим гипотезы:\n",
    "\n",
    "Нулевая гипотеза: среднее расстояние поездки пользователи с подпиской равна 3130 метрам\n",
    "Альтернативная гипотеза: среднее расстояние поездки пользователи с подпиской меньше 3130 метров"
   ]
  },
  {
   "cell_type": "code",
   "execution_count": 34,
   "id": "8779c1ad",
   "metadata": {},
   "outputs": [
    {
     "name": "stdout",
     "output_type": "stream",
     "text": [
      "p-значение: 0.08046311521502146\n",
      "Не отвергаем нулевую гипотезу\n"
     ]
    }
   ],
   "source": [
    "interested_value = 3130 # время поездки\n",
    "\n",
    "alpha = 0.05 # уровень статистической значимости\n",
    "\n",
    "results = st.ttest_1samp(df_mrg_ultra['distance'], interested_value, alternative='less')\n",
    "\n",
    "print('p-значение:', results.pvalue)\n",
    "\n",
    "if results.pvalue < alpha:\n",
    "    print('Отвергаем нулевую гипотезу')\n",
    "else:\n",
    "    print('Не отвергаем нулевую гипотезу')"
   ]
  },
  {
   "cell_type": "markdown",
   "id": "4ad069c8",
   "metadata": {},
   "source": [
    "Уровень статистической значимости меньше, чем pvalue, хоть и немного."
   ]
  },
  {
   "cell_type": "code",
   "execution_count": 35,
   "id": "c3e2f671",
   "metadata": {},
   "outputs": [
    {
     "name": "stdout",
     "output_type": "stream",
     "text": [
      "3115.0\n"
     ]
    }
   ],
   "source": [
    "print(round(df_mrg_ultra['distance'].mean(),0)) #посмотрим среднюю дистанцию у пользователей с подпиской."
   ]
  },
  {
   "cell_type": "markdown",
   "id": "f0f7c32e",
   "metadata": {},
   "source": [
    "Дистанция меньше заданных 3130, но учитывая масштабы, разница совсем небольшая. Отвергнуть нулевую гипотезу нельзя."
   ]
  },
  {
   "cell_type": "markdown",
   "id": "f2f6ae8b",
   "metadata": {},
   "source": [
    "##### Гипотеза о помесячной выручке от пользователей с подпиской и без подписки"
   ]
  },
  {
   "cell_type": "code",
   "execution_count": 36,
   "id": "6fb6c9ec",
   "metadata": {},
   "outputs": [
    {
     "name": "stdout",
     "output_type": "stream",
     "text": [
      "p-значение: 1.8850394384715216e-31\n",
      "Отвергаем нулевую гипотезу\n"
     ]
    }
   ],
   "source": [
    "# создадим две выборки с посчитанной помесячной выручкой\n",
    "df_agg_ultra = df_agg[df_agg['subscription_type'] == 'ultra']\n",
    "df_agg_free = df_agg[df_agg['subscription_type'] == 'free']\n",
    "\n",
    "alpha = 0.05 # уровень статистической значимости\n",
    "\n",
    "results = st.ttest_ind(df_agg_ultra['month_income'], df_agg_free['month_income'], alternative='greater')\n",
    "\n",
    "print('p-значение:', results.pvalue)\n",
    "\n",
    "if results.pvalue < alpha:\n",
    "    print('Отвергаем нулевую гипотезу')\n",
    "else:\n",
    "    print('Не отвергаем нулевую гипотезу')"
   ]
  },
  {
   "cell_type": "markdown",
   "id": "8259ab4a",
   "metadata": {},
   "source": [
    "Pvalue сильно меньше уровня статистической значимости, нулевую гипотезу можно отвергнуть."
   ]
  },
  {
   "cell_type": "markdown",
   "id": "b8f9edf5",
   "metadata": {},
   "source": [
    "##### Вопрос"
   ]
  },
  {
   "cell_type": "markdown",
   "id": "0d49ab42",
   "metadata": {},
   "source": [
    "Представьте такую ситуацию: техническая команда сервиса обновила сервера, с которыми взаимодействует мобильное приложение. Она надеется, что из-за этого количество обращений в техподдержку значимо снизилось. Некоторый файл содержит для каждого пользователя данные о количестве обращений до обновления и после него. Какой тест вам понадобился бы для проверки этой гипотезы?"
   ]
  },
  {
   "cell_type": "markdown",
   "id": "5b5c87c9",
   "metadata": {},
   "source": [
    "Ответ:\n",
    "Думаю, что в этом случае правильнее применить t-тест проверки гипотез о равенстве средних для зависимых данных. В метод scipy.stats.ttest_rel() необходимо передать два параметра: наборы данных до обновлений и после."
   ]
  },
  {
   "cell_type": "markdown",
   "id": "61213c5e",
   "metadata": {},
   "source": [
    "#### Шаг 7. Распределения"
   ]
  },
  {
   "cell_type": "markdown",
   "id": "d7aa6005",
   "metadata": {},
   "source": [
    "##### Промокоды"
   ]
  },
  {
   "cell_type": "markdown",
   "id": "470ac108",
   "metadata": {},
   "source": [
    "Скопируем условия для удобства:\n",
    "\n",
    "Отделу маркетинга GoFast поставили задачу: нужно провести акцию с раздачей промокодов на один бесплатный месяц подписки, в рамках которой как минимум 100 существующих клиентов должны продлить эту подписку. То есть по завершении периода действия подписки пользователь может либо отказаться от неё, либо продлить, совершив соотвествующий платёж. Эта акция уже проводилась ранее и по итогу выяснилось, что после бесплатного пробного периода подписку продлевают 10% пользователей. Выясните, какое минимальное количество промокодов нужно разослать, чтобы вероятность не выполнить план была примерно 5%. Подберите параметры распределения, описывающего эту ситуацию, постройте график распределения и сформулируйте ответ на вопрос о количестве промокодов."
   ]
  },
  {
   "cell_type": "markdown",
   "id": "70a3cd55",
   "metadata": {},
   "source": [
    "Так, поскольку вероятность продления составляет 10% (0.1), и 10% - это 100 клиентов, получается, что надо рассматривать выборку из 1000 пользователей."
   ]
  },
  {
   "cell_type": "code",
   "execution_count": 37,
   "id": "95cd1d51",
   "metadata": {},
   "outputs": [
    {
     "data": {
      "image/png": "[encoded data removed]",
      "text/plain": [
       "<Figure size 1080x360 with 1 Axes>"
      ]
     },
     "metadata": {
      "needs_background": "light"
     },
     "output_type": "display_data"
    }
   ],
   "source": [
    "# определим примерный диапазон значений биномиального распределения графиком\n",
    "n = 1000\n",
    "p = 0.1\n",
    "distr = []\n",
    "\n",
    "for k in range(0, n + 1): #создадим цикл\n",
    "    matches = factorial(n) / (factorial(k) * factorial(n - k))\n",
    "    prob = matches * p**k * (1 - p)**(n - k) # затем вычисляем вероятность для данного значения k с использованием биномиального коэффициента и вероятностей успеха и неудачи\n",
    "    distr.append(prob) #добавляем значения в список\n",
    "\n",
    "plt.figure(figsize=(15, 5))\n",
    "plt.xlabel('k')\n",
    "plt.ylabel('Вероятность')\n",
    "plt.title('Биноминальное распределение')\n",
    "plt.bar(range(0, n + 1), distr, color = 'purple') #визуализирем\n",
    "plt.show()"
   ]
  },
  {
   "cell_type": "markdown",
   "id": "d05bcb07",
   "metadata": {},
   "source": [
    "В диапазоне (n-500, n+500) вычислим минимальное количество промокодов чтобы вероятность не выполнить план была менее 5%."
   ]
  },
  {
   "cell_type": "code",
   "execution_count": 38,
   "id": "32ab790a",
   "metadata": {},
   "outputs": [
    {
     "name": "stdout",
     "output_type": "stream",
     "text": [
      "Минимальное число промокодов: 1161\n"
     ]
    }
   ],
   "source": [
    "for n in range (500,1500):\n",
    "    if binom.cdf(99, n, p) < 0.05:\n",
    "        print(\"Минимальное число промокодов:\", n)\n",
    "        break"
   ]
  },
  {
   "cell_type": "markdown",
   "id": "d29c4510",
   "metadata": {},
   "source": [
    "Для того чтобы в результате акции с вероятностью не менее 95% продлили не менее 100 подписок необходимо разослать не менее 1161 промокодов."
   ]
  },
  {
   "cell_type": "markdown",
   "id": "dd166b11",
   "metadata": {},
   "source": [
    "##### Push-уведомления"
   ]
  },
  {
   "cell_type": "markdown",
   "id": "a7799217",
   "metadata": {},
   "source": [
    "Пока не сделал, поскольку задание необязательное, решил отправить на проверку то что есть. Возможно, за время проверки и исправлений постораюсь что-то напрограммировать..."
   ]
  },
  {
   "cell_type": "markdown",
   "id": "aa77331b",
   "metadata": {},
   "source": [
    "#### Выводы:"
   ]
  },
  {
   "cell_type": "markdown",
   "id": "aadd313b",
   "metadata": {},
   "source": [
    "В результате проведенного исследования, удалось выявить следующее:\n",
    "    \n",
    "- в исследовании представлено 8 городов, больше всего пользователей в Пятигорске, меньше всего в Москве;\n",
    "- средний возраст пользователя составляет 25 лет;\n",
    "- среднее время аренды 15-20 минут;\n",
    "- среднея дальность поездки состаляет 3 км;\n",
    "- пользователей без подписки немного больше чем подключивших её (55% против 45%);\n",
    "- средняя месячная выручка от пользователей с подпиской больше чем от пользователей без подписки.\n",
    "\n",
    "\n",
    "Статистический анализ данных позволил выявить следующее:\n",
    "\n",
    "- можно утверждать с вероятностью 95%, что время поездок пользователей с подпиской больше времени поездок пользователей без подписки;\n",
    "- можно утверждать с вероятностью более 90%, что средняя дистанция поездки пользователя с подпиской меньше 3130 метров;\n",
    "- можно утверждать с вероятностью 95%, что месячная выручка от пользователей с подпиской выше чем выручка от пользователей без неё.\n",
    "\n",
    "Для отдела маркетинга по заданию, на данный момент было вычислено минимальное количество промокодов - 1161. Этого количества с вероятностью 95% будет достаточно, чтобы дать продление подписки в размере 100 пользователей.\n",
    "\n",
    "Также следует обратить внимание на то, что в данных, очевидно, присутствует техническая ошибка. Некоторые данные содержат строки, где длительность аренды состаляет 0.5 минуты, а пройденное расстояние 4-7 км, что в пересчете на км/ч близко к скорости звука. Отделу отвечающему за регистрацию и выгрузку данных следует разобраться с этой проблемой.\n"
   ]
  }
 ],
 "metadata": {
  "ExecuteTimeLog": [
   {
    "duration": 848,
    "start_time": "2024-02-15T07:03:35.418Z"
   },
   {
    "duration": 275,
    "start_time": "2024-02-15T07:03:37.709Z"
   },
   {
    "duration": 15,
    "start_time": "2024-02-15T07:04:18.332Z"
   },
   {
    "duration": 27,
    "start_time": "2024-02-15T07:07:10.805Z"
   },
   {
    "duration": 24,
    "start_time": "2024-02-15T07:07:23.046Z"
   },
   {
    "duration": 59,
    "start_time": "2024-02-15T07:08:17.076Z"
   },
   {
    "duration": 9,
    "start_time": "2024-02-15T07:08:56.389Z"
   },
   {
    "duration": 10,
    "start_time": "2024-02-15T07:09:38.269Z"
   },
   {
    "duration": 22,
    "start_time": "2024-02-15T07:13:34.422Z"
   },
   {
    "duration": 25,
    "start_time": "2024-02-15T07:13:46.939Z"
   },
   {
    "duration": 92,
    "start_time": "2024-02-15T08:59:23.213Z"
   },
   {
    "duration": 18,
    "start_time": "2024-02-15T08:59:33.124Z"
   },
   {
    "duration": 14,
    "start_time": "2024-02-15T09:00:27.557Z"
   },
   {
    "duration": 11,
    "start_time": "2024-02-15T09:00:33.218Z"
   },
   {
    "duration": 19,
    "start_time": "2024-02-15T09:01:23.082Z"
   },
   {
    "duration": 13,
    "start_time": "2024-02-15T09:01:46.698Z"
   },
   {
    "duration": 9,
    "start_time": "2024-02-15T09:07:50.084Z"
   },
   {
    "duration": 8,
    "start_time": "2024-02-15T09:08:00.260Z"
   },
   {
    "duration": 10,
    "start_time": "2024-02-15T09:08:09.066Z"
   },
   {
    "duration": 8,
    "start_time": "2024-02-15T09:08:48.465Z"
   },
   {
    "duration": 8,
    "start_time": "2024-02-15T09:10:59.108Z"
   },
   {
    "duration": 3,
    "start_time": "2024-02-15T09:13:30.411Z"
   },
   {
    "duration": 11,
    "start_time": "2024-02-15T09:15:59.427Z"
   },
   {
    "duration": 4,
    "start_time": "2024-02-15T09:18:31.410Z"
   },
   {
    "duration": 6,
    "start_time": "2024-02-15T09:20:59.706Z"
   },
   {
    "duration": 9,
    "start_time": "2024-02-15T09:23:28.582Z"
   },
   {
    "duration": 4,
    "start_time": "2024-02-15T09:23:36.183Z"
   },
   {
    "duration": 8,
    "start_time": "2024-02-15T09:25:10.374Z"
   },
   {
    "duration": 4,
    "start_time": "2024-02-15T09:25:20.998Z"
   },
   {
    "duration": 4,
    "start_time": "2024-02-15T09:31:13.369Z"
   },
   {
    "duration": 5,
    "start_time": "2024-02-15T09:31:34.791Z"
   },
   {
    "duration": 4,
    "start_time": "2024-02-15T09:33:06.861Z"
   },
   {
    "duration": 6,
    "start_time": "2024-02-15T09:33:18.988Z"
   },
   {
    "duration": 6,
    "start_time": "2024-02-15T09:33:30.620Z"
   },
   {
    "duration": 621,
    "start_time": "2024-02-15T09:36:14.326Z"
   },
   {
    "duration": 158,
    "start_time": "2024-02-15T09:38:02.998Z"
   },
   {
    "duration": 151,
    "start_time": "2024-02-15T09:38:20.396Z"
   },
   {
    "duration": 149,
    "start_time": "2024-02-15T09:39:27.828Z"
   },
   {
    "duration": 3,
    "start_time": "2024-02-15T09:40:21.419Z"
   },
   {
    "duration": 178,
    "start_time": "2024-02-15T09:40:28.059Z"
   },
   {
    "duration": 1123,
    "start_time": "2024-02-15T09:40:56.927Z"
   },
   {
    "duration": 68,
    "start_time": "2024-02-15T09:40:58.052Z"
   },
   {
    "duration": 13,
    "start_time": "2024-02-15T09:40:58.121Z"
   },
   {
    "duration": 30,
    "start_time": "2024-02-15T09:40:58.136Z"
   },
   {
    "duration": 26,
    "start_time": "2024-02-15T09:40:58.168Z"
   },
   {
    "duration": 26,
    "start_time": "2024-02-15T09:40:58.196Z"
   },
   {
    "duration": 64,
    "start_time": "2024-02-15T09:40:58.223Z"
   },
   {
    "duration": 0,
    "start_time": "2024-02-15T09:40:58.288Z"
   },
   {
    "duration": 0,
    "start_time": "2024-02-15T09:40:58.290Z"
   },
   {
    "duration": 0,
    "start_time": "2024-02-15T09:40:58.291Z"
   },
   {
    "duration": 0,
    "start_time": "2024-02-15T09:40:58.292Z"
   },
   {
    "duration": 0,
    "start_time": "2024-02-15T09:40:58.293Z"
   },
   {
    "duration": 0,
    "start_time": "2024-02-15T09:40:58.294Z"
   },
   {
    "duration": 0,
    "start_time": "2024-02-15T09:40:58.294Z"
   },
   {
    "duration": 0,
    "start_time": "2024-02-15T09:40:58.296Z"
   },
   {
    "duration": 0,
    "start_time": "2024-02-15T09:40:58.297Z"
   },
   {
    "duration": 0,
    "start_time": "2024-02-15T09:40:58.298Z"
   },
   {
    "duration": 0,
    "start_time": "2024-02-15T09:40:58.299Z"
   },
   {
    "duration": 0,
    "start_time": "2024-02-15T09:40:58.300Z"
   },
   {
    "duration": 3,
    "start_time": "2024-02-15T09:41:24.395Z"
   },
   {
    "duration": 66,
    "start_time": "2024-02-15T09:41:26.699Z"
   },
   {
    "duration": 10,
    "start_time": "2024-02-15T09:41:28.659Z"
   },
   {
    "duration": 23,
    "start_time": "2024-02-15T09:41:33.883Z"
   },
   {
    "duration": 26,
    "start_time": "2024-02-15T09:41:43.124Z"
   },
   {
    "duration": 24,
    "start_time": "2024-02-15T09:41:45.172Z"
   },
   {
    "duration": 8,
    "start_time": "2024-02-15T09:42:17.196Z"
   },
   {
    "duration": 11,
    "start_time": "2024-02-15T09:42:21.131Z"
   },
   {
    "duration": 7,
    "start_time": "2024-02-15T09:42:32.059Z"
   },
   {
    "duration": 8,
    "start_time": "2024-02-15T09:42:36.259Z"
   },
   {
    "duration": 3,
    "start_time": "2024-02-15T09:42:39.812Z"
   },
   {
    "duration": 12,
    "start_time": "2024-02-15T09:42:44.603Z"
   },
   {
    "duration": 6,
    "start_time": "2024-02-15T09:42:47.388Z"
   },
   {
    "duration": 5,
    "start_time": "2024-02-15T09:42:49.579Z"
   },
   {
    "duration": 6,
    "start_time": "2024-02-15T09:42:56.546Z"
   },
   {
    "duration": 191,
    "start_time": "2024-02-15T09:42:59.499Z"
   },
   {
    "duration": 175,
    "start_time": "2024-02-15T09:43:49.051Z"
   },
   {
    "duration": 178,
    "start_time": "2024-02-15T09:45:53.548Z"
   },
   {
    "duration": 193,
    "start_time": "2024-02-15T09:46:19.755Z"
   },
   {
    "duration": 2,
    "start_time": "2024-02-15T09:49:46.931Z"
   },
   {
    "duration": 176,
    "start_time": "2024-02-15T09:50:06.434Z"
   },
   {
    "duration": 106,
    "start_time": "2024-02-15T09:54:49.802Z"
   },
   {
    "duration": 12,
    "start_time": "2024-02-15T09:56:37.922Z"
   },
   {
    "duration": 5,
    "start_time": "2024-02-15T09:57:28.322Z"
   },
   {
    "duration": 62,
    "start_time": "2024-02-15T10:01:07.809Z"
   },
   {
    "duration": 86,
    "start_time": "2024-02-15T10:01:50.449Z"
   },
   {
    "duration": 163,
    "start_time": "2024-02-15T10:02:52.002Z"
   },
   {
    "duration": 92,
    "start_time": "2024-02-15T10:04:21.400Z"
   },
   {
    "duration": 149,
    "start_time": "2024-02-15T10:05:41.393Z"
   },
   {
    "duration": 213,
    "start_time": "2024-02-15T10:05:53.073Z"
   },
   {
    "duration": 150,
    "start_time": "2024-02-15T13:28:19.168Z"
   },
   {
    "duration": 175,
    "start_time": "2024-02-15T13:31:13.245Z"
   },
   {
    "duration": 198,
    "start_time": "2024-02-15T13:31:22.661Z"
   },
   {
    "duration": 205,
    "start_time": "2024-02-15T13:31:30.980Z"
   },
   {
    "duration": 204,
    "start_time": "2024-02-15T13:31:38.460Z"
   },
   {
    "duration": 170,
    "start_time": "2024-02-15T13:31:49.077Z"
   },
   {
    "duration": 175,
    "start_time": "2024-02-15T13:31:59.085Z"
   },
   {
    "duration": 176,
    "start_time": "2024-02-15T13:32:59.533Z"
   },
   {
    "duration": 174,
    "start_time": "2024-02-15T13:33:17.612Z"
   },
   {
    "duration": 180,
    "start_time": "2024-02-15T13:33:28.819Z"
   },
   {
    "duration": 292,
    "start_time": "2024-02-15T13:33:44.092Z"
   },
   {
    "duration": 1337,
    "start_time": "2024-02-16T06:01:35.543Z"
   },
   {
    "duration": 188,
    "start_time": "2024-02-16T06:01:36.883Z"
   },
   {
    "duration": 15,
    "start_time": "2024-02-16T06:01:37.072Z"
   },
   {
    "duration": 28,
    "start_time": "2024-02-16T06:01:37.090Z"
   },
   {
    "duration": 28,
    "start_time": "2024-02-16T06:01:37.119Z"
   },
   {
    "duration": 26,
    "start_time": "2024-02-16T06:01:37.149Z"
   },
   {
    "duration": 10,
    "start_time": "2024-02-16T06:01:37.176Z"
   },
   {
    "duration": 42,
    "start_time": "2024-02-16T06:01:37.188Z"
   },
   {
    "duration": 8,
    "start_time": "2024-02-16T06:01:37.232Z"
   },
   {
    "duration": 7,
    "start_time": "2024-02-16T06:01:37.243Z"
   },
   {
    "duration": 4,
    "start_time": "2024-02-16T06:01:37.252Z"
   },
   {
    "duration": 81,
    "start_time": "2024-02-16T06:01:37.257Z"
   },
   {
    "duration": 0,
    "start_time": "2024-02-16T06:01:37.340Z"
   },
   {
    "duration": 0,
    "start_time": "2024-02-16T06:01:37.342Z"
   },
   {
    "duration": 0,
    "start_time": "2024-02-16T06:01:37.343Z"
   },
   {
    "duration": 0,
    "start_time": "2024-02-16T06:01:37.345Z"
   },
   {
    "duration": 0,
    "start_time": "2024-02-16T06:01:37.346Z"
   },
   {
    "duration": 0,
    "start_time": "2024-02-16T06:01:37.347Z"
   },
   {
    "duration": 0,
    "start_time": "2024-02-16T06:01:37.348Z"
   },
   {
    "duration": 0,
    "start_time": "2024-02-16T06:01:37.349Z"
   },
   {
    "duration": 0,
    "start_time": "2024-02-16T06:01:37.350Z"
   },
   {
    "duration": 11,
    "start_time": "2024-02-16T06:05:24.284Z"
   },
   {
    "duration": 9,
    "start_time": "2024-02-16T06:05:27.542Z"
   },
   {
    "duration": 4,
    "start_time": "2024-02-16T06:05:30.806Z"
   },
   {
    "duration": 6,
    "start_time": "2024-02-16T06:05:35.117Z"
   },
   {
    "duration": 193,
    "start_time": "2024-02-16T06:05:43.414Z"
   },
   {
    "duration": 5,
    "start_time": "2024-02-16T06:05:51.903Z"
   },
   {
    "duration": 140,
    "start_time": "2024-02-16T06:05:54.537Z"
   },
   {
    "duration": 188,
    "start_time": "2024-02-16T06:06:00.414Z"
   },
   {
    "duration": 273,
    "start_time": "2024-02-16T06:16:57.781Z"
   },
   {
    "duration": 225,
    "start_time": "2024-02-16T06:17:11.956Z"
   },
   {
    "duration": 230,
    "start_time": "2024-02-16T06:17:51.700Z"
   },
   {
    "duration": 230,
    "start_time": "2024-02-16T06:18:28.076Z"
   },
   {
    "duration": 3,
    "start_time": "2024-02-16T06:58:34.504Z"
   },
   {
    "duration": 308,
    "start_time": "2024-02-16T06:59:52.970Z"
   },
   {
    "duration": 64,
    "start_time": "2024-02-16T07:00:26.026Z"
   },
   {
    "duration": 218,
    "start_time": "2024-02-16T07:00:30.513Z"
   },
   {
    "duration": 229,
    "start_time": "2024-02-16T07:00:40.906Z"
   },
   {
    "duration": 33,
    "start_time": "2024-02-16T07:10:39.958Z"
   },
   {
    "duration": 23,
    "start_time": "2024-02-16T07:10:50.174Z"
   },
   {
    "duration": 31,
    "start_time": "2024-02-16T07:11:09.279Z"
   },
   {
    "duration": 38,
    "start_time": "2024-02-16T07:11:53.015Z"
   },
   {
    "duration": 32,
    "start_time": "2024-02-16T07:12:19.943Z"
   },
   {
    "duration": 24,
    "start_time": "2024-02-16T07:25:49.588Z"
   },
   {
    "duration": 21,
    "start_time": "2024-02-16T07:26:09.917Z"
   },
   {
    "duration": 29,
    "start_time": "2024-02-16T07:26:34.467Z"
   },
   {
    "duration": 26,
    "start_time": "2024-02-16T07:45:32.829Z"
   },
   {
    "duration": 3,
    "start_time": "2024-02-16T07:47:17.501Z"
   },
   {
    "duration": 270,
    "start_time": "2024-02-16T07:49:05.219Z"
   },
   {
    "duration": 310,
    "start_time": "2024-02-16T07:49:54.182Z"
   },
   {
    "duration": 351,
    "start_time": "2024-02-16T07:51:11.170Z"
   },
   {
    "duration": 410,
    "start_time": "2024-02-16T07:51:41.543Z"
   },
   {
    "duration": 3,
    "start_time": "2024-02-16T07:55:03.024Z"
   },
   {
    "duration": 260,
    "start_time": "2024-02-16T07:55:27.128Z"
   },
   {
    "duration": 320,
    "start_time": "2024-02-16T07:56:42.169Z"
   },
   {
    "duration": 326,
    "start_time": "2024-02-16T07:56:51.690Z"
   },
   {
    "duration": 323,
    "start_time": "2024-02-16T07:57:34.442Z"
   },
   {
    "duration": 134,
    "start_time": "2024-02-16T08:03:43.149Z"
   },
   {
    "duration": 450,
    "start_time": "2024-02-16T08:04:01.736Z"
   },
   {
    "duration": 44,
    "start_time": "2024-02-16T08:50:00.742Z"
   },
   {
    "duration": 301,
    "start_time": "2024-02-16T08:52:54.800Z"
   },
   {
    "duration": 354,
    "start_time": "2024-02-16T08:53:21.823Z"
   },
   {
    "duration": 313,
    "start_time": "2024-02-16T08:53:43.447Z"
   },
   {
    "duration": 381,
    "start_time": "2024-02-16T08:54:17.080Z"
   },
   {
    "duration": 318,
    "start_time": "2024-02-16T08:54:20.200Z"
   },
   {
    "duration": 8,
    "start_time": "2024-02-16T08:55:07.745Z"
   },
   {
    "duration": 9,
    "start_time": "2024-02-16T08:55:17.472Z"
   },
   {
    "duration": 7,
    "start_time": "2024-02-16T08:55:24.088Z"
   },
   {
    "duration": 292,
    "start_time": "2024-02-16T08:55:45.921Z"
   },
   {
    "duration": 38,
    "start_time": "2024-02-16T08:55:59.128Z"
   },
   {
    "duration": 14,
    "start_time": "2024-02-16T08:56:06.640Z"
   },
   {
    "duration": 42,
    "start_time": "2024-02-16T09:04:15.969Z"
   },
   {
    "duration": 17,
    "start_time": "2024-02-16T09:04:21.307Z"
   },
   {
    "duration": 38,
    "start_time": "2024-02-16T09:05:54.244Z"
   },
   {
    "duration": 16,
    "start_time": "2024-02-16T09:05:56.404Z"
   },
   {
    "duration": 13,
    "start_time": "2024-02-16T09:06:59.685Z"
   },
   {
    "duration": 39,
    "start_time": "2024-02-16T09:07:46.981Z"
   },
   {
    "duration": 15,
    "start_time": "2024-02-16T09:07:48.991Z"
   },
   {
    "duration": 17,
    "start_time": "2024-02-16T09:25:44.052Z"
   },
   {
    "duration": 22,
    "start_time": "2024-02-16T09:25:50.004Z"
   },
   {
    "duration": 22,
    "start_time": "2024-02-16T09:26:27.178Z"
   },
   {
    "duration": 38,
    "start_time": "2024-02-16T09:26:49.632Z"
   },
   {
    "duration": 15,
    "start_time": "2024-02-16T09:26:54.773Z"
   },
   {
    "duration": 15,
    "start_time": "2024-02-16T09:26:59.205Z"
   },
   {
    "duration": 29,
    "start_time": "2024-02-16T09:27:10.764Z"
   },
   {
    "duration": 12,
    "start_time": "2024-02-16T09:32:25.852Z"
   },
   {
    "duration": 225,
    "start_time": "2024-02-16T09:33:03.366Z"
   },
   {
    "duration": 231,
    "start_time": "2024-02-16T09:33:26.231Z"
   },
   {
    "duration": 23,
    "start_time": "2024-02-16T09:34:11.389Z"
   },
   {
    "duration": 1226,
    "start_time": "2024-02-16T09:34:17.701Z"
   },
   {
    "duration": 71,
    "start_time": "2024-02-16T09:34:18.929Z"
   },
   {
    "duration": 12,
    "start_time": "2024-02-16T09:34:19.001Z"
   },
   {
    "duration": 38,
    "start_time": "2024-02-16T09:34:19.014Z"
   },
   {
    "duration": 27,
    "start_time": "2024-02-16T09:34:19.055Z"
   },
   {
    "duration": 41,
    "start_time": "2024-02-16T09:34:19.083Z"
   },
   {
    "duration": 8,
    "start_time": "2024-02-16T09:34:19.126Z"
   },
   {
    "duration": 19,
    "start_time": "2024-02-16T09:34:19.136Z"
   },
   {
    "duration": 9,
    "start_time": "2024-02-16T09:34:19.156Z"
   },
   {
    "duration": 8,
    "start_time": "2024-02-16T09:34:19.166Z"
   },
   {
    "duration": 7,
    "start_time": "2024-02-16T09:34:19.175Z"
   },
   {
    "duration": 43,
    "start_time": "2024-02-16T09:34:19.183Z"
   },
   {
    "duration": 6,
    "start_time": "2024-02-16T09:34:19.228Z"
   },
   {
    "duration": 12,
    "start_time": "2024-02-16T09:34:19.236Z"
   },
   {
    "duration": 20,
    "start_time": "2024-02-16T09:34:19.250Z"
   },
   {
    "duration": 212,
    "start_time": "2024-02-16T09:34:19.272Z"
   },
   {
    "duration": 5,
    "start_time": "2024-02-16T09:34:19.486Z"
   },
   {
    "duration": 157,
    "start_time": "2024-02-16T09:34:19.493Z"
   },
   {
    "duration": 203,
    "start_time": "2024-02-16T09:34:19.652Z"
   },
   {
    "duration": 234,
    "start_time": "2024-02-16T09:34:19.856Z"
   },
   {
    "duration": 234,
    "start_time": "2024-02-16T09:34:20.092Z"
   },
   {
    "duration": 79,
    "start_time": "2024-02-16T09:34:20.327Z"
   },
   {
    "duration": 0,
    "start_time": "2024-02-16T09:34:20.407Z"
   },
   {
    "duration": 0,
    "start_time": "2024-02-16T09:34:20.409Z"
   },
   {
    "duration": 0,
    "start_time": "2024-02-16T09:34:20.410Z"
   },
   {
    "duration": 0,
    "start_time": "2024-02-16T09:34:20.410Z"
   },
   {
    "duration": 0,
    "start_time": "2024-02-16T09:34:20.412Z"
   },
   {
    "duration": 0,
    "start_time": "2024-02-16T09:34:20.413Z"
   },
   {
    "duration": 0,
    "start_time": "2024-02-16T09:34:20.414Z"
   },
   {
    "duration": 0,
    "start_time": "2024-02-16T09:34:20.415Z"
   },
   {
    "duration": 0,
    "start_time": "2024-02-16T09:34:20.416Z"
   },
   {
    "duration": 0,
    "start_time": "2024-02-16T09:34:20.417Z"
   },
   {
    "duration": 101,
    "start_time": "2024-02-16T09:34:42.558Z"
   },
   {
    "duration": 34,
    "start_time": "2024-02-16T09:34:55.110Z"
   },
   {
    "duration": 26,
    "start_time": "2024-02-16T09:35:00.990Z"
   },
   {
    "duration": 25,
    "start_time": "2024-02-16T09:35:04.649Z"
   },
   {
    "duration": 336,
    "start_time": "2024-02-16T09:35:07.407Z"
   },
   {
    "duration": 318,
    "start_time": "2024-02-16T09:35:11.928Z"
   },
   {
    "duration": 40,
    "start_time": "2024-02-16T09:35:15.953Z"
   },
   {
    "duration": 15,
    "start_time": "2024-02-16T09:35:28.326Z"
   },
   {
    "duration": 13,
    "start_time": "2024-02-16T09:35:34.098Z"
   },
   {
    "duration": 105,
    "start_time": "2024-02-16T09:35:38.858Z"
   },
   {
    "duration": 221,
    "start_time": "2024-02-16T09:35:45.958Z"
   },
   {
    "duration": 180,
    "start_time": "2024-02-16T09:41:19.506Z"
   },
   {
    "duration": 1131,
    "start_time": "2024-02-16T09:41:58.880Z"
   },
   {
    "duration": 68,
    "start_time": "2024-02-16T09:42:00.013Z"
   },
   {
    "duration": 13,
    "start_time": "2024-02-16T09:42:00.083Z"
   },
   {
    "duration": 52,
    "start_time": "2024-02-16T09:42:00.098Z"
   },
   {
    "duration": 87,
    "start_time": "2024-02-16T09:42:00.152Z"
   },
   {
    "duration": 53,
    "start_time": "2024-02-16T09:42:00.240Z"
   },
   {
    "duration": 35,
    "start_time": "2024-02-16T09:42:00.295Z"
   },
   {
    "duration": 63,
    "start_time": "2024-02-16T09:42:00.331Z"
   },
   {
    "duration": 16,
    "start_time": "2024-02-16T09:42:00.395Z"
   },
   {
    "duration": 14,
    "start_time": "2024-02-16T09:42:00.414Z"
   },
   {
    "duration": 18,
    "start_time": "2024-02-16T09:42:00.430Z"
   },
   {
    "duration": 42,
    "start_time": "2024-02-16T09:42:00.450Z"
   },
   {
    "duration": 40,
    "start_time": "2024-02-16T09:42:00.494Z"
   },
   {
    "duration": 63,
    "start_time": "2024-02-16T09:42:00.536Z"
   },
   {
    "duration": 62,
    "start_time": "2024-02-16T09:42:00.601Z"
   },
   {
    "duration": 234,
    "start_time": "2024-02-16T09:42:00.665Z"
   },
   {
    "duration": 5,
    "start_time": "2024-02-16T09:42:00.901Z"
   },
   {
    "duration": 200,
    "start_time": "2024-02-16T09:42:00.908Z"
   },
   {
    "duration": 192,
    "start_time": "2024-02-16T09:42:01.110Z"
   },
   {
    "duration": 247,
    "start_time": "2024-02-16T09:42:01.304Z"
   },
   {
    "duration": 245,
    "start_time": "2024-02-16T09:42:01.553Z"
   },
   {
    "duration": 43,
    "start_time": "2024-02-16T09:42:01.800Z"
   },
   {
    "duration": 458,
    "start_time": "2024-02-16T09:42:01.844Z"
   },
   {
    "duration": 95,
    "start_time": "2024-02-16T09:42:02.304Z"
   },
   {
    "duration": 523,
    "start_time": "2024-02-16T09:42:02.401Z"
   },
   {
    "duration": 330,
    "start_time": "2024-02-16T09:42:02.926Z"
   },
   {
    "duration": 38,
    "start_time": "2024-02-16T09:42:03.258Z"
   },
   {
    "duration": 30,
    "start_time": "2024-02-16T09:42:03.299Z"
   },
   {
    "duration": 12,
    "start_time": "2024-02-16T09:42:03.331Z"
   },
   {
    "duration": 34,
    "start_time": "2024-02-16T09:42:03.345Z"
   },
   {
    "duration": 205,
    "start_time": "2024-02-16T09:42:03.381Z"
   },
   {
    "duration": 1235,
    "start_time": "2024-02-16T09:46:11.987Z"
   },
   {
    "duration": 70,
    "start_time": "2024-02-16T09:46:13.224Z"
   },
   {
    "duration": 13,
    "start_time": "2024-02-16T09:46:13.299Z"
   },
   {
    "duration": 27,
    "start_time": "2024-02-16T09:46:13.314Z"
   },
   {
    "duration": 28,
    "start_time": "2024-02-16T09:46:13.343Z"
   },
   {
    "duration": 24,
    "start_time": "2024-02-16T09:46:13.373Z"
   },
   {
    "duration": 8,
    "start_time": "2024-02-16T09:46:13.424Z"
   },
   {
    "duration": 14,
    "start_time": "2024-02-16T09:46:13.434Z"
   },
   {
    "duration": 8,
    "start_time": "2024-02-16T09:46:13.451Z"
   },
   {
    "duration": 7,
    "start_time": "2024-02-16T09:46:13.461Z"
   },
   {
    "duration": 13,
    "start_time": "2024-02-16T09:46:13.470Z"
   },
   {
    "duration": 41,
    "start_time": "2024-02-16T09:46:13.485Z"
   },
   {
    "duration": 7,
    "start_time": "2024-02-16T09:46:13.528Z"
   },
   {
    "duration": 8,
    "start_time": "2024-02-16T09:46:13.537Z"
   },
   {
    "duration": 13,
    "start_time": "2024-02-16T09:46:13.546Z"
   },
   {
    "duration": 218,
    "start_time": "2024-02-16T09:46:13.560Z"
   },
   {
    "duration": 6,
    "start_time": "2024-02-16T09:46:13.780Z"
   },
   {
    "duration": 188,
    "start_time": "2024-02-16T09:46:13.787Z"
   },
   {
    "duration": 200,
    "start_time": "2024-02-16T09:46:13.977Z"
   },
   {
    "duration": 246,
    "start_time": "2024-02-16T09:46:14.179Z"
   },
   {
    "duration": 252,
    "start_time": "2024-02-16T09:46:14.427Z"
   },
   {
    "duration": 44,
    "start_time": "2024-02-16T09:46:14.680Z"
   },
   {
    "duration": 28,
    "start_time": "2024-02-16T09:46:14.726Z"
   },
   {
    "duration": 25,
    "start_time": "2024-02-16T09:46:14.755Z"
   },
   {
    "duration": 385,
    "start_time": "2024-02-16T09:46:14.782Z"
   },
   {
    "duration": 331,
    "start_time": "2024-02-16T09:46:15.169Z"
   },
   {
    "duration": 47,
    "start_time": "2024-02-16T09:46:15.504Z"
   },
   {
    "duration": 17,
    "start_time": "2024-02-16T09:46:15.553Z"
   },
   {
    "duration": 27,
    "start_time": "2024-02-16T09:46:15.571Z"
   },
   {
    "duration": 137,
    "start_time": "2024-02-16T09:46:15.600Z"
   },
   {
    "duration": 200,
    "start_time": "2024-02-16T09:46:15.739Z"
   },
   {
    "duration": 185,
    "start_time": "2024-02-16T09:48:16.413Z"
   },
   {
    "duration": 212,
    "start_time": "2024-02-16T09:50:51.776Z"
   },
   {
    "duration": 6,
    "start_time": "2024-02-16T09:51:59.655Z"
   },
   {
    "duration": 70,
    "start_time": "2024-02-16T09:52:52.984Z"
   },
   {
    "duration": 4,
    "start_time": "2024-02-16T09:53:02.687Z"
   },
   {
    "duration": 6,
    "start_time": "2024-02-16T11:09:58.840Z"
   },
   {
    "duration": 7,
    "start_time": "2024-02-16T11:10:14.414Z"
   },
   {
    "duration": 5,
    "start_time": "2024-02-16T11:17:50.698Z"
   },
   {
    "duration": 6,
    "start_time": "2024-02-16T11:18:04.194Z"
   },
   {
    "duration": 5,
    "start_time": "2024-02-16T11:24:25.293Z"
   },
   {
    "duration": 121,
    "start_time": "2024-02-16T11:28:00.710Z"
   },
   {
    "duration": 13,
    "start_time": "2024-02-16T11:28:52.298Z"
   },
   {
    "duration": 1588,
    "start_time": "2024-02-16T11:28:59.855Z"
   },
   {
    "duration": 1297,
    "start_time": "2024-02-16T11:29:31.809Z"
   },
   {
    "duration": 1321,
    "start_time": "2024-02-16T11:29:48.498Z"
   },
   {
    "duration": 11,
    "start_time": "2024-02-16T11:31:01.686Z"
   },
   {
    "duration": 10,
    "start_time": "2024-02-16T11:40:31.581Z"
   },
   {
    "duration": 12,
    "start_time": "2024-02-16T12:22:19.244Z"
   },
   {
    "duration": 3,
    "start_time": "2024-02-16T12:22:42.265Z"
   },
   {
    "duration": 10,
    "start_time": "2024-02-16T12:22:47.801Z"
   },
   {
    "duration": 3,
    "start_time": "2024-02-16T12:23:26.505Z"
   },
   {
    "duration": 1560,
    "start_time": "2024-02-16T12:23:31.081Z"
   },
   {
    "duration": 109,
    "start_time": "2024-02-16T12:25:52.585Z"
   },
   {
    "duration": 134,
    "start_time": "2024-02-16T12:26:21.211Z"
   },
   {
    "duration": 9,
    "start_time": "2024-02-16T12:26:46.395Z"
   },
   {
    "duration": 110,
    "start_time": "2024-02-16T12:27:34.506Z"
   },
   {
    "duration": 13034,
    "start_time": "2024-02-16T12:29:24.809Z"
   },
   {
    "duration": 196,
    "start_time": "2024-02-16T12:30:25.870Z"
   },
   {
    "duration": 1653,
    "start_time": "2024-02-16T12:30:32.668Z"
   },
   {
    "duration": 1618,
    "start_time": "2024-02-16T12:40:26.330Z"
   },
   {
    "duration": 1673,
    "start_time": "2024-02-16T12:40:39.098Z"
   },
   {
    "duration": 75,
    "start_time": "2024-02-16T12:42:42.155Z"
   },
   {
    "duration": 118,
    "start_time": "2024-02-16T12:43:08.155Z"
   },
   {
    "duration": 2086,
    "start_time": "2024-02-16T12:48:04.821Z"
   },
   {
    "duration": 193,
    "start_time": "2024-02-16T12:50:00.750Z"
   },
   {
    "duration": 1821,
    "start_time": "2024-02-16T12:50:50.270Z"
   },
   {
    "duration": 1825,
    "start_time": "2024-02-16T12:51:01.999Z"
   },
   {
    "duration": 1833,
    "start_time": "2024-02-16T12:51:43.318Z"
   },
   {
    "duration": 1829,
    "start_time": "2024-02-16T12:52:39.303Z"
   },
   {
    "duration": 87,
    "start_time": "2024-02-16T12:54:44.084Z"
   },
   {
    "duration": 1095,
    "start_time": "2024-02-16T14:15:54.276Z"
   },
   {
    "duration": 68,
    "start_time": "2024-02-16T14:15:55.373Z"
   },
   {
    "duration": 12,
    "start_time": "2024-02-16T14:15:55.442Z"
   },
   {
    "duration": 26,
    "start_time": "2024-02-16T14:15:55.456Z"
   },
   {
    "duration": 29,
    "start_time": "2024-02-16T14:15:55.483Z"
   },
   {
    "duration": 20,
    "start_time": "2024-02-16T14:15:55.513Z"
   },
   {
    "duration": 7,
    "start_time": "2024-02-16T14:15:55.534Z"
   },
   {
    "duration": 21,
    "start_time": "2024-02-16T14:15:55.542Z"
   },
   {
    "duration": 7,
    "start_time": "2024-02-16T14:15:55.564Z"
   },
   {
    "duration": 28,
    "start_time": "2024-02-16T14:15:55.573Z"
   },
   {
    "duration": 28,
    "start_time": "2024-02-16T14:15:55.602Z"
   },
   {
    "duration": 37,
    "start_time": "2024-02-16T14:15:55.631Z"
   },
   {
    "duration": 4,
    "start_time": "2024-02-16T14:15:55.670Z"
   },
   {
    "duration": 26,
    "start_time": "2024-02-16T14:15:55.676Z"
   },
   {
    "duration": 25,
    "start_time": "2024-02-16T14:15:55.703Z"
   },
   {
    "duration": 210,
    "start_time": "2024-02-16T14:15:55.729Z"
   },
   {
    "duration": 4,
    "start_time": "2024-02-16T14:15:55.941Z"
   },
   {
    "duration": 154,
    "start_time": "2024-02-16T14:15:55.947Z"
   },
   {
    "duration": 174,
    "start_time": "2024-02-16T14:15:56.103Z"
   },
   {
    "duration": 230,
    "start_time": "2024-02-16T14:15:56.278Z"
   },
   {
    "duration": 208,
    "start_time": "2024-02-16T14:15:56.510Z"
   },
   {
    "duration": 28,
    "start_time": "2024-02-16T14:15:56.720Z"
   },
   {
    "duration": 51,
    "start_time": "2024-02-16T14:15:56.749Z"
   },
   {
    "duration": 28,
    "start_time": "2024-02-16T14:15:56.802Z"
   },
   {
    "duration": 301,
    "start_time": "2024-02-16T14:15:56.832Z"
   },
   {
    "duration": 315,
    "start_time": "2024-02-16T14:15:57.135Z"
   },
   {
    "duration": 49,
    "start_time": "2024-02-16T14:15:57.452Z"
   },
   {
    "duration": 14,
    "start_time": "2024-02-16T14:15:57.505Z"
   },
   {
    "duration": 11,
    "start_time": "2024-02-16T14:15:57.520Z"
   },
   {
    "duration": 24,
    "start_time": "2024-02-16T14:15:57.533Z"
   },
   {
    "duration": 301,
    "start_time": "2024-02-16T14:15:57.558Z"
   },
   {
    "duration": 4,
    "start_time": "2024-02-16T14:15:57.861Z"
   },
   {
    "duration": 61,
    "start_time": "2024-02-16T14:15:57.866Z"
   },
   {
    "duration": 0,
    "start_time": "2024-02-16T14:15:57.928Z"
   },
   {
    "duration": 0,
    "start_time": "2024-02-16T14:15:57.930Z"
   },
   {
    "duration": 0,
    "start_time": "2024-02-16T14:15:57.931Z"
   },
   {
    "duration": 0,
    "start_time": "2024-02-16T14:15:57.932Z"
   },
   {
    "duration": 0,
    "start_time": "2024-02-16T14:15:57.933Z"
   },
   {
    "duration": 0,
    "start_time": "2024-02-16T14:15:57.934Z"
   },
   {
    "duration": 0,
    "start_time": "2024-02-16T14:15:57.935Z"
   },
   {
    "duration": 5,
    "start_time": "2024-02-16T14:16:09.303Z"
   },
   {
    "duration": 54,
    "start_time": "2024-02-16T14:16:09.310Z"
   },
   {
    "duration": 0,
    "start_time": "2024-02-16T14:16:09.365Z"
   },
   {
    "duration": 0,
    "start_time": "2024-02-16T14:16:09.366Z"
   },
   {
    "duration": 0,
    "start_time": "2024-02-16T14:16:09.367Z"
   },
   {
    "duration": 0,
    "start_time": "2024-02-16T14:16:09.368Z"
   },
   {
    "duration": 0,
    "start_time": "2024-02-16T14:16:09.369Z"
   },
   {
    "duration": 4,
    "start_time": "2024-02-16T14:16:23.678Z"
   },
   {
    "duration": 67,
    "start_time": "2024-02-16T14:16:23.683Z"
   },
   {
    "duration": 0,
    "start_time": "2024-02-16T14:16:23.752Z"
   },
   {
    "duration": 0,
    "start_time": "2024-02-16T14:16:23.753Z"
   },
   {
    "duration": 0,
    "start_time": "2024-02-16T14:16:23.754Z"
   },
   {
    "duration": 10,
    "start_time": "2024-02-16T14:16:34.254Z"
   },
   {
    "duration": 1517,
    "start_time": "2024-02-16T14:16:34.266Z"
   },
   {
    "duration": 89,
    "start_time": "2024-02-16T14:16:35.784Z"
   },
   {
    "duration": 44,
    "start_time": "2024-02-18T05:11:43.059Z"
   },
   {
    "duration": 1289,
    "start_time": "2024-02-18T05:11:49.244Z"
   },
   {
    "duration": 189,
    "start_time": "2024-02-18T05:11:50.535Z"
   },
   {
    "duration": 11,
    "start_time": "2024-02-18T05:11:50.726Z"
   },
   {
    "duration": 25,
    "start_time": "2024-02-18T05:11:50.738Z"
   },
   {
    "duration": 23,
    "start_time": "2024-02-18T05:11:50.765Z"
   },
   {
    "duration": 20,
    "start_time": "2024-02-18T05:11:50.789Z"
   },
   {
    "duration": 7,
    "start_time": "2024-02-18T05:11:50.810Z"
   },
   {
    "duration": 10,
    "start_time": "2024-02-18T05:11:50.818Z"
   },
   {
    "duration": 38,
    "start_time": "2024-02-18T05:11:50.829Z"
   },
   {
    "duration": 8,
    "start_time": "2024-02-18T05:11:50.868Z"
   },
   {
    "duration": 4,
    "start_time": "2024-02-18T05:11:50.877Z"
   },
   {
    "duration": 9,
    "start_time": "2024-02-18T05:11:50.883Z"
   },
   {
    "duration": 6,
    "start_time": "2024-02-18T05:11:50.894Z"
   },
   {
    "duration": 4,
    "start_time": "2024-02-18T05:11:50.903Z"
   },
   {
    "duration": 11,
    "start_time": "2024-02-18T05:11:50.909Z"
   },
   {
    "duration": 198,
    "start_time": "2024-02-18T05:11:50.922Z"
   },
   {
    "duration": 5,
    "start_time": "2024-02-18T05:11:51.122Z"
   },
   {
    "duration": 136,
    "start_time": "2024-02-18T05:11:51.129Z"
   },
   {
    "duration": 165,
    "start_time": "2024-02-18T05:11:51.266Z"
   },
   {
    "duration": 199,
    "start_time": "2024-02-18T05:11:51.433Z"
   },
   {
    "duration": 211,
    "start_time": "2024-02-18T05:11:51.634Z"
   },
   {
    "duration": 39,
    "start_time": "2024-02-18T05:11:51.846Z"
   },
   {
    "duration": 31,
    "start_time": "2024-02-18T05:11:51.887Z"
   },
   {
    "duration": 23,
    "start_time": "2024-02-18T05:11:51.920Z"
   },
   {
    "duration": 281,
    "start_time": "2024-02-18T05:11:51.965Z"
   },
   {
    "duration": 288,
    "start_time": "2024-02-18T05:11:52.248Z"
   },
   {
    "duration": 44,
    "start_time": "2024-02-18T05:11:52.538Z"
   },
   {
    "duration": 12,
    "start_time": "2024-02-18T05:11:52.584Z"
   },
   {
    "duration": 12,
    "start_time": "2024-02-18T05:11:52.598Z"
   },
   {
    "duration": 121,
    "start_time": "2024-02-18T05:11:52.611Z"
   },
   {
    "duration": 189,
    "start_time": "2024-02-18T05:11:52.734Z"
   },
   {
    "duration": 5,
    "start_time": "2024-02-18T05:11:52.925Z"
   },
   {
    "duration": 4,
    "start_time": "2024-02-18T05:11:52.931Z"
   },
   {
    "duration": 4,
    "start_time": "2024-02-18T05:11:52.936Z"
   },
   {
    "duration": 29,
    "start_time": "2024-02-18T05:11:52.941Z"
   },
   {
    "duration": 1337,
    "start_time": "2024-02-18T05:11:52.972Z"
   },
   {
    "duration": 96,
    "start_time": "2024-02-18T05:11:54.310Z"
   },
   {
    "duration": 64,
    "start_time": "2024-02-18T05:22:41.487Z"
   },
   {
    "duration": 9,
    "start_time": "2024-02-18T05:28:50.661Z"
   },
   {
    "duration": 8,
    "start_time": "2024-02-18T05:29:00.321Z"
   },
   {
    "duration": 9,
    "start_time": "2024-02-18T05:29:11.037Z"
   },
   {
    "duration": 87,
    "start_time": "2024-02-18T05:41:35.538Z"
   },
   {
    "duration": 85,
    "start_time": "2024-02-18T06:29:37.181Z"
   },
   {
    "duration": 1071,
    "start_time": "2024-02-18T06:30:21.787Z"
   },
   {
    "duration": 66,
    "start_time": "2024-02-18T06:30:22.860Z"
   },
   {
    "duration": 13,
    "start_time": "2024-02-18T06:30:22.927Z"
   },
   {
    "duration": 27,
    "start_time": "2024-02-18T06:30:22.942Z"
   },
   {
    "duration": 23,
    "start_time": "2024-02-18T06:30:22.970Z"
   },
   {
    "duration": 20,
    "start_time": "2024-02-18T06:30:22.994Z"
   },
   {
    "duration": 9,
    "start_time": "2024-02-18T06:30:23.016Z"
   },
   {
    "duration": 10,
    "start_time": "2024-02-18T06:30:23.026Z"
   },
   {
    "duration": 7,
    "start_time": "2024-02-18T06:30:23.037Z"
   },
   {
    "duration": 6,
    "start_time": "2024-02-18T06:30:23.046Z"
   },
   {
    "duration": 3,
    "start_time": "2024-02-18T06:30:23.053Z"
   },
   {
    "duration": 15,
    "start_time": "2024-02-18T06:30:23.058Z"
   },
   {
    "duration": 5,
    "start_time": "2024-02-18T06:30:23.075Z"
   },
   {
    "duration": 6,
    "start_time": "2024-02-18T06:30:23.081Z"
   },
   {
    "duration": 5,
    "start_time": "2024-02-18T06:30:23.088Z"
   },
   {
    "duration": 213,
    "start_time": "2024-02-18T06:30:23.095Z"
   },
   {
    "duration": 5,
    "start_time": "2024-02-18T06:30:23.309Z"
   },
   {
    "duration": 173,
    "start_time": "2024-02-18T06:30:23.316Z"
   },
   {
    "duration": 213,
    "start_time": "2024-02-18T06:30:23.491Z"
   },
   {
    "duration": 213,
    "start_time": "2024-02-18T06:30:23.705Z"
   },
   {
    "duration": 199,
    "start_time": "2024-02-18T06:30:23.920Z"
   },
   {
    "duration": 8,
    "start_time": "2024-02-18T06:30:24.120Z"
   },
   {
    "duration": 43,
    "start_time": "2024-02-18T06:30:24.130Z"
   },
   {
    "duration": 24,
    "start_time": "2024-02-18T06:30:24.175Z"
   },
   {
    "duration": 21,
    "start_time": "2024-02-18T06:30:24.201Z"
   },
   {
    "duration": 304,
    "start_time": "2024-02-18T06:30:24.223Z"
   },
   {
    "duration": 278,
    "start_time": "2024-02-18T06:30:24.528Z"
   },
   {
    "duration": 34,
    "start_time": "2024-02-18T06:30:24.808Z"
   },
   {
    "duration": 23,
    "start_time": "2024-02-18T06:30:24.844Z"
   },
   {
    "duration": 11,
    "start_time": "2024-02-18T06:30:24.868Z"
   },
   {
    "duration": 112,
    "start_time": "2024-02-18T06:30:24.880Z"
   },
   {
    "duration": 212,
    "start_time": "2024-02-18T06:30:24.994Z"
   },
   {
    "duration": 6,
    "start_time": "2024-02-18T06:30:25.207Z"
   },
   {
    "duration": 5,
    "start_time": "2024-02-18T06:30:25.214Z"
   },
   {
    "duration": 14,
    "start_time": "2024-02-18T06:30:25.220Z"
   },
   {
    "duration": 9,
    "start_time": "2024-02-18T06:30:25.236Z"
   },
   {
    "duration": 1405,
    "start_time": "2024-02-18T06:30:25.246Z"
   },
   {
    "duration": 84,
    "start_time": "2024-02-18T06:30:26.653Z"
   }
  ],
  "kernelspec": {
   "display_name": "Python 3 (ipykernel)",
   "language": "python",
   "name": "python3"
  },
  "language_info": {
   "codemirror_mode": {
    "name": "ipython",
    "version": 3
   },
   "file_extension": ".py",
   "mimetype": "text/x-python",
   "name": "python",
   "nbconvert_exporter": "python",
   "pygments_lexer": "ipython3",
   "version": "3.9.5"
  },
  "toc": {
   "base_numbering": 1,
   "nav_menu": {},
   "number_sections": true,
   "sideBar": true,
   "skip_h1_title": true,
   "title_cell": "Table of Contents",
   "title_sidebar": "Contents",
   "toc_cell": false,
   "toc_position": {},
   "toc_section_display": true,
   "toc_window_display": false
  }
 },
 "nbformat": 4,
 "nbformat_minor": 5
}
