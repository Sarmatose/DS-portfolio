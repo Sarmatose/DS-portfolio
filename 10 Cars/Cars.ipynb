{
 "cells": [
  {
   "cell_type": "markdown",
   "metadata": {},
   "source": [
    "# Определение стоимости автомобилей"
   ]
  },
  {
   "cell_type": "markdown",
   "metadata": {},
   "source": [
    "Сервис по продаже автомобилей с пробегом «Не бит, не крашен» разрабатывает приложение для привлечения новых клиентов. В нём можно быстро узнать рыночную стоимость своего автомобиля. В вашем распоряжении исторические данные: технические характеристики, комплектации и цены автомобилей. Вам нужно построить модель для определения стоимости. \n",
    "\n",
    "Заказчику важны:\n",
    "\n",
    "- качество предсказания;\n",
    "- скорость предсказания;\n",
    "- время обучения."
   ]
  },
  {
   "cell_type": "markdown",
   "metadata": {},
   "source": [
    "# План работы:"
   ]
  },
  {
   "cell_type": "markdown",
   "metadata": {},
   "source": [
    "\n",
    "    - Загрузка данных и библиотек;\n",
    "    - Первичный осмотр данных;\n",
    "    - Предобработка данных;\n",
    "    - Исследовательский анализ данных;\n",
    "    - Подготовка данных для обучения моделей;\n",
    "    - Обучение моделей;\n",
    "    - Сравнение показателей точности и быстродействия моделей;\n",
    "    - Общий вывод по проекту.\n",
    "    - Проверка работоспособности кода и комментариев (контрольная проверка перед отправкой на ревью)."
   ]
  },
  {
   "cell_type": "markdown",
   "metadata": {},
   "source": [
    "## Загрузка библиотек и осмотр данных"
   ]
  },
  {
   "cell_type": "code",
   "execution_count": 1,
   "metadata": {},
   "outputs": [
    {
     "name": "stdout",
     "output_type": "stream",
     "text": [
      "Requirement already satisfied: catboost in /opt/conda/lib/python3.9/site-packages (1.0.3)\n",
      "Requirement already satisfied: six in /opt/conda/lib/python3.9/site-packages (from catboost) (1.16.0)\n",
      "Requirement already satisfied: scipy in /opt/conda/lib/python3.9/site-packages (from catboost) (1.9.1)\n",
      "Requirement already satisfied: pandas>=0.24.0 in /opt/conda/lib/python3.9/site-packages (from catboost) (1.2.4)\n",
      "Requirement already satisfied: graphviz in /opt/conda/lib/python3.9/site-packages (from catboost) (0.20.1)\n",
      "Requirement already satisfied: plotly in /opt/conda/lib/python3.9/site-packages (from catboost) (5.4.0)\n",
      "Requirement already satisfied: numpy>=1.16.0 in /opt/conda/lib/python3.9/site-packages (from catboost) (1.21.1)\n",
      "Requirement already satisfied: matplotlib in /opt/conda/lib/python3.9/site-packages (from catboost) (3.3.4)\n",
      "Requirement already satisfied: python-dateutil>=2.7.3 in /opt/conda/lib/python3.9/site-packages (from pandas>=0.24.0->catboost) (2.8.1)\n",
      "Requirement already satisfied: pytz>=2017.3 in /opt/conda/lib/python3.9/site-packages (from pandas>=0.24.0->catboost) (2021.1)\n",
      "Requirement already satisfied: pyparsing!=2.0.4,!=2.1.2,!=2.1.6,>=2.0.3 in /opt/conda/lib/python3.9/site-packages (from matplotlib->catboost) (2.4.7)\n",
      "Requirement already satisfied: pillow>=6.2.0 in /opt/conda/lib/python3.9/site-packages (from matplotlib->catboost) (10.3.0)\n",
      "Requirement already satisfied: kiwisolver>=1.0.1 in /opt/conda/lib/python3.9/site-packages (from matplotlib->catboost) (1.4.4)\n",
      "Requirement already satisfied: cycler>=0.10 in /opt/conda/lib/python3.9/site-packages (from matplotlib->catboost) (0.11.0)\n",
      "Requirement already satisfied: tenacity>=6.2.0 in /opt/conda/lib/python3.9/site-packages (from plotly->catboost) (8.0.1)\n"
     ]
    }
   ],
   "source": [
    "! pip install catboost "
   ]
  },
  {
   "cell_type": "code",
   "execution_count": 2,
   "metadata": {
    "collapsed": true
   },
   "outputs": [
    {
     "name": "stdout",
     "output_type": "stream",
     "text": [
      "Requirement already satisfied: optuna in /opt/conda/lib/python3.9/site-packages (3.6.1)\n",
      "Requirement already satisfied: tqdm in /opt/conda/lib/python3.9/site-packages (from optuna) (4.61.2)\n",
      "Requirement already satisfied: packaging>=20.0 in /opt/conda/lib/python3.9/site-packages (from optuna) (21.3)\n",
      "Requirement already satisfied: numpy in /opt/conda/lib/python3.9/site-packages (from optuna) (1.21.1)\n",
      "Requirement already satisfied: alembic>=1.5.0 in /opt/conda/lib/python3.9/site-packages (from optuna) (1.6.5)\n",
      "Requirement already satisfied: colorlog in /opt/conda/lib/python3.9/site-packages (from optuna) (6.8.2)\n",
      "Requirement already satisfied: PyYAML in /opt/conda/lib/python3.9/site-packages (from optuna) (6.0)\n",
      "Requirement already satisfied: sqlalchemy>=1.3.0 in /opt/conda/lib/python3.9/site-packages (from optuna) (1.4.20)\n",
      "Requirement already satisfied: python-editor>=0.3 in /opt/conda/lib/python3.9/site-packages (from alembic>=1.5.0->optuna) (1.0.4)\n",
      "Requirement already satisfied: Mako in /opt/conda/lib/python3.9/site-packages (from alembic>=1.5.0->optuna) (1.1.4)\n",
      "Requirement already satisfied: python-dateutil in /opt/conda/lib/python3.9/site-packages (from alembic>=1.5.0->optuna) (2.8.1)\n",
      "Requirement already satisfied: pyparsing!=3.0.5,>=2.0.2 in /opt/conda/lib/python3.9/site-packages (from packaging>=20.0->optuna) (2.4.7)\n",
      "Requirement already satisfied: greenlet!=0.4.17 in /opt/conda/lib/python3.9/site-packages (from sqlalchemy>=1.3.0->optuna) (1.1.0)\n",
      "Requirement already satisfied: MarkupSafe>=0.9.2 in /opt/conda/lib/python3.9/site-packages (from Mako->alembic>=1.5.0->optuna) (2.1.1)\n",
      "Requirement already satisfied: six>=1.5 in /opt/conda/lib/python3.9/site-packages (from python-dateutil->alembic>=1.5.0->optuna) (1.16.0)\n"
     ]
    }
   ],
   "source": [
    "! pip install optuna "
   ]
  },
  {
   "cell_type": "code",
   "execution_count": 3,
   "metadata": {
    "collapsed": true
   },
   "outputs": [
    {
     "name": "stdout",
     "output_type": "stream",
     "text": [
      "Requirement already satisfied: fastai in /opt/conda/lib/python3.9/site-packages (2.7.15)\n",
      "Requirement already satisfied: matplotlib in /opt/conda/lib/python3.9/site-packages (from fastai) (3.3.4)\n",
      "Requirement already satisfied: fastdownload<2,>=0.0.5 in /opt/conda/lib/python3.9/site-packages (from fastai) (0.0.7)\n",
      "Requirement already satisfied: fastcore<1.6,>=1.5.29 in /opt/conda/lib/python3.9/site-packages (from fastai) (1.5.45)\n",
      "Requirement already satisfied: requests in /opt/conda/lib/python3.9/site-packages (from fastai) (2.25.1)\n",
      "Requirement already satisfied: scipy in /opt/conda/lib/python3.9/site-packages (from fastai) (1.9.1)\n",
      "Requirement already satisfied: torchvision>=0.11 in /opt/conda/lib/python3.9/site-packages (from fastai) (0.18.1)\n",
      "Requirement already satisfied: pillow>=9.0.0 in /opt/conda/lib/python3.9/site-packages (from fastai) (10.3.0)\n",
      "Requirement already satisfied: fastprogress>=0.2.4 in /opt/conda/lib/python3.9/site-packages (from fastai) (1.0.3)\n",
      "Requirement already satisfied: packaging in /opt/conda/lib/python3.9/site-packages (from fastai) (21.3)\n",
      "Requirement already satisfied: spacy<4 in /opt/conda/lib/python3.9/site-packages (from fastai) (3.2.0)\n",
      "Requirement already satisfied: pyyaml in /opt/conda/lib/python3.9/site-packages (from fastai) (6.0)\n",
      "Requirement already satisfied: scikit-learn in /opt/conda/lib/python3.9/site-packages (from fastai) (0.24.1)\n",
      "Requirement already satisfied: torch<2.4,>=1.10 in /opt/conda/lib/python3.9/site-packages (from fastai) (2.3.1)\n",
      "Requirement already satisfied: pip in /opt/conda/lib/python3.9/site-packages (from fastai) (21.1.3)\n",
      "Requirement already satisfied: pandas in /opt/conda/lib/python3.9/site-packages (from fastai) (1.2.4)\n",
      "Requirement already satisfied: thinc<8.1.0,>=8.0.12 in /opt/conda/lib/python3.9/site-packages (from spacy<4->fastai) (8.0.17)\n",
      "Requirement already satisfied: murmurhash<1.1.0,>=0.28.0 in /opt/conda/lib/python3.9/site-packages (from spacy<4->fastai) (1.0.8)\n",
      "Requirement already satisfied: pathy>=0.3.5 in /opt/conda/lib/python3.9/site-packages (from spacy<4->fastai) (0.6.2)\n",
      "Requirement already satisfied: typer<0.5.0,>=0.3.0 in /opt/conda/lib/python3.9/site-packages (from spacy<4->fastai) (0.4.2)\n",
      "Requirement already satisfied: jinja2 in /opt/conda/lib/python3.9/site-packages (from spacy<4->fastai) (3.0.1)\n",
      "Requirement already satisfied: numpy>=1.15.0 in /opt/conda/lib/python3.9/site-packages (from spacy<4->fastai) (1.21.1)\n",
      "Requirement already satisfied: spacy-loggers<2.0.0,>=1.0.0 in /opt/conda/lib/python3.9/site-packages (from spacy<4->fastai) (1.0.3)\n",
      "Requirement already satisfied: blis<0.8.0,>=0.4.0 in /opt/conda/lib/python3.9/site-packages (from spacy<4->fastai) (0.7.8)\n",
      "Requirement already satisfied: setuptools in /opt/conda/lib/python3.9/site-packages (from spacy<4->fastai) (49.6.0.post20210108)\n",
      "Requirement already satisfied: langcodes<4.0.0,>=3.2.0 in /opt/conda/lib/python3.9/site-packages (from spacy<4->fastai) (3.3.0)\n",
      "Requirement already satisfied: srsly<3.0.0,>=2.4.1 in /opt/conda/lib/python3.9/site-packages (from spacy<4->fastai) (2.4.4)\n",
      "Requirement already satisfied: catalogue<2.1.0,>=2.0.6 in /opt/conda/lib/python3.9/site-packages (from spacy<4->fastai) (2.0.8)\n",
      "Requirement already satisfied: pydantic!=1.8,!=1.8.1,<1.9.0,>=1.7.4 in /opt/conda/lib/python3.9/site-packages (from spacy<4->fastai) (1.8.2)\n",
      "Requirement already satisfied: preshed<3.1.0,>=3.0.2 in /opt/conda/lib/python3.9/site-packages (from spacy<4->fastai) (3.0.7)\n",
      "Requirement already satisfied: tqdm<5.0.0,>=4.38.0 in /opt/conda/lib/python3.9/site-packages (from spacy<4->fastai) (4.61.2)\n",
      "Requirement already satisfied: spacy-legacy<3.1.0,>=3.0.8 in /opt/conda/lib/python3.9/site-packages (from spacy<4->fastai) (3.0.10)\n",
      "Requirement already satisfied: wasabi<1.1.0,>=0.8.1 in /opt/conda/lib/python3.9/site-packages (from spacy<4->fastai) (0.10.1)\n",
      "Requirement already satisfied: cymem<2.1.0,>=2.0.2 in /opt/conda/lib/python3.9/site-packages (from spacy<4->fastai) (2.0.6)\n",
      "Requirement already satisfied: pyparsing!=3.0.5,>=2.0.2 in /opt/conda/lib/python3.9/site-packages (from packaging->fastai) (2.4.7)\n",
      "Requirement already satisfied: smart-open<6.0.0,>=5.2.1 in /opt/conda/lib/python3.9/site-packages (from pathy>=0.3.5->spacy<4->fastai) (5.2.1)\n",
      "Requirement already satisfied: typing-extensions>=3.7.4.3 in /opt/conda/lib/python3.9/site-packages (from pydantic!=1.8,!=1.8.1,<1.9.0,>=1.7.4->spacy<4->fastai) (4.12.2)\n",
      "Requirement already satisfied: urllib3<1.27,>=1.21.1 in /opt/conda/lib/python3.9/site-packages (from requests->fastai) (1.26.6)\n",
      "Requirement already satisfied: idna<3,>=2.5 in /opt/conda/lib/python3.9/site-packages (from requests->fastai) (2.10)\n",
      "Requirement already satisfied: certifi>=2017.4.17 in /opt/conda/lib/python3.9/site-packages (from requests->fastai) (2022.6.15)\n",
      "Requirement already satisfied: chardet<5,>=3.0.2 in /opt/conda/lib/python3.9/site-packages (from requests->fastai) (4.0.0)\n",
      "Requirement already satisfied: filelock in /opt/conda/lib/python3.9/site-packages (from torch<2.4,>=1.10->fastai) (3.8.0)\n",
      "Requirement already satisfied: nvidia-cuda-runtime-cu12==12.1.105 in /opt/conda/lib/python3.9/site-packages (from torch<2.4,>=1.10->fastai) (12.1.105)\n",
      "Requirement already satisfied: nvidia-cuda-cupti-cu12==12.1.105 in /opt/conda/lib/python3.9/site-packages (from torch<2.4,>=1.10->fastai) (12.1.105)\n",
      "Requirement already satisfied: nvidia-cufft-cu12==11.0.2.54 in /opt/conda/lib/python3.9/site-packages (from torch<2.4,>=1.10->fastai) (11.0.2.54)\n",
      "Requirement already satisfied: nvidia-cusolver-cu12==11.4.5.107 in /opt/conda/lib/python3.9/site-packages (from torch<2.4,>=1.10->fastai) (11.4.5.107)\n",
      "Requirement already satisfied: nvidia-nvtx-cu12==12.1.105 in /opt/conda/lib/python3.9/site-packages (from torch<2.4,>=1.10->fastai) (12.1.105)\n",
      "Requirement already satisfied: nvidia-cuda-nvrtc-cu12==12.1.105 in /opt/conda/lib/python3.9/site-packages (from torch<2.4,>=1.10->fastai) (12.1.105)\n",
      "Requirement already satisfied: nvidia-cusparse-cu12==12.1.0.106 in /opt/conda/lib/python3.9/site-packages (from torch<2.4,>=1.10->fastai) (12.1.0.106)\n",
      "Requirement already satisfied: nvidia-curand-cu12==10.3.2.106 in /opt/conda/lib/python3.9/site-packages (from torch<2.4,>=1.10->fastai) (10.3.2.106)\n",
      "Requirement already satisfied: nvidia-nccl-cu12==2.20.5 in /opt/conda/lib/python3.9/site-packages (from torch<2.4,>=1.10->fastai) (2.20.5)\n",
      "Requirement already satisfied: networkx in /opt/conda/lib/python3.9/site-packages (from torch<2.4,>=1.10->fastai) (3.2.1)\n",
      "Requirement already satisfied: nvidia-cudnn-cu12==8.9.2.26 in /opt/conda/lib/python3.9/site-packages (from torch<2.4,>=1.10->fastai) (8.9.2.26)\n",
      "Requirement already satisfied: sympy in /opt/conda/lib/python3.9/site-packages (from torch<2.4,>=1.10->fastai) (1.12.1)\n",
      "Requirement already satisfied: nvidia-cublas-cu12==12.1.3.1 in /opt/conda/lib/python3.9/site-packages (from torch<2.4,>=1.10->fastai) (12.1.3.1)\n",
      "Requirement already satisfied: triton==2.3.1 in /opt/conda/lib/python3.9/site-packages (from torch<2.4,>=1.10->fastai) (2.3.1)\n",
      "Requirement already satisfied: fsspec in /opt/conda/lib/python3.9/site-packages (from torch<2.4,>=1.10->fastai) (2024.6.0)\n",
      "Requirement already satisfied: nvidia-nvjitlink-cu12 in /opt/conda/lib/python3.9/site-packages (from nvidia-cusolver-cu12==11.4.5.107->torch<2.4,>=1.10->fastai) (12.5.40)\n",
      "Requirement already satisfied: click<9.0.0,>=7.1.1 in /opt/conda/lib/python3.9/site-packages (from typer<0.5.0,>=0.3.0->spacy<4->fastai) (8.1.3)\n",
      "Requirement already satisfied: MarkupSafe>=2.0 in /opt/conda/lib/python3.9/site-packages (from jinja2->spacy<4->fastai) (2.1.1)\n",
      "Requirement already satisfied: cycler>=0.10 in /opt/conda/lib/python3.9/site-packages (from matplotlib->fastai) (0.11.0)\n",
      "Requirement already satisfied: kiwisolver>=1.0.1 in /opt/conda/lib/python3.9/site-packages (from matplotlib->fastai) (1.4.4)\n",
      "Requirement already satisfied: python-dateutil>=2.1 in /opt/conda/lib/python3.9/site-packages (from matplotlib->fastai) (2.8.1)\n",
      "Requirement already satisfied: six>=1.5 in /opt/conda/lib/python3.9/site-packages (from python-dateutil>=2.1->matplotlib->fastai) (1.16.0)\n",
      "Requirement already satisfied: pytz>=2017.3 in /opt/conda/lib/python3.9/site-packages (from pandas->fastai) (2021.1)\n",
      "Requirement already satisfied: threadpoolctl>=2.0.0 in /opt/conda/lib/python3.9/site-packages (from scikit-learn->fastai) (3.1.0)\r\n",
      "Requirement already satisfied: joblib>=0.11 in /opt/conda/lib/python3.9/site-packages (from scikit-learn->fastai) (1.1.0)\r\n",
      "Requirement already satisfied: mpmath<1.4.0,>=1.1.0 in /opt/conda/lib/python3.9/site-packages (from sympy->torch<2.4,>=1.10->fastai) (1.3.0)\r\n"
     ]
    }
   ],
   "source": [
    "! pip install fastai"
   ]
  },
  {
   "cell_type": "code",
   "execution_count": 4,
   "metadata": {},
   "outputs": [],
   "source": [
    "import pandas as pd\n",
    "import seaborn as sns\n",
    "import matplotlib.pyplot as plt\n",
    "import numpy as np\n",
    "\n",
    "import optuna\n",
    "from sklearn.model_selection import train_test_split\n",
    "from sklearn.metrics import mean_squared_error\n",
    "from sklearn.model_selection import GridSearchCV\n",
    "\n",
    "import catboost as cb\n",
    "from catboost import CatBoostRegressor\n",
    "from fastai.tabular.all import *\n",
    "import lightgbm as lgbm"
   ]
  },
  {
   "cell_type": "code",
   "execution_count": 5,
   "metadata": {},
   "outputs": [],
   "source": [
    "RANDOM_STATE = 42"
   ]
  },
  {
   "cell_type": "markdown",
   "metadata": {},
   "source": [
    "\n",
    "<div class=\"alert alert-success\">\n",
    "<font size=\"5\"><b>Комментарий ревьюера</b></font>\n",
    "\n",
    "Успех:\n",
    "\n",
    "Собираем все импорты в верхней части, чтобы легче было ориентироваться и добавлять новые по необходимости. \n",
    "\n",
    "<div class=\"alert alert-warning\">\n",
    "\n",
    "\n",
    "Совет:\n",
    "\n",
    "    \n",
    "\n",
    "   \n",
    "\n",
    "- есть рекомендации PEP-8 при написании кода, в том числе и для импортов. Если интересно можешь почитать [тут](https://pythonworld.ru/osnovy/pep-8-rukovodstvo-po-napisaniyu-koda-na-python.html). Есть что поправить \n",
    "\n"
   ]
  },
  {
   "cell_type": "code",
   "execution_count": 6,
   "metadata": {},
   "outputs": [],
   "source": [
    "sns.set(rc={\"figure.figsize\":(15, 9)}) #немного красоты графикам\n",
    "sns.set_style(\"darkgrid\")"
   ]
  },
  {
   "cell_type": "code",
   "execution_count": 7,
   "metadata": {},
   "outputs": [
    {
     "name": "stdout",
     "output_type": "stream",
     "text": [
      "Данные успешно загружены\n"
     ]
    }
   ],
   "source": [
    "try:\n",
    "    df = pd.read_csv('/datasets/autos.csv')\n",
    "except (FileNotFoundError, OSError) as e:\n",
    "    try: # здесь нужно прописать путь к дф на стационарном компьютере\n",
    "        df = pd.read_csv(\"C://Users/rdl_b/OneDrive/Рабочий стол/python/Yandex Practicum/Загрузка проектов/Проект 10/autos.csv\")\n",
    "    except (FileNotFoundError, OSError):\n",
    "        print(\"Ошибка: не удалось загрузить данные\")\n",
    "else:\n",
    "    print(\"Данные успешно загружены\")"
   ]
  },
  {
   "cell_type": "code",
   "execution_count": 8,
   "metadata": {},
   "outputs": [
    {
     "data": {
      "text/html": [
       "<div>\n",
       "<style scoped>\n",
       "    .dataframe tbody tr th:only-of-type {\n",
       "        vertical-align: middle;\n",
       "    }\n",
       "\n",
       "    .dataframe tbody tr th {\n",
       "        vertical-align: top;\n",
       "    }\n",
       "\n",
       "    .dataframe thead th {\n",
       "        text-align: right;\n",
       "    }\n",
       "</style>\n",
       "<table border=\"1\" class=\"dataframe\">\n",
       "  <thead>\n",
       "    <tr style=\"text-align: right;\">\n",
       "      <th></th>\n",
       "      <th>DateCrawled</th>\n",
       "      <th>Price</th>\n",
       "      <th>VehicleType</th>\n",
       "      <th>RegistrationYear</th>\n",
       "      <th>Gearbox</th>\n",
       "      <th>Power</th>\n",
       "      <th>Model</th>\n",
       "      <th>Kilometer</th>\n",
       "      <th>RegistrationMonth</th>\n",
       "      <th>FuelType</th>\n",
       "      <th>Brand</th>\n",
       "      <th>Repaired</th>\n",
       "      <th>DateCreated</th>\n",
       "      <th>NumberOfPictures</th>\n",
       "      <th>PostalCode</th>\n",
       "      <th>LastSeen</th>\n",
       "    </tr>\n",
       "  </thead>\n",
       "  <tbody>\n",
       "    <tr>\n",
       "      <th>0</th>\n",
       "      <td>2016-03-24 11:52:17</td>\n",
       "      <td>480</td>\n",
       "      <td>NaN</td>\n",
       "      <td>1993</td>\n",
       "      <td>manual</td>\n",
       "      <td>0</td>\n",
       "      <td>golf</td>\n",
       "      <td>150000</td>\n",
       "      <td>0</td>\n",
       "      <td>petrol</td>\n",
       "      <td>volkswagen</td>\n",
       "      <td>NaN</td>\n",
       "      <td>2016-03-24 00:00:00</td>\n",
       "      <td>0</td>\n",
       "      <td>70435</td>\n",
       "      <td>2016-04-07 03:16:57</td>\n",
       "    </tr>\n",
       "    <tr>\n",
       "      <th>1</th>\n",
       "      <td>2016-03-24 10:58:45</td>\n",
       "      <td>18300</td>\n",
       "      <td>coupe</td>\n",
       "      <td>2011</td>\n",
       "      <td>manual</td>\n",
       "      <td>190</td>\n",
       "      <td>NaN</td>\n",
       "      <td>125000</td>\n",
       "      <td>5</td>\n",
       "      <td>gasoline</td>\n",
       "      <td>audi</td>\n",
       "      <td>yes</td>\n",
       "      <td>2016-03-24 00:00:00</td>\n",
       "      <td>0</td>\n",
       "      <td>66954</td>\n",
       "      <td>2016-04-07 01:46:50</td>\n",
       "    </tr>\n",
       "    <tr>\n",
       "      <th>2</th>\n",
       "      <td>2016-03-14 12:52:21</td>\n",
       "      <td>9800</td>\n",
       "      <td>suv</td>\n",
       "      <td>2004</td>\n",
       "      <td>auto</td>\n",
       "      <td>163</td>\n",
       "      <td>grand</td>\n",
       "      <td>125000</td>\n",
       "      <td>8</td>\n",
       "      <td>gasoline</td>\n",
       "      <td>jeep</td>\n",
       "      <td>NaN</td>\n",
       "      <td>2016-03-14 00:00:00</td>\n",
       "      <td>0</td>\n",
       "      <td>90480</td>\n",
       "      <td>2016-04-05 12:47:46</td>\n",
       "    </tr>\n",
       "    <tr>\n",
       "      <th>3</th>\n",
       "      <td>2016-03-17 16:54:04</td>\n",
       "      <td>1500</td>\n",
       "      <td>small</td>\n",
       "      <td>2001</td>\n",
       "      <td>manual</td>\n",
       "      <td>75</td>\n",
       "      <td>golf</td>\n",
       "      <td>150000</td>\n",
       "      <td>6</td>\n",
       "      <td>petrol</td>\n",
       "      <td>volkswagen</td>\n",
       "      <td>no</td>\n",
       "      <td>2016-03-17 00:00:00</td>\n",
       "      <td>0</td>\n",
       "      <td>91074</td>\n",
       "      <td>2016-03-17 17:40:17</td>\n",
       "    </tr>\n",
       "    <tr>\n",
       "      <th>4</th>\n",
       "      <td>2016-03-31 17:25:20</td>\n",
       "      <td>3600</td>\n",
       "      <td>small</td>\n",
       "      <td>2008</td>\n",
       "      <td>manual</td>\n",
       "      <td>69</td>\n",
       "      <td>fabia</td>\n",
       "      <td>90000</td>\n",
       "      <td>7</td>\n",
       "      <td>gasoline</td>\n",
       "      <td>skoda</td>\n",
       "      <td>no</td>\n",
       "      <td>2016-03-31 00:00:00</td>\n",
       "      <td>0</td>\n",
       "      <td>60437</td>\n",
       "      <td>2016-04-06 10:17:21</td>\n",
       "    </tr>\n",
       "  </tbody>\n",
       "</table>\n",
       "</div>"
      ],
      "text/plain": [
       "           DateCrawled  Price VehicleType  RegistrationYear Gearbox  Power  \\\n",
       "0  2016-03-24 11:52:17    480         NaN              1993  manual      0   \n",
       "1  2016-03-24 10:58:45  18300       coupe              2011  manual    190   \n",
       "2  2016-03-14 12:52:21   9800         suv              2004    auto    163   \n",
       "3  2016-03-17 16:54:04   1500       small              2001  manual     75   \n",
       "4  2016-03-31 17:25:20   3600       small              2008  manual     69   \n",
       "\n",
       "   Model  Kilometer  RegistrationMonth  FuelType       Brand Repaired  \\\n",
       "0   golf     150000                  0    petrol  volkswagen      NaN   \n",
       "1    NaN     125000                  5  gasoline        audi      yes   \n",
       "2  grand     125000                  8  gasoline        jeep      NaN   \n",
       "3   golf     150000                  6    petrol  volkswagen       no   \n",
       "4  fabia      90000                  7  gasoline       skoda       no   \n",
       "\n",
       "           DateCreated  NumberOfPictures  PostalCode             LastSeen  \n",
       "0  2016-03-24 00:00:00                 0       70435  2016-04-07 03:16:57  \n",
       "1  2016-03-24 00:00:00                 0       66954  2016-04-07 01:46:50  \n",
       "2  2016-03-14 00:00:00                 0       90480  2016-04-05 12:47:46  \n",
       "3  2016-03-17 00:00:00                 0       91074  2016-03-17 17:40:17  \n",
       "4  2016-03-31 00:00:00                 0       60437  2016-04-06 10:17:21  "
      ]
     },
     "execution_count": 8,
     "metadata": {},
     "output_type": "execute_result"
    }
   ],
   "source": [
    "df.head()"
   ]
  },
  {
   "cell_type": "code",
   "execution_count": 9,
   "metadata": {},
   "outputs": [
    {
     "name": "stdout",
     "output_type": "stream",
     "text": [
      "<class 'pandas.core.frame.DataFrame'>\n",
      "RangeIndex: 354369 entries, 0 to 354368\n",
      "Data columns (total 16 columns):\n",
      " #   Column             Non-Null Count   Dtype \n",
      "---  ------             --------------   ----- \n",
      " 0   DateCrawled        354369 non-null  object\n",
      " 1   Price              354369 non-null  int64 \n",
      " 2   VehicleType        316879 non-null  object\n",
      " 3   RegistrationYear   354369 non-null  int64 \n",
      " 4   Gearbox            334536 non-null  object\n",
      " 5   Power              354369 non-null  int64 \n",
      " 6   Model              334664 non-null  object\n",
      " 7   Kilometer          354369 non-null  int64 \n",
      " 8   RegistrationMonth  354369 non-null  int64 \n",
      " 9   FuelType           321474 non-null  object\n",
      " 10  Brand              354369 non-null  object\n",
      " 11  Repaired           283215 non-null  object\n",
      " 12  DateCreated        354369 non-null  object\n",
      " 13  NumberOfPictures   354369 non-null  int64 \n",
      " 14  PostalCode         354369 non-null  int64 \n",
      " 15  LastSeen           354369 non-null  object\n",
      "dtypes: int64(7), object(9)\n",
      "memory usage: 43.3+ MB\n"
     ]
    }
   ],
   "source": [
    "df.info()"
   ]
  },
  {
   "cell_type": "code",
   "execution_count": 10,
   "metadata": {},
   "outputs": [
    {
     "data": {
      "text/html": [
       "<div>\n",
       "<style scoped>\n",
       "    .dataframe tbody tr th:only-of-type {\n",
       "        vertical-align: middle;\n",
       "    }\n",
       "\n",
       "    .dataframe tbody tr th {\n",
       "        vertical-align: top;\n",
       "    }\n",
       "\n",
       "    .dataframe thead th {\n",
       "        text-align: right;\n",
       "    }\n",
       "</style>\n",
       "<table border=\"1\" class=\"dataframe\">\n",
       "  <thead>\n",
       "    <tr style=\"text-align: right;\">\n",
       "      <th></th>\n",
       "      <th>count</th>\n",
       "      <th>mean</th>\n",
       "      <th>std</th>\n",
       "      <th>min</th>\n",
       "      <th>25%</th>\n",
       "      <th>50%</th>\n",
       "      <th>75%</th>\n",
       "      <th>max</th>\n",
       "    </tr>\n",
       "  </thead>\n",
       "  <tbody>\n",
       "    <tr>\n",
       "      <th>Price</th>\n",
       "      <td>354369.0</td>\n",
       "      <td>4416.656776</td>\n",
       "      <td>4514.158514</td>\n",
       "      <td>0.0</td>\n",
       "      <td>1050.0</td>\n",
       "      <td>2700.0</td>\n",
       "      <td>6400.0</td>\n",
       "      <td>20000.0</td>\n",
       "    </tr>\n",
       "    <tr>\n",
       "      <th>RegistrationYear</th>\n",
       "      <td>354369.0</td>\n",
       "      <td>2004.234448</td>\n",
       "      <td>90.227958</td>\n",
       "      <td>1000.0</td>\n",
       "      <td>1999.0</td>\n",
       "      <td>2003.0</td>\n",
       "      <td>2008.0</td>\n",
       "      <td>9999.0</td>\n",
       "    </tr>\n",
       "    <tr>\n",
       "      <th>Power</th>\n",
       "      <td>354369.0</td>\n",
       "      <td>110.094337</td>\n",
       "      <td>189.850405</td>\n",
       "      <td>0.0</td>\n",
       "      <td>69.0</td>\n",
       "      <td>105.0</td>\n",
       "      <td>143.0</td>\n",
       "      <td>20000.0</td>\n",
       "    </tr>\n",
       "    <tr>\n",
       "      <th>Kilometer</th>\n",
       "      <td>354369.0</td>\n",
       "      <td>128211.172535</td>\n",
       "      <td>37905.341530</td>\n",
       "      <td>5000.0</td>\n",
       "      <td>125000.0</td>\n",
       "      <td>150000.0</td>\n",
       "      <td>150000.0</td>\n",
       "      <td>150000.0</td>\n",
       "    </tr>\n",
       "    <tr>\n",
       "      <th>RegistrationMonth</th>\n",
       "      <td>354369.0</td>\n",
       "      <td>5.714645</td>\n",
       "      <td>3.726421</td>\n",
       "      <td>0.0</td>\n",
       "      <td>3.0</td>\n",
       "      <td>6.0</td>\n",
       "      <td>9.0</td>\n",
       "      <td>12.0</td>\n",
       "    </tr>\n",
       "    <tr>\n",
       "      <th>NumberOfPictures</th>\n",
       "      <td>354369.0</td>\n",
       "      <td>0.000000</td>\n",
       "      <td>0.000000</td>\n",
       "      <td>0.0</td>\n",
       "      <td>0.0</td>\n",
       "      <td>0.0</td>\n",
       "      <td>0.0</td>\n",
       "      <td>0.0</td>\n",
       "    </tr>\n",
       "    <tr>\n",
       "      <th>PostalCode</th>\n",
       "      <td>354369.0</td>\n",
       "      <td>50508.689087</td>\n",
       "      <td>25783.096248</td>\n",
       "      <td>1067.0</td>\n",
       "      <td>30165.0</td>\n",
       "      <td>49413.0</td>\n",
       "      <td>71083.0</td>\n",
       "      <td>99998.0</td>\n",
       "    </tr>\n",
       "  </tbody>\n",
       "</table>\n",
       "</div>"
      ],
      "text/plain": [
       "                      count           mean           std     min       25%  \\\n",
       "Price              354369.0    4416.656776   4514.158514     0.0    1050.0   \n",
       "RegistrationYear   354369.0    2004.234448     90.227958  1000.0    1999.0   \n",
       "Power              354369.0     110.094337    189.850405     0.0      69.0   \n",
       "Kilometer          354369.0  128211.172535  37905.341530  5000.0  125000.0   \n",
       "RegistrationMonth  354369.0       5.714645      3.726421     0.0       3.0   \n",
       "NumberOfPictures   354369.0       0.000000      0.000000     0.0       0.0   \n",
       "PostalCode         354369.0   50508.689087  25783.096248  1067.0   30165.0   \n",
       "\n",
       "                        50%       75%       max  \n",
       "Price                2700.0    6400.0   20000.0  \n",
       "RegistrationYear     2003.0    2008.0    9999.0  \n",
       "Power                 105.0     143.0   20000.0  \n",
       "Kilometer          150000.0  150000.0  150000.0  \n",
       "RegistrationMonth       6.0       9.0      12.0  \n",
       "NumberOfPictures        0.0       0.0       0.0  \n",
       "PostalCode          49413.0   71083.0   99998.0  "
      ]
     },
     "execution_count": 10,
     "metadata": {},
     "output_type": "execute_result"
    }
   ],
   "source": [
    "df.describe().T"
   ]
  },
  {
   "cell_type": "code",
   "execution_count": 11,
   "metadata": {},
   "outputs": [
    {
     "name": "stdout",
     "output_type": "stream",
     "text": [
      "Количество пропусков в столбцах:\n"
     ]
    },
    {
     "data": {
      "text/html": [
       "<div>\n",
       "<style scoped>\n",
       "    .dataframe tbody tr th:only-of-type {\n",
       "        vertical-align: middle;\n",
       "    }\n",
       "\n",
       "    .dataframe tbody tr th {\n",
       "        vertical-align: top;\n",
       "    }\n",
       "\n",
       "    .dataframe thead th {\n",
       "        text-align: right;\n",
       "    }\n",
       "</style>\n",
       "<table border=\"1\" class=\"dataframe\">\n",
       "  <thead>\n",
       "    <tr style=\"text-align: right;\">\n",
       "      <th></th>\n",
       "      <th>0</th>\n",
       "    </tr>\n",
       "  </thead>\n",
       "  <tbody>\n",
       "    <tr>\n",
       "      <th>DateCrawled</th>\n",
       "      <td>0</td>\n",
       "    </tr>\n",
       "    <tr>\n",
       "      <th>Price</th>\n",
       "      <td>0</td>\n",
       "    </tr>\n",
       "    <tr>\n",
       "      <th>VehicleType</th>\n",
       "      <td>37490</td>\n",
       "    </tr>\n",
       "    <tr>\n",
       "      <th>RegistrationYear</th>\n",
       "      <td>0</td>\n",
       "    </tr>\n",
       "    <tr>\n",
       "      <th>Gearbox</th>\n",
       "      <td>19833</td>\n",
       "    </tr>\n",
       "    <tr>\n",
       "      <th>Power</th>\n",
       "      <td>0</td>\n",
       "    </tr>\n",
       "    <tr>\n",
       "      <th>Model</th>\n",
       "      <td>19705</td>\n",
       "    </tr>\n",
       "    <tr>\n",
       "      <th>Kilometer</th>\n",
       "      <td>0</td>\n",
       "    </tr>\n",
       "    <tr>\n",
       "      <th>RegistrationMonth</th>\n",
       "      <td>0</td>\n",
       "    </tr>\n",
       "    <tr>\n",
       "      <th>FuelType</th>\n",
       "      <td>32895</td>\n",
       "    </tr>\n",
       "    <tr>\n",
       "      <th>Brand</th>\n",
       "      <td>0</td>\n",
       "    </tr>\n",
       "    <tr>\n",
       "      <th>Repaired</th>\n",
       "      <td>71154</td>\n",
       "    </tr>\n",
       "    <tr>\n",
       "      <th>DateCreated</th>\n",
       "      <td>0</td>\n",
       "    </tr>\n",
       "    <tr>\n",
       "      <th>NumberOfPictures</th>\n",
       "      <td>0</td>\n",
       "    </tr>\n",
       "    <tr>\n",
       "      <th>PostalCode</th>\n",
       "      <td>0</td>\n",
       "    </tr>\n",
       "    <tr>\n",
       "      <th>LastSeen</th>\n",
       "      <td>0</td>\n",
       "    </tr>\n",
       "  </tbody>\n",
       "</table>\n",
       "</div>"
      ],
      "text/plain": [
       "                       0\n",
       "DateCrawled            0\n",
       "Price                  0\n",
       "VehicleType        37490\n",
       "RegistrationYear       0\n",
       "Gearbox            19833\n",
       "Power                  0\n",
       "Model              19705\n",
       "Kilometer              0\n",
       "RegistrationMonth      0\n",
       "FuelType           32895\n",
       "Brand                  0\n",
       "Repaired           71154\n",
       "DateCreated            0\n",
       "NumberOfPictures       0\n",
       "PostalCode             0\n",
       "LastSeen               0"
      ]
     },
     "execution_count": 11,
     "metadata": {},
     "output_type": "execute_result"
    }
   ],
   "source": [
    "print('Количество пропусков в столбцах:')\n",
    "df.isna().sum().to_frame()"
   ]
  },
  {
   "cell_type": "code",
   "execution_count": 12,
   "metadata": {},
   "outputs": [
    {
     "name": "stdout",
     "output_type": "stream",
     "text": [
      "количество дубликатов:\n"
     ]
    },
    {
     "data": {
      "text/plain": [
       "4"
      ]
     },
     "execution_count": 12,
     "metadata": {},
     "output_type": "execute_result"
    }
   ],
   "source": [
    "print('количество дубликатов:')\n",
    "df.duplicated().sum()"
   ]
  },
  {
   "cell_type": "markdown",
   "metadata": {},
   "source": [
    "Вывод по загрузке библиотек и осмотру данных:\n",
    "\n",
    "Загружены и импортирвоаны библиотеки которые понадобятся для выполнения данного проекта. Загружены ДФ, который вмещает свыше 352 тысяч строк. В некоторых столбцах содержится большое количество пропусков - их придется как-то обработать на этапе подготовки данных. Также найдены 4 дублирующих строки - их мы удалим. также приведем строки к snake_case и некоторым колонкам присвоим формат Datetime.\n",
    "Несмотря на то, что в шаблоне проекта нет главы предобработка, мы всё-таки её проведем, тем более, в задании указано заполнить пропуски и удалить дубликаты и обработать аномалии. \n",
    "Я понимаю, что в целом так делать не стоит, но конкретно в этом проекте, думаю можно совместить шаг предобработки и ИАД."
   ]
  },
  {
   "cell_type": "markdown",
   "metadata": {},
   "source": [
    "## Предобработка данных и ИАД"
   ]
  },
  {
   "cell_type": "markdown",
   "metadata": {},
   "source": [
    "### Первоначальная обработка и отсеивание данных"
   ]
  },
  {
   "cell_type": "code",
   "execution_count": 13,
   "metadata": {},
   "outputs": [],
   "source": [
    "#Приведем к snake_case\n",
    "df.columns = df.columns.str.replace(r'(?<!^)(?=[A-Z])', '_', regex=True).str.lower()"
   ]
  },
  {
   "cell_type": "code",
   "execution_count": 14,
   "metadata": {},
   "outputs": [
    {
     "name": "stdout",
     "output_type": "stream",
     "text": [
      "Количество дубликатов после обработки: 0\n"
     ]
    }
   ],
   "source": [
    "df = df.drop_duplicates()\n",
    "print('Количество дубликатов после обработки:', df.duplicated().sum())"
   ]
  },
  {
   "cell_type": "markdown",
   "metadata": {},
   "source": [
    "Чтобы не выполнять лишнюю работу по ИАД и предобработке отсеим сразу те признаки, которые не влияют на стоимость автомобиля и следовательно не будут задействованы в исследовании."
   ]
  },
  {
   "cell_type": "markdown",
   "metadata": {},
   "source": [
    "Анализ признаков\n",
    "Признаки, которые не помогут в определении стоимости:\n",
    "\n",
    "    1) date_crawled - Дата скачивания анкеты не может влиять на стоимость автомобиля.\n",
    "    2) month_of_registration - Порядковый номер месяца регистрации автомобиля, достаточно года.\n",
    "    3) date_of_creation - точная дата публикации - непонятно как обрабатывать этот признак для обучения.\n",
    "    Оставим только год публикации, так как стоимость может меняться год от года, как минимум под влиянием инфляции.\n",
    "    4) number_of_pictures - судя по описанию данных, столбец не заполнен, во всех строках стоят нули.\n",
    "    5) last_seen - Дата последней активности пользователя, думаю тоже лишнее.\n",
    "    6) postal_code - Индекс места создания анкеты. Очень спорная колонка, но я всё-таки придерживаюсь мнения, что она лишняя. Конечно, населенный пункт имеет некоторое влияние на ценообразование, но здесь продают авто, а не недвижимость, влияние скорее всего минимальное. Кроме того, если бы данные были прописаны строками (к примеру город или населенный пункт) тогда, да, можно было бы оставить эту колонку. В данном случае значения индекса приведены числом, что скорее всего приведет к переобучению модели."
   ]
  },
  {
   "cell_type": "code",
   "execution_count": 15,
   "metadata": {},
   "outputs": [],
   "source": [
    "df_study = df.drop(['date_crawled', 'registration_month', 'date_created', 'number_of_pictures', 'last_seen'], axis=1)"
   ]
  },
  {
   "cell_type": "code",
   "execution_count": 16,
   "metadata": {},
   "outputs": [
    {
     "data": {
      "text/html": [
       "<div>\n",
       "<style scoped>\n",
       "    .dataframe tbody tr th:only-of-type {\n",
       "        vertical-align: middle;\n",
       "    }\n",
       "\n",
       "    .dataframe tbody tr th {\n",
       "        vertical-align: top;\n",
       "    }\n",
       "\n",
       "    .dataframe thead th {\n",
       "        text-align: right;\n",
       "    }\n",
       "</style>\n",
       "<table border=\"1\" class=\"dataframe\">\n",
       "  <thead>\n",
       "    <tr style=\"text-align: right;\">\n",
       "      <th></th>\n",
       "      <th>price</th>\n",
       "      <th>vehicle_type</th>\n",
       "      <th>registration_year</th>\n",
       "      <th>gearbox</th>\n",
       "      <th>power</th>\n",
       "      <th>model</th>\n",
       "      <th>kilometer</th>\n",
       "      <th>fuel_type</th>\n",
       "      <th>brand</th>\n",
       "      <th>repaired</th>\n",
       "      <th>postal_code</th>\n",
       "    </tr>\n",
       "  </thead>\n",
       "  <tbody>\n",
       "    <tr>\n",
       "      <th>0</th>\n",
       "      <td>480</td>\n",
       "      <td>NaN</td>\n",
       "      <td>1993</td>\n",
       "      <td>manual</td>\n",
       "      <td>0</td>\n",
       "      <td>golf</td>\n",
       "      <td>150000</td>\n",
       "      <td>petrol</td>\n",
       "      <td>volkswagen</td>\n",
       "      <td>NaN</td>\n",
       "      <td>70435</td>\n",
       "    </tr>\n",
       "    <tr>\n",
       "      <th>1</th>\n",
       "      <td>18300</td>\n",
       "      <td>coupe</td>\n",
       "      <td>2011</td>\n",
       "      <td>manual</td>\n",
       "      <td>190</td>\n",
       "      <td>NaN</td>\n",
       "      <td>125000</td>\n",
       "      <td>gasoline</td>\n",
       "      <td>audi</td>\n",
       "      <td>yes</td>\n",
       "      <td>66954</td>\n",
       "    </tr>\n",
       "    <tr>\n",
       "      <th>2</th>\n",
       "      <td>9800</td>\n",
       "      <td>suv</td>\n",
       "      <td>2004</td>\n",
       "      <td>auto</td>\n",
       "      <td>163</td>\n",
       "      <td>grand</td>\n",
       "      <td>125000</td>\n",
       "      <td>gasoline</td>\n",
       "      <td>jeep</td>\n",
       "      <td>NaN</td>\n",
       "      <td>90480</td>\n",
       "    </tr>\n",
       "    <tr>\n",
       "      <th>3</th>\n",
       "      <td>1500</td>\n",
       "      <td>small</td>\n",
       "      <td>2001</td>\n",
       "      <td>manual</td>\n",
       "      <td>75</td>\n",
       "      <td>golf</td>\n",
       "      <td>150000</td>\n",
       "      <td>petrol</td>\n",
       "      <td>volkswagen</td>\n",
       "      <td>no</td>\n",
       "      <td>91074</td>\n",
       "    </tr>\n",
       "    <tr>\n",
       "      <th>4</th>\n",
       "      <td>3600</td>\n",
       "      <td>small</td>\n",
       "      <td>2008</td>\n",
       "      <td>manual</td>\n",
       "      <td>69</td>\n",
       "      <td>fabia</td>\n",
       "      <td>90000</td>\n",
       "      <td>gasoline</td>\n",
       "      <td>skoda</td>\n",
       "      <td>no</td>\n",
       "      <td>60437</td>\n",
       "    </tr>\n",
       "    <tr>\n",
       "      <th>...</th>\n",
       "      <td>...</td>\n",
       "      <td>...</td>\n",
       "      <td>...</td>\n",
       "      <td>...</td>\n",
       "      <td>...</td>\n",
       "      <td>...</td>\n",
       "      <td>...</td>\n",
       "      <td>...</td>\n",
       "      <td>...</td>\n",
       "      <td>...</td>\n",
       "      <td>...</td>\n",
       "    </tr>\n",
       "    <tr>\n",
       "      <th>354364</th>\n",
       "      <td>0</td>\n",
       "      <td>NaN</td>\n",
       "      <td>2005</td>\n",
       "      <td>manual</td>\n",
       "      <td>0</td>\n",
       "      <td>colt</td>\n",
       "      <td>150000</td>\n",
       "      <td>petrol</td>\n",
       "      <td>mitsubishi</td>\n",
       "      <td>yes</td>\n",
       "      <td>2694</td>\n",
       "    </tr>\n",
       "    <tr>\n",
       "      <th>354365</th>\n",
       "      <td>2200</td>\n",
       "      <td>NaN</td>\n",
       "      <td>2005</td>\n",
       "      <td>NaN</td>\n",
       "      <td>0</td>\n",
       "      <td>NaN</td>\n",
       "      <td>20000</td>\n",
       "      <td>NaN</td>\n",
       "      <td>sonstige_autos</td>\n",
       "      <td>NaN</td>\n",
       "      <td>39576</td>\n",
       "    </tr>\n",
       "    <tr>\n",
       "      <th>354366</th>\n",
       "      <td>1199</td>\n",
       "      <td>convertible</td>\n",
       "      <td>2000</td>\n",
       "      <td>auto</td>\n",
       "      <td>101</td>\n",
       "      <td>fortwo</td>\n",
       "      <td>125000</td>\n",
       "      <td>petrol</td>\n",
       "      <td>smart</td>\n",
       "      <td>no</td>\n",
       "      <td>26135</td>\n",
       "    </tr>\n",
       "    <tr>\n",
       "      <th>354367</th>\n",
       "      <td>9200</td>\n",
       "      <td>bus</td>\n",
       "      <td>1996</td>\n",
       "      <td>manual</td>\n",
       "      <td>102</td>\n",
       "      <td>transporter</td>\n",
       "      <td>150000</td>\n",
       "      <td>gasoline</td>\n",
       "      <td>volkswagen</td>\n",
       "      <td>no</td>\n",
       "      <td>87439</td>\n",
       "    </tr>\n",
       "    <tr>\n",
       "      <th>354368</th>\n",
       "      <td>3400</td>\n",
       "      <td>wagon</td>\n",
       "      <td>2002</td>\n",
       "      <td>manual</td>\n",
       "      <td>100</td>\n",
       "      <td>golf</td>\n",
       "      <td>150000</td>\n",
       "      <td>gasoline</td>\n",
       "      <td>volkswagen</td>\n",
       "      <td>NaN</td>\n",
       "      <td>40764</td>\n",
       "    </tr>\n",
       "  </tbody>\n",
       "</table>\n",
       "<p>354365 rows × 11 columns</p>\n",
       "</div>"
      ],
      "text/plain": [
       "        price vehicle_type  registration_year gearbox  power        model  \\\n",
       "0         480          NaN               1993  manual      0         golf   \n",
       "1       18300        coupe               2011  manual    190          NaN   \n",
       "2        9800          suv               2004    auto    163        grand   \n",
       "3        1500        small               2001  manual     75         golf   \n",
       "4        3600        small               2008  manual     69        fabia   \n",
       "...       ...          ...                ...     ...    ...          ...   \n",
       "354364      0          NaN               2005  manual      0         colt   \n",
       "354365   2200          NaN               2005     NaN      0          NaN   \n",
       "354366   1199  convertible               2000    auto    101       fortwo   \n",
       "354367   9200          bus               1996  manual    102  transporter   \n",
       "354368   3400        wagon               2002  manual    100         golf   \n",
       "\n",
       "        kilometer fuel_type           brand repaired  postal_code  \n",
       "0          150000    petrol      volkswagen      NaN        70435  \n",
       "1          125000  gasoline            audi      yes        66954  \n",
       "2          125000  gasoline            jeep      NaN        90480  \n",
       "3          150000    petrol      volkswagen       no        91074  \n",
       "4           90000  gasoline           skoda       no        60437  \n",
       "...           ...       ...             ...      ...          ...  \n",
       "354364     150000    petrol      mitsubishi      yes         2694  \n",
       "354365      20000       NaN  sonstige_autos      NaN        39576  \n",
       "354366     125000    petrol           smart       no        26135  \n",
       "354367     150000  gasoline      volkswagen       no        87439  \n",
       "354368     150000  gasoline      volkswagen      NaN        40764  \n",
       "\n",
       "[354365 rows x 11 columns]"
      ]
     },
     "metadata": {},
     "output_type": "display_data"
    }
   ],
   "source": [
    "display(df_study)"
   ]
  },
  {
   "cell_type": "markdown",
   "metadata": {},
   "source": [
    "Эти столбцы и будем далее рассматривать и обрабатыват в них аномалии и пропуски."
   ]
  },
  {
   "cell_type": "markdown",
   "metadata": {},
   "source": [
    "### ИАД и обработка пропусков и аномалий."
   ]
  },
  {
   "cell_type": "markdown",
   "metadata": {},
   "source": [
    "#### price"
   ]
  },
  {
   "cell_type": "code",
   "execution_count": 17,
   "metadata": {},
   "outputs": [
    {
     "data": {
      "text/plain": [
       "count    354365.000000\n",
       "mean       4416.679830\n",
       "std        4514.176349\n",
       "min           0.000000\n",
       "25%        1050.000000\n",
       "50%        2700.000000\n",
       "75%        6400.000000\n",
       "max       20000.000000\n",
       "Name: price, dtype: float64"
      ]
     },
     "execution_count": 17,
     "metadata": {},
     "output_type": "execute_result"
    }
   ],
   "source": [
    "df_study.price.describe()"
   ]
  },
  {
   "cell_type": "code",
   "execution_count": 18,
   "metadata": {},
   "outputs": [
    {
     "data": {
      "image/png": "[encoded data removed]",
      "text/plain": [
       "<Figure size 1080x648 with 2 Axes>"
      ]
     },
     "metadata": {},
     "output_type": "display_data"
    }
   ],
   "source": [
    "_, [axs_hist, axs_box] = plt.subplots(2, 1,\n",
    "                                     figsize=(15, 9), \n",
    "                                     sharex=True,\n",
    "                                     gridspec_kw=dict(height_ratios=[5,1]))\n",
    "hist = sns.histplot(data=df_study, x='price', kde=True, ax=axs_hist)\n",
    "box = sns.boxplot(data=df_study, x='price', orient='h', ax=axs_box)\n",
    "hist.set(title='Гистограмма распределения цены автомобиля',\n",
    "         ylabel='Количество записей')\n",
    "box.set(xlabel='Цена автомобиля [евро]');"
   ]
  },
  {
   "cell_type": "markdown",
   "metadata": {},
   "source": [
    "Из гистограммы и боксплота видно, что имеется большое количество записей с нулевой или очень низкой ценой. Это автомобили в очень плохом состоянии, которые сдают в утиль или ошибки? Также виден длинный \"хвост\" гистограммы с ценами, \"улетающими в небо\". Возможно, это автомобили премиум-класса или тоже опечатки (лишние ноли к примеру).\n",
    "Чтобы наша модель была более предсказуемой сформируем новую выборку, в которой отфильтруем 1 процент записей с самыми низкими ценами и 1 процент записей с самыми высокими ценами."
   ]
  },
  {
   "cell_type": "code",
   "execution_count": 19,
   "metadata": {},
   "outputs": [],
   "source": [
    "low = df_study['price'].quantile(.01)\n",
    "high = df_study['price'].quantile(.99)"
   ]
  },
  {
   "cell_type": "code",
   "execution_count": 20,
   "metadata": {},
   "outputs": [],
   "source": [
    "df_study = df_study[(df_study['price'] > low) & (df_study['price'] < high)].copy()"
   ]
  },
  {
   "cell_type": "markdown",
   "metadata": {},
   "source": [
    "Еще раз посмотрим на распределение:"
   ]
  },
  {
   "cell_type": "code",
   "execution_count": 21,
   "metadata": {},
   "outputs": [
    {
     "data": {
      "image/png": "[encoded data removed]",
      "text/plain": [
       "<Figure size 1080x648 with 2 Axes>"
      ]
     },
     "metadata": {},
     "output_type": "display_data"
    }
   ],
   "source": [
    "_, [axs_hist, axs_box] = plt.subplots(2, 1,\n",
    "                                     figsize=(15, 9), \n",
    "                                     sharex=True,\n",
    "                                     gridspec_kw=dict(height_ratios=[5,1]))\n",
    "hist = sns.histplot(data=df_study, x='price', kde=True, ax=axs_hist)\n",
    "box = sns.boxplot(data=df_study, x='price', orient='h', ax=axs_box)\n",
    "hist.set(title='Гистограмма распределения цены автомобиля',\n",
    "         ylabel='Количество записей')\n",
    "box.set(xlabel='Цена автомобиля [евро]');"
   ]
  },
  {
   "cell_type": "markdown",
   "metadata": {},
   "source": [
    "Хорошо, целевые данные немного подчистили."
   ]
  },
  {
   "cell_type": "markdown",
   "metadata": {},
   "source": [
    "#### vehicle_type"
   ]
  },
  {
   "cell_type": "code",
   "execution_count": 22,
   "metadata": {},
   "outputs": [
    {
     "data": {
      "text/html": [
       "<div>\n",
       "<style scoped>\n",
       "    .dataframe tbody tr th:only-of-type {\n",
       "        vertical-align: middle;\n",
       "    }\n",
       "\n",
       "    .dataframe tbody tr th {\n",
       "        vertical-align: top;\n",
       "    }\n",
       "\n",
       "    .dataframe thead th {\n",
       "        text-align: right;\n",
       "    }\n",
       "</style>\n",
       "<table border=\"1\" class=\"dataframe\">\n",
       "  <thead>\n",
       "    <tr style=\"text-align: right;\">\n",
       "      <th></th>\n",
       "      <th>vehicle_type</th>\n",
       "    </tr>\n",
       "  </thead>\n",
       "  <tbody>\n",
       "    <tr>\n",
       "      <th>sedan</th>\n",
       "      <td>0.260131</td>\n",
       "    </tr>\n",
       "    <tr>\n",
       "      <th>small</th>\n",
       "      <td>0.229164</td>\n",
       "    </tr>\n",
       "    <tr>\n",
       "      <th>wagon</th>\n",
       "      <td>0.185513</td>\n",
       "    </tr>\n",
       "    <tr>\n",
       "      <th>NaN</th>\n",
       "      <td>0.098969</td>\n",
       "    </tr>\n",
       "    <tr>\n",
       "      <th>bus</th>\n",
       "      <td>0.082330</td>\n",
       "    </tr>\n",
       "    <tr>\n",
       "      <th>convertible</th>\n",
       "      <td>0.056962</td>\n",
       "    </tr>\n",
       "    <tr>\n",
       "      <th>coupe</th>\n",
       "      <td>0.044657</td>\n",
       "    </tr>\n",
       "    <tr>\n",
       "      <th>suv</th>\n",
       "      <td>0.033246</td>\n",
       "    </tr>\n",
       "    <tr>\n",
       "      <th>other</th>\n",
       "      <td>0.009028</td>\n",
       "    </tr>\n",
       "  </tbody>\n",
       "</table>\n",
       "</div>"
      ],
      "text/plain": [
       "             vehicle_type\n",
       "sedan            0.260131\n",
       "small            0.229164\n",
       "wagon            0.185513\n",
       "NaN              0.098969\n",
       "bus              0.082330\n",
       "convertible      0.056962\n",
       "coupe            0.044657\n",
       "suv              0.033246\n",
       "other            0.009028"
      ]
     },
     "execution_count": 22,
     "metadata": {},
     "output_type": "execute_result"
    }
   ],
   "source": [
    "df_study.vehicle_type\\\n",
    ".value_counts(normalize=True, dropna=False)\\\n",
    ".sort_values(ascending=False).to_frame()"
   ]
  },
  {
   "cell_type": "code",
   "execution_count": 23,
   "metadata": {},
   "outputs": [
    {
     "data": {
      "image/png": "[encoded data removed]",
      "text/plain": [
       "<Figure size 1080x648 with 1 Axes>"
      ]
     },
     "metadata": {},
     "output_type": "display_data"
    }
   ],
   "source": [
    "t = df_study.vehicle_type.value_counts(dropna=False)\n",
    "sns.barplot(x=t.index, y=t).set(\n",
    "    title='Количество записей об автомобилях различных типов',\n",
    "    xlabel='Типы автомобилей',\n",
    "    ylabel='Количество записей'\n",
    ");"
   ]
  },
  {
   "cell_type": "markdown",
   "metadata": {},
   "source": [
    "Согласно первичному осмотру данных в этой колонке наблюдалось большое количество пропусков. Просто удалить их будет \"чувствительно\" для анализа. Поэтому я вижу несколько путей решения проблемы.\n",
    "- заполнить все пропуски значением \"other\";\n",
    "- заполнить все пропуски значением \"unknown\";\n",
    "- попробовать заполнить значения самым частым значением кузова исходя из марки автомобиля. Данный вариант, вероятно, был бы самым точным и предпочтительным. Но, исходя из того, что спринт короткий, в целях экономии времени, обойдемся вторым вариантом."
   ]
  },
  {
   "cell_type": "code",
   "execution_count": 24,
   "metadata": {},
   "outputs": [],
   "source": [
    "df_study['vehicle_type'] = df_study['vehicle_type'].fillna('unknown')"
   ]
  },
  {
   "cell_type": "code",
   "execution_count": 25,
   "metadata": {},
   "outputs": [
    {
     "data": {
      "image/png": "[encoded data removed]",
      "text/plain": [
       "<Figure size 1080x648 with 1 Axes>"
      ]
     },
     "metadata": {},
     "output_type": "display_data"
    }
   ],
   "source": [
    "t = df_study.vehicle_type.value_counts(dropna=False)\n",
    "sns.barplot(x=t.index, y=t).set(\n",
    "    title='Количество записей об автомобилях различных типов',\n",
    "    xlabel='Типы автомобилей',\n",
    "    ylabel='Количество записей'\n",
    ");"
   ]
  },
  {
   "cell_type": "markdown",
   "metadata": {},
   "source": [
    "Категория получилась объемной, чтож пока пусть будет так."
   ]
  },
  {
   "cell_type": "markdown",
   "metadata": {},
   "source": [
    "#### registration_year"
   ]
  },
  {
   "cell_type": "code",
   "execution_count": 26,
   "metadata": {},
   "outputs": [
    {
     "data": {
      "image/png": "[encoded data removed]",
      "text/plain": [
       "<Figure size 1080x648 with 1 Axes>"
      ]
     },
     "metadata": {},
     "output_type": "display_data"
    }
   ],
   "source": [
    "sns.boxplot(data=df_study, x='registration_year', orient='h')\\\n",
    ".set(title='Диаграмма размаха годов регистрации автомобилей',\n",
    "    xlabel='Год регистрации автомобиля');"
   ]
  },
  {
   "cell_type": "markdown",
   "metadata": {},
   "source": [
    "Боксплот получился странным, но информативным. Данные по году регистрации уходят как делеко в прошлое так и в далекое будущее.\n",
    "Думаю стоит отсеять данные следующим образом. Прошлое мы отсечем 1885 годом - дата первого автомобиля. Будущее отсечем датой выгрузки базы - 2016."
   ]
  },
  {
   "cell_type": "code",
   "execution_count": 27,
   "metadata": {},
   "outputs": [],
   "source": [
    "df_study = df_study[df_study.registration_year <= 2016].copy()\n",
    "df_study = df_study[df_study.registration_year > 1885].copy()"
   ]
  },
  {
   "cell_type": "code",
   "execution_count": 28,
   "metadata": {
    "scrolled": false
   },
   "outputs": [
    {
     "data": {
      "image/png": "[encoded data removed]",
      "text/plain": [
       "<Figure size 1080x648 with 1 Axes>"
      ]
     },
     "metadata": {},
     "output_type": "display_data"
    }
   ],
   "source": [
    "sns.boxplot(data=df_study, x='registration_year', orient='h')\\\n",
    ".set(title='Диаграмма размаха годов регистрации автомобилей',\n",
    "    xlabel='Год регистрации автомобиля');"
   ]
  },
  {
   "cell_type": "markdown",
   "metadata": {},
   "source": [
    "Ну вот, боксплот немного расслабился. Но меня все равно он немного смущает. Много выбросов, а заказчику важна точность определения рыночной стоимости. Поэтому, считаю, что все-таки значения регистрации ранее 1980 стоит убрать. Будут вносить неточности в модель."
   ]
  },
  {
   "cell_type": "code",
   "execution_count": 29,
   "metadata": {},
   "outputs": [],
   "source": [
    "df_study = df_study[df_study.registration_year > 1980].copy()"
   ]
  },
  {
   "cell_type": "code",
   "execution_count": 30,
   "metadata": {},
   "outputs": [
    {
     "data": {
      "image/png": "[encoded data removed]",
      "text/plain": [
       "<Figure size 1080x648 with 2 Axes>"
      ]
     },
     "metadata": {},
     "output_type": "display_data"
    }
   ],
   "source": [
    "_, [axs_hist, axs_box] = plt.subplots(2, 1,\n",
    "                                     figsize=(15, 9), \n",
    "                                     sharex=True,\n",
    "                                     gridspec_kw=dict(height_ratios=[5,1]))\n",
    "hist = \\\n",
    "sns.histplot(data=df_study, x='registration_year', \n",
    "             kde=True, ax=axs_hist, bins=39)\n",
    "box = sns.boxplot(data=df_study, x='registration_year', \n",
    "                  orient='h', ax=axs_box)\n",
    "box.set(xlabel='Год регистрации')\n",
    "hist.set(title='Гистограмма распределения годов регистрации автомобилей',\n",
    "         ylabel='Количество записей');"
   ]
  },
  {
   "cell_type": "markdown",
   "metadata": {},
   "source": [
    "Теперь всё выглядит более-менее."
   ]
  },
  {
   "cell_type": "markdown",
   "metadata": {},
   "source": [
    "#### gearbox"
   ]
  },
  {
   "cell_type": "code",
   "execution_count": 31,
   "metadata": {},
   "outputs": [
    {
     "data": {
      "text/plain": [
       "manual    0.766506\n",
       "auto      0.187544\n",
       "NaN       0.045950\n",
       "Name: gearbox, dtype: float64"
      ]
     },
     "execution_count": 31,
     "metadata": {},
     "output_type": "execute_result"
    }
   ],
   "source": [
    "df_study.gearbox.value_counts(normalize=True, dropna=False)"
   ]
  },
  {
   "cell_type": "code",
   "execution_count": 32,
   "metadata": {},
   "outputs": [
    {
     "data": {
      "image/png": "[encoded data removed]",
      "text/plain": [
       "<Figure size 1080x648 with 1 Axes>"
      ]
     },
     "metadata": {},
     "output_type": "display_data"
    }
   ],
   "source": [
    "t = df_study.gearbox.value_counts(normalize=True)\n",
    "ax = sns.barplot(data=t, y=t, x=t.index)\n",
    "ax.set_xticklabels(['автоматическая', 'ручная'])\n",
    "ax.set(xlabel='Типы коробок передач', \n",
    "       ylabel='Доля записей',\n",
    "       title='Доли автомобилей с различными коробками передач в данных');"
   ]
  },
  {
   "cell_type": "markdown",
   "metadata": {},
   "source": [
    "Есть пропуски в графе коробка передач, заполним их ручной, как самым частым значением."
   ]
  },
  {
   "cell_type": "code",
   "execution_count": 33,
   "metadata": {},
   "outputs": [],
   "source": [
    "df_study['gearbox'] = df_study['gearbox'].fillna(value='manual')"
   ]
  },
  {
   "cell_type": "code",
   "execution_count": 34,
   "metadata": {},
   "outputs": [
    {
     "data": {
      "image/png": "[encoded data removed]",
      "text/plain": [
       "<Figure size 1080x648 with 1 Axes>"
      ]
     },
     "metadata": {},
     "output_type": "display_data"
    }
   ],
   "source": [
    "t = df_study.gearbox.value_counts(normalize=True)\n",
    "ax = sns.barplot(data=t, y=t, x=t.index)\n",
    "ax.set_xticklabels(['автоматическая', 'ручная'])\n",
    "ax.set(xlabel='Типы коробок передач', \n",
    "       ylabel='Доля записей',\n",
    "       title='Доли автомобилей с различными коробками передач в данных');"
   ]
  },
  {
   "cell_type": "markdown",
   "metadata": {},
   "source": [
    "#### power"
   ]
  },
  {
   "cell_type": "code",
   "execution_count": 35,
   "metadata": {},
   "outputs": [
    {
     "data": {
      "text/html": [
       "<div>\n",
       "<style scoped>\n",
       "    .dataframe tbody tr th:only-of-type {\n",
       "        vertical-align: middle;\n",
       "    }\n",
       "\n",
       "    .dataframe tbody tr th {\n",
       "        vertical-align: top;\n",
       "    }\n",
       "\n",
       "    .dataframe thead th {\n",
       "        text-align: right;\n",
       "    }\n",
       "</style>\n",
       "<table border=\"1\" class=\"dataframe\">\n",
       "  <thead>\n",
       "    <tr style=\"text-align: right;\">\n",
       "      <th></th>\n",
       "      <th>power</th>\n",
       "    </tr>\n",
       "  </thead>\n",
       "  <tbody>\n",
       "    <tr>\n",
       "      <th>count</th>\n",
       "      <td>322783.000000</td>\n",
       "    </tr>\n",
       "    <tr>\n",
       "      <th>mean</th>\n",
       "      <td>111.473727</td>\n",
       "    </tr>\n",
       "    <tr>\n",
       "      <th>std</th>\n",
       "      <td>184.069181</td>\n",
       "    </tr>\n",
       "    <tr>\n",
       "      <th>min</th>\n",
       "      <td>0.000000</td>\n",
       "    </tr>\n",
       "    <tr>\n",
       "      <th>25%</th>\n",
       "      <td>71.000000</td>\n",
       "    </tr>\n",
       "    <tr>\n",
       "      <th>50%</th>\n",
       "      <td>105.000000</td>\n",
       "    </tr>\n",
       "    <tr>\n",
       "      <th>75%</th>\n",
       "      <td>143.000000</td>\n",
       "    </tr>\n",
       "    <tr>\n",
       "      <th>max</th>\n",
       "      <td>20000.000000</td>\n",
       "    </tr>\n",
       "  </tbody>\n",
       "</table>\n",
       "</div>"
      ],
      "text/plain": [
       "               power\n",
       "count  322783.000000\n",
       "mean      111.473727\n",
       "std       184.069181\n",
       "min         0.000000\n",
       "25%        71.000000\n",
       "50%       105.000000\n",
       "75%       143.000000\n",
       "max     20000.000000"
      ]
     },
     "execution_count": 35,
     "metadata": {},
     "output_type": "execute_result"
    }
   ],
   "source": [
    "df_study.power.describe().to_frame()"
   ]
  },
  {
   "cell_type": "markdown",
   "metadata": {},
   "source": [
    "Мощность серийных автомобилей находится в диапазоне ≈ 3-1600 л.с., судя по статьям в интернете. Отбросим явные аномальные значения:"
   ]
  },
  {
   "cell_type": "code",
   "execution_count": 36,
   "metadata": {},
   "outputs": [
    {
     "data": {
      "text/html": [
       "<div>\n",
       "<style scoped>\n",
       "    .dataframe tbody tr th:only-of-type {\n",
       "        vertical-align: middle;\n",
       "    }\n",
       "\n",
       "    .dataframe tbody tr th {\n",
       "        vertical-align: top;\n",
       "    }\n",
       "\n",
       "    .dataframe thead th {\n",
       "        text-align: right;\n",
       "    }\n",
       "</style>\n",
       "<table border=\"1\" class=\"dataframe\">\n",
       "  <thead>\n",
       "    <tr style=\"text-align: right;\">\n",
       "      <th></th>\n",
       "      <th>price</th>\n",
       "      <th>vehicle_type</th>\n",
       "      <th>registration_year</th>\n",
       "      <th>gearbox</th>\n",
       "      <th>power</th>\n",
       "      <th>model</th>\n",
       "      <th>kilometer</th>\n",
       "      <th>fuel_type</th>\n",
       "      <th>brand</th>\n",
       "      <th>repaired</th>\n",
       "      <th>postal_code</th>\n",
       "    </tr>\n",
       "  </thead>\n",
       "  <tbody>\n",
       "    <tr>\n",
       "      <th>1</th>\n",
       "      <td>18300</td>\n",
       "      <td>coupe</td>\n",
       "      <td>2011</td>\n",
       "      <td>manual</td>\n",
       "      <td>190</td>\n",
       "      <td>NaN</td>\n",
       "      <td>125000</td>\n",
       "      <td>gasoline</td>\n",
       "      <td>audi</td>\n",
       "      <td>yes</td>\n",
       "      <td>66954</td>\n",
       "    </tr>\n",
       "    <tr>\n",
       "      <th>2</th>\n",
       "      <td>9800</td>\n",
       "      <td>suv</td>\n",
       "      <td>2004</td>\n",
       "      <td>auto</td>\n",
       "      <td>163</td>\n",
       "      <td>grand</td>\n",
       "      <td>125000</td>\n",
       "      <td>gasoline</td>\n",
       "      <td>jeep</td>\n",
       "      <td>NaN</td>\n",
       "      <td>90480</td>\n",
       "    </tr>\n",
       "    <tr>\n",
       "      <th>3</th>\n",
       "      <td>1500</td>\n",
       "      <td>small</td>\n",
       "      <td>2001</td>\n",
       "      <td>manual</td>\n",
       "      <td>75</td>\n",
       "      <td>golf</td>\n",
       "      <td>150000</td>\n",
       "      <td>petrol</td>\n",
       "      <td>volkswagen</td>\n",
       "      <td>no</td>\n",
       "      <td>91074</td>\n",
       "    </tr>\n",
       "    <tr>\n",
       "      <th>4</th>\n",
       "      <td>3600</td>\n",
       "      <td>small</td>\n",
       "      <td>2008</td>\n",
       "      <td>manual</td>\n",
       "      <td>69</td>\n",
       "      <td>fabia</td>\n",
       "      <td>90000</td>\n",
       "      <td>gasoline</td>\n",
       "      <td>skoda</td>\n",
       "      <td>no</td>\n",
       "      <td>60437</td>\n",
       "    </tr>\n",
       "    <tr>\n",
       "      <th>5</th>\n",
       "      <td>650</td>\n",
       "      <td>sedan</td>\n",
       "      <td>1995</td>\n",
       "      <td>manual</td>\n",
       "      <td>102</td>\n",
       "      <td>3er</td>\n",
       "      <td>150000</td>\n",
       "      <td>petrol</td>\n",
       "      <td>bmw</td>\n",
       "      <td>yes</td>\n",
       "      <td>33775</td>\n",
       "    </tr>\n",
       "    <tr>\n",
       "      <th>...</th>\n",
       "      <td>...</td>\n",
       "      <td>...</td>\n",
       "      <td>...</td>\n",
       "      <td>...</td>\n",
       "      <td>...</td>\n",
       "      <td>...</td>\n",
       "      <td>...</td>\n",
       "      <td>...</td>\n",
       "      <td>...</td>\n",
       "      <td>...</td>\n",
       "      <td>...</td>\n",
       "    </tr>\n",
       "    <tr>\n",
       "      <th>354361</th>\n",
       "      <td>5250</td>\n",
       "      <td>unknown</td>\n",
       "      <td>2016</td>\n",
       "      <td>auto</td>\n",
       "      <td>150</td>\n",
       "      <td>159</td>\n",
       "      <td>150000</td>\n",
       "      <td>NaN</td>\n",
       "      <td>alfa_romeo</td>\n",
       "      <td>no</td>\n",
       "      <td>51371</td>\n",
       "    </tr>\n",
       "    <tr>\n",
       "      <th>354362</th>\n",
       "      <td>3200</td>\n",
       "      <td>sedan</td>\n",
       "      <td>2004</td>\n",
       "      <td>manual</td>\n",
       "      <td>225</td>\n",
       "      <td>leon</td>\n",
       "      <td>150000</td>\n",
       "      <td>petrol</td>\n",
       "      <td>seat</td>\n",
       "      <td>yes</td>\n",
       "      <td>96465</td>\n",
       "    </tr>\n",
       "    <tr>\n",
       "      <th>354366</th>\n",
       "      <td>1199</td>\n",
       "      <td>convertible</td>\n",
       "      <td>2000</td>\n",
       "      <td>auto</td>\n",
       "      <td>101</td>\n",
       "      <td>fortwo</td>\n",
       "      <td>125000</td>\n",
       "      <td>petrol</td>\n",
       "      <td>smart</td>\n",
       "      <td>no</td>\n",
       "      <td>26135</td>\n",
       "    </tr>\n",
       "    <tr>\n",
       "      <th>354367</th>\n",
       "      <td>9200</td>\n",
       "      <td>bus</td>\n",
       "      <td>1996</td>\n",
       "      <td>manual</td>\n",
       "      <td>102</td>\n",
       "      <td>transporter</td>\n",
       "      <td>150000</td>\n",
       "      <td>gasoline</td>\n",
       "      <td>volkswagen</td>\n",
       "      <td>no</td>\n",
       "      <td>87439</td>\n",
       "    </tr>\n",
       "    <tr>\n",
       "      <th>354368</th>\n",
       "      <td>3400</td>\n",
       "      <td>wagon</td>\n",
       "      <td>2002</td>\n",
       "      <td>manual</td>\n",
       "      <td>100</td>\n",
       "      <td>golf</td>\n",
       "      <td>150000</td>\n",
       "      <td>gasoline</td>\n",
       "      <td>volkswagen</td>\n",
       "      <td>NaN</td>\n",
       "      <td>40764</td>\n",
       "    </tr>\n",
       "  </tbody>\n",
       "</table>\n",
       "<p>290932 rows × 11 columns</p>\n",
       "</div>"
      ],
      "text/plain": [
       "        price vehicle_type  registration_year gearbox  power        model  \\\n",
       "1       18300        coupe               2011  manual    190          NaN   \n",
       "2        9800          suv               2004    auto    163        grand   \n",
       "3        1500        small               2001  manual     75         golf   \n",
       "4        3600        small               2008  manual     69        fabia   \n",
       "5         650        sedan               1995  manual    102          3er   \n",
       "...       ...          ...                ...     ...    ...          ...   \n",
       "354361   5250      unknown               2016    auto    150          159   \n",
       "354362   3200        sedan               2004  manual    225         leon   \n",
       "354366   1199  convertible               2000    auto    101       fortwo   \n",
       "354367   9200          bus               1996  manual    102  transporter   \n",
       "354368   3400        wagon               2002  manual    100         golf   \n",
       "\n",
       "        kilometer fuel_type       brand repaired  postal_code  \n",
       "1          125000  gasoline        audi      yes        66954  \n",
       "2          125000  gasoline        jeep      NaN        90480  \n",
       "3          150000    petrol  volkswagen       no        91074  \n",
       "4           90000  gasoline       skoda       no        60437  \n",
       "5          150000    petrol         bmw      yes        33775  \n",
       "...           ...       ...         ...      ...          ...  \n",
       "354361     150000       NaN  alfa_romeo       no        51371  \n",
       "354362     150000    petrol        seat      yes        96465  \n",
       "354366     125000    petrol       smart       no        26135  \n",
       "354367     150000  gasoline  volkswagen       no        87439  \n",
       "354368     150000  gasoline  volkswagen      NaN        40764  \n",
       "\n",
       "[290932 rows x 11 columns]"
      ]
     },
     "execution_count": 36,
     "metadata": {},
     "output_type": "execute_result"
    }
   ],
   "source": [
    "df_study = df_study[df_study.power < 1600].copy()\n",
    "df_study[df_study.power >= 3].copy()"
   ]
  },
  {
   "cell_type": "code",
   "execution_count": 37,
   "metadata": {},
   "outputs": [
    {
     "data": {
      "image/png": "[encoded data removed]",
      "text/plain": [
       "<Figure size 1080x648 with 2 Axes>"
      ]
     },
     "metadata": {},
     "output_type": "display_data"
    }
   ],
   "source": [
    "_, [axs_hist, axs_box] = plt.subplots(2, 1,\n",
    "                                     figsize=(15, 9), \n",
    "                                     sharex=True,\n",
    "                                     gridspec_kw=dict(height_ratios=[5,1]))\n",
    "hist = \\\n",
    "sns.histplot(data=df_study, x='power', \n",
    "             kde=True, ax=axs_hist)\n",
    "box = sns.boxplot(data=df_study, x='power', orient='h', ax=axs_box)\n",
    "box.set(xlabel='Мощность [л.с.]')\n",
    "hist.set(title='Гистограмма распределения мощности автомобилей',\n",
    "         ylabel='Количество записей');"
   ]
  },
  {
   "cell_type": "markdown",
   "metadata": {},
   "source": [
    "Всё-таки, несмотря на то, что очень мощные автомобили существуют, вряд ли их будут оценивать через приложение - это ведь эксклюзив. Думаю, в рамках работы можно отбросить авто с мощностью выше 500 сил. Это скорее редкость, ведь среднее значение находится в районе 100-120 лошадей."
   ]
  },
  {
   "cell_type": "code",
   "execution_count": 38,
   "metadata": {},
   "outputs": [],
   "source": [
    "df_study = df_study[df_study.power < 500].copy()"
   ]
  },
  {
   "cell_type": "code",
   "execution_count": 39,
   "metadata": {},
   "outputs": [
    {
     "data": {
      "image/png": "[encoded data removed]",
      "text/plain": [
       "<Figure size 1080x648 with 2 Axes>"
      ]
     },
     "metadata": {},
     "output_type": "display_data"
    }
   ],
   "source": [
    "_, [axs_hist, axs_box] = plt.subplots(2, 1,\n",
    "                                     figsize=(15, 9), \n",
    "                                     sharex=True,\n",
    "                                     gridspec_kw=dict(height_ratios=[5,1]))\n",
    "hist = \\\n",
    "sns.histplot(data=df_study, x='power', \n",
    "             kde=True, ax=axs_hist)\n",
    "box = sns.boxplot(data=df_study, x='power', orient='h', ax=axs_box)\n",
    "box.set(xlabel='Мощность [л.с.]')\n",
    "hist.set(title='Гистограмма распределения мощности автомобилей',\n",
    "         ylabel='Количество записей');"
   ]
  },
  {
   "cell_type": "markdown",
   "metadata": {},
   "source": [
    "Большой процент авто с мощностью ниже 10 л.с. Посмотрим, что там за автомобили."
   ]
  },
  {
   "cell_type": "code",
   "execution_count": 40,
   "metadata": {},
   "outputs": [
    {
     "data": {
      "text/html": [
       "<div>\n",
       "<style scoped>\n",
       "    .dataframe tbody tr th:only-of-type {\n",
       "        vertical-align: middle;\n",
       "    }\n",
       "\n",
       "    .dataframe tbody tr th {\n",
       "        vertical-align: top;\n",
       "    }\n",
       "\n",
       "    .dataframe thead th {\n",
       "        text-align: right;\n",
       "    }\n",
       "</style>\n",
       "<table border=\"1\" class=\"dataframe\">\n",
       "  <thead>\n",
       "    <tr style=\"text-align: right;\">\n",
       "      <th></th>\n",
       "      <th>price</th>\n",
       "      <th>vehicle_type</th>\n",
       "      <th>registration_year</th>\n",
       "      <th>gearbox</th>\n",
       "      <th>power</th>\n",
       "      <th>model</th>\n",
       "      <th>kilometer</th>\n",
       "      <th>fuel_type</th>\n",
       "      <th>brand</th>\n",
       "      <th>repaired</th>\n",
       "      <th>postal_code</th>\n",
       "    </tr>\n",
       "  </thead>\n",
       "  <tbody>\n",
       "    <tr>\n",
       "      <th>0</th>\n",
       "      <td>480</td>\n",
       "      <td>unknown</td>\n",
       "      <td>1993</td>\n",
       "      <td>manual</td>\n",
       "      <td>0</td>\n",
       "      <td>golf</td>\n",
       "      <td>150000</td>\n",
       "      <td>petrol</td>\n",
       "      <td>volkswagen</td>\n",
       "      <td>NaN</td>\n",
       "      <td>70435</td>\n",
       "    </tr>\n",
       "    <tr>\n",
       "      <th>32</th>\n",
       "      <td>245</td>\n",
       "      <td>sedan</td>\n",
       "      <td>1994</td>\n",
       "      <td>manual</td>\n",
       "      <td>0</td>\n",
       "      <td>golf</td>\n",
       "      <td>150000</td>\n",
       "      <td>petrol</td>\n",
       "      <td>volkswagen</td>\n",
       "      <td>no</td>\n",
       "      <td>44145</td>\n",
       "    </tr>\n",
       "    <tr>\n",
       "      <th>37</th>\n",
       "      <td>1500</td>\n",
       "      <td>unknown</td>\n",
       "      <td>2016</td>\n",
       "      <td>manual</td>\n",
       "      <td>0</td>\n",
       "      <td>kangoo</td>\n",
       "      <td>150000</td>\n",
       "      <td>gasoline</td>\n",
       "      <td>renault</td>\n",
       "      <td>no</td>\n",
       "      <td>46483</td>\n",
       "    </tr>\n",
       "    <tr>\n",
       "      <th>54</th>\n",
       "      <td>4700</td>\n",
       "      <td>wagon</td>\n",
       "      <td>2005</td>\n",
       "      <td>manual</td>\n",
       "      <td>0</td>\n",
       "      <td>signum</td>\n",
       "      <td>150000</td>\n",
       "      <td>NaN</td>\n",
       "      <td>opel</td>\n",
       "      <td>no</td>\n",
       "      <td>88433</td>\n",
       "    </tr>\n",
       "    <tr>\n",
       "      <th>55</th>\n",
       "      <td>550</td>\n",
       "      <td>wagon</td>\n",
       "      <td>1999</td>\n",
       "      <td>manual</td>\n",
       "      <td>0</td>\n",
       "      <td>astra</td>\n",
       "      <td>150000</td>\n",
       "      <td>gasoline</td>\n",
       "      <td>opel</td>\n",
       "      <td>yes</td>\n",
       "      <td>56759</td>\n",
       "    </tr>\n",
       "    <tr>\n",
       "      <th>...</th>\n",
       "      <td>...</td>\n",
       "      <td>...</td>\n",
       "      <td>...</td>\n",
       "      <td>...</td>\n",
       "      <td>...</td>\n",
       "      <td>...</td>\n",
       "      <td>...</td>\n",
       "      <td>...</td>\n",
       "      <td>...</td>\n",
       "      <td>...</td>\n",
       "      <td>...</td>\n",
       "    </tr>\n",
       "    <tr>\n",
       "      <th>354338</th>\n",
       "      <td>180</td>\n",
       "      <td>unknown</td>\n",
       "      <td>1995</td>\n",
       "      <td>manual</td>\n",
       "      <td>0</td>\n",
       "      <td>NaN</td>\n",
       "      <td>125000</td>\n",
       "      <td>petrol</td>\n",
       "      <td>opel</td>\n",
       "      <td>NaN</td>\n",
       "      <td>41470</td>\n",
       "    </tr>\n",
       "    <tr>\n",
       "      <th>354346</th>\n",
       "      <td>2600</td>\n",
       "      <td>unknown</td>\n",
       "      <td>2005</td>\n",
       "      <td>auto</td>\n",
       "      <td>0</td>\n",
       "      <td>c_klasse</td>\n",
       "      <td>150000</td>\n",
       "      <td>NaN</td>\n",
       "      <td>mercedes_benz</td>\n",
       "      <td>NaN</td>\n",
       "      <td>61169</td>\n",
       "    </tr>\n",
       "    <tr>\n",
       "      <th>354360</th>\n",
       "      <td>3999</td>\n",
       "      <td>wagon</td>\n",
       "      <td>2005</td>\n",
       "      <td>manual</td>\n",
       "      <td>3</td>\n",
       "      <td>3er</td>\n",
       "      <td>150000</td>\n",
       "      <td>gasoline</td>\n",
       "      <td>bmw</td>\n",
       "      <td>no</td>\n",
       "      <td>81825</td>\n",
       "    </tr>\n",
       "    <tr>\n",
       "      <th>354363</th>\n",
       "      <td>1150</td>\n",
       "      <td>bus</td>\n",
       "      <td>2000</td>\n",
       "      <td>manual</td>\n",
       "      <td>0</td>\n",
       "      <td>zafira</td>\n",
       "      <td>150000</td>\n",
       "      <td>petrol</td>\n",
       "      <td>opel</td>\n",
       "      <td>no</td>\n",
       "      <td>26624</td>\n",
       "    </tr>\n",
       "    <tr>\n",
       "      <th>354365</th>\n",
       "      <td>2200</td>\n",
       "      <td>unknown</td>\n",
       "      <td>2005</td>\n",
       "      <td>manual</td>\n",
       "      <td>0</td>\n",
       "      <td>NaN</td>\n",
       "      <td>20000</td>\n",
       "      <td>NaN</td>\n",
       "      <td>sonstige_autos</td>\n",
       "      <td>NaN</td>\n",
       "      <td>39576</td>\n",
       "    </tr>\n",
       "  </tbody>\n",
       "</table>\n",
       "<p>31866 rows × 11 columns</p>\n",
       "</div>"
      ],
      "text/plain": [
       "        price vehicle_type  registration_year gearbox  power     model  \\\n",
       "0         480      unknown               1993  manual      0      golf   \n",
       "32        245        sedan               1994  manual      0      golf   \n",
       "37       1500      unknown               2016  manual      0    kangoo   \n",
       "54       4700        wagon               2005  manual      0    signum   \n",
       "55        550        wagon               1999  manual      0     astra   \n",
       "...       ...          ...                ...     ...    ...       ...   \n",
       "354338    180      unknown               1995  manual      0       NaN   \n",
       "354346   2600      unknown               2005    auto      0  c_klasse   \n",
       "354360   3999        wagon               2005  manual      3       3er   \n",
       "354363   1150          bus               2000  manual      0    zafira   \n",
       "354365   2200      unknown               2005  manual      0       NaN   \n",
       "\n",
       "        kilometer fuel_type           brand repaired  postal_code  \n",
       "0          150000    petrol      volkswagen      NaN        70435  \n",
       "32         150000    petrol      volkswagen       no        44145  \n",
       "37         150000  gasoline         renault       no        46483  \n",
       "54         150000       NaN            opel       no        88433  \n",
       "55         150000  gasoline            opel      yes        56759  \n",
       "...           ...       ...             ...      ...          ...  \n",
       "354338     125000    petrol            opel      NaN        41470  \n",
       "354346     150000       NaN   mercedes_benz      NaN        61169  \n",
       "354360     150000  gasoline             bmw       no        81825  \n",
       "354363     150000    petrol            opel       no        26624  \n",
       "354365      20000       NaN  sonstige_autos      NaN        39576  \n",
       "\n",
       "[31866 rows x 11 columns]"
      ]
     },
     "metadata": {},
     "output_type": "display_data"
    }
   ],
   "source": [
    "display(df_study[df_study.power < 10])"
   ]
  },
  {
   "cell_type": "markdown",
   "metadata": {},
   "source": [
    "Вполне реальные авто с неуказанной, по всей видимости, мощностью. Мощность - один из ключевых факторов, влияющих на цену, нужны точные реальные данные. К сожалению, я не вижу другого выхода, кроме как удалить неинформативные записи."
   ]
  },
  {
   "cell_type": "code",
   "execution_count": 41,
   "metadata": {},
   "outputs": [],
   "source": [
    "df_study = df_study[df_study.power > 10].copy()"
   ]
  },
  {
   "cell_type": "code",
   "execution_count": 42,
   "metadata": {},
   "outputs": [
    {
     "data": {
      "image/png": "[encoded data removed]",
      "text/plain": [
       "<Figure size 1080x648 with 2 Axes>"
      ]
     },
     "metadata": {},
     "output_type": "display_data"
    }
   ],
   "source": [
    "_, [axs_hist, axs_box] = plt.subplots(2, 1,\n",
    "                                     figsize=(15, 9), \n",
    "                                     sharex=True,\n",
    "                                     gridspec_kw=dict(height_ratios=[5,1]))\n",
    "hist = \\\n",
    "sns.histplot(data=df_study, x='power', \n",
    "             kde=True, ax=axs_hist)\n",
    "box = sns.boxplot(data=df_study, x='power', orient='h', ax=axs_box)\n",
    "box.set(xlabel='Мощность [л.с.]')\n",
    "hist.set(title='Гистограмма распределения мощности автомобилей',\n",
    "         ylabel='Количество записей');"
   ]
  },
  {
   "cell_type": "markdown",
   "metadata": {},
   "source": [
    "#### model"
   ]
  },
  {
   "cell_type": "code",
   "execution_count": 43,
   "metadata": {},
   "outputs": [
    {
     "data": {
      "text/html": [
       "<div>\n",
       "<style scoped>\n",
       "    .dataframe tbody tr th:only-of-type {\n",
       "        vertical-align: middle;\n",
       "    }\n",
       "\n",
       "    .dataframe tbody tr th {\n",
       "        vertical-align: top;\n",
       "    }\n",
       "\n",
       "    .dataframe thead th {\n",
       "        text-align: right;\n",
       "    }\n",
       "</style>\n",
       "<table border=\"1\" class=\"dataframe\">\n",
       "  <thead>\n",
       "    <tr style=\"text-align: right;\">\n",
       "      <th></th>\n",
       "      <th>model</th>\n",
       "    </tr>\n",
       "  </thead>\n",
       "  <tbody>\n",
       "    <tr>\n",
       "      <th>count</th>\n",
       "      <td>280050</td>\n",
       "    </tr>\n",
       "    <tr>\n",
       "      <th>unique</th>\n",
       "      <td>248</td>\n",
       "    </tr>\n",
       "    <tr>\n",
       "      <th>top</th>\n",
       "      <td>golf</td>\n",
       "    </tr>\n",
       "    <tr>\n",
       "      <th>freq</th>\n",
       "      <td>24461</td>\n",
       "    </tr>\n",
       "  </tbody>\n",
       "</table>\n",
       "</div>"
      ],
      "text/plain": [
       "         model\n",
       "count   280050\n",
       "unique     248\n",
       "top       golf\n",
       "freq     24461"
      ]
     },
     "execution_count": 43,
     "metadata": {},
     "output_type": "execute_result"
    }
   ],
   "source": [
    "df_study.model.describe().to_frame()"
   ]
  },
  {
   "cell_type": "code",
   "execution_count": 44,
   "metadata": {},
   "outputs": [
    {
     "data": {
      "text/plain": [
       "golf                  0.084200\n",
       "other                 0.065547\n",
       "3er                   0.059086\n",
       "polo                  0.036732\n",
       "NaN                   0.036002\n",
       "                        ...   \n",
       "i3                    0.000017\n",
       "gl                    0.000014\n",
       "range_rover_evoque    0.000007\n",
       "rangerover            0.000007\n",
       "serie_2               0.000003\n",
       "Name: model, Length: 249, dtype: float64"
      ]
     },
     "execution_count": 44,
     "metadata": {},
     "output_type": "execute_result"
    }
   ],
   "source": [
    "df_study.model.value_counts(normalize=True, dropna=False)"
   ]
  },
  {
   "cell_type": "markdown",
   "metadata": {},
   "source": [
    "Не вижу возможности заполнить пропуски исходя из имеющихся данных. Придётся их удалить."
   ]
  },
  {
   "cell_type": "code",
   "execution_count": 45,
   "metadata": {},
   "outputs": [
    {
     "data": {
      "text/plain": [
       "0.0"
      ]
     },
     "execution_count": 45,
     "metadata": {},
     "output_type": "execute_result"
    }
   ],
   "source": [
    "df_study = df_study.dropna(axis=0, subset=['model'])\n",
    "df_study.model.isna().mean()"
   ]
  },
  {
   "cell_type": "markdown",
   "metadata": {},
   "source": [
    "#### kilometer"
   ]
  },
  {
   "cell_type": "code",
   "execution_count": 46,
   "metadata": {},
   "outputs": [
    {
     "data": {
      "text/plain": [
       "0"
      ]
     },
     "execution_count": 46,
     "metadata": {},
     "output_type": "execute_result"
    }
   ],
   "source": [
    "df_study.kilometer.isna().sum()"
   ]
  },
  {
   "cell_type": "code",
   "execution_count": 47,
   "metadata": {},
   "outputs": [
    {
     "data": {
      "text/plain": [
       "count    280050.000000\n",
       "mean     128999.607213\n",
       "std       36006.343864\n",
       "min        5000.000000\n",
       "25%      125000.000000\n",
       "50%      150000.000000\n",
       "75%      150000.000000\n",
       "max      150000.000000\n",
       "Name: kilometer, dtype: float64"
      ]
     },
     "execution_count": 47,
     "metadata": {},
     "output_type": "execute_result"
    }
   ],
   "source": [
    "df_study.kilometer.describe()"
   ]
  },
  {
   "cell_type": "code",
   "execution_count": 48,
   "metadata": {},
   "outputs": [
    {
     "data": {
      "image/png": "[encoded data removed]",
      "text/plain": [
       "<Figure size 1080x648 with 1 Axes>"
      ]
     },
     "metadata": {},
     "output_type": "display_data"
    }
   ],
   "source": [
    "sns.countplot(data=df_study, x='kilometer')\\\n",
    ".set(title='Количество записей об автомобилях с различным пробегом',\n",
    "    xlabel='Пробег [км]',\n",
    "    ylabel='Количество записей');"
   ]
  },
  {
   "cell_type": "markdown",
   "metadata": {},
   "source": [
    "В данной колонке не наблюдается ни пропусков данных, ни аномалий. Видна выраженная мода в районе 150 тысяч пробега."
   ]
  },
  {
   "cell_type": "markdown",
   "metadata": {},
   "source": [
    "#### fuel_type"
   ]
  },
  {
   "cell_type": "code",
   "execution_count": 49,
   "metadata": {},
   "outputs": [
    {
     "data": {
      "text/html": [
       "<div>\n",
       "<style scoped>\n",
       "    .dataframe tbody tr th:only-of-type {\n",
       "        vertical-align: middle;\n",
       "    }\n",
       "\n",
       "    .dataframe tbody tr th {\n",
       "        vertical-align: top;\n",
       "    }\n",
       "\n",
       "    .dataframe thead th {\n",
       "        text-align: right;\n",
       "    }\n",
       "</style>\n",
       "<table border=\"1\" class=\"dataframe\">\n",
       "  <thead>\n",
       "    <tr style=\"text-align: right;\">\n",
       "      <th></th>\n",
       "      <th>fuel_type</th>\n",
       "    </tr>\n",
       "  </thead>\n",
       "  <tbody>\n",
       "    <tr>\n",
       "      <th>petrol</th>\n",
       "      <td>0.636351</td>\n",
       "    </tr>\n",
       "    <tr>\n",
       "      <th>gasoline</th>\n",
       "      <td>0.299875</td>\n",
       "    </tr>\n",
       "    <tr>\n",
       "      <th>NaN</th>\n",
       "      <td>0.045399</td>\n",
       "    </tr>\n",
       "    <tr>\n",
       "      <th>lpg</th>\n",
       "      <td>0.015672</td>\n",
       "    </tr>\n",
       "    <tr>\n",
       "      <th>cng</th>\n",
       "      <td>0.001664</td>\n",
       "    </tr>\n",
       "    <tr>\n",
       "      <th>hybrid</th>\n",
       "      <td>0.000621</td>\n",
       "    </tr>\n",
       "    <tr>\n",
       "      <th>other</th>\n",
       "      <td>0.000225</td>\n",
       "    </tr>\n",
       "    <tr>\n",
       "      <th>electric</th>\n",
       "      <td>0.000193</td>\n",
       "    </tr>\n",
       "  </tbody>\n",
       "</table>\n",
       "</div>"
      ],
      "text/plain": [
       "          fuel_type\n",
       "petrol     0.636351\n",
       "gasoline   0.299875\n",
       "NaN        0.045399\n",
       "lpg        0.015672\n",
       "cng        0.001664\n",
       "hybrid     0.000621\n",
       "other      0.000225\n",
       "electric   0.000193"
      ]
     },
     "execution_count": 49,
     "metadata": {},
     "output_type": "execute_result"
    }
   ],
   "source": [
    "df_study.fuel_type.value_counts(normalize=True, dropna=False)\\\n",
    ".sort_values(ascending=False).to_frame()"
   ]
  },
  {
   "cell_type": "code",
   "execution_count": 50,
   "metadata": {},
   "outputs": [
    {
     "data": {
      "image/png": "[encoded data removed]",
      "text/plain": [
       "<Figure size 1080x648 with 1 Axes>"
      ]
     },
     "metadata": {},
     "output_type": "display_data"
    }
   ],
   "source": [
    "t = df_study.fuel_type.value_counts(normalize=True)\\\n",
    ".sort_values(ascending=False).to_frame()\n",
    "ax = sns.barplot(data=t, y='fuel_type', x=t.index)\n",
    "\n",
    "ax.set(xlabel='Типы топлива', \n",
    "       ylabel='Доля записей',\n",
    "       title='Доли автомобилей с различными типами топлива');"
   ]
  },
  {
   "cell_type": "markdown",
   "metadata": {},
   "source": [
    "Как видно из графика, большинство автомобилей используют в качестве топлива petrol или gasoline. У нас имеется более пяти процентов пропусков данных. Заполним их исходя из информации о типе автомобиля."
   ]
  },
  {
   "cell_type": "code",
   "execution_count": 51,
   "metadata": {},
   "outputs": [],
   "source": [
    "fuel_dict = df_study.groupby('vehicle_type')['fuel_type'].agg(pd.Series.mode).to_dict()"
   ]
  },
  {
   "cell_type": "code",
   "execution_count": 52,
   "metadata": {},
   "outputs": [
    {
     "data": {
      "text/plain": [
       "{'bus': 'gasoline',\n",
       " 'convertible': 'petrol',\n",
       " 'coupe': 'petrol',\n",
       " 'other': 'gasoline',\n",
       " 'sedan': 'petrol',\n",
       " 'small': 'petrol',\n",
       " 'suv': 'gasoline',\n",
       " 'unknown': 'petrol',\n",
       " 'wagon': 'gasoline'}"
      ]
     },
     "execution_count": 52,
     "metadata": {},
     "output_type": "execute_result"
    }
   ],
   "source": [
    "fuel_dict"
   ]
  },
  {
   "cell_type": "code",
   "execution_count": 53,
   "metadata": {},
   "outputs": [],
   "source": [
    "df_study.loc[\n",
    "    df_study['fuel_type'].isna(), \n",
    "    'fuel_type'] = \\\n",
    "    df_study.loc[df['fuel_type'].isna(), 'vehicle_type'].map(fuel_dict)"
   ]
  },
  {
   "cell_type": "code",
   "execution_count": 54,
   "metadata": {},
   "outputs": [
    {
     "data": {
      "text/html": [
       "<div>\n",
       "<style scoped>\n",
       "    .dataframe tbody tr th:only-of-type {\n",
       "        vertical-align: middle;\n",
       "    }\n",
       "\n",
       "    .dataframe tbody tr th {\n",
       "        vertical-align: top;\n",
       "    }\n",
       "\n",
       "    .dataframe thead th {\n",
       "        text-align: right;\n",
       "    }\n",
       "</style>\n",
       "<table border=\"1\" class=\"dataframe\">\n",
       "  <thead>\n",
       "    <tr style=\"text-align: right;\">\n",
       "      <th></th>\n",
       "      <th>fuel_type</th>\n",
       "    </tr>\n",
       "  </thead>\n",
       "  <tbody>\n",
       "    <tr>\n",
       "      <th>petrol</th>\n",
       "      <td>0.671194</td>\n",
       "    </tr>\n",
       "    <tr>\n",
       "      <th>gasoline</th>\n",
       "      <td>0.310430</td>\n",
       "    </tr>\n",
       "    <tr>\n",
       "      <th>lpg</th>\n",
       "      <td>0.015672</td>\n",
       "    </tr>\n",
       "    <tr>\n",
       "      <th>cng</th>\n",
       "      <td>0.001664</td>\n",
       "    </tr>\n",
       "    <tr>\n",
       "      <th>hybrid</th>\n",
       "      <td>0.000621</td>\n",
       "    </tr>\n",
       "    <tr>\n",
       "      <th>other</th>\n",
       "      <td>0.000225</td>\n",
       "    </tr>\n",
       "    <tr>\n",
       "      <th>electric</th>\n",
       "      <td>0.000193</td>\n",
       "    </tr>\n",
       "  </tbody>\n",
       "</table>\n",
       "</div>"
      ],
      "text/plain": [
       "          fuel_type\n",
       "petrol     0.671194\n",
       "gasoline   0.310430\n",
       "lpg        0.015672\n",
       "cng        0.001664\n",
       "hybrid     0.000621\n",
       "other      0.000225\n",
       "electric   0.000193"
      ]
     },
     "execution_count": 54,
     "metadata": {},
     "output_type": "execute_result"
    }
   ],
   "source": [
    "df_study.fuel_type.value_counts(normalize=True, dropna=False)\\\n",
    ".sort_values(ascending=False).to_frame()"
   ]
  },
  {
   "cell_type": "code",
   "execution_count": 55,
   "metadata": {},
   "outputs": [
    {
     "data": {
      "image/png": "[encoded data removed]",
      "text/plain": [
       "<Figure size 1080x648 with 1 Axes>"
      ]
     },
     "metadata": {},
     "output_type": "display_data"
    }
   ],
   "source": [
    "t = df_study.fuel_type.value_counts(normalize=True)\\\n",
    ".sort_values(ascending=False).to_frame()\n",
    "ax = sns.barplot(data=t, y='fuel_type', x=t.index)\n",
    "\n",
    "ax.set(xlabel='Типы топлива', \n",
    "       ylabel='Доля записей',\n",
    "       title='Доли автомобилей с различными типами топлива');"
   ]
  },
  {
   "cell_type": "markdown",
   "metadata": {},
   "source": [
    "Пропуски данных обработаны, соотношение типов топлива изменилось незначительно."
   ]
  },
  {
   "cell_type": "markdown",
   "metadata": {},
   "source": [
    "Petrol - название бензина в британском английском, gasoline - американском английском. Эти два понятия обозначают одно и тоже, поэтому, стоит их объединить. Сольем обе колонки в одну - Petrol."
   ]
  },
  {
   "cell_type": "code",
   "execution_count": 56,
   "metadata": {},
   "outputs": [],
   "source": [
    "df_study['fuel_type'] = df_study['fuel_type'].replace('gasoline', 'petrol')"
   ]
  },
  {
   "cell_type": "code",
   "execution_count": 57,
   "metadata": {},
   "outputs": [
    {
     "data": {
      "image/png": "[encoded data removed]",
      "text/plain": [
       "<Figure size 1080x648 with 1 Axes>"
      ]
     },
     "metadata": {},
     "output_type": "display_data"
    }
   ],
   "source": [
    "t = df_study.fuel_type.value_counts(normalize=True)\\\n",
    ".sort_values(ascending=False).to_frame()\n",
    "ax = sns.barplot(data=t, y='fuel_type', x=t.index)\n",
    "\n",
    "ax.set(xlabel='Типы топлива', \n",
    "       ylabel='Доля записей',\n",
    "       title='Доли автомобилей с различными типами топлива');"
   ]
  },
  {
   "cell_type": "markdown",
   "metadata": {},
   "source": [
    "Хорошо, бензин стал одним. Переходим к маркам авто."
   ]
  },
  {
   "cell_type": "markdown",
   "metadata": {},
   "source": [
    "#### brand"
   ]
  },
  {
   "cell_type": "code",
   "execution_count": 58,
   "metadata": {},
   "outputs": [
    {
     "data": {
      "text/plain": [
       "volkswagen       0.217811\n",
       "opel             0.110923\n",
       "bmw              0.108813\n",
       "mercedes_benz    0.091798\n",
       "audi             0.086595\n",
       "ford             0.070909\n",
       "renault          0.048109\n",
       "peugeot          0.031641\n",
       "fiat             0.025917\n",
       "seat             0.020286\n",
       "skoda            0.017183\n",
       "mazda            0.016076\n",
       "smart            0.015512\n",
       "citroen          0.014494\n",
       "nissan           0.013858\n",
       "toyota           0.013833\n",
       "hyundai          0.010584\n",
       "mini             0.010123\n",
       "volvo            0.009552\n",
       "mitsubishi       0.008495\n",
       "honda            0.008063\n",
       "kia              0.007084\n",
       "suzuki           0.006735\n",
       "alfa_romeo       0.006624\n",
       "chevrolet        0.004699\n",
       "chrysler         0.003914\n",
       "dacia            0.002810\n",
       "subaru           0.002214\n",
       "daihatsu         0.002142\n",
       "jeep             0.001871\n",
       "porsche          0.001843\n",
       "saab             0.001621\n",
       "land_rover       0.001503\n",
       "jaguar           0.001414\n",
       "daewoo           0.001375\n",
       "lancia           0.001260\n",
       "rover            0.001143\n",
       "trabant          0.000686\n",
       "lada             0.000489\n",
       "Name: brand, dtype: float64"
      ]
     },
     "execution_count": 58,
     "metadata": {},
     "output_type": "execute_result"
    }
   ],
   "source": [
    "df_study.brand.value_counts(normalize=True, dropna=False)"
   ]
  },
  {
   "cell_type": "code",
   "execution_count": 59,
   "metadata": {},
   "outputs": [
    {
     "data": {
      "image/png": "[encoded data removed]",
      "text/plain": [
       "<Figure size 1080x648 with 1 Axes>"
      ]
     },
     "metadata": {},
     "output_type": "display_data"
    }
   ],
   "source": [
    "sns.countplot(data=df_study, x='brand')\\\n",
    ".set(xlabel='Марки автомобилей',\n",
    "     ylabel='Количество записей',\n",
    "     title='Количество записей об автомобилях различных марок')\n",
    "plt.xticks(rotation=90);"
   ]
  },
  {
   "cell_type": "markdown",
   "metadata": {},
   "source": [
    "Данные не нуждаются в корректировке.Всего в данных 39 марок авто. Большинство автомобилей произведено компанией Фольксваген, за ней следуют Опель, БМВ, Ауди и Мерседес. Думаю, что это будет одна из самых весомых колонок при обучении модели."
   ]
  },
  {
   "cell_type": "code",
   "execution_count": 60,
   "metadata": {},
   "outputs": [
    {
     "data": {
      "text/html": [
       "<div>\n",
       "<style scoped>\n",
       "    .dataframe tbody tr th:only-of-type {\n",
       "        vertical-align: middle;\n",
       "    }\n",
       "\n",
       "    .dataframe tbody tr th {\n",
       "        vertical-align: top;\n",
       "    }\n",
       "\n",
       "    .dataframe thead th {\n",
       "        text-align: right;\n",
       "    }\n",
       "</style>\n",
       "<table border=\"1\" class=\"dataframe\">\n",
       "  <thead>\n",
       "    <tr style=\"text-align: right;\">\n",
       "      <th></th>\n",
       "      <th>price</th>\n",
       "      <th>vehicle_type</th>\n",
       "      <th>registration_year</th>\n",
       "      <th>gearbox</th>\n",
       "      <th>power</th>\n",
       "      <th>model</th>\n",
       "      <th>kilometer</th>\n",
       "      <th>fuel_type</th>\n",
       "      <th>brand</th>\n",
       "      <th>repaired</th>\n",
       "      <th>postal_code</th>\n",
       "    </tr>\n",
       "  </thead>\n",
       "  <tbody>\n",
       "    <tr>\n",
       "      <th>2</th>\n",
       "      <td>9800</td>\n",
       "      <td>suv</td>\n",
       "      <td>2004</td>\n",
       "      <td>auto</td>\n",
       "      <td>163</td>\n",
       "      <td>grand</td>\n",
       "      <td>125000</td>\n",
       "      <td>petrol</td>\n",
       "      <td>jeep</td>\n",
       "      <td>NaN</td>\n",
       "      <td>90480</td>\n",
       "    </tr>\n",
       "    <tr>\n",
       "      <th>3</th>\n",
       "      <td>1500</td>\n",
       "      <td>small</td>\n",
       "      <td>2001</td>\n",
       "      <td>manual</td>\n",
       "      <td>75</td>\n",
       "      <td>golf</td>\n",
       "      <td>150000</td>\n",
       "      <td>petrol</td>\n",
       "      <td>volkswagen</td>\n",
       "      <td>no</td>\n",
       "      <td>91074</td>\n",
       "    </tr>\n",
       "    <tr>\n",
       "      <th>4</th>\n",
       "      <td>3600</td>\n",
       "      <td>small</td>\n",
       "      <td>2008</td>\n",
       "      <td>manual</td>\n",
       "      <td>69</td>\n",
       "      <td>fabia</td>\n",
       "      <td>90000</td>\n",
       "      <td>petrol</td>\n",
       "      <td>skoda</td>\n",
       "      <td>no</td>\n",
       "      <td>60437</td>\n",
       "    </tr>\n",
       "    <tr>\n",
       "      <th>5</th>\n",
       "      <td>650</td>\n",
       "      <td>sedan</td>\n",
       "      <td>1995</td>\n",
       "      <td>manual</td>\n",
       "      <td>102</td>\n",
       "      <td>3er</td>\n",
       "      <td>150000</td>\n",
       "      <td>petrol</td>\n",
       "      <td>bmw</td>\n",
       "      <td>yes</td>\n",
       "      <td>33775</td>\n",
       "    </tr>\n",
       "    <tr>\n",
       "      <th>6</th>\n",
       "      <td>2200</td>\n",
       "      <td>convertible</td>\n",
       "      <td>2004</td>\n",
       "      <td>manual</td>\n",
       "      <td>109</td>\n",
       "      <td>2_reihe</td>\n",
       "      <td>150000</td>\n",
       "      <td>petrol</td>\n",
       "      <td>peugeot</td>\n",
       "      <td>no</td>\n",
       "      <td>67112</td>\n",
       "    </tr>\n",
       "    <tr>\n",
       "      <th>...</th>\n",
       "      <td>...</td>\n",
       "      <td>...</td>\n",
       "      <td>...</td>\n",
       "      <td>...</td>\n",
       "      <td>...</td>\n",
       "      <td>...</td>\n",
       "      <td>...</td>\n",
       "      <td>...</td>\n",
       "      <td>...</td>\n",
       "      <td>...</td>\n",
       "      <td>...</td>\n",
       "    </tr>\n",
       "    <tr>\n",
       "      <th>354361</th>\n",
       "      <td>5250</td>\n",
       "      <td>unknown</td>\n",
       "      <td>2016</td>\n",
       "      <td>auto</td>\n",
       "      <td>150</td>\n",
       "      <td>159</td>\n",
       "      <td>150000</td>\n",
       "      <td>petrol</td>\n",
       "      <td>alfa_romeo</td>\n",
       "      <td>no</td>\n",
       "      <td>51371</td>\n",
       "    </tr>\n",
       "    <tr>\n",
       "      <th>354362</th>\n",
       "      <td>3200</td>\n",
       "      <td>sedan</td>\n",
       "      <td>2004</td>\n",
       "      <td>manual</td>\n",
       "      <td>225</td>\n",
       "      <td>leon</td>\n",
       "      <td>150000</td>\n",
       "      <td>petrol</td>\n",
       "      <td>seat</td>\n",
       "      <td>yes</td>\n",
       "      <td>96465</td>\n",
       "    </tr>\n",
       "    <tr>\n",
       "      <th>354366</th>\n",
       "      <td>1199</td>\n",
       "      <td>convertible</td>\n",
       "      <td>2000</td>\n",
       "      <td>auto</td>\n",
       "      <td>101</td>\n",
       "      <td>fortwo</td>\n",
       "      <td>125000</td>\n",
       "      <td>petrol</td>\n",
       "      <td>smart</td>\n",
       "      <td>no</td>\n",
       "      <td>26135</td>\n",
       "    </tr>\n",
       "    <tr>\n",
       "      <th>354367</th>\n",
       "      <td>9200</td>\n",
       "      <td>bus</td>\n",
       "      <td>1996</td>\n",
       "      <td>manual</td>\n",
       "      <td>102</td>\n",
       "      <td>transporter</td>\n",
       "      <td>150000</td>\n",
       "      <td>petrol</td>\n",
       "      <td>volkswagen</td>\n",
       "      <td>no</td>\n",
       "      <td>87439</td>\n",
       "    </tr>\n",
       "    <tr>\n",
       "      <th>354368</th>\n",
       "      <td>3400</td>\n",
       "      <td>wagon</td>\n",
       "      <td>2002</td>\n",
       "      <td>manual</td>\n",
       "      <td>100</td>\n",
       "      <td>golf</td>\n",
       "      <td>150000</td>\n",
       "      <td>petrol</td>\n",
       "      <td>volkswagen</td>\n",
       "      <td>NaN</td>\n",
       "      <td>40764</td>\n",
       "    </tr>\n",
       "  </tbody>\n",
       "</table>\n",
       "<p>280050 rows × 11 columns</p>\n",
       "</div>"
      ],
      "text/plain": [
       "        price vehicle_type  registration_year gearbox  power        model  \\\n",
       "2        9800          suv               2004    auto    163        grand   \n",
       "3        1500        small               2001  manual     75         golf   \n",
       "4        3600        small               2008  manual     69        fabia   \n",
       "5         650        sedan               1995  manual    102          3er   \n",
       "6        2200  convertible               2004  manual    109      2_reihe   \n",
       "...       ...          ...                ...     ...    ...          ...   \n",
       "354361   5250      unknown               2016    auto    150          159   \n",
       "354362   3200        sedan               2004  manual    225         leon   \n",
       "354366   1199  convertible               2000    auto    101       fortwo   \n",
       "354367   9200          bus               1996  manual    102  transporter   \n",
       "354368   3400        wagon               2002  manual    100         golf   \n",
       "\n",
       "        kilometer fuel_type       brand repaired  postal_code  \n",
       "2          125000    petrol        jeep      NaN        90480  \n",
       "3          150000    petrol  volkswagen       no        91074  \n",
       "4           90000    petrol       skoda       no        60437  \n",
       "5          150000    petrol         bmw      yes        33775  \n",
       "6          150000    petrol     peugeot       no        67112  \n",
       "...           ...       ...         ...      ...          ...  \n",
       "354361     150000    petrol  alfa_romeo       no        51371  \n",
       "354362     150000    petrol        seat      yes        96465  \n",
       "354366     125000    petrol       smart       no        26135  \n",
       "354367     150000    petrol  volkswagen       no        87439  \n",
       "354368     150000    petrol  volkswagen      NaN        40764  \n",
       "\n",
       "[280050 rows x 11 columns]"
      ]
     },
     "execution_count": 60,
     "metadata": {},
     "output_type": "execute_result"
    }
   ],
   "source": [
    "df_study"
   ]
  },
  {
   "cell_type": "markdown",
   "metadata": {},
   "source": [
    "#### repaired"
   ]
  },
  {
   "cell_type": "code",
   "execution_count": 61,
   "metadata": {},
   "outputs": [
    {
     "data": {
      "text/html": [
       "<div>\n",
       "<style scoped>\n",
       "    .dataframe tbody tr th:only-of-type {\n",
       "        vertical-align: middle;\n",
       "    }\n",
       "\n",
       "    .dataframe tbody tr th {\n",
       "        vertical-align: top;\n",
       "    }\n",
       "\n",
       "    .dataframe thead th {\n",
       "        text-align: right;\n",
       "    }\n",
       "</style>\n",
       "<table border=\"1\" class=\"dataframe\">\n",
       "  <thead>\n",
       "    <tr style=\"text-align: right;\">\n",
       "      <th></th>\n",
       "      <th>repaired</th>\n",
       "    </tr>\n",
       "  </thead>\n",
       "  <tbody>\n",
       "    <tr>\n",
       "      <th>no</th>\n",
       "      <td>0.764938</td>\n",
       "    </tr>\n",
       "    <tr>\n",
       "      <th>NaN</th>\n",
       "      <td>0.137925</td>\n",
       "    </tr>\n",
       "    <tr>\n",
       "      <th>yes</th>\n",
       "      <td>0.097136</td>\n",
       "    </tr>\n",
       "  </tbody>\n",
       "</table>\n",
       "</div>"
      ],
      "text/plain": [
       "     repaired\n",
       "no   0.764938\n",
       "NaN  0.137925\n",
       "yes  0.097136"
      ]
     },
     "execution_count": 61,
     "metadata": {},
     "output_type": "execute_result"
    }
   ],
   "source": [
    "df_study.repaired.value_counts(normalize=True, dropna=False).to_frame()"
   ]
  },
  {
   "cell_type": "code",
   "execution_count": 62,
   "metadata": {},
   "outputs": [
    {
     "data": {
      "image/png": "[encoded data removed]",
      "text/plain": [
       "<Figure size 1080x648 with 1 Axes>"
      ]
     },
     "metadata": {},
     "output_type": "display_data"
    }
   ],
   "source": [
    "ax = sns.countplot(data=df_study, x='repaired')\n",
    "ax.set(title='Количество записей о ремонтировавшихся и не ремонтировавшихся автомобилях',\n",
    "     xlabel='Автомобиль не ремонтировался',\n",
    "     ylabel='Количество записей');"
   ]
  },
  {
   "cell_type": "markdown",
   "metadata": {},
   "source": [
    "Исходя из барплотов, видно что в имеющихся данных больше всего записей о неремонтированных автомобилях. Также имеется примерно 15 процентов данных с пропусками. Пропусков достаточно, так что просто отбросить данные мы не можем. Колонка очень важная для определения стоимости автомобиля, заполнение пропусков самым часто встречающися значением может привести к искажениям. Поэтому отметим все пропуски значением unknown."
   ]
  },
  {
   "cell_type": "code",
   "execution_count": 63,
   "metadata": {},
   "outputs": [],
   "source": [
    "df_study.repaired = df_study.repaired.fillna(value='unknown')"
   ]
  },
  {
   "cell_type": "code",
   "execution_count": 64,
   "metadata": {},
   "outputs": [
    {
     "data": {
      "image/png": "[encoded data removed]",
      "text/plain": [
       "<Figure size 1080x648 with 1 Axes>"
      ]
     },
     "metadata": {},
     "output_type": "display_data"
    }
   ],
   "source": [
    "ax = sns.countplot(data=df_study, x='repaired')\n",
    "ax.set(title='Количество записей о ремонтировавшихся и не ремонтировавшихся автомобилях',\n",
    "     xlabel='Автомобиль не ремонтировался',\n",
    "     ylabel='Количество записей');"
   ]
  },
  {
   "cell_type": "markdown",
   "metadata": {},
   "source": [
    "Вывод.\n",
    "В начале предобработки были отброшен ряд колонок, которые по мнению студента не оказывали существенного влияния на ценооразоование автомобиля.\n",
    "Также, в процессе предобработки данных и исследовательского анализа были выявлены и устранены некоторые проблемы с данными. В ряде колонок были обнаружены и обработаны пропуски, аномалии и дубликаты. В каждом отдельном случае принималось решение по обработке, которое максимально бы сохранило данные, при этом не привело бы к их искажению. К сожалению, достаточно большое количество данных было удалено из-за неинформативности или невозможности их приведения к \"нормальным\" значениям."
   ]
  },
  {
   "cell_type": "markdown",
   "metadata": {},
   "source": [
    "## Подготовка данных"
   ]
  },
  {
   "cell_type": "code",
   "execution_count": 65,
   "metadata": {},
   "outputs": [],
   "source": [
    "X = df_study[['vehicle_type', 'registration_year', \n",
    "                     'gearbox', 'power', 'model', 'kilometer', \n",
    "                     'fuel_type', 'brand', 'repaired']]\n",
    "y = df_study['price']"
   ]
  },
  {
   "cell_type": "markdown",
   "metadata": {},
   "source": [
    "<div class=\"alert alert-block alert-info\">\n",
    "<b>Комментарий студента </b> Перенес RandomState в начало проекта.\n",
    "</div>"
   ]
  },
  {
   "cell_type": "markdown",
   "metadata": {},
   "source": [
    "Разобьем на тренировочную и тестовую:"
   ]
  },
  {
   "cell_type": "code",
   "execution_count": 66,
   "metadata": {},
   "outputs": [],
   "source": [
    "X_train, X_test, y_train, y_test = train_test_split(X, y, test_size=0.2, \n",
    "                                                    random_state=RANDOM_STATE, \n",
    "                                                    shuffle=True)"
   ]
  },
  {
   "cell_type": "markdown",
   "metadata": {},
   "source": [
    "Еще выделим валидационную:"
   ]
  },
  {
   "cell_type": "code",
   "execution_count": 67,
   "metadata": {},
   "outputs": [],
   "source": [
    "X_train, X_val, y_train, y_val = train_test_split(X_train, y_train, \n",
    "                                                  test_size=0.2, \n",
    "                                                  random_state=RANDOM_STATE, \n",
    "                                                  shuffle=True)"
   ]
  },
  {
   "cell_type": "markdown",
   "metadata": {},
   "source": [
    "Можно переходить к обучению моделей."
   ]
  },
  {
   "cell_type": "markdown",
   "metadata": {},
   "source": [
    "## Обучение моделей"
   ]
  },
  {
   "cell_type": "markdown",
   "metadata": {},
   "source": [
    "### CatBoostRegressor"
   ]
  },
  {
   "cell_type": "code",
   "execution_count": 68,
   "metadata": {},
   "outputs": [],
   "source": [
    "cat_features = ['vehicle_type', 'gearbox', 'model', 'fuel_type', \n",
    "                'brand', 'repaired']"
   ]
  },
  {
   "cell_type": "code",
   "execution_count": 69,
   "metadata": {},
   "outputs": [],
   "source": [
    "train_dataset = cb.Pool(X_train, y_train, cat_features=cat_features) \n",
    "test_dataset = cb.Pool(X_test, y_test, cat_features=cat_features)"
   ]
  },
  {
   "cell_type": "code",
   "execution_count": 70,
   "metadata": {},
   "outputs": [],
   "source": [
    "val_dataset = cb.Pool(X_val, y_val, cat_features=cat_features) "
   ]
  },
  {
   "cell_type": "code",
   "execution_count": 71,
   "metadata": {},
   "outputs": [],
   "source": [
    "cb_model = cb.CatBoostRegressor(\n",
    "    loss_function='RMSE',\n",
    "    random_seed=RANDOM_STATE,\n",
    "    task_type='CPU',\n",
    "    verbose=False\n",
    ")"
   ]
  },
  {
   "cell_type": "code",
   "execution_count": 72,
   "metadata": {},
   "outputs": [],
   "source": [
    "grid = {'learning_rate': [0.03, 0.1],\n",
    "        'depth': [2, 4, 8]}"
   ]
  },
  {
   "cell_type": "code",
   "execution_count": 73,
   "metadata": {},
   "outputs": [
    {
     "name": "stdout",
     "output_type": "stream",
     "text": [
      "\n",
      "bestTest = 1757.981292\n",
      "bestIteration = 999\n",
      "\n",
      "0:\tloss: 1757.9812924\tbest: 1757.9812924 (0)\ttotal: 40.3s\tremaining: 3m 21s\n",
      "\n",
      "bestTest = 1660.027479\n",
      "bestIteration = 998\n",
      "\n",
      "1:\tloss: 1660.0274788\tbest: 1660.0274788 (1)\ttotal: 1m 21s\tremaining: 2m 42s\n",
      "\n",
      "bestTest = 1616.295841\n",
      "bestIteration = 999\n",
      "\n",
      "2:\tloss: 1616.2958409\tbest: 1616.2958409 (2)\ttotal: 2m 51s\tremaining: 2m 51s\n",
      "\n",
      "bestTest = 1544.183136\n",
      "bestIteration = 999\n",
      "\n",
      "3:\tloss: 1544.1831363\tbest: 1544.1831363 (3)\ttotal: 4m 21s\tremaining: 2m 10s\n",
      "\n",
      "bestTest = 1511.79151\n",
      "bestIteration = 999\n",
      "\n",
      "4:\tloss: 1511.7915096\tbest: 1511.7915096 (4)\ttotal: 7m 46s\tremaining: 1m 33s\n",
      "\n",
      "bestTest = 1466.895342\n",
      "bestIteration = 999\n",
      "\n",
      "5:\tloss: 1466.8953417\tbest: 1466.8953417 (5)\ttotal: 11m 17s\tremaining: 0us\n",
      "Estimating final quality...\n",
      "Training on fold [0/3]\n",
      "\n",
      "bestTest = 1469.640354\n",
      "bestIteration = 994\n",
      "\n",
      "Training on fold [1/3]\n",
      "\n",
      "bestTest = 1450.100469\n",
      "bestIteration = 999\n",
      "\n",
      "Training on fold [2/3]\n",
      "\n",
      "bestTest = 1474.775161\n",
      "bestIteration = 998\n",
      "\n",
      "CPU times: user 24min, sys: 27.1 s, total: 24min 27s\n",
      "Wall time: 24min 30s\n"
     ]
    }
   ],
   "source": [
    "%%time\n",
    "grid_search_result  = cb_model.grid_search(grid, train_dataset)"
   ]
  },
  {
   "cell_type": "markdown",
   "metadata": {},
   "source": [
    "Модель CatBoost на кросс-валидации обеспечила метрику RMSE 1450 за 26 минут. Посмотрим, какое значение RMSE модель выдаст на валидационных данных."
   ]
  },
  {
   "cell_type": "code",
   "execution_count": 74,
   "metadata": {},
   "outputs": [],
   "source": [
    "cb_predict = cb_model.predict(val_dataset)"
   ]
  },
  {
   "cell_type": "code",
   "execution_count": 75,
   "metadata": {},
   "outputs": [
    {
     "data": {
      "text/plain": [
       "1461.865246144254"
      ]
     },
     "execution_count": 75,
     "metadata": {},
     "output_type": "execute_result"
    }
   ],
   "source": [
    "mean_squared_error(y_val, cb_predict, squared=False)"
   ]
  },
  {
   "cell_type": "markdown",
   "metadata": {},
   "source": [
    "Заказчику важно время обучения и время предсказаний модели. Чтобы замерить это время обучим модель на валидационной выборке, а затем получим предсказания на ней же."
   ]
  },
  {
   "cell_type": "code",
   "execution_count": 76,
   "metadata": {},
   "outputs": [
    {
     "data": {
      "text/plain": [
       "{'depth': 8, 'learning_rate': 0.1}"
      ]
     },
     "execution_count": 76,
     "metadata": {},
     "output_type": "execute_result"
    }
   ],
   "source": [
    "grid_search_result['params']"
   ]
  },
  {
   "cell_type": "code",
   "execution_count": 77,
   "metadata": {},
   "outputs": [],
   "source": [
    "cb_model_val = cb.CatBoostRegressor(\n",
    "    loss_function='RMSE',\n",
    "    random_seed=RANDOM_STATE,\n",
    "    task_type='CPU',\n",
    "    depth=8,\n",
    "    learning_rate=0.1,\n",
    "    verbose=100\n",
    ")"
   ]
  },
  {
   "cell_type": "code",
   "execution_count": 78,
   "metadata": {},
   "outputs": [
    {
     "name": "stdout",
     "output_type": "stream",
     "text": [
      "0:\tlearn: 4046.4403279\ttotal: 72.1ms\tremaining: 1m 12s\n",
      "100:\tlearn: 1562.6000914\ttotal: 6.28s\tremaining: 55.9s\n",
      "200:\tlearn: 1478.2751945\ttotal: 12.4s\tremaining: 49.4s\n",
      "300:\tlearn: 1421.7877727\ttotal: 18.5s\tremaining: 43s\n",
      "400:\tlearn: 1381.4863828\ttotal: 24.9s\tremaining: 37.2s\n",
      "500:\tlearn: 1349.7656586\ttotal: 31.3s\tremaining: 31.1s\n",
      "600:\tlearn: 1322.6643057\ttotal: 37.9s\tremaining: 25.2s\n",
      "700:\tlearn: 1298.1714013\ttotal: 44.5s\tremaining: 19s\n",
      "800:\tlearn: 1278.8882348\ttotal: 51s\tremaining: 12.7s\n",
      "900:\tlearn: 1259.5961796\ttotal: 57.3s\tremaining: 6.29s\n",
      "999:\tlearn: 1245.8117967\ttotal: 1m 3s\tremaining: 0us\n",
      "CPU times: user 1min 3s, sys: 700 ms, total: 1min 4s\n",
      "Wall time: 1min 4s\n"
     ]
    },
    {
     "data": {
      "text/plain": [
       "<catboost.core.CatBoostRegressor at 0x7f68b7453a30>"
      ]
     },
     "execution_count": 78,
     "metadata": {},
     "output_type": "execute_result"
    }
   ],
   "source": [
    "%%time\n",
    "cb_model_val.fit(val_dataset)"
   ]
  },
  {
   "cell_type": "code",
   "execution_count": 79,
   "metadata": {},
   "outputs": [
    {
     "name": "stdout",
     "output_type": "stream",
     "text": [
      "CPU times: user 529 ms, sys: 0 ns, total: 529 ms\n",
      "Wall time: 537 ms\n"
     ]
    },
    {
     "data": {
      "text/plain": [
       "array([ 3548.09350293, 11353.50681846,  3716.69066804, ...,\n",
       "       10946.54137295,   827.73567722,  7228.3747802 ])"
      ]
     },
     "execution_count": 79,
     "metadata": {},
     "output_type": "execute_result"
    }
   ],
   "source": [
    "%%time\n",
    "cb_model_val.predict(val_dataset)"
   ]
  },
  {
   "cell_type": "markdown",
   "metadata": {},
   "source": [
    "Запишем данные в таблицу"
   ]
  },
  {
   "cell_type": "code",
   "execution_count": 80,
   "metadata": {},
   "outputs": [],
   "source": [
    "results = pd.DataFrame({\n",
    "    'model': ['CatBoost'],\n",
    "    'fittime': ['1 min 10 s'],\n",
    "    'predtime': ['535 ms'],\n",
    "    'rmse': [1461]\n",
    "})"
   ]
  },
  {
   "cell_type": "code",
   "execution_count": 81,
   "metadata": {},
   "outputs": [
    {
     "data": {
      "text/html": [
       "<div>\n",
       "<style scoped>\n",
       "    .dataframe tbody tr th:only-of-type {\n",
       "        vertical-align: middle;\n",
       "    }\n",
       "\n",
       "    .dataframe tbody tr th {\n",
       "        vertical-align: top;\n",
       "    }\n",
       "\n",
       "    .dataframe thead th {\n",
       "        text-align: right;\n",
       "    }\n",
       "</style>\n",
       "<table border=\"1\" class=\"dataframe\">\n",
       "  <thead>\n",
       "    <tr style=\"text-align: right;\">\n",
       "      <th></th>\n",
       "      <th>model</th>\n",
       "      <th>fittime</th>\n",
       "      <th>predtime</th>\n",
       "      <th>rmse</th>\n",
       "    </tr>\n",
       "  </thead>\n",
       "  <tbody>\n",
       "    <tr>\n",
       "      <th>0</th>\n",
       "      <td>CatBoost</td>\n",
       "      <td>1 min 10 s</td>\n",
       "      <td>535 ms</td>\n",
       "      <td>1461</td>\n",
       "    </tr>\n",
       "  </tbody>\n",
       "</table>\n",
       "</div>"
      ],
      "text/plain": [
       "      model     fittime predtime  rmse\n",
       "0  CatBoost  1 min 10 s   535 ms  1461"
      ]
     },
     "execution_count": 81,
     "metadata": {},
     "output_type": "execute_result"
    }
   ],
   "source": [
    "results"
   ]
  },
  {
   "cell_type": "markdown",
   "metadata": {},
   "source": [
    "### Нейронная сеть"
   ]
  },
  {
   "cell_type": "markdown",
   "metadata": {},
   "source": [
    "Опыта обучения нейронок у меня нет, но в теории о них уже начали говорить. Попробуем."
   ]
  },
  {
   "cell_type": "code",
   "execution_count": 82,
   "metadata": {},
   "outputs": [],
   "source": [
    "nn_dataset = pd.concat([X_test, y_test], axis=1)"
   ]
  },
  {
   "cell_type": "code",
   "execution_count": 83,
   "metadata": {},
   "outputs": [],
   "source": [
    "splits = RandomSplitter(valid_pct=0.2)(range_of(nn_dataset))"
   ]
  },
  {
   "cell_type": "code",
   "execution_count": 84,
   "metadata": {},
   "outputs": [],
   "source": [
    "to = TabularPandas(nn_dataset, procs=[Categorify, Normalize],\n",
    "                   cat_names = cat_features,\n",
    "                   cont_names = ['power', 'kilometer', 'registration_year'],\n",
    "                   y_names='price',\n",
    "                   splits=splits)"
   ]
  },
  {
   "cell_type": "code",
   "execution_count": 85,
   "metadata": {},
   "outputs": [],
   "source": [
    "dls = to.dataloaders(bs=64)"
   ]
  },
  {
   "cell_type": "code",
   "execution_count": 86,
   "metadata": {},
   "outputs": [],
   "source": [
    "learner = tabular_learner(dls, metrics=rmse)"
   ]
  },
  {
   "cell_type": "code",
   "execution_count": 87,
   "metadata": {},
   "outputs": [
    {
     "data": {
      "text/html": [
       "\n",
       "<style>\n",
       "    /* Turns off some styling */\n",
       "    progress {\n",
       "        /* gets rid of default border in Firefox and Opera. */\n",
       "        border: none;\n",
       "        /* Needs to be in here for Safari polyfill so background images work as expected. */\n",
       "        background-size: auto;\n",
       "    }\n",
       "    progress:not([value]), progress:not([value])::-webkit-progress-bar {\n",
       "        background: repeating-linear-gradient(45deg, #7e7e7e, #7e7e7e 10px, #5c5c5c 10px, #5c5c5c 20px);\n",
       "    }\n",
       "    .progress-bar-interrupted, .progress-bar-interrupted::-webkit-progress-bar {\n",
       "        background: #F44336;\n",
       "    }\n",
       "</style>\n"
      ],
      "text/plain": [
       "<IPython.core.display.HTML object>"
      ]
     },
     "metadata": {},
     "output_type": "display_data"
    },
    {
     "data": {
      "text/html": [
       "<table border=\"1\" class=\"dataframe\">\n",
       "  <thead>\n",
       "    <tr style=\"text-align: left;\">\n",
       "      <th>epoch</th>\n",
       "      <th>train_loss</th>\n",
       "      <th>valid_loss</th>\n",
       "      <th>_rmse</th>\n",
       "      <th>time</th>\n",
       "    </tr>\n",
       "  </thead>\n",
       "  <tbody>\n",
       "    <tr>\n",
       "      <td>0</td>\n",
       "      <td>40194788.000000</td>\n",
       "      <td>39659116.000000</td>\n",
       "      <td>6297.547852</td>\n",
       "      <td>00:23</td>\n",
       "    </tr>\n",
       "    <tr>\n",
       "      <td>1</td>\n",
       "      <td>36914868.000000</td>\n",
       "      <td>36143480.000000</td>\n",
       "      <td>6011.945801</td>\n",
       "      <td>00:24</td>\n",
       "    </tr>\n",
       "    <tr>\n",
       "      <td>2</td>\n",
       "      <td>32083722.000000</td>\n",
       "      <td>31121106.000000</td>\n",
       "      <td>5578.629395</td>\n",
       "      <td>00:24</td>\n",
       "    </tr>\n",
       "    <tr>\n",
       "      <td>3</td>\n",
       "      <td>26001076.000000</td>\n",
       "      <td>25738670.000000</td>\n",
       "      <td>5073.329102</td>\n",
       "      <td>00:24</td>\n",
       "    </tr>\n",
       "    <tr>\n",
       "      <td>4</td>\n",
       "      <td>20235816.000000</td>\n",
       "      <td>19161148.000000</td>\n",
       "      <td>4377.345215</td>\n",
       "      <td>00:24</td>\n",
       "    </tr>\n",
       "    <tr>\n",
       "      <td>5</td>\n",
       "      <td>13903857.000000</td>\n",
       "      <td>13576398.000000</td>\n",
       "      <td>3684.616455</td>\n",
       "      <td>00:23</td>\n",
       "    </tr>\n",
       "    <tr>\n",
       "      <td>6</td>\n",
       "      <td>9461825.000000</td>\n",
       "      <td>8936005.000000</td>\n",
       "      <td>2989.315186</td>\n",
       "      <td>00:24</td>\n",
       "    </tr>\n",
       "    <tr>\n",
       "      <td>7</td>\n",
       "      <td>6127356.500000</td>\n",
       "      <td>5519735.500000</td>\n",
       "      <td>2349.411865</td>\n",
       "      <td>00:23</td>\n",
       "    </tr>\n",
       "    <tr>\n",
       "      <td>8</td>\n",
       "      <td>3633187.750000</td>\n",
       "      <td>3421724.500000</td>\n",
       "      <td>1849.790161</td>\n",
       "      <td>00:24</td>\n",
       "    </tr>\n",
       "    <tr>\n",
       "      <td>9</td>\n",
       "      <td>3147728.750000</td>\n",
       "      <td>2784624.500000</td>\n",
       "      <td>1668.719238</td>\n",
       "      <td>00:23</td>\n",
       "    </tr>\n",
       "    <tr>\n",
       "      <td>10</td>\n",
       "      <td>3170081.250000</td>\n",
       "      <td>2377130.500000</td>\n",
       "      <td>1541.794678</td>\n",
       "      <td>00:24</td>\n",
       "    </tr>\n",
       "    <tr>\n",
       "      <td>11</td>\n",
       "      <td>2829355.000000</td>\n",
       "      <td>2496413.750000</td>\n",
       "      <td>1580.004517</td>\n",
       "      <td>00:24</td>\n",
       "    </tr>\n",
       "    <tr>\n",
       "      <td>12</td>\n",
       "      <td>2711179.000000</td>\n",
       "      <td>2472674.000000</td>\n",
       "      <td>1572.473877</td>\n",
       "      <td>00:24</td>\n",
       "    </tr>\n",
       "    <tr>\n",
       "      <td>13</td>\n",
       "      <td>2987711.500000</td>\n",
       "      <td>2600452.250000</td>\n",
       "      <td>1612.591919</td>\n",
       "      <td>00:24</td>\n",
       "    </tr>\n",
       "    <tr>\n",
       "      <td>14</td>\n",
       "      <td>2777775.000000</td>\n",
       "      <td>2541391.500000</td>\n",
       "      <td>1594.174316</td>\n",
       "      <td>00:24</td>\n",
       "    </tr>\n",
       "    <tr>\n",
       "      <td>15</td>\n",
       "      <td>2675781.000000</td>\n",
       "      <td>2445421.000000</td>\n",
       "      <td>1563.784180</td>\n",
       "      <td>00:24</td>\n",
       "    </tr>\n",
       "    <tr>\n",
       "      <td>16</td>\n",
       "      <td>2910690.500000</td>\n",
       "      <td>2518739.500000</td>\n",
       "      <td>1587.053467</td>\n",
       "      <td>00:24</td>\n",
       "    </tr>\n",
       "    <tr>\n",
       "      <td>17</td>\n",
       "      <td>2655020.750000</td>\n",
       "      <td>2577128.000000</td>\n",
       "      <td>1605.343384</td>\n",
       "      <td>00:24</td>\n",
       "    </tr>\n",
       "    <tr>\n",
       "      <td>18</td>\n",
       "      <td>2647929.250000</td>\n",
       "      <td>2578305.500000</td>\n",
       "      <td>1605.710327</td>\n",
       "      <td>00:23</td>\n",
       "    </tr>\n",
       "    <tr>\n",
       "      <td>19</td>\n",
       "      <td>2733539.250000</td>\n",
       "      <td>2573327.250000</td>\n",
       "      <td>1604.159668</td>\n",
       "      <td>00:23</td>\n",
       "    </tr>\n",
       "  </tbody>\n",
       "</table>"
      ],
      "text/plain": [
       "<IPython.core.display.HTML object>"
      ]
     },
     "metadata": {},
     "output_type": "display_data"
    },
    {
     "name": "stdout",
     "output_type": "stream",
     "text": [
      "CPU times: user 7min 47s, sys: 5.49 s, total: 7min 52s\n",
      "Wall time: 8min 5s\n"
     ]
    }
   ],
   "source": [
    "%%time\n",
    "learner.fit(20)"
   ]
  },
  {
   "cell_type": "code",
   "execution_count": 88,
   "metadata": {},
   "outputs": [],
   "source": [
    "val_df = X_val.copy()\n",
    "dl = learner.dls.test_dl(val_df)"
   ]
  },
  {
   "cell_type": "code",
   "execution_count": 89,
   "metadata": {},
   "outputs": [
    {
     "data": {
      "text/html": [
       "\n",
       "<style>\n",
       "    /* Turns off some styling */\n",
       "    progress {\n",
       "        /* gets rid of default border in Firefox and Opera. */\n",
       "        border: none;\n",
       "        /* Needs to be in here for Safari polyfill so background images work as expected. */\n",
       "        background-size: auto;\n",
       "    }\n",
       "    progress:not([value]), progress:not([value])::-webkit-progress-bar {\n",
       "        background: repeating-linear-gradient(45deg, #7e7e7e, #7e7e7e 10px, #5c5c5c 10px, #5c5c5c 20px);\n",
       "    }\n",
       "    .progress-bar-interrupted, .progress-bar-interrupted::-webkit-progress-bar {\n",
       "        background: #F44336;\n",
       "    }\n",
       "</style>\n"
      ],
      "text/plain": [
       "<IPython.core.display.HTML object>"
      ]
     },
     "metadata": {},
     "output_type": "display_data"
    },
    {
     "data": {
      "text/html": [],
      "text/plain": [
       "<IPython.core.display.HTML object>"
      ]
     },
     "metadata": {},
     "output_type": "display_data"
    },
    {
     "name": "stdout",
     "output_type": "stream",
     "text": [
      "CPU times: user 8.3 s, sys: 105 ms, total: 8.4 s\n",
      "Wall time: 8.68 s\n"
     ]
    }
   ],
   "source": [
    "%%time\n",
    "y_pred_nn, _ = learner.get_preds(dl=dl)"
   ]
  },
  {
   "cell_type": "code",
   "execution_count": 90,
   "metadata": {},
   "outputs": [
    {
     "data": {
      "text/plain": [
       "1641.685095330636"
      ]
     },
     "execution_count": 90,
     "metadata": {},
     "output_type": "execute_result"
    }
   ],
   "source": [
    "mean_squared_error(y_val, y_pred_nn, squared=False)"
   ]
  },
  {
   "cell_type": "markdown",
   "metadata": {},
   "source": [
    "Для нейронной сети обучение заняло 12 минут 16 секунд, предсказание получено за 15 секунд, метрика RMSE равна 1604. Добавим данные в таблицу:"
   ]
  },
  {
   "cell_type": "code",
   "execution_count": 91,
   "metadata": {},
   "outputs": [],
   "source": [
    "results = results.append({\n",
    "    'model': 'Neural Network',\n",
    "    'fittime': '12 min 16 s',\n",
    "    'predtime': '15 s',\n",
    "    'rmse': 1604\n",
    "}, ignore_index=True)"
   ]
  },
  {
   "cell_type": "code",
   "execution_count": 92,
   "metadata": {},
   "outputs": [
    {
     "data": {
      "text/html": [
       "<div>\n",
       "<style scoped>\n",
       "    .dataframe tbody tr th:only-of-type {\n",
       "        vertical-align: middle;\n",
       "    }\n",
       "\n",
       "    .dataframe tbody tr th {\n",
       "        vertical-align: top;\n",
       "    }\n",
       "\n",
       "    .dataframe thead th {\n",
       "        text-align: right;\n",
       "    }\n",
       "</style>\n",
       "<table border=\"1\" class=\"dataframe\">\n",
       "  <thead>\n",
       "    <tr style=\"text-align: right;\">\n",
       "      <th></th>\n",
       "      <th>model</th>\n",
       "      <th>fittime</th>\n",
       "      <th>predtime</th>\n",
       "      <th>rmse</th>\n",
       "    </tr>\n",
       "  </thead>\n",
       "  <tbody>\n",
       "    <tr>\n",
       "      <th>0</th>\n",
       "      <td>CatBoost</td>\n",
       "      <td>1 min 10 s</td>\n",
       "      <td>535 ms</td>\n",
       "      <td>1461</td>\n",
       "    </tr>\n",
       "    <tr>\n",
       "      <th>1</th>\n",
       "      <td>Neural Network</td>\n",
       "      <td>12 min 16 s</td>\n",
       "      <td>15 s</td>\n",
       "      <td>1604</td>\n",
       "    </tr>\n",
       "  </tbody>\n",
       "</table>\n",
       "</div>"
      ],
      "text/plain": [
       "            model      fittime predtime  rmse\n",
       "0        CatBoost   1 min 10 s   535 ms  1461\n",
       "1  Neural Network  12 min 16 s     15 s  1604"
      ]
     },
     "execution_count": 92,
     "metadata": {},
     "output_type": "execute_result"
    }
   ],
   "source": [
    "results"
   ]
  },
  {
   "cell_type": "markdown",
   "metadata": {},
   "source": [
    "### LightGBM"
   ]
  },
  {
   "cell_type": "code",
   "execution_count": 93,
   "metadata": {},
   "outputs": [],
   "source": [
    "X_train_lgbm = X_train.copy()\n",
    "X_test_lgbm = X_test.copy()\n",
    "X_val_lgbm = X_val.copy()"
   ]
  },
  {
   "cell_type": "code",
   "execution_count": 94,
   "metadata": {},
   "outputs": [],
   "source": [
    "for feature in cat_features:\n",
    "    X_train_lgbm[feature] = pd.Series(X_train_lgbm[feature], dtype='category')\n",
    "    X_test_lgbm[feature] = pd.Series(X_test_lgbm[feature], dtype='category')\n",
    "    X_val_lgbm[feature] = pd.Series(X_val_lgbm[feature], dtype='category')"
   ]
  },
  {
   "cell_type": "code",
   "execution_count": 95,
   "metadata": {},
   "outputs": [],
   "source": [
    "def objective(trial):\n",
    "  X_train_l, X_val_l, y_train_l, y_val_l = train_test_split(X_train_lgbm, y_train, test_size = 0.2)\n",
    "  dtrain = lgbm.Dataset(X_train_l, label=y_train_l)\n",
    "\n",
    "  param = {\n",
    "      'metric': 'root_mean_squared_error',\n",
    "      'random_state': RANDOM_STATE,\n",
    "      'learning_rate': trial.suggest_float('learning_rate', 0.03, 0.1),\n",
    "      'max_depth': trial.suggest_int('max_depth', 2, 8),\n",
    "  }\n",
    "\n",
    "  gbm = lgbm.train(param, dtrain)\n",
    "  y_pred_l = gbm.predict(X_val_l)\n",
    "  rmse = mean_squared_error(y_val_l, y_pred_l, squared=False)\n",
    "  return rmse"
   ]
  },
  {
   "cell_type": "code",
   "execution_count": 96,
   "metadata": {},
   "outputs": [
    {
     "name": "stderr",
     "output_type": "stream",
     "text": [
      "[I 2024-06-12 15:46:33,626] A new study created in memory with name: no-name-8338b517-f8fd-4d62-a99f-b72d37b7b54c\n"
     ]
    },
    {
     "name": "stdout",
     "output_type": "stream",
     "text": [
      "[LightGBM] [Warning] Auto-choosing row-wise multi-threading, the overhead of testing was 0.005403 seconds.\n",
      "You can set `force_row_wise=true` to remove the overhead.\n",
      "And if memory is not enough, you can set `force_col_wise=true`.\n",
      "[LightGBM] [Info] Total Bins 567\n",
      "[LightGBM] [Info] Number of data points in the train set: 143385, number of used features: 9\n",
      "[LightGBM] [Info] Start training from score 4708.282965\n",
      "[LightGBM] [Warning] No further splits with positive gain, best gain: -inf\n",
      "[LightGBM] [Warning] No further splits with positive gain, best gain: -inf\n",
      "[LightGBM] [Warning] No further splits with positive gain, best gain: -inf\n",
      "[LightGBM] [Warning] No further splits with positive gain, best gain: -inf\n",
      "[LightGBM] [Warning] No further splits with positive gain, best gain: -inf\n",
      "[LightGBM] [Warning] No further splits with positive gain, best gain: -inf\n",
      "[LightGBM] [Warning] No further splits with positive gain, best gain: -inf\n",
      "[LightGBM] [Warning] No further splits with positive gain, best gain: -inf\n"
     ]
    },
    {
     "name": "stderr",
     "output_type": "stream",
     "text": [
      "[I 2024-06-12 15:46:35,500] Trial 0 finished with value: 1603.8207264130758 and parameters: {'learning_rate': 0.06703946803598693, 'max_depth': 4}. Best is trial 0 with value: 1603.8207264130758.\n"
     ]
    },
    {
     "name": "stdout",
     "output_type": "stream",
     "text": [
      "[LightGBM] [Warning] Accuracy may be bad since you didn't explicitly set num_leaves OR 2^max_depth > num_leaves. (num_leaves=31).\n",
      "[LightGBM] [Warning] Accuracy may be bad since you didn't explicitly set num_leaves OR 2^max_depth > num_leaves. (num_leaves=31).\n",
      "[LightGBM] [Warning] Auto-choosing col-wise multi-threading, the overhead of testing was 0.094092 seconds.\n",
      "You can set `force_col_wise=true` to remove the overhead.\n",
      "[LightGBM] [Info] Total Bins 568\n",
      "[LightGBM] [Info] Number of data points in the train set: 143385, number of used features: 9\n",
      "[LightGBM] [Info] Start training from score 4702.645207\n",
      "[LightGBM] [Warning] No further splits with positive gain, best gain: -inf\n",
      "[LightGBM] [Warning] No further splits with positive gain, best gain: -inf\n",
      "[LightGBM] [Warning] No further splits with positive gain, best gain: -inf\n"
     ]
    },
    {
     "name": "stderr",
     "output_type": "stream",
     "text": [
      "[I 2024-06-12 15:46:38,300] Trial 1 finished with value: 1516.3326022961946 and parameters: {'learning_rate': 0.09193836091072496, 'max_depth': 6}. Best is trial 1 with value: 1516.3326022961946.\n"
     ]
    },
    {
     "name": "stdout",
     "output_type": "stream",
     "text": [
      "[LightGBM] [Warning] Auto-choosing row-wise multi-threading, the overhead of testing was 0.004814 seconds.\n",
      "You can set `force_row_wise=true` to remove the overhead.\n",
      "And if memory is not enough, you can set `force_col_wise=true`.\n",
      "[LightGBM] [Info] Total Bins 568\n",
      "[LightGBM] [Info] Number of data points in the train set: 143385, number of used features: 9\n",
      "[LightGBM] [Info] Start training from score 4706.163399\n"
     ]
    },
    {
     "name": "stderr",
     "output_type": "stream",
     "text": [
      "[I 2024-06-12 15:46:39,896] Trial 2 finished with value: 1714.3450089465448 and parameters: {'learning_rate': 0.07018082597603872, 'max_depth': 3}. Best is trial 1 with value: 1516.3326022961946.\n"
     ]
    },
    {
     "name": "stdout",
     "output_type": "stream",
     "text": [
      "[LightGBM] [Warning] Accuracy may be bad since you didn't explicitly set num_leaves OR 2^max_depth > num_leaves. (num_leaves=31).\n",
      "[LightGBM] [Warning] Accuracy may be bad since you didn't explicitly set num_leaves OR 2^max_depth > num_leaves. (num_leaves=31).\n",
      "[LightGBM] [Warning] Auto-choosing row-wise multi-threading, the overhead of testing was 0.005148 seconds.\n",
      "You can set `force_row_wise=true` to remove the overhead.\n",
      "And if memory is not enough, you can set `force_col_wise=true`.\n",
      "[LightGBM] [Info] Total Bins 566\n",
      "[LightGBM] [Info] Number of data points in the train set: 143385, number of used features: 9\n",
      "[LightGBM] [Info] Start training from score 4700.949925\n",
      "[LightGBM] [Warning] No further splits with positive gain, best gain: -inf\n",
      "[LightGBM] [Warning] No further splits with positive gain, best gain: -inf\n",
      "[LightGBM] [Warning] No further splits with positive gain, best gain: -inf\n",
      "[LightGBM] [Warning] No further splits with positive gain, best gain: -inf\n",
      "[LightGBM] [Warning] No further splits with positive gain, best gain: -inf\n",
      "[LightGBM] [Warning] No further splits with positive gain, best gain: -inf\n",
      "[LightGBM] [Warning] No further splits with positive gain, best gain: -inf\n",
      "[LightGBM] [Warning] No further splits with positive gain, best gain: -inf\n",
      "[LightGBM] [Warning] No further splits with positive gain, best gain: -inf\n",
      "[LightGBM] [Warning] No further splits with positive gain, best gain: -inf\n",
      "[LightGBM] [Warning] No further splits with positive gain, best gain: -inf\n",
      "[LightGBM] [Warning] No further splits with positive gain, best gain: -inf\n",
      "[LightGBM] [Warning] No further splits with positive gain, best gain: -inf\n",
      "[LightGBM] [Warning] No further splits with positive gain, best gain: -inf\n",
      "[LightGBM] [Warning] No further splits with positive gain, best gain: -inf\n",
      "[LightGBM] [Warning] No further splits with positive gain, best gain: -inf\n",
      "[LightGBM] [Warning] No further splits with positive gain, best gain: -inf\n",
      "[LightGBM] [Warning] No further splits with positive gain, best gain: -inf\n",
      "[LightGBM] [Warning] No further splits with positive gain, best gain: -inf\n",
      "[LightGBM] [Warning] No further splits with positive gain, best gain: -inf\n",
      "[LightGBM] [Warning] No further splits with positive gain, best gain: -inf\n",
      "[LightGBM] [Warning] No further splits with positive gain, best gain: -inf\n",
      "[LightGBM] [Warning] No further splits with positive gain, best gain: -inf\n",
      "[LightGBM] [Warning] No further splits with positive gain, best gain: -inf\n",
      "[LightGBM] [Warning] No further splits with positive gain, best gain: -inf\n",
      "[LightGBM] [Warning] No further splits with positive gain, best gain: -inf\n",
      "[LightGBM] [Warning] No further splits with positive gain, best gain: -inf\n",
      "[LightGBM] [Warning] No further splits with positive gain, best gain: -inf\n",
      "[LightGBM] [Warning] No further splits with positive gain, best gain: -inf\n",
      "[LightGBM] [Warning] No further splits with positive gain, best gain: -inf\n",
      "[LightGBM] [Warning] No further splits with positive gain, best gain: -inf\n",
      "[LightGBM] [Warning] No further splits with positive gain, best gain: -inf\n",
      "[LightGBM] [Warning] No further splits with positive gain, best gain: -inf\n",
      "[LightGBM] [Warning] No further splits with positive gain, best gain: -inf\n",
      "[LightGBM] [Warning] No further splits with positive gain, best gain: -inf\n",
      "[LightGBM] [Warning] No further splits with positive gain, best gain: -inf\n",
      "[LightGBM] [Warning] No further splits with positive gain, best gain: -inf\n",
      "[LightGBM] [Warning] No further splits with positive gain, best gain: -inf\n"
     ]
    },
    {
     "name": "stderr",
     "output_type": "stream",
     "text": [
      "[I 2024-06-12 15:46:42,298] Trial 3 finished with value: 1531.545479579306 and parameters: {'learning_rate': 0.08947930337207012, 'max_depth': 5}. Best is trial 1 with value: 1516.3326022961946.\n"
     ]
    },
    {
     "name": "stdout",
     "output_type": "stream",
     "text": [
      "[LightGBM] [Warning] Auto-choosing row-wise multi-threading, the overhead of testing was 0.004768 seconds.\n",
      "You can set `force_row_wise=true` to remove the overhead.\n",
      "And if memory is not enough, you can set `force_col_wise=true`.\n",
      "[LightGBM] [Info] Total Bins 569\n",
      "[LightGBM] [Info] Number of data points in the train set: 143385, number of used features: 9\n",
      "[LightGBM] [Info] Start training from score 4712.949304\n"
     ]
    },
    {
     "name": "stderr",
     "output_type": "stream",
     "text": [
      "[I 2024-06-12 15:46:43,999] Trial 4 finished with value: 1689.737706492882 and parameters: {'learning_rate': 0.06861704588233306, 'max_depth': 3}. Best is trial 1 with value: 1516.3326022961946.\n"
     ]
    },
    {
     "name": "stdout",
     "output_type": "stream",
     "text": [
      "[LightGBM] [Warning] Auto-choosing row-wise multi-threading, the overhead of testing was 0.005838 seconds.\n",
      "You can set `force_row_wise=true` to remove the overhead.\n",
      "And if memory is not enough, you can set `force_col_wise=true`.\n",
      "[LightGBM] [Info] Total Bins 567\n",
      "[LightGBM] [Info] Number of data points in the train set: 143385, number of used features: 9\n",
      "[LightGBM] [Info] Start training from score 4717.070586\n"
     ]
    },
    {
     "name": "stderr",
     "output_type": "stream",
     "text": [
      "[I 2024-06-12 15:46:45,403] Trial 5 finished with value: 1670.0413568977692 and parameters: {'learning_rate': 0.06708726808374416, 'max_depth': 3}. Best is trial 1 with value: 1516.3326022961946.\n"
     ]
    },
    {
     "name": "stdout",
     "output_type": "stream",
     "text": [
      "[LightGBM] [Warning] Accuracy may be bad since you didn't explicitly set num_leaves OR 2^max_depth > num_leaves. (num_leaves=31).\n",
      "[LightGBM] [Warning] Accuracy may be bad since you didn't explicitly set num_leaves OR 2^max_depth > num_leaves. (num_leaves=31).\n",
      "[LightGBM] [Warning] Auto-choosing row-wise multi-threading, the overhead of testing was 0.005147 seconds.\n",
      "You can set `force_row_wise=true` to remove the overhead.\n",
      "And if memory is not enough, you can set `force_col_wise=true`.\n",
      "[LightGBM] [Info] Total Bins 569\n",
      "[LightGBM] [Info] Number of data points in the train set: 143385, number of used features: 9\n",
      "[LightGBM] [Info] Start training from score 4705.405705\n",
      "[LightGBM] [Warning] No further splits with positive gain, best gain: -inf\n",
      "[LightGBM] [Warning] No further splits with positive gain, best gain: -inf\n",
      "[LightGBM] [Warning] No further splits with positive gain, best gain: -inf\n",
      "[LightGBM] [Warning] No further splits with positive gain, best gain: -inf\n",
      "[LightGBM] [Warning] No further splits with positive gain, best gain: -inf\n",
      "[LightGBM] [Warning] No further splits with positive gain, best gain: -inf\n",
      "[LightGBM] [Warning] No further splits with positive gain, best gain: -inf\n",
      "[LightGBM] [Warning] No further splits with positive gain, best gain: -inf\n",
      "[LightGBM] [Warning] No further splits with positive gain, best gain: -inf\n",
      "[LightGBM] [Warning] No further splits with positive gain, best gain: -inf\n",
      "[LightGBM] [Warning] No further splits with positive gain, best gain: -inf\n",
      "[LightGBM] [Warning] No further splits with positive gain, best gain: -inf\n",
      "[LightGBM] [Warning] No further splits with positive gain, best gain: -inf\n",
      "[LightGBM] [Warning] No further splits with positive gain, best gain: -inf\n",
      "[LightGBM] [Warning] No further splits with positive gain, best gain: -inf\n",
      "[LightGBM] [Warning] No further splits with positive gain, best gain: -inf\n",
      "[LightGBM] [Warning] No further splits with positive gain, best gain: -inf\n",
      "[LightGBM] [Warning] No further splits with positive gain, best gain: -inf\n",
      "[LightGBM] [Warning] No further splits with positive gain, best gain: -inf\n",
      "[LightGBM] [Warning] No further splits with positive gain, best gain: -inf\n",
      "[LightGBM] [Warning] No further splits with positive gain, best gain: -inf\n",
      "[LightGBM] [Warning] No further splits with positive gain, best gain: -inf\n",
      "[LightGBM] [Warning] No further splits with positive gain, best gain: -inf\n",
      "[LightGBM] [Warning] No further splits with positive gain, best gain: -inf\n",
      "[LightGBM] [Warning] No further splits with positive gain, best gain: -inf\n",
      "[LightGBM] [Warning] No further splits with positive gain, best gain: -inf\n",
      "[LightGBM] [Warning] No further splits with positive gain, best gain: -inf\n",
      "[LightGBM] [Warning] No further splits with positive gain, best gain: -inf\n",
      "[LightGBM] [Warning] No further splits with positive gain, best gain: -inf\n",
      "[LightGBM] [Warning] No further splits with positive gain, best gain: -inf\n",
      "[LightGBM] [Warning] No further splits with positive gain, best gain: -inf\n",
      "[LightGBM] [Warning] No further splits with positive gain, best gain: -inf\n",
      "[LightGBM] [Warning] No further splits with positive gain, best gain: -inf\n",
      "[LightGBM] [Warning] No further splits with positive gain, best gain: -inf\n",
      "[LightGBM] [Warning] No further splits with positive gain, best gain: -inf\n",
      "[LightGBM] [Warning] No further splits with positive gain, best gain: -inf\n"
     ]
    },
    {
     "name": "stderr",
     "output_type": "stream",
     "text": [
      "[I 2024-06-12 15:46:47,807] Trial 6 finished with value: 1532.9682910067525 and parameters: {'learning_rate': 0.09007104161612366, 'max_depth': 5}. Best is trial 1 with value: 1516.3326022961946.\n"
     ]
    },
    {
     "name": "stdout",
     "output_type": "stream",
     "text": [
      "[LightGBM] [Warning] Accuracy may be bad since you didn't explicitly set num_leaves OR 2^max_depth > num_leaves. (num_leaves=31).\n",
      "[LightGBM] [Warning] Accuracy may be bad since you didn't explicitly set num_leaves OR 2^max_depth > num_leaves. (num_leaves=31).\n",
      "[LightGBM] [Warning] Auto-choosing col-wise multi-threading, the overhead of testing was 0.019843 seconds.\n",
      "You can set `force_col_wise=true` to remove the overhead.\n",
      "[LightGBM] [Info] Total Bins 568\n",
      "[LightGBM] [Info] Number of data points in the train set: 143385, number of used features: 9\n",
      "[LightGBM] [Info] Start training from score 4712.027520\n"
     ]
    },
    {
     "name": "stderr",
     "output_type": "stream",
     "text": [
      "[I 2024-06-12 15:46:50,799] Trial 7 finished with value: 1581.4360700416905 and parameters: {'learning_rate': 0.039740522485529076, 'max_depth': 6}. Best is trial 1 with value: 1516.3326022961946.\n"
     ]
    },
    {
     "name": "stdout",
     "output_type": "stream",
     "text": [
      "[LightGBM] [Warning] Accuracy may be bad since you didn't explicitly set num_leaves OR 2^max_depth > num_leaves. (num_leaves=31).\n",
      "[LightGBM] [Warning] Accuracy may be bad since you didn't explicitly set num_leaves OR 2^max_depth > num_leaves. (num_leaves=31).\n",
      "[LightGBM] [Warning] Auto-choosing row-wise multi-threading, the overhead of testing was 0.005120 seconds.\n",
      "You can set `force_row_wise=true` to remove the overhead.\n",
      "And if memory is not enough, you can set `force_col_wise=true`.\n",
      "[LightGBM] [Info] Total Bins 565\n",
      "[LightGBM] [Info] Number of data points in the train set: 143385, number of used features: 9\n",
      "[LightGBM] [Info] Start training from score 4710.934247\n"
     ]
    },
    {
     "name": "stderr",
     "output_type": "stream",
     "text": [
      "[I 2024-06-12 15:46:53,599] Trial 8 finished with value: 1551.2665885855897 and parameters: {'learning_rate': 0.056840964329920945, 'max_depth': 7}. Best is trial 1 with value: 1516.3326022961946.\n"
     ]
    },
    {
     "name": "stdout",
     "output_type": "stream",
     "text": [
      "[LightGBM] [Warning] Accuracy may be bad since you didn't explicitly set num_leaves OR 2^max_depth > num_leaves. (num_leaves=31).\n",
      "[LightGBM] [Warning] Accuracy may be bad since you didn't explicitly set num_leaves OR 2^max_depth > num_leaves. (num_leaves=31).\n",
      "[LightGBM] [Warning] Auto-choosing row-wise multi-threading, the overhead of testing was 0.004880 seconds.\n",
      "You can set `force_row_wise=true` to remove the overhead.\n",
      "And if memory is not enough, you can set `force_col_wise=true`.\n",
      "[LightGBM] [Info] Total Bins 565\n",
      "[LightGBM] [Info] Number of data points in the train set: 143385, number of used features: 9\n",
      "[LightGBM] [Info] Start training from score 4718.974028\n"
     ]
    },
    {
     "name": "stderr",
     "output_type": "stream",
     "text": [
      "[I 2024-06-12 15:46:56,210] Trial 9 finished with value: 1515.8503329178438 and parameters: {'learning_rate': 0.07834642416934393, 'max_depth': 6}. Best is trial 9 with value: 1515.8503329178438.\n"
     ]
    },
    {
     "name": "stdout",
     "output_type": "stream",
     "text": [
      "[LightGBM] [Warning] Accuracy may be bad since you didn't explicitly set num_leaves OR 2^max_depth > num_leaves. (num_leaves=31).\n",
      "[LightGBM] [Warning] Accuracy may be bad since you didn't explicitly set num_leaves OR 2^max_depth > num_leaves. (num_leaves=31).\n",
      "[LightGBM] [Warning] Auto-choosing row-wise multi-threading, the overhead of testing was 0.005577 seconds.\n",
      "You can set `force_row_wise=true` to remove the overhead.\n",
      "And if memory is not enough, you can set `force_col_wise=true`.\n",
      "[LightGBM] [Info] Total Bins 569\n",
      "[LightGBM] [Info] Number of data points in the train set: 143385, number of used features: 9\n",
      "[LightGBM] [Info] Start training from score 4698.653423\n"
     ]
    },
    {
     "name": "stderr",
     "output_type": "stream",
     "text": [
      "[I 2024-06-12 15:46:59,218] Trial 10 finished with value: 1595.3221909303272 and parameters: {'learning_rate': 0.033908394526585554, 'max_depth': 8}. Best is trial 9 with value: 1515.8503329178438.\n"
     ]
    },
    {
     "name": "stdout",
     "output_type": "stream",
     "text": [
      "[LightGBM] [Warning] Accuracy may be bad since you didn't explicitly set num_leaves OR 2^max_depth > num_leaves. (num_leaves=31).\n",
      "[LightGBM] [Warning] Accuracy may be bad since you didn't explicitly set num_leaves OR 2^max_depth > num_leaves. (num_leaves=31).\n",
      "[LightGBM] [Warning] Auto-choosing row-wise multi-threading, the overhead of testing was 0.004801 seconds.\n",
      "You can set `force_row_wise=true` to remove the overhead.\n",
      "And if memory is not enough, you can set `force_col_wise=true`.\n",
      "[LightGBM] [Info] Total Bins 568\n",
      "[LightGBM] [Info] Number of data points in the train set: 143385, number of used features: 9\n",
      "[LightGBM] [Info] Start training from score 4699.650647\n"
     ]
    },
    {
     "name": "stderr",
     "output_type": "stream",
     "text": [
      "[I 2024-06-12 15:47:02,006] Trial 11 finished with value: 1525.7190273889362 and parameters: {'learning_rate': 0.09904577748026616, 'max_depth': 7}. Best is trial 9 with value: 1515.8503329178438.\n"
     ]
    },
    {
     "name": "stdout",
     "output_type": "stream",
     "text": [
      "[LightGBM] [Warning] Accuracy may be bad since you didn't explicitly set num_leaves OR 2^max_depth > num_leaves. (num_leaves=31).\n",
      "[LightGBM] [Warning] Accuracy may be bad since you didn't explicitly set num_leaves OR 2^max_depth > num_leaves. (num_leaves=31).\n",
      "[LightGBM] [Warning] Auto-choosing row-wise multi-threading, the overhead of testing was 0.005638 seconds.\n",
      "You can set `force_row_wise=true` to remove the overhead.\n",
      "And if memory is not enough, you can set `force_col_wise=true`.\n",
      "[LightGBM] [Info] Total Bins 569\n",
      "[LightGBM] [Info] Number of data points in the train set: 143385, number of used features: 9\n",
      "[LightGBM] [Info] Start training from score 4697.311106\n"
     ]
    },
    {
     "name": "stderr",
     "output_type": "stream",
     "text": [
      "[I 2024-06-12 15:47:04,602] Trial 12 finished with value: 1519.8836225973969 and parameters: {'learning_rate': 0.08213453528505531, 'max_depth': 6}. Best is trial 9 with value: 1515.8503329178438.\n"
     ]
    },
    {
     "name": "stdout",
     "output_type": "stream",
     "text": [
      "[LightGBM] [Warning] Accuracy may be bad since you didn't explicitly set num_leaves OR 2^max_depth > num_leaves. (num_leaves=31).\n",
      "[LightGBM] [Warning] Accuracy may be bad since you didn't explicitly set num_leaves OR 2^max_depth > num_leaves. (num_leaves=31).\n",
      "[LightGBM] [Warning] Auto-choosing row-wise multi-threading, the overhead of testing was 0.005134 seconds.\n",
      "You can set `force_row_wise=true` to remove the overhead.\n",
      "And if memory is not enough, you can set `force_col_wise=true`.\n",
      "[LightGBM] [Info] Total Bins 568\n",
      "[LightGBM] [Info] Number of data points in the train set: 143385, number of used features: 9\n",
      "[LightGBM] [Info] Start training from score 4710.224222\n",
      "[LightGBM] [Warning] No further splits with positive gain, best gain: -inf\n"
     ]
    },
    {
     "name": "stderr",
     "output_type": "stream",
     "text": [
      "[I 2024-06-12 15:47:06,998] Trial 13 finished with value: 1520.4390585077879 and parameters: {'learning_rate': 0.08030672058058883, 'max_depth': 6}. Best is trial 9 with value: 1515.8503329178438.\n"
     ]
    },
    {
     "name": "stdout",
     "output_type": "stream",
     "text": [
      "[LightGBM] [Warning] Accuracy may be bad since you didn't explicitly set num_leaves OR 2^max_depth > num_leaves. (num_leaves=31).\n",
      "[LightGBM] [Warning] Accuracy may be bad since you didn't explicitly set num_leaves OR 2^max_depth > num_leaves. (num_leaves=31).\n",
      "[LightGBM] [Warning] Auto-choosing row-wise multi-threading, the overhead of testing was 0.004384 seconds.\n",
      "You can set `force_row_wise=true` to remove the overhead.\n",
      "And if memory is not enough, you can set `force_col_wise=true`.\n",
      "[LightGBM] [Info] Total Bins 567\n",
      "[LightGBM] [Info] Number of data points in the train set: 143385, number of used features: 9\n",
      "[LightGBM] [Info] Start training from score 4712.176218\n"
     ]
    },
    {
     "name": "stderr",
     "output_type": "stream",
     "text": [
      "[I 2024-06-12 15:47:09,691] Trial 14 finished with value: 1502.4880323335926 and parameters: {'learning_rate': 0.09841445903497904, 'max_depth': 8}. Best is trial 14 with value: 1502.4880323335926.\n"
     ]
    },
    {
     "name": "stdout",
     "output_type": "stream",
     "text": [
      "[LightGBM] [Warning] Accuracy may be bad since you didn't explicitly set num_leaves OR 2^max_depth > num_leaves. (num_leaves=31).\n",
      "[LightGBM] [Warning] Accuracy may be bad since you didn't explicitly set num_leaves OR 2^max_depth > num_leaves. (num_leaves=31).\n",
      "[LightGBM] [Warning] Auto-choosing row-wise multi-threading, the overhead of testing was 0.004705 seconds.\n",
      "You can set `force_row_wise=true` to remove the overhead.\n",
      "And if memory is not enough, you can set `force_col_wise=true`.\n",
      "[LightGBM] [Info] Total Bins 567\n",
      "[LightGBM] [Info] Number of data points in the train set: 143385, number of used features: 9\n",
      "[LightGBM] [Info] Start training from score 4701.428559\n"
     ]
    },
    {
     "name": "stderr",
     "output_type": "stream",
     "text": [
      "[I 2024-06-12 15:47:12,499] Trial 15 finished with value: 1539.5347264661798 and parameters: {'learning_rate': 0.053648829845182495, 'max_depth': 8}. Best is trial 14 with value: 1502.4880323335926.\n"
     ]
    },
    {
     "name": "stdout",
     "output_type": "stream",
     "text": [
      "[LightGBM] [Warning] Accuracy may be bad since you didn't explicitly set num_leaves OR 2^max_depth > num_leaves. (num_leaves=31).\n",
      "[LightGBM] [Warning] Accuracy may be bad since you didn't explicitly set num_leaves OR 2^max_depth > num_leaves. (num_leaves=31).\n",
      "[LightGBM] [Warning] Auto-choosing row-wise multi-threading, the overhead of testing was 0.005519 seconds.\n",
      "You can set `force_row_wise=true` to remove the overhead.\n",
      "And if memory is not enough, you can set `force_col_wise=true`.\n",
      "[LightGBM] [Info] Total Bins 570\n",
      "[LightGBM] [Info] Number of data points in the train set: 143385, number of used features: 9\n",
      "[LightGBM] [Info] Start training from score 4704.318527\n"
     ]
    },
    {
     "name": "stderr",
     "output_type": "stream",
     "text": [
      "[I 2024-06-12 15:47:15,104] Trial 16 finished with value: 1526.3231412531486 and parameters: {'learning_rate': 0.07809264314615605, 'max_depth': 7}. Best is trial 14 with value: 1502.4880323335926.\n"
     ]
    },
    {
     "name": "stdout",
     "output_type": "stream",
     "text": [
      "[LightGBM] [Warning] Accuracy may be bad since you didn't explicitly set num_leaves OR 2^max_depth > num_leaves. (num_leaves=31).\n",
      "[LightGBM] [Warning] Accuracy may be bad since you didn't explicitly set num_leaves OR 2^max_depth > num_leaves. (num_leaves=31).\n",
      "[LightGBM] [Warning] Auto-choosing row-wise multi-threading, the overhead of testing was 0.081704 seconds.\n",
      "You can set `force_row_wise=true` to remove the overhead.\n",
      "And if memory is not enough, you can set `force_col_wise=true`.\n",
      "[LightGBM] [Info] Total Bins 566\n",
      "[LightGBM] [Info] Number of data points in the train set: 143385, number of used features: 9\n",
      "[LightGBM] [Info] Start training from score 4710.545706\n"
     ]
    },
    {
     "name": "stderr",
     "output_type": "stream",
     "text": [
      "[I 2024-06-12 15:47:17,815] Trial 17 finished with value: 1524.4805089370143 and parameters: {'learning_rate': 0.09719214170518006, 'max_depth': 8}. Best is trial 14 with value: 1502.4880323335926.\n"
     ]
    },
    {
     "name": "stdout",
     "output_type": "stream",
     "text": [
      "[LightGBM] [Warning] Auto-choosing row-wise multi-threading, the overhead of testing was 0.004677 seconds.\n",
      "You can set `force_row_wise=true` to remove the overhead.\n",
      "And if memory is not enough, you can set `force_col_wise=true`.\n",
      "[LightGBM] [Info] Total Bins 567\n",
      "[LightGBM] [Info] Number of data points in the train set: 143385, number of used features: 9\n",
      "[LightGBM] [Info] Start training from score 4708.826955\n"
     ]
    },
    {
     "name": "stderr",
     "output_type": "stream",
     "text": [
      "[I 2024-06-12 15:47:19,115] Trial 18 finished with value: 1908.1428909181163 and parameters: {'learning_rate': 0.05611640956555404, 'max_depth': 2}. Best is trial 14 with value: 1502.4880323335926.\n"
     ]
    },
    {
     "name": "stdout",
     "output_type": "stream",
     "text": [
      "[LightGBM] [Warning] Accuracy may be bad since you didn't explicitly set num_leaves OR 2^max_depth > num_leaves. (num_leaves=31).\n",
      "[LightGBM] [Warning] Accuracy may be bad since you didn't explicitly set num_leaves OR 2^max_depth > num_leaves. (num_leaves=31).\n",
      "[LightGBM] [Warning] Auto-choosing col-wise multi-threading, the overhead of testing was 0.088695 seconds.\n",
      "You can set `force_col_wise=true` to remove the overhead.\n",
      "[LightGBM] [Info] Total Bins 565\n",
      "[LightGBM] [Info] Number of data points in the train set: 143385, number of used features: 9\n",
      "[LightGBM] [Info] Start training from score 4706.524853\n",
      "[LightGBM] [Warning] No further splits with positive gain, best gain: -inf\n",
      "[LightGBM] [Warning] No further splits with positive gain, best gain: -inf\n",
      "[LightGBM] [Warning] No further splits with positive gain, best gain: -inf\n",
      "[LightGBM] [Warning] No further splits with positive gain, best gain: -inf\n",
      "[LightGBM] [Warning] No further splits with positive gain, best gain: -inf\n",
      "[LightGBM] [Warning] No further splits with positive gain, best gain: -inf\n",
      "[LightGBM] [Warning] No further splits with positive gain, best gain: -inf\n",
      "[LightGBM] [Warning] No further splits with positive gain, best gain: -inf\n",
      "[LightGBM] [Warning] No further splits with positive gain, best gain: -inf\n",
      "[LightGBM] [Warning] No further splits with positive gain, best gain: -inf\n",
      "[LightGBM] [Warning] No further splits with positive gain, best gain: -inf\n",
      "[LightGBM] [Warning] No further splits with positive gain, best gain: -inf\n",
      "[LightGBM] [Warning] No further splits with positive gain, best gain: -inf\n",
      "[LightGBM] [Warning] No further splits with positive gain, best gain: -inf\n",
      "[LightGBM] [Warning] No further splits with positive gain, best gain: -inf\n",
      "[LightGBM] [Warning] No further splits with positive gain, best gain: -inf\n",
      "[LightGBM] [Warning] No further splits with positive gain, best gain: -inf\n",
      "[LightGBM] [Warning] No further splits with positive gain, best gain: -inf\n",
      "[LightGBM] [Warning] No further splits with positive gain, best gain: -inf\n",
      "[LightGBM] [Warning] No further splits with positive gain, best gain: -inf\n",
      "[LightGBM] [Warning] No further splits with positive gain, best gain: -inf\n",
      "[LightGBM] [Warning] No further splits with positive gain, best gain: -inf\n",
      "[LightGBM] [Warning] No further splits with positive gain, best gain: -inf\n",
      "[LightGBM] [Warning] No further splits with positive gain, best gain: -inf\n",
      "[LightGBM] [Warning] No further splits with positive gain, best gain: -inf\n"
     ]
    },
    {
     "name": "stderr",
     "output_type": "stream",
     "text": [
      "[I 2024-06-12 15:47:21,801] Trial 19 finished with value: 1544.2177858090922 and parameters: {'learning_rate': 0.07670262703683409, 'max_depth': 5}. Best is trial 14 with value: 1502.4880323335926.\n"
     ]
    },
    {
     "name": "stdout",
     "output_type": "stream",
     "text": [
      "[LightGBM] [Warning] Accuracy may be bad since you didn't explicitly set num_leaves OR 2^max_depth > num_leaves. (num_leaves=31).\n",
      "[LightGBM] [Warning] Accuracy may be bad since you didn't explicitly set num_leaves OR 2^max_depth > num_leaves. (num_leaves=31).\n",
      "[LightGBM] [Warning] Auto-choosing row-wise multi-threading, the overhead of testing was 0.004981 seconds.\n",
      "You can set `force_row_wise=true` to remove the overhead.\n",
      "And if memory is not enough, you can set `force_col_wise=true`.\n",
      "[LightGBM] [Info] Total Bins 567\n",
      "[LightGBM] [Info] Number of data points in the train set: 143385, number of used features: 9\n",
      "[LightGBM] [Info] Start training from score 4715.037110\n"
     ]
    },
    {
     "name": "stderr",
     "output_type": "stream",
     "text": [
      "[I 2024-06-12 15:47:24,422] Trial 20 finished with value: 1496.192564317456 and parameters: {'learning_rate': 0.08609220873218602, 'max_depth': 7}. Best is trial 20 with value: 1496.192564317456.\n"
     ]
    },
    {
     "name": "stdout",
     "output_type": "stream",
     "text": [
      "[LightGBM] [Warning] Accuracy may be bad since you didn't explicitly set num_leaves OR 2^max_depth > num_leaves. (num_leaves=31).\n",
      "[LightGBM] [Warning] Accuracy may be bad since you didn't explicitly set num_leaves OR 2^max_depth > num_leaves. (num_leaves=31).\n",
      "[LightGBM] [Warning] Auto-choosing row-wise multi-threading, the overhead of testing was 0.004405 seconds.\n",
      "You can set `force_row_wise=true` to remove the overhead.\n",
      "And if memory is not enough, you can set `force_col_wise=true`.\n",
      "[LightGBM] [Info] Total Bins 568\n",
      "[LightGBM] [Info] Number of data points in the train set: 143385, number of used features: 9\n",
      "[LightGBM] [Info] Start training from score 4704.013356\n"
     ]
    },
    {
     "name": "stderr",
     "output_type": "stream",
     "text": [
      "[I 2024-06-12 15:47:26,915] Trial 21 finished with value: 1506.2114716092096 and parameters: {'learning_rate': 0.08358414818925075, 'max_depth': 7}. Best is trial 20 with value: 1496.192564317456.\n"
     ]
    },
    {
     "name": "stdout",
     "output_type": "stream",
     "text": [
      "[LightGBM] [Warning] Accuracy may be bad since you didn't explicitly set num_leaves OR 2^max_depth > num_leaves. (num_leaves=31).\n",
      "[LightGBM] [Warning] Accuracy may be bad since you didn't explicitly set num_leaves OR 2^max_depth > num_leaves. (num_leaves=31).\n",
      "[LightGBM] [Warning] Auto-choosing row-wise multi-threading, the overhead of testing was 0.004879 seconds.\n",
      "You can set `force_row_wise=true` to remove the overhead.\n",
      "And if memory is not enough, you can set `force_col_wise=true`.\n",
      "[LightGBM] [Info] Total Bins 564\n",
      "[LightGBM] [Info] Number of data points in the train set: 143385, number of used features: 9\n",
      "[LightGBM] [Info] Start training from score 4707.166963\n"
     ]
    },
    {
     "name": "stderr",
     "output_type": "stream",
     "text": [
      "[I 2024-06-12 15:47:29,694] Trial 22 finished with value: 1506.5678357047445 and parameters: {'learning_rate': 0.0864761926130282, 'max_depth': 7}. Best is trial 20 with value: 1496.192564317456.\n"
     ]
    },
    {
     "name": "stdout",
     "output_type": "stream",
     "text": [
      "[LightGBM] [Warning] Accuracy may be bad since you didn't explicitly set num_leaves OR 2^max_depth > num_leaves. (num_leaves=31).\n",
      "[LightGBM] [Warning] Accuracy may be bad since you didn't explicitly set num_leaves OR 2^max_depth > num_leaves. (num_leaves=31).\n",
      "[LightGBM] [Warning] Auto-choosing row-wise multi-threading, the overhead of testing was 0.004742 seconds.\n",
      "You can set `force_row_wise=true` to remove the overhead.\n",
      "And if memory is not enough, you can set `force_col_wise=true`.\n",
      "[LightGBM] [Info] Total Bins 570\n",
      "[LightGBM] [Info] Number of data points in the train set: 143385, number of used features: 9\n",
      "[LightGBM] [Info] Start training from score 4708.815873\n"
     ]
    },
    {
     "name": "stderr",
     "output_type": "stream",
     "text": [
      "[I 2024-06-12 15:47:32,304] Trial 23 finished with value: 1509.4433531256398 and parameters: {'learning_rate': 0.09520343448312983, 'max_depth': 8}. Best is trial 20 with value: 1496.192564317456.\n"
     ]
    },
    {
     "name": "stdout",
     "output_type": "stream",
     "text": [
      "[LightGBM] [Warning] Accuracy may be bad since you didn't explicitly set num_leaves OR 2^max_depth > num_leaves. (num_leaves=31).\n",
      "[LightGBM] [Warning] Accuracy may be bad since you didn't explicitly set num_leaves OR 2^max_depth > num_leaves. (num_leaves=31).\n",
      "[LightGBM] [Warning] Auto-choosing row-wise multi-threading, the overhead of testing was 0.005348 seconds.\n",
      "You can set `force_row_wise=true` to remove the overhead.\n",
      "And if memory is not enough, you can set `force_col_wise=true`.\n",
      "[LightGBM] [Info] Total Bins 566\n",
      "[LightGBM] [Info] Number of data points in the train set: 143385, number of used features: 9\n",
      "[LightGBM] [Info] Start training from score 4705.555023\n"
     ]
    },
    {
     "name": "stderr",
     "output_type": "stream",
     "text": [
      "[I 2024-06-12 15:47:35,002] Trial 24 finished with value: 1515.605717599034 and parameters: {'learning_rate': 0.08590310758913074, 'max_depth': 7}. Best is trial 20 with value: 1496.192564317456.\n"
     ]
    },
    {
     "name": "stdout",
     "output_type": "stream",
     "text": [
      "[LightGBM] [Warning] Accuracy may be bad since you didn't explicitly set num_leaves OR 2^max_depth > num_leaves. (num_leaves=31).\n",
      "[LightGBM] [Warning] Accuracy may be bad since you didn't explicitly set num_leaves OR 2^max_depth > num_leaves. (num_leaves=31).\n",
      "[LightGBM] [Warning] Auto-choosing row-wise multi-threading, the overhead of testing was 0.005384 seconds.\n",
      "You can set `force_row_wise=true` to remove the overhead.\n",
      "And if memory is not enough, you can set `force_col_wise=true`.\n",
      "[LightGBM] [Info] Total Bins 566\n",
      "[LightGBM] [Info] Number of data points in the train set: 143385, number of used features: 9\n",
      "[LightGBM] [Info] Start training from score 4715.170039\n"
     ]
    },
    {
     "name": "stderr",
     "output_type": "stream",
     "text": [
      "[I 2024-06-12 15:47:37,809] Trial 25 finished with value: 1507.190007772226 and parameters: {'learning_rate': 0.0741669796357177, 'max_depth': 8}. Best is trial 20 with value: 1496.192564317456.\n"
     ]
    },
    {
     "name": "stdout",
     "output_type": "stream",
     "text": [
      "[LightGBM] [Warning] Accuracy may be bad since you didn't explicitly set num_leaves OR 2^max_depth > num_leaves. (num_leaves=31).\n",
      "[LightGBM] [Warning] Accuracy may be bad since you didn't explicitly set num_leaves OR 2^max_depth > num_leaves. (num_leaves=31).\n",
      "[LightGBM] [Warning] Auto-choosing row-wise multi-threading, the overhead of testing was 0.068765 seconds.\n",
      "You can set `force_row_wise=true` to remove the overhead.\n",
      "And if memory is not enough, you can set `force_col_wise=true`.\n",
      "[LightGBM] [Info] Total Bins 567\n",
      "[LightGBM] [Info] Number of data points in the train set: 143385, number of used features: 9\n",
      "[LightGBM] [Info] Start training from score 4710.724253\n"
     ]
    },
    {
     "name": "stderr",
     "output_type": "stream",
     "text": [
      "[I 2024-06-12 15:47:40,411] Trial 26 finished with value: 1496.8831986701243 and parameters: {'learning_rate': 0.09440357806880503, 'max_depth': 7}. Best is trial 20 with value: 1496.192564317456.\n"
     ]
    },
    {
     "name": "stdout",
     "output_type": "stream",
     "text": [
      "[LightGBM] [Warning] Accuracy may be bad since you didn't explicitly set num_leaves OR 2^max_depth > num_leaves. (num_leaves=31).\n",
      "[LightGBM] [Warning] Accuracy may be bad since you didn't explicitly set num_leaves OR 2^max_depth > num_leaves. (num_leaves=31).\n",
      "[LightGBM] [Warning] Auto-choosing row-wise multi-threading, the overhead of testing was 0.006370 seconds.\n",
      "You can set `force_row_wise=true` to remove the overhead.\n",
      "And if memory is not enough, you can set `force_col_wise=true`.\n",
      "[LightGBM] [Info] Total Bins 568\n",
      "[LightGBM] [Info] Number of data points in the train set: 143385, number of used features: 9\n",
      "[LightGBM] [Info] Start training from score 4710.500987\n"
     ]
    },
    {
     "name": "stderr",
     "output_type": "stream",
     "text": [
      "[I 2024-06-12 15:47:42,815] Trial 27 finished with value: 1513.1780932136203 and parameters: {'learning_rate': 0.09544837929333291, 'max_depth': 8}. Best is trial 20 with value: 1496.192564317456.\n"
     ]
    },
    {
     "name": "stdout",
     "output_type": "stream",
     "text": [
      "[LightGBM] [Warning] Accuracy may be bad since you didn't explicitly set num_leaves OR 2^max_depth > num_leaves. (num_leaves=31).\n",
      "[LightGBM] [Warning] Accuracy may be bad since you didn't explicitly set num_leaves OR 2^max_depth > num_leaves. (num_leaves=31).\n",
      "[LightGBM] [Warning] Auto-choosing col-wise multi-threading, the overhead of testing was 0.083062 seconds.\n",
      "You can set `force_col_wise=true` to remove the overhead.\n",
      "[LightGBM] [Info] Total Bins 569\n",
      "[LightGBM] [Info] Number of data points in the train set: 143385, number of used features: 9\n",
      "[LightGBM] [Info] Start training from score 4709.377452\n"
     ]
    },
    {
     "name": "stderr",
     "output_type": "stream",
     "text": [
      "[I 2024-06-12 15:47:45,517] Trial 28 finished with value: 1504.759372369886 and parameters: {'learning_rate': 0.09900750709499444, 'max_depth': 7}. Best is trial 20 with value: 1496.192564317456.\n"
     ]
    },
    {
     "name": "stdout",
     "output_type": "stream",
     "text": [
      "[LightGBM] [Warning] Auto-choosing row-wise multi-threading, the overhead of testing was 0.005020 seconds.\n",
      "You can set `force_row_wise=true` to remove the overhead.\n",
      "And if memory is not enough, you can set `force_col_wise=true`.\n",
      "[LightGBM] [Info] Total Bins 565\n",
      "[LightGBM] [Info] Number of data points in the train set: 143385, number of used features: 9\n",
      "[LightGBM] [Info] Start training from score 4700.507354\n",
      "[LightGBM] [Warning] No further splits with positive gain, best gain: -inf\n",
      "[LightGBM] [Warning] No further splits with positive gain, best gain: -inf\n",
      "[LightGBM] [Warning] No further splits with positive gain, best gain: -inf\n",
      "[LightGBM] [Warning] No further splits with positive gain, best gain: -inf\n",
      "[LightGBM] [Warning] No further splits with positive gain, best gain: -inf\n",
      "[LightGBM] [Warning] No further splits with positive gain, best gain: -inf\n",
      "[LightGBM] [Warning] No further splits with positive gain, best gain: -inf\n",
      "[LightGBM] [Warning] No further splits with positive gain, best gain: -inf\n"
     ]
    },
    {
     "name": "stderr",
     "output_type": "stream",
     "text": [
      "[I 2024-06-12 15:47:47,505] Trial 29 finished with value: 1559.9167394792485 and parameters: {'learning_rate': 0.09266867627548296, 'max_depth': 4}. Best is trial 20 with value: 1496.192564317456.\n"
     ]
    },
    {
     "name": "stdout",
     "output_type": "stream",
     "text": [
      "[LightGBM] [Warning] Accuracy may be bad since you didn't explicitly set num_leaves OR 2^max_depth > num_leaves. (num_leaves=31).\n",
      "[LightGBM] [Warning] Accuracy may be bad since you didn't explicitly set num_leaves OR 2^max_depth > num_leaves. (num_leaves=31).\n",
      "[LightGBM] [Warning] Auto-choosing row-wise multi-threading, the overhead of testing was 0.005254 seconds.\n",
      "You can set `force_row_wise=true` to remove the overhead.\n",
      "And if memory is not enough, you can set `force_col_wise=true`.\n",
      "[LightGBM] [Info] Total Bins 569\n",
      "[LightGBM] [Info] Number of data points in the train set: 143385, number of used features: 9\n",
      "[LightGBM] [Info] Start training from score 4701.261052\n"
     ]
    },
    {
     "name": "stderr",
     "output_type": "stream",
     "text": [
      "[I 2024-06-12 15:47:50,209] Trial 30 finished with value: 1500.508605305242 and parameters: {'learning_rate': 0.08809220450220061, 'max_depth': 8}. Best is trial 20 with value: 1496.192564317456.\n"
     ]
    },
    {
     "name": "stdout",
     "output_type": "stream",
     "text": [
      "[LightGBM] [Warning] Accuracy may be bad since you didn't explicitly set num_leaves OR 2^max_depth > num_leaves. (num_leaves=31).\n",
      "[LightGBM] [Warning] Accuracy may be bad since you didn't explicitly set num_leaves OR 2^max_depth > num_leaves. (num_leaves=31).\n",
      "[LightGBM] [Warning] Auto-choosing row-wise multi-threading, the overhead of testing was 0.071959 seconds.\n",
      "You can set `force_row_wise=true` to remove the overhead.\n",
      "And if memory is not enough, you can set `force_col_wise=true`.\n",
      "[LightGBM] [Info] Total Bins 564\n",
      "[LightGBM] [Info] Number of data points in the train set: 143385, number of used features: 9\n",
      "[LightGBM] [Info] Start training from score 4698.146319\n"
     ]
    },
    {
     "name": "stderr",
     "output_type": "stream",
     "text": [
      "[I 2024-06-12 15:47:52,717] Trial 31 finished with value: 1493.5373562506948 and parameters: {'learning_rate': 0.08800275802512635, 'max_depth': 8}. Best is trial 31 with value: 1493.5373562506948.\n"
     ]
    },
    {
     "name": "stdout",
     "output_type": "stream",
     "text": [
      "[LightGBM] [Warning] Accuracy may be bad since you didn't explicitly set num_leaves OR 2^max_depth > num_leaves. (num_leaves=31).\n",
      "[LightGBM] [Warning] Accuracy may be bad since you didn't explicitly set num_leaves OR 2^max_depth > num_leaves. (num_leaves=31).\n",
      "[LightGBM] [Warning] Auto-choosing row-wise multi-threading, the overhead of testing was 0.004987 seconds.\n",
      "You can set `force_row_wise=true` to remove the overhead.\n",
      "And if memory is not enough, you can set `force_col_wise=true`.\n",
      "[LightGBM] [Info] Total Bins 571\n",
      "[LightGBM] [Info] Number of data points in the train set: 143385, number of used features: 9\n",
      "[LightGBM] [Info] Start training from score 4704.293908\n"
     ]
    },
    {
     "name": "stderr",
     "output_type": "stream",
     "text": [
      "[I 2024-06-12 15:47:55,322] Trial 32 finished with value: 1510.8742195754144 and parameters: {'learning_rate': 0.08876606991316062, 'max_depth': 8}. Best is trial 31 with value: 1493.5373562506948.\n"
     ]
    },
    {
     "name": "stdout",
     "output_type": "stream",
     "text": [
      "[LightGBM] [Warning] Accuracy may be bad since you didn't explicitly set num_leaves OR 2^max_depth > num_leaves. (num_leaves=31).\n",
      "[LightGBM] [Warning] Accuracy may be bad since you didn't explicitly set num_leaves OR 2^max_depth > num_leaves. (num_leaves=31).\n",
      "[LightGBM] [Warning] Auto-choosing row-wise multi-threading, the overhead of testing was 0.005235 seconds.\n",
      "You can set `force_row_wise=true` to remove the overhead.\n",
      "And if memory is not enough, you can set `force_col_wise=true`.\n",
      "[LightGBM] [Info] Total Bins 565\n",
      "[LightGBM] [Info] Number of data points in the train set: 143385, number of used features: 9\n",
      "[LightGBM] [Info] Start training from score 4712.838205\n"
     ]
    },
    {
     "name": "stderr",
     "output_type": "stream",
     "text": [
      "[I 2024-06-12 15:47:58,101] Trial 33 finished with value: 1525.8679076801247 and parameters: {'learning_rate': 0.07239265272905981, 'max_depth': 7}. Best is trial 31 with value: 1493.5373562506948.\n"
     ]
    },
    {
     "name": "stdout",
     "output_type": "stream",
     "text": [
      "[LightGBM] [Warning] Accuracy may be bad since you didn't explicitly set num_leaves OR 2^max_depth > num_leaves. (num_leaves=31).\n",
      "[LightGBM] [Warning] Accuracy may be bad since you didn't explicitly set num_leaves OR 2^max_depth > num_leaves. (num_leaves=31).\n",
      "[LightGBM] [Warning] Auto-choosing row-wise multi-threading, the overhead of testing was 0.004449 seconds.\n",
      "You can set `force_row_wise=true` to remove the overhead.\n",
      "And if memory is not enough, you can set `force_col_wise=true`.\n",
      "[LightGBM] [Info] Total Bins 570\n",
      "[LightGBM] [Info] Number of data points in the train set: 143385, number of used features: 9\n",
      "[LightGBM] [Info] Start training from score 4695.558036\n"
     ]
    },
    {
     "name": "stderr",
     "output_type": "stream",
     "text": [
      "[I 2024-06-12 15:48:00,712] Trial 34 finished with value: 1528.8748871599328 and parameters: {'learning_rate': 0.06251108192107124, 'max_depth': 6}. Best is trial 31 with value: 1493.5373562506948.\n"
     ]
    },
    {
     "name": "stdout",
     "output_type": "stream",
     "text": [
      "[LightGBM] [Warning] Accuracy may be bad since you didn't explicitly set num_leaves OR 2^max_depth > num_leaves. (num_leaves=31).\n",
      "[LightGBM] [Warning] Accuracy may be bad since you didn't explicitly set num_leaves OR 2^max_depth > num_leaves. (num_leaves=31).\n",
      "[LightGBM] [Warning] Auto-choosing row-wise multi-threading, the overhead of testing was 0.005199 seconds.\n",
      "You can set `force_row_wise=true` to remove the overhead.\n",
      "And if memory is not enough, you can set `force_col_wise=true`.\n",
      "[LightGBM] [Info] Total Bins 566\n",
      "[LightGBM] [Info] Number of data points in the train set: 143385, number of used features: 9\n",
      "[LightGBM] [Info] Start training from score 4698.401813\n"
     ]
    },
    {
     "name": "stderr",
     "output_type": "stream",
     "text": [
      "[I 2024-06-12 15:48:03,598] Trial 35 finished with value: 1535.0465122021442 and parameters: {'learning_rate': 0.09312497762914905, 'max_depth': 8}. Best is trial 31 with value: 1493.5373562506948.\n"
     ]
    },
    {
     "name": "stdout",
     "output_type": "stream",
     "text": [
      "[LightGBM] [Warning] Accuracy may be bad since you didn't explicitly set num_leaves OR 2^max_depth > num_leaves. (num_leaves=31).\n",
      "[LightGBM] [Warning] Accuracy may be bad since you didn't explicitly set num_leaves OR 2^max_depth > num_leaves. (num_leaves=31).\n",
      "[LightGBM] [Warning] Auto-choosing row-wise multi-threading, the overhead of testing was 0.005429 seconds.\n",
      "You can set `force_row_wise=true` to remove the overhead.\n",
      "And if memory is not enough, you can set `force_col_wise=true`.\n",
      "[LightGBM] [Info] Total Bins 566\n",
      "[LightGBM] [Info] Number of data points in the train set: 143385, number of used features: 9\n",
      "[LightGBM] [Info] Start training from score 4712.266597\n"
     ]
    },
    {
     "name": "stderr",
     "output_type": "stream",
     "text": [
      "[I 2024-06-12 15:48:06,310] Trial 36 finished with value: 1490.2703914480935 and parameters: {'learning_rate': 0.08587718531149253, 'max_depth': 7}. Best is trial 36 with value: 1490.2703914480935.\n"
     ]
    },
    {
     "name": "stdout",
     "output_type": "stream",
     "text": [
      "[LightGBM] [Warning] Accuracy may be bad since you didn't explicitly set num_leaves OR 2^max_depth > num_leaves. (num_leaves=31).\n",
      "[LightGBM] [Warning] Accuracy may be bad since you didn't explicitly set num_leaves OR 2^max_depth > num_leaves. (num_leaves=31).\n",
      "[LightGBM] [Warning] Auto-choosing row-wise multi-threading, the overhead of testing was 0.005021 seconds.\n",
      "You can set `force_row_wise=true` to remove the overhead.\n",
      "And if memory is not enough, you can set `force_col_wise=true`.\n",
      "[LightGBM] [Info] Total Bins 567\n",
      "[LightGBM] [Info] Number of data points in the train set: 143385, number of used features: 9\n",
      "[LightGBM] [Info] Start training from score 4709.869777\n",
      "[LightGBM] [Warning] No further splits with positive gain, best gain: -inf\n",
      "[LightGBM] [Warning] No further splits with positive gain, best gain: -inf\n",
      "[LightGBM] [Warning] No further splits with positive gain, best gain: -inf\n",
      "[LightGBM] [Warning] No further splits with positive gain, best gain: -inf\n",
      "[LightGBM] [Warning] No further splits with positive gain, best gain: -inf\n",
      "[LightGBM] [Warning] No further splits with positive gain, best gain: -inf\n",
      "[LightGBM] [Warning] No further splits with positive gain, best gain: -inf\n",
      "[LightGBM] [Warning] No further splits with positive gain, best gain: -inf\n",
      "[LightGBM] [Warning] No further splits with positive gain, best gain: -inf\n",
      "[LightGBM] [Warning] No further splits with positive gain, best gain: -inf\n",
      "[LightGBM] [Warning] No further splits with positive gain, best gain: -inf\n",
      "[LightGBM] [Warning] No further splits with positive gain, best gain: -inf\n",
      "[LightGBM] [Warning] No further splits with positive gain, best gain: -inf\n",
      "[LightGBM] [Warning] No further splits with positive gain, best gain: -inf\n",
      "[LightGBM] [Warning] No further splits with positive gain, best gain: -inf\n",
      "[LightGBM] [Warning] No further splits with positive gain, best gain: -inf\n",
      "[LightGBM] [Warning] No further splits with positive gain, best gain: -inf\n",
      "[LightGBM] [Warning] No further splits with positive gain, best gain: -inf\n",
      "[LightGBM] [Warning] No further splits with positive gain, best gain: -inf\n",
      "[LightGBM] [Warning] No further splits with positive gain, best gain: -inf\n",
      "[LightGBM] [Warning] No further splits with positive gain, best gain: -inf\n",
      "[LightGBM] [Warning] No further splits with positive gain, best gain: -inf\n",
      "[LightGBM] [Warning] No further splits with positive gain, best gain: -inf\n",
      "[LightGBM] [Warning] No further splits with positive gain, best gain: -inf\n",
      "[LightGBM] [Warning] No further splits with positive gain, best gain: -inf\n",
      "[LightGBM] [Warning] No further splits with positive gain, best gain: -inf\n",
      "[LightGBM] [Warning] No further splits with positive gain, best gain: -inf\n",
      "[LightGBM] [Warning] No further splits with positive gain, best gain: -inf\n",
      "[LightGBM] [Warning] No further splits with positive gain, best gain: -inf\n",
      "[LightGBM] [Warning] No further splits with positive gain, best gain: -inf\n",
      "[LightGBM] [Warning] No further splits with positive gain, best gain: -inf\n",
      "[LightGBM] [Warning] No further splits with positive gain, best gain: -inf\n"
     ]
    },
    {
     "name": "stderr",
     "output_type": "stream",
     "text": [
      "[I 2024-06-12 15:48:08,716] Trial 37 finished with value: 1530.5934742189686 and parameters: {'learning_rate': 0.08519146493820395, 'max_depth': 5}. Best is trial 36 with value: 1490.2703914480935.\n"
     ]
    },
    {
     "name": "stdout",
     "output_type": "stream",
     "text": [
      "[LightGBM] [Warning] Accuracy may be bad since you didn't explicitly set num_leaves OR 2^max_depth > num_leaves. (num_leaves=31).\n",
      "[LightGBM] [Warning] Accuracy may be bad since you didn't explicitly set num_leaves OR 2^max_depth > num_leaves. (num_leaves=31).\n",
      "[LightGBM] [Warning] Auto-choosing row-wise multi-threading, the overhead of testing was 0.004972 seconds.\n",
      "You can set `force_row_wise=true` to remove the overhead.\n",
      "And if memory is not enough, you can set `force_col_wise=true`.\n",
      "[LightGBM] [Info] Total Bins 568\n",
      "[LightGBM] [Info] Number of data points in the train set: 143385, number of used features: 9\n",
      "[LightGBM] [Info] Start training from score 4709.555246\n",
      "[LightGBM] [Warning] No further splits with positive gain, best gain: -inf\n"
     ]
    },
    {
     "name": "stderr",
     "output_type": "stream",
     "text": [
      "[I 2024-06-12 15:48:11,304] Trial 38 finished with value: 1503.6459401912875 and parameters: {'learning_rate': 0.09096709820763917, 'max_depth': 6}. Best is trial 36 with value: 1490.2703914480935.\n"
     ]
    },
    {
     "name": "stdout",
     "output_type": "stream",
     "text": [
      "[LightGBM] [Warning] Auto-choosing row-wise multi-threading, the overhead of testing was 0.004887 seconds.\n",
      "You can set `force_row_wise=true` to remove the overhead.\n",
      "And if memory is not enough, you can set `force_col_wise=true`.\n",
      "[LightGBM] [Info] Total Bins 570\n",
      "[LightGBM] [Info] Number of data points in the train set: 143385, number of used features: 9\n",
      "[LightGBM] [Info] Start training from score 4710.378464\n",
      "[LightGBM] [Warning] No further splits with positive gain, best gain: -inf\n"
     ]
    },
    {
     "name": "stderr",
     "output_type": "stream",
     "text": [
      "[I 2024-06-12 15:48:13,390] Trial 39 finished with value: 1646.3231719551468 and parameters: {'learning_rate': 0.045695461525751234, 'max_depth': 4}. Best is trial 36 with value: 1490.2703914480935.\n"
     ]
    },
    {
     "name": "stdout",
     "output_type": "stream",
     "text": [
      "[LightGBM] [Warning] Accuracy may be bad since you didn't explicitly set num_leaves OR 2^max_depth > num_leaves. (num_leaves=31).\n",
      "[LightGBM] [Warning] Accuracy may be bad since you didn't explicitly set num_leaves OR 2^max_depth > num_leaves. (num_leaves=31).\n",
      "[LightGBM] [Warning] Auto-choosing row-wise multi-threading, the overhead of testing was 0.005335 seconds.\n",
      "You can set `force_row_wise=true` to remove the overhead.\n",
      "And if memory is not enough, you can set `force_col_wise=true`.\n",
      "[LightGBM] [Info] Total Bins 566\n",
      "[LightGBM] [Info] Number of data points in the train set: 143385, number of used features: 9\n",
      "[LightGBM] [Info] Start training from score 4708.563811\n"
     ]
    },
    {
     "name": "stderr",
     "output_type": "stream",
     "text": [
      "[I 2024-06-12 15:48:16,041] Trial 40 finished with value: 1530.6774069923354 and parameters: {'learning_rate': 0.06365593345457483, 'max_depth': 7}. Best is trial 36 with value: 1490.2703914480935.\n"
     ]
    },
    {
     "name": "stdout",
     "output_type": "stream",
     "text": [
      "[LightGBM] [Warning] Accuracy may be bad since you didn't explicitly set num_leaves OR 2^max_depth > num_leaves. (num_leaves=31).\n",
      "[LightGBM] [Warning] Accuracy may be bad since you didn't explicitly set num_leaves OR 2^max_depth > num_leaves. (num_leaves=31).\n",
      "[LightGBM] [Warning] Auto-choosing row-wise multi-threading, the overhead of testing was 0.005522 seconds.\n",
      "You can set `force_row_wise=true` to remove the overhead.\n",
      "And if memory is not enough, you can set `force_col_wise=true`.\n",
      "[LightGBM] [Info] Total Bins 568\n",
      "[LightGBM] [Info] Number of data points in the train set: 143385, number of used features: 9\n",
      "[LightGBM] [Info] Start training from score 4703.613474\n",
      "[LightGBM] [Warning] No further splits with positive gain, best gain: -inf\n",
      "[LightGBM] [Warning] No further splits with positive gain, best gain: -inf\n"
     ]
    },
    {
     "name": "stderr",
     "output_type": "stream",
     "text": [
      "[I 2024-06-12 15:48:18,924] Trial 41 finished with value: 1539.0504248295508 and parameters: {'learning_rate': 0.08753529616556589, 'max_depth': 7}. Best is trial 36 with value: 1490.2703914480935.\n"
     ]
    },
    {
     "name": "stdout",
     "output_type": "stream",
     "text": [
      "[LightGBM] [Warning] Accuracy may be bad since you didn't explicitly set num_leaves OR 2^max_depth > num_leaves. (num_leaves=31).\n",
      "[LightGBM] [Warning] Accuracy may be bad since you didn't explicitly set num_leaves OR 2^max_depth > num_leaves. (num_leaves=31).\n",
      "[LightGBM] [Warning] Auto-choosing row-wise multi-threading, the overhead of testing was 0.077135 seconds.\n",
      "You can set `force_row_wise=true` to remove the overhead.\n",
      "And if memory is not enough, you can set `force_col_wise=true`.\n",
      "[LightGBM] [Info] Total Bins 567\n",
      "[LightGBM] [Info] Number of data points in the train set: 143385, number of used features: 9\n",
      "[LightGBM] [Info] Start training from score 4701.008613\n"
     ]
    },
    {
     "name": "stderr",
     "output_type": "stream",
     "text": [
      "[I 2024-06-12 15:48:21,804] Trial 42 finished with value: 1531.7075317841911 and parameters: {'learning_rate': 0.08226399193649062, 'max_depth': 8}. Best is trial 36 with value: 1490.2703914480935.\n"
     ]
    },
    {
     "name": "stdout",
     "output_type": "stream",
     "text": [
      "[LightGBM] [Warning] Accuracy may be bad since you didn't explicitly set num_leaves OR 2^max_depth > num_leaves. (num_leaves=31).\n",
      "[LightGBM] [Warning] Accuracy may be bad since you didn't explicitly set num_leaves OR 2^max_depth > num_leaves. (num_leaves=31).\n",
      "[LightGBM] [Warning] Auto-choosing row-wise multi-threading, the overhead of testing was 0.005186 seconds.\n",
      "You can set `force_row_wise=true` to remove the overhead.\n",
      "And if memory is not enough, you can set `force_col_wise=true`.\n",
      "[LightGBM] [Info] Total Bins 565\n",
      "[LightGBM] [Info] Number of data points in the train set: 143385, number of used features: 9\n",
      "[LightGBM] [Info] Start training from score 4705.329114\n"
     ]
    },
    {
     "name": "stderr",
     "output_type": "stream",
     "text": [
      "[I 2024-06-12 15:48:24,415] Trial 43 finished with value: 1510.2690755921542 and parameters: {'learning_rate': 0.09092821571753262, 'max_depth': 7}. Best is trial 36 with value: 1490.2703914480935.\n"
     ]
    },
    {
     "name": "stdout",
     "output_type": "stream",
     "text": [
      "[LightGBM] [Warning] Accuracy may be bad since you didn't explicitly set num_leaves OR 2^max_depth > num_leaves. (num_leaves=31).\n",
      "[LightGBM] [Warning] Accuracy may be bad since you didn't explicitly set num_leaves OR 2^max_depth > num_leaves. (num_leaves=31).\n",
      "[LightGBM] [Warning] Auto-choosing col-wise multi-threading, the overhead of testing was 0.085357 seconds.\n",
      "You can set `force_col_wise=true` to remove the overhead.\n",
      "[LightGBM] [Info] Total Bins 568\n",
      "[LightGBM] [Info] Number of data points in the train set: 143385, number of used features: 9\n",
      "[LightGBM] [Info] Start training from score 4707.473599\n"
     ]
    },
    {
     "name": "stderr",
     "output_type": "stream",
     "text": [
      "[I 2024-06-12 15:48:27,502] Trial 44 finished with value: 1501.579599374747 and parameters: {'learning_rate': 0.09425914156503117, 'max_depth': 8}. Best is trial 36 with value: 1490.2703914480935.\n"
     ]
    },
    {
     "name": "stdout",
     "output_type": "stream",
     "text": [
      "[LightGBM] [Warning] Accuracy may be bad since you didn't explicitly set num_leaves OR 2^max_depth > num_leaves. (num_leaves=31).\n",
      "[LightGBM] [Warning] Accuracy may be bad since you didn't explicitly set num_leaves OR 2^max_depth > num_leaves. (num_leaves=31).\n",
      "[LightGBM] [Warning] Auto-choosing row-wise multi-threading, the overhead of testing was 0.072470 seconds.\n",
      "You can set `force_row_wise=true` to remove the overhead.\n",
      "And if memory is not enough, you can set `force_col_wise=true`.\n",
      "[LightGBM] [Info] Total Bins 572\n",
      "[LightGBM] [Info] Number of data points in the train set: 143385, number of used features: 9\n",
      "[LightGBM] [Info] Start training from score 4702.105220\n"
     ]
    },
    {
     "name": "stderr",
     "output_type": "stream",
     "text": [
      "[I 2024-06-12 15:48:30,113] Trial 45 finished with value: 1535.115784953844 and parameters: {'learning_rate': 0.07989851796760729, 'max_depth': 6}. Best is trial 36 with value: 1490.2703914480935.\n"
     ]
    },
    {
     "name": "stdout",
     "output_type": "stream",
     "text": [
      "[LightGBM] [Warning] Accuracy may be bad since you didn't explicitly set num_leaves OR 2^max_depth > num_leaves. (num_leaves=31).\n",
      "[LightGBM] [Warning] Accuracy may be bad since you didn't explicitly set num_leaves OR 2^max_depth > num_leaves. (num_leaves=31).\n",
      "[LightGBM] [Warning] Auto-choosing col-wise multi-threading, the overhead of testing was 0.013468 seconds.\n",
      "You can set `force_col_wise=true` to remove the overhead.\n",
      "[LightGBM] [Info] Total Bins 570\n",
      "[LightGBM] [Info] Number of data points in the train set: 143385, number of used features: 9\n",
      "[LightGBM] [Info] Start training from score 4708.721582\n"
     ]
    },
    {
     "name": "stderr",
     "output_type": "stream",
     "text": [
      "[I 2024-06-12 15:48:33,207] Trial 46 finished with value: 1516.8735184959896 and parameters: {'learning_rate': 0.07431233386915997, 'max_depth': 7}. Best is trial 36 with value: 1490.2703914480935.\n"
     ]
    },
    {
     "name": "stdout",
     "output_type": "stream",
     "text": [
      "[LightGBM] [Warning] Accuracy may be bad since you didn't explicitly set num_leaves OR 2^max_depth > num_leaves. (num_leaves=31).\n",
      "[LightGBM] [Warning] Accuracy may be bad since you didn't explicitly set num_leaves OR 2^max_depth > num_leaves. (num_leaves=31).\n",
      "[LightGBM] [Warning] Auto-choosing row-wise multi-threading, the overhead of testing was 0.072642 seconds.\n",
      "You can set `force_row_wise=true` to remove the overhead.\n",
      "And if memory is not enough, you can set `force_col_wise=true`.\n",
      "[LightGBM] [Info] Total Bins 566\n",
      "[LightGBM] [Info] Number of data points in the train set: 143385, number of used features: 9\n",
      "[LightGBM] [Info] Start training from score 4704.696816\n"
     ]
    },
    {
     "name": "stderr",
     "output_type": "stream",
     "text": [
      "[I 2024-06-12 15:48:35,895] Trial 47 finished with value: 1496.5238787948988 and parameters: {'learning_rate': 0.08950044951356355, 'max_depth': 8}. Best is trial 36 with value: 1490.2703914480935.\n"
     ]
    },
    {
     "name": "stdout",
     "output_type": "stream",
     "text": [
      "[LightGBM] [Warning] Accuracy may be bad since you didn't explicitly set num_leaves OR 2^max_depth > num_leaves. (num_leaves=31).\n",
      "[LightGBM] [Warning] Accuracy may be bad since you didn't explicitly set num_leaves OR 2^max_depth > num_leaves. (num_leaves=31).\n",
      "[LightGBM] [Warning] Auto-choosing row-wise multi-threading, the overhead of testing was 0.005256 seconds.\n",
      "You can set `force_row_wise=true` to remove the overhead.\n",
      "And if memory is not enough, you can set `force_col_wise=true`.\n",
      "[LightGBM] [Info] Total Bins 567\n",
      "[LightGBM] [Info] Number of data points in the train set: 143385, number of used features: 9\n",
      "[LightGBM] [Info] Start training from score 4703.014611\n"
     ]
    },
    {
     "name": "stderr",
     "output_type": "stream",
     "text": [
      "[I 2024-06-12 15:48:38,513] Trial 48 finished with value: 1515.45716852272 and parameters: {'learning_rate': 0.08275280385595563, 'max_depth': 6}. Best is trial 36 with value: 1490.2703914480935.\n"
     ]
    },
    {
     "name": "stdout",
     "output_type": "stream",
     "text": [
      "[LightGBM] [Warning] Accuracy may be bad since you didn't explicitly set num_leaves OR 2^max_depth > num_leaves. (num_leaves=31).\n",
      "[LightGBM] [Warning] Accuracy may be bad since you didn't explicitly set num_leaves OR 2^max_depth > num_leaves. (num_leaves=31).\n",
      "[LightGBM] [Warning] Auto-choosing row-wise multi-threading, the overhead of testing was 0.005208 seconds.\n",
      "You can set `force_row_wise=true` to remove the overhead.\n",
      "And if memory is not enough, you can set `force_col_wise=true`.\n",
      "[LightGBM] [Info] Total Bins 567\n",
      "[LightGBM] [Info] Number of data points in the train set: 143385, number of used features: 9\n",
      "[LightGBM] [Info] Start training from score 4700.163678\n",
      "[LightGBM] [Warning] No further splits with positive gain, best gain: -inf\n",
      "[LightGBM] [Warning] No further splits with positive gain, best gain: -inf\n",
      "[LightGBM] [Warning] No further splits with positive gain, best gain: -inf\n",
      "[LightGBM] [Warning] No further splits with positive gain, best gain: -inf\n",
      "[LightGBM] [Warning] No further splits with positive gain, best gain: -inf\n",
      "[LightGBM] [Warning] No further splits with positive gain, best gain: -inf\n",
      "[LightGBM] [Warning] No further splits with positive gain, best gain: -inf\n",
      "[LightGBM] [Warning] No further splits with positive gain, best gain: -inf\n",
      "[LightGBM] [Warning] No further splits with positive gain, best gain: -inf\n",
      "[LightGBM] [Warning] No further splits with positive gain, best gain: -inf\n",
      "[LightGBM] [Warning] No further splits with positive gain, best gain: -inf\n",
      "[LightGBM] [Warning] No further splits with positive gain, best gain: -inf\n",
      "[LightGBM] [Warning] No further splits with positive gain, best gain: -inf\n",
      "[LightGBM] [Warning] No further splits with positive gain, best gain: -inf\n",
      "[LightGBM] [Warning] No further splits with positive gain, best gain: -inf\n",
      "[LightGBM] [Warning] No further splits with positive gain, best gain: -inf\n",
      "[LightGBM] [Warning] No further splits with positive gain, best gain: -inf\n",
      "[LightGBM] [Warning] No further splits with positive gain, best gain: -inf\n",
      "[LightGBM] [Warning] No further splits with positive gain, best gain: -inf\n",
      "[LightGBM] [Warning] No further splits with positive gain, best gain: -inf\n",
      "[LightGBM] [Warning] No further splits with positive gain, best gain: -inf\n",
      "[LightGBM] [Warning] No further splits with positive gain, best gain: -inf\n",
      "[LightGBM] [Warning] No further splits with positive gain, best gain: -inf\n",
      "[LightGBM] [Warning] No further splits with positive gain, best gain: -inf\n",
      "[LightGBM] [Warning] No further splits with positive gain, best gain: -inf\n",
      "[LightGBM] [Warning] No further splits with positive gain, best gain: -inf\n",
      "[LightGBM] [Warning] No further splits with positive gain, best gain: -inf\n",
      "[LightGBM] [Warning] No further splits with positive gain, best gain: -inf\n",
      "[LightGBM] [Warning] No further splits with positive gain, best gain: -inf\n",
      "[LightGBM] [Warning] No further splits with positive gain, best gain: -inf\n",
      "[LightGBM] [Warning] No further splits with positive gain, best gain: -inf\n",
      "[LightGBM] [Warning] No further splits with positive gain, best gain: -inf\n",
      "[LightGBM] [Warning] No further splits with positive gain, best gain: -inf\n",
      "[LightGBM] [Warning] No further splits with positive gain, best gain: -inf\n",
      "[LightGBM] [Warning] No further splits with positive gain, best gain: -inf\n",
      "[LightGBM] [Warning] No further splits with positive gain, best gain: -inf\n",
      "[LightGBM] [Warning] No further splits with positive gain, best gain: -inf\n",
      "[LightGBM] [Warning] No further splits with positive gain, best gain: -inf\n",
      "[LightGBM] [Warning] No further splits with positive gain, best gain: -inf\n",
      "[LightGBM] [Warning] No further splits with positive gain, best gain: -inf\n",
      "[LightGBM] [Warning] No further splits with positive gain, best gain: -inf\n",
      "[LightGBM] [Warning] No further splits with positive gain, best gain: -inf\n",
      "[LightGBM] [Warning] No further splits with positive gain, best gain: -inf\n"
     ]
    },
    {
     "name": "stderr",
     "output_type": "stream",
     "text": [
      "[I 2024-06-12 15:48:40,908] Trial 49 finished with value: 1546.0039539742277 and parameters: {'learning_rate': 0.09050145714505425, 'max_depth': 5}. Best is trial 36 with value: 1490.2703914480935.\n"
     ]
    },
    {
     "name": "stdout",
     "output_type": "stream",
     "text": [
      "[LightGBM] [Warning] Accuracy may be bad since you didn't explicitly set num_leaves OR 2^max_depth > num_leaves. (num_leaves=31).\n",
      "[LightGBM] [Warning] Accuracy may be bad since you didn't explicitly set num_leaves OR 2^max_depth > num_leaves. (num_leaves=31).\n",
      "[LightGBM] [Warning] Auto-choosing col-wise multi-threading, the overhead of testing was 0.013367 seconds.\n",
      "You can set `force_col_wise=true` to remove the overhead.\n",
      "[LightGBM] [Info] Total Bins 566\n",
      "[LightGBM] [Info] Number of data points in the train set: 143385, number of used features: 9\n",
      "[LightGBM] [Info] Start training from score 4704.208815\n"
     ]
    },
    {
     "name": "stderr",
     "output_type": "stream",
     "text": [
      "[I 2024-06-12 15:48:43,993] Trial 50 finished with value: 1524.6397003751795 and parameters: {'learning_rate': 0.06743141572269362, 'max_depth': 7}. Best is trial 36 with value: 1490.2703914480935.\n"
     ]
    },
    {
     "name": "stdout",
     "output_type": "stream",
     "text": [
      "[LightGBM] [Warning] Accuracy may be bad since you didn't explicitly set num_leaves OR 2^max_depth > num_leaves. (num_leaves=31).\n",
      "[LightGBM] [Warning] Accuracy may be bad since you didn't explicitly set num_leaves OR 2^max_depth > num_leaves. (num_leaves=31).\n",
      "[LightGBM] [Warning] Auto-choosing row-wise multi-threading, the overhead of testing was 0.004777 seconds.\n",
      "You can set `force_row_wise=true` to remove the overhead.\n",
      "And if memory is not enough, you can set `force_col_wise=true`.\n",
      "[LightGBM] [Info] Total Bins 568\n",
      "[LightGBM] [Info] Number of data points in the train set: 143385, number of used features: 9\n",
      "[LightGBM] [Info] Start training from score 4709.367465\n"
     ]
    },
    {
     "name": "stderr",
     "output_type": "stream",
     "text": [
      "[I 2024-06-12 15:48:46,410] Trial 51 finished with value: 1498.1463130884738 and parameters: {'learning_rate': 0.08854616086230914, 'max_depth': 8}. Best is trial 36 with value: 1490.2703914480935.\n"
     ]
    },
    {
     "name": "stdout",
     "output_type": "stream",
     "text": [
      "[LightGBM] [Warning] Accuracy may be bad since you didn't explicitly set num_leaves OR 2^max_depth > num_leaves. (num_leaves=31).\n",
      "[LightGBM] [Warning] Accuracy may be bad since you didn't explicitly set num_leaves OR 2^max_depth > num_leaves. (num_leaves=31).\n",
      "[LightGBM] [Warning] Auto-choosing col-wise multi-threading, the overhead of testing was 0.089569 seconds.\n",
      "You can set `force_col_wise=true` to remove the overhead.\n",
      "[LightGBM] [Info] Total Bins 571\n",
      "[LightGBM] [Info] Number of data points in the train set: 143385, number of used features: 9\n",
      "[LightGBM] [Info] Start training from score 4703.049935\n"
     ]
    },
    {
     "name": "stderr",
     "output_type": "stream",
     "text": [
      "[I 2024-06-12 15:48:49,217] Trial 52 finished with value: 1519.4760848021135 and parameters: {'learning_rate': 0.09469654109552265, 'max_depth': 8}. Best is trial 36 with value: 1490.2703914480935.\n"
     ]
    },
    {
     "name": "stdout",
     "output_type": "stream",
     "text": [
      "[LightGBM] [Warning] Accuracy may be bad since you didn't explicitly set num_leaves OR 2^max_depth > num_leaves. (num_leaves=31).\n",
      "[LightGBM] [Warning] Accuracy may be bad since you didn't explicitly set num_leaves OR 2^max_depth > num_leaves. (num_leaves=31).\n",
      "[LightGBM] [Warning] Auto-choosing row-wise multi-threading, the overhead of testing was 0.004951 seconds.\n",
      "You can set `force_row_wise=true` to remove the overhead.\n",
      "And if memory is not enough, you can set `force_col_wise=true`.\n",
      "[LightGBM] [Info] Total Bins 570\n",
      "[LightGBM] [Info] Number of data points in the train set: 143385, number of used features: 9\n",
      "[LightGBM] [Info] Start training from score 4709.761990\n"
     ]
    },
    {
     "name": "stderr",
     "output_type": "stream",
     "text": [
      "[I 2024-06-12 15:48:51,814] Trial 53 finished with value: 1517.9880616462676 and parameters: {'learning_rate': 0.08455435717145249, 'max_depth': 8}. Best is trial 36 with value: 1490.2703914480935.\n"
     ]
    },
    {
     "name": "stdout",
     "output_type": "stream",
     "text": [
      "[LightGBM] [Warning] Accuracy may be bad since you didn't explicitly set num_leaves OR 2^max_depth > num_leaves. (num_leaves=31).\n",
      "[LightGBM] [Warning] Accuracy may be bad since you didn't explicitly set num_leaves OR 2^max_depth > num_leaves. (num_leaves=31).\n",
      "[LightGBM] [Warning] Auto-choosing row-wise multi-threading, the overhead of testing was 0.004735 seconds.\n",
      "You can set `force_row_wise=true` to remove the overhead.\n",
      "And if memory is not enough, you can set `force_col_wise=true`.\n",
      "[LightGBM] [Info] Total Bins 571\n",
      "[LightGBM] [Info] Number of data points in the train set: 143385, number of used features: 9\n",
      "[LightGBM] [Info] Start training from score 4701.008104\n"
     ]
    },
    {
     "name": "stderr",
     "output_type": "stream",
     "text": [
      "[I 2024-06-12 15:48:54,613] Trial 54 finished with value: 1502.46213318948 and parameters: {'learning_rate': 0.08006447802114307, 'max_depth': 8}. Best is trial 36 with value: 1490.2703914480935.\n"
     ]
    },
    {
     "name": "stdout",
     "output_type": "stream",
     "text": [
      "[LightGBM] [Warning] Accuracy may be bad since you didn't explicitly set num_leaves OR 2^max_depth > num_leaves. (num_leaves=31).\n",
      "[LightGBM] [Warning] Accuracy may be bad since you didn't explicitly set num_leaves OR 2^max_depth > num_leaves. (num_leaves=31).\n",
      "[LightGBM] [Warning] Auto-choosing row-wise multi-threading, the overhead of testing was 0.005516 seconds.\n",
      "You can set `force_row_wise=true` to remove the overhead.\n",
      "And if memory is not enough, you can set `force_col_wise=true`.\n",
      "[LightGBM] [Info] Total Bins 571\n",
      "[LightGBM] [Info] Number of data points in the train set: 143385, number of used features: 9\n",
      "[LightGBM] [Info] Start training from score 4704.048178\n"
     ]
    },
    {
     "name": "stderr",
     "output_type": "stream",
     "text": [
      "[I 2024-06-12 15:48:57,108] Trial 55 finished with value: 1518.0864089380332 and parameters: {'learning_rate': 0.09668534017016002, 'max_depth': 7}. Best is trial 36 with value: 1490.2703914480935.\n"
     ]
    },
    {
     "name": "stdout",
     "output_type": "stream",
     "text": [
      "[LightGBM] [Warning] Auto-choosing row-wise multi-threading, the overhead of testing was 0.004319 seconds.\n",
      "You can set `force_row_wise=true` to remove the overhead.\n",
      "And if memory is not enough, you can set `force_col_wise=true`.\n",
      "[LightGBM] [Info] Total Bins 569\n",
      "[LightGBM] [Info] Number of data points in the train set: 143385, number of used features: 9\n",
      "[LightGBM] [Info] Start training from score 4712.859260\n"
     ]
    },
    {
     "name": "stderr",
     "output_type": "stream",
     "text": [
      "[I 2024-06-12 15:48:58,399] Trial 56 finished with value: 1786.2308037060957 and parameters: {'learning_rate': 0.08861834196151643, 'max_depth': 2}. Best is trial 36 with value: 1490.2703914480935.\n"
     ]
    },
    {
     "name": "stdout",
     "output_type": "stream",
     "text": [
      "[LightGBM] [Warning] Accuracy may be bad since you didn't explicitly set num_leaves OR 2^max_depth > num_leaves. (num_leaves=31).\n",
      "[LightGBM] [Warning] Accuracy may be bad since you didn't explicitly set num_leaves OR 2^max_depth > num_leaves. (num_leaves=31).\n",
      "[LightGBM] [Warning] Auto-choosing row-wise multi-threading, the overhead of testing was 0.005431 seconds.\n",
      "You can set `force_row_wise=true` to remove the overhead.\n",
      "And if memory is not enough, you can set `force_col_wise=true`.\n",
      "[LightGBM] [Info] Total Bins 570\n",
      "[LightGBM] [Info] Number of data points in the train set: 143385, number of used features: 9\n",
      "[LightGBM] [Info] Start training from score 4702.564487\n"
     ]
    },
    {
     "name": "stderr",
     "output_type": "stream",
     "text": [
      "[I 2024-06-12 15:49:00,906] Trial 57 finished with value: 1523.7669474988736 and parameters: {'learning_rate': 0.09211108840823003, 'max_depth': 8}. Best is trial 36 with value: 1490.2703914480935.\n"
     ]
    },
    {
     "name": "stdout",
     "output_type": "stream",
     "text": [
      "[LightGBM] [Warning] Accuracy may be bad since you didn't explicitly set num_leaves OR 2^max_depth > num_leaves. (num_leaves=31).\n",
      "[LightGBM] [Warning] Accuracy may be bad since you didn't explicitly set num_leaves OR 2^max_depth > num_leaves. (num_leaves=31).\n",
      "[LightGBM] [Warning] Auto-choosing row-wise multi-threading, the overhead of testing was 0.005716 seconds.\n",
      "You can set `force_row_wise=true` to remove the overhead.\n",
      "And if memory is not enough, you can set `force_col_wise=true`.\n",
      "[LightGBM] [Info] Total Bins 566\n",
      "[LightGBM] [Info] Number of data points in the train set: 143385, number of used features: 9\n",
      "[LightGBM] [Info] Start training from score 4703.830715\n",
      "[LightGBM] [Warning] No further splits with positive gain, best gain: -inf\n",
      "[LightGBM] [Warning] No further splits with positive gain, best gain: -inf\n"
     ]
    },
    {
     "name": "stderr",
     "output_type": "stream",
     "text": [
      "[I 2024-06-12 15:49:03,393] Trial 58 finished with value: 1506.0516902154025 and parameters: {'learning_rate': 0.09957913930314281, 'max_depth': 6}. Best is trial 36 with value: 1490.2703914480935.\n"
     ]
    },
    {
     "name": "stdout",
     "output_type": "stream",
     "text": [
      "[LightGBM] [Warning] Accuracy may be bad since you didn't explicitly set num_leaves OR 2^max_depth > num_leaves. (num_leaves=31).\n",
      "[LightGBM] [Warning] Accuracy may be bad since you didn't explicitly set num_leaves OR 2^max_depth > num_leaves. (num_leaves=31).\n",
      "[LightGBM] [Warning] Auto-choosing row-wise multi-threading, the overhead of testing was 0.005162 seconds.\n",
      "You can set `force_row_wise=true` to remove the overhead.\n",
      "And if memory is not enough, you can set `force_col_wise=true`.\n",
      "[LightGBM] [Info] Total Bins 564\n",
      "[LightGBM] [Info] Number of data points in the train set: 143385, number of used features: 9\n",
      "[LightGBM] [Info] Start training from score 4711.379461\n"
     ]
    },
    {
     "name": "stderr",
     "output_type": "stream",
     "text": [
      "[I 2024-06-12 15:49:05,918] Trial 59 finished with value: 1512.0753611997654 and parameters: {'learning_rate': 0.07652161130978752, 'max_depth': 7}. Best is trial 36 with value: 1490.2703914480935.\n"
     ]
    },
    {
     "name": "stdout",
     "output_type": "stream",
     "text": [
      "[LightGBM] [Warning] Auto-choosing row-wise multi-threading, the overhead of testing was 0.004607 seconds.\n",
      "You can set `force_row_wise=true` to remove the overhead.\n",
      "And if memory is not enough, you can set `force_col_wise=true`.\n",
      "[LightGBM] [Info] Total Bins 565\n",
      "[LightGBM] [Info] Number of data points in the train set: 143385, number of used features: 9\n",
      "[LightGBM] [Info] Start training from score 4703.928828\n",
      "[LightGBM] [Warning] No further splits with positive gain, best gain: -inf\n"
     ]
    },
    {
     "name": "stderr",
     "output_type": "stream",
     "text": [
      "[I 2024-06-12 15:49:07,219] Trial 60 finished with value: 1674.1559748052737 and parameters: {'learning_rate': 0.08520936803816241, 'max_depth': 3}. Best is trial 36 with value: 1490.2703914480935.\n"
     ]
    },
    {
     "name": "stdout",
     "output_type": "stream",
     "text": [
      "[LightGBM] [Warning] Accuracy may be bad since you didn't explicitly set num_leaves OR 2^max_depth > num_leaves. (num_leaves=31).\n",
      "[LightGBM] [Warning] Accuracy may be bad since you didn't explicitly set num_leaves OR 2^max_depth > num_leaves. (num_leaves=31).\n",
      "[LightGBM] [Warning] Auto-choosing row-wise multi-threading, the overhead of testing was 0.005576 seconds.\n",
      "You can set `force_row_wise=true` to remove the overhead.\n",
      "And if memory is not enough, you can set `force_col_wise=true`.\n",
      "[LightGBM] [Info] Total Bins 569\n",
      "[LightGBM] [Info] Number of data points in the train set: 143385, number of used features: 9\n",
      "[LightGBM] [Info] Start training from score 4701.353998\n"
     ]
    },
    {
     "name": "stderr",
     "output_type": "stream",
     "text": [
      "[I 2024-06-12 15:49:09,797] Trial 61 finished with value: 1519.7949151256005 and parameters: {'learning_rate': 0.08689418428854212, 'max_depth': 8}. Best is trial 36 with value: 1490.2703914480935.\n"
     ]
    },
    {
     "name": "stdout",
     "output_type": "stream",
     "text": [
      "[LightGBM] [Warning] Accuracy may be bad since you didn't explicitly set num_leaves OR 2^max_depth > num_leaves. (num_leaves=31).\n",
      "[LightGBM] [Warning] Accuracy may be bad since you didn't explicitly set num_leaves OR 2^max_depth > num_leaves. (num_leaves=31).\n",
      "[LightGBM] [Warning] Auto-choosing row-wise multi-threading, the overhead of testing was 0.004785 seconds.\n",
      "You can set `force_row_wise=true` to remove the overhead.\n",
      "And if memory is not enough, you can set `force_col_wise=true`.\n",
      "[LightGBM] [Info] Total Bins 570\n",
      "[LightGBM] [Info] Number of data points in the train set: 143385, number of used features: 9\n",
      "[LightGBM] [Info] Start training from score 4708.055278\n"
     ]
    },
    {
     "name": "stderr",
     "output_type": "stream",
     "text": [
      "[I 2024-06-12 15:49:12,597] Trial 62 finished with value: 1509.7681091796994 and parameters: {'learning_rate': 0.08812714353454011, 'max_depth': 8}. Best is trial 36 with value: 1490.2703914480935.\n"
     ]
    },
    {
     "name": "stdout",
     "output_type": "stream",
     "text": [
      "[LightGBM] [Warning] Accuracy may be bad since you didn't explicitly set num_leaves OR 2^max_depth > num_leaves. (num_leaves=31).\n",
      "[LightGBM] [Warning] Accuracy may be bad since you didn't explicitly set num_leaves OR 2^max_depth > num_leaves. (num_leaves=31).\n",
      "[LightGBM] [Warning] Auto-choosing row-wise multi-threading, the overhead of testing was 0.005276 seconds.\n",
      "You can set `force_row_wise=true` to remove the overhead.\n",
      "And if memory is not enough, you can set `force_col_wise=true`.\n",
      "[LightGBM] [Info] Total Bins 568\n",
      "[LightGBM] [Info] Number of data points in the train set: 143385, number of used features: 9\n",
      "[LightGBM] [Info] Start training from score 4704.755930\n"
     ]
    },
    {
     "name": "stderr",
     "output_type": "stream",
     "text": [
      "[I 2024-06-12 15:49:15,308] Trial 63 finished with value: 1529.7952339958795 and parameters: {'learning_rate': 0.08106391885463182, 'max_depth': 8}. Best is trial 36 with value: 1490.2703914480935.\n"
     ]
    },
    {
     "name": "stdout",
     "output_type": "stream",
     "text": [
      "[LightGBM] [Warning] Accuracy may be bad since you didn't explicitly set num_leaves OR 2^max_depth > num_leaves. (num_leaves=31).\n",
      "[LightGBM] [Warning] Accuracy may be bad since you didn't explicitly set num_leaves OR 2^max_depth > num_leaves. (num_leaves=31).\n",
      "[LightGBM] [Warning] Auto-choosing row-wise multi-threading, the overhead of testing was 0.006516 seconds.\n",
      "You can set `force_row_wise=true` to remove the overhead.\n",
      "And if memory is not enough, you can set `force_col_wise=true`.\n",
      "[LightGBM] [Info] Total Bins 567\n",
      "[LightGBM] [Info] Number of data points in the train set: 143385, number of used features: 9\n",
      "[LightGBM] [Info] Start training from score 4705.926324\n"
     ]
    },
    {
     "name": "stderr",
     "output_type": "stream",
     "text": [
      "[I 2024-06-12 15:49:18,112] Trial 64 finished with value: 1507.8106043780972 and parameters: {'learning_rate': 0.0893289167933698, 'max_depth': 8}. Best is trial 36 with value: 1490.2703914480935.\n"
     ]
    },
    {
     "name": "stdout",
     "output_type": "stream",
     "text": [
      "[LightGBM] [Warning] Accuracy may be bad since you didn't explicitly set num_leaves OR 2^max_depth > num_leaves. (num_leaves=31).\n",
      "[LightGBM] [Warning] Accuracy may be bad since you didn't explicitly set num_leaves OR 2^max_depth > num_leaves. (num_leaves=31).\n",
      "[LightGBM] [Warning] Auto-choosing row-wise multi-threading, the overhead of testing was 0.005243 seconds.\n",
      "You can set `force_row_wise=true` to remove the overhead.\n",
      "And if memory is not enough, you can set `force_col_wise=true`.\n",
      "[LightGBM] [Info] Total Bins 568\n",
      "[LightGBM] [Info] Number of data points in the train set: 143385, number of used features: 9\n",
      "[LightGBM] [Info] Start training from score 4697.998842\n"
     ]
    },
    {
     "name": "stderr",
     "output_type": "stream",
     "text": [
      "[I 2024-06-12 15:49:20,719] Trial 65 finished with value: 1523.8194687819716 and parameters: {'learning_rate': 0.09275557810037255, 'max_depth': 7}. Best is trial 36 with value: 1490.2703914480935.\n"
     ]
    },
    {
     "name": "stdout",
     "output_type": "stream",
     "text": [
      "[LightGBM] [Warning] Accuracy may be bad since you didn't explicitly set num_leaves OR 2^max_depth > num_leaves. (num_leaves=31).\n",
      "[LightGBM] [Warning] Accuracy may be bad since you didn't explicitly set num_leaves OR 2^max_depth > num_leaves. (num_leaves=31).\n",
      "[LightGBM] [Warning] Auto-choosing col-wise multi-threading, the overhead of testing was 0.084427 seconds.\n",
      "You can set `force_col_wise=true` to remove the overhead.\n",
      "[LightGBM] [Info] Total Bins 565\n",
      "[LightGBM] [Info] Number of data points in the train set: 143385, number of used features: 9\n",
      "[LightGBM] [Info] Start training from score 4707.963016\n"
     ]
    },
    {
     "name": "stderr",
     "output_type": "stream",
     "text": [
      "[I 2024-06-12 15:49:23,529] Trial 66 finished with value: 1511.3085700183399 and parameters: {'learning_rate': 0.08401824335820558, 'max_depth': 7}. Best is trial 36 with value: 1490.2703914480935.\n"
     ]
    },
    {
     "name": "stdout",
     "output_type": "stream",
     "text": [
      "[LightGBM] [Warning] Accuracy may be bad since you didn't explicitly set num_leaves OR 2^max_depth > num_leaves. (num_leaves=31).\n",
      "[LightGBM] [Warning] Accuracy may be bad since you didn't explicitly set num_leaves OR 2^max_depth > num_leaves. (num_leaves=31).\n",
      "[LightGBM] [Warning] Auto-choosing row-wise multi-threading, the overhead of testing was 0.005106 seconds.\n",
      "You can set `force_row_wise=true` to remove the overhead.\n",
      "And if memory is not enough, you can set `force_col_wise=true`.\n",
      "[LightGBM] [Info] Total Bins 569\n",
      "[LightGBM] [Info] Number of data points in the train set: 143385, number of used features: 9\n",
      "[LightGBM] [Info] Start training from score 4718.303979\n"
     ]
    },
    {
     "name": "stderr",
     "output_type": "stream",
     "text": [
      "[I 2024-06-12 15:49:26,210] Trial 67 finished with value: 1482.1434360093149 and parameters: {'learning_rate': 0.09565084279711816, 'max_depth': 8}. Best is trial 67 with value: 1482.1434360093149.\n"
     ]
    },
    {
     "name": "stdout",
     "output_type": "stream",
     "text": [
      "[LightGBM] [Warning] Accuracy may be bad since you didn't explicitly set num_leaves OR 2^max_depth > num_leaves. (num_leaves=31).\n",
      "[LightGBM] [Warning] Accuracy may be bad since you didn't explicitly set num_leaves OR 2^max_depth > num_leaves. (num_leaves=31).\n",
      "[LightGBM] [Warning] Auto-choosing row-wise multi-threading, the overhead of testing was 0.005231 seconds.\n",
      "You can set `force_row_wise=true` to remove the overhead.\n",
      "And if memory is not enough, you can set `force_col_wise=true`.\n",
      "[LightGBM] [Info] Total Bins 565\n",
      "[LightGBM] [Info] Number of data points in the train set: 143385, number of used features: 9\n",
      "[LightGBM] [Info] Start training from score 4709.215197\n"
     ]
    },
    {
     "name": "stderr",
     "output_type": "stream",
     "text": [
      "[I 2024-06-12 15:49:29,010] Trial 68 finished with value: 1488.2656939124054 and parameters: {'learning_rate': 0.0968712450536764, 'max_depth': 8}. Best is trial 67 with value: 1482.1434360093149.\n"
     ]
    },
    {
     "name": "stdout",
     "output_type": "stream",
     "text": [
      "[LightGBM] [Warning] Accuracy may be bad since you didn't explicitly set num_leaves OR 2^max_depth > num_leaves. (num_leaves=31).\n",
      "[LightGBM] [Warning] Accuracy may be bad since you didn't explicitly set num_leaves OR 2^max_depth > num_leaves. (num_leaves=31).\n",
      "[LightGBM] [Warning] Auto-choosing row-wise multi-threading, the overhead of testing was 0.005189 seconds.\n",
      "You can set `force_row_wise=true` to remove the overhead.\n",
      "And if memory is not enough, you can set `force_col_wise=true`.\n",
      "[LightGBM] [Info] Total Bins 567\n",
      "[LightGBM] [Info] Number of data points in the train set: 143385, number of used features: 9\n",
      "[LightGBM] [Info] Start training from score 4705.794239\n"
     ]
    },
    {
     "name": "stderr",
     "output_type": "stream",
     "text": [
      "[I 2024-06-12 15:49:31,891] Trial 69 finished with value: 1495.6695153672802 and parameters: {'learning_rate': 0.09654356282032008, 'max_depth': 8}. Best is trial 67 with value: 1482.1434360093149.\n"
     ]
    },
    {
     "name": "stdout",
     "output_type": "stream",
     "text": [
      "[LightGBM] [Warning] Accuracy may be bad since you didn't explicitly set num_leaves OR 2^max_depth > num_leaves. (num_leaves=31).\n",
      "[LightGBM] [Warning] Accuracy may be bad since you didn't explicitly set num_leaves OR 2^max_depth > num_leaves. (num_leaves=31).\n",
      "[LightGBM] [Warning] Auto-choosing row-wise multi-threading, the overhead of testing was 0.081001 seconds.\n",
      "You can set `force_row_wise=true` to remove the overhead.\n",
      "And if memory is not enough, you can set `force_col_wise=true`.\n",
      "[LightGBM] [Info] Total Bins 570\n",
      "[LightGBM] [Info] Number of data points in the train set: 143385, number of used features: 9\n",
      "[LightGBM] [Info] Start training from score 4710.345441\n"
     ]
    },
    {
     "name": "stderr",
     "output_type": "stream",
     "text": [
      "[I 2024-06-12 15:49:34,416] Trial 70 finished with value: 1491.997072205173 and parameters: {'learning_rate': 0.09978370152944978, 'max_depth': 8}. Best is trial 67 with value: 1482.1434360093149.\n"
     ]
    },
    {
     "name": "stdout",
     "output_type": "stream",
     "text": [
      "[LightGBM] [Warning] Accuracy may be bad since you didn't explicitly set num_leaves OR 2^max_depth > num_leaves. (num_leaves=31).\n",
      "[LightGBM] [Warning] Accuracy may be bad since you didn't explicitly set num_leaves OR 2^max_depth > num_leaves. (num_leaves=31).\n",
      "[LightGBM] [Warning] Auto-choosing col-wise multi-threading, the overhead of testing was 0.085637 seconds.\n",
      "You can set `force_col_wise=true` to remove the overhead.\n",
      "[LightGBM] [Info] Total Bins 569\n",
      "[LightGBM] [Info] Number of data points in the train set: 143385, number of used features: 9\n",
      "[LightGBM] [Info] Start training from score 4713.024926\n"
     ]
    },
    {
     "name": "stderr",
     "output_type": "stream",
     "text": [
      "[I 2024-06-12 15:49:37,408] Trial 71 finished with value: 1503.9152206878196 and parameters: {'learning_rate': 0.09723265277877066, 'max_depth': 8}. Best is trial 67 with value: 1482.1434360093149.\n"
     ]
    },
    {
     "name": "stdout",
     "output_type": "stream",
     "text": [
      "[LightGBM] [Warning] Accuracy may be bad since you didn't explicitly set num_leaves OR 2^max_depth > num_leaves. (num_leaves=31).\n",
      "[LightGBM] [Warning] Accuracy may be bad since you didn't explicitly set num_leaves OR 2^max_depth > num_leaves. (num_leaves=31).\n",
      "[LightGBM] [Warning] Auto-choosing row-wise multi-threading, the overhead of testing was 0.073513 seconds.\n",
      "You can set `force_row_wise=true` to remove the overhead.\n",
      "And if memory is not enough, you can set `force_col_wise=true`.\n",
      "[LightGBM] [Info] Total Bins 566\n",
      "[LightGBM] [Info] Number of data points in the train set: 143385, number of used features: 9\n",
      "[LightGBM] [Info] Start training from score 4713.170743\n"
     ]
    },
    {
     "name": "stderr",
     "output_type": "stream",
     "text": [
      "[I 2024-06-12 15:49:40,215] Trial 72 finished with value: 1506.9500235093233 and parameters: {'learning_rate': 0.09719104829283771, 'max_depth': 8}. Best is trial 67 with value: 1482.1434360093149.\n"
     ]
    },
    {
     "name": "stdout",
     "output_type": "stream",
     "text": [
      "[LightGBM] [Warning] Accuracy may be bad since you didn't explicitly set num_leaves OR 2^max_depth > num_leaves. (num_leaves=31).\n",
      "[LightGBM] [Warning] Accuracy may be bad since you didn't explicitly set num_leaves OR 2^max_depth > num_leaves. (num_leaves=31).\n",
      "[LightGBM] [Warning] Auto-choosing row-wise multi-threading, the overhead of testing was 0.075698 seconds.\n",
      "You can set `force_row_wise=true` to remove the overhead.\n",
      "And if memory is not enough, you can set `force_col_wise=true`.\n",
      "[LightGBM] [Info] Total Bins 569\n",
      "[LightGBM] [Info] Number of data points in the train set: 143385, number of used features: 9\n",
      "[LightGBM] [Info] Start training from score 4706.283565\n"
     ]
    },
    {
     "name": "stderr",
     "output_type": "stream",
     "text": [
      "[I 2024-06-12 15:49:42,908] Trial 73 finished with value: 1494.2074560072317 and parameters: {'learning_rate': 0.09646007560670945, 'max_depth': 8}. Best is trial 67 with value: 1482.1434360093149.\n"
     ]
    },
    {
     "name": "stdout",
     "output_type": "stream",
     "text": [
      "[LightGBM] [Warning] Accuracy may be bad since you didn't explicitly set num_leaves OR 2^max_depth > num_leaves. (num_leaves=31).\n",
      "[LightGBM] [Warning] Accuracy may be bad since you didn't explicitly set num_leaves OR 2^max_depth > num_leaves. (num_leaves=31).\n",
      "[LightGBM] [Warning] Auto-choosing row-wise multi-threading, the overhead of testing was 0.076604 seconds.\n",
      "You can set `force_row_wise=true` to remove the overhead.\n",
      "And if memory is not enough, you can set `force_col_wise=true`.\n",
      "[LightGBM] [Info] Total Bins 568\n",
      "[LightGBM] [Info] Number of data points in the train set: 143385, number of used features: 9\n",
      "[LightGBM] [Info] Start training from score 4724.160407\n"
     ]
    },
    {
     "name": "stderr",
     "output_type": "stream",
     "text": [
      "[I 2024-06-12 15:49:45,694] Trial 74 finished with value: 1475.4832920825552 and parameters: {'learning_rate': 0.09875914764105503, 'max_depth': 8}. Best is trial 74 with value: 1475.4832920825552.\n"
     ]
    },
    {
     "name": "stdout",
     "output_type": "stream",
     "text": [
      "[LightGBM] [Warning] Accuracy may be bad since you didn't explicitly set num_leaves OR 2^max_depth > num_leaves. (num_leaves=31).\n",
      "[LightGBM] [Warning] Accuracy may be bad since you didn't explicitly set num_leaves OR 2^max_depth > num_leaves. (num_leaves=31).\n",
      "[LightGBM] [Warning] Auto-choosing row-wise multi-threading, the overhead of testing was 0.080390 seconds.\n",
      "You can set `force_row_wise=true` to remove the overhead.\n",
      "And if memory is not enough, you can set `force_col_wise=true`.\n",
      "[LightGBM] [Info] Total Bins 566\n",
      "[LightGBM] [Info] Number of data points in the train set: 143385, number of used features: 9\n",
      "[LightGBM] [Info] Start training from score 4701.788953\n"
     ]
    },
    {
     "name": "stderr",
     "output_type": "stream",
     "text": [
      "[I 2024-06-12 15:49:48,316] Trial 75 finished with value: 1507.9276985860326 and parameters: {'learning_rate': 0.09981328418156213, 'max_depth': 8}. Best is trial 74 with value: 1475.4832920825552.\n"
     ]
    },
    {
     "name": "stdout",
     "output_type": "stream",
     "text": [
      "[LightGBM] [Warning] Accuracy may be bad since you didn't explicitly set num_leaves OR 2^max_depth > num_leaves. (num_leaves=31).\n",
      "[LightGBM] [Warning] Accuracy may be bad since you didn't explicitly set num_leaves OR 2^max_depth > num_leaves. (num_leaves=31).\n",
      "[LightGBM] [Warning] Auto-choosing row-wise multi-threading, the overhead of testing was 0.004910 seconds.\n",
      "You can set `force_row_wise=true` to remove the overhead.\n",
      "And if memory is not enough, you can set `force_col_wise=true`.\n",
      "[LightGBM] [Info] Total Bins 562\n",
      "[LightGBM] [Info] Number of data points in the train set: 143385, number of used features: 9\n",
      "[LightGBM] [Info] Start training from score 4699.685588\n"
     ]
    },
    {
     "name": "stderr",
     "output_type": "stream",
     "text": [
      "[I 2024-06-12 15:49:51,094] Trial 76 finished with value: 1497.4166494904819 and parameters: {'learning_rate': 0.09606452880238672, 'max_depth': 8}. Best is trial 74 with value: 1475.4832920825552.\n"
     ]
    },
    {
     "name": "stdout",
     "output_type": "stream",
     "text": [
      "[LightGBM] [Warning] Accuracy may be bad since you didn't explicitly set num_leaves OR 2^max_depth > num_leaves. (num_leaves=31).\n",
      "[LightGBM] [Warning] Accuracy may be bad since you didn't explicitly set num_leaves OR 2^max_depth > num_leaves. (num_leaves=31).\n",
      "[LightGBM] [Warning] Auto-choosing row-wise multi-threading, the overhead of testing was 0.004914 seconds.\n",
      "You can set `force_row_wise=true` to remove the overhead.\n",
      "And if memory is not enough, you can set `force_col_wise=true`.\n",
      "[LightGBM] [Info] Total Bins 570\n",
      "[LightGBM] [Info] Number of data points in the train set: 143385, number of used features: 9\n",
      "[LightGBM] [Info] Start training from score 4701.093622\n"
     ]
    },
    {
     "name": "stderr",
     "output_type": "stream",
     "text": [
      "[I 2024-06-12 15:49:53,806] Trial 77 finished with value: 1500.588095867607 and parameters: {'learning_rate': 0.09797102668719515, 'max_depth': 8}. Best is trial 74 with value: 1475.4832920825552.\n"
     ]
    },
    {
     "name": "stdout",
     "output_type": "stream",
     "text": [
      "[LightGBM] [Warning] Accuracy may be bad since you didn't explicitly set num_leaves OR 2^max_depth > num_leaves. (num_leaves=31).\n",
      "[LightGBM] [Warning] Accuracy may be bad since you didn't explicitly set num_leaves OR 2^max_depth > num_leaves. (num_leaves=31).\n",
      "[LightGBM] [Warning] Auto-choosing row-wise multi-threading, the overhead of testing was 0.004995 seconds.\n",
      "You can set `force_row_wise=true` to remove the overhead.\n",
      "And if memory is not enough, you can set `force_col_wise=true`.\n",
      "[LightGBM] [Info] Total Bins 568\n",
      "[LightGBM] [Info] Number of data points in the train set: 143385, number of used features: 9\n",
      "[LightGBM] [Info] Start training from score 4709.933375\n"
     ]
    },
    {
     "name": "stderr",
     "output_type": "stream",
     "text": [
      "[I 2024-06-12 15:49:56,514] Trial 78 finished with value: 1489.744840921249 and parameters: {'learning_rate': 0.09460330836093471, 'max_depth': 8}. Best is trial 74 with value: 1475.4832920825552.\n"
     ]
    },
    {
     "name": "stdout",
     "output_type": "stream",
     "text": [
      "[LightGBM] [Warning] Accuracy may be bad since you didn't explicitly set num_leaves OR 2^max_depth > num_leaves. (num_leaves=31).\n",
      "[LightGBM] [Warning] Accuracy may be bad since you didn't explicitly set num_leaves OR 2^max_depth > num_leaves. (num_leaves=31).\n",
      "[LightGBM] [Warning] Auto-choosing row-wise multi-threading, the overhead of testing was 0.004541 seconds.\n",
      "You can set `force_row_wise=true` to remove the overhead.\n",
      "And if memory is not enough, you can set `force_col_wise=true`.\n",
      "[LightGBM] [Info] Total Bins 569\n",
      "[LightGBM] [Info] Number of data points in the train set: 143385, number of used features: 9\n",
      "[LightGBM] [Info] Start training from score 4702.396422\n"
     ]
    },
    {
     "name": "stderr",
     "output_type": "stream",
     "text": [
      "[I 2024-06-12 15:49:59,411] Trial 79 finished with value: 1501.130456109609 and parameters: {'learning_rate': 0.09478142792839618, 'max_depth': 8}. Best is trial 74 with value: 1475.4832920825552.\n"
     ]
    },
    {
     "name": "stdout",
     "output_type": "stream",
     "text": [
      "[LightGBM] [Warning] Accuracy may be bad since you didn't explicitly set num_leaves OR 2^max_depth > num_leaves. (num_leaves=31).\n",
      "[LightGBM] [Warning] Accuracy may be bad since you didn't explicitly set num_leaves OR 2^max_depth > num_leaves. (num_leaves=31).\n",
      "[LightGBM] [Warning] Auto-choosing row-wise multi-threading, the overhead of testing was 0.004747 seconds.\n",
      "You can set `force_row_wise=true` to remove the overhead.\n",
      "And if memory is not enough, you can set `force_col_wise=true`.\n",
      "[LightGBM] [Info] Total Bins 566\n",
      "[LightGBM] [Info] Number of data points in the train set: 143385, number of used features: 9\n",
      "[LightGBM] [Info] Start training from score 4709.253597\n"
     ]
    },
    {
     "name": "stderr",
     "output_type": "stream",
     "text": [
      "[I 2024-06-12 15:50:02,299] Trial 80 finished with value: 1505.2592912053651 and parameters: {'learning_rate': 0.09998831477665364, 'max_depth': 8}. Best is trial 74 with value: 1475.4832920825552.\n"
     ]
    },
    {
     "name": "stdout",
     "output_type": "stream",
     "text": [
      "[LightGBM] [Warning] Accuracy may be bad since you didn't explicitly set num_leaves OR 2^max_depth > num_leaves. (num_leaves=31).\n",
      "[LightGBM] [Warning] Accuracy may be bad since you didn't explicitly set num_leaves OR 2^max_depth > num_leaves. (num_leaves=31).\n",
      "[LightGBM] [Warning] Auto-choosing row-wise multi-threading, the overhead of testing was 0.005166 seconds.\n",
      "You can set `force_row_wise=true` to remove the overhead.\n",
      "And if memory is not enough, you can set `force_col_wise=true`.\n",
      "[LightGBM] [Info] Total Bins 567\n",
      "[LightGBM] [Info] Number of data points in the train set: 143385, number of used features: 9\n",
      "[LightGBM] [Info] Start training from score 4711.826244\n"
     ]
    },
    {
     "name": "stderr",
     "output_type": "stream",
     "text": [
      "[I 2024-06-12 15:50:05,020] Trial 81 finished with value: 1492.9819587013508 and parameters: {'learning_rate': 0.0935559830031631, 'max_depth': 8}. Best is trial 74 with value: 1475.4832920825552.\n"
     ]
    },
    {
     "name": "stdout",
     "output_type": "stream",
     "text": [
      "[LightGBM] [Warning] Accuracy may be bad since you didn't explicitly set num_leaves OR 2^max_depth > num_leaves. (num_leaves=31).\n",
      "[LightGBM] [Warning] Accuracy may be bad since you didn't explicitly set num_leaves OR 2^max_depth > num_leaves. (num_leaves=31).\n",
      "[LightGBM] [Warning] Auto-choosing row-wise multi-threading, the overhead of testing was 0.005554 seconds.\n",
      "You can set `force_row_wise=true` to remove the overhead.\n",
      "And if memory is not enough, you can set `force_col_wise=true`.\n",
      "[LightGBM] [Info] Total Bins 565\n",
      "[LightGBM] [Info] Number of data points in the train set: 143385, number of used features: 9\n",
      "[LightGBM] [Info] Start training from score 4710.419667\n"
     ]
    },
    {
     "name": "stderr",
     "output_type": "stream",
     "text": [
      "[I 2024-06-12 15:50:07,916] Trial 82 finished with value: 1510.5053212750563 and parameters: {'learning_rate': 0.09328242919892034, 'max_depth': 8}. Best is trial 74 with value: 1475.4832920825552.\n"
     ]
    },
    {
     "name": "stdout",
     "output_type": "stream",
     "text": [
      "[LightGBM] [Warning] Accuracy may be bad since you didn't explicitly set num_leaves OR 2^max_depth > num_leaves. (num_leaves=31).\n",
      "[LightGBM] [Warning] Accuracy may be bad since you didn't explicitly set num_leaves OR 2^max_depth > num_leaves. (num_leaves=31).\n",
      "[LightGBM] [Warning] Auto-choosing row-wise multi-threading, the overhead of testing was 0.004939 seconds.\n",
      "You can set `force_row_wise=true` to remove the overhead.\n",
      "And if memory is not enough, you can set `force_col_wise=true`.\n",
      "[LightGBM] [Info] Total Bins 569\n",
      "[LightGBM] [Info] Number of data points in the train set: 143385, number of used features: 9\n",
      "[LightGBM] [Info] Start training from score 4703.415957\n"
     ]
    },
    {
     "name": "stderr",
     "output_type": "stream",
     "text": [
      "[I 2024-06-12 15:50:10,417] Trial 83 finished with value: 1510.2447639100938 and parameters: {'learning_rate': 0.09177101290265406, 'max_depth': 8}. Best is trial 74 with value: 1475.4832920825552.\n"
     ]
    },
    {
     "name": "stdout",
     "output_type": "stream",
     "text": [
      "[LightGBM] [Warning] Accuracy may be bad since you didn't explicitly set num_leaves OR 2^max_depth > num_leaves. (num_leaves=31).\n",
      "[LightGBM] [Warning] Accuracy may be bad since you didn't explicitly set num_leaves OR 2^max_depth > num_leaves. (num_leaves=31).\n",
      "[LightGBM] [Warning] Auto-choosing col-wise multi-threading, the overhead of testing was 0.011585 seconds.\n",
      "You can set `force_col_wise=true` to remove the overhead.\n",
      "[LightGBM] [Info] Total Bins 569\n",
      "[LightGBM] [Info] Number of data points in the train set: 143385, number of used features: 9\n",
      "[LightGBM] [Info] Start training from score 4710.832549\n"
     ]
    },
    {
     "name": "stderr",
     "output_type": "stream",
     "text": [
      "[I 2024-06-12 15:50:13,801] Trial 84 finished with value: 1620.6943708465171 and parameters: {'learning_rate': 0.03192108592482913, 'max_depth': 8}. Best is trial 74 with value: 1475.4832920825552.\n"
     ]
    },
    {
     "name": "stdout",
     "output_type": "stream",
     "text": [
      "[LightGBM] [Warning] Accuracy may be bad since you didn't explicitly set num_leaves OR 2^max_depth > num_leaves. (num_leaves=31).\n",
      "[LightGBM] [Warning] Accuracy may be bad since you didn't explicitly set num_leaves OR 2^max_depth > num_leaves. (num_leaves=31).\n",
      "[LightGBM] [Warning] Auto-choosing row-wise multi-threading, the overhead of testing was 0.005382 seconds.\n",
      "You can set `force_row_wise=true` to remove the overhead.\n",
      "And if memory is not enough, you can set `force_col_wise=true`.\n",
      "[LightGBM] [Info] Total Bins 567\n",
      "[LightGBM] [Info] Number of data points in the train set: 143385, number of used features: 9\n",
      "[LightGBM] [Info] Start training from score 4706.198696\n"
     ]
    },
    {
     "name": "stderr",
     "output_type": "stream",
     "text": [
      "[I 2024-06-12 15:50:16,418] Trial 85 finished with value: 1506.5909013160613 and parameters: {'learning_rate': 0.09816811437003321, 'max_depth': 8}. Best is trial 74 with value: 1475.4832920825552.\n"
     ]
    },
    {
     "name": "stdout",
     "output_type": "stream",
     "text": [
      "[LightGBM] [Warning] Accuracy may be bad since you didn't explicitly set num_leaves OR 2^max_depth > num_leaves. (num_leaves=31).\n",
      "[LightGBM] [Warning] Accuracy may be bad since you didn't explicitly set num_leaves OR 2^max_depth > num_leaves. (num_leaves=31).\n",
      "[LightGBM] [Warning] Auto-choosing row-wise multi-threading, the overhead of testing was 0.005677 seconds.\n",
      "You can set `force_row_wise=true` to remove the overhead.\n",
      "And if memory is not enough, you can set `force_col_wise=true`.\n",
      "[LightGBM] [Info] Total Bins 571\n",
      "[LightGBM] [Info] Number of data points in the train set: 143385, number of used features: 9\n",
      "[LightGBM] [Info] Start training from score 4708.327705\n"
     ]
    },
    {
     "name": "stderr",
     "output_type": "stream",
     "text": [
      "[I 2024-06-12 15:50:18,810] Trial 86 finished with value: 1503.957510461673 and parameters: {'learning_rate': 0.0933833000669747, 'max_depth': 7}. Best is trial 74 with value: 1475.4832920825552.\n"
     ]
    },
    {
     "name": "stdout",
     "output_type": "stream",
     "text": [
      "[LightGBM] [Warning] Accuracy may be bad since you didn't explicitly set num_leaves OR 2^max_depth > num_leaves. (num_leaves=31).\n",
      "[LightGBM] [Warning] Accuracy may be bad since you didn't explicitly set num_leaves OR 2^max_depth > num_leaves. (num_leaves=31).\n",
      "[LightGBM] [Warning] Auto-choosing row-wise multi-threading, the overhead of testing was 0.004258 seconds.\n",
      "You can set `force_row_wise=true` to remove the overhead.\n",
      "And if memory is not enough, you can set `force_col_wise=true`.\n",
      "[LightGBM] [Info] Total Bins 568\n",
      "[LightGBM] [Info] Number of data points in the train set: 143385, number of used features: 9\n",
      "[LightGBM] [Info] Start training from score 4706.349262\n"
     ]
    },
    {
     "name": "stderr",
     "output_type": "stream",
     "text": [
      "[I 2024-06-12 15:50:21,613] Trial 87 finished with value: 1503.7173464133505 and parameters: {'learning_rate': 0.09566736780452324, 'max_depth': 8}. Best is trial 74 with value: 1475.4832920825552.\n"
     ]
    },
    {
     "name": "stdout",
     "output_type": "stream",
     "text": [
      "[LightGBM] [Warning] Accuracy may be bad since you didn't explicitly set num_leaves OR 2^max_depth > num_leaves. (num_leaves=31).\n",
      "[LightGBM] [Warning] Accuracy may be bad since you didn't explicitly set num_leaves OR 2^max_depth > num_leaves. (num_leaves=31).\n",
      "[LightGBM] [Warning] Auto-choosing row-wise multi-threading, the overhead of testing was 0.004847 seconds.\n",
      "You can set `force_row_wise=true` to remove the overhead.\n",
      "And if memory is not enough, you can set `force_col_wise=true`.\n",
      "[LightGBM] [Info] Total Bins 570\n",
      "[LightGBM] [Info] Number of data points in the train set: 143385, number of used features: 9\n",
      "[LightGBM] [Info] Start training from score 4714.101280\n"
     ]
    },
    {
     "name": "stderr",
     "output_type": "stream",
     "text": [
      "[I 2024-06-12 15:50:24,206] Trial 88 finished with value: 1500.0544821357348 and parameters: {'learning_rate': 0.09082037276473767, 'max_depth': 8}. Best is trial 74 with value: 1475.4832920825552.\n"
     ]
    },
    {
     "name": "stdout",
     "output_type": "stream",
     "text": [
      "[LightGBM] [Warning] Accuracy may be bad since you didn't explicitly set num_leaves OR 2^max_depth > num_leaves. (num_leaves=31).\n",
      "[LightGBM] [Warning] Accuracy may be bad since you didn't explicitly set num_leaves OR 2^max_depth > num_leaves. (num_leaves=31).\n",
      "[LightGBM] [Warning] Auto-choosing col-wise multi-threading, the overhead of testing was 0.094311 seconds.\n",
      "You can set `force_col_wise=true` to remove the overhead.\n",
      "[LightGBM] [Info] Total Bins 561\n",
      "[LightGBM] [Info] Number of data points in the train set: 143385, number of used features: 9\n",
      "[LightGBM] [Info] Start training from score 4702.975325\n"
     ]
    },
    {
     "name": "stderr",
     "output_type": "stream",
     "text": [
      "[I 2024-06-12 15:50:26,824] Trial 89 finished with value: 1518.8367523538705 and parameters: {'learning_rate': 0.09859897795812204, 'max_depth': 8}. Best is trial 74 with value: 1475.4832920825552.\n"
     ]
    },
    {
     "name": "stdout",
     "output_type": "stream",
     "text": [
      "[LightGBM] [Warning] Accuracy may be bad since you didn't explicitly set num_leaves OR 2^max_depth > num_leaves. (num_leaves=31).\n",
      "[LightGBM] [Warning] Accuracy may be bad since you didn't explicitly set num_leaves OR 2^max_depth > num_leaves. (num_leaves=31).\n",
      "[LightGBM] [Warning] Auto-choosing row-wise multi-threading, the overhead of testing was 0.004324 seconds.\n",
      "You can set `force_row_wise=true` to remove the overhead.\n",
      "And if memory is not enough, you can set `force_col_wise=true`.\n",
      "[LightGBM] [Info] Total Bins 567\n",
      "[LightGBM] [Info] Number of data points in the train set: 143385, number of used features: 9\n",
      "[LightGBM] [Info] Start training from score 4703.659372\n"
     ]
    },
    {
     "name": "stderr",
     "output_type": "stream",
     "text": [
      "[I 2024-06-12 15:50:29,595] Trial 90 finished with value: 1517.3981167081415 and parameters: {'learning_rate': 0.09447283504809997, 'max_depth': 7}. Best is trial 74 with value: 1475.4832920825552.\n"
     ]
    },
    {
     "name": "stdout",
     "output_type": "stream",
     "text": [
      "[LightGBM] [Warning] Accuracy may be bad since you didn't explicitly set num_leaves OR 2^max_depth > num_leaves. (num_leaves=31).\n",
      "[LightGBM] [Warning] Accuracy may be bad since you didn't explicitly set num_leaves OR 2^max_depth > num_leaves. (num_leaves=31).\n",
      "[LightGBM] [Warning] Auto-choosing row-wise multi-threading, the overhead of testing was 0.081404 seconds.\n",
      "You can set `force_row_wise=true` to remove the overhead.\n",
      "And if memory is not enough, you can set `force_col_wise=true`.\n",
      "[LightGBM] [Info] Total Bins 572\n",
      "[LightGBM] [Info] Number of data points in the train set: 143385, number of used features: 9\n",
      "[LightGBM] [Info] Start training from score 4711.477972\n"
     ]
    },
    {
     "name": "stderr",
     "output_type": "stream",
     "text": [
      "[I 2024-06-12 15:50:32,403] Trial 91 finished with value: 1484.970646704448 and parameters: {'learning_rate': 0.09631566452418093, 'max_depth': 8}. Best is trial 74 with value: 1475.4832920825552.\n"
     ]
    },
    {
     "name": "stdout",
     "output_type": "stream",
     "text": [
      "[LightGBM] [Warning] Accuracy may be bad since you didn't explicitly set num_leaves OR 2^max_depth > num_leaves. (num_leaves=31).\n",
      "[LightGBM] [Warning] Accuracy may be bad since you didn't explicitly set num_leaves OR 2^max_depth > num_leaves. (num_leaves=31).\n",
      "[LightGBM] [Warning] Auto-choosing row-wise multi-threading, the overhead of testing was 0.077101 seconds.\n",
      "You can set `force_row_wise=true` to remove the overhead.\n",
      "And if memory is not enough, you can set `force_col_wise=true`.\n",
      "[LightGBM] [Info] Total Bins 565\n",
      "[LightGBM] [Info] Number of data points in the train set: 143385, number of used features: 9\n",
      "[LightGBM] [Info] Start training from score 4715.843610\n"
     ]
    },
    {
     "name": "stderr",
     "output_type": "stream",
     "text": [
      "[I 2024-06-12 15:50:35,304] Trial 92 finished with value: 1523.8302060098836 and parameters: {'learning_rate': 0.049735899912134104, 'max_depth': 8}. Best is trial 74 with value: 1475.4832920825552.\n"
     ]
    },
    {
     "name": "stdout",
     "output_type": "stream",
     "text": [
      "[LightGBM] [Warning] Accuracy may be bad since you didn't explicitly set num_leaves OR 2^max_depth > num_leaves. (num_leaves=31).\n",
      "[LightGBM] [Warning] Accuracy may be bad since you didn't explicitly set num_leaves OR 2^max_depth > num_leaves. (num_leaves=31).\n",
      "[LightGBM] [Warning] Auto-choosing row-wise multi-threading, the overhead of testing was 0.069935 seconds.\n",
      "You can set `force_row_wise=true` to remove the overhead.\n",
      "And if memory is not enough, you can set `force_col_wise=true`.\n",
      "[LightGBM] [Info] Total Bins 568\n",
      "[LightGBM] [Info] Number of data points in the train set: 143385, number of used features: 9\n",
      "[LightGBM] [Info] Start training from score 4707.746696\n"
     ]
    },
    {
     "name": "stderr",
     "output_type": "stream",
     "text": [
      "[I 2024-06-12 15:50:38,003] Trial 93 finished with value: 1502.7102730212005 and parameters: {'learning_rate': 0.09570742020195784, 'max_depth': 8}. Best is trial 74 with value: 1475.4832920825552.\n"
     ]
    },
    {
     "name": "stdout",
     "output_type": "stream",
     "text": [
      "[LightGBM] [Warning] Accuracy may be bad since you didn't explicitly set num_leaves OR 2^max_depth > num_leaves. (num_leaves=31).\n",
      "[LightGBM] [Warning] Accuracy may be bad since you didn't explicitly set num_leaves OR 2^max_depth > num_leaves. (num_leaves=31).\n",
      "[LightGBM] [Warning] Auto-choosing row-wise multi-threading, the overhead of testing was 0.005429 seconds.\n",
      "You can set `force_row_wise=true` to remove the overhead.\n",
      "And if memory is not enough, you can set `force_col_wise=true`.\n",
      "[LightGBM] [Info] Total Bins 569\n",
      "[LightGBM] [Info] Number of data points in the train set: 143385, number of used features: 9\n",
      "[LightGBM] [Info] Start training from score 4705.789267\n"
     ]
    },
    {
     "name": "stderr",
     "output_type": "stream",
     "text": [
      "[I 2024-06-12 15:50:40,898] Trial 94 finished with value: 1543.7027229021667 and parameters: {'learning_rate': 0.060281366530464814, 'max_depth': 8}. Best is trial 74 with value: 1475.4832920825552.\n"
     ]
    },
    {
     "name": "stdout",
     "output_type": "stream",
     "text": [
      "[LightGBM] [Warning] Accuracy may be bad since you didn't explicitly set num_leaves OR 2^max_depth > num_leaves. (num_leaves=31).\n",
      "[LightGBM] [Warning] Accuracy may be bad since you didn't explicitly set num_leaves OR 2^max_depth > num_leaves. (num_leaves=31).\n",
      "[LightGBM] [Warning] Auto-choosing row-wise multi-threading, the overhead of testing was 0.004890 seconds.\n",
      "You can set `force_row_wise=true` to remove the overhead.\n",
      "And if memory is not enough, you can set `force_col_wise=true`.\n",
      "[LightGBM] [Info] Total Bins 568\n",
      "[LightGBM] [Info] Number of data points in the train set: 143385, number of used features: 9\n",
      "[LightGBM] [Info] Start training from score 4708.885895\n"
     ]
    },
    {
     "name": "stderr",
     "output_type": "stream",
     "text": [
      "[I 2024-06-12 15:50:43,614] Trial 95 finished with value: 1480.7391712124502 and parameters: {'learning_rate': 0.09759102093852312, 'max_depth': 8}. Best is trial 74 with value: 1475.4832920825552.\n"
     ]
    },
    {
     "name": "stdout",
     "output_type": "stream",
     "text": [
      "[LightGBM] [Warning] Accuracy may be bad since you didn't explicitly set num_leaves OR 2^max_depth > num_leaves. (num_leaves=31).\n",
      "[LightGBM] [Warning] Accuracy may be bad since you didn't explicitly set num_leaves OR 2^max_depth > num_leaves. (num_leaves=31).\n",
      "[LightGBM] [Warning] Auto-choosing row-wise multi-threading, the overhead of testing was 0.004930 seconds.\n",
      "You can set `force_row_wise=true` to remove the overhead.\n",
      "And if memory is not enough, you can set `force_col_wise=true`.\n",
      "[LightGBM] [Info] Total Bins 570\n",
      "[LightGBM] [Info] Number of data points in the train set: 143385, number of used features: 9\n",
      "[LightGBM] [Info] Start training from score 4698.276717\n"
     ]
    },
    {
     "name": "stderr",
     "output_type": "stream",
     "text": [
      "[I 2024-06-12 15:50:46,303] Trial 96 finished with value: 1506.5905068636278 and parameters: {'learning_rate': 0.09850206313106832, 'max_depth': 8}. Best is trial 74 with value: 1475.4832920825552.\n"
     ]
    },
    {
     "name": "stdout",
     "output_type": "stream",
     "text": [
      "[LightGBM] [Warning] Accuracy may be bad since you didn't explicitly set num_leaves OR 2^max_depth > num_leaves. (num_leaves=31).\n",
      "[LightGBM] [Warning] Accuracy may be bad since you didn't explicitly set num_leaves OR 2^max_depth > num_leaves. (num_leaves=31).\n",
      "[LightGBM] [Warning] Auto-choosing col-wise multi-threading, the overhead of testing was 0.013699 seconds.\n",
      "You can set `force_col_wise=true` to remove the overhead.\n",
      "[LightGBM] [Info] Total Bins 565\n",
      "[LightGBM] [Info] Number of data points in the train set: 143385, number of used features: 9\n",
      "[LightGBM] [Info] Start training from score 4710.958985\n",
      "[LightGBM] [Warning] No further splits with positive gain, best gain: -inf\n",
      "[LightGBM] [Warning] No further splits with positive gain, best gain: -inf\n"
     ]
    },
    {
     "name": "stderr",
     "output_type": "stream",
     "text": [
      "[I 2024-06-12 15:50:49,298] Trial 97 finished with value: 1511.2917375037625 and parameters: {'learning_rate': 0.09185131742952617, 'max_depth': 7}. Best is trial 74 with value: 1475.4832920825552.\n"
     ]
    },
    {
     "name": "stdout",
     "output_type": "stream",
     "text": [
      "[LightGBM] [Warning] Accuracy may be bad since you didn't explicitly set num_leaves OR 2^max_depth > num_leaves. (num_leaves=31).\n",
      "[LightGBM] [Warning] Accuracy may be bad since you didn't explicitly set num_leaves OR 2^max_depth > num_leaves. (num_leaves=31).\n",
      "[LightGBM] [Warning] Auto-choosing row-wise multi-threading, the overhead of testing was 0.005305 seconds.\n",
      "You can set `force_row_wise=true` to remove the overhead.\n",
      "And if memory is not enough, you can set `force_col_wise=true`.\n",
      "[LightGBM] [Info] Total Bins 568\n",
      "[LightGBM] [Info] Number of data points in the train set: 143385, number of used features: 9\n",
      "[LightGBM] [Info] Start training from score 4698.633058\n"
     ]
    },
    {
     "name": "stderr",
     "output_type": "stream",
     "text": [
      "[I 2024-06-12 15:50:51,906] Trial 98 finished with value: 1511.869921551666 and parameters: {'learning_rate': 0.09301152155906545, 'max_depth': 8}. Best is trial 74 with value: 1475.4832920825552.\n"
     ]
    },
    {
     "name": "stdout",
     "output_type": "stream",
     "text": [
      "[LightGBM] [Warning] Accuracy may be bad since you didn't explicitly set num_leaves OR 2^max_depth > num_leaves. (num_leaves=31).\n",
      "[LightGBM] [Warning] Accuracy may be bad since you didn't explicitly set num_leaves OR 2^max_depth > num_leaves. (num_leaves=31).\n",
      "[LightGBM] [Warning] Auto-choosing row-wise multi-threading, the overhead of testing was 0.005337 seconds.\n",
      "You can set `force_row_wise=true` to remove the overhead.\n",
      "And if memory is not enough, you can set `force_col_wise=true`.\n",
      "[LightGBM] [Info] Total Bins 572\n",
      "[LightGBM] [Info] Number of data points in the train set: 143385, number of used features: 9\n",
      "[LightGBM] [Info] Start training from score 4698.249343\n"
     ]
    },
    {
     "name": "stderr",
     "output_type": "stream",
     "text": [
      "[I 2024-06-12 15:50:54,602] Trial 99 finished with value: 1510.41868507345 and parameters: {'learning_rate': 0.09009253847200968, 'max_depth': 7}. Best is trial 74 with value: 1475.4832920825552.\n"
     ]
    },
    {
     "name": "stdout",
     "output_type": "stream",
     "text": [
      "CPU times: user 4min 16s, sys: 2.33 s, total: 4min 18s\n",
      "Wall time: 4min 20s\n"
     ]
    }
   ],
   "source": [
    "%%time\n",
    "study = optuna.create_study(direction='minimize')\n",
    "study.optimize(objective, n_trials=100)"
   ]
  },
  {
   "cell_type": "markdown",
   "metadata": {},
   "source": [
    "Модель на основе LightGDM на кросс-валидации обеспечила метрику 1516. Подбор гипер-параметров занял 9 минут 21 секунду."
   ]
  },
  {
   "cell_type": "code",
   "execution_count": 97,
   "metadata": {},
   "outputs": [],
   "source": [
    "model_lgbm = lgbm.LGBMRegressor(random_state=RANDOM_STATE,\n",
    "                                metric='root_mean_squared_error',\n",
    "                                learning_rate=0.0956621333321235,\n",
    "                                max_depth=7\n",
    "                                )"
   ]
  },
  {
   "cell_type": "code",
   "execution_count": 98,
   "metadata": {},
   "outputs": [
    {
     "name": "stdout",
     "output_type": "stream",
     "text": [
      "CPU times: user 2.55 s, sys: 31.3 ms, total: 2.58 s\n",
      "Wall time: 2.57 s\n"
     ]
    },
    {
     "data": {
      "text/plain": [
       "LGBMRegressor(learning_rate=0.0956621333321235, max_depth=7,\n",
       "              metric='root_mean_squared_error', random_state=42)"
      ]
     },
     "execution_count": 98,
     "metadata": {},
     "output_type": "execute_result"
    }
   ],
   "source": [
    "%%time\n",
    "model_lgbm.fit(X_train_lgbm, y_train)"
   ]
  },
  {
   "cell_type": "code",
   "execution_count": 99,
   "metadata": {},
   "outputs": [],
   "source": [
    "y_pred_lgbm = model_lgbm.predict(X_val_lgbm)"
   ]
  },
  {
   "cell_type": "code",
   "execution_count": 100,
   "metadata": {},
   "outputs": [
    {
     "data": {
      "text/plain": [
       "1512.91597600678"
      ]
     },
     "execution_count": 100,
     "metadata": {},
     "output_type": "execute_result"
    }
   ],
   "source": [
    "mean_squared_error(y_val, y_pred_lgbm, squared=False)"
   ]
  },
  {
   "cell_type": "markdown",
   "metadata": {},
   "source": [
    "На валидационной выборке LightGBM обеспечивает RMSE 1512. Для сравнения с другими моделями измерим время обучения и предсказания."
   ]
  },
  {
   "cell_type": "code",
   "execution_count": 101,
   "metadata": {},
   "outputs": [
    {
     "name": "stdout",
     "output_type": "stream",
     "text": [
      "CPU times: user 1.07 s, sys: 7.54 ms, total: 1.08 s\n",
      "Wall time: 1.09 s\n"
     ]
    },
    {
     "data": {
      "text/plain": [
       "LGBMRegressor(learning_rate=0.0956621333321235, max_depth=7,\n",
       "              metric='root_mean_squared_error', random_state=42)"
      ]
     },
     "execution_count": 101,
     "metadata": {},
     "output_type": "execute_result"
    }
   ],
   "source": [
    "%%time\n",
    "model_lgbm.fit(X_val_lgbm, y_val)"
   ]
  },
  {
   "cell_type": "code",
   "execution_count": 102,
   "metadata": {},
   "outputs": [
    {
     "name": "stdout",
     "output_type": "stream",
     "text": [
      "CPU times: user 504 ms, sys: 0 ns, total: 504 ms\n",
      "Wall time: 504 ms\n"
     ]
    },
    {
     "data": {
      "text/plain": [
       "array([ 3500.2205484 , 12130.82406207,  3631.16207189, ...,\n",
       "       11038.10307074,   579.80205314,  6842.59517764])"
      ]
     },
     "execution_count": 102,
     "metadata": {},
     "output_type": "execute_result"
    }
   ],
   "source": [
    "%%time\n",
    "model_lgbm.predict(X_val_lgbm)"
   ]
  },
  {
   "cell_type": "markdown",
   "metadata": {},
   "source": [
    "Модель LightGBM обучилась за 2.59 секунд, выдала предсказания за 566 миллисекунду."
   ]
  },
  {
   "cell_type": "code",
   "execution_count": 103,
   "metadata": {},
   "outputs": [
    {
     "data": {
      "text/html": [
       "<div>\n",
       "<style scoped>\n",
       "    .dataframe tbody tr th:only-of-type {\n",
       "        vertical-align: middle;\n",
       "    }\n",
       "\n",
       "    .dataframe tbody tr th {\n",
       "        vertical-align: top;\n",
       "    }\n",
       "\n",
       "    .dataframe thead th {\n",
       "        text-align: right;\n",
       "    }\n",
       "</style>\n",
       "<table border=\"1\" class=\"dataframe\">\n",
       "  <thead>\n",
       "    <tr style=\"text-align: right;\">\n",
       "      <th></th>\n",
       "      <th>model</th>\n",
       "      <th>fittime</th>\n",
       "      <th>predtime</th>\n",
       "      <th>rmse</th>\n",
       "    </tr>\n",
       "  </thead>\n",
       "  <tbody>\n",
       "    <tr>\n",
       "      <th>0</th>\n",
       "      <td>CatBoost</td>\n",
       "      <td>1 min 10 s</td>\n",
       "      <td>535 ms</td>\n",
       "      <td>1461</td>\n",
       "    </tr>\n",
       "    <tr>\n",
       "      <th>1</th>\n",
       "      <td>Neural Network</td>\n",
       "      <td>12 min 16 s</td>\n",
       "      <td>15 s</td>\n",
       "      <td>1604</td>\n",
       "    </tr>\n",
       "    <tr>\n",
       "      <th>2</th>\n",
       "      <td>LightGBM</td>\n",
       "      <td>2.87 s</td>\n",
       "      <td>510 ms</td>\n",
       "      <td>1522</td>\n",
       "    </tr>\n",
       "  </tbody>\n",
       "</table>\n",
       "</div>"
      ],
      "text/plain": [
       "            model      fittime predtime  rmse\n",
       "0        CatBoost   1 min 10 s   535 ms  1461\n",
       "1  Neural Network  12 min 16 s     15 s  1604\n",
       "2        LightGBM       2.87 s   510 ms  1522"
      ]
     },
     "execution_count": 103,
     "metadata": {},
     "output_type": "execute_result"
    }
   ],
   "source": [
    "results = results.append({\n",
    "    'model': 'LightGBM',\n",
    "    'fittime': '2.87 s',\n",
    "    'predtime': '510 ms',\n",
    "    'rmse': 1522\n",
    "}, ignore_index=True)\n",
    "results"
   ]
  },
  {
   "cell_type": "markdown",
   "metadata": {},
   "source": [
    "Посчитаем для LightGBM значение метрики на тестовой выборке."
   ]
  },
  {
   "cell_type": "code",
   "execution_count": 104,
   "metadata": {},
   "outputs": [],
   "source": [
    "X_train_fin = pd.concat([X_train, X_val])\n",
    "y_train_fin = pd.concat([y_train, y_val])"
   ]
  },
  {
   "cell_type": "code",
   "execution_count": 105,
   "metadata": {},
   "outputs": [],
   "source": [
    "for feature in cat_features:\n",
    "    X_train_fin[feature] = pd.Series(X_train_fin[feature], dtype='category')"
   ]
  },
  {
   "cell_type": "code",
   "execution_count": 106,
   "metadata": {},
   "outputs": [
    {
     "data": {
      "text/plain": [
       "LGBMRegressor(learning_rate=0.0956621333321235, max_depth=7,\n",
       "              metric='root_mean_squared_error', random_state=42)"
      ]
     },
     "execution_count": 106,
     "metadata": {},
     "output_type": "execute_result"
    }
   ],
   "source": [
    "model_lgbm.fit(X_train_fin, y_train_fin)"
   ]
  },
  {
   "cell_type": "code",
   "execution_count": 107,
   "metadata": {},
   "outputs": [
    {
     "name": "stdout",
     "output_type": "stream",
     "text": [
      "CPU times: user 597 ms, sys: 3.8 ms, total: 601 ms\n",
      "Wall time: 601 ms\n"
     ]
    }
   ],
   "source": [
    "%%time\n",
    "y_pred_lgbm = model_lgbm.predict(X_test_lgbm)"
   ]
  },
  {
   "cell_type": "code",
   "execution_count": 108,
   "metadata": {},
   "outputs": [
    {
     "data": {
      "text/plain": [
       "1505.6972508689637"
      ]
     },
     "execution_count": 108,
     "metadata": {},
     "output_type": "execute_result"
    }
   ],
   "source": [
    "mean_squared_error(y_test, y_pred_lgbm, squared=False)"
   ]
  },
  {
   "cell_type": "markdown",
   "metadata": {},
   "source": [
    "На тестовой выборке значение RMSE для модели LightGBM составило 1520. Предсказания были получены за 692 миллисекунд."
   ]
  },
  {
   "cell_type": "markdown",
   "metadata": {},
   "source": [
    "## Анализ моделей"
   ]
  },
  {
   "cell_type": "markdown",
   "metadata": {},
   "source": [
    "В рамках работы над проектом были обучены 3 модели. Заказчика интересует время обучения, время предсказаний и значения метрики RMSE.\n",
    "Посмотрим на полученную таблицу с результатами:"
   ]
  },
  {
   "cell_type": "code",
   "execution_count": 109,
   "metadata": {},
   "outputs": [
    {
     "data": {
      "text/html": [
       "<div>\n",
       "<style scoped>\n",
       "    .dataframe tbody tr th:only-of-type {\n",
       "        vertical-align: middle;\n",
       "    }\n",
       "\n",
       "    .dataframe tbody tr th {\n",
       "        vertical-align: top;\n",
       "    }\n",
       "\n",
       "    .dataframe thead th {\n",
       "        text-align: right;\n",
       "    }\n",
       "</style>\n",
       "<table border=\"1\" class=\"dataframe\">\n",
       "  <thead>\n",
       "    <tr style=\"text-align: right;\">\n",
       "      <th></th>\n",
       "      <th>model</th>\n",
       "      <th>fittime</th>\n",
       "      <th>predtime</th>\n",
       "      <th>rmse</th>\n",
       "    </tr>\n",
       "  </thead>\n",
       "  <tbody>\n",
       "    <tr>\n",
       "      <th>0</th>\n",
       "      <td>CatBoost</td>\n",
       "      <td>1 min 10 s</td>\n",
       "      <td>535 ms</td>\n",
       "      <td>1461</td>\n",
       "    </tr>\n",
       "    <tr>\n",
       "      <th>1</th>\n",
       "      <td>Neural Network</td>\n",
       "      <td>12 min 16 s</td>\n",
       "      <td>15 s</td>\n",
       "      <td>1604</td>\n",
       "    </tr>\n",
       "    <tr>\n",
       "      <th>2</th>\n",
       "      <td>LightGBM</td>\n",
       "      <td>2.87 s</td>\n",
       "      <td>510 ms</td>\n",
       "      <td>1522</td>\n",
       "    </tr>\n",
       "  </tbody>\n",
       "</table>\n",
       "</div>"
      ],
      "text/plain": [
       "            model      fittime predtime  rmse\n",
       "0        CatBoost   1 min 10 s   535 ms  1461\n",
       "1  Neural Network  12 min 16 s     15 s  1604\n",
       "2        LightGBM       2.87 s   510 ms  1522"
      ]
     },
     "execution_count": 109,
     "metadata": {},
     "output_type": "execute_result"
    }
   ],
   "source": [
    "results"
   ]
  },
  {
   "cell_type": "markdown",
   "metadata": {},
   "source": [
    "Из таблицы видно, что самая точная модель - CatBoostRegressor. Следом за ней идет LightGBM и замыкает тройку - нейронная сеть.\n",
    "Несмотря на то, что CatBoost самая точная, стоит обратить внимание на LightGBM. Её метрика RMSE несущественно ниже, но быстродействие явно лучше в разы."
   ]
  },
  {
   "cell_type": "markdown",
   "metadata": {},
   "source": [
    "## Общий вывод по проекту"
   ]
  },
  {
   "cell_type": "markdown",
   "metadata": {},
   "source": [
    "Работа над проектом включала несколько этапов:\n",
    "\n",
    "    Загрузка данных и библиотек;\n",
    "    - Первичный осмотр данных;\n",
    "    - Предобработка данных;\n",
    "    - Исследовательский анализ данных;\n",
    "    - Подготовка данных для обучения моделей;\n",
    "    - Обучение моделей;\n",
    "    - Сравнение показателей точности и быстродействия моделей.\n",
    "    \n",
    "В рамках первичного осмотра было проведено короткое ознакомление с данными, были выявлены некоторые неточности и ошибки загрузки. В данном проекте, предобработку и ИАД было решено совместить, поскольку от заказачика не было запроса на выявление каких-либо закономерностей в представленной информации. Этап предобработки и ИАД помог подготовить данные для непосредственной подготовки к обучению. Были отсеяны некоторые неинвормативные признаки, удалены дубликаты, обработаны странные значения и аномалии. В качестве исслудемых моделей были выбраны CatBoost, Neural Network и обязательная по заданию LightGBM.\n",
    "В результате проведенной работы установлено, что наиболее точная модель - это CatBoost. При этом LightGBM немного уступает ей в точности но существенно превосходит в быстродействии.\n",
    "ПОэтому, исходя из требований заказчика (точность (RMSE), время обучения, время предсказания) стоит порекомендовать ему строить свое приложение для рыночной оценки авто на основе модели LightGBM."
   ]
  },
  {
   "cell_type": "code",
   "execution_count": null,
   "metadata": {},
   "outputs": [],
   "source": []
  }
 ],
 "metadata": {
  "ExecuteTimeLog": [
   {
    "duration": 2854,
    "start_time": "2024-06-10T10:50:30.560Z"
   },
   {
    "duration": 3000,
    "start_time": "2024-06-10T10:50:33.417Z"
   },
   {
    "duration": 252324,
    "start_time": "2024-06-10T10:50:36.419Z"
   },
   {
    "duration": 5124,
    "start_time": "2024-06-10T10:54:48.744Z"
   },
   {
    "duration": 6,
    "start_time": "2024-06-10T10:57:04.609Z"
   },
   {
    "duration": 4,
    "start_time": "2024-06-10T10:57:27.547Z"
   },
   {
    "duration": 2919,
    "start_time": "2024-06-10T11:01:13.243Z"
   },
   {
    "duration": 14,
    "start_time": "2024-06-10T11:03:00.153Z"
   },
   {
    "duration": 120,
    "start_time": "2024-06-10T11:03:11.623Z"
   },
   {
    "duration": 105,
    "start_time": "2024-06-10T11:03:32.142Z"
   },
   {
    "duration": 139,
    "start_time": "2024-06-10T11:03:50.419Z"
   },
   {
    "duration": 175,
    "start_time": "2024-06-10T11:04:40.292Z"
   },
   {
    "duration": 415,
    "start_time": "2024-06-10T11:05:19.762Z"
   },
   {
    "duration": 700,
    "start_time": "2024-06-10T11:36:57.270Z"
   },
   {
    "duration": 75,
    "start_time": "2024-06-10T11:37:42.340Z"
   },
   {
    "duration": 368,
    "start_time": "2024-06-10T11:37:50.960Z"
   },
   {
    "duration": 702,
    "start_time": "2024-06-10T11:38:00.593Z"
   },
   {
    "duration": 66,
    "start_time": "2024-06-10T11:38:06.394Z"
   },
   {
    "duration": 698,
    "start_time": "2024-06-10T11:38:18.616Z"
   },
   {
    "duration": 10,
    "start_time": "2024-06-10T11:38:22.582Z"
   },
   {
    "duration": 136,
    "start_time": "2024-06-10T11:38:25.037Z"
   },
   {
    "duration": 85,
    "start_time": "2024-06-10T11:38:25.567Z"
   },
   {
    "duration": 115,
    "start_time": "2024-06-10T11:38:26.414Z"
   },
   {
    "duration": 333,
    "start_time": "2024-06-10T11:38:27.300Z"
   },
   {
    "duration": 60,
    "start_time": "2024-06-10T11:38:30.667Z"
   },
   {
    "duration": 63,
    "start_time": "2024-06-10T11:38:40.492Z"
   },
   {
    "duration": 71,
    "start_time": "2024-06-10T11:38:58.674Z"
   },
   {
    "duration": 718,
    "start_time": "2024-06-10T11:39:26.964Z"
   },
   {
    "duration": 31,
    "start_time": "2024-06-10T11:40:35.300Z"
   },
   {
    "duration": 4,
    "start_time": "2024-06-10T11:42:08.637Z"
   },
   {
    "duration": 72,
    "start_time": "2024-06-10T11:42:11.285Z"
   },
   {
    "duration": 17,
    "start_time": "2024-06-10T11:42:39.273Z"
   },
   {
    "duration": 2,
    "start_time": "2024-06-10T11:49:27.951Z"
   },
   {
    "duration": 13,
    "start_time": "2024-06-10T12:04:27.679Z"
   },
   {
    "duration": 14,
    "start_time": "2024-06-10T12:06:07.863Z"
   },
   {
    "duration": 16,
    "start_time": "2024-06-10T12:06:31.418Z"
   },
   {
    "duration": 14,
    "start_time": "2024-06-10T12:06:58.564Z"
   },
   {
    "duration": 12,
    "start_time": "2024-06-10T12:07:21.230Z"
   },
   {
    "duration": 16,
    "start_time": "2024-06-10T12:07:37.420Z"
   },
   {
    "duration": 77,
    "start_time": "2024-06-10T12:08:43.151Z"
   },
   {
    "duration": 3,
    "start_time": "2024-06-10T12:09:15.898Z"
   },
   {
    "duration": 629,
    "start_time": "2024-06-10T12:09:16.478Z"
   },
   {
    "duration": 79,
    "start_time": "2024-06-10T12:09:18.151Z"
   },
   {
    "duration": 23,
    "start_time": "2024-06-10T12:09:29.477Z"
   },
   {
    "duration": 21,
    "start_time": "2024-06-10T12:09:30.190Z"
   },
   {
    "duration": 18,
    "start_time": "2024-06-10T12:14:06.402Z"
   },
   {
    "duration": 1716,
    "start_time": "2024-06-10T12:14:14.228Z"
   },
   {
    "duration": 3,
    "start_time": "2024-06-11T10:22:07.825Z"
   },
   {
    "duration": 2888,
    "start_time": "2024-06-11T10:22:15.664Z"
   },
   {
    "duration": 3606,
    "start_time": "2024-06-11T10:22:18.554Z"
   },
   {
    "duration": 3,
    "start_time": "2024-06-11T10:22:22.163Z"
   },
   {
    "duration": 1742,
    "start_time": "2024-06-11T10:22:22.168Z"
   },
   {
    "duration": 0,
    "start_time": "2024-06-11T10:22:23.913Z"
   },
   {
    "duration": 0,
    "start_time": "2024-06-11T10:22:23.915Z"
   },
   {
    "duration": 0,
    "start_time": "2024-06-11T10:22:23.916Z"
   },
   {
    "duration": 0,
    "start_time": "2024-06-11T10:22:23.917Z"
   },
   {
    "duration": 0,
    "start_time": "2024-06-11T10:22:23.918Z"
   },
   {
    "duration": 0,
    "start_time": "2024-06-11T10:22:23.919Z"
   },
   {
    "duration": 0,
    "start_time": "2024-06-11T10:22:23.920Z"
   },
   {
    "duration": 0,
    "start_time": "2024-06-11T10:22:23.922Z"
   },
   {
    "duration": 0,
    "start_time": "2024-06-11T10:22:23.923Z"
   },
   {
    "duration": 0,
    "start_time": "2024-06-11T10:22:23.924Z"
   },
   {
    "duration": 0,
    "start_time": "2024-06-11T10:22:23.925Z"
   },
   {
    "duration": 0,
    "start_time": "2024-06-11T10:22:23.926Z"
   },
   {
    "duration": 0,
    "start_time": "2024-06-11T10:22:23.927Z"
   },
   {
    "duration": 73,
    "start_time": "2024-06-11T10:23:08.687Z"
   },
   {
    "duration": 2584,
    "start_time": "2024-06-11T10:24:06.069Z"
   },
   {
    "duration": 2584,
    "start_time": "2024-06-11T10:24:08.655Z"
   },
   {
    "duration": 3,
    "start_time": "2024-06-11T10:24:11.241Z"
   },
   {
    "duration": 1438,
    "start_time": "2024-06-11T10:24:11.246Z"
   },
   {
    "duration": 3,
    "start_time": "2024-06-11T10:24:12.687Z"
   },
   {
    "duration": 1227,
    "start_time": "2024-06-11T10:24:12.692Z"
   },
   {
    "duration": 18,
    "start_time": "2024-06-11T10:24:13.920Z"
   },
   {
    "duration": 163,
    "start_time": "2024-06-11T10:24:13.939Z"
   },
   {
    "duration": 108,
    "start_time": "2024-06-11T10:24:14.104Z"
   },
   {
    "duration": 160,
    "start_time": "2024-06-11T10:24:14.214Z"
   },
   {
    "duration": 503,
    "start_time": "2024-06-11T10:24:14.375Z"
   },
   {
    "duration": 4,
    "start_time": "2024-06-11T10:24:14.880Z"
   },
   {
    "duration": 1042,
    "start_time": "2024-06-11T10:24:14.886Z"
   },
   {
    "duration": 21,
    "start_time": "2024-06-11T10:24:15.932Z"
   },
   {
    "duration": 43,
    "start_time": "2024-06-11T10:24:15.956Z"
   },
   {
    "duration": 21,
    "start_time": "2024-06-11T10:24:16.001Z"
   },
   {
    "duration": 1949,
    "start_time": "2024-06-11T10:24:16.024Z"
   },
   {
    "duration": 14,
    "start_time": "2024-06-11T10:33:01.518Z"
   },
   {
    "duration": 112,
    "start_time": "2024-06-11T10:33:19.409Z"
   },
   {
    "duration": 67,
    "start_time": "2024-06-11T10:33:47.481Z"
   },
   {
    "duration": 1996,
    "start_time": "2024-06-11T10:34:32.491Z"
   },
   {
    "duration": 1936,
    "start_time": "2024-06-11T10:35:16.645Z"
   },
   {
    "duration": 2603,
    "start_time": "2024-06-11T10:35:24.912Z"
   },
   {
    "duration": 2521,
    "start_time": "2024-06-11T10:35:27.519Z"
   },
   {
    "duration": 3,
    "start_time": "2024-06-11T10:35:30.042Z"
   },
   {
    "duration": 1575,
    "start_time": "2024-06-11T10:35:30.047Z"
   },
   {
    "duration": 4,
    "start_time": "2024-06-11T10:35:31.623Z"
   },
   {
    "duration": 964,
    "start_time": "2024-06-11T10:35:31.629Z"
   },
   {
    "duration": 19,
    "start_time": "2024-06-11T10:35:32.594Z"
   },
   {
    "duration": 176,
    "start_time": "2024-06-11T10:35:32.615Z"
   },
   {
    "duration": 112,
    "start_time": "2024-06-11T10:35:32.793Z"
   },
   {
    "duration": 156,
    "start_time": "2024-06-11T10:35:32.907Z"
   },
   {
    "duration": 511,
    "start_time": "2024-06-11T10:35:33.065Z"
   },
   {
    "duration": 3,
    "start_time": "2024-06-11T10:35:33.578Z"
   },
   {
    "duration": 925,
    "start_time": "2024-06-11T10:35:33.583Z"
   },
   {
    "duration": 17,
    "start_time": "2024-06-11T10:35:34.509Z"
   },
   {
    "duration": 20,
    "start_time": "2024-06-11T10:35:34.527Z"
   },
   {
    "duration": 18,
    "start_time": "2024-06-11T10:35:34.548Z"
   },
   {
    "duration": 2038,
    "start_time": "2024-06-11T10:35:34.568Z"
   },
   {
    "duration": 13,
    "start_time": "2024-06-11T10:35:36.608Z"
   },
   {
    "duration": 83,
    "start_time": "2024-06-11T10:35:36.623Z"
   },
   {
    "duration": 1918,
    "start_time": "2024-06-11T10:35:36.708Z"
   },
   {
    "duration": 41,
    "start_time": "2024-06-11T10:39:47.383Z"
   },
   {
    "duration": 128,
    "start_time": "2024-06-11T10:40:10.704Z"
   },
   {
    "duration": 252,
    "start_time": "2024-06-11T10:40:20.161Z"
   },
   {
    "duration": 24,
    "start_time": "2024-06-11T10:58:01.671Z"
   },
   {
    "duration": 267,
    "start_time": "2024-06-11T10:58:10.893Z"
   },
   {
    "duration": 190,
    "start_time": "2024-06-11T11:01:49.901Z"
   },
   {
    "duration": 56,
    "start_time": "2024-06-11T11:07:06.232Z"
   },
   {
    "duration": 93,
    "start_time": "2024-06-11T11:07:22.469Z"
   },
   {
    "duration": 202,
    "start_time": "2024-06-11T11:07:30.994Z"
   },
   {
    "duration": 199,
    "start_time": "2024-06-11T11:10:52.083Z"
   },
   {
    "duration": 68,
    "start_time": "2024-06-11T11:11:20.201Z"
   },
   {
    "duration": 241,
    "start_time": "2024-06-11T11:11:30.030Z"
   },
   {
    "duration": 237,
    "start_time": "2024-06-11T11:11:39.038Z"
   },
   {
    "duration": 1882,
    "start_time": "2024-06-11T11:11:51.720Z"
   },
   {
    "duration": 22,
    "start_time": "2024-06-11T11:14:33.659Z"
   },
   {
    "duration": 39,
    "start_time": "2024-06-11T11:14:36.696Z"
   },
   {
    "duration": 2655,
    "start_time": "2024-06-11T11:15:03.176Z"
   },
   {
    "duration": 2584,
    "start_time": "2024-06-11T11:15:05.833Z"
   },
   {
    "duration": 3,
    "start_time": "2024-06-11T11:15:08.420Z"
   },
   {
    "duration": 1467,
    "start_time": "2024-06-11T11:15:08.426Z"
   },
   {
    "duration": 5,
    "start_time": "2024-06-11T11:15:09.895Z"
   },
   {
    "duration": 952,
    "start_time": "2024-06-11T11:15:09.901Z"
   },
   {
    "duration": 17,
    "start_time": "2024-06-11T11:15:10.855Z"
   },
   {
    "duration": 176,
    "start_time": "2024-06-11T11:15:10.874Z"
   },
   {
    "duration": 113,
    "start_time": "2024-06-11T11:15:11.052Z"
   },
   {
    "duration": 151,
    "start_time": "2024-06-11T11:15:11.168Z"
   },
   {
    "duration": 506,
    "start_time": "2024-06-11T11:15:11.321Z"
   },
   {
    "duration": 4,
    "start_time": "2024-06-11T11:15:11.829Z"
   },
   {
    "duration": 946,
    "start_time": "2024-06-11T11:15:11.835Z"
   },
   {
    "duration": 22,
    "start_time": "2024-06-11T11:15:12.783Z"
   },
   {
    "duration": 20,
    "start_time": "2024-06-11T11:15:12.806Z"
   },
   {
    "duration": 18,
    "start_time": "2024-06-11T11:15:12.828Z"
   },
   {
    "duration": 2029,
    "start_time": "2024-06-11T11:15:12.848Z"
   },
   {
    "duration": 23,
    "start_time": "2024-06-11T11:15:14.878Z"
   },
   {
    "duration": 68,
    "start_time": "2024-06-11T11:15:14.902Z"
   },
   {
    "duration": 2000,
    "start_time": "2024-06-11T11:15:14.972Z"
   },
   {
    "duration": 43,
    "start_time": "2024-06-11T11:15:16.973Z"
   },
   {
    "duration": 252,
    "start_time": "2024-06-11T11:15:17.018Z"
   },
   {
    "duration": 27,
    "start_time": "2024-06-11T11:15:17.272Z"
   },
   {
    "duration": 259,
    "start_time": "2024-06-11T11:15:17.301Z"
   },
   {
    "duration": 188,
    "start_time": "2024-06-11T11:15:17.561Z"
   },
   {
    "duration": 93,
    "start_time": "2024-06-11T11:15:17.750Z"
   },
   {
    "duration": 201,
    "start_time": "2024-06-11T11:15:17.845Z"
   },
   {
    "duration": 58,
    "start_time": "2024-06-11T11:15:18.051Z"
   },
   {
    "duration": 1653,
    "start_time": "2024-06-11T11:15:18.111Z"
   },
   {
    "duration": 38,
    "start_time": "2024-06-11T11:15:19.765Z"
   },
   {
    "duration": 217,
    "start_time": "2024-06-11T11:15:19.805Z"
   },
   {
    "duration": 22,
    "start_time": "2024-06-11T11:15:20.024Z"
   },
   {
    "duration": 230,
    "start_time": "2024-06-11T11:15:20.048Z"
   },
   {
    "duration": 22,
    "start_time": "2024-06-11T11:24:39.897Z"
   },
   {
    "duration": 19,
    "start_time": "2024-06-11T11:25:50.446Z"
   },
   {
    "duration": 356,
    "start_time": "2024-06-11T11:26:02.540Z"
   },
   {
    "duration": 15666,
    "start_time": "2024-06-11T11:26:17.780Z"
   },
   {
    "duration": 13,
    "start_time": "2024-06-11T11:30:41.415Z"
   },
   {
    "duration": 35,
    "start_time": "2024-06-11T11:30:56.645Z"
   },
   {
    "duration": 78,
    "start_time": "2024-06-11T11:31:59.392Z"
   },
   {
    "duration": 3246,
    "start_time": "2024-06-11T11:32:09.262Z"
   },
   {
    "duration": 61,
    "start_time": "2024-06-11T11:36:01.608Z"
   },
   {
    "duration": 1987,
    "start_time": "2024-06-11T11:36:08.103Z"
   },
   {
    "duration": 23,
    "start_time": "2024-06-11T11:38:24.804Z"
   },
   {
    "duration": 30,
    "start_time": "2024-06-11T11:43:19.002Z"
   },
   {
    "duration": 1863,
    "start_time": "2024-06-11T11:43:27.923Z"
   },
   {
    "duration": 53,
    "start_time": "2024-06-11T11:44:46.407Z"
   },
   {
    "duration": 83,
    "start_time": "2024-06-11T11:45:17.675Z"
   },
   {
    "duration": 83,
    "start_time": "2024-06-11T11:45:25.268Z"
   },
   {
    "duration": 51,
    "start_time": "2024-06-11T11:45:37.523Z"
   },
   {
    "duration": 57,
    "start_time": "2024-06-11T11:45:39.313Z"
   },
   {
    "duration": 37,
    "start_time": "2024-06-11T11:45:52.397Z"
   },
   {
    "duration": 9,
    "start_time": "2024-06-11T11:48:06.032Z"
   },
   {
    "duration": 50,
    "start_time": "2024-06-11T11:48:13.655Z"
   },
   {
    "duration": 14,
    "start_time": "2024-06-11T11:49:02.202Z"
   },
   {
    "duration": 9,
    "start_time": "2024-06-11T11:49:27.395Z"
   },
   {
    "duration": 292,
    "start_time": "2024-06-11T11:49:35.635Z"
   },
   {
    "duration": 5,
    "start_time": "2024-06-11T11:51:49.131Z"
   },
   {
    "duration": 41,
    "start_time": "2024-06-11T12:08:37.900Z"
   },
   {
    "duration": 12,
    "start_time": "2024-06-11T12:08:55.442Z"
   },
   {
    "duration": 246,
    "start_time": "2024-06-11T12:09:04.094Z"
   },
   {
    "duration": 57,
    "start_time": "2024-06-11T12:10:37.679Z"
   },
   {
    "duration": 10,
    "start_time": "2024-06-11T12:11:25.581Z"
   },
   {
    "duration": 54,
    "start_time": "2024-06-11T12:11:38.629Z"
   },
   {
    "duration": 20,
    "start_time": "2024-06-11T12:12:05.719Z"
   },
   {
    "duration": 52,
    "start_time": "2024-06-11T12:12:19.359Z"
   },
   {
    "duration": 50,
    "start_time": "2024-06-11T12:12:29.763Z"
   },
   {
    "duration": 49,
    "start_time": "2024-06-11T12:12:30.571Z"
   },
   {
    "duration": 5,
    "start_time": "2024-06-11T12:13:56.563Z"
   },
   {
    "duration": 61,
    "start_time": "2024-06-11T12:14:26.887Z"
   },
   {
    "duration": 2714,
    "start_time": "2024-06-11T12:16:58.772Z"
   },
   {
    "duration": 2599,
    "start_time": "2024-06-11T12:17:01.490Z"
   },
   {
    "duration": 2,
    "start_time": "2024-06-11T12:17:04.092Z"
   },
   {
    "duration": 1605,
    "start_time": "2024-06-11T12:17:04.096Z"
   },
   {
    "duration": 5,
    "start_time": "2024-06-11T12:17:05.702Z"
   },
   {
    "duration": 1009,
    "start_time": "2024-06-11T12:17:05.708Z"
   },
   {
    "duration": 17,
    "start_time": "2024-06-11T12:17:06.719Z"
   },
   {
    "duration": 172,
    "start_time": "2024-06-11T12:17:06.737Z"
   },
   {
    "duration": 109,
    "start_time": "2024-06-11T12:17:06.911Z"
   },
   {
    "duration": 155,
    "start_time": "2024-06-11T12:17:07.023Z"
   },
   {
    "duration": 524,
    "start_time": "2024-06-11T12:17:07.179Z"
   },
   {
    "duration": 4,
    "start_time": "2024-06-11T12:17:07.704Z"
   },
   {
    "duration": 1031,
    "start_time": "2024-06-11T12:17:07.710Z"
   },
   {
    "duration": 16,
    "start_time": "2024-06-11T12:17:08.742Z"
   },
   {
    "duration": 19,
    "start_time": "2024-06-11T12:17:08.760Z"
   },
   {
    "duration": 35,
    "start_time": "2024-06-11T12:17:08.781Z"
   },
   {
    "duration": 1998,
    "start_time": "2024-06-11T12:17:08.817Z"
   },
   {
    "duration": 18,
    "start_time": "2024-06-11T12:17:10.817Z"
   },
   {
    "duration": 89,
    "start_time": "2024-06-11T12:17:10.836Z"
   },
   {
    "duration": 2167,
    "start_time": "2024-06-11T12:17:10.927Z"
   },
   {
    "duration": 45,
    "start_time": "2024-06-11T12:17:13.096Z"
   },
   {
    "duration": 275,
    "start_time": "2024-06-11T12:17:13.143Z"
   },
   {
    "duration": 25,
    "start_time": "2024-06-11T12:17:13.420Z"
   },
   {
    "duration": 283,
    "start_time": "2024-06-11T12:17:13.447Z"
   },
   {
    "duration": 190,
    "start_time": "2024-06-11T12:17:13.732Z"
   },
   {
    "duration": 111,
    "start_time": "2024-06-11T12:17:13.924Z"
   },
   {
    "duration": 200,
    "start_time": "2024-06-11T12:17:14.037Z"
   },
   {
    "duration": 33,
    "start_time": "2024-06-11T12:17:14.241Z"
   },
   {
    "duration": 1762,
    "start_time": "2024-06-11T12:17:14.275Z"
   },
   {
    "duration": 39,
    "start_time": "2024-06-11T12:17:16.039Z"
   },
   {
    "duration": 222,
    "start_time": "2024-06-11T12:17:16.079Z"
   },
   {
    "duration": 22,
    "start_time": "2024-06-11T12:17:16.303Z"
   },
   {
    "duration": 238,
    "start_time": "2024-06-11T12:17:16.326Z"
   },
   {
    "duration": 19,
    "start_time": "2024-06-11T12:17:16.566Z"
   },
   {
    "duration": 102,
    "start_time": "2024-06-11T12:17:16.599Z"
   },
   {
    "duration": 2747,
    "start_time": "2024-06-11T12:17:16.703Z"
   },
   {
    "duration": 66,
    "start_time": "2024-06-11T12:17:19.451Z"
   },
   {
    "duration": 2038,
    "start_time": "2024-06-11T12:17:19.519Z"
   },
   {
    "duration": 82,
    "start_time": "2024-06-11T12:17:21.559Z"
   },
   {
    "duration": 0,
    "start_time": "2024-06-11T12:17:21.643Z"
   },
   {
    "duration": 0,
    "start_time": "2024-06-11T12:17:21.644Z"
   },
   {
    "duration": 0,
    "start_time": "2024-06-11T12:17:21.646Z"
   },
   {
    "duration": 0,
    "start_time": "2024-06-11T12:17:21.648Z"
   },
   {
    "duration": 0,
    "start_time": "2024-06-11T12:17:21.649Z"
   },
   {
    "duration": 0,
    "start_time": "2024-06-11T12:17:21.651Z"
   },
   {
    "duration": 0,
    "start_time": "2024-06-11T12:17:21.652Z"
   },
   {
    "duration": 0,
    "start_time": "2024-06-11T12:17:21.654Z"
   },
   {
    "duration": 0,
    "start_time": "2024-06-11T12:17:21.655Z"
   },
   {
    "duration": 0,
    "start_time": "2024-06-11T12:17:21.657Z"
   },
   {
    "duration": 1,
    "start_time": "2024-06-11T12:17:21.658Z"
   },
   {
    "duration": 0,
    "start_time": "2024-06-11T12:17:21.660Z"
   },
   {
    "duration": 0,
    "start_time": "2024-06-11T12:17:21.661Z"
   },
   {
    "duration": 0,
    "start_time": "2024-06-11T12:17:21.663Z"
   },
   {
    "duration": 2762,
    "start_time": "2024-06-11T12:18:02.242Z"
   },
   {
    "duration": 2702,
    "start_time": "2024-06-11T12:18:05.007Z"
   },
   {
    "duration": 3,
    "start_time": "2024-06-11T12:18:07.712Z"
   },
   {
    "duration": 1596,
    "start_time": "2024-06-11T12:18:07.717Z"
   },
   {
    "duration": 5,
    "start_time": "2024-06-11T12:18:09.315Z"
   },
   {
    "duration": 994,
    "start_time": "2024-06-11T12:18:09.323Z"
   },
   {
    "duration": 19,
    "start_time": "2024-06-11T12:18:10.318Z"
   },
   {
    "duration": 190,
    "start_time": "2024-06-11T12:18:10.338Z"
   },
   {
    "duration": 115,
    "start_time": "2024-06-11T12:18:10.530Z"
   },
   {
    "duration": 161,
    "start_time": "2024-06-11T12:18:10.648Z"
   },
   {
    "duration": 529,
    "start_time": "2024-06-11T12:18:10.811Z"
   },
   {
    "duration": 5,
    "start_time": "2024-06-11T12:18:11.342Z"
   },
   {
    "duration": 984,
    "start_time": "2024-06-11T12:18:11.349Z"
   },
   {
    "duration": 17,
    "start_time": "2024-06-11T12:18:12.335Z"
   },
   {
    "duration": 48,
    "start_time": "2024-06-11T12:18:12.353Z"
   },
   {
    "duration": 23,
    "start_time": "2024-06-11T12:18:12.403Z"
   },
   {
    "duration": 2095,
    "start_time": "2024-06-11T12:18:12.428Z"
   },
   {
    "duration": 16,
    "start_time": "2024-06-11T12:18:14.525Z"
   },
   {
    "duration": 90,
    "start_time": "2024-06-11T12:18:14.544Z"
   },
   {
    "duration": 2032,
    "start_time": "2024-06-11T12:18:14.636Z"
   },
   {
    "duration": 48,
    "start_time": "2024-06-11T12:18:16.670Z"
   },
   {
    "duration": 265,
    "start_time": "2024-06-11T12:18:16.720Z"
   },
   {
    "duration": 23,
    "start_time": "2024-06-11T12:18:16.986Z"
   },
   {
    "duration": 277,
    "start_time": "2024-06-11T12:18:17.011Z"
   },
   {
    "duration": 197,
    "start_time": "2024-06-11T12:18:17.289Z"
   },
   {
    "duration": 89,
    "start_time": "2024-06-11T12:18:17.488Z"
   },
   {
    "duration": 240,
    "start_time": "2024-06-11T12:18:17.580Z"
   },
   {
    "duration": 50,
    "start_time": "2024-06-11T12:18:17.824Z"
   },
   {
    "duration": 1770,
    "start_time": "2024-06-11T12:18:17.876Z"
   },
   {
    "duration": 52,
    "start_time": "2024-06-11T12:18:19.649Z"
   },
   {
    "duration": 234,
    "start_time": "2024-06-11T12:18:19.703Z"
   },
   {
    "duration": 28,
    "start_time": "2024-06-11T12:18:19.940Z"
   },
   {
    "duration": 226,
    "start_time": "2024-06-11T12:18:19.970Z"
   },
   {
    "duration": 25,
    "start_time": "2024-06-11T12:18:20.198Z"
   },
   {
    "duration": 95,
    "start_time": "2024-06-11T12:18:20.225Z"
   },
   {
    "duration": 2766,
    "start_time": "2024-06-11T12:18:20.322Z"
   },
   {
    "duration": 62,
    "start_time": "2024-06-11T12:18:23.089Z"
   },
   {
    "duration": 2174,
    "start_time": "2024-06-11T12:18:23.152Z"
   },
   {
    "duration": 33,
    "start_time": "2024-06-11T12:18:25.329Z"
   },
   {
    "duration": 60,
    "start_time": "2024-06-11T12:18:25.364Z"
   },
   {
    "duration": 1970,
    "start_time": "2024-06-11T12:18:25.426Z"
   },
   {
    "duration": 55,
    "start_time": "2024-06-11T12:18:27.398Z"
   },
   {
    "duration": 58,
    "start_time": "2024-06-11T12:18:27.454Z"
   },
   {
    "duration": 54,
    "start_time": "2024-06-11T12:18:27.514Z"
   },
   {
    "duration": 6,
    "start_time": "2024-06-11T12:18:27.569Z"
   },
   {
    "duration": 14,
    "start_time": "2024-06-11T12:18:27.600Z"
   },
   {
    "duration": 337,
    "start_time": "2024-06-11T12:18:27.616Z"
   },
   {
    "duration": 48,
    "start_time": "2024-06-11T12:18:27.954Z"
   },
   {
    "duration": 261,
    "start_time": "2024-06-11T12:18:28.004Z"
   },
   {
    "duration": 58,
    "start_time": "2024-06-11T12:18:28.267Z"
   },
   {
    "duration": 4,
    "start_time": "2024-06-11T12:18:28.327Z"
   },
   {
    "duration": 80,
    "start_time": "2024-06-11T12:18:28.332Z"
   },
   {
    "duration": 37,
    "start_time": "2024-06-11T12:19:04.769Z"
   },
   {
    "duration": 134,
    "start_time": "2024-06-11T12:19:14.047Z"
   },
   {
    "duration": 237,
    "start_time": "2024-06-11T12:19:23.519Z"
   },
   {
    "duration": 2727,
    "start_time": "2024-06-11T12:19:34.834Z"
   },
   {
    "duration": 2609,
    "start_time": "2024-06-11T12:19:37.563Z"
   },
   {
    "duration": 3,
    "start_time": "2024-06-11T12:19:40.174Z"
   },
   {
    "duration": 1541,
    "start_time": "2024-06-11T12:19:40.179Z"
   },
   {
    "duration": 4,
    "start_time": "2024-06-11T12:19:41.721Z"
   },
   {
    "duration": 948,
    "start_time": "2024-06-11T12:19:41.727Z"
   },
   {
    "duration": 27,
    "start_time": "2024-06-11T12:19:42.678Z"
   },
   {
    "duration": 154,
    "start_time": "2024-06-11T12:19:42.706Z"
   },
   {
    "duration": 158,
    "start_time": "2024-06-11T12:19:42.861Z"
   },
   {
    "duration": 150,
    "start_time": "2024-06-11T12:19:43.022Z"
   },
   {
    "duration": 490,
    "start_time": "2024-06-11T12:19:43.174Z"
   },
   {
    "duration": 4,
    "start_time": "2024-06-11T12:19:43.665Z"
   },
   {
    "duration": 1011,
    "start_time": "2024-06-11T12:19:43.670Z"
   },
   {
    "duration": 30,
    "start_time": "2024-06-11T12:19:44.683Z"
   },
   {
    "duration": 19,
    "start_time": "2024-06-11T12:19:44.714Z"
   },
   {
    "duration": 25,
    "start_time": "2024-06-11T12:19:44.735Z"
   },
   {
    "duration": 2029,
    "start_time": "2024-06-11T12:19:44.762Z"
   },
   {
    "duration": 14,
    "start_time": "2024-06-11T12:19:46.792Z"
   },
   {
    "duration": 71,
    "start_time": "2024-06-11T12:19:46.807Z"
   },
   {
    "duration": 1945,
    "start_time": "2024-06-11T12:19:46.880Z"
   },
   {
    "duration": 42,
    "start_time": "2024-06-11T12:19:48.827Z"
   },
   {
    "duration": 261,
    "start_time": "2024-06-11T12:19:48.871Z"
   },
   {
    "duration": 23,
    "start_time": "2024-06-11T12:19:49.134Z"
   },
   {
    "duration": 276,
    "start_time": "2024-06-11T12:19:49.159Z"
   },
   {
    "duration": 189,
    "start_time": "2024-06-11T12:19:49.436Z"
   },
   {
    "duration": 134,
    "start_time": "2024-06-11T12:19:49.627Z"
   },
   {
    "duration": 197,
    "start_time": "2024-06-11T12:19:49.763Z"
   },
   {
    "duration": 70,
    "start_time": "2024-06-11T12:19:49.966Z"
   },
   {
    "duration": 1630,
    "start_time": "2024-06-11T12:19:50.037Z"
   },
   {
    "duration": 48,
    "start_time": "2024-06-11T12:19:51.668Z"
   },
   {
    "duration": 229,
    "start_time": "2024-06-11T12:19:51.718Z"
   },
   {
    "duration": 24,
    "start_time": "2024-06-11T12:19:51.949Z"
   },
   {
    "duration": 229,
    "start_time": "2024-06-11T12:19:51.975Z"
   },
   {
    "duration": 20,
    "start_time": "2024-06-11T12:19:52.206Z"
   },
   {
    "duration": 116,
    "start_time": "2024-06-11T12:19:52.228Z"
   },
   {
    "duration": 2645,
    "start_time": "2024-06-11T12:19:52.346Z"
   },
   {
    "duration": 58,
    "start_time": "2024-06-11T12:19:54.993Z"
   },
   {
    "duration": 2226,
    "start_time": "2024-06-11T12:19:55.052Z"
   },
   {
    "duration": 34,
    "start_time": "2024-06-11T12:19:57.279Z"
   },
   {
    "duration": 33,
    "start_time": "2024-06-11T12:19:57.314Z"
   },
   {
    "duration": 1807,
    "start_time": "2024-06-11T12:19:57.349Z"
   },
   {
    "duration": 56,
    "start_time": "2024-06-11T12:19:59.158Z"
   },
   {
    "duration": 50,
    "start_time": "2024-06-11T12:19:59.216Z"
   },
   {
    "duration": 84,
    "start_time": "2024-06-11T12:19:59.267Z"
   },
   {
    "duration": 5,
    "start_time": "2024-06-11T12:19:59.352Z"
   },
   {
    "duration": 15,
    "start_time": "2024-06-11T12:19:59.358Z"
   },
   {
    "duration": 292,
    "start_time": "2024-06-11T12:19:59.375Z"
   },
   {
    "duration": 42,
    "start_time": "2024-06-11T12:19:59.669Z"
   },
   {
    "duration": 255,
    "start_time": "2024-06-11T12:19:59.712Z"
   },
   {
    "duration": 59,
    "start_time": "2024-06-11T12:19:59.969Z"
   },
   {
    "duration": 4,
    "start_time": "2024-06-11T12:20:00.030Z"
   },
   {
    "duration": 92,
    "start_time": "2024-06-11T12:20:00.035Z"
   },
   {
    "duration": 37,
    "start_time": "2024-06-11T12:20:00.129Z"
   },
   {
    "duration": 311,
    "start_time": "2024-06-11T12:20:00.168Z"
   },
   {
    "duration": 3,
    "start_time": "2024-06-11T12:21:04.750Z"
   },
   {
    "duration": 22,
    "start_time": "2024-06-11T12:21:21.961Z"
   },
   {
    "duration": 36,
    "start_time": "2024-06-11T12:21:41.022Z"
   },
   {
    "duration": 128,
    "start_time": "2024-06-11T12:21:53.489Z"
   },
   {
    "duration": 655,
    "start_time": "2024-06-11T12:22:01.016Z"
   },
   {
    "duration": 13,
    "start_time": "2024-06-11T12:24:25.865Z"
   },
   {
    "duration": 19,
    "start_time": "2024-06-11T12:24:36.843Z"
   },
   {
    "duration": 39,
    "start_time": "2024-06-11T12:24:51.706Z"
   },
   {
    "duration": 16,
    "start_time": "2024-06-11T12:25:09.972Z"
   },
   {
    "duration": 505,
    "start_time": "2024-06-11T12:25:20.684Z"
   },
   {
    "duration": 10,
    "start_time": "2024-06-11T12:27:25.386Z"
   },
   {
    "duration": 24,
    "start_time": "2024-06-11T12:27:37.330Z"
   },
   {
    "duration": 329,
    "start_time": "2024-06-11T12:28:27.900Z"
   },
   {
    "duration": 19,
    "start_time": "2024-06-11T12:28:54.277Z"
   },
   {
    "duration": 3,
    "start_time": "2024-06-11T12:31:00.440Z"
   },
   {
    "duration": 4,
    "start_time": "2024-06-11T12:43:31.748Z"
   },
   {
    "duration": 54,
    "start_time": "2024-06-11T12:45:55.432Z"
   },
   {
    "duration": 18,
    "start_time": "2024-06-11T12:45:59.179Z"
   },
   {
    "duration": 11,
    "start_time": "2024-06-11T12:47:39.736Z"
   },
   {
    "duration": 23,
    "start_time": "2024-06-11T12:47:48.885Z"
   },
   {
    "duration": 3,
    "start_time": "2024-06-11T12:47:49.825Z"
   },
   {
    "duration": 55,
    "start_time": "2024-06-11T12:47:50.942Z"
   },
   {
    "duration": 48,
    "start_time": "2024-06-11T12:47:52.603Z"
   },
   {
    "duration": 70,
    "start_time": "2024-06-11T12:49:02.092Z"
   },
   {
    "duration": 10,
    "start_time": "2024-06-11T13:00:36.653Z"
   },
   {
    "duration": 11,
    "start_time": "2024-06-11T13:00:38.030Z"
   },
   {
    "duration": 4,
    "start_time": "2024-06-11T13:00:38.834Z"
   },
   {
    "duration": 2,
    "start_time": "2024-06-11T13:01:38.688Z"
   },
   {
    "duration": 2,
    "start_time": "2024-06-11T13:02:35.196Z"
   },
   {
    "duration": 27,
    "start_time": "2024-06-11T13:02:35.831Z"
   },
   {
    "duration": 897,
    "start_time": "2024-06-11T13:02:37.999Z"
   },
   {
    "duration": 3,
    "start_time": "2024-06-11T13:02:52.111Z"
   },
   {
    "duration": 11,
    "start_time": "2024-06-11T13:02:52.610Z"
   },
   {
    "duration": 150,
    "start_time": "2024-06-11T13:02:53.466Z"
   },
   {
    "duration": 4,
    "start_time": "2024-06-11T13:02:56.492Z"
   },
   {
    "duration": 531182,
    "start_time": "2024-06-11T13:02:58.819Z"
   },
   {
    "duration": 67,
    "start_time": "2024-06-11T13:13:44.414Z"
   },
   {
    "duration": 3,
    "start_time": "2024-06-11T13:13:49.317Z"
   },
   {
    "duration": 6634,
    "start_time": "2024-06-11T13:13:51.569Z"
   },
   {
    "duration": 599,
    "start_time": "2024-06-11T13:13:58.205Z"
   },
   {
    "duration": 6,
    "start_time": "2024-06-11T13:13:58.806Z"
   },
   {
    "duration": 2272,
    "start_time": "2024-06-11T13:14:14.937Z"
   },
   {
    "duration": 598,
    "start_time": "2024-06-11T13:14:17.211Z"
   },
   {
    "duration": 88,
    "start_time": "2024-06-11T13:14:17.811Z"
   },
   {
    "duration": 99,
    "start_time": "2024-06-11T13:14:23.416Z"
   },
   {
    "duration": 7428,
    "start_time": "2024-06-11T13:14:24.976Z"
   },
   {
    "duration": 706,
    "start_time": "2024-06-11T13:14:32.406Z"
   },
   {
    "duration": 6,
    "start_time": "2024-06-11T13:14:33.113Z"
   },
   {
    "duration": 255,
    "start_time": "2024-06-11T13:19:28.475Z"
   },
   {
    "duration": 246,
    "start_time": "2024-06-11T13:20:51.290Z"
   },
   {
    "duration": 51,
    "start_time": "2024-06-11T13:20:52.144Z"
   },
   {
    "duration": 3,
    "start_time": "2024-06-11T13:20:52.877Z"
   },
   {
    "duration": 2,
    "start_time": "2024-06-11T13:20:53.646Z"
   },
   {
    "duration": 829,
    "start_time": "2024-06-11T13:20:54.425Z"
   },
   {
    "duration": 12,
    "start_time": "2024-06-11T13:20:55.262Z"
   },
   {
    "duration": 2740,
    "start_time": "2024-06-11T13:23:49.887Z"
   },
   {
    "duration": 2628,
    "start_time": "2024-06-11T13:23:52.629Z"
   },
   {
    "duration": 3,
    "start_time": "2024-06-11T13:23:55.259Z"
   },
   {
    "duration": 1569,
    "start_time": "2024-06-11T13:23:55.264Z"
   },
   {
    "duration": 4,
    "start_time": "2024-06-11T13:23:56.835Z"
   },
   {
    "duration": 980,
    "start_time": "2024-06-11T13:23:56.840Z"
   },
   {
    "duration": 18,
    "start_time": "2024-06-11T13:23:57.821Z"
   },
   {
    "duration": 181,
    "start_time": "2024-06-11T13:23:57.841Z"
   },
   {
    "duration": 119,
    "start_time": "2024-06-11T13:23:58.024Z"
   },
   {
    "duration": 162,
    "start_time": "2024-06-11T13:23:58.147Z"
   },
   {
    "duration": 534,
    "start_time": "2024-06-11T13:23:58.311Z"
   },
   {
    "duration": 3,
    "start_time": "2024-06-11T13:23:58.847Z"
   },
   {
    "duration": 961,
    "start_time": "2024-06-11T13:23:58.852Z"
   },
   {
    "duration": 16,
    "start_time": "2024-06-11T13:23:59.815Z"
   },
   {
    "duration": 21,
    "start_time": "2024-06-11T13:23:59.832Z"
   },
   {
    "duration": 49,
    "start_time": "2024-06-11T13:23:59.855Z"
   },
   {
    "duration": 2022,
    "start_time": "2024-06-11T13:23:59.905Z"
   },
   {
    "duration": 16,
    "start_time": "2024-06-11T13:24:01.929Z"
   },
   {
    "duration": 91,
    "start_time": "2024-06-11T13:24:01.947Z"
   },
   {
    "duration": 2210,
    "start_time": "2024-06-11T13:24:02.040Z"
   },
   {
    "duration": 51,
    "start_time": "2024-06-11T13:24:04.252Z"
   },
   {
    "duration": 295,
    "start_time": "2024-06-11T13:24:04.304Z"
   },
   {
    "duration": 22,
    "start_time": "2024-06-11T13:24:04.601Z"
   },
   {
    "duration": 283,
    "start_time": "2024-06-11T13:24:04.625Z"
   },
   {
    "duration": 197,
    "start_time": "2024-06-11T13:24:04.910Z"
   },
   {
    "duration": 96,
    "start_time": "2024-06-11T13:24:05.109Z"
   },
   {
    "duration": 205,
    "start_time": "2024-06-11T13:24:05.207Z"
   },
   {
    "duration": 51,
    "start_time": "2024-06-11T13:24:05.416Z"
   },
   {
    "duration": 1778,
    "start_time": "2024-06-11T13:24:05.469Z"
   },
   {
    "duration": 53,
    "start_time": "2024-06-11T13:24:07.249Z"
   },
   {
    "duration": 232,
    "start_time": "2024-06-11T13:24:07.304Z"
   },
   {
    "duration": 23,
    "start_time": "2024-06-11T13:24:07.537Z"
   },
   {
    "duration": 222,
    "start_time": "2024-06-11T13:24:07.561Z"
   },
   {
    "duration": 29,
    "start_time": "2024-06-11T13:24:07.785Z"
   },
   {
    "duration": 87,
    "start_time": "2024-06-11T13:24:07.816Z"
   },
   {
    "duration": 2761,
    "start_time": "2024-06-11T13:24:07.905Z"
   },
   {
    "duration": 71,
    "start_time": "2024-06-11T13:24:10.668Z"
   },
   {
    "duration": 2086,
    "start_time": "2024-06-11T13:24:10.741Z"
   },
   {
    "duration": 25,
    "start_time": "2024-06-11T13:24:12.828Z"
   },
   {
    "duration": 53,
    "start_time": "2024-06-11T13:24:12.854Z"
   },
   {
    "duration": 1844,
    "start_time": "2024-06-11T13:24:12.909Z"
   },
   {
    "duration": 58,
    "start_time": "2024-06-11T13:24:14.755Z"
   },
   {
    "duration": 37,
    "start_time": "2024-06-11T13:24:14.814Z"
   },
   {
    "duration": 77,
    "start_time": "2024-06-11T13:24:14.853Z"
   },
   {
    "duration": 5,
    "start_time": "2024-06-11T13:24:14.932Z"
   },
   {
    "duration": 16,
    "start_time": "2024-06-11T13:24:14.938Z"
   },
   {
    "duration": 325,
    "start_time": "2024-06-11T13:24:14.956Z"
   },
   {
    "duration": 43,
    "start_time": "2024-06-11T13:24:15.283Z"
   },
   {
    "duration": 261,
    "start_time": "2024-06-11T13:24:15.328Z"
   },
   {
    "duration": 49,
    "start_time": "2024-06-11T13:24:15.591Z"
   },
   {
    "duration": 4,
    "start_time": "2024-06-11T13:24:15.642Z"
   },
   {
    "duration": 82,
    "start_time": "2024-06-11T13:24:15.647Z"
   },
   {
    "duration": 38,
    "start_time": "2024-06-11T13:24:15.730Z"
   },
   {
    "duration": 287,
    "start_time": "2024-06-11T13:24:15.770Z"
   },
   {
    "duration": 42,
    "start_time": "2024-06-11T13:24:16.059Z"
   },
   {
    "duration": 655,
    "start_time": "2024-06-11T13:24:16.102Z"
   },
   {
    "duration": 19,
    "start_time": "2024-06-11T13:24:16.759Z"
   },
   {
    "duration": 49,
    "start_time": "2024-06-11T13:24:16.780Z"
   },
   {
    "duration": 505,
    "start_time": "2024-06-11T13:24:16.830Z"
   },
   {
    "duration": 20,
    "start_time": "2024-06-11T13:24:17.337Z"
   },
   {
    "duration": 352,
    "start_time": "2024-06-11T13:24:17.359Z"
   },
   {
    "duration": 14,
    "start_time": "2024-06-11T13:24:17.712Z"
   },
   {
    "duration": 3,
    "start_time": "2024-06-11T13:24:17.727Z"
   },
   {
    "duration": 83,
    "start_time": "2024-06-11T13:24:17.732Z"
   },
   {
    "duration": 48,
    "start_time": "2024-06-11T13:24:17.817Z"
   },
   {
    "duration": 3,
    "start_time": "2024-06-11T13:24:17.867Z"
   },
   {
    "duration": 33,
    "start_time": "2024-06-11T13:24:17.871Z"
   },
   {
    "duration": 165,
    "start_time": "2024-06-11T13:24:17.905Z"
   },
   {
    "duration": 4,
    "start_time": "2024-06-11T13:24:18.072Z"
   },
   {
    "duration": 2784,
    "start_time": "2024-06-11T13:25:00.859Z"
   },
   {
    "duration": 2797,
    "start_time": "2024-06-11T13:25:03.645Z"
   },
   {
    "duration": 3,
    "start_time": "2024-06-11T13:25:06.444Z"
   },
   {
    "duration": 1532,
    "start_time": "2024-06-11T13:25:06.450Z"
   },
   {
    "duration": 4,
    "start_time": "2024-06-11T13:25:07.984Z"
   },
   {
    "duration": 1014,
    "start_time": "2024-06-11T13:25:07.990Z"
   },
   {
    "duration": 18,
    "start_time": "2024-06-11T13:25:09.006Z"
   },
   {
    "duration": 197,
    "start_time": "2024-06-11T13:25:09.026Z"
   },
   {
    "duration": 122,
    "start_time": "2024-06-11T13:25:09.225Z"
   },
   {
    "duration": 169,
    "start_time": "2024-06-11T13:25:09.351Z"
   },
   {
    "duration": 542,
    "start_time": "2024-06-11T13:25:09.522Z"
   },
   {
    "duration": 5,
    "start_time": "2024-06-11T13:25:10.066Z"
   },
   {
    "duration": 983,
    "start_time": "2024-06-11T13:25:10.073Z"
   },
   {
    "duration": 18,
    "start_time": "2024-06-11T13:25:11.058Z"
   },
   {
    "duration": 37,
    "start_time": "2024-06-11T13:25:11.079Z"
   },
   {
    "duration": 20,
    "start_time": "2024-06-11T13:25:11.118Z"
   },
   {
    "duration": 2096,
    "start_time": "2024-06-11T13:25:11.140Z"
   },
   {
    "duration": 18,
    "start_time": "2024-06-11T13:25:13.239Z"
   },
   {
    "duration": 92,
    "start_time": "2024-06-11T13:25:13.259Z"
   },
   {
    "duration": 2050,
    "start_time": "2024-06-11T13:25:13.353Z"
   },
   {
    "duration": 46,
    "start_time": "2024-06-11T13:25:15.405Z"
   },
   {
    "duration": 291,
    "start_time": "2024-06-11T13:25:15.453Z"
   },
   {
    "duration": 22,
    "start_time": "2024-06-11T13:25:15.746Z"
   },
   {
    "duration": 300,
    "start_time": "2024-06-11T13:25:15.770Z"
   },
   {
    "duration": 195,
    "start_time": "2024-06-11T13:25:16.072Z"
   },
   {
    "duration": 96,
    "start_time": "2024-06-11T13:25:16.269Z"
   },
   {
    "duration": 206,
    "start_time": "2024-06-11T13:25:16.367Z"
   },
   {
    "duration": 64,
    "start_time": "2024-06-11T13:25:16.577Z"
   },
   {
    "duration": 1828,
    "start_time": "2024-06-11T13:25:16.643Z"
   },
   {
    "duration": 45,
    "start_time": "2024-06-11T13:25:18.473Z"
   },
   {
    "duration": 221,
    "start_time": "2024-06-11T13:25:18.520Z"
   },
   {
    "duration": 23,
    "start_time": "2024-06-11T13:25:18.742Z"
   },
   {
    "duration": 251,
    "start_time": "2024-06-11T13:25:18.767Z"
   },
   {
    "duration": 20,
    "start_time": "2024-06-11T13:25:19.020Z"
   },
   {
    "duration": 99,
    "start_time": "2024-06-11T13:25:19.042Z"
   },
   {
    "duration": 2816,
    "start_time": "2024-06-11T13:25:19.144Z"
   },
   {
    "duration": 67,
    "start_time": "2024-06-11T13:25:21.962Z"
   },
   {
    "duration": 2061,
    "start_time": "2024-06-11T13:25:22.031Z"
   },
   {
    "duration": 29,
    "start_time": "2024-06-11T13:25:24.094Z"
   },
   {
    "duration": 32,
    "start_time": "2024-06-11T13:25:24.125Z"
   },
   {
    "duration": 1900,
    "start_time": "2024-06-11T13:25:24.159Z"
   },
   {
    "duration": 59,
    "start_time": "2024-06-11T13:25:26.060Z"
   },
   {
    "duration": 39,
    "start_time": "2024-06-11T13:25:26.121Z"
   },
   {
    "duration": 70,
    "start_time": "2024-06-11T13:25:26.164Z"
   },
   {
    "duration": 5,
    "start_time": "2024-06-11T13:25:26.235Z"
   },
   {
    "duration": 15,
    "start_time": "2024-06-11T13:25:26.241Z"
   },
   {
    "duration": 317,
    "start_time": "2024-06-11T13:25:26.257Z"
   },
   {
    "duration": 43,
    "start_time": "2024-06-11T13:25:26.576Z"
   },
   {
    "duration": 259,
    "start_time": "2024-06-11T13:25:26.621Z"
   },
   {
    "duration": 56,
    "start_time": "2024-06-11T13:25:26.882Z"
   },
   {
    "duration": 4,
    "start_time": "2024-06-11T13:25:26.939Z"
   },
   {
    "duration": 78,
    "start_time": "2024-06-11T13:25:26.945Z"
   },
   {
    "duration": 38,
    "start_time": "2024-06-11T13:25:27.025Z"
   },
   {
    "duration": 262,
    "start_time": "2024-06-11T13:25:27.064Z"
   },
   {
    "duration": 37,
    "start_time": "2024-06-11T13:25:27.327Z"
   },
   {
    "duration": 652,
    "start_time": "2024-06-11T13:25:27.365Z"
   },
   {
    "duration": 25,
    "start_time": "2024-06-11T13:25:28.019Z"
   },
   {
    "duration": 58,
    "start_time": "2024-06-11T13:25:28.046Z"
   },
   {
    "duration": 505,
    "start_time": "2024-06-11T13:25:28.106Z"
   },
   {
    "duration": 21,
    "start_time": "2024-06-11T13:25:28.612Z"
   },
   {
    "duration": 351,
    "start_time": "2024-06-11T13:25:28.635Z"
   },
   {
    "duration": 25,
    "start_time": "2024-06-11T13:25:28.988Z"
   },
   {
    "duration": 2,
    "start_time": "2024-06-11T13:25:29.015Z"
   },
   {
    "duration": 56,
    "start_time": "2024-06-11T13:25:29.019Z"
   },
   {
    "duration": 67,
    "start_time": "2024-06-11T13:25:29.077Z"
   },
   {
    "duration": 3,
    "start_time": "2024-06-11T13:25:29.145Z"
   },
   {
    "duration": 16,
    "start_time": "2024-06-11T13:25:29.150Z"
   },
   {
    "duration": 181,
    "start_time": "2024-06-11T13:25:29.167Z"
   },
   {
    "duration": 5,
    "start_time": "2024-06-11T13:25:29.349Z"
   },
   {
    "duration": 2710,
    "start_time": "2024-06-11T13:36:42.002Z"
   },
   {
    "duration": 2643,
    "start_time": "2024-06-11T13:36:44.715Z"
   },
   {
    "duration": 5,
    "start_time": "2024-06-11T13:36:47.360Z"
   },
   {
    "duration": 1557,
    "start_time": "2024-06-11T13:36:47.366Z"
   },
   {
    "duration": 4,
    "start_time": "2024-06-11T13:36:48.926Z"
   },
   {
    "duration": 989,
    "start_time": "2024-06-11T13:36:48.931Z"
   },
   {
    "duration": 18,
    "start_time": "2024-06-11T13:36:49.921Z"
   },
   {
    "duration": 168,
    "start_time": "2024-06-11T13:36:49.941Z"
   },
   {
    "duration": 162,
    "start_time": "2024-06-11T13:36:50.111Z"
   },
   {
    "duration": 159,
    "start_time": "2024-06-11T13:36:50.275Z"
   },
   {
    "duration": 507,
    "start_time": "2024-06-11T13:36:50.436Z"
   },
   {
    "duration": 4,
    "start_time": "2024-06-11T13:36:50.945Z"
   },
   {
    "duration": 1052,
    "start_time": "2024-06-11T13:36:50.950Z"
   },
   {
    "duration": 28,
    "start_time": "2024-06-11T13:36:52.005Z"
   },
   {
    "duration": 20,
    "start_time": "2024-06-11T13:36:52.035Z"
   },
   {
    "duration": 46,
    "start_time": "2024-06-11T13:36:52.057Z"
   },
   {
    "duration": 1995,
    "start_time": "2024-06-11T13:36:52.105Z"
   },
   {
    "duration": 13,
    "start_time": "2024-06-11T13:36:54.102Z"
   },
   {
    "duration": 90,
    "start_time": "2024-06-11T13:36:54.117Z"
   },
   {
    "duration": 1990,
    "start_time": "2024-06-11T13:36:54.209Z"
   },
   {
    "duration": 42,
    "start_time": "2024-06-11T13:36:56.201Z"
   },
   {
    "duration": 279,
    "start_time": "2024-06-11T13:36:56.244Z"
   },
   {
    "duration": 22,
    "start_time": "2024-06-11T13:36:56.525Z"
   },
   {
    "duration": 278,
    "start_time": "2024-06-11T13:36:56.549Z"
   },
   {
    "duration": 203,
    "start_time": "2024-06-11T13:36:56.828Z"
   },
   {
    "duration": 138,
    "start_time": "2024-06-11T13:36:57.033Z"
   },
   {
    "duration": 216,
    "start_time": "2024-06-11T13:36:57.173Z"
   },
   {
    "duration": 52,
    "start_time": "2024-06-11T13:36:57.399Z"
   },
   {
    "duration": 1686,
    "start_time": "2024-06-11T13:36:57.453Z"
   },
   {
    "duration": 39,
    "start_time": "2024-06-11T13:36:59.141Z"
   },
   {
    "duration": 231,
    "start_time": "2024-06-11T13:36:59.183Z"
   },
   {
    "duration": 25,
    "start_time": "2024-06-11T13:36:59.416Z"
   },
   {
    "duration": 235,
    "start_time": "2024-06-11T13:36:59.442Z"
   },
   {
    "duration": 29,
    "start_time": "2024-06-11T13:36:59.678Z"
   },
   {
    "duration": 105,
    "start_time": "2024-06-11T13:36:59.709Z"
   },
   {
    "duration": 2775,
    "start_time": "2024-06-11T13:36:59.816Z"
   },
   {
    "duration": 56,
    "start_time": "2024-06-11T13:37:02.593Z"
   },
   {
    "duration": 2056,
    "start_time": "2024-06-11T13:37:02.651Z"
   },
   {
    "duration": 23,
    "start_time": "2024-06-11T13:37:04.709Z"
   },
   {
    "duration": 33,
    "start_time": "2024-06-11T13:37:04.734Z"
   },
   {
    "duration": 1928,
    "start_time": "2024-06-11T13:37:04.772Z"
   },
   {
    "duration": 54,
    "start_time": "2024-06-11T13:37:06.701Z"
   },
   {
    "duration": 72,
    "start_time": "2024-06-11T13:37:06.757Z"
   },
   {
    "duration": 68,
    "start_time": "2024-06-11T13:37:06.831Z"
   },
   {
    "duration": 5,
    "start_time": "2024-06-11T13:37:06.901Z"
   },
   {
    "duration": 25,
    "start_time": "2024-06-11T13:37:06.908Z"
   },
   {
    "duration": 295,
    "start_time": "2024-06-11T13:37:06.935Z"
   },
   {
    "duration": 39,
    "start_time": "2024-06-11T13:37:07.232Z"
   },
   {
    "duration": 271,
    "start_time": "2024-06-11T13:37:07.274Z"
   },
   {
    "duration": 66,
    "start_time": "2024-06-11T13:37:07.547Z"
   },
   {
    "duration": 5,
    "start_time": "2024-06-11T13:37:07.614Z"
   },
   {
    "duration": 58,
    "start_time": "2024-06-11T13:37:07.620Z"
   },
   {
    "duration": 51,
    "start_time": "2024-06-11T13:37:07.680Z"
   },
   {
    "duration": 259,
    "start_time": "2024-06-11T13:37:07.733Z"
   },
   {
    "duration": 37,
    "start_time": "2024-06-11T13:37:07.994Z"
   },
   {
    "duration": 659,
    "start_time": "2024-06-11T13:37:08.033Z"
   },
   {
    "duration": 21,
    "start_time": "2024-06-11T13:37:08.693Z"
   },
   {
    "duration": 36,
    "start_time": "2024-06-11T13:37:08.715Z"
   },
   {
    "duration": 505,
    "start_time": "2024-06-11T13:37:08.753Z"
   },
   {
    "duration": 20,
    "start_time": "2024-06-11T13:37:09.260Z"
   },
   {
    "duration": 342,
    "start_time": "2024-06-11T13:37:09.281Z"
   },
   {
    "duration": 20,
    "start_time": "2024-06-11T13:37:09.625Z"
   },
   {
    "duration": 38,
    "start_time": "2024-06-11T13:37:09.646Z"
   },
   {
    "duration": 78,
    "start_time": "2024-06-11T13:37:09.686Z"
   },
   {
    "duration": 54,
    "start_time": "2024-06-11T13:37:09.766Z"
   },
   {
    "duration": 3,
    "start_time": "2024-06-11T13:37:09.822Z"
   },
   {
    "duration": 15,
    "start_time": "2024-06-11T13:37:09.827Z"
   },
   {
    "duration": 182,
    "start_time": "2024-06-11T13:37:09.844Z"
   },
   {
    "duration": 4,
    "start_time": "2024-06-11T13:37:10.028Z"
   },
   {
    "duration": 2759,
    "start_time": "2024-06-11T13:38:33.424Z"
   },
   {
    "duration": 2607,
    "start_time": "2024-06-11T13:38:36.186Z"
   },
   {
    "duration": 3,
    "start_time": "2024-06-11T13:38:38.795Z"
   },
   {
    "duration": 1510,
    "start_time": "2024-06-11T13:38:38.801Z"
   },
   {
    "duration": 3,
    "start_time": "2024-06-11T13:38:40.313Z"
   },
   {
    "duration": 953,
    "start_time": "2024-06-11T13:38:40.318Z"
   },
   {
    "duration": 27,
    "start_time": "2024-06-11T13:38:41.273Z"
   },
   {
    "duration": 159,
    "start_time": "2024-06-11T13:38:41.302Z"
   },
   {
    "duration": 161,
    "start_time": "2024-06-11T13:38:41.463Z"
   },
   {
    "duration": 156,
    "start_time": "2024-06-11T13:38:41.627Z"
   },
   {
    "duration": 548,
    "start_time": "2024-06-11T13:38:41.785Z"
   },
   {
    "duration": 4,
    "start_time": "2024-06-11T13:38:42.335Z"
   },
   {
    "duration": 1086,
    "start_time": "2024-06-11T13:38:42.340Z"
   },
   {
    "duration": 29,
    "start_time": "2024-06-11T13:38:43.428Z"
   },
   {
    "duration": 42,
    "start_time": "2024-06-11T13:38:43.459Z"
   },
   {
    "duration": 18,
    "start_time": "2024-06-11T13:38:43.502Z"
   },
   {
    "duration": 1997,
    "start_time": "2024-06-11T13:38:43.522Z"
   },
   {
    "duration": 14,
    "start_time": "2024-06-11T13:38:45.520Z"
   },
   {
    "duration": 89,
    "start_time": "2024-06-11T13:38:45.535Z"
   },
   {
    "duration": 2152,
    "start_time": "2024-06-11T13:38:45.626Z"
   },
   {
    "duration": 47,
    "start_time": "2024-06-11T13:38:47.780Z"
   },
   {
    "duration": 263,
    "start_time": "2024-06-11T13:38:47.829Z"
   },
   {
    "duration": 23,
    "start_time": "2024-06-11T13:38:48.094Z"
   },
   {
    "duration": 286,
    "start_time": "2024-06-11T13:38:48.118Z"
   },
   {
    "duration": 234,
    "start_time": "2024-06-11T13:38:48.406Z"
   },
   {
    "duration": 135,
    "start_time": "2024-06-11T13:38:48.641Z"
   },
   {
    "duration": 214,
    "start_time": "2024-06-11T13:38:48.777Z"
   },
   {
    "duration": 53,
    "start_time": "2024-06-11T13:38:49.001Z"
   },
   {
    "duration": 1768,
    "start_time": "2024-06-11T13:38:49.056Z"
   },
   {
    "duration": 39,
    "start_time": "2024-06-11T13:38:50.825Z"
   },
   {
    "duration": 224,
    "start_time": "2024-06-11T13:38:50.866Z"
   },
   {
    "duration": 23,
    "start_time": "2024-06-11T13:38:51.091Z"
   },
   {
    "duration": 227,
    "start_time": "2024-06-11T13:38:51.116Z"
   },
   {
    "duration": 20,
    "start_time": "2024-06-11T13:38:51.345Z"
   },
   {
    "duration": 115,
    "start_time": "2024-06-11T13:38:51.366Z"
   },
   {
    "duration": 2838,
    "start_time": "2024-06-11T13:38:51.482Z"
   },
   {
    "duration": 56,
    "start_time": "2024-06-11T13:38:54.322Z"
   },
   {
    "duration": 2159,
    "start_time": "2024-06-11T13:38:54.380Z"
   },
   {
    "duration": 24,
    "start_time": "2024-06-11T13:38:56.541Z"
   },
   {
    "duration": 54,
    "start_time": "2024-06-11T13:38:56.566Z"
   },
   {
    "duration": 1823,
    "start_time": "2024-06-11T13:38:56.622Z"
   },
   {
    "duration": 70,
    "start_time": "2024-06-11T13:38:58.447Z"
   },
   {
    "duration": 39,
    "start_time": "2024-06-11T13:38:58.519Z"
   },
   {
    "duration": 82,
    "start_time": "2024-06-11T13:38:58.560Z"
   },
   {
    "duration": 5,
    "start_time": "2024-06-11T13:38:58.643Z"
   },
   {
    "duration": 15,
    "start_time": "2024-06-11T13:38:58.649Z"
   },
   {
    "duration": 305,
    "start_time": "2024-06-11T13:38:58.666Z"
   },
   {
    "duration": 44,
    "start_time": "2024-06-11T13:38:58.973Z"
   },
   {
    "duration": 249,
    "start_time": "2024-06-11T13:38:59.019Z"
   },
   {
    "duration": 63,
    "start_time": "2024-06-11T13:38:59.270Z"
   },
   {
    "duration": 5,
    "start_time": "2024-06-11T13:38:59.335Z"
   },
   {
    "duration": 76,
    "start_time": "2024-06-11T13:38:59.342Z"
   },
   {
    "duration": 41,
    "start_time": "2024-06-11T13:38:59.419Z"
   },
   {
    "duration": 273,
    "start_time": "2024-06-11T13:38:59.462Z"
   },
   {
    "duration": 36,
    "start_time": "2024-06-11T13:38:59.737Z"
   },
   {
    "duration": 654,
    "start_time": "2024-06-11T13:38:59.775Z"
   },
   {
    "duration": 21,
    "start_time": "2024-06-11T13:39:00.430Z"
   },
   {
    "duration": 61,
    "start_time": "2024-06-11T13:39:00.453Z"
   },
   {
    "duration": 511,
    "start_time": "2024-06-11T13:39:00.517Z"
   },
   {
    "duration": 21,
    "start_time": "2024-06-11T13:39:01.030Z"
   },
   {
    "duration": 351,
    "start_time": "2024-06-11T13:39:01.052Z"
   },
   {
    "duration": 16,
    "start_time": "2024-06-11T13:39:01.404Z"
   },
   {
    "duration": 11,
    "start_time": "2024-06-11T13:39:01.422Z"
   },
   {
    "duration": 99,
    "start_time": "2024-06-11T13:39:01.435Z"
   },
   {
    "duration": 51,
    "start_time": "2024-06-11T13:39:01.536Z"
   },
   {
    "duration": 13,
    "start_time": "2024-06-11T13:39:01.588Z"
   },
   {
    "duration": 22,
    "start_time": "2024-06-11T13:39:01.603Z"
   },
   {
    "duration": 172,
    "start_time": "2024-06-11T13:39:01.627Z"
   },
   {
    "duration": 6,
    "start_time": "2024-06-11T13:39:01.801Z"
   },
   {
    "duration": 2693,
    "start_time": "2024-06-11T13:47:25.488Z"
   },
   {
    "duration": 2675,
    "start_time": "2024-06-11T13:47:28.184Z"
   },
   {
    "duration": 4,
    "start_time": "2024-06-11T13:47:30.861Z"
   },
   {
    "duration": 1575,
    "start_time": "2024-06-11T13:47:30.867Z"
   },
   {
    "duration": 4,
    "start_time": "2024-06-11T13:47:32.444Z"
   },
   {
    "duration": 974,
    "start_time": "2024-06-11T13:47:32.450Z"
   },
   {
    "duration": 18,
    "start_time": "2024-06-11T13:47:33.426Z"
   },
   {
    "duration": 175,
    "start_time": "2024-06-11T13:47:33.445Z"
   },
   {
    "duration": 117,
    "start_time": "2024-06-11T13:47:33.621Z"
   },
   {
    "duration": 163,
    "start_time": "2024-06-11T13:47:33.741Z"
   },
   {
    "duration": 526,
    "start_time": "2024-06-11T13:47:33.906Z"
   },
   {
    "duration": 4,
    "start_time": "2024-06-11T13:47:34.434Z"
   },
   {
    "duration": 1031,
    "start_time": "2024-06-11T13:47:34.439Z"
   },
   {
    "duration": 27,
    "start_time": "2024-06-11T13:47:35.472Z"
   },
   {
    "duration": 19,
    "start_time": "2024-06-11T13:47:35.501Z"
   },
   {
    "duration": 27,
    "start_time": "2024-06-11T13:47:35.522Z"
   },
   {
    "duration": 2102,
    "start_time": "2024-06-11T13:47:35.550Z"
   },
   {
    "duration": 14,
    "start_time": "2024-06-11T13:47:37.654Z"
   },
   {
    "duration": 89,
    "start_time": "2024-06-11T13:47:37.669Z"
   },
   {
    "duration": 2106,
    "start_time": "2024-06-11T13:47:37.760Z"
   },
   {
    "duration": 48,
    "start_time": "2024-06-11T13:47:39.868Z"
   },
   {
    "duration": 269,
    "start_time": "2024-06-11T13:47:39.918Z"
   },
   {
    "duration": 23,
    "start_time": "2024-06-11T13:47:40.188Z"
   },
   {
    "duration": 290,
    "start_time": "2024-06-11T13:47:40.213Z"
   },
   {
    "duration": 203,
    "start_time": "2024-06-11T13:47:40.505Z"
   },
   {
    "duration": 113,
    "start_time": "2024-06-11T13:47:40.709Z"
   },
   {
    "duration": 202,
    "start_time": "2024-06-11T13:47:40.823Z"
   },
   {
    "duration": 34,
    "start_time": "2024-06-11T13:47:41.029Z"
   },
   {
    "duration": 1779,
    "start_time": "2024-06-11T13:47:41.065Z"
   },
   {
    "duration": 39,
    "start_time": "2024-06-11T13:47:42.846Z"
   },
   {
    "duration": 218,
    "start_time": "2024-06-11T13:47:42.900Z"
   },
   {
    "duration": 22,
    "start_time": "2024-06-11T13:47:43.120Z"
   },
   {
    "duration": 232,
    "start_time": "2024-06-11T13:47:43.144Z"
   },
   {
    "duration": 29,
    "start_time": "2024-06-11T13:47:43.377Z"
   },
   {
    "duration": 108,
    "start_time": "2024-06-11T13:47:43.408Z"
   },
   {
    "duration": 2874,
    "start_time": "2024-06-11T13:47:43.519Z"
   },
   {
    "duration": 68,
    "start_time": "2024-06-11T13:47:46.400Z"
   },
   {
    "duration": 2157,
    "start_time": "2024-06-11T13:47:46.470Z"
   },
   {
    "duration": 35,
    "start_time": "2024-06-11T13:47:48.629Z"
   },
   {
    "duration": 63,
    "start_time": "2024-06-11T13:47:48.666Z"
   },
   {
    "duration": 1859,
    "start_time": "2024-06-11T13:47:48.731Z"
   },
   {
    "duration": 54,
    "start_time": "2024-06-11T13:47:50.592Z"
   },
   {
    "duration": 56,
    "start_time": "2024-06-11T13:47:50.648Z"
   },
   {
    "duration": 51,
    "start_time": "2024-06-11T13:47:50.706Z"
   },
   {
    "duration": 5,
    "start_time": "2024-06-11T13:47:50.759Z"
   },
   {
    "duration": 40,
    "start_time": "2024-06-11T13:47:50.765Z"
   },
   {
    "duration": 307,
    "start_time": "2024-06-11T13:47:50.807Z"
   },
   {
    "duration": 38,
    "start_time": "2024-06-11T13:47:51.116Z"
   },
   {
    "duration": 272,
    "start_time": "2024-06-11T13:47:51.157Z"
   },
   {
    "duration": 51,
    "start_time": "2024-06-11T13:47:51.431Z"
   },
   {
    "duration": 15,
    "start_time": "2024-06-11T13:47:51.484Z"
   },
   {
    "duration": 67,
    "start_time": "2024-06-11T13:47:51.501Z"
   },
   {
    "duration": 48,
    "start_time": "2024-06-11T13:47:51.569Z"
   },
   {
    "duration": 263,
    "start_time": "2024-06-11T13:47:51.620Z"
   },
   {
    "duration": 41,
    "start_time": "2024-06-11T13:47:51.884Z"
   },
   {
    "duration": 704,
    "start_time": "2024-06-11T13:47:51.927Z"
   },
   {
    "duration": 27,
    "start_time": "2024-06-11T13:47:52.633Z"
   },
   {
    "duration": 87,
    "start_time": "2024-06-11T13:47:52.664Z"
   },
   {
    "duration": 499,
    "start_time": "2024-06-11T13:47:52.753Z"
   },
   {
    "duration": 20,
    "start_time": "2024-06-11T13:47:53.254Z"
   },
   {
    "duration": 357,
    "start_time": "2024-06-11T13:47:53.276Z"
   },
   {
    "duration": 13,
    "start_time": "2024-06-11T13:47:53.635Z"
   },
   {
    "duration": 2,
    "start_time": "2024-06-11T13:47:53.650Z"
   },
   {
    "duration": 71,
    "start_time": "2024-06-11T13:47:53.653Z"
   },
   {
    "duration": 44,
    "start_time": "2024-06-11T13:47:53.726Z"
   },
   {
    "duration": 3,
    "start_time": "2024-06-11T13:47:53.771Z"
   },
   {
    "duration": 33,
    "start_time": "2024-06-11T13:47:53.776Z"
   },
   {
    "duration": 168,
    "start_time": "2024-06-11T13:47:53.812Z"
   },
   {
    "duration": 5,
    "start_time": "2024-06-11T13:47:53.981Z"
   },
   {
    "duration": 525911,
    "start_time": "2024-06-11T13:47:53.999Z"
   },
   {
    "duration": 4,
    "start_time": "2024-06-11T13:56:39.912Z"
   },
   {
    "duration": 5789,
    "start_time": "2024-06-11T13:56:39.917Z"
   },
   {
    "duration": 597,
    "start_time": "2024-06-11T13:56:45.707Z"
   },
   {
    "duration": 7,
    "start_time": "2024-06-11T13:56:46.306Z"
   },
   {
    "duration": 2401,
    "start_time": "2024-06-11T13:56:46.315Z"
   },
   {
    "duration": 592,
    "start_time": "2024-06-11T13:56:48.718Z"
   },
   {
    "duration": 95,
    "start_time": "2024-06-11T13:56:49.312Z"
   },
   {
    "duration": 107,
    "start_time": "2024-06-11T13:56:49.409Z"
   },
   {
    "duration": 5785,
    "start_time": "2024-06-11T13:56:49.517Z"
   },
   {
    "duration": 711,
    "start_time": "2024-06-11T13:56:55.304Z"
   },
   {
    "duration": 6,
    "start_time": "2024-06-11T13:56:56.017Z"
   },
   {
    "duration": 69,
    "start_time": "2024-06-11T13:56:56.102Z"
   },
   {
    "duration": 0,
    "start_time": "2024-06-11T13:56:56.173Z"
   },
   {
    "duration": 0,
    "start_time": "2024-06-11T13:56:56.175Z"
   },
   {
    "duration": 0,
    "start_time": "2024-06-11T13:56:56.177Z"
   },
   {
    "duration": 0,
    "start_time": "2024-06-11T13:56:56.178Z"
   },
   {
    "duration": 0,
    "start_time": "2024-06-11T13:56:56.180Z"
   },
   {
    "duration": 0,
    "start_time": "2024-06-11T13:56:56.182Z"
   },
   {
    "duration": 0,
    "start_time": "2024-06-11T13:56:56.183Z"
   },
   {
    "duration": 0,
    "start_time": "2024-06-11T13:56:56.184Z"
   },
   {
    "duration": 0,
    "start_time": "2024-06-11T13:56:56.187Z"
   },
   {
    "duration": 0,
    "start_time": "2024-06-11T13:56:56.188Z"
   },
   {
    "duration": 256,
    "start_time": "2024-06-11T13:57:09.929Z"
   },
   {
    "duration": 52,
    "start_time": "2024-06-11T13:57:10.753Z"
   },
   {
    "duration": 3,
    "start_time": "2024-06-11T13:57:12.170Z"
   },
   {
    "duration": 2,
    "start_time": "2024-06-11T13:57:13.023Z"
   },
   {
    "duration": 846,
    "start_time": "2024-06-11T13:57:14.658Z"
   },
   {
    "duration": 3,
    "start_time": "2024-06-11T14:11:36.949Z"
   },
   {
    "duration": 725,
    "start_time": "2024-06-11T14:11:37.751Z"
   },
   {
    "duration": 289115,
    "start_time": "2024-06-11T14:15:10.504Z"
   },
   {
    "duration": 1548,
    "start_time": "2024-06-11T14:20:30.568Z"
   },
   {
    "duration": 2612,
    "start_time": "2024-06-11T14:25:34.411Z"
   },
   {
    "duration": 33,
    "start_time": "2024-06-11T14:44:42.095Z"
   },
   {
    "duration": 7,
    "start_time": "2024-06-11T14:46:36.716Z"
   },
   {
    "duration": 14,
    "start_time": "2024-06-11T14:46:42.081Z"
   },
   {
    "duration": 13,
    "start_time": "2024-06-11T14:46:58.119Z"
   },
   {
    "duration": 20,
    "start_time": "2024-06-11T14:47:23.464Z"
   },
   {
    "duration": 14,
    "start_time": "2024-06-11T14:47:37.051Z"
   },
   {
    "duration": 52,
    "start_time": "2024-06-11T14:47:50.909Z"
   },
   {
    "duration": 4,
    "start_time": "2024-06-11T14:48:09.095Z"
   },
   {
    "duration": 51,
    "start_time": "2024-06-11T14:49:14.975Z"
   },
   {
    "duration": 3,
    "start_time": "2024-06-11T14:49:19.480Z"
   },
   {
    "duration": 44,
    "start_time": "2024-06-11T14:49:20.932Z"
   },
   {
    "duration": 16,
    "start_time": "2024-06-11T14:49:27.891Z"
   },
   {
    "duration": 53,
    "start_time": "2024-06-11T14:49:53.033Z"
   },
   {
    "duration": 5,
    "start_time": "2024-06-11T14:49:54.913Z"
   },
   {
    "duration": 3,
    "start_time": "2024-06-11T14:50:00.357Z"
   },
   {
    "duration": 7297,
    "start_time": "2024-06-11T14:50:03.865Z"
   },
   {
    "duration": 19,
    "start_time": "2024-06-11T14:53:10.208Z"
   },
   {
    "duration": 16,
    "start_time": "2024-06-11T14:53:18.586Z"
   },
   {
    "duration": 3,
    "start_time": "2024-06-11T14:53:20.005Z"
   },
   {
    "duration": 74,
    "start_time": "2024-06-11T14:53:20.671Z"
   },
   {
    "duration": 44,
    "start_time": "2024-06-11T14:53:21.227Z"
   },
   {
    "duration": 12,
    "start_time": "2024-06-11T14:54:15.625Z"
   },
   {
    "duration": 3,
    "start_time": "2024-06-11T14:56:50.247Z"
   },
   {
    "duration": 81,
    "start_time": "2024-06-11T14:56:51.353Z"
   },
   {
    "duration": 1921,
    "start_time": "2024-06-11T14:57:02.115Z"
   },
   {
    "duration": 3,
    "start_time": "2024-06-11T15:00:16.482Z"
   },
   {
    "duration": 17,
    "start_time": "2024-06-11T15:00:17.230Z"
   },
   {
    "duration": 4,
    "start_time": "2024-06-11T15:00:26.773Z"
   },
   {
    "duration": 258,
    "start_time": "2024-06-11T15:00:29.652Z"
   },
   {
    "duration": 53,
    "start_time": "2024-06-11T15:00:34.126Z"
   },
   {
    "duration": 3,
    "start_time": "2024-06-11T15:00:36.632Z"
   },
   {
    "duration": 3,
    "start_time": "2024-06-11T15:00:38.560Z"
   },
   {
    "duration": 756,
    "start_time": "2024-06-11T15:00:40.724Z"
   },
   {
    "duration": 16,
    "start_time": "2024-06-11T15:00:52.054Z"
   },
   {
    "duration": 580,
    "start_time": "2024-06-11T15:04:01.047Z"
   },
   {
    "duration": 16,
    "start_time": "2024-06-11T15:04:10.857Z"
   },
   {
    "duration": 59,
    "start_time": "2024-06-11T15:16:49.159Z"
   },
   {
    "duration": 4,
    "start_time": "2024-06-11T15:18:18.621Z"
   },
   {
    "duration": 4,
    "start_time": "2024-06-11T15:18:20.396Z"
   },
   {
    "duration": 499,
    "start_time": "2024-06-11T15:18:23.648Z"
   },
   {
    "duration": 2,
    "start_time": "2024-06-11T15:19:11.608Z"
   },
   {
    "duration": 256,
    "start_time": "2024-06-11T15:19:12.392Z"
   },
   {
    "duration": 49,
    "start_time": "2024-06-11T15:19:13.119Z"
   },
   {
    "duration": 3,
    "start_time": "2024-06-11T15:19:13.921Z"
   },
   {
    "duration": 3,
    "start_time": "2024-06-11T15:19:14.849Z"
   },
   {
    "duration": 473,
    "start_time": "2024-06-11T15:19:17.961Z"
   },
   {
    "duration": 4,
    "start_time": "2024-06-11T15:19:25.931Z"
   },
   {
    "duration": 491,
    "start_time": "2024-06-11T15:19:27.166Z"
   },
   {
    "duration": 442,
    "start_time": "2024-06-11T15:19:31.272Z"
   },
   {
    "duration": 16,
    "start_time": "2024-06-11T15:19:36.171Z"
   },
   {
    "duration": 3,
    "start_time": "2024-06-11T15:19:59.319Z"
   },
   {
    "duration": 3,
    "start_time": "2024-06-11T15:20:00.145Z"
   },
   {
    "duration": 1474009,
    "start_time": "2024-06-11T15:20:00.788Z"
   },
   {
    "duration": 540,
    "start_time": "2024-06-11T15:44:34.800Z"
   },
   {
    "duration": 5,
    "start_time": "2024-06-11T15:44:50.269Z"
   },
   {
    "duration": 4,
    "start_time": "2024-06-11T15:45:01.179Z"
   },
   {
    "duration": 3,
    "start_time": "2024-06-11T15:45:04.593Z"
   },
   {
    "duration": 65495,
    "start_time": "2024-06-11T15:45:09.187Z"
   },
   {
    "duration": 547,
    "start_time": "2024-06-11T15:46:34.749Z"
   },
   {
    "duration": 64,
    "start_time": "2024-06-11T15:59:11.827Z"
   },
   {
    "duration": 58,
    "start_time": "2024-06-11T15:59:19.348Z"
   },
   {
    "duration": 21,
    "start_time": "2024-06-11T15:59:25.597Z"
   },
   {
    "duration": 10,
    "start_time": "2024-06-11T16:03:45.860Z"
   },
   {
    "duration": 8,
    "start_time": "2024-06-11T16:03:59.655Z"
   },
   {
    "duration": 11,
    "start_time": "2024-06-11T16:06:31.113Z"
   },
   {
    "duration": 14,
    "start_time": "2024-06-11T16:06:32.380Z"
   },
   {
    "duration": 73,
    "start_time": "2024-06-11T16:06:35.249Z"
   },
   {
    "duration": 39,
    "start_time": "2024-06-11T16:06:36.834Z"
   },
   {
    "duration": 11,
    "start_time": "2024-06-11T16:06:37.899Z"
   },
   {
    "duration": 501657,
    "start_time": "2024-06-11T16:06:39.269Z"
   },
   {
    "duration": 49,
    "start_time": "2024-06-11T16:16:42.121Z"
   },
   {
    "duration": 8941,
    "start_time": "2024-06-11T16:16:43.362Z"
   },
   {
    "duration": 6,
    "start_time": "2024-06-11T16:17:03.096Z"
   },
   {
    "duration": 8,
    "start_time": "2024-06-11T16:18:52.389Z"
   },
   {
    "duration": 10,
    "start_time": "2024-06-11T16:18:53.813Z"
   },
   {
    "duration": 7,
    "start_time": "2024-06-11T16:19:11.324Z"
   },
   {
    "duration": 9,
    "start_time": "2024-06-11T16:19:13.182Z"
   },
   {
    "duration": 3,
    "start_time": "2024-06-11T16:19:33.690Z"
   },
   {
    "duration": 8,
    "start_time": "2024-06-11T16:19:35.782Z"
   },
   {
    "duration": 7,
    "start_time": "2024-06-11T16:19:40.603Z"
   },
   {
    "duration": 9,
    "start_time": "2024-06-11T16:19:41.782Z"
   },
   {
    "duration": 3,
    "start_time": "2024-06-11T16:20:28.443Z"
   },
   {
    "duration": 25,
    "start_time": "2024-06-11T16:22:52.731Z"
   },
   {
    "duration": 153,
    "start_time": "2024-06-11T16:22:53.729Z"
   },
   {
    "duration": 4,
    "start_time": "2024-06-11T16:22:55.024Z"
   },
   {
    "duration": 495449,
    "start_time": "2024-06-11T16:22:57.264Z"
   },
   {
    "duration": 3,
    "start_time": "2024-06-11T16:32:18.529Z"
   },
   {
    "duration": 3,
    "start_time": "2024-06-11T16:32:28.072Z"
   },
   {
    "duration": 5112,
    "start_time": "2024-06-11T16:32:28.895Z"
   },
   {
    "duration": 525,
    "start_time": "2024-06-11T16:32:38.789Z"
   },
   {
    "duration": 6,
    "start_time": "2024-06-11T16:32:47.271Z"
   },
   {
    "duration": 1974,
    "start_time": "2024-06-11T16:32:48.533Z"
   },
   {
    "duration": 62,
    "start_time": "2024-06-11T16:34:12.424Z"
   },
   {
    "duration": 2876,
    "start_time": "2024-06-11T16:34:23.728Z"
   },
   {
    "duration": 595,
    "start_time": "2024-06-11T16:34:26.606Z"
   },
   {
    "duration": 28,
    "start_time": "2024-06-11T16:34:31.229Z"
   },
   {
    "duration": 98,
    "start_time": "2024-06-11T16:34:32.490Z"
   },
   {
    "duration": 5500,
    "start_time": "2024-06-11T16:34:33.512Z"
   },
   {
    "duration": 697,
    "start_time": "2024-06-11T16:34:42.218Z"
   },
   {
    "duration": 6,
    "start_time": "2024-06-11T16:34:44.451Z"
   },
   {
    "duration": 13,
    "start_time": "2024-06-11T16:38:56.391Z"
   },
   {
    "duration": 26,
    "start_time": "2024-06-11T16:39:08.653Z"
   },
   {
    "duration": 96,
    "start_time": "2024-06-11T16:39:09.405Z"
   },
   {
    "duration": 5899,
    "start_time": "2024-06-11T16:39:10.302Z"
   },
   {
    "duration": 6,
    "start_time": "2024-06-11T16:39:17.264Z"
   },
   {
    "duration": 8,
    "start_time": "2024-06-11T16:57:04.177Z"
   },
   {
    "duration": 2,
    "start_time": "2024-06-11T17:01:41.500Z"
   },
   {
    "duration": 2,
    "start_time": "2024-06-11T17:06:02.557Z"
   },
   {
    "duration": 2982,
    "start_time": "2024-06-11T17:25:17.725Z"
   },
   {
    "duration": 2763,
    "start_time": "2024-06-11T17:25:20.709Z"
   },
   {
    "duration": 3065,
    "start_time": "2024-06-11T17:25:23.474Z"
   },
   {
    "duration": 3426,
    "start_time": "2024-06-11T17:25:26.541Z"
   },
   {
    "duration": 4,
    "start_time": "2024-06-11T17:25:29.969Z"
   },
   {
    "duration": 1372,
    "start_time": "2024-06-11T17:25:29.974Z"
   },
   {
    "duration": 20,
    "start_time": "2024-06-11T17:25:31.348Z"
   },
   {
    "duration": 167,
    "start_time": "2024-06-11T17:25:31.370Z"
   },
   {
    "duration": 115,
    "start_time": "2024-06-11T17:25:31.539Z"
   },
   {
    "duration": 156,
    "start_time": "2024-06-11T17:25:31.657Z"
   },
   {
    "duration": 541,
    "start_time": "2024-06-11T17:25:31.815Z"
   },
   {
    "duration": 3,
    "start_time": "2024-06-11T17:25:32.358Z"
   },
   {
    "duration": 1030,
    "start_time": "2024-06-11T17:25:32.363Z"
   },
   {
    "duration": 18,
    "start_time": "2024-06-11T17:25:33.395Z"
   },
   {
    "duration": 25,
    "start_time": "2024-06-11T17:25:33.415Z"
   },
   {
    "duration": 18,
    "start_time": "2024-06-11T17:25:33.442Z"
   },
   {
    "duration": 1966,
    "start_time": "2024-06-11T17:25:33.462Z"
   },
   {
    "duration": 14,
    "start_time": "2024-06-11T17:25:35.430Z"
   },
   {
    "duration": 95,
    "start_time": "2024-06-11T17:25:35.446Z"
   },
   {
    "duration": 1844,
    "start_time": "2024-06-11T17:25:35.543Z"
   },
   {
    "duration": 42,
    "start_time": "2024-06-11T17:25:37.389Z"
   },
   {
    "duration": 355,
    "start_time": "2024-06-11T17:25:37.432Z"
   },
   {
    "duration": 24,
    "start_time": "2024-06-11T17:25:37.788Z"
   },
   {
    "duration": 230,
    "start_time": "2024-06-11T17:25:37.814Z"
   },
   {
    "duration": 163,
    "start_time": "2024-06-11T17:25:38.046Z"
   },
   {
    "duration": 95,
    "start_time": "2024-06-11T17:25:38.211Z"
   },
   {
    "duration": 172,
    "start_time": "2024-06-11T17:25:38.308Z"
   },
   {
    "duration": 37,
    "start_time": "2024-06-11T17:25:38.485Z"
   },
   {
    "duration": 1634,
    "start_time": "2024-06-11T17:25:38.524Z"
   },
   {
    "duration": 41,
    "start_time": "2024-06-11T17:25:40.159Z"
   },
   {
    "duration": 191,
    "start_time": "2024-06-11T17:25:40.202Z"
   },
   {
    "duration": 21,
    "start_time": "2024-06-11T17:25:40.400Z"
   },
   {
    "duration": 197,
    "start_time": "2024-06-11T17:25:40.423Z"
   },
   {
    "duration": 20,
    "start_time": "2024-06-11T17:25:40.622Z"
   },
   {
    "duration": 112,
    "start_time": "2024-06-11T17:25:40.643Z"
   },
   {
    "duration": 2838,
    "start_time": "2024-06-11T17:25:40.756Z"
   },
   {
    "duration": 65,
    "start_time": "2024-06-11T17:25:43.596Z"
   },
   {
    "duration": 1999,
    "start_time": "2024-06-11T17:25:43.663Z"
   },
   {
    "duration": 25,
    "start_time": "2024-06-11T17:25:45.663Z"
   },
   {
    "duration": 32,
    "start_time": "2024-06-11T17:25:45.700Z"
   },
   {
    "duration": 1970,
    "start_time": "2024-06-11T17:25:45.734Z"
   },
   {
    "duration": 51,
    "start_time": "2024-06-11T17:25:47.706Z"
   },
   {
    "duration": 49,
    "start_time": "2024-06-11T17:25:47.759Z"
   },
   {
    "duration": 53,
    "start_time": "2024-06-11T17:25:47.810Z"
   },
   {
    "duration": 5,
    "start_time": "2024-06-11T17:25:47.865Z"
   },
   {
    "duration": 36,
    "start_time": "2024-06-11T17:25:47.871Z"
   },
   {
    "duration": 281,
    "start_time": "2024-06-11T17:25:47.908Z"
   },
   {
    "duration": 38,
    "start_time": "2024-06-11T17:25:48.191Z"
   },
   {
    "duration": 227,
    "start_time": "2024-06-11T17:25:48.231Z"
   },
   {
    "duration": 65,
    "start_time": "2024-06-11T17:25:48.459Z"
   },
   {
    "duration": 4,
    "start_time": "2024-06-11T17:25:48.526Z"
   },
   {
    "duration": 72,
    "start_time": "2024-06-11T17:25:48.532Z"
   },
   {
    "duration": 38,
    "start_time": "2024-06-11T17:25:48.606Z"
   },
   {
    "duration": 239,
    "start_time": "2024-06-11T17:25:48.645Z"
   },
   {
    "duration": 41,
    "start_time": "2024-06-11T17:25:48.886Z"
   },
   {
    "duration": 611,
    "start_time": "2024-06-11T17:25:48.929Z"
   },
   {
    "duration": 19,
    "start_time": "2024-06-11T17:25:49.542Z"
   },
   {
    "duration": 47,
    "start_time": "2024-06-11T17:25:49.562Z"
   },
   {
    "duration": 308,
    "start_time": "2024-06-11T17:25:49.610Z"
   },
   {
    "duration": 20,
    "start_time": "2024-06-11T17:25:49.920Z"
   },
   {
    "duration": 309,
    "start_time": "2024-06-11T17:25:49.942Z"
   },
   {
    "duration": 19,
    "start_time": "2024-06-11T17:25:50.253Z"
   },
   {
    "duration": 2,
    "start_time": "2024-06-11T17:25:50.274Z"
   },
   {
    "duration": 84,
    "start_time": "2024-06-11T17:25:50.278Z"
   },
   {
    "duration": 62,
    "start_time": "2024-06-11T17:25:50.364Z"
   },
   {
    "duration": 3,
    "start_time": "2024-06-11T17:25:50.428Z"
   },
   {
    "duration": 275,
    "start_time": "2024-06-11T17:25:50.433Z"
   },
   {
    "duration": 50,
    "start_time": "2024-06-11T17:25:50.710Z"
   },
   {
    "duration": 10,
    "start_time": "2024-06-11T17:25:50.762Z"
   },
   {
    "duration": 7,
    "start_time": "2024-06-11T17:25:50.773Z"
   },
   {
    "duration": 1471537,
    "start_time": "2024-06-11T17:25:50.782Z"
   },
   {
    "duration": 542,
    "start_time": "2024-06-11T17:50:22.321Z"
   },
   {
    "duration": 5,
    "start_time": "2024-06-11T17:50:22.865Z"
   },
   {
    "duration": 6,
    "start_time": "2024-06-11T17:50:22.871Z"
   },
   {
    "duration": 4,
    "start_time": "2024-06-11T17:50:22.878Z"
   },
   {
    "duration": 64527,
    "start_time": "2024-06-11T17:50:22.899Z"
   },
   {
    "duration": 526,
    "start_time": "2024-06-11T17:51:27.428Z"
   },
   {
    "duration": 4,
    "start_time": "2024-06-11T17:51:27.956Z"
   },
   {
    "duration": 11,
    "start_time": "2024-06-11T17:51:27.961Z"
   },
   {
    "duration": 25,
    "start_time": "2024-06-11T17:51:27.974Z"
   },
   {
    "duration": 10,
    "start_time": "2024-06-11T17:51:28.001Z"
   },
   {
    "duration": 88,
    "start_time": "2024-06-11T17:51:28.018Z"
   },
   {
    "duration": 27,
    "start_time": "2024-06-11T17:51:28.107Z"
   },
   {
    "duration": 10,
    "start_time": "2024-06-11T17:51:28.136Z"
   },
   {
    "duration": 66,
    "start_time": "2024-06-12T13:38:51.620Z"
   },
   {
    "duration": 65,
    "start_time": "2024-06-12T13:41:39.260Z"
   },
   {
    "duration": 49,
    "start_time": "2024-06-12T13:52:35.802Z"
   },
   {
    "duration": 3270,
    "start_time": "2024-06-12T13:53:25.903Z"
   },
   {
    "duration": 5042,
    "start_time": "2024-06-12T13:53:29.176Z"
   },
   {
    "duration": 313703,
    "start_time": "2024-06-12T13:53:34.221Z"
   },
   {
    "duration": 4915,
    "start_time": "2024-06-12T13:58:47.927Z"
   },
   {
    "duration": 5,
    "start_time": "2024-06-12T13:58:52.845Z"
   },
   {
    "duration": 1419,
    "start_time": "2024-06-12T13:58:52.852Z"
   },
   {
    "duration": 35,
    "start_time": "2024-06-12T13:58:54.273Z"
   },
   {
    "duration": 183,
    "start_time": "2024-06-12T13:58:54.315Z"
   },
   {
    "duration": 104,
    "start_time": "2024-06-12T13:58:54.502Z"
   },
   {
    "duration": 183,
    "start_time": "2024-06-12T13:58:54.610Z"
   },
   {
    "duration": 507,
    "start_time": "2024-06-12T13:58:54.800Z"
   },
   {
    "duration": 4,
    "start_time": "2024-06-12T13:58:55.309Z"
   },
   {
    "duration": 1061,
    "start_time": "2024-06-12T13:58:55.315Z"
   },
   {
    "duration": 22,
    "start_time": "2024-06-12T13:58:56.380Z"
   },
   {
    "duration": 20,
    "start_time": "2024-06-12T13:58:56.406Z"
   },
   {
    "duration": 19,
    "start_time": "2024-06-12T13:58:56.428Z"
   },
   {
    "duration": 2099,
    "start_time": "2024-06-12T13:58:56.449Z"
   },
   {
    "duration": 14,
    "start_time": "2024-06-12T13:58:58.550Z"
   },
   {
    "duration": 79,
    "start_time": "2024-06-12T13:58:58.565Z"
   },
   {
    "duration": 2140,
    "start_time": "2024-06-12T13:58:58.646Z"
   },
   {
    "duration": 58,
    "start_time": "2024-06-12T13:59:00.794Z"
   },
   {
    "duration": 383,
    "start_time": "2024-06-12T13:59:00.854Z"
   },
   {
    "duration": 32,
    "start_time": "2024-06-12T13:59:01.239Z"
   },
   {
    "duration": 300,
    "start_time": "2024-06-12T13:59:01.273Z"
   },
   {
    "duration": 176,
    "start_time": "2024-06-12T13:59:01.575Z"
   },
   {
    "duration": 81,
    "start_time": "2024-06-12T13:59:01.752Z"
   },
   {
    "duration": 196,
    "start_time": "2024-06-12T13:59:01.834Z"
   },
   {
    "duration": 36,
    "start_time": "2024-06-12T13:59:02.032Z"
   },
   {
    "duration": 1769,
    "start_time": "2024-06-12T13:59:02.070Z"
   },
   {
    "duration": 37,
    "start_time": "2024-06-12T13:59:03.841Z"
   },
   {
    "duration": 237,
    "start_time": "2024-06-12T13:59:03.881Z"
   },
   {
    "duration": 23,
    "start_time": "2024-06-12T13:59:04.120Z"
   },
   {
    "duration": 207,
    "start_time": "2024-06-12T13:59:04.145Z"
   },
   {
    "duration": 19,
    "start_time": "2024-06-12T13:59:04.354Z"
   },
   {
    "duration": 101,
    "start_time": "2024-06-12T13:59:04.375Z"
   },
   {
    "duration": 2960,
    "start_time": "2024-06-12T13:59:04.478Z"
   },
   {
    "duration": 70,
    "start_time": "2024-06-12T13:59:07.440Z"
   },
   {
    "duration": 2024,
    "start_time": "2024-06-12T13:59:07.512Z"
   },
   {
    "duration": 24,
    "start_time": "2024-06-12T13:59:09.538Z"
   },
   {
    "duration": 58,
    "start_time": "2024-06-12T13:59:09.564Z"
   },
   {
    "duration": 2140,
    "start_time": "2024-06-12T13:59:09.629Z"
   },
   {
    "duration": 66,
    "start_time": "2024-06-12T13:59:11.771Z"
   },
   {
    "duration": 697,
    "start_time": "2024-06-12T13:59:11.838Z"
   },
   {
    "duration": 1108,
    "start_time": "2024-06-12T13:59:12.537Z"
   },
   {
    "duration": 1013,
    "start_time": "2024-06-12T13:59:13.647Z"
   },
   {
    "duration": 1107,
    "start_time": "2024-06-12T13:59:14.662Z"
   },
   {
    "duration": 1905,
    "start_time": "2024-06-12T13:59:15.771Z"
   },
   {
    "duration": 411,
    "start_time": "2024-06-12T13:59:17.678Z"
   },
   {
    "duration": 1260,
    "start_time": "2024-06-12T13:59:18.091Z"
   },
   {
    "duration": 1017,
    "start_time": "2024-06-12T13:59:19.353Z"
   },
   {
    "duration": 4,
    "start_time": "2024-06-12T13:59:20.372Z"
   },
   {
    "duration": 78,
    "start_time": "2024-06-12T13:59:20.378Z"
   },
   {
    "duration": 46,
    "start_time": "2024-06-12T13:59:20.458Z"
   },
   {
    "duration": 232,
    "start_time": "2024-06-12T13:59:20.506Z"
   },
   {
    "duration": 15,
    "start_time": "2024-06-12T13:59:20.740Z"
   },
   {
    "duration": 229,
    "start_time": "2024-06-12T13:59:20.757Z"
   },
   {
    "duration": 64,
    "start_time": "2024-06-12T13:59:20.988Z"
   },
   {
    "duration": 714,
    "start_time": "2024-06-12T13:59:21.054Z"
   },
   {
    "duration": 40,
    "start_time": "2024-06-12T13:59:21.769Z"
   },
   {
    "duration": 35,
    "start_time": "2024-06-12T13:59:21.811Z"
   },
   {
    "duration": 357,
    "start_time": "2024-06-12T13:59:21.847Z"
   },
   {
    "duration": 20,
    "start_time": "2024-06-12T13:59:22.208Z"
   },
   {
    "duration": 343,
    "start_time": "2024-06-12T13:59:22.230Z"
   },
   {
    "duration": 32,
    "start_time": "2024-06-12T13:59:22.575Z"
   },
   {
    "duration": 3,
    "start_time": "2024-06-12T13:59:22.610Z"
   },
   {
    "duration": 137,
    "start_time": "2024-06-12T13:59:22.615Z"
   },
   {
    "duration": 69,
    "start_time": "2024-06-12T13:59:22.754Z"
   },
   {
    "duration": 3,
    "start_time": "2024-06-12T13:59:22.825Z"
   },
   {
    "duration": 306,
    "start_time": "2024-06-12T13:59:22.831Z"
   },
   {
    "duration": 61,
    "start_time": "2024-06-12T13:59:23.139Z"
   },
   {
    "duration": 12,
    "start_time": "2024-06-12T13:59:23.207Z"
   },
   {
    "duration": 24,
    "start_time": "2024-06-12T13:59:23.221Z"
   },
   {
    "duration": 1592850,
    "start_time": "2024-06-12T13:59:23.247Z"
   },
   {
    "duration": 533,
    "start_time": "2024-06-12T14:25:56.101Z"
   },
   {
    "duration": 5,
    "start_time": "2024-06-12T14:25:56.636Z"
   },
   {
    "duration": 34,
    "start_time": "2024-06-12T14:25:56.643Z"
   },
   {
    "duration": 7,
    "start_time": "2024-06-12T14:25:56.679Z"
   },
   {
    "duration": 70365,
    "start_time": "2024-06-12T14:25:56.688Z"
   },
   {
    "duration": 549,
    "start_time": "2024-06-12T14:27:07.054Z"
   },
   {
    "duration": 6,
    "start_time": "2024-06-12T14:27:07.605Z"
   },
   {
    "duration": 29,
    "start_time": "2024-06-12T14:27:07.613Z"
   },
   {
    "duration": 15,
    "start_time": "2024-06-12T14:27:07.645Z"
   },
   {
    "duration": 13,
    "start_time": "2024-06-12T14:27:07.662Z"
   },
   {
    "duration": 85,
    "start_time": "2024-06-12T14:27:07.677Z"
   },
   {
    "duration": 54,
    "start_time": "2024-06-12T14:27:07.764Z"
   },
   {
    "duration": 11,
    "start_time": "2024-06-12T14:27:07.820Z"
   },
   {
    "duration": 767132,
    "start_time": "2024-06-12T14:27:07.832Z"
   },
   {
    "duration": 59,
    "start_time": "2024-06-12T14:39:54.966Z"
   },
   {
    "duration": 15831,
    "start_time": "2024-06-12T14:39:55.026Z"
   },
   {
    "duration": 5,
    "start_time": "2024-06-12T14:40:10.859Z"
   },
   {
    "duration": 11,
    "start_time": "2024-06-12T14:40:10.866Z"
   },
   {
    "duration": 17,
    "start_time": "2024-06-12T14:40:10.897Z"
   },
   {
    "duration": 29,
    "start_time": "2024-06-12T14:40:10.915Z"
   },
   {
    "duration": 194,
    "start_time": "2024-06-12T14:40:10.946Z"
   },
   {
    "duration": 4,
    "start_time": "2024-06-12T14:40:11.143Z"
   },
   {
    "duration": 561078,
    "start_time": "2024-06-12T14:40:11.149Z"
   },
   {
    "duration": 3,
    "start_time": "2024-06-12T14:49:32.229Z"
   },
   {
    "duration": 6061,
    "start_time": "2024-06-12T14:49:32.233Z"
   },
   {
    "duration": 514,
    "start_time": "2024-06-12T14:49:38.298Z"
   },
   {
    "duration": 8,
    "start_time": "2024-06-12T14:49:38.814Z"
   },
   {
    "duration": 2601,
    "start_time": "2024-06-12T14:49:38.826Z"
   },
   {
    "duration": 573,
    "start_time": "2024-06-12T14:49:41.428Z"
   },
   {
    "duration": 54,
    "start_time": "2024-06-12T14:49:42.005Z"
   },
   {
    "duration": 0,
    "start_time": "2024-06-12T14:49:42.061Z"
   },
   {
    "duration": 0,
    "start_time": "2024-06-12T14:49:42.062Z"
   },
   {
    "duration": 0,
    "start_time": "2024-06-12T14:49:42.065Z"
   },
   {
    "duration": 0,
    "start_time": "2024-06-12T14:49:42.067Z"
   },
   {
    "duration": 0,
    "start_time": "2024-06-12T14:49:42.068Z"
   },
   {
    "duration": 0,
    "start_time": "2024-06-12T14:49:42.070Z"
   },
   {
    "duration": 0,
    "start_time": "2024-06-12T14:49:42.072Z"
   },
   {
    "duration": 0,
    "start_time": "2024-06-12T14:49:42.073Z"
   },
   {
    "duration": 0,
    "start_time": "2024-06-12T14:49:42.075Z"
   },
   {
    "duration": 0,
    "start_time": "2024-06-12T14:49:42.082Z"
   },
   {
    "duration": 15,
    "start_time": "2024-06-12T14:54:16.941Z"
   },
   {
    "duration": 34,
    "start_time": "2024-06-12T14:54:20.468Z"
   },
   {
    "duration": 139,
    "start_time": "2024-06-12T14:54:23.571Z"
   },
   {
    "duration": 3398,
    "start_time": "2024-06-12T14:54:24.703Z"
   },
   {
    "duration": 506,
    "start_time": "2024-06-12T14:54:30.711Z"
   },
   {
    "duration": 5,
    "start_time": "2024-06-12T14:54:32.178Z"
   },
   {
    "duration": 8,
    "start_time": "2024-06-12T14:54:39.735Z"
   },
   {
    "duration": 4,
    "start_time": "2024-06-12T14:59:32.333Z"
   },
   {
    "duration": 8,
    "start_time": "2024-06-12T14:59:35.531Z"
   },
   {
    "duration": 9,
    "start_time": "2024-06-12T15:00:44.086Z"
   },
   {
    "duration": 9,
    "start_time": "2024-06-12T15:00:45.422Z"
   },
   {
    "duration": 14,
    "start_time": "2024-06-12T15:02:00.014Z"
   },
   {
    "duration": 8,
    "start_time": "2024-06-12T15:02:30.794Z"
   },
   {
    "duration": 3005,
    "start_time": "2024-06-12T15:12:08.846Z"
   },
   {
    "duration": 2859,
    "start_time": "2024-06-12T15:12:11.854Z"
   },
   {
    "duration": 3208,
    "start_time": "2024-06-12T15:12:14.716Z"
   },
   {
    "duration": 3449,
    "start_time": "2024-06-12T15:12:17.926Z"
   },
   {
    "duration": 3,
    "start_time": "2024-06-12T15:12:21.378Z"
   },
   {
    "duration": 21,
    "start_time": "2024-06-12T15:12:21.383Z"
   },
   {
    "duration": 1065,
    "start_time": "2024-06-12T15:12:21.406Z"
   },
   {
    "duration": 23,
    "start_time": "2024-06-12T15:12:22.473Z"
   },
   {
    "duration": 161,
    "start_time": "2024-06-12T15:12:22.499Z"
   },
   {
    "duration": 119,
    "start_time": "2024-06-12T15:12:22.661Z"
   },
   {
    "duration": 163,
    "start_time": "2024-06-12T15:12:22.781Z"
   },
   {
    "duration": 528,
    "start_time": "2024-06-12T15:12:22.946Z"
   },
   {
    "duration": 4,
    "start_time": "2024-06-12T15:12:23.475Z"
   },
   {
    "duration": 1084,
    "start_time": "2024-06-12T15:12:23.483Z"
   },
   {
    "duration": 29,
    "start_time": "2024-06-12T15:12:24.569Z"
   },
   {
    "duration": 44,
    "start_time": "2024-06-12T15:12:24.600Z"
   },
   {
    "duration": 18,
    "start_time": "2024-06-12T15:12:24.647Z"
   },
   {
    "duration": 2021,
    "start_time": "2024-06-12T15:12:24.668Z"
   },
   {
    "duration": 15,
    "start_time": "2024-06-12T15:12:26.692Z"
   },
   {
    "duration": 96,
    "start_time": "2024-06-12T15:12:26.709Z"
   },
   {
    "duration": 1841,
    "start_time": "2024-06-12T15:12:26.807Z"
   },
   {
    "duration": 49,
    "start_time": "2024-06-12T15:12:28.650Z"
   },
   {
    "duration": 362,
    "start_time": "2024-06-12T15:12:28.701Z"
   },
   {
    "duration": 28,
    "start_time": "2024-06-12T15:12:29.064Z"
   },
   {
    "duration": 255,
    "start_time": "2024-06-12T15:12:29.093Z"
   },
   {
    "duration": 166,
    "start_time": "2024-06-12T15:12:29.349Z"
   },
   {
    "duration": 129,
    "start_time": "2024-06-12T15:12:29.518Z"
   },
   {
    "duration": 180,
    "start_time": "2024-06-12T15:12:29.649Z"
   },
   {
    "duration": 42,
    "start_time": "2024-06-12T15:12:29.832Z"
   },
   {
    "duration": 1673,
    "start_time": "2024-06-12T15:12:29.877Z"
   },
   {
    "duration": 42,
    "start_time": "2024-06-12T15:12:31.552Z"
   },
   {
    "duration": 269,
    "start_time": "2024-06-12T15:12:31.595Z"
   },
   {
    "duration": 27,
    "start_time": "2024-06-12T15:12:31.866Z"
   },
   {
    "duration": 217,
    "start_time": "2024-06-12T15:12:31.894Z"
   },
   {
    "duration": 20,
    "start_time": "2024-06-12T15:12:32.112Z"
   },
   {
    "duration": 108,
    "start_time": "2024-06-12T15:12:32.134Z"
   },
   {
    "duration": 2850,
    "start_time": "2024-06-12T15:12:32.244Z"
   },
   {
    "duration": 72,
    "start_time": "2024-06-12T15:12:35.096Z"
   },
   {
    "duration": 1973,
    "start_time": "2024-06-12T15:12:35.169Z"
   },
   {
    "duration": 26,
    "start_time": "2024-06-12T15:12:37.144Z"
   },
   {
    "duration": 35,
    "start_time": "2024-06-12T15:12:37.191Z"
   },
   {
    "duration": 1974,
    "start_time": "2024-06-12T15:12:37.228Z"
   },
   {
    "duration": 52,
    "start_time": "2024-06-12T15:12:39.204Z"
   },
   {
    "duration": 48,
    "start_time": "2024-06-12T15:12:39.258Z"
   },
   {
    "duration": 64,
    "start_time": "2024-06-12T15:12:39.308Z"
   },
   {
    "duration": 6,
    "start_time": "2024-06-12T15:12:39.374Z"
   },
   {
    "duration": 24,
    "start_time": "2024-06-12T15:12:39.381Z"
   },
   {
    "duration": 259,
    "start_time": "2024-06-12T15:12:39.407Z"
   },
   {
    "duration": 42,
    "start_time": "2024-06-12T15:12:39.668Z"
   },
   {
    "duration": 245,
    "start_time": "2024-06-12T15:12:39.712Z"
   },
   {
    "duration": 58,
    "start_time": "2024-06-12T15:12:39.958Z"
   },
   {
    "duration": 5,
    "start_time": "2024-06-12T15:12:40.017Z"
   },
   {
    "duration": 88,
    "start_time": "2024-06-12T15:12:40.024Z"
   },
   {
    "duration": 37,
    "start_time": "2024-06-12T15:12:40.113Z"
   },
   {
    "duration": 266,
    "start_time": "2024-06-12T15:12:40.152Z"
   },
   {
    "duration": 16,
    "start_time": "2024-06-12T15:12:40.420Z"
   },
   {
    "duration": 213,
    "start_time": "2024-06-12T15:12:40.438Z"
   },
   {
    "duration": 43,
    "start_time": "2024-06-12T15:12:40.653Z"
   },
   {
    "duration": 626,
    "start_time": "2024-06-12T15:12:40.697Z"
   },
   {
    "duration": 21,
    "start_time": "2024-06-12T15:12:41.325Z"
   },
   {
    "duration": 52,
    "start_time": "2024-06-12T15:12:41.348Z"
   },
   {
    "duration": 309,
    "start_time": "2024-06-12T15:12:41.402Z"
   },
   {
    "duration": 20,
    "start_time": "2024-06-12T15:12:41.713Z"
   },
   {
    "duration": 373,
    "start_time": "2024-06-12T15:12:41.734Z"
   },
   {
    "duration": 17,
    "start_time": "2024-06-12T15:12:42.108Z"
   },
   {
    "duration": 86,
    "start_time": "2024-06-12T15:12:42.126Z"
   },
   {
    "duration": 59,
    "start_time": "2024-06-12T15:12:42.213Z"
   },
   {
    "duration": 3,
    "start_time": "2024-06-12T15:12:42.274Z"
   },
   {
    "duration": 258,
    "start_time": "2024-06-12T15:12:42.292Z"
   },
   {
    "duration": 52,
    "start_time": "2024-06-12T15:12:42.552Z"
   },
   {
    "duration": 3,
    "start_time": "2024-06-12T15:12:42.607Z"
   },
   {
    "duration": 18,
    "start_time": "2024-06-12T15:12:42.612Z"
   },
   {
    "duration": 1470628,
    "start_time": "2024-06-12T15:12:42.632Z"
   },
   {
    "duration": 503,
    "start_time": "2024-06-12T15:37:13.262Z"
   },
   {
    "duration": 6,
    "start_time": "2024-06-12T15:37:13.767Z"
   },
   {
    "duration": 18,
    "start_time": "2024-06-12T15:37:13.775Z"
   },
   {
    "duration": 29,
    "start_time": "2024-06-12T15:37:13.795Z"
   },
   {
    "duration": 64979,
    "start_time": "2024-06-12T15:37:13.826Z"
   },
   {
    "duration": 542,
    "start_time": "2024-06-12T15:38:18.808Z"
   },
   {
    "duration": 4,
    "start_time": "2024-06-12T15:38:19.353Z"
   },
   {
    "duration": 28,
    "start_time": "2024-06-12T15:38:19.359Z"
   },
   {
    "duration": 12,
    "start_time": "2024-06-12T15:38:19.389Z"
   },
   {
    "duration": 10,
    "start_time": "2024-06-12T15:38:19.403Z"
   },
   {
    "duration": 86,
    "start_time": "2024-06-12T15:38:19.415Z"
   },
   {
    "duration": 28,
    "start_time": "2024-06-12T15:38:19.503Z"
   },
   {
    "duration": 10,
    "start_time": "2024-06-12T15:38:19.533Z"
   },
   {
    "duration": 485071,
    "start_time": "2024-06-12T15:38:19.546Z"
   },
   {
    "duration": 48,
    "start_time": "2024-06-12T15:46:24.618Z"
   },
   {
    "duration": 8680,
    "start_time": "2024-06-12T15:46:24.668Z"
   },
   {
    "duration": 7,
    "start_time": "2024-06-12T15:46:33.350Z"
   },
   {
    "duration": 33,
    "start_time": "2024-06-12T15:46:33.359Z"
   },
   {
    "duration": 12,
    "start_time": "2024-06-12T15:46:33.394Z"
   },
   {
    "duration": 29,
    "start_time": "2024-06-12T15:46:33.408Z"
   },
   {
    "duration": 173,
    "start_time": "2024-06-12T15:46:33.439Z"
   },
   {
    "duration": 4,
    "start_time": "2024-06-12T15:46:33.614Z"
   },
   {
    "duration": 260994,
    "start_time": "2024-06-12T15:46:33.620Z"
   },
   {
    "duration": 4,
    "start_time": "2024-06-12T15:50:54.617Z"
   },
   {
    "duration": 2588,
    "start_time": "2024-06-12T15:50:54.623Z"
   },
   {
    "duration": 503,
    "start_time": "2024-06-12T15:50:57.213Z"
   },
   {
    "duration": 6,
    "start_time": "2024-06-12T15:50:57.793Z"
   },
   {
    "duration": 1094,
    "start_time": "2024-06-12T15:50:57.801Z"
   },
   {
    "duration": 510,
    "start_time": "2024-06-12T15:50:58.897Z"
   },
   {
    "duration": 15,
    "start_time": "2024-06-12T15:50:59.409Z"
   },
   {
    "duration": 69,
    "start_time": "2024-06-12T15:50:59.425Z"
   },
   {
    "duration": 133,
    "start_time": "2024-06-12T15:50:59.496Z"
   },
   {
    "duration": 3180,
    "start_time": "2024-06-12T15:50:59.631Z"
   },
   {
    "duration": 605,
    "start_time": "2024-06-12T15:51:02.813Z"
   },
   {
    "duration": 74,
    "start_time": "2024-06-12T15:51:03.420Z"
   },
   {
    "duration": 8,
    "start_time": "2024-06-12T15:51:03.496Z"
   }
  ],
  "kernelspec": {
   "display_name": "Python 3 (ipykernel)",
   "language": "python",
   "name": "python3"
  },
  "language_info": {
   "codemirror_mode": {
    "name": "ipython",
    "version": 3
   },
   "file_extension": ".py",
   "mimetype": "text/x-python",
   "name": "python",
   "nbconvert_exporter": "python",
   "pygments_lexer": "ipython3",
   "version": "3.9.5"
  },
  "toc": {
   "base_numbering": 1,
   "nav_menu": {},
   "number_sections": true,
   "sideBar": true,
   "skip_h1_title": true,
   "title_cell": "Table of Contents",
   "title_sidebar": "Contents",
   "toc_cell": false,
   "toc_position": {},
   "toc_section_display": true,
   "toc_window_display": true
  }
 },
 "nbformat": 4,
 "nbformat_minor": 2
}
