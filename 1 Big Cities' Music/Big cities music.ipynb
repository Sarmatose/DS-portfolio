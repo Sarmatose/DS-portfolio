{
 "cells": [
  {
   "cell_type": "markdown",
   "metadata": {
    "deletable": false,
    "editable": false,
    "id": "E0vqbgi9ay0H"
   },
   "source": [
    "# Яндекс Музыка"
   ]
  },
  {
   "cell_type": "markdown",
   "metadata": {
    "deletable": false,
    "editable": false,
    "id": "VUC88oWjTJw2"
   },
   "source": [
    "Сравнение Москвы и Петербурга окружено мифами. Например:\n",
    " * Москва — мегаполис, подчинённый жёсткому ритму рабочей недели;\n",
    " * Петербург — культурная столица, со своими вкусами.\n",
    "\n",
    "На данных Яндекс Музыки вы сравните поведение пользователей двух столиц.\n",
    "\n",
    "**Цель исследования** — проверьте три гипотезы:\n",
    "1. Активность пользователей зависит от дня недели. Причём в Москве и Петербурге это проявляется по-разному.\n",
    "2. В понедельник утром в Москве преобладают одни жанры, а в Петербурге — другие. Так же и вечером пятницы преобладают разные жанры — в зависимости от города.\n",
    "3. Москва и Петербург предпочитают разные жанры музыки. В Москве чаще слушают поп-музыку, в Петербурге — русский рэп.\n",
    "\n",
    "**Ход исследования**\n",
    "\n",
    "Данные о поведении пользователей вы получите из файла `yandex_music_project.csv`. О качестве данных ничего не известно. Поэтому перед проверкой гипотез понадобится обзор данных.\n",
    "\n",
    "Вы проверите данные на ошибки и оцените их влияние на исследование. Затем, на этапе предобработки вы поищете возможность исправить самые критичные ошибки данных.\n",
    "\n",
    "Таким образом, исследование пройдёт в три этапа:\n",
    " 1. Обзор данных.\n",
    " 2. Предобработка данных.\n",
    " 3. Проверка гипотез.\n",
    "\n"
   ]
  },
  {
   "cell_type": "markdown",
   "metadata": {
    "deletable": false,
    "editable": false,
    "id": "Ml1hmfXC_Zcs"
   },
   "source": [
    "## Обзор данных\n",
    "\n",
    "Составьте первое представление о данных Яндекс Музыки.\n",
    "\n",
    "\n"
   ]
  },
  {
   "cell_type": "markdown",
   "metadata": {
    "deletable": false,
    "editable": false,
    "id": "57eAOGIz_Zcs",
    "tags": [
     "start_task"
    ]
   },
   "source": [
    "**Задание 1**"
   ]
  },
  {
   "cell_type": "code",
   "execution_count": 10,
   "metadata": {
    "deletable": false,
    "id": "AXN7PHPN_Zcs"
   },
   "outputs": [],
   "source": [
    "import pandas as pd# импорт библиотеки pandas\n",
    "import matplotlib.pyplot as plt\n",
    "import seaborn as sns"
   ]
  },
  {
   "cell_type": "markdown",
   "metadata": {
    "deletable": false,
    "editable": false,
    "id": "SG23P8tt_Zcs",
    "tags": [
     "start_task"
    ]
   },
   "source": [
    "**Задание 2**"
   ]
  },
  {
   "cell_type": "code",
   "execution_count": 11,
   "metadata": {
    "deletable": false,
    "id": "fFVu7vqh_Zct"
   },
   "outputs": [],
   "source": [
    "df = pd.read_csv('/datasets/yandex_music_project.csv') # чтение файла с данными и сохранение в df"
   ]
  },
  {
   "cell_type": "markdown",
   "metadata": {
    "deletable": false,
    "editable": false,
    "id": "rDoOMd3uTqnZ",
    "tags": [
     "start_task"
    ]
   },
   "source": [
    "**Задание 3**"
   ]
  },
  {
   "cell_type": "code",
   "execution_count": 12,
   "metadata": {
    "deletable": false,
    "id": "oWTVX3gW_Zct"
   },
   "outputs": [
    {
     "data": {
      "text/html": [
       "<div>\n",
       "<style scoped>\n",
       "    .dataframe tbody tr th:only-of-type {\n",
       "        vertical-align: middle;\n",
       "    }\n",
       "\n",
       "    .dataframe tbody tr th {\n",
       "        vertical-align: top;\n",
       "    }\n",
       "\n",
       "    .dataframe thead th {\n",
       "        text-align: right;\n",
       "    }\n",
       "</style>\n",
       "<table border=\"1\" class=\"dataframe\">\n",
       "  <thead>\n",
       "    <tr style=\"text-align: right;\">\n",
       "      <th></th>\n",
       "      <th>userID</th>\n",
       "      <th>Track</th>\n",
       "      <th>artist</th>\n",
       "      <th>genre</th>\n",
       "      <th>City</th>\n",
       "      <th>time</th>\n",
       "      <th>Day</th>\n",
       "    </tr>\n",
       "  </thead>\n",
       "  <tbody>\n",
       "    <tr>\n",
       "      <th>0</th>\n",
       "      <td>FFB692EC</td>\n",
       "      <td>Kamigata To Boots</td>\n",
       "      <td>The Mass Missile</td>\n",
       "      <td>rock</td>\n",
       "      <td>Saint-Petersburg</td>\n",
       "      <td>20:28:33</td>\n",
       "      <td>Wednesday</td>\n",
       "    </tr>\n",
       "    <tr>\n",
       "      <th>1</th>\n",
       "      <td>55204538</td>\n",
       "      <td>Delayed Because of Accident</td>\n",
       "      <td>Andreas Rönnberg</td>\n",
       "      <td>rock</td>\n",
       "      <td>Moscow</td>\n",
       "      <td>14:07:09</td>\n",
       "      <td>Friday</td>\n",
       "    </tr>\n",
       "    <tr>\n",
       "      <th>2</th>\n",
       "      <td>20EC38</td>\n",
       "      <td>Funiculì funiculà</td>\n",
       "      <td>Mario Lanza</td>\n",
       "      <td>pop</td>\n",
       "      <td>Saint-Petersburg</td>\n",
       "      <td>20:58:07</td>\n",
       "      <td>Wednesday</td>\n",
       "    </tr>\n",
       "    <tr>\n",
       "      <th>3</th>\n",
       "      <td>A3DD03C9</td>\n",
       "      <td>Dragons in the Sunset</td>\n",
       "      <td>Fire + Ice</td>\n",
       "      <td>folk</td>\n",
       "      <td>Saint-Petersburg</td>\n",
       "      <td>08:37:09</td>\n",
       "      <td>Monday</td>\n",
       "    </tr>\n",
       "    <tr>\n",
       "      <th>4</th>\n",
       "      <td>E2DC1FAE</td>\n",
       "      <td>Soul People</td>\n",
       "      <td>Space Echo</td>\n",
       "      <td>dance</td>\n",
       "      <td>Moscow</td>\n",
       "      <td>08:34:34</td>\n",
       "      <td>Monday</td>\n",
       "    </tr>\n",
       "    <tr>\n",
       "      <th>5</th>\n",
       "      <td>842029A1</td>\n",
       "      <td>Преданная</td>\n",
       "      <td>IMPERVTOR</td>\n",
       "      <td>rusrap</td>\n",
       "      <td>Saint-Petersburg</td>\n",
       "      <td>13:09:41</td>\n",
       "      <td>Friday</td>\n",
       "    </tr>\n",
       "    <tr>\n",
       "      <th>6</th>\n",
       "      <td>4CB90AA5</td>\n",
       "      <td>True</td>\n",
       "      <td>Roman Messer</td>\n",
       "      <td>dance</td>\n",
       "      <td>Moscow</td>\n",
       "      <td>13:00:07</td>\n",
       "      <td>Wednesday</td>\n",
       "    </tr>\n",
       "    <tr>\n",
       "      <th>7</th>\n",
       "      <td>F03E1C1F</td>\n",
       "      <td>Feeling This Way</td>\n",
       "      <td>Polina Griffith</td>\n",
       "      <td>dance</td>\n",
       "      <td>Moscow</td>\n",
       "      <td>20:47:49</td>\n",
       "      <td>Wednesday</td>\n",
       "    </tr>\n",
       "    <tr>\n",
       "      <th>8</th>\n",
       "      <td>8FA1D3BE</td>\n",
       "      <td>И вновь продолжается бой</td>\n",
       "      <td>NaN</td>\n",
       "      <td>ruspop</td>\n",
       "      <td>Moscow</td>\n",
       "      <td>09:17:40</td>\n",
       "      <td>Friday</td>\n",
       "    </tr>\n",
       "    <tr>\n",
       "      <th>9</th>\n",
       "      <td>E772D5C0</td>\n",
       "      <td>Pessimist</td>\n",
       "      <td>NaN</td>\n",
       "      <td>dance</td>\n",
       "      <td>Saint-Petersburg</td>\n",
       "      <td>21:20:49</td>\n",
       "      <td>Wednesday</td>\n",
       "    </tr>\n",
       "  </tbody>\n",
       "</table>\n",
       "</div>"
      ],
      "text/plain": [
       "     userID                        Track            artist   genre  \\\n",
       "0  FFB692EC            Kamigata To Boots  The Mass Missile    rock   \n",
       "1  55204538  Delayed Because of Accident  Andreas Rönnberg    rock   \n",
       "2    20EC38            Funiculì funiculà       Mario Lanza     pop   \n",
       "3  A3DD03C9        Dragons in the Sunset        Fire + Ice    folk   \n",
       "4  E2DC1FAE                  Soul People        Space Echo   dance   \n",
       "5  842029A1                    Преданная         IMPERVTOR  rusrap   \n",
       "6  4CB90AA5                         True      Roman Messer   dance   \n",
       "7  F03E1C1F             Feeling This Way   Polina Griffith   dance   \n",
       "8  8FA1D3BE     И вновь продолжается бой               NaN  ruspop   \n",
       "9  E772D5C0                    Pessimist               NaN   dance   \n",
       "\n",
       "             City        time        Day  \n",
       "0  Saint-Petersburg  20:28:33  Wednesday  \n",
       "1            Moscow  14:07:09     Friday  \n",
       "2  Saint-Petersburg  20:58:07  Wednesday  \n",
       "3  Saint-Petersburg  08:37:09     Monday  \n",
       "4            Moscow  08:34:34     Monday  \n",
       "5  Saint-Petersburg  13:09:41     Friday  \n",
       "6            Moscow  13:00:07  Wednesday  \n",
       "7            Moscow  20:47:49  Wednesday  \n",
       "8            Moscow  09:17:40     Friday  \n",
       "9  Saint-Petersburg  21:20:49  Wednesday  "
      ]
     },
     "execution_count": 12,
     "metadata": {},
     "output_type": "execute_result"
    }
   ],
   "source": [
    "df.head(10)# получение первых 10 строк таблицы df"
   ]
  },
  {
   "cell_type": "code",
   "execution_count": 26,
   "metadata": {},
   "outputs": [
    {
     "name": "stdout",
     "output_type": "stream",
     "text": [
      "         userID                              Track            artist  \\\n",
      "0      FFB692EC                  Kamigata To Boots  The Mass Missile   \n",
      "1      55204538        Delayed Because of Accident  Andreas Rönnberg   \n",
      "2        20EC38                  Funiculì funiculà       Mario Lanza   \n",
      "3      A3DD03C9              Dragons in the Sunset        Fire + Ice   \n",
      "4      E2DC1FAE                        Soul People        Space Echo   \n",
      "...         ...                                ...               ...   \n",
      "65074  729CBB09                            My Name            McLean   \n",
      "65075  D08D4A55  Maybe One Day (feat. Black Spade)       Blu & Exile   \n",
      "65076  C5E3A0D5                          Jalopiina               NaN   \n",
      "65077  321D0506                      Freight Train     Chas McDevitt   \n",
      "65078  3A64EF84          Tell Me Sweet Little Lies      Monica Lopez   \n",
      "\n",
      "            genre            City        time        Day  \n",
      "0            rock  Saint-Petersburg  20:28:33  Wednesday  \n",
      "1            rock            Moscow  14:07:09     Friday  \n",
      "2             pop  Saint-Petersburg  20:58:07  Wednesday  \n",
      "3            folk  Saint-Petersburg  08:37:09     Monday  \n",
      "4           dance            Moscow  08:34:34     Monday  \n",
      "...           ...               ...       ...        ...  \n",
      "65074         rnb            Moscow  13:32:28  Wednesday  \n",
      "65075         hip  Saint-Petersburg  10:00:00     Monday  \n",
      "65076  industrial            Moscow  20:09:26     Friday  \n",
      "65077        rock            Moscow  21:43:59     Friday  \n",
      "65078     country            Moscow  21:59:46     Friday  \n",
      "\n",
      "[65079 rows x 7 columns]\n"
     ]
    }
   ],
   "source": [
    "df.reset_index()\n",
    "print(df)"
   ]
  },
  {
   "cell_type": "markdown",
   "metadata": {
    "deletable": false,
    "editable": false,
    "id": "EO73Kwic_Zct",
    "tags": [
     "start_task"
    ]
   },
   "source": [
    "**Задание 4**"
   ]
  },
  {
   "cell_type": "code",
   "execution_count": 4,
   "metadata": {
    "deletable": false,
    "id": "DSf2kIb-_Zct"
   },
   "outputs": [
    {
     "name": "stdout",
     "output_type": "stream",
     "text": [
      "<class 'pandas.core.frame.DataFrame'>\n",
      "RangeIndex: 65079 entries, 0 to 65078\n",
      "Data columns (total 7 columns):\n",
      " #   Column    Non-Null Count  Dtype \n",
      "---  ------    --------------  ----- \n",
      " 0     userID  65079 non-null  object\n",
      " 1   Track     63848 non-null  object\n",
      " 2   artist    57876 non-null  object\n",
      " 3   genre     63881 non-null  object\n",
      " 4     City    65079 non-null  object\n",
      " 5   time      65079 non-null  object\n",
      " 6   Day       65079 non-null  object\n",
      "dtypes: object(7)\n",
      "memory usage: 3.5+ MB\n"
     ]
    }
   ],
   "source": [
    "df.info()# получение общей информации о данных в таблице df"
   ]
  },
  {
   "cell_type": "markdown",
   "metadata": {
    "deletable": false,
    "editable": false,
    "id": "TaQ2Iwbr_Zct"
   },
   "source": [
    "Количество значений в столбцах различается. Значит, в данных есть пропущенные значения."
   ]
  },
  {
   "cell_type": "markdown",
   "metadata": {
    "deletable": false,
    "editable": false,
    "id": "4P0UCWzswgEm",
    "tags": [
     "start_task"
    ]
   },
   "source": [
    "**Задание 5**"
   ]
  },
  {
   "cell_type": "code",
   "execution_count": 5,
   "metadata": {
    "id": "c137-ZstwgEm"
   },
   "outputs": [],
   "source": [
    "# Думаю, что userID следовало бы написать через змеиный регистр, а именно user_id. Напишите ваш ответ здесь комментарием. Не удаляйте символ #. Не меняйте тип этой ячейки на Markdown."
   ]
  },
  {
   "cell_type": "markdown",
   "metadata": {
    "deletable": false,
    "editable": false,
    "id": "MCB6-dXG_Zct"
   },
   "source": [
    "**Выводы**\n",
    "\n",
    "В каждой строке таблицы — данные о прослушанном треке. Часть колонок описывает саму композицию: название, исполнителя и жанр. Остальные данные рассказывают о пользователе: из какого он города, когда он слушал музыку.\n",
    "\n",
    "Предварительно можно утверждать, что данных достаточно для проверки гипотез. Но встречаются пропуски в данных, а в названиях колонок — расхождения с хорошим стилем.\n",
    "\n",
    "Чтобы двигаться дальше, нужно устранить проблемы в данных."
   ]
  },
  {
   "cell_type": "markdown",
   "metadata": {
    "deletable": false,
    "editable": false,
    "id": "SjYF6Ub9_Zct"
   },
   "source": [
    "## Предобработка данных"
   ]
  },
  {
   "cell_type": "markdown",
   "metadata": {
    "deletable": false,
    "editable": false,
    "id": "dIaKXr29_Zct",
    "tags": [
     "start_task"
    ]
   },
   "source": [
    "### Переименование столбцов\n",
    "\n",
    "**Задание 6**"
   ]
  },
  {
   "cell_type": "code",
   "execution_count": 6,
   "metadata": {
    "deletable": false,
    "id": "oKOTdF_Q_Zct"
   },
   "outputs": [
    {
     "data": {
      "text/plain": [
       "Index(['  userID', 'Track', 'artist', 'genre', '  City  ', 'time', 'Day'], dtype='object')"
      ]
     },
     "execution_count": 6,
     "metadata": {},
     "output_type": "execute_result"
    }
   ],
   "source": [
    "df.columns# перечень названий столбцов таблицы df"
   ]
  },
  {
   "cell_type": "markdown",
   "metadata": {
    "deletable": false,
    "editable": false,
    "id": "zj5534cv_Zct",
    "tags": [
     "start_task"
    ]
   },
   "source": [
    "**Задание 7**"
   ]
  },
  {
   "cell_type": "code",
   "execution_count": 29,
   "metadata": {
    "deletable": false,
    "id": "ISlFqs5y_Zct"
   },
   "outputs": [],
   "source": [
    "df = df.rename(columns = {'  userID': 'user_id', 'Track' : 'track', '  City  ': 'city', 'Day': 'day'}) # переименование столбцов"
   ]
  },
  {
   "cell_type": "markdown",
   "metadata": {
    "deletable": false,
    "editable": false,
    "id": "1dqbh00J_Zct",
    "tags": [
     "start_task"
    ]
   },
   "source": [
    "**Задание 8**"
   ]
  },
  {
   "cell_type": "code",
   "execution_count": 8,
   "metadata": {
    "deletable": false,
    "id": "d4NOAmTW_Zct"
   },
   "outputs": [
    {
     "data": {
      "text/plain": [
       "Index(['user_id', 'track', 'artist', 'genre', 'city', 'time', 'day'], dtype='object')"
      ]
     },
     "execution_count": 8,
     "metadata": {},
     "output_type": "execute_result"
    }
   ],
   "source": [
    "df.columns# проверка результатов - перечень названий столбцов"
   ]
  },
  {
   "cell_type": "markdown",
   "metadata": {
    "deletable": false,
    "editable": false,
    "id": "5ISfbcfY_Zct",
    "tags": [
     "start_task"
    ]
   },
   "source": [
    "### Обработка пропущенных значений\n",
    "\n",
    "**Задание 9**"
   ]
  },
  {
   "cell_type": "code",
   "execution_count": 9,
   "metadata": {
    "deletable": false,
    "id": "RskX29qr_Zct"
   },
   "outputs": [
    {
     "data": {
      "text/plain": [
       "user_id       0\n",
       "track      1231\n",
       "artist     7203\n",
       "genre      1198\n",
       "city          0\n",
       "time          0\n",
       "day           0\n",
       "dtype: int64"
      ]
     },
     "execution_count": 9,
     "metadata": {},
     "output_type": "execute_result"
    }
   ],
   "source": [
    "df.isna().sum()# подсчёт пропусков"
   ]
  },
  {
   "cell_type": "markdown",
   "metadata": {
    "deletable": false,
    "editable": false,
    "id": "fSv2laPA_Zct",
    "tags": [
     "start_task"
    ]
   },
   "source": [
    "**Задание 10**"
   ]
  },
  {
   "cell_type": "code",
   "execution_count": 10,
   "metadata": {
    "deletable": false,
    "id": "KplB5qWs_Zct"
   },
   "outputs": [],
   "source": [
    "columns_to_replace = ['track', 'artist', 'genre']\n",
    "for column in columns_to_replace:\n",
    "    df[column] = df[column].fillna('unknown')"
   ]
  },
  {
   "cell_type": "markdown",
   "metadata": {
    "deletable": false,
    "editable": false,
    "id": "Ilsm-MZo_Zct",
    "tags": [
     "start_task"
    ]
   },
   "source": [
    "**Задание 11**"
   ]
  },
  {
   "cell_type": "code",
   "execution_count": 11,
   "metadata": {
    "deletable": false,
    "id": "Tq4nYRX4_Zct"
   },
   "outputs": [
    {
     "data": {
      "text/plain": [
       "user_id    0\n",
       "track      0\n",
       "artist     0\n",
       "genre      0\n",
       "city       0\n",
       "time       0\n",
       "day        0\n",
       "dtype: int64"
      ]
     },
     "execution_count": 11,
     "metadata": {},
     "output_type": "execute_result"
    }
   ],
   "source": [
    "df.isna().sum()# проверка на отсутствие пропусков"
   ]
  },
  {
   "cell_type": "markdown",
   "metadata": {
    "deletable": false,
    "editable": false,
    "id": "BWKRtBJ3_Zct",
    "tags": [
     "start_task"
    ]
   },
   "source": [
    "### Обработка дубликатов\n",
    "\n",
    "**Задание 12**"
   ]
  },
  {
   "cell_type": "code",
   "execution_count": 12,
   "metadata": {
    "deletable": false,
    "id": "36eES_S0_Zct"
   },
   "outputs": [
    {
     "data": {
      "text/plain": [
       "3826"
      ]
     },
     "execution_count": 12,
     "metadata": {},
     "output_type": "execute_result"
    }
   ],
   "source": [
    "df.duplicated().sum()# подсчёт явных дубликатов"
   ]
  },
  {
   "cell_type": "markdown",
   "metadata": {
    "deletable": false,
    "editable": false,
    "id": "Ot25h6XR_Zct",
    "tags": [
     "start_task"
    ]
   },
   "source": [
    "**Задание 13**"
   ]
  },
  {
   "cell_type": "code",
   "execution_count": 13,
   "metadata": {
    "deletable": false,
    "id": "exFHq6tt_Zct"
   },
   "outputs": [],
   "source": [
    "df = df.drop_duplicates().reset_index(drop = True)# удаление явных дубликатов, создание новых индексов и удаление старых"
   ]
  },
  {
   "cell_type": "markdown",
   "metadata": {
    "deletable": false,
    "editable": false,
    "id": "Im2YwBEG_Zct",
    "tags": [
     "start_task"
    ]
   },
   "source": [
    "**Задание 14**"
   ]
  },
  {
   "cell_type": "code",
   "execution_count": 14,
   "metadata": {
    "deletable": false,
    "id": "-8PuNWQ0_Zct"
   },
   "outputs": [
    {
     "data": {
      "text/plain": [
       "0"
      ]
     },
     "execution_count": 14,
     "metadata": {},
     "output_type": "execute_result"
    }
   ],
   "source": [
    "df.duplicated().sum()# проверка на отсутствие явных дубликатов"
   ]
  },
  {
   "cell_type": "markdown",
   "metadata": {
    "deletable": false,
    "editable": false,
    "id": "eSjWwsOh_Zct",
    "tags": [
     "start_task"
    ]
   },
   "source": [
    "**Задание 15**"
   ]
  },
  {
   "cell_type": "code",
   "execution_count": 15,
   "metadata": {
    "deletable": false,
    "id": "JIUcqzZN_Zct"
   },
   "outputs": [
    {
     "data": {
      "text/plain": [
       "array(['acid', 'acoustic', 'action', 'adult', 'africa', 'afrikaans',\n",
       "       'alternative', 'alternativepunk', 'ambient', 'americana',\n",
       "       'animated', 'anime', 'arabesk', 'arabic', 'arena',\n",
       "       'argentinetango', 'art', 'audiobook', 'author', 'avantgarde',\n",
       "       'axé', 'baile', 'balkan', 'beats', 'bigroom', 'black', 'bluegrass',\n",
       "       'blues', 'bollywood', 'bossa', 'brazilian', 'breakbeat', 'breaks',\n",
       "       'broadway', 'cantautori', 'cantopop', 'canzone', 'caribbean',\n",
       "       'caucasian', 'celtic', 'chamber', 'chanson', 'children', 'chill',\n",
       "       'chinese', 'choral', 'christian', 'christmas', 'classical',\n",
       "       'classicmetal', 'club', 'colombian', 'comedy', 'conjazz',\n",
       "       'contemporary', 'country', 'cuban', 'dance', 'dancehall',\n",
       "       'dancepop', 'dark', 'death', 'deep', 'deutschrock', 'deutschspr',\n",
       "       'dirty', 'disco', 'dnb', 'documentary', 'downbeat', 'downtempo',\n",
       "       'drum', 'dub', 'dubstep', 'eastern', 'easy', 'electronic',\n",
       "       'electropop', 'emo', 'entehno', 'epicmetal', 'estrada', 'ethnic',\n",
       "       'eurofolk', 'european', 'experimental', 'extrememetal', 'fado',\n",
       "       'fairytail', 'film', 'fitness', 'flamenco', 'folk', 'folklore',\n",
       "       'folkmetal', 'folkrock', 'folktronica', 'forró', 'frankreich',\n",
       "       'französisch', 'french', 'funk', 'future', 'gangsta', 'garage',\n",
       "       'german', 'ghazal', 'gitarre', 'glitch', 'gospel', 'gothic',\n",
       "       'grime', 'grunge', 'gypsy', 'handsup', \"hard'n'heavy\", 'hardcore',\n",
       "       'hardstyle', 'hardtechno', 'hip', 'hip-hop', 'hiphop',\n",
       "       'historisch', 'holiday', 'hop', 'horror', 'house', 'hymn', 'idm',\n",
       "       'independent', 'indian', 'indie', 'indipop', 'industrial',\n",
       "       'inspirational', 'instrumental', 'international', 'irish', 'jam',\n",
       "       'japanese', 'jazz', 'jewish', 'jpop', 'jungle', 'k-pop',\n",
       "       'karadeniz', 'karaoke', 'kayokyoku', 'korean', 'laiko', 'latin',\n",
       "       'latino', 'leftfield', 'local', 'lounge', 'loungeelectronic',\n",
       "       'lovers', 'malaysian', 'mandopop', 'marschmusik', 'meditative',\n",
       "       'mediterranean', 'melodic', 'metal', 'metalcore', 'mexican',\n",
       "       'middle', 'minimal', 'miscellaneous', 'modern', 'mood', 'mpb',\n",
       "       'muslim', 'native', 'neoklassik', 'neue', 'new', 'newage',\n",
       "       'newwave', 'nu', 'nujazz', 'numetal', 'oceania', 'old', 'opera',\n",
       "       'orchestral', 'other', 'piano', 'podcasts', 'pop', 'popdance',\n",
       "       'popelectronic', 'popeurodance', 'poprussian', 'post',\n",
       "       'posthardcore', 'postrock', 'power', 'progmetal', 'progressive',\n",
       "       'psychedelic', 'punjabi', 'punk', 'quebecois', 'ragga', 'ram',\n",
       "       'rancheras', 'rap', 'rave', 'reggae', 'reggaeton', 'regional',\n",
       "       'relax', 'religious', 'retro', 'rhythm', 'rnb', 'rnr', 'rock',\n",
       "       'rockabilly', 'rockalternative', 'rockindie', 'rockother',\n",
       "       'romance', 'roots', 'ruspop', 'rusrap', 'rusrock', 'russian',\n",
       "       'salsa', 'samba', 'scenic', 'schlager', 'self', 'sertanejo',\n",
       "       'shanson', 'shoegazing', 'showtunes', 'singer', 'ska', 'skarock',\n",
       "       'slow', 'smooth', 'soft', 'soul', 'soulful', 'sound', 'soundtrack',\n",
       "       'southern', 'specialty', 'speech', 'spiritual', 'sport',\n",
       "       'stonerrock', 'surf', 'swing', 'synthpop', 'synthrock',\n",
       "       'sängerportrait', 'tango', 'tanzorchester', 'taraftar', 'tatar',\n",
       "       'tech', 'techno', 'teen', 'thrash', 'top', 'traditional',\n",
       "       'tradjazz', 'trance', 'tribal', 'trip', 'triphop', 'tropical',\n",
       "       'türk', 'türkçe', 'ukrrock', 'unknown', 'urban', 'uzbek',\n",
       "       'variété', 'vi', 'videogame', 'vocal', 'western', 'world',\n",
       "       'worldbeat', 'ïîï', 'электроника'], dtype=object)"
      ]
     },
     "execution_count": 15,
     "metadata": {},
     "output_type": "execute_result"
    }
   ],
   "source": [
    "sorted_genre = df['genre'].sort_values().unique()# просмотр уникальных отсортированных названий жанров\n",
    "sorted_genre"
   ]
  },
  {
   "cell_type": "markdown",
   "metadata": {
    "deletable": false,
    "editable": false,
    "id": "qej-Qmuo_Zct",
    "tags": [
     "start_task"
    ]
   },
   "source": [
    "**Задание 16**"
   ]
  },
  {
   "cell_type": "code",
   "execution_count": 16,
   "metadata": {
    "deletable": false,
    "id": "ErNDkmns_Zct"
   },
   "outputs": [],
   "source": [
    "duplicates = ['hip', 'hop', 'hip-hop']\n",
    "df['genre'] = df['genre'].replace(duplicates, 'hiphop') # устранение неявных дубликатов"
   ]
  },
  {
   "cell_type": "markdown",
   "metadata": {
    "deletable": false,
    "editable": false,
    "id": "zQKF16_RG15m",
    "tags": [
     "start_task"
    ]
   },
   "source": [
    "**Задание 17**"
   ]
  },
  {
   "cell_type": "code",
   "execution_count": 17,
   "metadata": {
    "deletable": false,
    "id": "wvixALnFG15m"
   },
   "outputs": [
    {
     "data": {
      "text/plain": [
       "array(['acid', 'acoustic', 'action', 'adult', 'africa', 'afrikaans',\n",
       "       'alternative', 'alternativepunk', 'ambient', 'americana',\n",
       "       'animated', 'anime', 'arabesk', 'arabic', 'arena',\n",
       "       'argentinetango', 'art', 'audiobook', 'author', 'avantgarde',\n",
       "       'axé', 'baile', 'balkan', 'beats', 'bigroom', 'black', 'bluegrass',\n",
       "       'blues', 'bollywood', 'bossa', 'brazilian', 'breakbeat', 'breaks',\n",
       "       'broadway', 'cantautori', 'cantopop', 'canzone', 'caribbean',\n",
       "       'caucasian', 'celtic', 'chamber', 'chanson', 'children', 'chill',\n",
       "       'chinese', 'choral', 'christian', 'christmas', 'classical',\n",
       "       'classicmetal', 'club', 'colombian', 'comedy', 'conjazz',\n",
       "       'contemporary', 'country', 'cuban', 'dance', 'dancehall',\n",
       "       'dancepop', 'dark', 'death', 'deep', 'deutschrock', 'deutschspr',\n",
       "       'dirty', 'disco', 'dnb', 'documentary', 'downbeat', 'downtempo',\n",
       "       'drum', 'dub', 'dubstep', 'eastern', 'easy', 'electronic',\n",
       "       'electropop', 'emo', 'entehno', 'epicmetal', 'estrada', 'ethnic',\n",
       "       'eurofolk', 'european', 'experimental', 'extrememetal', 'fado',\n",
       "       'fairytail', 'film', 'fitness', 'flamenco', 'folk', 'folklore',\n",
       "       'folkmetal', 'folkrock', 'folktronica', 'forró', 'frankreich',\n",
       "       'französisch', 'french', 'funk', 'future', 'gangsta', 'garage',\n",
       "       'german', 'ghazal', 'gitarre', 'glitch', 'gospel', 'gothic',\n",
       "       'grime', 'grunge', 'gypsy', 'handsup', \"hard'n'heavy\", 'hardcore',\n",
       "       'hardstyle', 'hardtechno', 'hiphop', 'historisch', 'holiday',\n",
       "       'horror', 'house', 'hymn', 'idm', 'independent', 'indian', 'indie',\n",
       "       'indipop', 'industrial', 'inspirational', 'instrumental',\n",
       "       'international', 'irish', 'jam', 'japanese', 'jazz', 'jewish',\n",
       "       'jpop', 'jungle', 'k-pop', 'karadeniz', 'karaoke', 'kayokyoku',\n",
       "       'korean', 'laiko', 'latin', 'latino', 'leftfield', 'local',\n",
       "       'lounge', 'loungeelectronic', 'lovers', 'malaysian', 'mandopop',\n",
       "       'marschmusik', 'meditative', 'mediterranean', 'melodic', 'metal',\n",
       "       'metalcore', 'mexican', 'middle', 'minimal', 'miscellaneous',\n",
       "       'modern', 'mood', 'mpb', 'muslim', 'native', 'neoklassik', 'neue',\n",
       "       'new', 'newage', 'newwave', 'nu', 'nujazz', 'numetal', 'oceania',\n",
       "       'old', 'opera', 'orchestral', 'other', 'piano', 'podcasts', 'pop',\n",
       "       'popdance', 'popelectronic', 'popeurodance', 'poprussian', 'post',\n",
       "       'posthardcore', 'postrock', 'power', 'progmetal', 'progressive',\n",
       "       'psychedelic', 'punjabi', 'punk', 'quebecois', 'ragga', 'ram',\n",
       "       'rancheras', 'rap', 'rave', 'reggae', 'reggaeton', 'regional',\n",
       "       'relax', 'religious', 'retro', 'rhythm', 'rnb', 'rnr', 'rock',\n",
       "       'rockabilly', 'rockalternative', 'rockindie', 'rockother',\n",
       "       'romance', 'roots', 'ruspop', 'rusrap', 'rusrock', 'russian',\n",
       "       'salsa', 'samba', 'scenic', 'schlager', 'self', 'sertanejo',\n",
       "       'shanson', 'shoegazing', 'showtunes', 'singer', 'ska', 'skarock',\n",
       "       'slow', 'smooth', 'soft', 'soul', 'soulful', 'sound', 'soundtrack',\n",
       "       'southern', 'specialty', 'speech', 'spiritual', 'sport',\n",
       "       'stonerrock', 'surf', 'swing', 'synthpop', 'synthrock',\n",
       "       'sängerportrait', 'tango', 'tanzorchester', 'taraftar', 'tatar',\n",
       "       'tech', 'techno', 'teen', 'thrash', 'top', 'traditional',\n",
       "       'tradjazz', 'trance', 'tribal', 'trip', 'triphop', 'tropical',\n",
       "       'türk', 'türkçe', 'ukrrock', 'unknown', 'urban', 'uzbek',\n",
       "       'variété', 'vi', 'videogame', 'vocal', 'western', 'world',\n",
       "       'worldbeat', 'ïîï', 'электроника'], dtype=object)"
      ]
     },
     "execution_count": 17,
     "metadata": {},
     "output_type": "execute_result"
    }
   ],
   "source": [
    "sorted_genre = df['genre'].sort_values().unique()# просмотр уникальных отсортированных названий жанров\n",
    "sorted_genre# проверка на отсутствие неявных дубликатов"
   ]
  },
  {
   "cell_type": "markdown",
   "metadata": {
    "deletable": false,
    "editable": false,
    "id": "jz6a9-7HQUDd"
   },
   "source": [
    "**Выводы**\n",
    "\n",
    "Предобработка обнаружила три проблемы в данных:\n",
    "\n",
    "- нарушения в стиле заголовков,\n",
    "- пропущенные значения,\n",
    "- дубликаты — явные и неявные.\n",
    "\n",
    "Вы исправили заголовки, чтобы упростить работу с таблицей. Без дубликатов исследование станет более точным.\n",
    "\n",
    "Пропущенные значения вы заменили на `'unknown'`. Ещё предстоит увидеть, не повредят ли исследованию пропуски в колонке `genre`.\n",
    "\n",
    "Теперь можно перейти к проверке гипотез."
   ]
  },
  {
   "cell_type": "markdown",
   "metadata": {
    "deletable": false,
    "editable": false,
    "id": "WttZHXH0SqKk"
   },
   "source": [
    "## Проверка гипотез"
   ]
  },
  {
   "cell_type": "markdown",
   "metadata": {
    "deletable": false,
    "editable": false,
    "id": "Im936VVi_Zcu"
   },
   "source": [
    "### Сравнение поведения пользователей двух столиц"
   ]
  },
  {
   "cell_type": "markdown",
   "metadata": {
    "deletable": false,
    "editable": false,
    "id": "nwt_MuaL_Zcu"
   },
   "source": [
    "Первая гипотеза утверждает, что пользователи по-разному слушают музыку в Москве и Санкт-Петербурге. Проверим это предположение по данным о трёх днях недели — понедельнике, среде и пятнице. Для этого:\n",
    "\n",
    "* Разделим пользователей Москвы и Санкт-Петербурга.\n",
    "* Сравним, сколько треков послушала каждая группа пользователей в понедельник, среду и пятницу.\n"
   ]
  },
  {
   "cell_type": "markdown",
   "metadata": {
    "deletable": false,
    "id": "8Dw_YMmT_Zcu",
    "tags": [
     "start_task"
    ]
   },
   "source": [
    "**Задание 18**\n",
    "\n"
   ]
  },
  {
   "cell_type": "code",
   "execution_count": 18,
   "metadata": {
    "deletable": false,
    "id": "0_Qs96oh_Zcu"
   },
   "outputs": [],
   "source": [
    "hearings_by_city = df.groupby('city')['time'].count()\n",
    "# подсчёт прослушиваний в каждом городе"
   ]
  },
  {
   "cell_type": "markdown",
   "metadata": {
    "id": "dzli3w8o_Zcu",
    "tags": [
     "start_task"
    ]
   },
   "source": [
    "**Задание 19**\n"
   ]
  },
  {
   "cell_type": "code",
   "execution_count": 19,
   "metadata": {
    "deletable": false,
    "id": "uZMKjiJz_Zcu"
   },
   "outputs": [
    {
     "data": {
      "text/plain": [
       "day\n",
       "Friday       21840\n",
       "Monday       21354\n",
       "Wednesday    18059\n",
       "Name: time, dtype: int64"
      ]
     },
     "execution_count": 19,
     "metadata": {},
     "output_type": "execute_result"
    }
   ],
   "source": [
    "hearings_by_day = df.groupby('day')['time'].count()\n",
    "hearings_by_day# подсчёт прослушиваний в каждый из трёх дней"
   ]
  },
  {
   "cell_type": "markdown",
   "metadata": {
    "deletable": false,
    "editable": false,
    "id": "POzs8bGa_Zcu",
    "tags": [
     "start_task"
    ]
   },
   "source": [
    "**Задание 20**"
   ]
  },
  {
   "cell_type": "code",
   "execution_count": 20,
   "metadata": {
    "deletable": false,
    "id": "Nz3GdQB1_Zcu"
   },
   "outputs": [],
   "source": [
    "def number_tracks(day, city):\n",
    "    track_list = df[df['day'] == day] # выберите только строки df со значением переменной day в столбце day\n",
    "    track_list = track_list[track_list['city'] == city] # выберите только строки track_list со значением переменной city в столбце city\n",
    "    track_list_count = track_list['user_id'].count() # вызовите метод подсчета строк для track_list и выберите столбец user_id\n",
    "    return track_list_count # верните значение track_list_count из функции"
   ]
  },
  {
   "cell_type": "markdown",
   "metadata": {
    "deletable": false,
    "editable": false,
    "id": "ytf7xFrFJQ2r",
    "tags": [
     "start_task"
    ]
   },
   "source": [
    "**Задание 21**"
   ]
  },
  {
   "cell_type": "code",
   "execution_count": 21,
   "metadata": {
    "deletable": false,
    "id": "rJcRATNQ_Zcu"
   },
   "outputs": [
    {
     "name": "stdout",
     "output_type": "stream",
     "text": [
      "15740\n"
     ]
    }
   ],
   "source": [
    "number_tracks('Monday', 'Moscow')\n",
    "print(number_tracks('Monday', 'Moscow'))# количество прослушиваний в Москве по понедельникам"
   ]
  },
  {
   "cell_type": "code",
   "execution_count": 22,
   "metadata": {
    "deletable": false,
    "id": "hq_ncZ5T_Zcu"
   },
   "outputs": [
    {
     "name": "stdout",
     "output_type": "stream",
     "text": [
      "5614\n"
     ]
    }
   ],
   "source": [
    "number_tracks('Monday', 'Saint-Petersburg')\n",
    "print(number_tracks('Monday', 'Saint-Petersburg'))# количество прослушиваний в Санкт-Петербурге по понедельникам"
   ]
  },
  {
   "cell_type": "code",
   "execution_count": 23,
   "metadata": {
    "deletable": false,
    "id": "_NTy2VPU_Zcu"
   },
   "outputs": [
    {
     "name": "stdout",
     "output_type": "stream",
     "text": [
      "11056\n"
     ]
    }
   ],
   "source": [
    "number_tracks('Wednesday', 'Moscow')\n",
    "print(number_tracks('Wednesday', 'Moscow'))# количество прослушиваний в Москве по средам"
   ]
  },
  {
   "cell_type": "code",
   "execution_count": 24,
   "metadata": {
    "deletable": false,
    "id": "j2y3TAwo_Zcu"
   },
   "outputs": [
    {
     "name": "stdout",
     "output_type": "stream",
     "text": [
      "7003\n"
     ]
    }
   ],
   "source": [
    "number_tracks('Wednesday', 'Saint-Petersburg')\n",
    "print(number_tracks('Wednesday', 'Saint-Petersburg'))# количество прослушиваний в Санкт-Петербурге по средам"
   ]
  },
  {
   "cell_type": "code",
   "execution_count": 25,
   "metadata": {
    "deletable": false,
    "id": "vYDw5u_K_Zcu"
   },
   "outputs": [
    {
     "name": "stdout",
     "output_type": "stream",
     "text": [
      "15945\n"
     ]
    }
   ],
   "source": [
    "number_tracks('Friday', 'Moscow')\n",
    "print(number_tracks('Friday', 'Moscow'))# количество прослушиваний в Москве по пятницам"
   ]
  },
  {
   "cell_type": "code",
   "execution_count": 26,
   "metadata": {
    "deletable": false,
    "id": "8_yzFtW3_Zcu"
   },
   "outputs": [
    {
     "name": "stdout",
     "output_type": "stream",
     "text": [
      "5895\n"
     ]
    }
   ],
   "source": [
    "number_tracks('Friday', 'Saint-Petersburg')\n",
    "print(number_tracks('Friday', 'Saint-Petersburg'))# количество прослушиваний в Санкт-Петербурге по пятницам"
   ]
  },
  {
   "cell_type": "markdown",
   "metadata": {
    "deletable": false,
    "editable": false,
    "id": "7QXffbO-_Zcu",
    "tags": [
     "start_task"
    ]
   },
   "source": [
    "**Задание 22**"
   ]
  },
  {
   "cell_type": "code",
   "execution_count": 27,
   "metadata": {
    "deletable": false,
    "id": "APAcLpOr_Zcu"
   },
   "outputs": [
    {
     "data": {
      "text/html": [
       "<div>\n",
       "<style scoped>\n",
       "    .dataframe tbody tr th:only-of-type {\n",
       "        vertical-align: middle;\n",
       "    }\n",
       "\n",
       "    .dataframe tbody tr th {\n",
       "        vertical-align: top;\n",
       "    }\n",
       "\n",
       "    .dataframe thead th {\n",
       "        text-align: right;\n",
       "    }\n",
       "</style>\n",
       "<table border=\"1\" class=\"dataframe\">\n",
       "  <thead>\n",
       "    <tr style=\"text-align: right;\">\n",
       "      <th></th>\n",
       "      <th>city</th>\n",
       "      <th>monday</th>\n",
       "      <th>wednesday</th>\n",
       "      <th>friday</th>\n",
       "    </tr>\n",
       "  </thead>\n",
       "  <tbody>\n",
       "    <tr>\n",
       "      <th>0</th>\n",
       "      <td>Moscow</td>\n",
       "      <td>15740</td>\n",
       "      <td>11056</td>\n",
       "      <td>15945</td>\n",
       "    </tr>\n",
       "    <tr>\n",
       "      <th>1</th>\n",
       "      <td>Saint-Petersburg</td>\n",
       "      <td>5614</td>\n",
       "      <td>7003</td>\n",
       "      <td>5895</td>\n",
       "    </tr>\n",
       "  </tbody>\n",
       "</table>\n",
       "</div>"
      ],
      "text/plain": [
       "               city  monday  wednesday  friday\n",
       "0            Moscow   15740      11056   15945\n",
       "1  Saint-Petersburg    5614       7003    5895"
      ]
     },
     "execution_count": 27,
     "metadata": {},
     "output_type": "execute_result"
    }
   ],
   "source": [
    "info_columns = ['city', 'monday', 'wednesday', 'friday']# создание таблицы с результатами\n",
    "info_data = [['Moscow', 15740, 11056, 15945], ['Saint-Petersburg', 5614, 7003, 5895]]\n",
    "info = pd.DataFrame(data = info_data, columns = info_columns)\n",
    "info# вывод таблицы на экран"
   ]
  },
  {
   "cell_type": "markdown",
   "metadata": {
    "deletable": false,
    "editable": false,
    "id": "-EgPIHYu_Zcu"
   },
   "source": [
    "**Выводы**\n",
    "\n",
    "Данные показывают разницу поведения пользователей:\n",
    "\n",
    "- В Москве пик прослушиваний приходится на понедельник и пятницу, а в среду заметен спад.\n",
    "- В Петербурге, наоборот, больше слушают музыку по средам. Активность в понедельник и пятницу здесь почти в равной мере уступает среде.\n",
    "\n",
    "Значит, данные говорят в пользу первой гипотезы."
   ]
  },
  {
   "cell_type": "markdown",
   "metadata": {
    "deletable": false,
    "editable": false,
    "id": "atZAxtq4_Zcu"
   },
   "source": [
    "### Музыка в начале и в конце недели"
   ]
  },
  {
   "cell_type": "markdown",
   "metadata": {
    "deletable": false,
    "editable": false,
    "id": "eXrQqXFH_Zcu"
   },
   "source": [
    "Согласно второй гипотезе, утром в понедельник в Москве преобладают одни жанры, а в Петербурге — другие. Так же и вечером пятницы преобладают разные жанры — в зависимости от города."
   ]
  },
  {
   "cell_type": "markdown",
   "metadata": {
    "deletable": false,
    "editable": false,
    "id": "S8UcW6Hw_Zcu",
    "tags": [
     "start_task"
    ]
   },
   "source": [
    "**Задание 23**"
   ]
  },
  {
   "cell_type": "code",
   "execution_count": 30,
   "metadata": {
    "deletable": false,
    "id": "qeaFfM_P_Zcu"
   },
   "outputs": [],
   "source": [
    "moscow_general = df[df['city'] == 'Moscow'] # получение таблицы moscow_general из тех строк таблицы df, для которых значение в столбце 'city' равно 'Moscow'\n"
   ]
  },
  {
   "cell_type": "code",
   "execution_count": 29,
   "metadata": {
    "deletable": false,
    "id": "ORaVRKto_Zcu"
   },
   "outputs": [
    {
     "ename": "SyntaxError",
     "evalue": "unexpected EOF while parsing (882015282.py, line 1)",
     "output_type": "error",
     "traceback": [
      "\u001b[0;36m  File \u001b[0;32m\"/tmp/ipykernel_70/882015282.py\"\u001b[0;36m, line \u001b[0;32m1\u001b[0m\n\u001b[0;31m    sbp_general = df[df['city'] == 'Saint-Petersburg'# получение таблицы spb_general из тех строк таблицы df, для которых значение в столбце 'city' равно 'Saint-Petersburg'\u001b[0m\n\u001b[0m                                                                                                                                                                            ^\u001b[0m\n\u001b[0;31mSyntaxError\u001b[0m\u001b[0;31m:\u001b[0m unexpected EOF while parsing\n"
     ]
    }
   ],
   "source": [
    "spb_general = df[df['city'] == 'Saint-Petersburg'] # получение таблицы spb_general из тех строк таблицы df, для которых значение в столбце 'city' равно 'Saint-Petersburg'\n"
   ]
  },
  {
   "cell_type": "markdown",
   "metadata": {
    "deletable": false,
    "editable": false,
    "id": "MEJV-CX2_Zcu",
    "tags": [
     "start_task"
    ]
   },
   "source": [
    "**Задание 24**"
   ]
  },
  {
   "cell_type": "code",
   "execution_count": null,
   "metadata": {
    "deletable": false,
    "id": "laJT9BYl_Zcu"
   },
   "outputs": [],
   "source": [
    "def genre_weekday(df, day, time1, time2):\n",
    "    # последовательная фильтрация\n",
    "    # оставляем в genre_df только те строки df, у которых день равен day\n",
    "    genre_df = df[df['day'] == day]# ваш код здесь\n",
    "    # оставляем в genre_df только те строки genre_df, у которых время меньше time2\n",
    "    genre_df = genre_df[genre_df['time'] < time2] # ваш код здесь\n",
    "    # оставляем в genre_df только те строки genre_df, у которых время больше time1\n",
    "    genre_df = genre_df[genre_df['time'] > time1]# ваш код здесь\n",
    "    # сгруппируем отфильтрованный датафрейм по столбцу с названиями жанров, возьмём столбец genre и посчитаем кол-во строк для каждого жанра методом count()\n",
    "    genre_df_grouped = genre_df.groupby('genre')['genre'].count()# ваш код здесь\n",
    "    # отсортируем результат по убыванию (чтобы в начале Series оказались самые популярные жанры)\n",
    "    genre_df_sorted = genre_df_grouped.sort_values(ascending = False) # ваш код здесь\n",
    "    # вернём Series с 10 самыми популярными жанрами в указанный отрезок времени заданного дня\n",
    "    return genre_df_sorted[:10]"
   ]
  },
  {
   "cell_type": "markdown",
   "metadata": {
    "deletable": false,
    "editable": false,
    "id": "la2s2_PF_Zcu",
    "tags": [
     "start_task"
    ]
   },
   "source": [
    "**Задание 25**"
   ]
  },
  {
   "cell_type": "code",
   "execution_count": null,
   "metadata": {
    "deletable": false,
    "id": "yz7itPUQ_Zcu"
   },
   "outputs": [],
   "source": [
    "genre_weekday(moscow_general, 'Monday', '07:00', '11:00') # вызов функции для утра понедельника в Москве (вместо df — таблица moscow_general)"
   ]
  },
  {
   "cell_type": "code",
   "execution_count": null,
   "metadata": {
    "deletable": false,
    "id": "kwUcHPdy_Zcu"
   },
   "outputs": [],
   "source": [
    "genre_weekday(spb_general, 'Monday', '07:00', '11:00') # вызов функции для утра понедельника в Петербурге (вместо df — таблица spb_general)"
   ]
  },
  {
   "cell_type": "code",
   "execution_count": null,
   "metadata": {
    "deletable": false,
    "id": "EzXVRE1o_Zcu"
   },
   "outputs": [],
   "source": [
    "genre_weekday(moscow_general, 'Friday', '17:00', '23:00') # вызов функции для вечера пятницы в Москве"
   ]
  },
  {
   "cell_type": "code",
   "execution_count": null,
   "metadata": {
    "deletable": false,
    "id": "JZaEKu5v_Zcu"
   },
   "outputs": [],
   "source": [
    "genre_weekday(spb_general, 'Friday', '17:00', '23:00') # вызов функции для вечера пятницы в Петербурге"
   ]
  },
  {
   "cell_type": "markdown",
   "metadata": {
    "deletable": false,
    "editable": false,
    "id": "wrCe4MNX_Zcu"
   },
   "source": [
    "**Выводы**\n",
    "\n",
    "Если сравнить топ-10 жанров в понедельник утром, можно сделать такие выводы:\n",
    "\n",
    "1. В Москве и Петербурге слушают похожую музыку. Единственное различие — в московский рейтинг вошёл жанр “world”, а в петербургский — джаз и классика.\n",
    "\n",
    "2. В Москве пропущенных значений оказалось так много, что значение `'unknown'` заняло десятое место среди самых популярных жанров. Значит, пропущенные значения занимают существенную долю в данных и угрожают достоверности исследования.\n",
    "\n",
    "Вечер пятницы не меняет эту картину. Некоторые жанры поднимаются немного выше, другие спускаются, но в целом топ-10 остаётся тем же самым.\n",
    "\n",
    "Таким образом, вторая гипотеза подтвердилась лишь частично:\n",
    "* Пользователи слушают похожую музыку в начале недели и в конце.\n",
    "* Разница между Москвой и Петербургом не слишком выражена. В Москве чаще слушают русскую популярную музыку, в Петербурге — джаз.\n",
    "\n",
    "Однако пропуски в данных ставят под сомнение этот результат. В Москве их так много, что рейтинг топ-10 мог бы выглядеть иначе, если бы не утерянные  данные о жанрах."
   ]
  },
  {
   "cell_type": "markdown",
   "metadata": {
    "deletable": false,
    "editable": false,
    "id": "JolODAqr_Zcu"
   },
   "source": [
    "### Жанровые предпочтения в Москве и Петербурге\n",
    "\n",
    "Гипотеза: Петербург — столица рэпа, музыку этого жанра там слушают чаще, чем в Москве.  А Москва — город контрастов, в котором, тем не менее, преобладает поп-музыка."
   ]
  },
  {
   "cell_type": "markdown",
   "metadata": {
    "deletable": false,
    "editable": false,
    "id": "DlegSvaT_Zcu",
    "tags": [
     "start_task"
    ]
   },
   "source": [
    "**Задание 26**"
   ]
  },
  {
   "cell_type": "code",
   "execution_count": null,
   "metadata": {
    "deletable": false,
    "id": "r19lIPke_Zcu"
   },
   "outputs": [],
   "source": [
    "moscow_genres = moscow_general.groupby('genre')['genre'].count() # одной строкой: группировка таблицы moscow_general по столбцу 'genre', выбор столбца `genre`, подсчёт числа значений 'genre' методом count(), сохранение в moscow_genres\n",
    "moscow_genres = moscow_genres.sort_values(ascending = False)# сортировка получившегося Series в порядке убывания и сохранение обратно в moscow_genres"
   ]
  },
  {
   "cell_type": "markdown",
   "metadata": {
    "deletable": false,
    "editable": false,
    "id": "6kMuomxTiIr8",
    "tags": [
     "start_task"
    ]
   },
   "source": [
    "**Задание 27**"
   ]
  },
  {
   "cell_type": "code",
   "execution_count": null,
   "metadata": {
    "deletable": false,
    "id": "WhCSooF8_Zcv"
   },
   "outputs": [],
   "source": [
    "moscow_genres.head(10)# просмотр первых 10 строк moscow_genres"
   ]
  },
  {
   "cell_type": "markdown",
   "metadata": {
    "deletable": false,
    "editable": false,
    "id": "cnPG2vnN_Zcv",
    "tags": [
     "start_task"
    ]
   },
   "source": [
    "**Задание 28**"
   ]
  },
  {
   "cell_type": "code",
   "execution_count": null,
   "metadata": {
    "deletable": false,
    "id": "gluLIpE7_Zcv"
   },
   "outputs": [],
   "source": [
    "spb_genres = spb_general.groupby('genre')['genre'].count()# одной строкой: группировка таблицы spb_general по столбцу 'genre', выбор столбца `genre`, подсчёт числа значений 'genre' методом count(), сохранение в spb_genres\n",
    "spb_genres = spb_genres.sort_values(ascending = False) # сортировка получившегося Series в порядке убывания и сохранение обратно в spb_genres"
   ]
  },
  {
   "cell_type": "markdown",
   "metadata": {
    "deletable": false,
    "editable": false,
    "id": "5Doha_ODgyQ8",
    "tags": [
     "start_task"
    ]
   },
   "source": [
    "**Задание 29**"
   ]
  },
  {
   "cell_type": "code",
   "execution_count": null,
   "metadata": {
    "deletable": false,
    "id": "uaGJHjVU_Zcv"
   },
   "outputs": [],
   "source": [
    "spb_genres.head(10)# просмотр первых 10 строк spb_genres"
   ]
  },
  {
   "cell_type": "markdown",
   "metadata": {
    "deletable": false,
    "editable": false,
    "id": "RY51YJYu_Zcv"
   },
   "source": [
    "**Выводы**"
   ]
  },
  {
   "cell_type": "markdown",
   "metadata": {
    "deletable": false,
    "editable": false,
    "id": "nVhnJEm__Zcv"
   },
   "source": [
    "Гипотеза частично подтвердилась:\n",
    "* Поп-музыка — самый популярный жанр в Москве, как и предполагала гипотеза. Более того, в топ-10 жанров встречается близкий жанр — русская популярная музыка.\n",
    "* Вопреки ожиданиям, рэп одинаково популярен в Москве и Петербурге.\n"
   ]
  },
  {
   "cell_type": "markdown",
   "metadata": {
    "deletable": false,
    "editable": false,
    "id": "ykKQ0N65_Zcv"
   },
   "source": [
    "## Итоги исследования"
   ]
  },
  {
   "cell_type": "markdown",
   "metadata": {
    "deletable": false,
    "editable": false,
    "id": "tjUwbHb3_Zcv"
   },
   "source": [
    "Вы проверили три гипотезы и установили:\n",
    "\n",
    "1. День недели по-разному влияет на активность пользователей в Москве и Петербурге.\n",
    "\n",
    "Первая гипотеза полностью подтвердилась.\n",
    "\n",
    "2. Музыкальные предпочтения не сильно меняются в течение недели — будь то Москва или Петербург. Небольшие различия заметны в начале недели, по понедельникам:\n",
    "* в Москве слушают музыку жанра “world”,\n",
    "* в Петербурге — джаз и классику.\n",
    "\n",
    "Таким образом, вторая гипотеза подтвердилась лишь отчасти. Этот результат мог оказаться иным, если бы не пропуски в данных.\n",
    "\n",
    "3. Во вкусах пользователей Москвы и Петербурга больше общего, чем различий. Вопреки ожиданиям, предпочтения жанров в Петербурге напоминают московские.\n",
    "\n",
    "Третья гипотеза не подтвердилась. Если различия в предпочтениях и существуют, на основной массе пользователей они незаметны.\n",
    "\n",
    "**На практике исследования содержат проверки статистических гипотез.**\n",
    "Из части данных одного сервиса невозможно сделать какие-то выводы о всех пользователях сервиса без методов статистики.\n",
    "Проверки статистических гипотез покажут, насколько они достоверны, исходя из имеющихся данных.\n",
    "С методами проверок гипотез вы ещё познакомитесь в следующих темах."
   ]
  }
 ],
 "metadata": {
  "ExecuteTimeLog": [
   {
    "duration": 54,
    "start_time": "2023-12-29T05:12:18.267Z"
   },
   {
    "duration": 431,
    "start_time": "2023-12-29T05:12:40.011Z"
   },
   {
    "duration": 462,
    "start_time": "2023-12-29T05:12:42.297Z"
   },
   {
    "duration": 439,
    "start_time": "2023-12-29T05:13:04.626Z"
   },
   {
    "duration": 211,
    "start_time": "2023-12-29T05:13:05.068Z"
   },
   {
    "duration": 19,
    "start_time": "2023-12-29T05:13:05.281Z"
   },
   {
    "duration": 46,
    "start_time": "2023-12-29T05:13:05.302Z"
   },
   {
    "duration": 2,
    "start_time": "2023-12-29T05:13:05.351Z"
   },
   {
    "duration": 24,
    "start_time": "2023-12-29T05:13:05.355Z"
   },
   {
    "duration": 8,
    "start_time": "2023-12-29T05:13:05.381Z"
   },
   {
    "duration": 10,
    "start_time": "2023-12-29T05:13:05.390Z"
   },
   {
    "duration": 9,
    "start_time": "2023-12-29T05:13:05.402Z"
   },
   {
    "duration": 3,
    "start_time": "2023-12-29T05:13:05.414Z"
   },
   {
    "duration": 9,
    "start_time": "2023-12-29T05:13:05.419Z"
   },
   {
    "duration": 18,
    "start_time": "2023-12-29T05:13:05.429Z"
   },
   {
    "duration": 9,
    "start_time": "2023-12-29T05:13:05.448Z"
   },
   {
    "duration": 17,
    "start_time": "2023-12-29T05:13:05.458Z"
   },
   {
    "duration": 23,
    "start_time": "2023-12-29T05:13:05.477Z"
   },
   {
    "duration": 12,
    "start_time": "2023-12-29T05:13:05.502Z"
   },
   {
    "duration": 18,
    "start_time": "2023-12-29T05:13:05.516Z"
   },
   {
    "duration": 8,
    "start_time": "2023-12-29T05:13:05.535Z"
   },
   {
    "duration": 13,
    "start_time": "2023-12-29T05:13:05.545Z"
   },
   {
    "duration": 56,
    "start_time": "2023-12-29T05:13:05.560Z"
   },
   {
    "duration": 0,
    "start_time": "2023-12-29T05:13:05.618Z"
   },
   {
    "duration": 0,
    "start_time": "2023-12-29T05:13:05.620Z"
   },
   {
    "duration": 0,
    "start_time": "2023-12-29T05:13:05.622Z"
   },
   {
    "duration": 1,
    "start_time": "2023-12-29T05:13:05.623Z"
   },
   {
    "duration": 0,
    "start_time": "2023-12-29T05:13:05.625Z"
   },
   {
    "duration": 0,
    "start_time": "2023-12-29T05:13:05.626Z"
   },
   {
    "duration": 0,
    "start_time": "2023-12-29T05:13:05.628Z"
   },
   {
    "duration": 0,
    "start_time": "2023-12-29T05:13:05.629Z"
   },
   {
    "duration": 0,
    "start_time": "2023-12-29T05:13:05.631Z"
   },
   {
    "duration": 0,
    "start_time": "2023-12-29T05:13:05.632Z"
   },
   {
    "duration": 0,
    "start_time": "2023-12-29T05:13:05.634Z"
   },
   {
    "duration": 0,
    "start_time": "2023-12-29T05:13:05.635Z"
   },
   {
    "duration": 0,
    "start_time": "2023-12-29T05:13:05.635Z"
   },
   {
    "duration": 1,
    "start_time": "2023-12-29T05:13:05.636Z"
   },
   {
    "duration": 0,
    "start_time": "2023-12-29T05:13:05.638Z"
   },
   {
    "duration": 0,
    "start_time": "2023-12-29T05:13:05.639Z"
   },
   {
    "duration": 0,
    "start_time": "2023-12-29T05:13:05.640Z"
   },
   {
    "duration": 0,
    "start_time": "2023-12-29T05:13:05.641Z"
   },
   {
    "duration": 63,
    "start_time": "2023-12-29T05:17:57.939Z"
   },
   {
    "duration": 32,
    "start_time": "2023-12-29T05:18:07.195Z"
   },
   {
    "duration": 7,
    "start_time": "2023-12-29T05:18:13.333Z"
   },
   {
    "duration": 4,
    "start_time": "2023-12-29T05:18:28.285Z"
   },
   {
    "duration": 41,
    "start_time": "2023-12-29T05:30:31.654Z"
   },
   {
    "duration": 12,
    "start_time": "2023-12-29T05:33:32.319Z"
   },
   {
    "duration": 14,
    "start_time": "2023-12-29T05:33:37.049Z"
   },
   {
    "duration": 5,
    "start_time": "2023-12-29T05:33:48.112Z"
   },
   {
    "duration": 36,
    "start_time": "2023-12-29T05:34:06.648Z"
   },
   {
    "duration": 29,
    "start_time": "2023-12-29T05:34:20.230Z"
   },
   {
    "duration": 46,
    "start_time": "2023-12-29T05:34:38.425Z"
   },
   {
    "duration": 28,
    "start_time": "2023-12-29T05:36:57.832Z"
   },
   {
    "duration": 42,
    "start_time": "2023-12-29T05:37:02.310Z"
   },
   {
    "duration": 35,
    "start_time": "2023-12-29T05:37:24.078Z"
   },
   {
    "duration": 24,
    "start_time": "2023-12-29T05:41:05.490Z"
   },
   {
    "duration": 39,
    "start_time": "2023-12-29T05:46:38.172Z"
   },
   {
    "duration": 42,
    "start_time": "2023-12-29T05:46:47.878Z"
   },
   {
    "duration": 73,
    "start_time": "2023-12-29T05:49:43.013Z"
   },
   {
    "duration": 11,
    "start_time": "2023-12-29T05:55:11.992Z"
   },
   {
    "duration": 66,
    "start_time": "2023-12-29T05:55:26.851Z"
   },
   {
    "duration": 133,
    "start_time": "2023-12-29T05:55:41.719Z"
   },
   {
    "duration": 66,
    "start_time": "2023-12-29T05:55:44.224Z"
   },
   {
    "duration": 10,
    "start_time": "2023-12-29T05:57:51.390Z"
   },
   {
    "duration": 41,
    "start_time": "2023-12-29T06:01:18.242Z"
   },
   {
    "duration": 47,
    "start_time": "2023-12-29T06:01:41.665Z"
   },
   {
    "duration": 15,
    "start_time": "2023-12-29T06:08:05.618Z"
   },
   {
    "duration": 12,
    "start_time": "2023-12-29T06:08:09.656Z"
   },
   {
    "duration": 13,
    "start_time": "2023-12-29T06:08:43.651Z"
   },
   {
    "duration": 11,
    "start_time": "2023-12-29T06:09:09.874Z"
   },
   {
    "duration": 11,
    "start_time": "2023-12-29T06:10:37.050Z"
   },
   {
    "duration": 449,
    "start_time": "2023-12-29T06:10:48.020Z"
   },
   {
    "duration": 204,
    "start_time": "2023-12-29T06:10:48.472Z"
   },
   {
    "duration": 19,
    "start_time": "2023-12-29T06:10:48.678Z"
   },
   {
    "duration": 51,
    "start_time": "2023-12-29T06:10:48.700Z"
   },
   {
    "duration": 3,
    "start_time": "2023-12-29T06:10:48.752Z"
   },
   {
    "duration": 11,
    "start_time": "2023-12-29T06:10:48.756Z"
   },
   {
    "duration": 20,
    "start_time": "2023-12-29T06:10:48.768Z"
   },
   {
    "duration": 20,
    "start_time": "2023-12-29T06:10:48.790Z"
   },
   {
    "duration": 33,
    "start_time": "2023-12-29T06:10:48.812Z"
   },
   {
    "duration": 22,
    "start_time": "2023-12-29T06:10:48.849Z"
   },
   {
    "duration": 35,
    "start_time": "2023-12-29T06:10:48.873Z"
   },
   {
    "duration": 95,
    "start_time": "2023-12-29T06:10:48.910Z"
   },
   {
    "duration": 96,
    "start_time": "2023-12-29T06:10:49.007Z"
   },
   {
    "duration": 81,
    "start_time": "2023-12-29T06:10:49.105Z"
   },
   {
    "duration": 54,
    "start_time": "2023-12-29T06:10:49.189Z"
   },
   {
    "duration": 12,
    "start_time": "2023-12-29T06:10:49.245Z"
   },
   {
    "duration": 8,
    "start_time": "2023-12-29T06:10:49.259Z"
   },
   {
    "duration": 9,
    "start_time": "2023-12-29T06:10:49.269Z"
   },
   {
    "duration": 12,
    "start_time": "2023-12-29T06:10:49.279Z"
   },
   {
    "duration": 48,
    "start_time": "2023-12-29T06:10:49.293Z"
   },
   {
    "duration": 0,
    "start_time": "2023-12-29T06:10:49.344Z"
   },
   {
    "duration": 0,
    "start_time": "2023-12-29T06:10:49.345Z"
   },
   {
    "duration": 0,
    "start_time": "2023-12-29T06:10:49.346Z"
   },
   {
    "duration": 0,
    "start_time": "2023-12-29T06:10:49.347Z"
   },
   {
    "duration": 0,
    "start_time": "2023-12-29T06:10:49.348Z"
   },
   {
    "duration": 0,
    "start_time": "2023-12-29T06:10:49.349Z"
   },
   {
    "duration": 0,
    "start_time": "2023-12-29T06:10:49.350Z"
   },
   {
    "duration": 0,
    "start_time": "2023-12-29T06:10:49.352Z"
   },
   {
    "duration": 0,
    "start_time": "2023-12-29T06:10:49.353Z"
   },
   {
    "duration": 0,
    "start_time": "2023-12-29T06:10:49.354Z"
   },
   {
    "duration": 0,
    "start_time": "2023-12-29T06:10:49.355Z"
   },
   {
    "duration": 0,
    "start_time": "2023-12-29T06:10:49.356Z"
   },
   {
    "duration": 0,
    "start_time": "2023-12-29T06:10:49.357Z"
   },
   {
    "duration": 0,
    "start_time": "2023-12-29T06:10:49.358Z"
   },
   {
    "duration": 0,
    "start_time": "2023-12-29T06:10:49.359Z"
   },
   {
    "duration": 0,
    "start_time": "2023-12-29T06:10:49.361Z"
   },
   {
    "duration": 0,
    "start_time": "2023-12-29T06:10:49.362Z"
   },
   {
    "duration": 0,
    "start_time": "2023-12-29T06:10:49.363Z"
   },
   {
    "duration": 13,
    "start_time": "2023-12-29T06:10:58.675Z"
   },
   {
    "duration": 18,
    "start_time": "2023-12-29T06:14:15.500Z"
   },
   {
    "duration": 14,
    "start_time": "2023-12-29T06:21:58.519Z"
   },
   {
    "duration": 21,
    "start_time": "2023-12-29T06:23:15.797Z"
   },
   {
    "duration": 398,
    "start_time": "2023-12-29T06:24:03.562Z"
   },
   {
    "duration": 212,
    "start_time": "2023-12-29T06:24:03.962Z"
   },
   {
    "duration": 19,
    "start_time": "2023-12-29T06:24:04.176Z"
   },
   {
    "duration": 47,
    "start_time": "2023-12-29T06:24:04.197Z"
   },
   {
    "duration": 4,
    "start_time": "2023-12-29T06:24:04.246Z"
   },
   {
    "duration": 26,
    "start_time": "2023-12-29T06:24:04.251Z"
   },
   {
    "duration": 25,
    "start_time": "2023-12-29T06:24:04.279Z"
   },
   {
    "duration": 26,
    "start_time": "2023-12-29T06:24:04.306Z"
   },
   {
    "duration": 53,
    "start_time": "2023-12-29T06:24:04.334Z"
   },
   {
    "duration": 50,
    "start_time": "2023-12-29T06:24:04.391Z"
   },
   {
    "duration": 31,
    "start_time": "2023-12-29T06:24:04.444Z"
   },
   {
    "duration": 117,
    "start_time": "2023-12-29T06:24:04.477Z"
   },
   {
    "duration": 94,
    "start_time": "2023-12-29T06:24:04.596Z"
   },
   {
    "duration": 97,
    "start_time": "2023-12-29T06:24:04.692Z"
   },
   {
    "duration": 53,
    "start_time": "2023-12-29T06:24:04.791Z"
   },
   {
    "duration": 13,
    "start_time": "2023-12-29T06:24:04.846Z"
   },
   {
    "duration": 63,
    "start_time": "2023-12-29T06:24:04.860Z"
   },
   {
    "duration": 5,
    "start_time": "2023-12-29T06:24:04.926Z"
   },
   {
    "duration": 11,
    "start_time": "2023-12-29T06:24:04.933Z"
   },
   {
    "duration": 45,
    "start_time": "2023-12-29T06:24:04.946Z"
   },
   {
    "duration": 0,
    "start_time": "2023-12-29T06:24:04.993Z"
   },
   {
    "duration": 0,
    "start_time": "2023-12-29T06:24:04.994Z"
   },
   {
    "duration": 0,
    "start_time": "2023-12-29T06:24:04.996Z"
   },
   {
    "duration": 0,
    "start_time": "2023-12-29T06:24:04.998Z"
   },
   {
    "duration": 0,
    "start_time": "2023-12-29T06:24:04.999Z"
   },
   {
    "duration": 0,
    "start_time": "2023-12-29T06:24:05.001Z"
   },
   {
    "duration": 0,
    "start_time": "2023-12-29T06:24:05.002Z"
   },
   {
    "duration": 0,
    "start_time": "2023-12-29T06:24:05.004Z"
   },
   {
    "duration": 0,
    "start_time": "2023-12-29T06:24:05.005Z"
   },
   {
    "duration": 0,
    "start_time": "2023-12-29T06:24:05.006Z"
   },
   {
    "duration": 0,
    "start_time": "2023-12-29T06:24:05.008Z"
   },
   {
    "duration": 0,
    "start_time": "2023-12-29T06:24:05.009Z"
   },
   {
    "duration": 0,
    "start_time": "2023-12-29T06:24:05.011Z"
   },
   {
    "duration": 0,
    "start_time": "2023-12-29T06:24:05.013Z"
   },
   {
    "duration": 0,
    "start_time": "2023-12-29T06:24:05.014Z"
   },
   {
    "duration": 0,
    "start_time": "2023-12-29T06:24:05.015Z"
   },
   {
    "duration": 0,
    "start_time": "2023-12-29T06:24:05.017Z"
   },
   {
    "duration": 0,
    "start_time": "2023-12-29T06:24:05.018Z"
   },
   {
    "duration": 80,
    "start_time": "2023-12-29T06:41:56.584Z"
   },
   {
    "duration": 458,
    "start_time": "2023-12-29T06:42:17.686Z"
   },
   {
    "duration": 199,
    "start_time": "2023-12-29T06:42:18.146Z"
   },
   {
    "duration": 20,
    "start_time": "2023-12-29T06:42:18.347Z"
   },
   {
    "duration": 35,
    "start_time": "2023-12-29T06:42:18.369Z"
   },
   {
    "duration": 8,
    "start_time": "2023-12-29T06:42:18.406Z"
   },
   {
    "duration": 20,
    "start_time": "2023-12-29T06:42:18.431Z"
   },
   {
    "duration": 29,
    "start_time": "2023-12-29T06:42:18.452Z"
   },
   {
    "duration": 12,
    "start_time": "2023-12-29T06:42:18.483Z"
   },
   {
    "duration": 47,
    "start_time": "2023-12-29T06:42:18.497Z"
   },
   {
    "duration": 33,
    "start_time": "2023-12-29T06:42:18.547Z"
   },
   {
    "duration": 30,
    "start_time": "2023-12-29T06:42:18.582Z"
   },
   {
    "duration": 81,
    "start_time": "2023-12-29T06:42:18.614Z"
   },
   {
    "duration": 97,
    "start_time": "2023-12-29T06:42:18.697Z"
   },
   {
    "duration": 73,
    "start_time": "2023-12-29T06:42:18.796Z"
   },
   {
    "duration": 46,
    "start_time": "2023-12-29T06:42:18.871Z"
   },
   {
    "duration": 20,
    "start_time": "2023-12-29T06:42:18.919Z"
   },
   {
    "duration": 51,
    "start_time": "2023-12-29T06:42:18.941Z"
   },
   {
    "duration": 97,
    "start_time": "2023-12-29T06:42:18.994Z"
   },
   {
    "duration": 0,
    "start_time": "2023-12-29T06:42:19.093Z"
   },
   {
    "duration": 0,
    "start_time": "2023-12-29T06:42:19.094Z"
   },
   {
    "duration": 0,
    "start_time": "2023-12-29T06:42:19.096Z"
   },
   {
    "duration": 0,
    "start_time": "2023-12-29T06:42:19.097Z"
   },
   {
    "duration": 0,
    "start_time": "2023-12-29T06:42:19.099Z"
   },
   {
    "duration": 0,
    "start_time": "2023-12-29T06:42:19.100Z"
   },
   {
    "duration": 0,
    "start_time": "2023-12-29T06:42:19.101Z"
   },
   {
    "duration": 0,
    "start_time": "2023-12-29T06:42:19.102Z"
   },
   {
    "duration": 0,
    "start_time": "2023-12-29T06:42:19.104Z"
   },
   {
    "duration": 0,
    "start_time": "2023-12-29T06:42:19.104Z"
   },
   {
    "duration": 0,
    "start_time": "2023-12-29T06:42:19.105Z"
   },
   {
    "duration": 0,
    "start_time": "2023-12-29T06:42:19.107Z"
   },
   {
    "duration": 0,
    "start_time": "2023-12-29T06:42:19.131Z"
   },
   {
    "duration": 0,
    "start_time": "2023-12-29T06:42:19.132Z"
   },
   {
    "duration": 0,
    "start_time": "2023-12-29T06:42:19.133Z"
   },
   {
    "duration": 0,
    "start_time": "2023-12-29T06:42:19.134Z"
   },
   {
    "duration": 0,
    "start_time": "2023-12-29T06:42:19.135Z"
   },
   {
    "duration": 0,
    "start_time": "2023-12-29T06:42:19.136Z"
   },
   {
    "duration": 0,
    "start_time": "2023-12-29T06:42:19.137Z"
   },
   {
    "duration": 0,
    "start_time": "2023-12-29T06:42:19.138Z"
   },
   {
    "duration": 13,
    "start_time": "2023-12-29T06:42:36.731Z"
   },
   {
    "duration": 11,
    "start_time": "2023-12-29T06:42:50.690Z"
   },
   {
    "duration": 13,
    "start_time": "2023-12-29T06:44:26.193Z"
   },
   {
    "duration": 4,
    "start_time": "2023-12-29T06:52:18.435Z"
   },
   {
    "duration": 5,
    "start_time": "2023-12-29T06:52:41.658Z"
   },
   {
    "duration": 13,
    "start_time": "2023-12-29T06:52:59.097Z"
   },
   {
    "duration": 325,
    "start_time": "2023-12-29T06:54:47.229Z"
   },
   {
    "duration": 12,
    "start_time": "2023-12-29T06:55:10.071Z"
   },
   {
    "duration": 12,
    "start_time": "2023-12-29T06:55:27.165Z"
   },
   {
    "duration": 23,
    "start_time": "2023-12-29T06:56:12.798Z"
   },
   {
    "duration": 407,
    "start_time": "2023-12-29T06:56:27.789Z"
   },
   {
    "duration": 190,
    "start_time": "2023-12-29T06:56:28.198Z"
   },
   {
    "duration": 18,
    "start_time": "2023-12-29T06:56:28.390Z"
   },
   {
    "duration": 44,
    "start_time": "2023-12-29T06:56:28.410Z"
   },
   {
    "duration": 2,
    "start_time": "2023-12-29T06:56:28.456Z"
   },
   {
    "duration": 8,
    "start_time": "2023-12-29T06:56:28.460Z"
   },
   {
    "duration": 18,
    "start_time": "2023-12-29T06:56:28.470Z"
   },
   {
    "duration": 16,
    "start_time": "2023-12-29T06:56:28.490Z"
   },
   {
    "duration": 44,
    "start_time": "2023-12-29T06:56:28.508Z"
   },
   {
    "duration": 36,
    "start_time": "2023-12-29T06:56:28.554Z"
   },
   {
    "duration": 29,
    "start_time": "2023-12-29T06:56:28.591Z"
   },
   {
    "duration": 70,
    "start_time": "2023-12-29T06:56:28.621Z"
   },
   {
    "duration": 100,
    "start_time": "2023-12-29T06:56:28.692Z"
   },
   {
    "duration": 74,
    "start_time": "2023-12-29T06:56:28.794Z"
   },
   {
    "duration": 44,
    "start_time": "2023-12-29T06:56:28.869Z"
   },
   {
    "duration": 23,
    "start_time": "2023-12-29T06:56:28.915Z"
   },
   {
    "duration": 66,
    "start_time": "2023-12-29T06:56:28.940Z"
   },
   {
    "duration": 68,
    "start_time": "2023-12-29T06:56:29.007Z"
   },
   {
    "duration": 0,
    "start_time": "2023-12-29T06:56:29.077Z"
   },
   {
    "duration": 0,
    "start_time": "2023-12-29T06:56:29.078Z"
   },
   {
    "duration": 0,
    "start_time": "2023-12-29T06:56:29.080Z"
   },
   {
    "duration": 0,
    "start_time": "2023-12-29T06:56:29.081Z"
   },
   {
    "duration": 0,
    "start_time": "2023-12-29T06:56:29.082Z"
   },
   {
    "duration": 0,
    "start_time": "2023-12-29T06:56:29.083Z"
   },
   {
    "duration": 0,
    "start_time": "2023-12-29T06:56:29.084Z"
   },
   {
    "duration": 0,
    "start_time": "2023-12-29T06:56:29.085Z"
   },
   {
    "duration": 0,
    "start_time": "2023-12-29T06:56:29.086Z"
   },
   {
    "duration": 0,
    "start_time": "2023-12-29T06:56:29.087Z"
   },
   {
    "duration": 0,
    "start_time": "2023-12-29T06:56:29.088Z"
   },
   {
    "duration": 0,
    "start_time": "2023-12-29T06:56:29.089Z"
   },
   {
    "duration": 0,
    "start_time": "2023-12-29T06:56:29.090Z"
   },
   {
    "duration": 0,
    "start_time": "2023-12-29T06:56:29.091Z"
   },
   {
    "duration": 0,
    "start_time": "2023-12-29T06:56:29.092Z"
   },
   {
    "duration": 0,
    "start_time": "2023-12-29T06:56:29.093Z"
   },
   {
    "duration": 0,
    "start_time": "2023-12-29T06:56:29.094Z"
   },
   {
    "duration": 0,
    "start_time": "2023-12-29T06:56:29.095Z"
   },
   {
    "duration": 0,
    "start_time": "2023-12-29T06:56:29.095Z"
   },
   {
    "duration": 0,
    "start_time": "2023-12-29T06:56:29.096Z"
   },
   {
    "duration": 14,
    "start_time": "2023-12-29T06:56:47.006Z"
   },
   {
    "duration": 12,
    "start_time": "2023-12-29T06:58:21.407Z"
   },
   {
    "duration": 15,
    "start_time": "2023-12-29T06:58:39.617Z"
   },
   {
    "duration": 16,
    "start_time": "2023-12-29T06:59:14.182Z"
   },
   {
    "duration": 486,
    "start_time": "2023-12-29T06:59:23.415Z"
   },
   {
    "duration": 186,
    "start_time": "2023-12-29T06:59:23.904Z"
   },
   {
    "duration": 18,
    "start_time": "2023-12-29T06:59:24.091Z"
   },
   {
    "duration": 41,
    "start_time": "2023-12-29T06:59:24.110Z"
   },
   {
    "duration": 9,
    "start_time": "2023-12-29T06:59:24.154Z"
   },
   {
    "duration": 19,
    "start_time": "2023-12-29T06:59:24.165Z"
   },
   {
    "duration": 27,
    "start_time": "2023-12-29T06:59:24.186Z"
   },
   {
    "duration": 14,
    "start_time": "2023-12-29T06:59:24.216Z"
   },
   {
    "duration": 41,
    "start_time": "2023-12-29T06:59:24.231Z"
   },
   {
    "duration": 26,
    "start_time": "2023-12-29T06:59:24.273Z"
   },
   {
    "duration": 38,
    "start_time": "2023-12-29T06:59:24.301Z"
   },
   {
    "duration": 97,
    "start_time": "2023-12-29T06:59:24.341Z"
   },
   {
    "duration": 94,
    "start_time": "2023-12-29T06:59:24.440Z"
   },
   {
    "duration": 64,
    "start_time": "2023-12-29T06:59:24.537Z"
   },
   {
    "duration": 56,
    "start_time": "2023-12-29T06:59:24.603Z"
   },
   {
    "duration": 13,
    "start_time": "2023-12-29T06:59:24.660Z"
   },
   {
    "duration": 65,
    "start_time": "2023-12-29T06:59:24.674Z"
   },
   {
    "duration": 74,
    "start_time": "2023-12-29T06:59:24.741Z"
   },
   {
    "duration": 0,
    "start_time": "2023-12-29T06:59:24.817Z"
   },
   {
    "duration": 0,
    "start_time": "2023-12-29T06:59:24.818Z"
   },
   {
    "duration": 0,
    "start_time": "2023-12-29T06:59:24.830Z"
   },
   {
    "duration": 0,
    "start_time": "2023-12-29T06:59:24.831Z"
   },
   {
    "duration": 0,
    "start_time": "2023-12-29T06:59:24.833Z"
   },
   {
    "duration": 0,
    "start_time": "2023-12-29T06:59:24.834Z"
   },
   {
    "duration": 0,
    "start_time": "2023-12-29T06:59:24.835Z"
   },
   {
    "duration": 0,
    "start_time": "2023-12-29T06:59:24.836Z"
   },
   {
    "duration": 0,
    "start_time": "2023-12-29T06:59:24.837Z"
   },
   {
    "duration": 0,
    "start_time": "2023-12-29T06:59:24.838Z"
   },
   {
    "duration": 0,
    "start_time": "2023-12-29T06:59:24.839Z"
   },
   {
    "duration": 0,
    "start_time": "2023-12-29T06:59:24.840Z"
   },
   {
    "duration": 0,
    "start_time": "2023-12-29T06:59:24.841Z"
   },
   {
    "duration": 0,
    "start_time": "2023-12-29T06:59:24.843Z"
   },
   {
    "duration": 0,
    "start_time": "2023-12-29T06:59:24.844Z"
   },
   {
    "duration": 0,
    "start_time": "2023-12-29T06:59:24.844Z"
   },
   {
    "duration": 0,
    "start_time": "2023-12-29T06:59:24.846Z"
   },
   {
    "duration": 0,
    "start_time": "2023-12-29T06:59:24.847Z"
   },
   {
    "duration": 0,
    "start_time": "2023-12-29T06:59:24.847Z"
   },
   {
    "duration": 0,
    "start_time": "2023-12-29T06:59:24.848Z"
   },
   {
    "duration": 17,
    "start_time": "2023-12-29T06:59:48.725Z"
   },
   {
    "duration": 13,
    "start_time": "2023-12-29T07:00:00.240Z"
   },
   {
    "duration": 389,
    "start_time": "2023-12-29T07:00:29.371Z"
   },
   {
    "duration": 201,
    "start_time": "2023-12-29T07:00:29.763Z"
   },
   {
    "duration": 21,
    "start_time": "2023-12-29T07:00:29.966Z"
   },
   {
    "duration": 42,
    "start_time": "2023-12-29T07:00:29.989Z"
   },
   {
    "duration": 77,
    "start_time": "2023-12-29T07:00:30.033Z"
   },
   {
    "duration": 98,
    "start_time": "2023-12-29T07:00:30.113Z"
   },
   {
    "duration": 119,
    "start_time": "2023-12-29T07:00:30.213Z"
   },
   {
    "duration": 67,
    "start_time": "2023-12-29T07:00:30.334Z"
   },
   {
    "duration": 88,
    "start_time": "2023-12-29T07:00:30.403Z"
   },
   {
    "duration": 173,
    "start_time": "2023-12-29T07:00:30.493Z"
   },
   {
    "duration": 124,
    "start_time": "2023-12-29T07:00:30.668Z"
   },
   {
    "duration": 97,
    "start_time": "2023-12-29T07:00:30.794Z"
   },
   {
    "duration": 95,
    "start_time": "2023-12-29T07:00:30.893Z"
   },
   {
    "duration": 117,
    "start_time": "2023-12-29T07:00:30.993Z"
   },
   {
    "duration": 91,
    "start_time": "2023-12-29T07:00:31.112Z"
   },
   {
    "duration": 19,
    "start_time": "2023-12-29T07:00:31.205Z"
   },
   {
    "duration": 91,
    "start_time": "2023-12-29T07:00:31.232Z"
   },
   {
    "duration": 77,
    "start_time": "2023-12-29T07:00:31.325Z"
   },
   {
    "duration": 0,
    "start_time": "2023-12-29T07:00:31.404Z"
   },
   {
    "duration": 0,
    "start_time": "2023-12-29T07:00:31.406Z"
   },
   {
    "duration": 0,
    "start_time": "2023-12-29T07:00:31.407Z"
   },
   {
    "duration": 0,
    "start_time": "2023-12-29T07:00:31.408Z"
   },
   {
    "duration": 0,
    "start_time": "2023-12-29T07:00:31.409Z"
   },
   {
    "duration": 0,
    "start_time": "2023-12-29T07:00:31.410Z"
   },
   {
    "duration": 0,
    "start_time": "2023-12-29T07:00:31.411Z"
   },
   {
    "duration": 0,
    "start_time": "2023-12-29T07:00:31.431Z"
   },
   {
    "duration": 0,
    "start_time": "2023-12-29T07:00:31.433Z"
   },
   {
    "duration": 0,
    "start_time": "2023-12-29T07:00:31.434Z"
   },
   {
    "duration": 0,
    "start_time": "2023-12-29T07:00:31.435Z"
   },
   {
    "duration": 0,
    "start_time": "2023-12-29T07:00:31.436Z"
   },
   {
    "duration": 0,
    "start_time": "2023-12-29T07:00:31.438Z"
   },
   {
    "duration": 0,
    "start_time": "2023-12-29T07:00:31.439Z"
   },
   {
    "duration": 0,
    "start_time": "2023-12-29T07:00:31.441Z"
   },
   {
    "duration": 0,
    "start_time": "2023-12-29T07:00:31.442Z"
   },
   {
    "duration": 0,
    "start_time": "2023-12-29T07:00:31.443Z"
   },
   {
    "duration": 0,
    "start_time": "2023-12-29T07:00:31.444Z"
   },
   {
    "duration": 0,
    "start_time": "2023-12-29T07:00:31.446Z"
   },
   {
    "duration": 0,
    "start_time": "2023-12-29T07:00:31.446Z"
   },
   {
    "duration": 42,
    "start_time": "2023-12-29T07:16:49.626Z"
   },
   {
    "duration": 53,
    "start_time": "2023-12-29T07:17:05.444Z"
   },
   {
    "duration": 48,
    "start_time": "2023-12-29T07:17:18.299Z"
   },
   {
    "duration": 3,
    "start_time": "2023-12-29T07:17:31.570Z"
   },
   {
    "duration": 19,
    "start_time": "2023-12-29T07:24:00.823Z"
   },
   {
    "duration": 31,
    "start_time": "2023-12-29T07:24:19.570Z"
   },
   {
    "duration": 33,
    "start_time": "2023-12-29T07:24:42.331Z"
   },
   {
    "duration": 31,
    "start_time": "2023-12-29T07:24:57.210Z"
   },
   {
    "duration": 33,
    "start_time": "2023-12-29T07:25:11.274Z"
   },
   {
    "duration": 30,
    "start_time": "2023-12-29T07:25:23.125Z"
   },
   {
    "duration": 29,
    "start_time": "2023-12-29T07:25:35.051Z"
   },
   {
    "duration": 9,
    "start_time": "2023-12-29T07:29:38.452Z"
   },
   {
    "duration": 52,
    "start_time": "2023-12-29T10:46:45.395Z"
   },
   {
    "duration": 452,
    "start_time": "2023-12-29T10:47:08.451Z"
   },
   {
    "duration": 228,
    "start_time": "2023-12-29T10:47:08.905Z"
   },
   {
    "duration": 16,
    "start_time": "2023-12-29T10:47:09.135Z"
   },
   {
    "duration": 43,
    "start_time": "2023-12-29T10:47:09.153Z"
   },
   {
    "duration": 5,
    "start_time": "2023-12-29T10:47:09.198Z"
   },
   {
    "duration": 12,
    "start_time": "2023-12-29T10:47:09.204Z"
   },
   {
    "duration": 30,
    "start_time": "2023-12-29T10:47:09.217Z"
   },
   {
    "duration": 5,
    "start_time": "2023-12-29T10:47:09.249Z"
   },
   {
    "duration": 27,
    "start_time": "2023-12-29T10:47:09.255Z"
   },
   {
    "duration": 20,
    "start_time": "2023-12-29T10:47:09.285Z"
   },
   {
    "duration": 26,
    "start_time": "2023-12-29T10:47:09.306Z"
   },
   {
    "duration": 82,
    "start_time": "2023-12-29T10:47:09.334Z"
   },
   {
    "duration": 86,
    "start_time": "2023-12-29T10:47:09.418Z"
   },
   {
    "duration": 57,
    "start_time": "2023-12-29T10:47:09.506Z"
   },
   {
    "duration": 53,
    "start_time": "2023-12-29T10:47:09.564Z"
   },
   {
    "duration": 11,
    "start_time": "2023-12-29T10:47:09.619Z"
   },
   {
    "duration": 44,
    "start_time": "2023-12-29T10:47:09.631Z"
   },
   {
    "duration": 20,
    "start_time": "2023-12-29T10:47:09.676Z"
   },
   {
    "duration": 25,
    "start_time": "2023-12-29T10:47:09.697Z"
   },
   {
    "duration": 3,
    "start_time": "2023-12-29T10:47:09.723Z"
   },
   {
    "duration": 32,
    "start_time": "2023-12-29T10:47:09.728Z"
   },
   {
    "duration": 40,
    "start_time": "2023-12-29T10:47:09.762Z"
   },
   {
    "duration": 22,
    "start_time": "2023-12-29T10:47:09.804Z"
   },
   {
    "duration": 21,
    "start_time": "2023-12-29T10:47:09.828Z"
   },
   {
    "duration": 54,
    "start_time": "2023-12-29T10:47:09.851Z"
   },
   {
    "duration": 24,
    "start_time": "2023-12-29T10:47:09.907Z"
   },
   {
    "duration": 10,
    "start_time": "2023-12-29T10:47:09.933Z"
   },
   {
    "duration": 42,
    "start_time": "2023-12-29T10:47:09.947Z"
   },
   {
    "duration": 3,
    "start_time": "2023-12-29T10:47:09.991Z"
   },
   {
    "duration": 106,
    "start_time": "2023-12-29T10:47:09.996Z"
   },
   {
    "duration": 0,
    "start_time": "2023-12-29T10:47:10.103Z"
   },
   {
    "duration": 0,
    "start_time": "2023-12-29T10:47:10.104Z"
   },
   {
    "duration": 0,
    "start_time": "2023-12-29T10:47:10.106Z"
   },
   {
    "duration": 0,
    "start_time": "2023-12-29T10:47:10.107Z"
   },
   {
    "duration": 1,
    "start_time": "2023-12-29T10:47:10.108Z"
   },
   {
    "duration": 0,
    "start_time": "2023-12-29T10:47:10.109Z"
   },
   {
    "duration": 0,
    "start_time": "2023-12-29T10:47:10.110Z"
   },
   {
    "duration": 0,
    "start_time": "2023-12-29T10:47:10.111Z"
   },
   {
    "duration": 12,
    "start_time": "2023-12-29T10:47:48.640Z"
   },
   {
    "duration": 400,
    "start_time": "2023-12-29T10:51:50.928Z"
   },
   {
    "duration": 200,
    "start_time": "2023-12-29T10:51:51.330Z"
   },
   {
    "duration": 17,
    "start_time": "2023-12-29T10:51:51.531Z"
   },
   {
    "duration": 51,
    "start_time": "2023-12-29T10:51:51.550Z"
   },
   {
    "duration": 3,
    "start_time": "2023-12-29T10:51:51.603Z"
   },
   {
    "duration": 30,
    "start_time": "2023-12-29T10:51:51.608Z"
   },
   {
    "duration": 31,
    "start_time": "2023-12-29T10:51:51.640Z"
   },
   {
    "duration": 26,
    "start_time": "2023-12-29T10:51:51.672Z"
   },
   {
    "duration": 53,
    "start_time": "2023-12-29T10:51:51.700Z"
   },
   {
    "duration": 54,
    "start_time": "2023-12-29T10:51:51.755Z"
   },
   {
    "duration": 30,
    "start_time": "2023-12-29T10:51:51.811Z"
   },
   {
    "duration": 102,
    "start_time": "2023-12-29T10:51:51.843Z"
   },
   {
    "duration": 99,
    "start_time": "2023-12-29T10:51:51.947Z"
   },
   {
    "duration": 72,
    "start_time": "2023-12-29T10:51:52.047Z"
   },
   {
    "duration": 46,
    "start_time": "2023-12-29T10:51:52.121Z"
   },
   {
    "duration": 29,
    "start_time": "2023-12-29T10:51:52.169Z"
   },
   {
    "duration": 61,
    "start_time": "2023-12-29T10:51:52.200Z"
   },
   {
    "duration": 13,
    "start_time": "2023-12-29T10:51:52.263Z"
   },
   {
    "duration": 42,
    "start_time": "2023-12-29T10:51:52.278Z"
   },
   {
    "duration": 31,
    "start_time": "2023-12-29T10:51:52.322Z"
   },
   {
    "duration": 41,
    "start_time": "2023-12-29T10:51:52.354Z"
   },
   {
    "duration": 34,
    "start_time": "2023-12-29T10:51:52.397Z"
   },
   {
    "duration": 23,
    "start_time": "2023-12-29T10:51:52.432Z"
   },
   {
    "duration": 24,
    "start_time": "2023-12-29T10:51:52.456Z"
   },
   {
    "duration": 35,
    "start_time": "2023-12-29T10:51:52.494Z"
   },
   {
    "duration": 22,
    "start_time": "2023-12-29T10:51:52.531Z"
   },
   {
    "duration": 18,
    "start_time": "2023-12-29T10:51:52.554Z"
   },
   {
    "duration": 39,
    "start_time": "2023-12-29T10:51:52.576Z"
   },
   {
    "duration": 68,
    "start_time": "2023-12-29T10:51:52.616Z"
   },
   {
    "duration": 0,
    "start_time": "2023-12-29T10:51:52.685Z"
   },
   {
    "duration": 0,
    "start_time": "2023-12-29T10:51:52.686Z"
   },
   {
    "duration": 0,
    "start_time": "2023-12-29T10:51:52.687Z"
   },
   {
    "duration": 0,
    "start_time": "2023-12-29T10:51:52.688Z"
   },
   {
    "duration": 0,
    "start_time": "2023-12-29T10:51:52.689Z"
   },
   {
    "duration": 0,
    "start_time": "2023-12-29T10:51:52.690Z"
   },
   {
    "duration": 0,
    "start_time": "2023-12-29T10:51:52.695Z"
   },
   {
    "duration": 1,
    "start_time": "2023-12-29T10:51:52.696Z"
   },
   {
    "duration": 0,
    "start_time": "2023-12-29T10:51:52.698Z"
   },
   {
    "duration": 13,
    "start_time": "2023-12-29T10:51:58.945Z"
   },
   {
    "duration": 868,
    "start_time": "2024-03-06T08:11:11.140Z"
   },
   {
    "duration": 72,
    "start_time": "2024-03-06T08:14:03.843Z"
   },
   {
    "duration": 476,
    "start_time": "2024-03-06T08:14:09.618Z"
   },
   {
    "duration": 14,
    "start_time": "2024-03-06T08:14:14.138Z"
   },
   {
    "duration": 15,
    "start_time": "2024-03-06T08:14:24.243Z"
   },
   {
    "duration": 11,
    "start_time": "2024-03-06T08:14:29.610Z"
   },
   {
    "duration": 10,
    "start_time": "2024-03-06T08:15:04.019Z"
   },
   {
    "duration": 10,
    "start_time": "2024-03-06T08:19:37.347Z"
   },
   {
    "duration": 12,
    "start_time": "2024-03-06T08:19:40.898Z"
   },
   {
    "duration": 565,
    "start_time": "2024-03-06T08:19:51.818Z"
   },
   {
    "duration": 186,
    "start_time": "2024-03-06T08:19:53.658Z"
   },
   {
    "duration": 11,
    "start_time": "2024-03-06T08:19:57.730Z"
   },
   {
    "duration": 4086,
    "start_time": "2024-03-06T08:21:11.490Z"
   },
   {
    "duration": 98,
    "start_time": "2024-03-06T08:22:22.290Z"
   },
   {
    "duration": 97,
    "start_time": "2024-03-06T08:22:28.346Z"
   },
   {
    "duration": 47,
    "start_time": "2024-03-06T08:22:49.626Z"
   },
   {
    "duration": 4042,
    "start_time": "2024-03-06T08:24:18.954Z"
   },
   {
    "duration": 12,
    "start_time": "2024-03-06T08:25:06.498Z"
   },
   {
    "duration": 12,
    "start_time": "2024-03-06T08:25:24.745Z"
   },
   {
    "duration": 13,
    "start_time": "2024-03-06T08:26:07.786Z"
   },
   {
    "duration": 24,
    "start_time": "2024-03-06T08:26:26.945Z"
   },
   {
    "duration": 8,
    "start_time": "2024-03-06T08:26:45.169Z"
   },
   {
    "duration": 21,
    "start_time": "2024-03-06T08:27:03.217Z"
   },
   {
    "duration": 19,
    "start_time": "2024-03-06T08:27:12.738Z"
   },
   {
    "duration": 13,
    "start_time": "2024-03-06T08:27:20.689Z"
   },
   {
    "duration": 12,
    "start_time": "2024-03-06T08:27:23.409Z"
   },
   {
    "duration": 13,
    "start_time": "2024-03-06T08:28:11.113Z"
   },
   {
    "duration": 12,
    "start_time": "2024-03-06T08:28:20.873Z"
   },
   {
    "duration": 9,
    "start_time": "2024-03-06T08:28:38.314Z"
   },
   {
    "duration": 4156,
    "start_time": "2024-03-06T08:28:40.307Z"
   },
   {
    "duration": 4244,
    "start_time": "2024-03-06T08:29:03.680Z"
   },
   {
    "duration": 4217,
    "start_time": "2024-03-06T08:29:20.057Z"
   },
   {
    "duration": 4121,
    "start_time": "2024-03-06T08:30:13.937Z"
   },
   {
    "duration": 4145,
    "start_time": "2024-03-06T08:30:52.297Z"
   },
   {
    "duration": 241,
    "start_time": "2024-03-06T08:31:20.369Z"
   },
   {
    "duration": 12,
    "start_time": "2024-03-06T08:34:06.417Z"
   },
   {
    "duration": 14,
    "start_time": "2024-03-06T08:34:16.216Z"
   },
   {
    "duration": 20,
    "start_time": "2024-03-06T08:34:33.736Z"
   },
   {
    "duration": 14,
    "start_time": "2024-03-06T08:34:41.128Z"
   },
   {
    "duration": 25,
    "start_time": "2024-03-06T08:34:53.608Z"
   },
   {
    "duration": 161,
    "start_time": "2024-03-06T08:35:46.287Z"
   },
   {
    "duration": 24,
    "start_time": "2024-03-06T08:36:11.702Z"
   },
   {
    "duration": 12,
    "start_time": "2024-03-06T08:36:53.137Z"
   },
   {
    "duration": 14,
    "start_time": "2024-03-06T08:37:03.791Z"
   },
   {
    "duration": 13,
    "start_time": "2024-03-06T08:37:16.422Z"
   },
   {
    "duration": 14,
    "start_time": "2024-03-06T08:39:17.078Z"
   },
   {
    "duration": 156,
    "start_time": "2024-03-06T08:39:29.278Z"
   },
   {
    "duration": 173,
    "start_time": "2024-03-06T08:39:43.038Z"
   },
   {
    "duration": 20022,
    "start_time": "2024-03-06T08:41:27.917Z"
   },
   {
    "duration": 130,
    "start_time": "2024-03-06T08:42:22.110Z"
   }
  ],
  "celltoolbar": "Отсутствует",
  "colab": {
   "collapsed_sections": [
    "E0vqbgi9ay0H",
    "VUC88oWjTJw2"
   ],
   "provenance": []
  },
  "kernelspec": {
   "display_name": "Python 3 (ipykernel)",
   "language": "python",
   "name": "python3"
  },
  "language_info": {
   "codemirror_mode": {
    "name": "ipython",
    "version": 3
   },
   "file_extension": ".py",
   "mimetype": "text/x-python",
   "name": "python",
   "nbconvert_exporter": "python",
   "pygments_lexer": "ipython3",
   "version": "3.9.5"
  },
  "toc": {
   "base_numbering": 1,
   "nav_menu": {
    "height": "215px",
    "width": "403px"
   },
   "number_sections": true,
   "sideBar": true,
   "skip_h1_title": true,
   "title_cell": "Table of Contents",
   "title_sidebar": "Contents",
   "toc_cell": false,
   "toc_position": {
    "height": "calc(100% - 180px)",
    "left": "10px",
    "top": "150px",
    "width": "285.825px"
   },
   "toc_section_display": true,
   "toc_window_display": false
  }
 },
 "nbformat": 4,
 "nbformat_minor": 1
}
