{
 "cells": [
  {
   "cell_type": "markdown",
   "metadata": {},
   "source": [
    "# Проект для «Викишоп»"
   ]
  },
  {
   "cell_type": "markdown",
   "metadata": {},
   "source": [
    "Интернет-магазин «Викишоп» запускает новый сервис. Теперь пользователи могут редактировать и дополнять описания товаров, как в вики-сообществах. То есть клиенты предлагают свои правки и комментируют изменения других. Магазину нужен инструмент, который будет искать токсичные комментарии и отправлять их на модерацию. \n",
    "\n",
    "Обучите модель классифицировать комментарии на позитивные и негативные. В вашем распоряжении набор данных с разметкой о токсичности правок.\n",
    "\n",
    "Постройте модель со значением метрики качества *F1* не меньше 0.75. \n",
    "\n",
    "**Инструкция по выполнению проекта**\n",
    "\n",
    "1. Загрузите и подготовьте данные.\n",
    "2. Обучите разные модели. \n",
    "3. Сделайте выводы.\n",
    "\n",
    "Для выполнения проекта применять *BERT* необязательно, но вы можете попробовать.\n",
    "\n",
    "**Описание данных**\n",
    "\n",
    "Данные находятся в файле `toxic_comments.csv`. Столбец *text* в нём содержит текст комментария, а *toxic* — целевой признак."
   ]
  },
  {
   "cell_type": "markdown",
   "metadata": {},
   "source": [
    "## Загрузка библиотек "
   ]
  },
  {
   "cell_type": "code",
   "execution_count": 1,
   "metadata": {},
   "outputs": [
    {
     "name": "stdout",
     "output_type": "stream",
     "text": [
      "Requirement already satisfied: pillow in /opt/conda/lib/python3.9/site-packages (10.4.0)\n",
      "Note: you may need to restart the kernel to use updated packages.\n"
     ]
    }
   ],
   "source": [
    "pip install --upgrade pillow"
   ]
  },
  {
   "cell_type": "code",
   "execution_count": 2,
   "metadata": {},
   "outputs": [],
   "source": [
    "import matplotlib.pyplot as plt\n",
    "import numpy as np\n",
    "import pandas as pd\n",
    "import re\n",
    "from pymystem3 import Mystem\n",
    "import nltk\n",
    "from nltk.corpus import stopwords as nltk_stopwords\n",
    "from sklearn.feature_extraction.text import TfidfVectorizer\n",
    "from sklearn.model_selection import train_test_split, cross_val_score, GridSearchCV\n",
    "from sklearn.linear_model import LogisticRegression, SGDClassifier\n",
    "from sklearn.tree import DecisionTreeClassifier\n",
    "from catboost import CatBoostClassifier\n",
    "from sklearn.metrics import f1_score, precision_score, recall_score, accuracy_score, roc_auc_score, roc_curve\n",
    "from sklearn.utils import shuffle\n",
    "from sklearn.model_selection import StratifiedKFold\n",
    "import warnings\n",
    "warnings.filterwarnings('ignore')"
   ]
  },
  {
   "cell_type": "markdown",
   "metadata": {},
   "source": [
    "## Загрузка данных и осмотр"
   ]
  },
  {
   "cell_type": "code",
   "execution_count": 3,
   "metadata": {},
   "outputs": [
    {
     "name": "stdout",
     "output_type": "stream",
     "text": [
      "Данные загружены корректно\n"
     ]
    }
   ],
   "source": [
    "try:\n",
    "    df = pd.read_csv('/datasets/toxic_comments.csv') # для загрузки на платформе\n",
    "    print('Данные загружены корректно')\n",
    "except (FileNotFoundError, OSError):\n",
    "    try:\n",
    "        df = pd.read_csv('C:\\\\Users\\\\Downloads\\\\toxic_comments.csv') # локально, нужно указать свой путь\n",
    "        print('Данные загружены корректно')\n",
    "    except (FileNotFoundError, OSError):\n",
    "        print('Произошла ошибка при загрузке')"
   ]
  },
  {
   "cell_type": "code",
   "execution_count": 4,
   "metadata": {},
   "outputs": [
    {
     "data": {
      "text/html": [
       "<div>\n",
       "<style scoped>\n",
       "    .dataframe tbody tr th:only-of-type {\n",
       "        vertical-align: middle;\n",
       "    }\n",
       "\n",
       "    .dataframe tbody tr th {\n",
       "        vertical-align: top;\n",
       "    }\n",
       "\n",
       "    .dataframe thead th {\n",
       "        text-align: right;\n",
       "    }\n",
       "</style>\n",
       "<table border=\"1\" class=\"dataframe\">\n",
       "  <thead>\n",
       "    <tr style=\"text-align: right;\">\n",
       "      <th></th>\n",
       "      <th>Unnamed: 0</th>\n",
       "      <th>text</th>\n",
       "      <th>toxic</th>\n",
       "    </tr>\n",
       "  </thead>\n",
       "  <tbody>\n",
       "    <tr>\n",
       "      <th>0</th>\n",
       "      <td>0</td>\n",
       "      <td>Explanation\\nWhy the edits made under my usern...</td>\n",
       "      <td>0</td>\n",
       "    </tr>\n",
       "    <tr>\n",
       "      <th>1</th>\n",
       "      <td>1</td>\n",
       "      <td>D'aww! He matches this background colour I'm s...</td>\n",
       "      <td>0</td>\n",
       "    </tr>\n",
       "    <tr>\n",
       "      <th>2</th>\n",
       "      <td>2</td>\n",
       "      <td>Hey man, I'm really not trying to edit war. It...</td>\n",
       "      <td>0</td>\n",
       "    </tr>\n",
       "    <tr>\n",
       "      <th>3</th>\n",
       "      <td>3</td>\n",
       "      <td>\"\\nMore\\nI can't make any real suggestions on ...</td>\n",
       "      <td>0</td>\n",
       "    </tr>\n",
       "    <tr>\n",
       "      <th>4</th>\n",
       "      <td>4</td>\n",
       "      <td>You, sir, are my hero. Any chance you remember...</td>\n",
       "      <td>0</td>\n",
       "    </tr>\n",
       "  </tbody>\n",
       "</table>\n",
       "</div>"
      ],
      "text/plain": [
       "   Unnamed: 0                                               text  toxic\n",
       "0           0  Explanation\\nWhy the edits made under my usern...      0\n",
       "1           1  D'aww! He matches this background colour I'm s...      0\n",
       "2           2  Hey man, I'm really not trying to edit war. It...      0\n",
       "3           3  \"\\nMore\\nI can't make any real suggestions on ...      0\n",
       "4           4  You, sir, are my hero. Any chance you remember...      0"
      ]
     },
     "execution_count": 4,
     "metadata": {},
     "output_type": "execute_result"
    }
   ],
   "source": [
    "df.head()"
   ]
  },
  {
   "cell_type": "code",
   "execution_count": 5,
   "metadata": {},
   "outputs": [
    {
     "name": "stdout",
     "output_type": "stream",
     "text": [
      "<class 'pandas.core.frame.DataFrame'>\n",
      "RangeIndex: 159292 entries, 0 to 159291\n",
      "Data columns (total 3 columns):\n",
      " #   Column      Non-Null Count   Dtype \n",
      "---  ------      --------------   ----- \n",
      " 0   Unnamed: 0  159292 non-null  int64 \n",
      " 1   text        159292 non-null  object\n",
      " 2   toxic       159292 non-null  int64 \n",
      "dtypes: int64(2), object(1)\n",
      "memory usage: 3.6+ MB\n"
     ]
    }
   ],
   "source": [
    "df.info()"
   ]
  },
  {
   "cell_type": "code",
   "execution_count": 6,
   "metadata": {},
   "outputs": [
    {
     "data": {
      "text/html": [
       "<div>\n",
       "<style scoped>\n",
       "    .dataframe tbody tr th:only-of-type {\n",
       "        vertical-align: middle;\n",
       "    }\n",
       "\n",
       "    .dataframe tbody tr th {\n",
       "        vertical-align: top;\n",
       "    }\n",
       "\n",
       "    .dataframe thead th {\n",
       "        text-align: right;\n",
       "    }\n",
       "</style>\n",
       "<table border=\"1\" class=\"dataframe\">\n",
       "  <thead>\n",
       "    <tr style=\"text-align: right;\">\n",
       "      <th></th>\n",
       "      <th>Unnamed: 0</th>\n",
       "      <th>toxic</th>\n",
       "    </tr>\n",
       "  </thead>\n",
       "  <tbody>\n",
       "    <tr>\n",
       "      <th>count</th>\n",
       "      <td>159292.000000</td>\n",
       "      <td>159292.000000</td>\n",
       "    </tr>\n",
       "    <tr>\n",
       "      <th>mean</th>\n",
       "      <td>79725.697242</td>\n",
       "      <td>0.101612</td>\n",
       "    </tr>\n",
       "    <tr>\n",
       "      <th>std</th>\n",
       "      <td>46028.837471</td>\n",
       "      <td>0.302139</td>\n",
       "    </tr>\n",
       "    <tr>\n",
       "      <th>min</th>\n",
       "      <td>0.000000</td>\n",
       "      <td>0.000000</td>\n",
       "    </tr>\n",
       "    <tr>\n",
       "      <th>25%</th>\n",
       "      <td>39872.750000</td>\n",
       "      <td>0.000000</td>\n",
       "    </tr>\n",
       "    <tr>\n",
       "      <th>50%</th>\n",
       "      <td>79721.500000</td>\n",
       "      <td>0.000000</td>\n",
       "    </tr>\n",
       "    <tr>\n",
       "      <th>75%</th>\n",
       "      <td>119573.250000</td>\n",
       "      <td>0.000000</td>\n",
       "    </tr>\n",
       "    <tr>\n",
       "      <th>max</th>\n",
       "      <td>159450.000000</td>\n",
       "      <td>1.000000</td>\n",
       "    </tr>\n",
       "  </tbody>\n",
       "</table>\n",
       "</div>"
      ],
      "text/plain": [
       "          Unnamed: 0          toxic\n",
       "count  159292.000000  159292.000000\n",
       "mean    79725.697242       0.101612\n",
       "std     46028.837471       0.302139\n",
       "min         0.000000       0.000000\n",
       "25%     39872.750000       0.000000\n",
       "50%     79721.500000       0.000000\n",
       "75%    119573.250000       0.000000\n",
       "max    159450.000000       1.000000"
      ]
     },
     "execution_count": 6,
     "metadata": {},
     "output_type": "execute_result"
    }
   ],
   "source": [
    "df.describe()"
   ]
  },
  {
   "cell_type": "code",
   "execution_count": 7,
   "metadata": {},
   "outputs": [
    {
     "data": {
      "text/plain": [
       "Unnamed: 0    0\n",
       "text          0\n",
       "toxic         0\n",
       "dtype: int64"
      ]
     },
     "execution_count": 7,
     "metadata": {},
     "output_type": "execute_result"
    }
   ],
   "source": [
    "df.isna().sum() # Хоть и эта инфомайция отражается в методе инфо, всё равно проведем её."
   ]
  },
  {
   "cell_type": "markdown",
   "metadata": {},
   "source": [
    "Явных пустот нет, но если вдруг есть неявные, \"пробельные комментарии\" - для этого отсортируем текст в алфавитном порядке."
   ]
  },
  {
   "cell_type": "code",
   "execution_count": 8,
   "metadata": {},
   "outputs": [
    {
     "data": {
      "text/html": [
       "<div>\n",
       "<style scoped>\n",
       "    .dataframe tbody tr th:only-of-type {\n",
       "        vertical-align: middle;\n",
       "    }\n",
       "\n",
       "    .dataframe tbody tr th {\n",
       "        vertical-align: top;\n",
       "    }\n",
       "\n",
       "    .dataframe thead th {\n",
       "        text-align: right;\n",
       "    }\n",
       "</style>\n",
       "<table border=\"1\" class=\"dataframe\">\n",
       "  <thead>\n",
       "    <tr style=\"text-align: right;\">\n",
       "      <th></th>\n",
       "      <th>Unnamed: 0</th>\n",
       "      <th>text</th>\n",
       "      <th>toxic</th>\n",
       "    </tr>\n",
       "  </thead>\n",
       "  <tbody>\n",
       "    <tr>\n",
       "      <th>119018</th>\n",
       "      <td>119123</td>\n",
       "      <td>\"\"\"</td>\n",
       "      <td>1</td>\n",
       "    </tr>\n",
       "    <tr>\n",
       "      <th>135898</th>\n",
       "      <td>136036</td>\n",
       "      <td>wikipedia-watch.org ALL TRUE 100% LOL!!!\"</td>\n",
       "      <td>0</td>\n",
       "    </tr>\n",
       "    <tr>\n",
       "      <th>93236</th>\n",
       "      <td>93328</td>\n",
       "      <td>!\\n\\nI won't stop!  LOCK IT UP A$$HOLE</td>\n",
       "      <td>1</td>\n",
       "    </tr>\n",
       "    <tr>\n",
       "      <th>124303</th>\n",
       "      <td>124432</td>\n",
       "      <td>!\\n\\nIt is now inside your bones, your head. H...</td>\n",
       "      <td>1</td>\n",
       "    </tr>\n",
       "    <tr>\n",
       "      <th>9283</th>\n",
       "      <td>9296</td>\n",
       "      <td>!\\n\\nSuck my DIHCK! Nihgga!\\n\\nYou don't want ...</td>\n",
       "      <td>1</td>\n",
       "    </tr>\n",
       "    <tr>\n",
       "      <th>...</th>\n",
       "      <td>...</td>\n",
       "      <td>...</td>\n",
       "      <td>...</td>\n",
       "    </tr>\n",
       "    <tr>\n",
       "      <th>13661</th>\n",
       "      <td>13676</td>\n",
       "      <td>➥the Epopt]] 14:00, 8 May</td>\n",
       "      <td>0</td>\n",
       "    </tr>\n",
       "    <tr>\n",
       "      <th>139227</th>\n",
       "      <td>139379</td>\n",
       "      <td>北京 \\n\\nI am going to reinstate the weatherbox ...</td>\n",
       "      <td>0</td>\n",
       "    </tr>\n",
       "    <tr>\n",
       "      <th>156089</th>\n",
       "      <td>156248</td>\n",
       "      <td>只, is it correctly written in the picture of t...</td>\n",
       "      <td>0</td>\n",
       "    </tr>\n",
       "    <tr>\n",
       "      <th>132439</th>\n",
       "      <td>132576</td>\n",
       "      <td>这是什么意思？\\n\\nYou have been blocked from editing....</td>\n",
       "      <td>0</td>\n",
       "    </tr>\n",
       "    <tr>\n",
       "      <th>17478</th>\n",
       "      <td>17495</td>\n",
       "      <td>﻿Sensual Pleasures of the MindItalic text\\n\\nT...</td>\n",
       "      <td>0</td>\n",
       "    </tr>\n",
       "  </tbody>\n",
       "</table>\n",
       "<p>159292 rows × 3 columns</p>\n",
       "</div>"
      ],
      "text/plain": [
       "        Unnamed: 0                                               text  toxic\n",
       "119018      119123                                                \"\"\"      1\n",
       "135898      136036          wikipedia-watch.org ALL TRUE 100% LOL!!!\"      0\n",
       "93236        93328             !\\n\\nI won't stop!  LOCK IT UP A$$HOLE      1\n",
       "124303      124432  !\\n\\nIt is now inside your bones, your head. H...      1\n",
       "9283          9296  !\\n\\nSuck my DIHCK! Nihgga!\\n\\nYou don't want ...      1\n",
       "...            ...                                                ...    ...\n",
       "13661        13676                          ➥the Epopt]] 14:00, 8 May      0\n",
       "139227      139379  北京 \\n\\nI am going to reinstate the weatherbox ...      0\n",
       "156089      156248  只, is it correctly written in the picture of t...      0\n",
       "132439      132576  这是什么意思？\\n\\nYou have been blocked from editing....      0\n",
       "17478        17495  ﻿Sensual Pleasures of the MindItalic text\\n\\nT...      0\n",
       "\n",
       "[159292 rows x 3 columns]"
      ]
     },
     "metadata": {},
     "output_type": "display_data"
    }
   ],
   "source": [
    "display(df.sort_values('text'))"
   ]
  },
  {
   "cell_type": "markdown",
   "metadata": {},
   "source": [
    "Похоже, что ничего обнаружить не удалось."
   ]
  },
  {
   "cell_type": "code",
   "execution_count": 9,
   "metadata": {},
   "outputs": [
    {
     "data": {
      "text/plain": [
       "0"
      ]
     },
     "execution_count": 9,
     "metadata": {},
     "output_type": "execute_result"
    }
   ],
   "source": [
    "df.duplicated().sum() # Проверим наличие явных дубликатов"
   ]
  },
  {
   "cell_type": "code",
   "execution_count": 10,
   "metadata": {},
   "outputs": [
    {
     "data": {
      "text/plain": [
       "0    143106\n",
       "1     16186\n",
       "Name: toxic, dtype: int64"
      ]
     },
     "metadata": {},
     "output_type": "display_data"
    },
    {
     "data": {
      "text/plain": [
       "0.11310497114027364"
      ]
     },
     "execution_count": 10,
     "metadata": {},
     "output_type": "execute_result"
    }
   ],
   "source": [
    "display(df['toxic'].value_counts())\n",
    "class_ratio = df['toxic'].value_counts()[1] / df['toxic'].value_counts()[0]\n",
    "class_ratio"
   ]
  },
  {
   "cell_type": "code",
   "execution_count": 11,
   "metadata": {},
   "outputs": [
    {
     "data": {
      "image/png": "[encoded data removed]",
      "text/plain": [
       "<Figure size 432x288 with 1 Axes>"
      ]
     },
     "metadata": {
      "needs_background": "light"
     },
     "output_type": "display_data"
    }
   ],
   "source": [
    "# Получаем значения для столбца 'toxic'\n",
    "toxic_counts = df['toxic'].value_counts()\n",
    "\n",
    "# Строим график\n",
    "toxic_counts.plot(kind='bar', color=['blue', 'red'])\n",
    "plt.title('Распределение значений в столбце \"toxic\"')\n",
    "plt.xlabel('Значение')\n",
    "plt.ylabel('Количество')\n",
    "\n",
    "# Изменяем подписи под столбцами\n",
    "plt.xticks([0, 1], ['обычный', 'токсичный'])\n",
    "\n",
    "plt.show()\n",
    "\n"
   ]
  },
  {
   "cell_type": "markdown",
   "metadata": {},
   "source": [
    "Вывод по осмотру:\n",
    "    Данные загружены успешно, всего в них почти 160 тысяч строк, токсичных комментариев почти в 10 раз меньше чем нетоксичных. Поскольку перед нами стоит задача классификации, разбалансировка классов может быть проблемой для обучения моделей. Есть несколько способов это \"исправить\". Мы можем уравнять веса, либо уравнять количество записей относящихся к разным классам. и Здесь тоже 2 пути. Либо мы \"урезаем\" преобладающий класс, либо создаем \"фальш-записи\" меньшего класса. Но у нас достаточно много записей, а далее нам предстоит лемматизация - а это как праивило отнимает много времени, поэтому во втором варианте мы выберем уменьшение преобладающего класса.\n",
    "    P.S. Плюс ко всему, по семейным обстоятельствам (прибавление), я не могу выполнить проект локально (сейчас в разъездах, то тут то там), поэтому буду стараться выбирать пути наименьшего сопротивления, чтобы платформа не зависала."
   ]
  },
  {
   "cell_type": "markdown",
   "metadata": {},
   "source": [
    "## Подготовка"
   ]
  },
  {
   "cell_type": "markdown",
   "metadata": {},
   "source": [
    "Напишем функцию лемматизации и применим её."
   ]
  },
  {
   "cell_type": "markdown",
   "metadata": {},
   "source": [
    "### Разбиение на выборки, лемматизация"
   ]
  },
  {
   "cell_type": "code",
   "execution_count": 12,
   "metadata": {},
   "outputs": [],
   "source": [
    "import nltk\n",
    "from nltk.tokenize import word_tokenize \n",
    "from nltk.stem import WordNetLemmatizer \n",
    "from sklearn.model_selection import train_test_split\n",
    "from sklearn.feature_extraction.text import TfidfVectorizer\n",
    "from sklearn.linear_model import LogisticRegression\n",
    "from sklearn.metrics import f1_score\n",
    "from nltk.corpus import stopwords \n",
    "from sklearn.model_selection import GridSearchCV\n",
    "import warnings\n",
    "warnings.filterwarnings(\"ignore\")\n"
   ]
  },
  {
   "cell_type": "code",
   "execution_count": 13,
   "metadata": {},
   "outputs": [
    {
     "name": "stderr",
     "output_type": "stream",
     "text": [
      "[nltk_data] Downloading package averaged_perceptron_tagger to\n",
      "[nltk_data]     /home/jovyan/nltk_data...\n",
      "[nltk_data]   Package averaged_perceptron_tagger is already up-to-\n",
      "[nltk_data]       date!\n",
      "[nltk_data] Downloading package stopwords to /home/jovyan/nltk_data...\n",
      "[nltk_data]   Package stopwords is already up-to-date!\n"
     ]
    }
   ],
   "source": [
    "nltk.download('averaged_perceptron_tagger')\n",
    "nltk.download('stopwords') \n",
    "stop_words = set(stopwords.words('english'))"
   ]
  },
  {
   "cell_type": "code",
   "execution_count": 14,
   "metadata": {},
   "outputs": [],
   "source": [
    "lemmatizer = WordNetLemmatizer()\n",
    "def predproc(text):\n",
    "    text = re.sub(r'[^a-zA-z ]', ' ', text)\n",
    "    text = text.lower()\n",
    "    token = nltk.word_tokenize(text)\n",
    "    text = [word for word in token if word not in stop_words]\n",
    "    text = [lemmatizer.lemmatize(word, get_wordnet_pos(word)) for word in text]\n",
    "    text = ' '.join(text)\n",
    "    return text\n",
    "\n",
    "def get_wordnet_pos(word):\n",
    "    \"\"\"Возвращает соответствующий POS-тег для использования с WordNetLemmatizer\"\"\"\n",
    "    tag = nltk.pos_tag([word])[0][1][0].upper()\n",
    "    tag_dict = {\"J\": nltk.corpus.wordnet.ADJ,\n",
    "                \"N\": nltk.corpus.wordnet.NOUN,\n",
    "                \"V\": nltk.corpus.wordnet.VERB,\n",
    "                \"R\": nltk.corpus.wordnet.ADV}\n",
    "\n",
    "    return tag_dict.get(tag, nltk.corpus.wordnet.NOUN)"
   ]
  },
  {
   "cell_type": "code",
   "execution_count": 15,
   "metadata": {},
   "outputs": [],
   "source": [
    "df['lemm_text'] = df['text'].apply(predproc)"
   ]
  },
  {
   "cell_type": "markdown",
   "metadata": {},
   "source": [
    "Разобьем выборку по отношению 60% - тренировочная, 20% - валидационная, 20% - тестовая. Количество кросс-валидаций примем равным 3, данных в выборке немало, ускорим таким образом процесс."
   ]
  },
  {
   "cell_type": "code",
   "execution_count": 16,
   "metadata": {},
   "outputs": [
    {
     "name": "stderr",
     "output_type": "stream",
     "text": [
      "[nltk_data] Downloading package stopwords to /home/jovyan/nltk_data...\n",
      "[nltk_data]   Package stopwords is already up-to-date!\n"
     ]
    },
    {
     "name": "stdout",
     "output_type": "stream",
     "text": [
      "(95575, 113408)\n",
      "(31858, 113408)\n",
      "(31859, 113408)\n"
     ]
    }
   ],
   "source": [
    "target = df['toxic']\n",
    "features = df.drop(['toxic'], axis=1)\n",
    "\n",
    "features_train, features_valid, target_train, target_valid = train_test_split(features, \n",
    "                                                                              target, \n",
    "                                                                              test_size=0.4, \n",
    "                                                                              random_state=42)\n",
    "features_valid, features_test, target_valid, target_test = train_test_split(features_valid, \n",
    "                                                                            target_valid, \n",
    "                                                                            test_size=0.5,\n",
    "                                                                            random_state=42)\n",
    "\n",
    "nltk.download('stopwords')\n",
    "stopwords = set(nltk_stopwords.words('english'))\n",
    "\n",
    "count_tf_idf = TfidfVectorizer(stop_words=stopwords)\n",
    "\n",
    "features_train = count_tf_idf.fit_transform(features_train['lemm_text'])\n",
    "features_valid = count_tf_idf.transform(features_valid['lemm_text'])\n",
    "features_test = count_tf_idf.transform(features_test['lemm_text'])\n",
    "print(features_train.shape)\n",
    "print(features_valid.shape)\n",
    "print(features_test.shape)\n",
    "cv_counts = 3"
   ]
  },
  {
   "cell_type": "code",
   "execution_count": 17,
   "metadata": {},
   "outputs": [
    {
     "name": "stdout",
     "output_type": "stream",
     "text": [
      "F1 на CV 0.691834063238491\n",
      "CPU times: user 48.9 s, sys: 55.4 s, total: 1min 44s\n",
      "Wall time: 1min 44s\n"
     ]
    }
   ],
   "source": [
    "%%time\n",
    "\n",
    "classificator = LogisticRegression()\n",
    "train_f1 = cross_val_score(classificator, \n",
    "                      features_train, \n",
    "                      target_train, \n",
    "                      cv=cv_counts, \n",
    "                      scoring='f1').mean()\n",
    "print('F1 на CV', train_f1)"
   ]
  },
  {
   "cell_type": "markdown",
   "metadata": {},
   "source": [
    "Мне из всех вариантов балансировки классов кажется наиболее приемлемым срезание преобладающего, но начнем с изменения весов."
   ]
  },
  {
   "cell_type": "markdown",
   "metadata": {},
   "source": [
    "### Изменение весов класса"
   ]
  },
  {
   "cell_type": "code",
   "execution_count": 18,
   "metadata": {},
   "outputs": [
    {
     "name": "stdout",
     "output_type": "stream",
     "text": [
      "F1 на CV с балансированными классами 0.7409337890673419\n",
      "CPU times: user 34.1 s, sys: 38.4 s, total: 1min 12s\n",
      "Wall time: 1min 12s\n"
     ]
    }
   ],
   "source": [
    "%%time\n",
    "\n",
    "classificator = LogisticRegression(class_weight='balanced')\n",
    "train_f1_balanced = cross_val_score(classificator, \n",
    "                                    features_train, \n",
    "                                    target_train, \n",
    "                                    cv=cv_counts, \n",
    "                                    scoring='f1').mean()\n",
    "print('F1 на CV с балансированными классами', train_f1_balanced)"
   ]
  },
  {
   "cell_type": "markdown",
   "metadata": {},
   "source": [
    "\n",
    "<div class=\"alert alert-block alert-warning\">\n",
    "<b>Комментарий студента:</b> ...\n",
    "    Извини, пойду по пути наименьшего сопротивления, не могу сейчас уделить время на эксперименты. На днях иду забирать своих из роддома. Нужно все подготовить к их приезду. Как станет по свободнее, попробую сделать проект с нуля и уже с BERT. Но сейчас, просто удалю часть с ресемплированием. Тем более что дальше, я использую развесовку, а ресемлирование больше было для тренировки.\n",
    "    \n",
    "    \n",
    "   Удаленная часть \n",
    "  ### Ресемплирование с уменьшением класса обычных комментариев  \n",
    "    \n",
    "toxic_comments_train = df.iloc[target_train.index]\n",
    "\n",
    "target_train_class_zero = toxic_comments_train[toxic_comments_train['toxic'] == 0]['toxic']\n",
    "target_train_class_one = toxic_comments_train[toxic_comments_train['toxic'] == 1]['toxic']\n",
    "target_train_class_zero_downsample = target_train_class_zero.sample(target_train_class_one.shape[0],\n",
    "                                                                    random_state=12082020)\n",
    "target_train_downsample = pd.concat([target_train_class_zero_downsample, target_train_class_one])\n",
    "\n",
    "features_train_downsample = df.iloc[target_train_downsample.index]\n",
    "features_train_downsample, target_train_downsample = shuffle(features_train_downsample,\n",
    "                                                             target_train_downsample,\n",
    "                                                             random_state=12082020)\n",
    "features_train_downsample = count_tf_idf.transform(features_train_downsample['lemm_text']\n",
    "                                                   .values.astype('U'))\n",
    "del count_tf_idf\n",
    "del stopwords\n",
    "    \n",
    "\n",
    "classificator = LogisticRegression()\n",
    "train_f1_downsampled = cross_val_score(classificator,\n",
    "                      features_train_downsample, \n",
    "                      target_train_downsample, \n",
    "                      cv=cv_counts, \n",
    "                      scoring='f1').mean()\n",
    "print('F1 на CV с уменьшением классов', train_f1_downsampled)\n",
    "    \n",
    "    \n",
    "График\n",
    "    \n",
    "classificator = LogisticRegression()\n",
    "classificator.fit(features_train_downsample,target_train_downsample)\n",
    "probabilities_valid = classificator.predict_proba(features_valid)\n",
    "probabilities_one_valid = probabilities_valid[:, 1]\n",
    "fpr, tpr, thresholds = roc_curve(target_valid, probabilities_one_valid)\n",
    "auc_roc_downsampled = roc_auc_score(target_valid, probabilities_one_valid)\n",
    "valid_f1_downsampled = f1_score(target_valid, classificator.predict(features_valid))\n",
    "plt.plot(fpr, tpr, label='Логистическая регрессия с ресемплированием', color='red', linewidth=2, alpha=0.5)\n",
    "\n",
    "</div>"
   ]
  },
  {
   "cell_type": "markdown",
   "metadata": {},
   "source": [
    "<div class=\"alert alert-block alert-danger\">\n",
    "<b>Ошибка:</b> Проводить кросс-валидацию на upsampled/downsampled данных – некорректно, так как баланс классов нарушен. Напомню, что внутри кросс-валидации происходит разбиение переданной в нее выборки на треин и валидацию. \n",
    "    \n",
    "В случае upsampling получается так, что в треин и в валидацию (внутри кросс-валидации) вообще попадают одни и те же объекты. \n",
    "\n",
    "* Можно попробовать реализовать подход из статьи: https://kiwidamien.github.io/how-to-do-cross-validation-when-upsampling-data.html .\n",
    "* Можно использовать параметр class_weights.\n",
    "* Можно отдельно выделить валидационную выборку и изменить баланс только на треине.\n",
    "* Можно вообще ничего не делать, то есть не бороться с дисбалансом. \n",
    "* Каждый их способов выше может как улучшить, так и ухудшить качество. Это поле для экспериментов.\n",
    "</div>"
   ]
  },
  {
   "cell_type": "code",
   "execution_count": 19,
   "metadata": {},
   "outputs": [
    {
     "data": {
      "image/png": "[encoded data removed]",
      "text/plain": [
       "<Figure size 864x648 with 1 Axes>"
      ]
     },
     "metadata": {
      "needs_background": "light"
     },
     "output_type": "display_data"
    }
   ],
   "source": [
    "plt.figure(figsize=[12,9])\n",
    "\n",
    "plt.plot([0, 1], [0, 1], linestyle='--', label='RandomModel')\n",
    "\n",
    "\n",
    "classificator = LogisticRegression()\n",
    "classificator.fit(features_train, target_train)\n",
    "probabilities_valid = classificator.predict_proba(features_valid)\n",
    "probabilities_one_valid = probabilities_valid[:, 1]\n",
    "fpr, tpr, thresholds = roc_curve(target_valid, probabilities_one_valid)\n",
    "auc_roc = roc_auc_score(target_valid, probabilities_one_valid)\n",
    "valid_f1 = f1_score(target_valid, classificator.predict(features_valid))\n",
    "plt.plot(fpr, tpr, label='Логистическая регрессия', color='blue', linewidth=2, alpha=0.5)\n",
    "\n",
    "classificator = LogisticRegression()\n",
    "classificator.fit(features_train, target_train)\n",
    "probabilities_valid = classificator.predict_proba(features_valid)\n",
    "probabilities_one_valid = probabilities_valid[:, 1]\n",
    "fpr, tpr, thresholds = roc_curve(target_valid, probabilities_one_valid)\n",
    "auc_roc_balanced = roc_auc_score(target_valid, probabilities_one_valid)\n",
    "valid_f1_balanced = f1_score(target_valid, classificator.predict(features_valid))\n",
    "plt.plot(fpr, tpr, label='Логистическая регрессия с отбалансированными весами', color='green', linewidth=2, alpha=0.5)\n",
    "\n",
    "\n",
    "plt.xlim([0,1])\n",
    "plt.ylim([0,1])\n",
    "\n",
    "plt.xlabel(\"False Positive Rate\")\n",
    "plt.ylabel(\"True Positive Rate\")\n",
    "\n",
    "plt.legend(loc='lower right', fontsize='x-large')\n",
    "\n",
    "plt.title(\"ROC-кривая\")\n",
    "plt.show()"
   ]
  },
  {
   "cell_type": "code",
   "execution_count": 20,
   "metadata": {},
   "outputs": [
    {
     "data": {
      "text/html": [
       "<div>\n",
       "<style scoped>\n",
       "    .dataframe tbody tr th:only-of-type {\n",
       "        vertical-align: middle;\n",
       "    }\n",
       "\n",
       "    .dataframe tbody tr th {\n",
       "        vertical-align: top;\n",
       "    }\n",
       "\n",
       "    .dataframe thead th {\n",
       "        text-align: right;\n",
       "    }\n",
       "</style>\n",
       "<table border=\"1\" class=\"dataframe\">\n",
       "  <thead>\n",
       "    <tr style=\"text-align: right;\">\n",
       "      <th></th>\n",
       "      <th>F1 на CV</th>\n",
       "      <th>F1 на валидации</th>\n",
       "      <th>AUC-ROC</th>\n",
       "    </tr>\n",
       "  </thead>\n",
       "  <tbody>\n",
       "    <tr>\n",
       "      <th>LogisticRegression</th>\n",
       "      <td>0.691834</td>\n",
       "      <td>0.720666</td>\n",
       "      <td>0.965778</td>\n",
       "    </tr>\n",
       "    <tr>\n",
       "      <th>LogisticRegression с балансировкой весов</th>\n",
       "      <td>0.740934</td>\n",
       "      <td>0.720666</td>\n",
       "      <td>0.965778</td>\n",
       "    </tr>\n",
       "  </tbody>\n",
       "</table>\n",
       "</div>"
      ],
      "text/plain": [
       "                                          F1 на CV  F1 на валидации   AUC-ROC\n",
       "LogisticRegression                        0.691834         0.720666  0.965778\n",
       "LogisticRegression с балансировкой весов  0.740934         0.720666  0.965778"
      ]
     },
     "execution_count": 20,
     "metadata": {},
     "output_type": "execute_result"
    }
   ],
   "source": [
    "index = ['LogisticRegression',\n",
    "         'LogisticRegression с балансировкой весов']\n",
    "data = {'F1 на CV':[train_f1,\n",
    "                    train_f1_balanced],\n",
    "        'F1 на валидации':[valid_f1,\n",
    "                           valid_f1_balanced],\n",
    "        'AUC-ROC':[auc_roc,\n",
    "                   auc_roc_balanced]}\n",
    "\n",
    "scores_data = pd.DataFrame(data=data, index=index)\n",
    "scores_data"
   ]
  },
  {
   "cell_type": "markdown",
   "metadata": {},
   "source": [
    "Всё-таки выберем балансировку весов для построения моделей. Результат метрики f1 выглядит более стабильным в этом случае."
   ]
  },
  {
   "cell_type": "markdown",
   "metadata": {},
   "source": [
    "## Обучение"
   ]
  },
  {
   "cell_type": "markdown",
   "metadata": {},
   "source": [
    "### Логистическая регрессия"
   ]
  },
  {
   "cell_type": "code",
   "execution_count": 21,
   "metadata": {},
   "outputs": [
    {
     "name": "stdout",
     "output_type": "stream",
     "text": [
      "CPU times: user 3 µs, sys: 1e+03 ns, total: 4 µs\n",
      "Wall time: 6.44 µs\n",
      "\n",
      "Лучшие параметры:\n",
      "\n",
      "{'C': 10, 'class_weight': 'balanced', 'solver': 'lbfgs'}\n",
      "\n",
      "0.700849 for {'C': 0.1, 'class_weight': 'balanced', 'solver': 'newton-cg'}\n",
      "0.700819 for {'C': 0.1, 'class_weight': 'balanced', 'solver': 'lbfgs'}\n",
      "0.700693 for {'C': 0.1, 'class_weight': 'balanced', 'solver': 'liblinear'}\n",
      "0.740899 for {'C': 1, 'class_weight': 'balanced', 'solver': 'newton-cg'}\n",
      "0.740934 for {'C': 1, 'class_weight': 'balanced', 'solver': 'lbfgs'}\n",
      "0.740934 for {'C': 1, 'class_weight': 'balanced', 'solver': 'liblinear'}\n",
      "0.753904 for {'C': 10, 'class_weight': 'balanced', 'solver': 'newton-cg'}\n",
      "0.754285 for {'C': 10, 'class_weight': 'balanced', 'solver': 'lbfgs'}\n",
      "0.753904 for {'C': 10, 'class_weight': 'balanced', 'solver': 'liblinear'}\n",
      "\n"
     ]
    }
   ],
   "source": [
    "%time\n",
    "classificator = LogisticRegression()\n",
    "hyperparams = [{'solver':['newton-cg', 'lbfgs', 'liblinear'],\n",
    "                'C':[0.1, 1, 10],\n",
    "                'class_weight':['balanced']}]\n",
    "\n",
    "\n",
    "print()\n",
    "clf = GridSearchCV(classificator, hyperparams, scoring='f1',cv=cv_counts)\n",
    "clf.fit(features_train, target_train)\n",
    "print(\"Лучшие параметры:\")\n",
    "print()\n",
    "LR_best_params = clf.best_params_\n",
    "print(LR_best_params)\n",
    "print()\n",
    "means = clf.cv_results_['mean_test_score']\n",
    "stds = clf.cv_results_['std_test_score']\n",
    "for mean, std, params in zip(means, stds, clf.cv_results_['params']):\n",
    "    print(\"%0.6f for %r\"% (mean, params))\n",
    "print()"
   ]
  },
  {
   "cell_type": "code",
   "execution_count": null,
   "metadata": {},
   "outputs": [],
   "source": [
    "%%time\n",
    "cv_f1_LR = max(means)\n",
    "classificator = LogisticRegression()\n",
    "classificator.set_params(**LR_best_params)\n",
    "classificator.fit(features_train, target_train)\n",
    "target_predict = classificator.predict(features_valid)\n",
    "valid_f1_LR = f1_score(target_valid, target_predict)\n",
    "print('F1 на cv', cv_f1_LR)\n",
    "print('F1 на валидации', valid_f1_LR)"
   ]
  },
  {
   "cell_type": "markdown",
   "metadata": {},
   "source": [
    "### Дерево решений"
   ]
  },
  {
   "cell_type": "code",
   "execution_count": 23,
   "metadata": {},
   "outputs": [
    {
     "name": "stdout",
     "output_type": "stream",
     "text": [
      "\n",
      "Лучшие параметры:\n",
      "\n",
      "{'class_weight': None, 'max_depth': 46, 'random_state': 42}\n",
      "\n",
      "0.611386 for {'class_weight': 'balanced', 'max_depth': 30, 'random_state': 42}\n",
      "0.610284 for {'class_weight': 'balanced', 'max_depth': 32, 'random_state': 42}\n",
      "0.610790 for {'class_weight': 'balanced', 'max_depth': 34, 'random_state': 42}\n",
      "0.614629 for {'class_weight': 'balanced', 'max_depth': 36, 'random_state': 42}\n",
      "0.618880 for {'class_weight': 'balanced', 'max_depth': 38, 'random_state': 42}\n",
      "0.621232 for {'class_weight': 'balanced', 'max_depth': 40, 'random_state': 42}\n",
      "0.622397 for {'class_weight': 'balanced', 'max_depth': 42, 'random_state': 42}\n",
      "0.627259 for {'class_weight': 'balanced', 'max_depth': 44, 'random_state': 42}\n",
      "0.628308 for {'class_weight': 'balanced', 'max_depth': 46, 'random_state': 42}\n",
      "0.618911 for {'class_weight': 'balanced', 'max_depth': 48, 'random_state': 42}\n",
      "0.611035 for {'class_weight': 'balanced', 'max_depth': 50, 'random_state': 42}\n",
      "0.680803 for {'class_weight': None, 'max_depth': 30, 'random_state': 42}\n",
      "0.683933 for {'class_weight': None, 'max_depth': 32, 'random_state': 42}\n",
      "0.687875 for {'class_weight': None, 'max_depth': 34, 'random_state': 42}\n",
      "0.687594 for {'class_weight': None, 'max_depth': 36, 'random_state': 42}\n",
      "0.691226 for {'class_weight': None, 'max_depth': 38, 'random_state': 42}\n",
      "0.696329 for {'class_weight': None, 'max_depth': 40, 'random_state': 42}\n",
      "0.697573 for {'class_weight': None, 'max_depth': 42, 'random_state': 42}\n",
      "0.697326 for {'class_weight': None, 'max_depth': 44, 'random_state': 42}\n",
      "0.698689 for {'class_weight': None, 'max_depth': 46, 'random_state': 42}\n",
      "0.698152 for {'class_weight': None, 'max_depth': 48, 'random_state': 42}\n",
      "0.696859 for {'class_weight': None, 'max_depth': 50, 'random_state': 42}\n",
      "\n",
      "CPU times: user 21min 6s, sys: 2.57 s, total: 21min 9s\n",
      "Wall time: 21min 9s\n"
     ]
    }
   ],
   "source": [
    "%%time\n",
    "\n",
    "classificator = DecisionTreeClassifier()\n",
    "hyperparams = [{'max_depth':[x for x in range(30,51,2)],\n",
    "                'random_state':[42],\n",
    "                'class_weight':['balanced', None]}]\n",
    "\n",
    "\n",
    "print()\n",
    "clf = GridSearchCV(classificator, hyperparams, scoring='f1',cv=cv_counts)\n",
    "clf.fit(features_train, target_train)\n",
    "print(\"Лучшие параметры:\")\n",
    "print()\n",
    "DTC_best_params = clf.best_params_\n",
    "print(DTC_best_params)\n",
    "print()\n",
    "means = clf.cv_results_['mean_test_score']\n",
    "stds = clf.cv_results_['std_test_score']\n",
    "for mean, std, params in zip(means, stds, clf.cv_results_['params']):\n",
    "    print(\"%0.6f for %r\"% (mean, params))\n",
    "print()\n",
    "\n",
    "cv_f1_DTC = max(means)"
   ]
  },
  {
   "cell_type": "code",
   "execution_count": 24,
   "metadata": {},
   "outputs": [
    {
     "name": "stdout",
     "output_type": "stream",
     "text": [
      "F1 на cv 0.6986886326538917\n",
      "F1 на валидации 0.6934599926927293\n",
      "CPU times: user 20.5 s, sys: 70.9 ms, total: 20.6 s\n",
      "Wall time: 20.6 s\n"
     ]
    }
   ],
   "source": [
    "%%time\n",
    "\n",
    "classificator = DecisionTreeClassifier()\n",
    "classificator.set_params(**DTC_best_params)\n",
    "classificator.fit(features_train, target_train)\n",
    "target_predict = classificator.predict(features_valid)\n",
    "valid_f1_DTC = f1_score(target_valid, target_predict)\n",
    "print('F1 на cv', cv_f1_DTC)\n",
    "print('F1 на валидации', valid_f1_DTC)"
   ]
  },
  {
   "cell_type": "markdown",
   "metadata": {},
   "source": [
    "### SGDC"
   ]
  },
  {
   "cell_type": "code",
   "execution_count": 28,
   "metadata": {},
   "outputs": [
    {
     "name": "stdout",
     "output_type": "stream",
     "text": [
      "\n",
      "Лучшие параметры:\n",
      "\n",
      "{'class_weight': 'balanced', 'eta0': 0.2, 'learning_rate': 'adaptive', 'loss': 'modified_huber', 'random_state': 42}\n",
      "\n",
      "0.730136 for {'class_weight': 'balanced', 'eta0': 0.01, 'learning_rate': 'constant', 'loss': 'hinge', 'random_state': 42}\n",
      "0.707067 for {'class_weight': 'balanced', 'eta0': 0.01, 'learning_rate': 'constant', 'loss': 'log', 'random_state': 42}\n",
      "0.746743 for {'class_weight': 'balanced', 'eta0': 0.01, 'learning_rate': 'constant', 'loss': 'modified_huber', 'random_state': 42}\n",
      "0.732069 for {'class_weight': 'balanced', 'eta0': 0.01, 'learning_rate': 'optimal', 'loss': 'hinge', 'random_state': 42}\n",
      "0.709333 for {'class_weight': 'balanced', 'eta0': 0.01, 'learning_rate': 'optimal', 'loss': 'log', 'random_state': 42}\n",
      "0.744850 for {'class_weight': 'balanced', 'eta0': 0.01, 'learning_rate': 'optimal', 'loss': 'modified_huber', 'random_state': 42}\n",
      "0.645947 for {'class_weight': 'balanced', 'eta0': 0.01, 'learning_rate': 'invscaling', 'loss': 'hinge', 'random_state': 42}\n",
      "0.646835 for {'class_weight': 'balanced', 'eta0': 0.01, 'learning_rate': 'invscaling', 'loss': 'log', 'random_state': 42}\n",
      "0.673639 for {'class_weight': 'balanced', 'eta0': 0.01, 'learning_rate': 'invscaling', 'loss': 'modified_huber', 'random_state': 42}\n",
      "0.731982 for {'class_weight': 'balanced', 'eta0': 0.01, 'learning_rate': 'adaptive', 'loss': 'hinge', 'random_state': 42}\n",
      "0.707363 for {'class_weight': 'balanced', 'eta0': 0.01, 'learning_rate': 'adaptive', 'loss': 'log', 'random_state': 42}\n",
      "0.747943 for {'class_weight': 'balanced', 'eta0': 0.01, 'learning_rate': 'adaptive', 'loss': 'modified_huber', 'random_state': 42}\n",
      "0.725454 for {'class_weight': 'balanced', 'eta0': 0.05, 'learning_rate': 'constant', 'loss': 'hinge', 'random_state': 42}\n",
      "0.708548 for {'class_weight': 'balanced', 'eta0': 0.05, 'learning_rate': 'constant', 'loss': 'log', 'random_state': 42}\n",
      "0.730037 for {'class_weight': 'balanced', 'eta0': 0.05, 'learning_rate': 'constant', 'loss': 'modified_huber', 'random_state': 42}\n",
      "0.732069 for {'class_weight': 'balanced', 'eta0': 0.05, 'learning_rate': 'optimal', 'loss': 'hinge', 'random_state': 42}\n",
      "0.709333 for {'class_weight': 'balanced', 'eta0': 0.05, 'learning_rate': 'optimal', 'loss': 'log', 'random_state': 42}\n",
      "0.744850 for {'class_weight': 'balanced', 'eta0': 0.05, 'learning_rate': 'optimal', 'loss': 'modified_huber', 'random_state': 42}\n",
      "0.690776 for {'class_weight': 'balanced', 'eta0': 0.05, 'learning_rate': 'invscaling', 'loss': 'hinge', 'random_state': 42}\n",
      "0.665019 for {'class_weight': 'balanced', 'eta0': 0.05, 'learning_rate': 'invscaling', 'loss': 'log', 'random_state': 42}\n",
      "0.667521 for {'class_weight': 'balanced', 'eta0': 0.05, 'learning_rate': 'invscaling', 'loss': 'modified_huber', 'random_state': 42}\n",
      "0.733294 for {'class_weight': 'balanced', 'eta0': 0.05, 'learning_rate': 'adaptive', 'loss': 'hinge', 'random_state': 42}\n",
      "0.709485 for {'class_weight': 'balanced', 'eta0': 0.05, 'learning_rate': 'adaptive', 'loss': 'log', 'random_state': 42}\n",
      "0.748857 for {'class_weight': 'balanced', 'eta0': 0.05, 'learning_rate': 'adaptive', 'loss': 'modified_huber', 'random_state': 42}\n",
      "0.726403 for {'class_weight': 'balanced', 'eta0': 0.1, 'learning_rate': 'constant', 'loss': 'hinge', 'random_state': 42}\n",
      "0.706224 for {'class_weight': 'balanced', 'eta0': 0.1, 'learning_rate': 'constant', 'loss': 'log', 'random_state': 42}\n",
      "0.715130 for {'class_weight': 'balanced', 'eta0': 0.1, 'learning_rate': 'constant', 'loss': 'modified_huber', 'random_state': 42}\n",
      "0.732069 for {'class_weight': 'balanced', 'eta0': 0.1, 'learning_rate': 'optimal', 'loss': 'hinge', 'random_state': 42}\n",
      "0.709333 for {'class_weight': 'balanced', 'eta0': 0.1, 'learning_rate': 'optimal', 'loss': 'log', 'random_state': 42}\n",
      "0.744850 for {'class_weight': 'balanced', 'eta0': 0.1, 'learning_rate': 'optimal', 'loss': 'modified_huber', 'random_state': 42}\n",
      "0.691347 for {'class_weight': 'balanced', 'eta0': 0.1, 'learning_rate': 'invscaling', 'loss': 'hinge', 'random_state': 42}\n",
      "0.669828 for {'class_weight': 'balanced', 'eta0': 0.1, 'learning_rate': 'invscaling', 'loss': 'log', 'random_state': 42}\n",
      "0.675007 for {'class_weight': 'balanced', 'eta0': 0.1, 'learning_rate': 'invscaling', 'loss': 'modified_huber', 'random_state': 42}\n",
      "0.733027 for {'class_weight': 'balanced', 'eta0': 0.1, 'learning_rate': 'adaptive', 'loss': 'hinge', 'random_state': 42}\n",
      "0.708993 for {'class_weight': 'balanced', 'eta0': 0.1, 'learning_rate': 'adaptive', 'loss': 'log', 'random_state': 42}\n",
      "0.748603 for {'class_weight': 'balanced', 'eta0': 0.1, 'learning_rate': 'adaptive', 'loss': 'modified_huber', 'random_state': 42}\n",
      "0.700863 for {'class_weight': 'balanced', 'eta0': 0.2, 'learning_rate': 'constant', 'loss': 'hinge', 'random_state': 42}\n",
      "0.704986 for {'class_weight': 'balanced', 'eta0': 0.2, 'learning_rate': 'constant', 'loss': 'log', 'random_state': 42}\n",
      "0.639167 for {'class_weight': 'balanced', 'eta0': 0.2, 'learning_rate': 'constant', 'loss': 'modified_huber', 'random_state': 42}\n",
      "0.732069 for {'class_weight': 'balanced', 'eta0': 0.2, 'learning_rate': 'optimal', 'loss': 'hinge', 'random_state': 42}\n",
      "0.709333 for {'class_weight': 'balanced', 'eta0': 0.2, 'learning_rate': 'optimal', 'loss': 'log', 'random_state': 42}\n",
      "0.744850 for {'class_weight': 'balanced', 'eta0': 0.2, 'learning_rate': 'optimal', 'loss': 'modified_huber', 'random_state': 42}\n",
      "0.682993 for {'class_weight': 'balanced', 'eta0': 0.2, 'learning_rate': 'invscaling', 'loss': 'hinge', 'random_state': 42}\n",
      "0.667189 for {'class_weight': 'balanced', 'eta0': 0.2, 'learning_rate': 'invscaling', 'loss': 'log', 'random_state': 42}\n",
      "0.692292 for {'class_weight': 'balanced', 'eta0': 0.2, 'learning_rate': 'invscaling', 'loss': 'modified_huber', 'random_state': 42}\n",
      "0.733748 for {'class_weight': 'balanced', 'eta0': 0.2, 'learning_rate': 'adaptive', 'loss': 'hinge', 'random_state': 42}\n",
      "0.708937 for {'class_weight': 'balanced', 'eta0': 0.2, 'learning_rate': 'adaptive', 'loss': 'log', 'random_state': 42}\n",
      "0.749500 for {'class_weight': 'balanced', 'eta0': 0.2, 'learning_rate': 'adaptive', 'loss': 'modified_huber', 'random_state': 42}\n",
      "0.688094 for {'class_weight': 'balanced', 'eta0': 0.3, 'learning_rate': 'constant', 'loss': 'hinge', 'random_state': 42}\n",
      "0.685244 for {'class_weight': 'balanced', 'eta0': 0.3, 'learning_rate': 'constant', 'loss': 'log', 'random_state': 42}\n",
      "0.586308 for {'class_weight': 'balanced', 'eta0': 0.3, 'learning_rate': 'constant', 'loss': 'modified_huber', 'random_state': 42}\n",
      "0.732069 for {'class_weight': 'balanced', 'eta0': 0.3, 'learning_rate': 'optimal', 'loss': 'hinge', 'random_state': 42}\n",
      "0.709333 for {'class_weight': 'balanced', 'eta0': 0.3, 'learning_rate': 'optimal', 'loss': 'log', 'random_state': 42}\n",
      "0.744850 for {'class_weight': 'balanced', 'eta0': 0.3, 'learning_rate': 'optimal', 'loss': 'modified_huber', 'random_state': 42}\n",
      "0.683338 for {'class_weight': 'balanced', 'eta0': 0.3, 'learning_rate': 'invscaling', 'loss': 'hinge', 'random_state': 42}\n",
      "0.665693 for {'class_weight': 'balanced', 'eta0': 0.3, 'learning_rate': 'invscaling', 'loss': 'log', 'random_state': 42}\n",
      "0.704226 for {'class_weight': 'balanced', 'eta0': 0.3, 'learning_rate': 'invscaling', 'loss': 'modified_huber', 'random_state': 42}\n",
      "0.733626 for {'class_weight': 'balanced', 'eta0': 0.3, 'learning_rate': 'adaptive', 'loss': 'hinge', 'random_state': 42}\n",
      "0.709352 for {'class_weight': 'balanced', 'eta0': 0.3, 'learning_rate': 'adaptive', 'loss': 'log', 'random_state': 42}\n",
      "0.749499 for {'class_weight': 'balanced', 'eta0': 0.3, 'learning_rate': 'adaptive', 'loss': 'modified_huber', 'random_state': 42}\n",
      "0.673689 for {'class_weight': 'balanced', 'eta0': 0.5, 'learning_rate': 'constant', 'loss': 'hinge', 'random_state': 42}\n",
      "0.686853 for {'class_weight': 'balanced', 'eta0': 0.5, 'learning_rate': 'constant', 'loss': 'log', 'random_state': 42}\n",
      "0.558922 for {'class_weight': 'balanced', 'eta0': 0.5, 'learning_rate': 'constant', 'loss': 'modified_huber', 'random_state': 42}\n",
      "0.732069 for {'class_weight': 'balanced', 'eta0': 0.5, 'learning_rate': 'optimal', 'loss': 'hinge', 'random_state': 42}\n",
      "0.709333 for {'class_weight': 'balanced', 'eta0': 0.5, 'learning_rate': 'optimal', 'loss': 'log', 'random_state': 42}\n",
      "0.744850 for {'class_weight': 'balanced', 'eta0': 0.5, 'learning_rate': 'optimal', 'loss': 'modified_huber', 'random_state': 42}\n",
      "0.690074 for {'class_weight': 'balanced', 'eta0': 0.5, 'learning_rate': 'invscaling', 'loss': 'hinge', 'random_state': 42}\n",
      "0.665829 for {'class_weight': 'balanced', 'eta0': 0.5, 'learning_rate': 'invscaling', 'loss': 'log', 'random_state': 42}\n",
      "0.719948 for {'class_weight': 'balanced', 'eta0': 0.5, 'learning_rate': 'invscaling', 'loss': 'modified_huber', 'random_state': 42}\n",
      "0.733371 for {'class_weight': 'balanced', 'eta0': 0.5, 'learning_rate': 'adaptive', 'loss': 'hinge', 'random_state': 42}\n",
      "0.709327 for {'class_weight': 'balanced', 'eta0': 0.5, 'learning_rate': 'adaptive', 'loss': 'log', 'random_state': 42}\n",
      "0.749057 for {'class_weight': 'balanced', 'eta0': 0.5, 'learning_rate': 'adaptive', 'loss': 'modified_huber', 'random_state': 42}\n",
      "\n",
      "CPU times: user 2min 42s, sys: 17.3 s, total: 2min 59s\n",
      "Wall time: 2min 59s\n"
     ]
    }
   ],
   "source": [
    "%%time\n",
    "\n",
    "classificator = SGDClassifier()\n",
    "hyperparams = [{'loss':['hinge', 'log', 'modified_huber'],\n",
    "                'learning_rate':['constant', 'optimal', 'invscaling', 'adaptive'],\n",
    "                'eta0':[0.01, 0.05, 0.1, 0.2, 0.3, 0.5],\n",
    "                'random_state':[42],\n",
    "                'class_weight':['balanced']}]\n",
    "\n",
    "\n",
    "print()\n",
    "clf = GridSearchCV(classificator, hyperparams, scoring='f1',cv=cv_counts)\n",
    "clf.fit(features_train, target_train)\n",
    "print(\"Лучшие параметры:\")\n",
    "print()\n",
    "SGDC_best_params = clf.best_params_\n",
    "print(SGDC_best_params)\n",
    "print()\n",
    "means = clf.cv_results_['mean_test_score']\n",
    "stds = clf.cv_results_['std_test_score']\n",
    "for mean, std, params in zip(means, stds, clf.cv_results_['params']):\n",
    "    print(\"%0.6f for %r\"% (mean, params))\n",
    "print()\n",
    "\n",
    "cv_f1_SGDC = max(means)"
   ]
  },
  {
   "cell_type": "code",
   "execution_count": 29,
   "metadata": {},
   "outputs": [
    {
     "name": "stdout",
     "output_type": "stream",
     "text": [
      "F1 на cv 0.7495001339451098\n",
      "F1 на валидации 0.7404985696771558\n",
      "CPU times: user 1.72 s, sys: 113 ms, total: 1.83 s\n",
      "Wall time: 1.84 s\n"
     ]
    }
   ],
   "source": [
    "%%time\n",
    "\n",
    "classificator = SGDClassifier()\n",
    "classificator.set_params(**SGDC_best_params)\n",
    "classificator.fit(features_train, target_train)\n",
    "target_predict = classificator.predict(features_valid)\n",
    "valid_f1_SGDC = f1_score(target_valid, target_predict)\n",
    "print('F1 на cv', cv_f1_SGDC)\n",
    "print('F1 на валидации', valid_f1_SGDC)"
   ]
  },
  {
   "cell_type": "markdown",
   "metadata": {},
   "source": [
    "### Вывод по обучению"
   ]
  },
  {
   "cell_type": "markdown",
   "metadata": {},
   "source": [
    "Исходя из возможностей которые на данный момент обладает исполнитель (то есть я), установлено, что лучшая модель из трех рассмотренных это логистическая регрессия. Проведем исследования на тестовых данных, чтобы убедиться, что она отвечает запросам заказчика."
   ]
  },
  {
   "cell_type": "code",
   "execution_count": 27,
   "metadata": {},
   "outputs": [
    {
     "name": "stdout",
     "output_type": "stream",
     "text": [
      "Метрики LogisticRegression\n",
      "ROC AUC: 0.9654428765218748\n",
      "F1: 0.7554061952074811\n",
      "Precision: 0.7053206002728513\n",
      "Recall: 0.8131487889273357\n",
      "Accuracy: 0.9474559779026335\n",
      "\n"
     ]
    },
    {
     "data": {
      "image/png": "[encoded data removed]",
      "text/plain": [
       "<Figure size 432x288 with 1 Axes>"
      ]
     },
     "metadata": {
      "needs_background": "light"
     },
     "output_type": "display_data"
    }
   ],
   "source": [
    "classificator = LogisticRegression()\n",
    "classificator.set_params(**LR_best_params)\n",
    "classificator.fit(features_train, target_train)\n",
    "probabilities_test = classificator.predict_proba(features_test)\n",
    "probabilities_one_test = probabilities_test[:, 1]\n",
    "fpr, tpr, thresholds = roc_curve(target_test, probabilities_one_test)\n",
    "predict_test = classificator.predict(features_test)\n",
    "plt.plot(fpr, tpr, label='LogisticRegression')\n",
    "print('Метрики LogisticRegression')\n",
    "print('ROC AUC:', roc_auc_score(target_test, probabilities_one_test))\n",
    "print('F1:', f1_score(target_test, predict_test))\n",
    "print('Precision:', precision_score(target_test, predict_test))\n",
    "print('Recall:', recall_score(target_test, predict_test))\n",
    "print('Accuracy:', accuracy_score(target_test, predict_test))\n",
    "print()"
   ]
  },
  {
   "cell_type": "markdown",
   "metadata": {},
   "source": [
    "## Вывод"
   ]
  },
  {
   "cell_type": "markdown",
   "metadata": {},
   "source": [
    "В процессе работы над проектом были импортированы необходимые библиотеки и загружены данные. В процессе осмотра критических проблем с данными обнаружено не было (не было ни пропусков, ни дубликатов, формат определен верно). Основная проблема была с дисбалансов целевого признака - токсичных комментариев было намного меньше (почти в 10 раз), чем обычных. После сравнительного анализа двух методик компенсации этой проблемы, было принято решение проводить балансировку весов при построении моделей. Ввиду ограничений времени и невозможности выполнить проект локально, было обучены 3 простейших модели, тем не менее 1 из них показала результаты, которые соответствовали требованиям заказчика ( метрика F1 выше 0.75), а другая совсем немного не дотянула до необходимого показателя (F1 =0,749), что тоже не плохой вариант для рассмотрения, тем более что обучение и выдача предсказаний у модели SGDC проходило немного быстрее, чем у логистической регрессии. По итогу всей работы, из представленных моделей заказчику стоит порекомендовать логистическую регрессию, её метрика оказалась наивысшей.\n",
    "Тем не менее, данное решение, можно назвать в каком-то смысле временным, на данный момент существуют текстовые трансформеры (BERT например), которые при наличии достаточного аппаратного обеспечения могут показать значительно лучшие результаты, но в данном исследовании рассмотреть их не представилось возможным."
   ]
  }
 ],
 "metadata": {
  "ExecuteTimeLog": [
   {
    "duration": 3,
    "start_time": "2024-07-02T06:49:12.540Z"
   },
   {
    "duration": 65,
    "start_time": "2024-07-02T06:57:59.650Z"
   },
   {
    "duration": 136622,
    "start_time": "2024-07-02T06:58:09.294Z"
   },
   {
    "duration": 2689,
    "start_time": "2024-07-02T07:00:31.646Z"
   },
   {
    "duration": 2513,
    "start_time": "2024-07-02T07:00:36.535Z"
   },
   {
    "duration": 231500,
    "start_time": "2024-07-02T07:00:41.413Z"
   },
   {
    "duration": 53,
    "start_time": "2024-07-02T07:05:27.822Z"
   },
   {
    "duration": 56,
    "start_time": "2024-07-02T07:05:53.894Z"
   },
   {
    "duration": 3,
    "start_time": "2024-07-02T07:07:00.574Z"
   },
   {
    "duration": 4,
    "start_time": "2024-07-02T07:07:16.670Z"
   },
   {
    "duration": 4,
    "start_time": "2024-07-02T07:07:35.590Z"
   },
   {
    "duration": 3,
    "start_time": "2024-07-02T07:11:55.575Z"
   },
   {
    "duration": 40,
    "start_time": "2024-07-02T07:13:00.109Z"
   },
   {
    "duration": 10191,
    "start_time": "2024-07-02T07:13:06.021Z"
   },
   {
    "duration": 3180,
    "start_time": "2024-07-02T07:13:19.125Z"
   },
   {
    "duration": 10,
    "start_time": "2024-07-02T07:14:02.357Z"
   },
   {
    "duration": 23,
    "start_time": "2024-07-02T07:14:05.221Z"
   },
   {
    "duration": 18,
    "start_time": "2024-07-02T07:14:08.309Z"
   },
   {
    "duration": 20,
    "start_time": "2024-07-02T07:15:16.709Z"
   },
   {
    "duration": 220,
    "start_time": "2024-07-02T07:15:17.893Z"
   },
   {
    "duration": 209,
    "start_time": "2024-07-02T07:16:21.093Z"
   },
   {
    "duration": 97,
    "start_time": "2024-07-02T07:17:52.863Z"
   },
   {
    "duration": 141,
    "start_time": "2024-07-02T07:22:48.150Z"
   },
   {
    "duration": 2,
    "start_time": "2024-07-02T07:22:52.549Z"
   },
   {
    "duration": 1191,
    "start_time": "2024-07-02T07:22:53.821Z"
   },
   {
    "duration": 3,
    "start_time": "2024-07-02T07:23:11.717Z"
   },
   {
    "duration": 214,
    "start_time": "2024-07-02T07:23:12.733Z"
   },
   {
    "duration": 4,
    "start_time": "2024-07-02T07:23:47.798Z"
   },
   {
    "duration": 816,
    "start_time": "2024-07-02T07:23:53.127Z"
   },
   {
    "duration": 2,
    "start_time": "2024-07-02T07:24:00.750Z"
   },
   {
    "duration": 2614,
    "start_time": "2024-07-02T07:24:09.351Z"
   },
   {
    "duration": 2693,
    "start_time": "2024-07-02T07:24:11.966Z"
   },
   {
    "duration": 2449,
    "start_time": "2024-07-02T07:24:14.660Z"
   },
   {
    "duration": 4697,
    "start_time": "2024-07-02T07:24:17.111Z"
   },
   {
    "duration": 705,
    "start_time": "2024-07-02T07:24:21.809Z"
   },
   {
    "duration": 9,
    "start_time": "2024-07-02T07:24:22.516Z"
   },
   {
    "duration": 30,
    "start_time": "2024-07-02T07:24:22.526Z"
   },
   {
    "duration": 31,
    "start_time": "2024-07-02T07:24:22.557Z"
   },
   {
    "duration": 28,
    "start_time": "2024-07-02T07:24:22.589Z"
   },
   {
    "duration": 213,
    "start_time": "2024-07-02T07:24:22.619Z"
   },
   {
    "duration": 93,
    "start_time": "2024-07-02T07:24:22.833Z"
   },
   {
    "duration": 219,
    "start_time": "2024-07-02T07:24:22.927Z"
   },
   {
    "duration": 2,
    "start_time": "2024-07-02T07:24:23.147Z"
   },
   {
    "duration": 1104,
    "start_time": "2024-07-02T07:24:23.150Z"
   },
   {
    "duration": 0,
    "start_time": "2024-07-02T07:24:24.256Z"
   },
   {
    "duration": 0,
    "start_time": "2024-07-02T07:24:24.257Z"
   },
   {
    "duration": 0,
    "start_time": "2024-07-02T07:24:24.258Z"
   },
   {
    "duration": 4,
    "start_time": "2024-07-02T07:26:29.030Z"
   },
   {
    "duration": 2,
    "start_time": "2024-07-02T07:27:04.975Z"
   },
   {
    "duration": 2,
    "start_time": "2024-07-02T07:27:06.630Z"
   },
   {
    "duration": 3,
    "start_time": "2024-07-02T07:27:07.285Z"
   },
   {
    "duration": 6,
    "start_time": "2024-07-02T07:27:22.814Z"
   },
   {
    "duration": 19,
    "start_time": "2024-07-02T07:27:32.630Z"
   },
   {
    "duration": 19,
    "start_time": "2024-07-02T07:27:41.133Z"
   },
   {
    "duration": 3,
    "start_time": "2024-07-02T07:28:18.774Z"
   },
   {
    "duration": 48,
    "start_time": "2024-07-02T07:28:25.423Z"
   },
   {
    "duration": 2481,
    "start_time": "2024-07-02T07:28:43.487Z"
   },
   {
    "duration": 2678,
    "start_time": "2024-07-02T07:28:45.971Z"
   },
   {
    "duration": 2468,
    "start_time": "2024-07-02T07:28:48.650Z"
   },
   {
    "duration": 4832,
    "start_time": "2024-07-02T07:28:51.120Z"
   },
   {
    "duration": 689,
    "start_time": "2024-07-02T07:28:55.954Z"
   },
   {
    "duration": 10,
    "start_time": "2024-07-02T07:28:56.645Z"
   },
   {
    "duration": 23,
    "start_time": "2024-07-02T07:28:56.657Z"
   },
   {
    "duration": 23,
    "start_time": "2024-07-02T07:28:56.682Z"
   },
   {
    "duration": 14,
    "start_time": "2024-07-02T07:28:56.706Z"
   },
   {
    "duration": 213,
    "start_time": "2024-07-02T07:28:56.722Z"
   },
   {
    "duration": 103,
    "start_time": "2024-07-02T07:28:56.937Z"
   },
   {
    "duration": 92,
    "start_time": "2024-07-02T07:28:57.041Z"
   },
   {
    "duration": 0,
    "start_time": "2024-07-02T07:28:57.134Z"
   },
   {
    "duration": 0,
    "start_time": "2024-07-02T07:28:57.135Z"
   },
   {
    "duration": 0,
    "start_time": "2024-07-02T07:28:57.136Z"
   },
   {
    "duration": 0,
    "start_time": "2024-07-02T07:28:57.137Z"
   },
   {
    "duration": 0,
    "start_time": "2024-07-02T07:28:57.138Z"
   },
   {
    "duration": 2459,
    "start_time": "2024-07-02T07:29:17.198Z"
   },
   {
    "duration": 2638,
    "start_time": "2024-07-02T07:29:19.659Z"
   },
   {
    "duration": 2473,
    "start_time": "2024-07-02T07:29:22.298Z"
   },
   {
    "duration": 4683,
    "start_time": "2024-07-02T07:29:24.773Z"
   },
   {
    "duration": 679,
    "start_time": "2024-07-02T07:29:29.458Z"
   },
   {
    "duration": 9,
    "start_time": "2024-07-02T07:29:30.139Z"
   },
   {
    "duration": 48,
    "start_time": "2024-07-02T07:29:30.149Z"
   },
   {
    "duration": 35,
    "start_time": "2024-07-02T07:29:30.199Z"
   },
   {
    "duration": 66,
    "start_time": "2024-07-02T07:29:30.236Z"
   },
   {
    "duration": 361,
    "start_time": "2024-07-02T07:29:30.305Z"
   },
   {
    "duration": 181,
    "start_time": "2024-07-02T07:29:30.667Z"
   },
   {
    "duration": 26,
    "start_time": "2024-07-02T07:29:30.849Z"
   },
   {
    "duration": 100,
    "start_time": "2024-07-02T07:29:30.876Z"
   },
   {
    "duration": 193,
    "start_time": "2024-07-02T07:29:30.977Z"
   },
   {
    "duration": 248,
    "start_time": "2024-07-02T07:29:31.171Z"
   },
   {
    "duration": 313,
    "start_time": "2024-07-02T07:29:31.420Z"
   },
   {
    "duration": 511,
    "start_time": "2024-07-02T07:30:45.398Z"
   },
   {
    "duration": 1229,
    "start_time": "2024-07-02T07:30:54.382Z"
   },
   {
    "duration": 909432,
    "start_time": "2024-07-02T07:44:00.757Z"
   },
   {
    "duration": 12,
    "start_time": "2024-07-02T07:59:10.191Z"
   },
   {
    "duration": 7,
    "start_time": "2024-07-02T08:36:51.092Z"
   },
   {
    "duration": 79,
    "start_time": "2024-07-02T08:36:52.964Z"
   },
   {
    "duration": 4817,
    "start_time": "2024-07-02T08:36:55.228Z"
   },
   {
    "duration": 2141,
    "start_time": "2024-07-02T08:37:01.820Z"
   },
   {
    "duration": 17,
    "start_time": "2024-07-02T08:37:04.316Z"
   },
   {
    "duration": 4,
    "start_time": "2024-07-02T08:37:05.196Z"
   },
   {
    "duration": 41,
    "start_time": "2024-07-02T08:37:19.149Z"
   },
   {
    "duration": 2587,
    "start_time": "2024-07-02T08:37:25.807Z"
   },
   {
    "duration": 2665,
    "start_time": "2024-07-02T08:37:28.396Z"
   },
   {
    "duration": 2522,
    "start_time": "2024-07-02T08:37:31.063Z"
   },
   {
    "duration": 9390,
    "start_time": "2024-07-02T08:37:33.588Z"
   },
   {
    "duration": 3087,
    "start_time": "2024-07-02T08:37:42.980Z"
   },
   {
    "duration": 9,
    "start_time": "2024-07-02T08:37:46.068Z"
   },
   {
    "duration": 15,
    "start_time": "2024-07-02T08:37:46.078Z"
   },
   {
    "duration": 17,
    "start_time": "2024-07-02T08:37:46.095Z"
   },
   {
    "duration": 22,
    "start_time": "2024-07-02T08:37:46.113Z"
   },
   {
    "duration": 211,
    "start_time": "2024-07-02T08:37:46.138Z"
   },
   {
    "duration": 150,
    "start_time": "2024-07-02T08:37:46.350Z"
   },
   {
    "duration": 3,
    "start_time": "2024-07-02T08:37:46.502Z"
   },
   {
    "duration": 11,
    "start_time": "2024-07-02T08:37:46.506Z"
   },
   {
    "duration": 3,
    "start_time": "2024-07-02T08:37:46.518Z"
   },
   {
    "duration": 17,
    "start_time": "2024-07-02T08:37:46.522Z"
   },
   {
    "duration": 1171,
    "start_time": "2024-07-02T08:37:46.540Z"
   },
   {
    "duration": 1084070,
    "start_time": "2024-07-02T08:37:47.712Z"
   },
   {
    "duration": 8,
    "start_time": "2024-07-02T08:55:51.783Z"
   },
   {
    "duration": 139,
    "start_time": "2024-07-02T08:55:51.792Z"
   },
   {
    "duration": 6018,
    "start_time": "2024-07-02T08:55:51.932Z"
   },
   {
    "duration": 3180,
    "start_time": "2024-07-02T08:55:57.951Z"
   },
   {
    "duration": 20,
    "start_time": "2024-07-02T08:56:01.133Z"
   },
   {
    "duration": 98,
    "start_time": "2024-07-02T08:56:01.155Z"
   },
   {
    "duration": 52,
    "start_time": "2024-07-02T08:58:33.227Z"
   },
   {
    "duration": 7,
    "start_time": "2024-07-02T08:59:21.430Z"
   },
   {
    "duration": 11371,
    "start_time": "2024-07-02T09:00:44.421Z"
   },
   {
    "duration": 231,
    "start_time": "2024-07-02T09:00:55.794Z"
   },
   {
    "duration": 2557,
    "start_time": "2024-07-02T09:01:00.332Z"
   },
   {
    "duration": 21,
    "start_time": "2024-07-02T09:01:02.964Z"
   },
   {
    "duration": 3,
    "start_time": "2024-07-02T09:01:06.132Z"
   },
   {
    "duration": 2242,
    "start_time": "2024-07-02T09:01:07.356Z"
   },
   {
    "duration": 4,
    "start_time": "2024-07-02T09:01:12.883Z"
   },
   {
    "duration": 8641,
    "start_time": "2024-07-02T09:01:14.563Z"
   },
   {
    "duration": 4,
    "start_time": "2024-07-02T09:01:36.948Z"
   },
   {
    "duration": 3,
    "start_time": "2024-07-02T09:01:49.932Z"
   },
   {
    "duration": 6,
    "start_time": "2024-07-02T09:05:13.932Z"
   },
   {
    "duration": 3,
    "start_time": "2024-07-02T09:07:38.931Z"
   },
   {
    "duration": 2,
    "start_time": "2024-07-02T09:07:41.684Z"
   },
   {
    "duration": 2,
    "start_time": "2024-07-02T09:07:42.700Z"
   },
   {
    "duration": 1749135,
    "start_time": "2024-07-02T09:07:43.564Z"
   },
   {
    "duration": 93,
    "start_time": "2024-07-02T09:36:52.700Z"
   },
   {
    "duration": 4,
    "start_time": "2024-07-02T09:37:46.451Z"
   },
   {
    "duration": 17,
    "start_time": "2024-07-02T09:37:50.643Z"
   },
   {
    "duration": 369,
    "start_time": "2024-07-02T09:39:51.506Z"
   },
   {
    "duration": 3,
    "start_time": "2024-07-02T09:40:16.922Z"
   },
   {
    "duration": 20,
    "start_time": "2024-07-02T09:45:36.058Z"
   },
   {
    "duration": 30,
    "start_time": "2024-07-02T09:45:43.322Z"
   },
   {
    "duration": 3,
    "start_time": "2024-07-02T09:45:49.929Z"
   },
   {
    "duration": 3,
    "start_time": "2024-07-02T09:45:50.977Z"
   },
   {
    "duration": 103,
    "start_time": "2024-07-02T09:47:20.170Z"
   },
   {
    "duration": 13184,
    "start_time": "2024-07-02T09:47:57.386Z"
   },
   {
    "duration": 268,
    "start_time": "2024-07-02T09:48:17.809Z"
   },
   {
    "duration": 3,
    "start_time": "2024-07-02T09:48:23.145Z"
   },
   {
    "duration": 3,
    "start_time": "2024-07-02T09:48:24.201Z"
   },
   {
    "duration": 64,
    "start_time": "2024-07-02T09:48:24.962Z"
   },
   {
    "duration": 16,
    "start_time": "2024-07-02T09:48:50.905Z"
   },
   {
    "duration": 2986,
    "start_time": "2024-07-02T09:49:08.273Z"
   },
   {
    "duration": 3265,
    "start_time": "2024-07-02T09:49:11.261Z"
   },
   {
    "duration": 2959,
    "start_time": "2024-07-02T09:49:14.527Z"
   },
   {
    "duration": 5903,
    "start_time": "2024-07-02T09:49:17.488Z"
   },
   {
    "duration": 3263,
    "start_time": "2024-07-02T09:49:23.393Z"
   },
   {
    "duration": 13,
    "start_time": "2024-07-02T09:49:26.657Z"
   },
   {
    "duration": 108,
    "start_time": "2024-07-02T09:49:26.671Z"
   },
   {
    "duration": 46,
    "start_time": "2024-07-02T09:49:26.781Z"
   },
   {
    "duration": 151,
    "start_time": "2024-07-02T09:49:26.829Z"
   },
   {
    "duration": 260,
    "start_time": "2024-07-02T09:49:26.982Z"
   },
   {
    "duration": 121,
    "start_time": "2024-07-02T09:49:27.243Z"
   },
   {
    "duration": 3,
    "start_time": "2024-07-02T09:49:27.365Z"
   },
   {
    "duration": 12,
    "start_time": "2024-07-02T09:49:27.370Z"
   },
   {
    "duration": 7,
    "start_time": "2024-07-02T09:49:27.383Z"
   },
   {
    "duration": 49,
    "start_time": "2024-07-02T09:49:27.391Z"
   },
   {
    "duration": 1479,
    "start_time": "2024-07-02T09:49:27.442Z"
   },
   {
    "duration": 1162418,
    "start_time": "2024-07-02T09:49:28.922Z"
   },
   {
    "duration": 8,
    "start_time": "2024-07-02T10:08:51.341Z"
   },
   {
    "duration": 111,
    "start_time": "2024-07-02T10:08:51.350Z"
   },
   {
    "duration": 5779,
    "start_time": "2024-07-02T10:08:51.462Z"
   },
   {
    "duration": 3138,
    "start_time": "2024-07-02T10:08:57.242Z"
   },
   {
    "duration": 27,
    "start_time": "2024-07-02T10:09:00.382Z"
   },
   {
    "duration": 136,
    "start_time": "2024-07-02T10:09:00.411Z"
   },
   {
    "duration": 49,
    "start_time": "2024-07-02T10:09:57.201Z"
   },
   {
    "duration": 7,
    "start_time": "2024-07-02T10:10:02.913Z"
   },
   {
    "duration": 9701,
    "start_time": "2024-07-02T10:10:15.457Z"
   },
   {
    "duration": 217,
    "start_time": "2024-07-02T10:10:58.137Z"
   },
   {
    "duration": 2233,
    "start_time": "2024-07-02T10:11:02.217Z"
   },
   {
    "duration": 19,
    "start_time": "2024-07-02T10:11:13.458Z"
   },
   {
    "duration": 5,
    "start_time": "2024-07-02T10:11:14.594Z"
   },
   {
    "duration": 2199,
    "start_time": "2024-07-02T10:11:16.609Z"
   },
   {
    "duration": 4,
    "start_time": "2024-07-02T10:11:22.569Z"
   },
   {
    "duration": 8315,
    "start_time": "2024-07-02T10:11:23.921Z"
   },
   {
    "duration": 3,
    "start_time": "2024-07-02T10:11:38.921Z"
   },
   {
    "duration": 3,
    "start_time": "2024-07-02T10:11:40.729Z"
   },
   {
    "duration": 53,
    "start_time": "2024-07-02T10:11:42.585Z"
   },
   {
    "duration": 3,
    "start_time": "2024-07-02T10:11:59.553Z"
   },
   {
    "duration": 2,
    "start_time": "2024-07-02T10:12:11.633Z"
   },
   {
    "duration": 3,
    "start_time": "2024-07-02T10:12:12.873Z"
   },
   {
    "duration": 92,
    "start_time": "2024-07-02T10:13:06.249Z"
   },
   {
    "duration": 9667,
    "start_time": "2024-07-02T10:13:16.946Z"
   },
   {
    "duration": 267,
    "start_time": "2024-07-02T10:13:26.614Z"
   },
   {
    "duration": 3,
    "start_time": "2024-07-02T10:13:31.554Z"
   },
   {
    "duration": 2,
    "start_time": "2024-07-02T10:13:32.689Z"
   },
   {
    "duration": 54,
    "start_time": "2024-07-02T10:13:33.801Z"
   },
   {
    "duration": 17,
    "start_time": "2024-07-02T10:13:55.569Z"
   },
   {
    "duration": 5,
    "start_time": "2024-07-02T10:14:17.661Z"
   },
   {
    "duration": 16,
    "start_time": "2024-07-02T10:14:28.969Z"
   },
   {
    "duration": 19,
    "start_time": "2024-07-02T10:14:41.832Z"
   },
   {
    "duration": 16,
    "start_time": "2024-07-02T10:14:50.073Z"
   },
   {
    "duration": 3285,
    "start_time": "2024-07-02T10:15:01.369Z"
   },
   {
    "duration": 2,
    "start_time": "2024-07-02T10:15:23.817Z"
   },
   {
    "duration": 3,
    "start_time": "2024-07-02T10:15:24.480Z"
   },
   {
    "duration": 55,
    "start_time": "2024-07-02T10:15:25.017Z"
   },
   {
    "duration": 17,
    "start_time": "2024-07-02T10:15:30.305Z"
   },
   {
    "duration": 16,
    "start_time": "2024-07-02T10:15:34.194Z"
   },
   {
    "duration": 3760,
    "start_time": "2024-07-02T10:15:39.425Z"
   },
   {
    "duration": 1226,
    "start_time": "2024-07-02T10:15:44.340Z"
   },
   {
    "duration": 935,
    "start_time": "2024-07-02T10:15:49.168Z"
   },
   {
    "duration": 3043,
    "start_time": "2024-07-02T10:16:16.707Z"
   },
   {
    "duration": 3356,
    "start_time": "2024-07-02T10:16:19.752Z"
   },
   {
    "duration": 2945,
    "start_time": "2024-07-02T10:16:23.111Z"
   },
   {
    "duration": 6006,
    "start_time": "2024-07-02T10:16:26.058Z"
   },
   {
    "duration": 887,
    "start_time": "2024-07-02T10:16:32.066Z"
   },
   {
    "duration": 16,
    "start_time": "2024-07-02T10:16:32.955Z"
   },
   {
    "duration": 46,
    "start_time": "2024-07-02T10:16:32.972Z"
   },
   {
    "duration": 20,
    "start_time": "2024-07-02T10:16:33.019Z"
   },
   {
    "duration": 19,
    "start_time": "2024-07-02T10:16:33.040Z"
   },
   {
    "duration": 283,
    "start_time": "2024-07-02T10:16:33.061Z"
   },
   {
    "duration": 120,
    "start_time": "2024-07-02T10:16:33.345Z"
   },
   {
    "duration": 4,
    "start_time": "2024-07-02T10:16:33.466Z"
   },
   {
    "duration": 13,
    "start_time": "2024-07-02T10:16:33.471Z"
   },
   {
    "duration": 40,
    "start_time": "2024-07-02T10:16:33.486Z"
   },
   {
    "duration": 25,
    "start_time": "2024-07-02T10:16:33.528Z"
   },
   {
    "duration": 1480,
    "start_time": "2024-07-02T10:16:33.554Z"
   },
   {
    "duration": 1139835,
    "start_time": "2024-07-02T10:16:35.036Z"
   },
   {
    "duration": 6,
    "start_time": "2024-07-02T10:35:34.873Z"
   },
   {
    "duration": 117,
    "start_time": "2024-07-02T10:35:34.881Z"
   },
   {
    "duration": 5590,
    "start_time": "2024-07-02T10:35:35.000Z"
   },
   {
    "duration": 3205,
    "start_time": "2024-07-02T10:35:40.591Z"
   },
   {
    "duration": 20,
    "start_time": "2024-07-02T10:35:43.797Z"
   },
   {
    "duration": 35,
    "start_time": "2024-07-02T10:35:43.819Z"
   },
   {
    "duration": 49,
    "start_time": "2024-07-02T10:35:56.160Z"
   },
   {
    "duration": 6,
    "start_time": "2024-07-02T10:36:00.287Z"
   },
   {
    "duration": 5,
    "start_time": "2024-07-02T10:36:19.041Z"
   },
   {
    "duration": 5,
    "start_time": "2024-07-02T10:36:43.895Z"
   },
   {
    "duration": 11634,
    "start_time": "2024-07-02T10:36:57.376Z"
   },
   {
    "duration": 2074,
    "start_time": "2024-07-02T10:37:09.927Z"
   },
   {
    "duration": 21,
    "start_time": "2024-07-02T10:37:14.896Z"
   },
   {
    "duration": 5,
    "start_time": "2024-07-02T10:37:16.631Z"
   },
   {
    "duration": 2224,
    "start_time": "2024-07-02T10:37:18.047Z"
   },
   {
    "duration": 3,
    "start_time": "2024-07-02T10:37:21.367Z"
   },
   {
    "duration": 8281,
    "start_time": "2024-07-02T10:37:22.736Z"
   },
   {
    "duration": 3,
    "start_time": "2024-07-02T10:37:34.873Z"
   },
   {
    "duration": 4,
    "start_time": "2024-07-02T10:37:37.303Z"
   },
   {
    "duration": 2,
    "start_time": "2024-07-02T10:37:48.175Z"
   },
   {
    "duration": 3,
    "start_time": "2024-07-02T10:37:49.199Z"
   },
   {
    "duration": 89,
    "start_time": "2024-07-02T10:38:19.055Z"
   },
   {
    "duration": 11551,
    "start_time": "2024-07-02T10:38:28.800Z"
   },
   {
    "duration": 2,
    "start_time": "2024-07-02T10:38:41.487Z"
   },
   {
    "duration": 2,
    "start_time": "2024-07-02T10:38:42.495Z"
   },
   {
    "duration": 261,
    "start_time": "2024-07-02T10:38:43.391Z"
   },
   {
    "duration": 2204,
    "start_time": "2024-07-02T10:38:53.839Z"
   },
   {
    "duration": 19,
    "start_time": "2024-07-02T10:38:57.191Z"
   },
   {
    "duration": 5,
    "start_time": "2024-07-02T10:38:58.311Z"
   },
   {
    "duration": 2198,
    "start_time": "2024-07-02T10:39:00.935Z"
   },
   {
    "duration": 5,
    "start_time": "2024-07-02T10:39:03.983Z"
   },
   {
    "duration": 8206,
    "start_time": "2024-07-02T10:39:05.416Z"
   },
   {
    "duration": 3,
    "start_time": "2024-07-02T10:39:16.504Z"
   },
   {
    "duration": 3,
    "start_time": "2024-07-02T10:39:17.167Z"
   },
   {
    "duration": 2,
    "start_time": "2024-07-02T10:39:21.303Z"
   },
   {
    "duration": 2,
    "start_time": "2024-07-02T10:39:22.847Z"
   },
   {
    "duration": 91,
    "start_time": "2024-07-02T10:39:47.655Z"
   },
   {
    "duration": 11190,
    "start_time": "2024-07-02T10:39:57.055Z"
   },
   {
    "duration": 2226,
    "start_time": "2024-07-02T10:40:08.247Z"
   },
   {
    "duration": 20,
    "start_time": "2024-07-02T10:40:12.239Z"
   },
   {
    "duration": 6,
    "start_time": "2024-07-02T10:40:12.751Z"
   },
   {
    "duration": 2233,
    "start_time": "2024-07-02T10:40:13.390Z"
   },
   {
    "duration": 177,
    "start_time": "2024-07-02T10:40:15.624Z"
   },
   {
    "duration": 8232,
    "start_time": "2024-07-02T10:40:15.919Z"
   },
   {
    "duration": 4,
    "start_time": "2024-07-02T10:40:24.153Z"
   },
   {
    "duration": 17,
    "start_time": "2024-07-02T10:40:24.158Z"
   },
   {
    "duration": 9,
    "start_time": "2024-07-02T10:40:24.177Z"
   },
   {
    "duration": 4,
    "start_time": "2024-07-02T10:40:28.431Z"
   },
   {
    "duration": 2,
    "start_time": "2024-07-02T10:40:29.423Z"
   },
   {
    "duration": 132,
    "start_time": "2024-07-02T10:41:02.448Z"
   },
   {
    "duration": 9616,
    "start_time": "2024-07-02T10:41:17.119Z"
   },
   {
    "duration": 2308,
    "start_time": "2024-07-02T10:41:39.424Z"
   },
   {
    "duration": 21,
    "start_time": "2024-07-02T10:41:41.734Z"
   },
   {
    "duration": 5,
    "start_time": "2024-07-02T10:41:41.757Z"
   },
   {
    "duration": 2354,
    "start_time": "2024-07-02T10:41:42.103Z"
   },
   {
    "duration": 6,
    "start_time": "2024-07-02T10:41:45.295Z"
   },
   {
    "duration": 9245,
    "start_time": "2024-07-02T10:41:46.287Z"
   },
   {
    "duration": 3,
    "start_time": "2024-07-02T10:41:55.534Z"
   },
   {
    "duration": 10,
    "start_time": "2024-07-02T10:41:55.538Z"
   },
   {
    "duration": 4,
    "start_time": "2024-07-02T10:42:01.415Z"
   },
   {
    "duration": 3,
    "start_time": "2024-07-02T10:42:02.719Z"
   },
   {
    "duration": 47,
    "start_time": "2024-07-02T10:42:30.159Z"
   },
   {
    "duration": 82,
    "start_time": "2024-07-02T10:42:34.055Z"
   },
   {
    "duration": 6,
    "start_time": "2024-07-02T10:42:57.112Z"
   },
   {
    "duration": 9317,
    "start_time": "2024-07-02T10:43:04.623Z"
   },
   {
    "duration": 2280,
    "start_time": "2024-07-02T10:43:14.407Z"
   },
   {
    "duration": 20,
    "start_time": "2024-07-02T10:43:16.688Z"
   },
   {
    "duration": 11,
    "start_time": "2024-07-02T10:43:16.710Z"
   },
   {
    "duration": 2191,
    "start_time": "2024-07-02T10:43:16.832Z"
   },
   {
    "duration": 8,
    "start_time": "2024-07-02T10:43:19.025Z"
   },
   {
    "duration": 8236,
    "start_time": "2024-07-02T10:43:20.103Z"
   },
   {
    "duration": 4,
    "start_time": "2024-07-02T10:43:28.341Z"
   },
   {
    "duration": 52,
    "start_time": "2024-07-02T10:43:28.346Z"
   },
   {
    "duration": 3,
    "start_time": "2024-07-02T10:43:32.055Z"
   },
   {
    "duration": 3,
    "start_time": "2024-07-02T10:43:35.071Z"
   },
   {
    "duration": 3,
    "start_time": "2024-07-02T10:43:35.774Z"
   },
   {
    "duration": 2,
    "start_time": "2024-07-02T10:43:37.184Z"
   },
   {
    "duration": 48,
    "start_time": "2024-07-02T10:44:30.663Z"
   },
   {
    "duration": 6,
    "start_time": "2024-07-02T11:08:37.886Z"
   },
   {
    "duration": 8,
    "start_time": "2024-07-02T11:08:45.998Z"
   },
   {
    "duration": 11931,
    "start_time": "2024-07-02T11:08:56.790Z"
   },
   {
    "duration": 2613,
    "start_time": "2024-07-02T11:09:16.503Z"
   },
   {
    "duration": 4,
    "start_time": "2024-07-02T11:09:22.510Z"
   },
   {
    "duration": 66,
    "start_time": "2024-07-02T11:09:23.783Z"
   },
   {
    "duration": 37,
    "start_time": "2024-07-02T11:09:24.598Z"
   },
   {
    "duration": 317707,
    "start_time": "2024-07-02T11:09:25.310Z"
   },
   {
    "duration": 63837,
    "start_time": "2024-07-02T11:14:44.990Z"
   },
   {
    "duration": 100424,
    "start_time": "2024-07-02T11:15:52.770Z"
   },
   {
    "duration": 18,
    "start_time": "2024-07-02T11:17:36.911Z"
   },
   {
    "duration": 56055,
    "start_time": "2024-07-02T11:18:19.590Z"
   },
   {
    "duration": 2776699,
    "start_time": "2024-07-02T12:14:06.804Z"
   },
   {
    "duration": 91,
    "start_time": "2024-07-02T13:00:23.505Z"
   },
   {
    "duration": 3055,
    "start_time": "2024-07-02T13:12:53.610Z"
   },
   {
    "duration": 3208,
    "start_time": "2024-07-02T13:12:56.667Z"
   },
   {
    "duration": 2971,
    "start_time": "2024-07-02T13:12:59.877Z"
   },
   {
    "duration": 6727,
    "start_time": "2024-07-02T13:13:02.851Z"
   },
   {
    "duration": 3283,
    "start_time": "2024-07-02T13:13:09.580Z"
   },
   {
    "duration": 13,
    "start_time": "2024-07-02T13:13:12.865Z"
   },
   {
    "duration": 63,
    "start_time": "2024-07-02T13:13:12.880Z"
   },
   {
    "duration": 20,
    "start_time": "2024-07-02T13:13:12.945Z"
   },
   {
    "duration": 22,
    "start_time": "2024-07-02T13:13:12.966Z"
   },
   {
    "duration": 334,
    "start_time": "2024-07-02T13:13:12.990Z"
   },
   {
    "duration": 132,
    "start_time": "2024-07-02T13:13:13.326Z"
   },
   {
    "duration": 3,
    "start_time": "2024-07-02T13:13:13.460Z"
   },
   {
    "duration": 15,
    "start_time": "2024-07-02T13:13:13.465Z"
   },
   {
    "duration": 65,
    "start_time": "2024-07-02T13:13:13.482Z"
   },
   {
    "duration": 43,
    "start_time": "2024-07-02T13:13:13.549Z"
   },
   {
    "duration": 1453,
    "start_time": "2024-07-02T13:13:13.594Z"
   },
   {
    "duration": 4051,
    "start_time": "2024-07-05T05:39:46.894Z"
   },
   {
    "duration": 303195,
    "start_time": "2024-07-05T05:39:50.947Z"
   },
   {
    "duration": 2951,
    "start_time": "2024-07-05T05:44:54.145Z"
   },
   {
    "duration": 1241,
    "start_time": "2024-07-05T05:44:57.099Z"
   },
   {
    "duration": 0,
    "start_time": "2024-07-05T05:44:58.343Z"
   },
   {
    "duration": 0,
    "start_time": "2024-07-05T05:44:58.344Z"
   },
   {
    "duration": 0,
    "start_time": "2024-07-05T05:44:58.345Z"
   },
   {
    "duration": 0,
    "start_time": "2024-07-05T05:44:58.346Z"
   },
   {
    "duration": 0,
    "start_time": "2024-07-05T05:44:58.347Z"
   },
   {
    "duration": 0,
    "start_time": "2024-07-05T05:44:58.348Z"
   },
   {
    "duration": 0,
    "start_time": "2024-07-05T05:44:58.350Z"
   },
   {
    "duration": 0,
    "start_time": "2024-07-05T05:44:58.351Z"
   },
   {
    "duration": 0,
    "start_time": "2024-07-05T05:44:58.352Z"
   },
   {
    "duration": 0,
    "start_time": "2024-07-05T05:44:58.353Z"
   },
   {
    "duration": 0,
    "start_time": "2024-07-05T05:44:58.354Z"
   },
   {
    "duration": 0,
    "start_time": "2024-07-05T05:44:58.355Z"
   },
   {
    "duration": 0,
    "start_time": "2024-07-05T05:44:58.356Z"
   },
   {
    "duration": 0,
    "start_time": "2024-07-05T05:44:58.357Z"
   },
   {
    "duration": 0,
    "start_time": "2024-07-05T05:44:58.358Z"
   },
   {
    "duration": 0,
    "start_time": "2024-07-05T05:44:58.359Z"
   },
   {
    "duration": 0,
    "start_time": "2024-07-05T05:44:58.360Z"
   },
   {
    "duration": 0,
    "start_time": "2024-07-05T05:44:58.361Z"
   },
   {
    "duration": 0,
    "start_time": "2024-07-05T05:44:58.362Z"
   },
   {
    "duration": 0,
    "start_time": "2024-07-05T05:44:58.363Z"
   },
   {
    "duration": 0,
    "start_time": "2024-07-05T05:44:58.364Z"
   },
   {
    "duration": 0,
    "start_time": "2024-07-05T05:44:58.365Z"
   },
   {
    "duration": 0,
    "start_time": "2024-07-05T05:44:58.366Z"
   },
   {
    "duration": 0,
    "start_time": "2024-07-05T05:44:58.367Z"
   },
   {
    "duration": 0,
    "start_time": "2024-07-05T05:44:58.368Z"
   },
   {
    "duration": 0,
    "start_time": "2024-07-05T05:44:58.369Z"
   },
   {
    "duration": 0,
    "start_time": "2024-07-05T05:44:58.370Z"
   },
   {
    "duration": 0,
    "start_time": "2024-07-05T05:44:58.371Z"
   },
   {
    "duration": 0,
    "start_time": "2024-07-05T05:44:58.420Z"
   },
   {
    "duration": 0,
    "start_time": "2024-07-05T05:44:58.421Z"
   },
   {
    "duration": 0,
    "start_time": "2024-07-05T05:44:58.422Z"
   },
   {
    "duration": 1,
    "start_time": "2024-07-05T05:44:58.423Z"
   },
   {
    "duration": 0,
    "start_time": "2024-07-05T05:44:58.425Z"
   },
   {
    "duration": 0,
    "start_time": "2024-07-05T05:44:58.426Z"
   },
   {
    "duration": 0,
    "start_time": "2024-07-05T05:44:58.427Z"
   },
   {
    "duration": 0,
    "start_time": "2024-07-05T05:44:58.428Z"
   },
   {
    "duration": 0,
    "start_time": "2024-07-05T05:44:58.430Z"
   },
   {
    "duration": 0,
    "start_time": "2024-07-05T05:44:58.431Z"
   },
   {
    "duration": 0,
    "start_time": "2024-07-05T05:44:58.433Z"
   },
   {
    "duration": 0,
    "start_time": "2024-07-05T05:44:58.433Z"
   },
   {
    "duration": 0,
    "start_time": "2024-07-05T05:44:58.434Z"
   },
   {
    "duration": 0,
    "start_time": "2024-07-05T05:44:58.435Z"
   },
   {
    "duration": 0,
    "start_time": "2024-07-05T05:44:58.436Z"
   },
   {
    "duration": 0,
    "start_time": "2024-07-05T05:44:58.437Z"
   },
   {
    "duration": 0,
    "start_time": "2024-07-05T05:44:58.438Z"
   },
   {
    "duration": 0,
    "start_time": "2024-07-05T05:44:58.439Z"
   },
   {
    "duration": 3277,
    "start_time": "2024-07-05T05:46:19.784Z"
   },
   {
    "duration": 21,
    "start_time": "2024-07-05T05:46:32.388Z"
   },
   {
    "duration": 4294,
    "start_time": "2024-07-05T05:47:47.756Z"
   },
   {
    "duration": 4059,
    "start_time": "2024-07-05T05:47:59.277Z"
   },
   {
    "duration": 1542,
    "start_time": "2024-07-05T05:48:03.339Z"
   },
   {
    "duration": 852,
    "start_time": "2024-07-05T05:48:04.883Z"
   },
   {
    "duration": 9,
    "start_time": "2024-07-05T05:48:05.737Z"
   },
   {
    "duration": 38,
    "start_time": "2024-07-05T05:48:05.748Z"
   },
   {
    "duration": 24,
    "start_time": "2024-07-05T05:48:05.787Z"
   },
   {
    "duration": 21,
    "start_time": "2024-07-05T05:48:05.812Z"
   },
   {
    "duration": 258,
    "start_time": "2024-07-05T05:48:05.834Z"
   },
   {
    "duration": 2,
    "start_time": "2024-07-05T05:48:06.094Z"
   },
   {
    "duration": 65,
    "start_time": "2024-07-05T05:48:06.098Z"
   },
   {
    "duration": 34,
    "start_time": "2024-07-05T05:48:06.164Z"
   },
   {
    "duration": 136,
    "start_time": "2024-07-05T05:48:06.199Z"
   },
   {
    "duration": 0,
    "start_time": "2024-07-05T05:48:06.337Z"
   },
   {
    "duration": 0,
    "start_time": "2024-07-05T05:48:06.338Z"
   },
   {
    "duration": 0,
    "start_time": "2024-07-05T05:48:06.339Z"
   },
   {
    "duration": 0,
    "start_time": "2024-07-05T05:48:06.340Z"
   },
   {
    "duration": 9,
    "start_time": "2024-07-05T05:48:53.892Z"
   },
   {
    "duration": 11,
    "start_time": "2024-07-05T05:49:13.788Z"
   },
   {
    "duration": 10,
    "start_time": "2024-07-05T05:49:34.149Z"
   },
   {
    "duration": 180,
    "start_time": "2024-07-05T05:50:20.412Z"
   },
   {
    "duration": 119,
    "start_time": "2024-07-05T05:51:23.893Z"
   },
   {
    "duration": 126,
    "start_time": "2024-07-05T05:51:50.871Z"
   },
   {
    "duration": 97229,
    "start_time": "2024-07-05T06:03:28.004Z"
   },
   {
    "duration": 85,
    "start_time": "2024-07-05T06:05:30.860Z"
   },
   {
    "duration": 64,
    "start_time": "2024-07-05T06:05:35.916Z"
   },
   {
    "duration": 14,
    "start_time": "2024-07-05T06:06:37.789Z"
   },
   {
    "duration": 11149,
    "start_time": "2024-07-05T06:06:45.932Z"
   },
   {
    "duration": 99882,
    "start_time": "2024-07-05T06:07:13.653Z"
   },
   {
    "duration": 3,
    "start_time": "2024-07-05T06:09:55.443Z"
   },
   {
    "duration": 2,
    "start_time": "2024-07-05T06:11:32.932Z"
   },
   {
    "duration": 2,
    "start_time": "2024-07-05T06:12:10.884Z"
   },
   {
    "duration": 50560,
    "start_time": "2024-07-05T06:13:05.771Z"
   },
   {
    "duration": 62451,
    "start_time": "2024-07-05T06:18:14.571Z"
   },
   {
    "duration": 24,
    "start_time": "2024-07-05T06:24:12.987Z"
   },
   {
    "duration": 15,
    "start_time": "2024-07-05T06:24:15.755Z"
   },
   {
    "duration": 1308,
    "start_time": "2024-07-05T06:24:31.739Z"
   },
   {
    "duration": 41669,
    "start_time": "2024-07-05T06:24:39.763Z"
   },
   {
    "duration": 64833,
    "start_time": "2024-07-05T06:27:19.604Z"
   },
   {
    "duration": 13,
    "start_time": "2024-07-05T06:31:51.858Z"
   },
   {
    "duration": 829,
    "start_time": "2024-07-05T06:32:44.683Z"
   },
   {
    "duration": 254,
    "start_time": "2024-07-05T06:32:48.803Z"
   },
   {
    "duration": 138,
    "start_time": "2024-07-05T06:33:39.627Z"
   },
   {
    "duration": 215,
    "start_time": "2024-07-05T06:34:06.659Z"
   },
   {
    "duration": 219,
    "start_time": "2024-07-05T06:34:19.226Z"
   },
   {
    "duration": 140,
    "start_time": "2024-07-05T06:34:43.835Z"
   },
   {
    "duration": 4021,
    "start_time": "2024-07-05T06:38:24.325Z"
   },
   {
    "duration": 1598,
    "start_time": "2024-07-05T06:38:28.349Z"
   },
   {
    "duration": 908,
    "start_time": "2024-07-05T06:38:29.949Z"
   },
   {
    "duration": 14,
    "start_time": "2024-07-05T06:38:30.859Z"
   },
   {
    "duration": 157,
    "start_time": "2024-07-05T06:38:30.875Z"
   },
   {
    "duration": 108,
    "start_time": "2024-07-05T06:38:31.034Z"
   },
   {
    "duration": 73,
    "start_time": "2024-07-05T06:38:31.144Z"
   },
   {
    "duration": 332,
    "start_time": "2024-07-05T06:38:31.219Z"
   },
   {
    "duration": 52,
    "start_time": "2024-07-05T06:38:31.553Z"
   },
   {
    "duration": 0,
    "start_time": "2024-07-05T06:38:31.608Z"
   },
   {
    "duration": 0,
    "start_time": "2024-07-05T06:38:31.609Z"
   },
   {
    "duration": 0,
    "start_time": "2024-07-05T06:38:31.610Z"
   },
   {
    "duration": 0,
    "start_time": "2024-07-05T06:38:31.611Z"
   },
   {
    "duration": 0,
    "start_time": "2024-07-05T06:38:31.612Z"
   },
   {
    "duration": 0,
    "start_time": "2024-07-05T06:38:31.613Z"
   },
   {
    "duration": 0,
    "start_time": "2024-07-05T06:38:31.614Z"
   },
   {
    "duration": 0,
    "start_time": "2024-07-05T06:38:31.615Z"
   },
   {
    "duration": 0,
    "start_time": "2024-07-05T06:38:31.616Z"
   },
   {
    "duration": 0,
    "start_time": "2024-07-05T06:38:31.618Z"
   },
   {
    "duration": 0,
    "start_time": "2024-07-05T06:38:31.619Z"
   },
   {
    "duration": 0,
    "start_time": "2024-07-05T06:38:31.621Z"
   },
   {
    "duration": 0,
    "start_time": "2024-07-05T06:38:31.622Z"
   },
   {
    "duration": 0,
    "start_time": "2024-07-05T06:38:31.623Z"
   },
   {
    "duration": 0,
    "start_time": "2024-07-05T06:38:31.624Z"
   },
   {
    "duration": 0,
    "start_time": "2024-07-05T06:38:31.626Z"
   },
   {
    "duration": 0,
    "start_time": "2024-07-05T06:38:31.627Z"
   },
   {
    "duration": 0,
    "start_time": "2024-07-05T06:38:31.628Z"
   },
   {
    "duration": 0,
    "start_time": "2024-07-05T06:38:31.630Z"
   },
   {
    "duration": 5072,
    "start_time": "2024-07-05T06:41:02.133Z"
   },
   {
    "duration": 1582,
    "start_time": "2024-07-05T06:41:07.207Z"
   },
   {
    "duration": 873,
    "start_time": "2024-07-05T06:41:08.791Z"
   },
   {
    "duration": 9,
    "start_time": "2024-07-05T06:41:09.666Z"
   },
   {
    "duration": 24,
    "start_time": "2024-07-05T06:41:09.676Z"
   },
   {
    "duration": 34,
    "start_time": "2024-07-05T06:41:09.701Z"
   },
   {
    "duration": 19,
    "start_time": "2024-07-05T06:41:09.737Z"
   },
   {
    "duration": 247,
    "start_time": "2024-07-05T06:41:09.757Z"
   },
   {
    "duration": 254,
    "start_time": "2024-07-05T06:41:10.005Z"
   },
   {
    "duration": 10,
    "start_time": "2024-07-05T06:41:10.261Z"
   },
   {
    "duration": 197,
    "start_time": "2024-07-05T06:41:10.272Z"
   },
   {
    "duration": 94274,
    "start_time": "2024-07-05T06:41:10.471Z"
   },
   {
    "duration": 11030,
    "start_time": "2024-07-05T06:42:44.746Z"
   },
   {
    "duration": 96949,
    "start_time": "2024-07-05T06:42:55.777Z"
   },
   {
    "duration": 58451,
    "start_time": "2024-07-05T06:44:32.729Z"
   },
   {
    "duration": 18,
    "start_time": "2024-07-05T06:45:31.182Z"
   },
   {
    "duration": 1385,
    "start_time": "2024-07-05T06:45:31.202Z"
   },
   {
    "duration": 33634,
    "start_time": "2024-07-05T06:45:32.589Z"
   },
   {
    "duration": 24340,
    "start_time": "2024-07-05T06:46:06.228Z"
   },
   {
    "duration": 0,
    "start_time": "2024-07-05T06:46:30.570Z"
   },
   {
    "duration": 0,
    "start_time": "2024-07-05T06:46:30.571Z"
   },
   {
    "duration": 0,
    "start_time": "2024-07-05T06:46:30.572Z"
   },
   {
    "duration": 0,
    "start_time": "2024-07-05T06:46:30.573Z"
   },
   {
    "duration": 0,
    "start_time": "2024-07-05T06:46:30.574Z"
   },
   {
    "duration": 0,
    "start_time": "2024-07-05T06:46:30.575Z"
   },
   {
    "duration": 0,
    "start_time": "2024-07-05T06:46:30.576Z"
   },
   {
    "duration": 0,
    "start_time": "2024-07-05T06:46:30.577Z"
   },
   {
    "duration": 55659,
    "start_time": "2024-07-05T06:47:05.362Z"
   },
   {
    "duration": 44389,
    "start_time": "2024-07-05T06:48:55.058Z"
   },
   {
    "duration": 52239,
    "start_time": "2024-07-05T06:50:23.490Z"
   },
   {
    "duration": 59350,
    "start_time": "2024-07-05T06:53:03.674Z"
   },
   {
    "duration": 18,
    "start_time": "2024-07-05T06:54:10.705Z"
   },
   {
    "duration": 17,
    "start_time": "2024-07-05T06:54:13.562Z"
   },
   {
    "duration": 3916,
    "start_time": "2024-07-05T06:55:11.572Z"
   },
   {
    "duration": 1505,
    "start_time": "2024-07-05T06:55:15.490Z"
   },
   {
    "duration": 853,
    "start_time": "2024-07-05T06:55:16.997Z"
   },
   {
    "duration": 10,
    "start_time": "2024-07-05T06:55:17.852Z"
   },
   {
    "duration": 35,
    "start_time": "2024-07-05T06:55:17.863Z"
   },
   {
    "duration": 35,
    "start_time": "2024-07-05T06:55:17.900Z"
   },
   {
    "duration": 21,
    "start_time": "2024-07-05T06:55:17.936Z"
   },
   {
    "duration": 251,
    "start_time": "2024-07-05T06:55:17.958Z"
   },
   {
    "duration": 258,
    "start_time": "2024-07-05T06:55:18.210Z"
   },
   {
    "duration": 12,
    "start_time": "2024-07-05T06:55:18.471Z"
   },
   {
    "duration": 196,
    "start_time": "2024-07-05T06:55:18.485Z"
   },
   {
    "duration": 99644,
    "start_time": "2024-07-05T06:55:18.683Z"
   },
   {
    "duration": 11080,
    "start_time": "2024-07-05T06:56:58.329Z"
   },
   {
    "duration": 100432,
    "start_time": "2024-07-05T06:57:09.411Z"
   },
   {
    "duration": 60419,
    "start_time": "2024-07-05T06:58:49.921Z"
   },
   {
    "duration": 18,
    "start_time": "2024-07-05T06:59:50.420Z"
   },
   {
    "duration": 1203,
    "start_time": "2024-07-05T06:59:50.439Z"
   },
   {
    "duration": 35482,
    "start_time": "2024-07-05T06:59:51.644Z"
   },
   {
    "duration": 27649,
    "start_time": "2024-07-05T07:00:27.128Z"
   },
   {
    "duration": 0,
    "start_time": "2024-07-05T07:00:54.779Z"
   },
   {
    "duration": 0,
    "start_time": "2024-07-05T07:00:54.780Z"
   },
   {
    "duration": 0,
    "start_time": "2024-07-05T07:00:54.782Z"
   },
   {
    "duration": 0,
    "start_time": "2024-07-05T07:00:54.783Z"
   },
   {
    "duration": 0,
    "start_time": "2024-07-05T07:00:54.784Z"
   },
   {
    "duration": 0,
    "start_time": "2024-07-05T07:00:54.785Z"
   },
   {
    "duration": 0,
    "start_time": "2024-07-05T07:00:54.786Z"
   },
   {
    "duration": 0,
    "start_time": "2024-07-05T07:00:54.787Z"
   },
   {
    "duration": 63150,
    "start_time": "2024-07-05T07:01:49.314Z"
   },
   {
    "duration": 67442,
    "start_time": "2024-07-05T07:06:07.665Z"
   },
   {
    "duration": 63576,
    "start_time": "2024-07-05T07:08:42.722Z"
   },
   {
    "duration": 22,
    "start_time": "2024-07-05T07:11:50.840Z"
   },
   {
    "duration": 3948,
    "start_time": "2024-07-05T07:16:21.144Z"
   },
   {
    "duration": 1649,
    "start_time": "2024-07-05T07:16:25.094Z"
   },
   {
    "duration": 858,
    "start_time": "2024-07-05T07:16:26.744Z"
   },
   {
    "duration": 16,
    "start_time": "2024-07-05T07:16:27.604Z"
   },
   {
    "duration": 24,
    "start_time": "2024-07-05T07:16:27.621Z"
   },
   {
    "duration": 18,
    "start_time": "2024-07-05T07:16:27.647Z"
   },
   {
    "duration": 21,
    "start_time": "2024-07-05T07:16:27.667Z"
   },
   {
    "duration": 262,
    "start_time": "2024-07-05T07:16:27.690Z"
   },
   {
    "duration": 257,
    "start_time": "2024-07-05T07:16:27.953Z"
   },
   {
    "duration": 12,
    "start_time": "2024-07-05T07:16:28.214Z"
   },
   {
    "duration": 198,
    "start_time": "2024-07-05T07:16:28.228Z"
   },
   {
    "duration": 97249,
    "start_time": "2024-07-05T07:16:28.427Z"
   },
   {
    "duration": 11395,
    "start_time": "2024-07-05T07:18:05.677Z"
   },
   {
    "duration": 98551,
    "start_time": "2024-07-05T07:18:17.073Z"
   },
   {
    "duration": 59297,
    "start_time": "2024-07-05T07:19:55.626Z"
   },
   {
    "duration": 18,
    "start_time": "2024-07-05T07:20:54.924Z"
   },
   {
    "duration": 1269,
    "start_time": "2024-07-05T07:20:54.943Z"
   },
   {
    "duration": 35029,
    "start_time": "2024-07-05T07:20:56.214Z"
   },
   {
    "duration": 66014,
    "start_time": "2024-07-05T07:21:31.319Z"
   },
   {
    "duration": 63291,
    "start_time": "2024-07-05T07:22:37.335Z"
   },
   {
    "duration": 9,
    "start_time": "2024-07-05T07:23:40.627Z"
   },
   {
    "duration": 945,
    "start_time": "2024-07-05T07:23:40.638Z"
   },
   {
    "duration": 1,
    "start_time": "2024-07-05T07:23:41.584Z"
   },
   {
    "duration": 0,
    "start_time": "2024-07-05T07:23:41.586Z"
   },
   {
    "duration": 0,
    "start_time": "2024-07-05T07:23:41.586Z"
   },
   {
    "duration": 0,
    "start_time": "2024-07-05T07:23:41.588Z"
   },
   {
    "duration": 0,
    "start_time": "2024-07-05T07:23:41.588Z"
   },
   {
    "duration": 0,
    "start_time": "2024-07-05T07:23:41.589Z"
   },
   {
    "duration": 0,
    "start_time": "2024-07-05T07:23:41.590Z"
   },
   {
    "duration": 76564,
    "start_time": "2024-07-05T07:25:06.928Z"
   },
   {
    "duration": 12,
    "start_time": "2024-07-05T07:26:23.494Z"
   },
   {
    "duration": 64,
    "start_time": "2024-07-05T07:26:37.920Z"
   },
   {
    "duration": 7,
    "start_time": "2024-07-05T07:27:04.106Z"
   },
   {
    "duration": 767327,
    "start_time": "2024-07-05T07:28:36.000Z"
   },
   {
    "duration": 18105,
    "start_time": "2024-07-05T07:41:35.695Z"
   },
   {
    "duration": 17448,
    "start_time": "2024-07-05T07:43:20.679Z"
   },
   {
    "duration": 1055169,
    "start_time": "2024-07-05T07:45:07.940Z"
   },
   {
    "duration": 18669,
    "start_time": "2024-07-05T08:03:29.894Z"
   },
   {
    "duration": 1513727,
    "start_time": "2024-07-05T08:04:19.950Z"
   },
   {
    "duration": 0,
    "start_time": "2024-07-05T08:29:33.684Z"
   },
   {
    "duration": 0,
    "start_time": "2024-07-05T08:29:33.684Z"
   },
   {
    "duration": 0,
    "start_time": "2024-07-05T08:55:18.338Z"
   },
   {
    "duration": 0,
    "start_time": "2024-07-05T08:55:18.340Z"
   },
   {
    "duration": 0,
    "start_time": "2024-07-05T08:55:18.346Z"
   },
   {
    "duration": 0,
    "start_time": "2024-07-05T08:55:18.347Z"
   },
   {
    "duration": 12,
    "start_time": "2024-07-05T08:56:29.259Z"
   },
   {
    "duration": 446,
    "start_time": "2024-07-05T08:57:08.523Z"
   },
   {
    "duration": 4051,
    "start_time": "2024-07-05T09:16:02.837Z"
   },
   {
    "duration": 1659,
    "start_time": "2024-07-05T09:16:06.891Z"
   },
   {
    "duration": 856,
    "start_time": "2024-07-05T09:16:08.552Z"
   },
   {
    "duration": 13,
    "start_time": "2024-07-05T09:16:09.411Z"
   },
   {
    "duration": 25,
    "start_time": "2024-07-05T09:16:09.426Z"
   },
   {
    "duration": 24,
    "start_time": "2024-07-05T09:16:09.452Z"
   },
   {
    "duration": 56,
    "start_time": "2024-07-05T09:16:09.478Z"
   },
   {
    "duration": 284,
    "start_time": "2024-07-05T09:16:09.536Z"
   },
   {
    "duration": 253,
    "start_time": "2024-07-05T09:16:09.822Z"
   },
   {
    "duration": 11,
    "start_time": "2024-07-05T09:16:10.078Z"
   },
   {
    "duration": 209,
    "start_time": "2024-07-05T09:16:10.090Z"
   },
   {
    "duration": 114467,
    "start_time": "2024-07-05T09:16:10.301Z"
   },
   {
    "duration": 11879,
    "start_time": "2024-07-05T09:18:04.770Z"
   },
   {
    "duration": 106286,
    "start_time": "2024-07-05T09:18:16.651Z"
   },
   {
    "duration": 62997,
    "start_time": "2024-07-05T09:20:02.939Z"
   },
   {
    "duration": 96,
    "start_time": "2024-07-05T09:21:05.938Z"
   },
   {
    "duration": 1391,
    "start_time": "2024-07-05T09:21:06.036Z"
   },
   {
    "duration": 40993,
    "start_time": "2024-07-05T09:21:07.429Z"
   },
   {
    "duration": 67175,
    "start_time": "2024-07-05T09:21:48.424Z"
   },
   {
    "duration": 18,
    "start_time": "2024-07-05T09:22:55.602Z"
   },
   {
    "duration": 790298,
    "start_time": "2024-07-05T09:22:55.622Z"
   },
   {
    "duration": 18010,
    "start_time": "2024-07-05T09:36:05.921Z"
   },
   {
    "duration": 1088503,
    "start_time": "2024-07-05T09:36:23.932Z"
   },
   {
    "duration": 19409,
    "start_time": "2024-07-05T09:54:32.437Z"
   },
   {
    "duration": 3590335,
    "start_time": "2024-07-05T09:54:51.847Z"
   },
   {
    "duration": 0,
    "start_time": "2024-07-05T10:54:42.184Z"
   },
   {
    "duration": 0,
    "start_time": "2024-07-05T10:54:42.185Z"
   },
   {
    "duration": 0,
    "start_time": "2024-07-05T10:54:42.187Z"
   },
   {
    "duration": 0,
    "start_time": "2024-07-05T10:54:42.188Z"
   },
   {
    "duration": 0,
    "start_time": "2024-07-05T10:54:42.190Z"
   },
   {
    "duration": 0,
    "start_time": "2024-07-05T10:54:42.191Z"
   },
   {
    "duration": 0,
    "start_time": "2024-07-05T10:54:42.192Z"
   },
   {
    "duration": 0,
    "start_time": "2024-07-05T10:54:42.193Z"
   },
   {
    "duration": 0,
    "start_time": "2024-07-05T10:54:42.194Z"
   },
   {
    "duration": 0,
    "start_time": "2024-07-05T10:54:42.195Z"
   },
   {
    "duration": 0,
    "start_time": "2024-07-05T10:54:42.196Z"
   },
   {
    "duration": 0,
    "start_time": "2024-07-05T10:54:42.204Z"
   },
   {
    "duration": 0,
    "start_time": "2024-07-05T10:54:42.205Z"
   },
   {
    "duration": 62,
    "start_time": "2024-07-05T10:55:51.408Z"
   },
   {
    "duration": 299965,
    "start_time": "2024-07-05T10:56:16.441Z"
   },
   {
    "duration": 1445,
    "start_time": "2024-07-05T11:01:16.408Z"
   },
   {
    "duration": 865,
    "start_time": "2024-07-05T11:01:28.594Z"
   },
   {
    "duration": 12,
    "start_time": "2024-07-05T11:02:35.537Z"
   },
   {
    "duration": 3,
    "start_time": "2024-07-05T11:02:52.122Z"
   },
   {
    "duration": 48,
    "start_time": "2024-07-05T11:02:54.987Z"
   },
   {
    "duration": 31,
    "start_time": "2024-07-05T11:02:56.969Z"
   },
   {
    "duration": 12,
    "start_time": "2024-07-05T11:02:58.889Z"
   },
   {
    "duration": 10,
    "start_time": "2024-07-05T11:03:27.993Z"
   },
   {
    "duration": 5980,
    "start_time": "2024-07-05T11:03:45.177Z"
   },
   {
    "duration": 2896,
    "start_time": "2024-07-05T11:04:25.667Z"
   },
   {
    "duration": 457698,
    "start_time": "2024-07-05T11:04:31.341Z"
   },
   {
    "duration": 16124,
    "start_time": "2024-07-05T11:12:09.041Z"
   },
   {
    "duration": 7112,
    "start_time": "2024-07-05T11:37:22.180Z"
   },
   {
    "duration": 128,
    "start_time": "2024-07-05T11:37:36.480Z"
   },
   {
    "duration": 5117,
    "start_time": "2024-07-05T11:37:53.931Z"
   },
   {
    "duration": 403,
    "start_time": "2024-07-05T11:37:59.050Z"
   },
   {
    "duration": 3875,
    "start_time": "2024-07-05T11:38:06.269Z"
   },
   {
    "duration": 20,
    "start_time": "2024-07-05T11:38:10.147Z"
   },
   {
    "duration": 62,
    "start_time": "2024-07-05T11:38:10.170Z"
   },
   {
    "duration": 33,
    "start_time": "2024-07-05T11:38:13.084Z"
   },
   {
    "duration": 44,
    "start_time": "2024-07-05T11:38:14.180Z"
   },
   {
    "duration": 382,
    "start_time": "2024-07-05T11:38:16.572Z"
   },
   {
    "duration": 372,
    "start_time": "2024-07-05T11:38:19.795Z"
   },
   {
    "duration": 23,
    "start_time": "2024-07-05T11:38:20.827Z"
   },
   {
    "duration": 255,
    "start_time": "2024-07-05T11:38:22.422Z"
   },
   {
    "duration": 128772,
    "start_time": "2024-07-05T11:38:29.372Z"
   },
   {
    "duration": 9,
    "start_time": "2024-07-05T11:43:02.815Z"
   },
   {
    "duration": 3,
    "start_time": "2024-07-05T11:43:09.867Z"
   },
   {
    "duration": 56,
    "start_time": "2024-07-05T11:43:13.147Z"
   },
   {
    "duration": 37,
    "start_time": "2024-07-05T11:43:15.852Z"
   },
   {
    "duration": 3276,
    "start_time": "2024-07-05T11:43:17.980Z"
   },
   {
    "duration": 3,
    "start_time": "2024-07-05T11:43:47.222Z"
   },
   {
    "duration": 303549,
    "start_time": "2024-07-05T11:43:48.748Z"
   },
   {
    "duration": 3866,
    "start_time": "2024-07-05T11:48:52.299Z"
   },
   {
    "duration": 1018,
    "start_time": "2024-07-05T11:49:12.621Z"
   },
   {
    "duration": 18,
    "start_time": "2024-07-05T11:49:14.445Z"
   },
   {
    "duration": 865,
    "start_time": "2024-07-05T11:51:21.081Z"
   },
   {
    "duration": 4,
    "start_time": "2024-07-05T11:52:04.197Z"
   },
   {
    "duration": 2,
    "start_time": "2024-07-05T11:52:40.773Z"
   },
   {
    "duration": 910,
    "start_time": "2024-07-05T11:52:48.298Z"
   },
   {
    "duration": 5,
    "start_time": "2024-07-05T11:57:46.278Z"
   },
   {
    "duration": 11,
    "start_time": "2024-07-05T11:57:56.844Z"
   },
   {
    "duration": 6,
    "start_time": "2024-07-05T11:58:29.527Z"
   },
   {
    "duration": 3,
    "start_time": "2024-07-05T11:58:40.293Z"
   },
   {
    "duration": 99,
    "start_time": "2024-07-05T11:58:46.821Z"
   },
   {
    "duration": 43,
    "start_time": "2024-07-05T11:58:48.062Z"
   },
   {
    "duration": 3640,
    "start_time": "2024-07-05T11:58:49.614Z"
   },
   {
    "duration": 4,
    "start_time": "2024-07-05T11:58:58.742Z"
   },
   {
    "duration": 0,
    "start_time": "2024-07-05T12:00:27.868Z"
   },
   {
    "duration": 16,
    "start_time": "2024-07-05T12:00:28.982Z"
   },
   {
    "duration": 22,
    "start_time": "2024-07-05T12:00:37.301Z"
   },
   {
    "duration": 17,
    "start_time": "2024-07-05T12:00:45.525Z"
   },
   {
    "duration": 4340,
    "start_time": "2024-07-05T12:03:14.655Z"
   },
   {
    "duration": 1705,
    "start_time": "2024-07-05T12:03:18.997Z"
   },
   {
    "duration": 3257,
    "start_time": "2024-07-05T12:03:21.277Z"
   },
   {
    "duration": 10,
    "start_time": "2024-07-05T12:03:24.536Z"
   },
   {
    "duration": 44,
    "start_time": "2024-07-05T12:03:24.548Z"
   },
   {
    "duration": 19,
    "start_time": "2024-07-05T12:03:24.838Z"
   },
   {
    "duration": 29,
    "start_time": "2024-07-05T12:03:25.758Z"
   },
   {
    "duration": 251,
    "start_time": "2024-07-05T12:03:27.704Z"
   },
   {
    "duration": 268,
    "start_time": "2024-07-05T12:03:29.382Z"
   },
   {
    "duration": 11,
    "start_time": "2024-07-05T12:03:30.830Z"
   },
   {
    "duration": 202,
    "start_time": "2024-07-05T12:03:31.966Z"
   },
   {
    "duration": 121574,
    "start_time": "2024-07-05T12:03:38.871Z"
   },
   {
    "duration": 50,
    "start_time": "2024-07-05T12:06:59.327Z"
   },
   {
    "duration": 4875,
    "start_time": "2024-07-05T12:07:08.087Z"
   },
   {
    "duration": 1857,
    "start_time": "2024-07-05T12:07:15.895Z"
   },
   {
    "duration": 3580,
    "start_time": "2024-07-05T12:07:19.919Z"
   },
   {
    "duration": 13,
    "start_time": "2024-07-05T12:07:23.503Z"
   },
   {
    "duration": 42,
    "start_time": "2024-07-05T12:07:23.518Z"
   },
   {
    "duration": 45,
    "start_time": "2024-07-05T12:07:23.562Z"
   },
   {
    "duration": 31,
    "start_time": "2024-07-05T12:07:23.609Z"
   },
   {
    "duration": 429,
    "start_time": "2024-07-05T12:07:30.504Z"
   },
   {
    "duration": 291,
    "start_time": "2024-07-05T12:07:34.719Z"
   },
   {
    "duration": 18,
    "start_time": "2024-07-05T12:07:37.551Z"
   },
   {
    "duration": 274,
    "start_time": "2024-07-05T12:07:39.895Z"
   },
   {
    "duration": 117952,
    "start_time": "2024-07-05T12:08:02.939Z"
   },
   {
    "duration": 5,
    "start_time": "2024-07-05T12:12:24.863Z"
   },
   {
    "duration": 10,
    "start_time": "2024-07-05T12:12:26.455Z"
   },
   {
    "duration": 3,
    "start_time": "2024-07-05T12:12:27.752Z"
   },
   {
    "duration": 54,
    "start_time": "2024-07-05T12:12:45.689Z"
   },
   {
    "duration": 36,
    "start_time": "2024-07-05T12:12:47.239Z"
   },
   {
    "duration": 3325,
    "start_time": "2024-07-05T12:12:48.248Z"
   },
   {
    "duration": 5070,
    "start_time": "2024-07-05T12:13:01.984Z"
   },
   {
    "duration": 4234,
    "start_time": "2024-07-05T12:31:28.776Z"
   },
   {
    "duration": 1641,
    "start_time": "2024-07-05T12:31:33.012Z"
   },
   {
    "duration": 3191,
    "start_time": "2024-07-05T12:31:34.654Z"
   },
   {
    "duration": 11,
    "start_time": "2024-07-05T12:31:37.847Z"
   },
   {
    "duration": 42,
    "start_time": "2024-07-05T12:31:37.859Z"
   },
   {
    "duration": 28,
    "start_time": "2024-07-05T12:31:37.902Z"
   },
   {
    "duration": 21,
    "start_time": "2024-07-05T12:31:37.931Z"
   },
   {
    "duration": 272,
    "start_time": "2024-07-05T12:31:37.954Z"
   },
   {
    "duration": 261,
    "start_time": "2024-07-05T12:31:38.227Z"
   },
   {
    "duration": 12,
    "start_time": "2024-07-05T12:31:38.491Z"
   },
   {
    "duration": 214,
    "start_time": "2024-07-05T12:31:38.504Z"
   },
   {
    "duration": 99082,
    "start_time": "2024-07-05T12:31:38.720Z"
   },
   {
    "duration": 4801,
    "start_time": "2024-07-06T10:49:26.153Z"
   },
   {
    "duration": 1870,
    "start_time": "2024-07-06T10:49:30.956Z"
   },
   {
    "duration": 2444,
    "start_time": "2024-07-06T10:49:32.827Z"
   },
   {
    "duration": 11,
    "start_time": "2024-07-06T10:49:35.273Z"
   },
   {
    "duration": 33,
    "start_time": "2024-07-06T10:49:35.285Z"
   },
   {
    "duration": 28,
    "start_time": "2024-07-06T10:49:35.320Z"
   },
   {
    "duration": 38,
    "start_time": "2024-07-06T10:49:35.349Z"
   },
   {
    "duration": 320,
    "start_time": "2024-07-06T10:49:35.389Z"
   },
   {
    "duration": 249,
    "start_time": "2024-07-06T10:49:35.711Z"
   },
   {
    "duration": 13,
    "start_time": "2024-07-06T10:49:35.962Z"
   },
   {
    "duration": 219,
    "start_time": "2024-07-06T10:49:35.976Z"
   },
   {
    "duration": 98197,
    "start_time": "2024-07-06T10:49:36.196Z"
   },
   {
    "duration": 12399,
    "start_time": "2024-07-06T10:51:14.395Z"
   },
   {
    "duration": 3626,
    "start_time": "2024-07-06T11:53:46.762Z"
   },
   {
    "duration": 1616,
    "start_time": "2024-07-06T11:53:50.390Z"
   },
   {
    "duration": 2401,
    "start_time": "2024-07-06T11:53:52.008Z"
   },
   {
    "duration": 11,
    "start_time": "2024-07-06T11:53:54.412Z"
   },
   {
    "duration": 37,
    "start_time": "2024-07-06T11:53:54.425Z"
   },
   {
    "duration": 20,
    "start_time": "2024-07-06T11:53:54.463Z"
   },
   {
    "duration": 28,
    "start_time": "2024-07-06T11:53:54.484Z"
   },
   {
    "duration": 316,
    "start_time": "2024-07-06T11:53:54.514Z"
   },
   {
    "duration": 230,
    "start_time": "2024-07-06T11:53:54.831Z"
   },
   {
    "duration": 10,
    "start_time": "2024-07-06T11:53:55.067Z"
   },
   {
    "duration": 237,
    "start_time": "2024-07-06T11:53:55.079Z"
   },
   {
    "duration": 99114,
    "start_time": "2024-07-06T11:53:55.317Z"
   },
   {
    "duration": 12686,
    "start_time": "2024-07-06T11:55:34.433Z"
   },
   {
    "duration": 110846,
    "start_time": "2024-07-06T11:55:47.120Z"
   },
   {
    "duration": 68220,
    "start_time": "2024-07-06T11:57:37.968Z"
   },
   {
    "duration": 77,
    "start_time": "2024-07-06T11:58:46.190Z"
   },
   {
    "duration": 1353,
    "start_time": "2024-07-06T11:58:46.270Z"
   },
   {
    "duration": 44943,
    "start_time": "2024-07-06T11:58:47.625Z"
   },
   {
    "duration": 76680,
    "start_time": "2024-07-06T11:59:32.570Z"
   },
   {
    "duration": 17,
    "start_time": "2024-07-06T12:00:49.252Z"
   },
   {
    "duration": 962708,
    "start_time": "2024-07-06T12:00:49.271Z"
   },
   {
    "duration": 23713,
    "start_time": "2024-07-06T12:16:51.980Z"
   },
   {
    "duration": 3544,
    "start_time": "2024-07-06T12:22:42.895Z"
   },
   {
    "duration": 1593,
    "start_time": "2024-07-06T12:22:46.441Z"
   },
   {
    "duration": 939,
    "start_time": "2024-07-06T12:22:48.035Z"
   },
   {
    "duration": 12,
    "start_time": "2024-07-06T12:22:48.977Z"
   },
   {
    "duration": 38,
    "start_time": "2024-07-06T12:22:48.991Z"
   },
   {
    "duration": 45,
    "start_time": "2024-07-06T12:22:49.031Z"
   },
   {
    "duration": 31,
    "start_time": "2024-07-06T12:22:49.078Z"
   },
   {
    "duration": 333,
    "start_time": "2024-07-06T12:22:49.110Z"
   },
   {
    "duration": 264,
    "start_time": "2024-07-06T12:22:49.445Z"
   },
   {
    "duration": 11,
    "start_time": "2024-07-06T12:22:49.713Z"
   },
   {
    "duration": 242,
    "start_time": "2024-07-06T12:22:49.725Z"
   },
   {
    "duration": 3835,
    "start_time": "2024-07-06T12:23:09.378Z"
   },
   {
    "duration": 1569,
    "start_time": "2024-07-06T12:23:13.215Z"
   },
   {
    "duration": 939,
    "start_time": "2024-07-06T12:23:14.786Z"
   },
   {
    "duration": 11,
    "start_time": "2024-07-06T12:23:15.727Z"
   },
   {
    "duration": 45,
    "start_time": "2024-07-06T12:23:15.740Z"
   },
   {
    "duration": 22,
    "start_time": "2024-07-06T12:23:15.787Z"
   },
   {
    "duration": 29,
    "start_time": "2024-07-06T12:23:15.811Z"
   },
   {
    "duration": 307,
    "start_time": "2024-07-06T12:23:15.866Z"
   },
   {
    "duration": 234,
    "start_time": "2024-07-06T12:23:16.175Z"
   },
   {
    "duration": 11,
    "start_time": "2024-07-06T12:23:16.413Z"
   },
   {
    "duration": 224,
    "start_time": "2024-07-06T12:23:16.425Z"
   },
   {
    "duration": 93814,
    "start_time": "2024-07-06T12:23:16.651Z"
   },
   {
    "duration": 12176,
    "start_time": "2024-07-06T12:24:50.466Z"
   },
   {
    "duration": 108328,
    "start_time": "2024-07-06T12:25:02.644Z"
   },
   {
    "duration": 67006,
    "start_time": "2024-07-06T12:26:50.973Z"
   },
   {
    "duration": 89,
    "start_time": "2024-07-06T12:27:57.980Z"
   },
   {
    "duration": 1384,
    "start_time": "2024-07-06T12:27:58.071Z"
   },
   {
    "duration": 44410,
    "start_time": "2024-07-06T12:27:59.457Z"
   },
   {
    "duration": 74199,
    "start_time": "2024-07-06T12:28:43.871Z"
   },
   {
    "duration": 10,
    "start_time": "2024-07-06T12:29:58.072Z"
   },
   {
    "duration": 328453,
    "start_time": "2024-07-06T12:29:58.084Z"
   },
   {
    "duration": 1580,
    "start_time": "2024-07-06T12:35:26.539Z"
   },
   {
    "duration": 8,
    "start_time": "2024-07-06T12:35:28.121Z"
   },
   {
    "duration": 8,
    "start_time": "2024-07-06T12:35:28.131Z"
   },
   {
    "duration": 8,
    "start_time": "2024-07-06T12:35:28.140Z"
   },
   {
    "duration": 16,
    "start_time": "2024-07-06T12:35:28.150Z"
   },
   {
    "duration": 61,
    "start_time": "2024-07-06T12:35:28.167Z"
   },
   {
    "duration": 42,
    "start_time": "2024-07-06T12:35:28.232Z"
   },
   {
    "duration": 2968,
    "start_time": "2024-07-06T12:35:28.275Z"
   },
   {
    "duration": 1816,
    "start_time": "2024-07-06T12:35:31.246Z"
   },
   {
    "duration": 494190,
    "start_time": "2024-07-06T12:35:33.064Z"
   },
   {
    "duration": 1947,
    "start_time": "2024-07-06T12:43:47.256Z"
   },
   {
    "duration": 3675,
    "start_time": "2024-07-06T13:05:14.334Z"
   },
   {
    "duration": 1618,
    "start_time": "2024-07-06T13:05:18.011Z"
   },
   {
    "duration": 2418,
    "start_time": "2024-07-06T13:05:19.631Z"
   },
   {
    "duration": 15,
    "start_time": "2024-07-06T13:05:22.051Z"
   },
   {
    "duration": 39,
    "start_time": "2024-07-06T13:05:22.068Z"
   },
   {
    "duration": 27,
    "start_time": "2024-07-06T13:05:22.109Z"
   },
   {
    "duration": 44,
    "start_time": "2024-07-06T13:05:22.137Z"
   },
   {
    "duration": 329,
    "start_time": "2024-07-06T13:05:22.182Z"
   },
   {
    "duration": 242,
    "start_time": "2024-07-06T13:05:22.513Z"
   },
   {
    "duration": 12,
    "start_time": "2024-07-06T13:05:22.758Z"
   },
   {
    "duration": 230,
    "start_time": "2024-07-06T13:05:22.772Z"
   },
   {
    "duration": 93253,
    "start_time": "2024-07-06T13:05:23.004Z"
   },
   {
    "duration": 12573,
    "start_time": "2024-07-06T13:06:56.258Z"
   },
   {
    "duration": 108745,
    "start_time": "2024-07-06T13:07:08.833Z"
   },
   {
    "duration": 68686,
    "start_time": "2024-07-06T13:08:57.580Z"
   },
   {
    "duration": 28,
    "start_time": "2024-07-06T13:10:06.268Z"
   },
   {
    "duration": 1394,
    "start_time": "2024-07-06T13:10:06.298Z"
   },
   {
    "duration": 41974,
    "start_time": "2024-07-06T13:10:07.693Z"
   },
   {
    "duration": 77503,
    "start_time": "2024-07-06T13:10:49.670Z"
   },
   {
    "duration": 11,
    "start_time": "2024-07-06T13:12:07.175Z"
   },
   {
    "duration": 213,
    "start_time": "2024-07-06T13:12:07.188Z"
   },
   {
    "duration": 10,
    "start_time": "2024-07-06T13:12:07.403Z"
   },
   {
    "duration": 8,
    "start_time": "2024-07-06T13:12:07.416Z"
   },
   {
    "duration": 10,
    "start_time": "2024-07-06T13:12:07.425Z"
   },
   {
    "duration": 4,
    "start_time": "2024-07-06T13:12:07.436Z"
   },
   {
    "duration": 63,
    "start_time": "2024-07-06T13:12:07.441Z"
   },
   {
    "duration": 37,
    "start_time": "2024-07-06T13:12:07.506Z"
   },
   {
    "duration": 3039,
    "start_time": "2024-07-06T13:12:07.546Z"
   },
   {
    "duration": 4746,
    "start_time": "2024-07-06T13:12:10.587Z"
   },
   {
    "duration": 497630,
    "start_time": "2024-07-06T13:12:15.335Z"
   },
   {
    "duration": 3646,
    "start_time": "2024-07-06T13:20:32.967Z"
   },
   {
    "duration": 56269,
    "start_time": "2024-07-06T13:20:36.615Z"
   },
   {
    "duration": 2023615,
    "start_time": "2024-07-06T13:21:32.886Z"
   },
   {
    "duration": 25,
    "start_time": "2024-07-06T13:55:16.503Z"
   },
   {
    "duration": 3,
    "start_time": "2024-07-06T15:32:48.902Z"
   },
   {
    "duration": 800,
    "start_time": "2024-07-06T15:38:38.597Z"
   },
   {
    "duration": 7977,
    "start_time": "2024-07-06T15:39:43.711Z"
   },
   {
    "duration": 1366,
    "start_time": "2024-07-06T15:42:05.398Z"
   },
   {
    "duration": 21,
    "start_time": "2024-07-06T15:48:30.480Z"
   },
   {
    "duration": 4049,
    "start_time": "2024-07-06T15:51:10.172Z"
   },
   {
    "duration": 22,
    "start_time": "2024-07-06T15:53:48.821Z"
   },
   {
    "duration": 1093,
    "start_time": "2024-07-06T15:54:39.055Z"
   },
   {
    "duration": 3,
    "start_time": "2024-07-06T15:54:57.921Z"
   },
   {
    "duration": 3,
    "start_time": "2024-07-06T15:55:58.084Z"
   },
   {
    "duration": 104,
    "start_time": "2024-07-06T15:55:59.134Z"
   },
   {
    "duration": 21,
    "start_time": "2024-07-06T15:56:00.164Z"
   },
   {
    "duration": 66,
    "start_time": "2024-07-06T15:56:32.221Z"
   },
   {
    "duration": 47,
    "start_time": "2024-07-06T15:56:38.968Z"
   },
   {
    "duration": 3,
    "start_time": "2024-07-06T15:56:43.020Z"
   },
   {
    "duration": 64,
    "start_time": "2024-07-06T15:56:44.485Z"
   },
   {
    "duration": 18501,
    "start_time": "2024-07-06T15:56:46.084Z"
   },
   {
    "duration": 5213,
    "start_time": "2024-07-06T16:02:51.208Z"
   },
   {
    "duration": 7074,
    "start_time": "2024-07-06T16:04:51.141Z"
   },
   {
    "duration": 51,
    "start_time": "2024-07-06T16:05:12.661Z"
   },
   {
    "duration": 10002,
    "start_time": "2024-07-06T16:05:17.179Z"
   },
   {
    "duration": 211,
    "start_time": "2024-07-06T16:05:27.183Z"
   },
   {
    "duration": 3725,
    "start_time": "2024-07-06T16:05:40.345Z"
   },
   {
    "duration": 54,
    "start_time": "2024-07-06T16:05:45.164Z"
   },
   {
    "duration": 2433,
    "start_time": "2024-07-06T16:05:49.017Z"
   },
   {
    "duration": 14,
    "start_time": "2024-07-06T16:05:51.452Z"
   },
   {
    "duration": 35,
    "start_time": "2024-07-06T16:05:55.569Z"
   },
   {
    "duration": 4,
    "start_time": "2024-07-06T16:06:22.804Z"
   },
   {
    "duration": 1142,
    "start_time": "2024-07-06T16:06:24.268Z"
   },
   {
    "duration": 2,
    "start_time": "2024-07-06T16:06:33.211Z"
   },
   {
    "duration": 65,
    "start_time": "2024-07-06T16:06:35.968Z"
   },
   {
    "duration": 13727,
    "start_time": "2024-07-06T16:06:38.288Z"
   },
   {
    "duration": 802,
    "start_time": "2024-07-06T16:06:55.986Z"
   },
   {
    "duration": 6189,
    "start_time": "2024-07-06T16:10:59.016Z"
   },
   {
    "duration": 89,
    "start_time": "2024-07-06T16:12:23.052Z"
   },
   {
    "duration": 5189,
    "start_time": "2024-07-06T16:12:51.026Z"
   },
   {
    "duration": 1033,
    "start_time": "2024-07-06T16:14:31.824Z"
   },
   {
    "duration": 594,
    "start_time": "2024-07-06T16:16:00.954Z"
   },
   {
    "duration": 25,
    "start_time": "2024-07-06T16:17:43.769Z"
   },
   {
    "duration": 6459,
    "start_time": "2024-07-06T16:18:04.600Z"
   },
   {
    "duration": 60,
    "start_time": "2024-07-06T16:18:13.880Z"
   },
   {
    "duration": 16371,
    "start_time": "2024-07-06T16:18:21.035Z"
   },
   {
    "duration": 19,
    "start_time": "2024-07-06T16:19:07.110Z"
   },
   {
    "duration": 5795,
    "start_time": "2024-07-06T16:20:48.972Z"
   },
   {
    "duration": 8020,
    "start_time": "2024-07-06T16:22:14.003Z"
   },
   {
    "duration": 26,
    "start_time": "2024-07-06T16:23:41.439Z"
   },
   {
    "duration": 27,
    "start_time": "2024-07-06T16:23:53.076Z"
   },
   {
    "duration": 5,
    "start_time": "2024-07-06T16:24:00.480Z"
   },
   {
    "duration": 6,
    "start_time": "2024-07-06T16:24:04.549Z"
   },
   {
    "duration": 7708,
    "start_time": "2024-07-06T16:24:42.002Z"
   },
   {
    "duration": 51833,
    "start_time": "2024-07-06T16:25:38.156Z"
   },
   {
    "duration": 8407,
    "start_time": "2024-07-06T16:27:20.436Z"
   },
   {
    "duration": 4830,
    "start_time": "2024-07-06T16:27:59.559Z"
   },
   {
    "duration": 12,
    "start_time": "2024-07-06T16:28:58.152Z"
   },
   {
    "duration": 3606,
    "start_time": "2024-07-06T17:22:50.735Z"
   },
   {
    "duration": 1757,
    "start_time": "2024-07-06T17:22:54.343Z"
   },
   {
    "duration": 2407,
    "start_time": "2024-07-06T17:22:56.101Z"
   },
   {
    "duration": 11,
    "start_time": "2024-07-06T17:22:58.510Z"
   },
   {
    "duration": 32,
    "start_time": "2024-07-06T17:22:58.522Z"
   },
   {
    "duration": 27,
    "start_time": "2024-07-06T17:22:58.556Z"
   },
   {
    "duration": 33,
    "start_time": "2024-07-06T17:22:58.585Z"
   },
   {
    "duration": 352,
    "start_time": "2024-07-06T17:22:58.619Z"
   },
   {
    "duration": 251,
    "start_time": "2024-07-06T17:22:58.972Z"
   },
   {
    "duration": 13,
    "start_time": "2024-07-06T17:22:59.226Z"
   },
   {
    "duration": 249,
    "start_time": "2024-07-06T17:22:59.240Z"
   },
   {
    "duration": 91894,
    "start_time": "2024-07-06T17:22:59.491Z"
   },
   {
    "duration": 12115,
    "start_time": "2024-07-06T17:24:31.386Z"
   },
   {
    "duration": 109378,
    "start_time": "2024-07-06T17:24:43.502Z"
   },
   {
    "duration": 67297,
    "start_time": "2024-07-06T17:26:32.881Z"
   },
   {
    "duration": 26,
    "start_time": "2024-07-06T17:27:40.180Z"
   },
   {
    "duration": 1347,
    "start_time": "2024-07-06T17:27:40.208Z"
   },
   {
    "duration": 42221,
    "start_time": "2024-07-06T17:27:41.557Z"
   },
   {
    "duration": 75471,
    "start_time": "2024-07-06T17:28:23.781Z"
   },
   {
    "duration": 17,
    "start_time": "2024-07-06T17:29:39.254Z"
   },
   {
    "duration": 952305,
    "start_time": "2024-07-06T17:29:39.272Z"
   },
   {
    "duration": 23515,
    "start_time": "2024-07-06T17:45:31.579Z"
   },
   {
    "duration": 1185231,
    "start_time": "2024-07-06T17:45:55.096Z"
   },
   {
    "duration": 19535,
    "start_time": "2024-07-06T18:05:40.329Z"
   },
   {
    "duration": 320099,
    "start_time": "2024-07-06T18:05:59.866Z"
   },
   {
    "duration": 1421,
    "start_time": "2024-07-06T18:11:19.967Z"
   },
   {
    "duration": 22565,
    "start_time": "2024-07-06T18:17:10.982Z"
   },
   {
    "duration": 962388,
    "start_time": "2024-07-06T18:18:34.289Z"
   },
   {
    "duration": 5061,
    "start_time": "2024-07-07T10:51:57.944Z"
   },
   {
    "duration": 1850,
    "start_time": "2024-07-07T10:52:04.239Z"
   },
   {
    "duration": 2462,
    "start_time": "2024-07-07T10:52:09.451Z"
   },
   {
    "duration": 11,
    "start_time": "2024-07-07T10:52:13.550Z"
   },
   {
    "duration": 31,
    "start_time": "2024-07-07T10:52:14.544Z"
   },
   {
    "duration": 20,
    "start_time": "2024-07-07T10:52:15.563Z"
   },
   {
    "duration": 27,
    "start_time": "2024-07-07T10:52:17.448Z"
   },
   {
    "duration": 288,
    "start_time": "2024-07-07T10:52:21.038Z"
   },
   {
    "duration": 224,
    "start_time": "2024-07-07T10:52:24.252Z"
   },
   {
    "duration": 12,
    "start_time": "2024-07-07T10:52:25.494Z"
   },
   {
    "duration": 207,
    "start_time": "2024-07-07T10:52:26.700Z"
   },
   {
    "duration": 1147803,
    "start_time": "2024-07-07T10:52:35.727Z"
   },
   {
    "duration": 3702,
    "start_time": "2024-07-07T11:11:59.447Z"
   },
   {
    "duration": 5,
    "start_time": "2024-07-07T11:12:04.134Z"
   },
   {
    "duration": 865,
    "start_time": "2024-07-07T11:12:08.626Z"
   },
   {
    "duration": 8,
    "start_time": "2024-07-07T11:12:09.493Z"
   },
   {
    "duration": 32,
    "start_time": "2024-07-07T11:12:09.831Z"
   },
   {
    "duration": 20,
    "start_time": "2024-07-07T11:12:10.720Z"
   },
   {
    "duration": 27,
    "start_time": "2024-07-07T11:12:11.585Z"
   },
   {
    "duration": 289,
    "start_time": "2024-07-07T11:12:13.229Z"
   },
   {
    "duration": 231,
    "start_time": "2024-07-07T11:12:14.916Z"
   },
   {
    "duration": 13,
    "start_time": "2024-07-07T11:12:15.928Z"
   },
   {
    "duration": 128,
    "start_time": "2024-07-07T11:12:17.932Z"
   },
   {
    "duration": 92,
    "start_time": "2024-07-07T11:13:58.144Z"
   },
   {
    "duration": 89,
    "start_time": "2024-07-07T11:14:16.311Z"
   },
   {
    "duration": 59,
    "start_time": "2024-07-07T11:14:48.038Z"
   },
   {
    "duration": 48,
    "start_time": "2024-07-07T11:15:07.571Z"
   },
   {
    "duration": 6,
    "start_time": "2024-07-07T11:15:26.039Z"
   },
   {
    "duration": 16,
    "start_time": "2024-07-07T11:15:28.361Z"
   },
   {
    "duration": 13,
    "start_time": "2024-07-07T11:16:03.210Z"
   },
   {
    "duration": 3,
    "start_time": "2024-07-07T11:16:37.708Z"
   },
   {
    "duration": 10,
    "start_time": "2024-07-07T11:16:39.212Z"
   },
   {
    "duration": 4,
    "start_time": "2024-07-07T11:16:59.420Z"
   },
   {
    "duration": 5,
    "start_time": "2024-07-07T11:17:00.615Z"
   },
   {
    "duration": 4,
    "start_time": "2024-07-07T11:17:04.491Z"
   },
   {
    "duration": 56,
    "start_time": "2024-07-07T11:17:08.280Z"
   },
   {
    "duration": 75124,
    "start_time": "2024-07-07T11:17:16.276Z"
   },
   {
    "duration": 6,
    "start_time": "2024-07-07T11:23:41.827Z"
   },
   {
    "duration": 789762,
    "start_time": "2024-07-07T11:23:48.213Z"
   },
   {
    "duration": 10366,
    "start_time": "2024-07-07T11:37:09.825Z"
   },
   {
    "duration": 91323,
    "start_time": "2024-07-07T11:37:27.934Z"
   },
   {
    "duration": 85000,
    "start_time": "2024-07-07T11:41:01.560Z"
   },
   {
    "duration": 5563,
    "start_time": "2024-07-07T14:08:29.455Z"
   },
   {
    "duration": 2515,
    "start_time": "2024-07-07T14:08:35.020Z"
   },
   {
    "duration": 3374,
    "start_time": "2024-07-07T14:08:37.537Z"
   },
   {
    "duration": 12,
    "start_time": "2024-07-07T14:08:40.913Z"
   },
   {
    "duration": 48,
    "start_time": "2024-07-07T14:08:40.926Z"
   },
   {
    "duration": 34,
    "start_time": "2024-07-07T14:08:40.976Z"
   },
   {
    "duration": 28,
    "start_time": "2024-07-07T14:08:41.012Z"
   },
   {
    "duration": 341,
    "start_time": "2024-07-07T14:08:41.042Z"
   },
   {
    "duration": 246,
    "start_time": "2024-07-07T14:08:41.384Z"
   },
   {
    "duration": 12,
    "start_time": "2024-07-07T14:08:41.634Z"
   },
   {
    "duration": 233,
    "start_time": "2024-07-07T14:08:41.648Z"
   },
   {
    "duration": 13,
    "start_time": "2024-07-07T14:08:41.883Z"
   },
   {
    "duration": 249,
    "start_time": "2024-07-07T14:08:41.903Z"
   },
   {
    "duration": 4,
    "start_time": "2024-07-07T14:08:42.154Z"
   },
   {
    "duration": 46,
    "start_time": "2024-07-07T14:08:42.160Z"
   },
   {
    "duration": 430,
    "start_time": "2024-07-07T14:08:42.212Z"
   },
   {
    "duration": 0,
    "start_time": "2024-07-07T14:08:42.644Z"
   },
   {
    "duration": 0,
    "start_time": "2024-07-07T14:08:42.645Z"
   },
   {
    "duration": 1,
    "start_time": "2024-07-07T14:08:42.647Z"
   },
   {
    "duration": 0,
    "start_time": "2024-07-07T14:08:42.649Z"
   },
   {
    "duration": 0,
    "start_time": "2024-07-07T14:08:42.651Z"
   },
   {
    "duration": 0,
    "start_time": "2024-07-07T14:08:42.652Z"
   },
   {
    "duration": 0,
    "start_time": "2024-07-07T14:08:42.654Z"
   },
   {
    "duration": 0,
    "start_time": "2024-07-07T14:08:42.655Z"
   },
   {
    "duration": 0,
    "start_time": "2024-07-07T14:08:42.657Z"
   },
   {
    "duration": 0,
    "start_time": "2024-07-07T14:08:42.659Z"
   },
   {
    "duration": 0,
    "start_time": "2024-07-07T14:08:42.660Z"
   },
   {
    "duration": 0,
    "start_time": "2024-07-07T14:08:42.662Z"
   },
   {
    "duration": 0,
    "start_time": "2024-07-07T14:08:42.663Z"
   },
   {
    "duration": 0,
    "start_time": "2024-07-07T14:08:42.665Z"
   },
   {
    "duration": 0,
    "start_time": "2024-07-07T14:08:42.666Z"
   },
   {
    "duration": 216,
    "start_time": "2024-07-07T14:09:09.108Z"
   },
   {
    "duration": 3777,
    "start_time": "2024-07-07T14:09:55.356Z"
   },
   {
    "duration": 1738,
    "start_time": "2024-07-07T14:09:59.135Z"
   },
   {
    "duration": 966,
    "start_time": "2024-07-07T14:10:00.875Z"
   },
   {
    "duration": 13,
    "start_time": "2024-07-07T14:10:01.843Z"
   },
   {
    "duration": 73,
    "start_time": "2024-07-07T14:10:01.857Z"
   },
   {
    "duration": 22,
    "start_time": "2024-07-07T14:10:01.932Z"
   },
   {
    "duration": 43,
    "start_time": "2024-07-07T14:10:01.956Z"
   },
   {
    "duration": 433,
    "start_time": "2024-07-07T14:10:02.003Z"
   },
   {
    "duration": 249,
    "start_time": "2024-07-07T14:10:02.438Z"
   },
   {
    "duration": 12,
    "start_time": "2024-07-07T14:10:02.702Z"
   },
   {
    "duration": 231,
    "start_time": "2024-07-07T14:10:02.716Z"
   },
   {
    "duration": 3,
    "start_time": "2024-07-07T14:10:02.949Z"
   },
   {
    "duration": 218,
    "start_time": "2024-07-07T14:10:02.954Z"
   },
   {
    "duration": 4,
    "start_time": "2024-07-07T14:10:03.173Z"
   },
   {
    "duration": 37,
    "start_time": "2024-07-07T14:10:03.179Z"
   },
   {
    "duration": 396,
    "start_time": "2024-07-07T14:10:03.218Z"
   },
   {
    "duration": 0,
    "start_time": "2024-07-07T14:10:03.616Z"
   },
   {
    "duration": 0,
    "start_time": "2024-07-07T14:10:03.617Z"
   },
   {
    "duration": 0,
    "start_time": "2024-07-07T14:10:03.620Z"
   },
   {
    "duration": 0,
    "start_time": "2024-07-07T14:10:03.621Z"
   },
   {
    "duration": 0,
    "start_time": "2024-07-07T14:10:03.622Z"
   },
   {
    "duration": 0,
    "start_time": "2024-07-07T14:10:03.624Z"
   },
   {
    "duration": 0,
    "start_time": "2024-07-07T14:10:03.626Z"
   },
   {
    "duration": 0,
    "start_time": "2024-07-07T14:10:03.627Z"
   },
   {
    "duration": 0,
    "start_time": "2024-07-07T14:10:03.629Z"
   },
   {
    "duration": 0,
    "start_time": "2024-07-07T14:10:03.630Z"
   },
   {
    "duration": 0,
    "start_time": "2024-07-07T14:10:03.632Z"
   },
   {
    "duration": 0,
    "start_time": "2024-07-07T14:10:03.633Z"
   },
   {
    "duration": 0,
    "start_time": "2024-07-07T14:10:03.635Z"
   },
   {
    "duration": 0,
    "start_time": "2024-07-07T14:10:03.637Z"
   },
   {
    "duration": 0,
    "start_time": "2024-07-07T14:10:03.638Z"
   },
   {
    "duration": 3765,
    "start_time": "2024-07-07T14:12:34.485Z"
   },
   {
    "duration": 1678,
    "start_time": "2024-07-07T14:12:38.253Z"
   },
   {
    "duration": 954,
    "start_time": "2024-07-07T14:12:39.933Z"
   },
   {
    "duration": 22,
    "start_time": "2024-07-07T14:12:40.889Z"
   },
   {
    "duration": 32,
    "start_time": "2024-07-07T14:12:40.913Z"
   },
   {
    "duration": 20,
    "start_time": "2024-07-07T14:12:40.947Z"
   },
   {
    "duration": 43,
    "start_time": "2024-07-07T14:12:40.969Z"
   },
   {
    "duration": 372,
    "start_time": "2024-07-07T14:12:41.014Z"
   },
   {
    "duration": 252,
    "start_time": "2024-07-07T14:12:41.392Z"
   },
   {
    "duration": 11,
    "start_time": "2024-07-07T14:12:41.646Z"
   },
   {
    "duration": 257,
    "start_time": "2024-07-07T14:12:41.659Z"
   },
   {
    "duration": 4,
    "start_time": "2024-07-07T14:12:41.918Z"
   },
   {
    "duration": 149,
    "start_time": "2024-07-07T14:12:41.924Z"
   },
   {
    "duration": 4,
    "start_time": "2024-07-07T14:12:42.075Z"
   },
   {
    "duration": 22,
    "start_time": "2024-07-07T14:12:42.080Z"
   },
   {
    "duration": 351,
    "start_time": "2024-07-07T14:12:42.108Z"
   },
   {
    "duration": 0,
    "start_time": "2024-07-07T14:12:42.461Z"
   },
   {
    "duration": 0,
    "start_time": "2024-07-07T14:12:42.462Z"
   },
   {
    "duration": 0,
    "start_time": "2024-07-07T14:12:42.464Z"
   },
   {
    "duration": 0,
    "start_time": "2024-07-07T14:12:42.465Z"
   },
   {
    "duration": 0,
    "start_time": "2024-07-07T14:12:42.467Z"
   },
   {
    "duration": 0,
    "start_time": "2024-07-07T14:12:42.468Z"
   },
   {
    "duration": 0,
    "start_time": "2024-07-07T14:12:42.470Z"
   },
   {
    "duration": 0,
    "start_time": "2024-07-07T14:12:42.471Z"
   },
   {
    "duration": 0,
    "start_time": "2024-07-07T14:12:42.473Z"
   },
   {
    "duration": 0,
    "start_time": "2024-07-07T14:12:42.474Z"
   },
   {
    "duration": 0,
    "start_time": "2024-07-07T14:12:42.476Z"
   },
   {
    "duration": 0,
    "start_time": "2024-07-07T14:12:42.477Z"
   },
   {
    "duration": 0,
    "start_time": "2024-07-07T14:12:42.478Z"
   },
   {
    "duration": 0,
    "start_time": "2024-07-07T14:12:42.480Z"
   },
   {
    "duration": 0,
    "start_time": "2024-07-07T14:12:42.480Z"
   },
   {
    "duration": 3936,
    "start_time": "2024-07-07T14:14:48.412Z"
   },
   {
    "duration": 1687,
    "start_time": "2024-07-07T14:14:52.351Z"
   },
   {
    "duration": 997,
    "start_time": "2024-07-07T14:14:54.040Z"
   },
   {
    "duration": 11,
    "start_time": "2024-07-07T14:14:55.039Z"
   },
   {
    "duration": 67,
    "start_time": "2024-07-07T14:14:55.051Z"
   },
   {
    "duration": 23,
    "start_time": "2024-07-07T14:14:55.120Z"
   },
   {
    "duration": 29,
    "start_time": "2024-07-07T14:14:55.145Z"
   },
   {
    "duration": 393,
    "start_time": "2024-07-07T14:14:55.176Z"
   },
   {
    "duration": 297,
    "start_time": "2024-07-07T14:14:55.571Z"
   },
   {
    "duration": 12,
    "start_time": "2024-07-07T14:14:55.871Z"
   },
   {
    "duration": 260,
    "start_time": "2024-07-07T14:14:55.904Z"
   },
   {
    "duration": 4,
    "start_time": "2024-07-07T14:14:56.165Z"
   },
   {
    "duration": 152,
    "start_time": "2024-07-07T14:14:56.170Z"
   },
   {
    "duration": 5,
    "start_time": "2024-07-07T14:14:56.324Z"
   },
   {
    "duration": 345,
    "start_time": "2024-07-07T14:14:56.331Z"
   },
   {
    "duration": 0,
    "start_time": "2024-07-07T14:14:56.677Z"
   },
   {
    "duration": 0,
    "start_time": "2024-07-07T14:14:56.679Z"
   },
   {
    "duration": 0,
    "start_time": "2024-07-07T14:14:56.680Z"
   },
   {
    "duration": 0,
    "start_time": "2024-07-07T14:14:56.681Z"
   },
   {
    "duration": 0,
    "start_time": "2024-07-07T14:14:56.682Z"
   },
   {
    "duration": 0,
    "start_time": "2024-07-07T14:14:56.684Z"
   },
   {
    "duration": 0,
    "start_time": "2024-07-07T14:14:56.685Z"
   },
   {
    "duration": 0,
    "start_time": "2024-07-07T14:14:56.686Z"
   },
   {
    "duration": 0,
    "start_time": "2024-07-07T14:14:56.687Z"
   },
   {
    "duration": 0,
    "start_time": "2024-07-07T14:14:56.688Z"
   },
   {
    "duration": 0,
    "start_time": "2024-07-07T14:14:56.689Z"
   },
   {
    "duration": 0,
    "start_time": "2024-07-07T14:14:56.690Z"
   },
   {
    "duration": 0,
    "start_time": "2024-07-07T14:14:56.691Z"
   },
   {
    "duration": 0,
    "start_time": "2024-07-07T14:14:56.692Z"
   },
   {
    "duration": 0,
    "start_time": "2024-07-07T14:14:56.693Z"
   },
   {
    "duration": 5,
    "start_time": "2024-07-07T14:15:34.225Z"
   },
   {
    "duration": 244,
    "start_time": "2024-07-07T14:15:42.855Z"
   },
   {
    "duration": 39993,
    "start_time": "2024-07-07T14:16:47.502Z"
   },
   {
    "duration": 12,
    "start_time": "2024-07-07T14:17:39.196Z"
   },
   {
    "duration": 5,
    "start_time": "2024-07-07T14:17:49.533Z"
   },
   {
    "duration": 4051,
    "start_time": "2024-07-07T14:23:03.019Z"
   },
   {
    "duration": 1765,
    "start_time": "2024-07-07T14:23:07.072Z"
   },
   {
    "duration": 947,
    "start_time": "2024-07-07T14:23:08.839Z"
   },
   {
    "duration": 22,
    "start_time": "2024-07-07T14:23:09.791Z"
   },
   {
    "duration": 50,
    "start_time": "2024-07-07T14:23:09.817Z"
   },
   {
    "duration": 30,
    "start_time": "2024-07-07T14:23:09.869Z"
   },
   {
    "duration": 31,
    "start_time": "2024-07-07T14:23:09.901Z"
   },
   {
    "duration": 429,
    "start_time": "2024-07-07T14:23:09.934Z"
   },
   {
    "duration": 261,
    "start_time": "2024-07-07T14:23:10.364Z"
   },
   {
    "duration": 11,
    "start_time": "2024-07-07T14:23:10.627Z"
   },
   {
    "duration": 279,
    "start_time": "2024-07-07T14:23:10.640Z"
   },
   {
    "duration": 4,
    "start_time": "2024-07-07T14:23:10.921Z"
   },
   {
    "duration": 262,
    "start_time": "2024-07-07T14:23:10.927Z"
   },
   {
    "duration": 14,
    "start_time": "2024-07-07T14:23:11.195Z"
   },
   {
    "duration": 823568,
    "start_time": "2024-07-07T14:23:11.211Z"
   },
   {
    "duration": 10471,
    "start_time": "2024-07-07T14:36:54.781Z"
   },
   {
    "duration": 94240,
    "start_time": "2024-07-07T14:37:05.253Z"
   },
   {
    "duration": 81604,
    "start_time": "2024-07-07T14:38:39.494Z"
   },
   {
    "duration": 49,
    "start_time": "2024-07-07T14:40:01.100Z"
   },
   {
    "duration": 1270,
    "start_time": "2024-07-07T14:40:01.151Z"
   },
   {
    "duration": 40470,
    "start_time": "2024-07-07T14:40:02.423Z"
   },
   {
    "duration": 98400,
    "start_time": "2024-07-07T14:40:42.895Z"
   },
   {
    "duration": 10,
    "start_time": "2024-07-07T14:42:21.297Z"
   },
   {
    "duration": 958907,
    "start_time": "2024-07-07T14:42:21.309Z"
   },
   {
    "duration": 42399,
    "start_time": "2024-07-07T14:58:20.219Z"
   },
   {
    "duration": 1267533,
    "start_time": "2024-07-07T14:59:02.693Z"
   },
   {
    "duration": 22103,
    "start_time": "2024-07-07T15:20:10.229Z"
   },
   {
    "duration": 374272,
    "start_time": "2024-07-07T15:20:32.335Z"
   },
   {
    "duration": 2115,
    "start_time": "2024-07-07T15:26:46.611Z"
   },
   {
    "duration": 45446,
    "start_time": "2024-07-07T15:26:48.728Z"
   },
   {
    "duration": 4554,
    "start_time": "2024-07-07T15:29:15.215Z"
   },
   {
    "duration": 2146,
    "start_time": "2024-07-07T15:29:19.772Z"
   },
   {
    "duration": 1238,
    "start_time": "2024-07-07T15:29:21.920Z"
   },
   {
    "duration": 20,
    "start_time": "2024-07-07T15:29:23.161Z"
   },
   {
    "duration": 56,
    "start_time": "2024-07-07T15:29:23.183Z"
   },
   {
    "duration": 37,
    "start_time": "2024-07-07T15:29:23.243Z"
   },
   {
    "duration": 48,
    "start_time": "2024-07-07T15:29:23.282Z"
   },
   {
    "duration": 511,
    "start_time": "2024-07-07T15:29:23.333Z"
   },
   {
    "duration": 341,
    "start_time": "2024-07-07T15:29:23.847Z"
   },
   {
    "duration": 30,
    "start_time": "2024-07-07T15:29:24.196Z"
   },
   {
    "duration": 270,
    "start_time": "2024-07-07T15:29:24.228Z"
   },
   {
    "duration": 11,
    "start_time": "2024-07-07T15:29:24.501Z"
   },
   {
    "duration": 174,
    "start_time": "2024-07-07T15:29:24.514Z"
   },
   {
    "duration": 19,
    "start_time": "2024-07-07T15:29:24.691Z"
   },
   {
    "duration": 971439,
    "start_time": "2024-07-07T15:29:24.712Z"
   },
   {
    "duration": 6001,
    "start_time": "2024-07-07T15:45:36.154Z"
   },
   {
    "duration": 108054,
    "start_time": "2024-07-07T15:45:42.157Z"
   },
   {
    "duration": 74696,
    "start_time": "2024-07-07T15:47:30.213Z"
   },
   {
    "duration": 80,
    "start_time": "2024-07-07T15:48:44.911Z"
   },
   {
    "duration": 1426,
    "start_time": "2024-07-07T15:48:44.993Z"
   },
   {
    "duration": 33673,
    "start_time": "2024-07-07T15:48:46.421Z"
   },
   {
    "duration": 98596,
    "start_time": "2024-07-07T15:49:20.095Z"
   },
   {
    "duration": 10,
    "start_time": "2024-07-07T15:50:58.693Z"
   },
   {
    "duration": 517097,
    "start_time": "2024-07-07T15:50:58.705Z"
   },
   {
    "duration": 44598,
    "start_time": "2024-07-07T15:59:35.809Z"
   },
   {
    "duration": 1392387,
    "start_time": "2024-07-07T16:00:20.410Z"
   },
   {
    "duration": 20656,
    "start_time": "2024-07-07T16:23:32.803Z"
   },
   {
    "duration": 201183,
    "start_time": "2024-07-07T16:23:53.463Z"
   },
   {
    "duration": 1874,
    "start_time": "2024-07-07T16:27:14.648Z"
   },
   {
    "duration": 47708,
    "start_time": "2024-07-07T16:27:16.524Z"
   },
   {
    "duration": 86650,
    "start_time": "2024-07-07T16:28:04.235Z"
   },
   {
    "duration": 72,
    "start_time": "2024-07-07T16:29:30.890Z"
   },
   {
    "duration": 4330,
    "start_time": "2024-07-07T16:35:10.135Z"
   },
   {
    "duration": 1820,
    "start_time": "2024-07-07T16:35:14.468Z"
   },
   {
    "duration": 1053,
    "start_time": "2024-07-07T16:35:16.289Z"
   },
   {
    "duration": 13,
    "start_time": "2024-07-07T16:35:17.344Z"
   },
   {
    "duration": 60,
    "start_time": "2024-07-07T16:35:17.359Z"
   },
   {
    "duration": 31,
    "start_time": "2024-07-07T16:35:17.421Z"
   },
   {
    "duration": 46,
    "start_time": "2024-07-07T16:35:17.454Z"
   },
   {
    "duration": 438,
    "start_time": "2024-07-07T16:35:17.502Z"
   },
   {
    "duration": 283,
    "start_time": "2024-07-07T16:35:17.942Z"
   },
   {
    "duration": 11,
    "start_time": "2024-07-07T16:35:18.228Z"
   },
   {
    "duration": 268,
    "start_time": "2024-07-07T16:35:18.242Z"
   },
   {
    "duration": 4,
    "start_time": "2024-07-07T16:35:18.512Z"
   },
   {
    "duration": 250,
    "start_time": "2024-07-07T16:35:18.518Z"
   },
   {
    "duration": 6,
    "start_time": "2024-07-07T16:35:18.770Z"
   },
   {
    "duration": 875046,
    "start_time": "2024-07-07T16:35:18.777Z"
   },
   {
    "duration": 5512,
    "start_time": "2024-07-07T16:49:53.825Z"
   },
   {
    "duration": 104467,
    "start_time": "2024-07-07T16:49:59.339Z"
   },
   {
    "duration": 72683,
    "start_time": "2024-07-07T16:51:43.813Z"
   },
   {
    "duration": 77155,
    "start_time": "2024-07-07T16:52:56.498Z"
   },
   {
    "duration": 11,
    "start_time": "2024-07-07T16:54:13.654Z"
   },
   {
    "duration": 507440,
    "start_time": "2024-07-07T16:54:13.666Z"
   },
   {
    "duration": 44510,
    "start_time": "2024-07-07T17:02:41.108Z"
   },
   {
    "duration": 1270031,
    "start_time": "2024-07-07T17:03:25.620Z"
   },
   {
    "duration": 20621,
    "start_time": "2024-07-07T17:24:35.653Z"
   },
   {
    "duration": 80948,
    "start_time": "2024-07-07T17:24:56.277Z"
   },
   {
    "duration": 54,
    "start_time": "2024-07-07T17:26:17.226Z"
   },
   {
    "duration": 44505,
    "start_time": "2024-07-07T17:26:17.281Z"
   },
   {
    "duration": 179661,
    "start_time": "2024-07-07T17:27:01.800Z"
   },
   {
    "duration": 1848,
    "start_time": "2024-07-07T17:30:01.463Z"
   }
  ],
  "kernelspec": {
   "display_name": "Python 3 (ipykernel)",
   "language": "python",
   "name": "python3"
  },
  "language_info": {
   "codemirror_mode": {
    "name": "ipython",
    "version": 3
   },
   "file_extension": ".py",
   "mimetype": "text/x-python",
   "name": "python",
   "nbconvert_exporter": "python",
   "pygments_lexer": "ipython3",
   "version": "3.9.5"
  },
  "toc": {
   "base_numbering": 1,
   "nav_menu": {},
   "number_sections": true,
   "sideBar": true,
   "skip_h1_title": true,
   "title_cell": "Содержание",
   "title_sidebar": "Contents",
   "toc_cell": true,
   "toc_position": {
    "height": "calc(100% - 180px)",
    "left": "10px",
    "top": "150px",
    "width": "302.391px"
   },
   "toc_section_display": true,
   "toc_window_display": false
  }
 },
 "nbformat": 4,
 "nbformat_minor": 2
}
