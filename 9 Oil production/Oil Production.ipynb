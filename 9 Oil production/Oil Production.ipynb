{
 "cells": [
  {
   "cell_type": "markdown",
   "metadata": {},
   "source": [
    "# Выбор локации для скважины"
   ]
  },
  {
   "cell_type": "markdown",
   "metadata": {},
   "source": [
    "Допустим, вы работаете в добывающей компании «ГлавРосГосНефть». Нужно решить, где бурить новую скважину.\n",
    "\n",
    "Вам предоставлены пробы нефти в трёх регионах: в каждом 10 000 месторождений, где измерили качество нефти и объём её запасов. Постройте модель машинного обучения, которая поможет определить регион, где добыча принесёт наибольшую прибыль. Проанализируйте возможную прибыль и риски техникой *Bootstrap.*\n",
    "\n",
    "Шаги для выбора локации:\n",
    "\n",
    "- В избранном регионе ищут месторождения, для каждого определяют значения признаков;\n",
    "- Строят модель и оценивают объём запасов;\n",
    "- Выбирают месторождения с самым высокими оценками значений. Количество месторождений зависит от бюджета компании и стоимости разработки одной скважины;\n",
    "- Прибыль равна суммарной прибыли отобранных месторождений."
   ]
  },
  {
   "cell_type": "markdown",
   "metadata": {},
   "source": [
    "# План работы"
   ]
  },
  {
   "cell_type": "markdown",
   "metadata": {},
   "source": [
    " - Установка и импорт необходимых библиотек;\n",
    " - Первичный осмотр данных;\n",
    " - Подготовить данные и обучить модель;\n",
    " - Получить предсказания запаса нефти по каждому региону;\n",
    " - Составить функцию расчета прибыли и вероятности убытков и применить её к каждому региону;\n",
    " - Итоговые выводы.\n",
    " "
   ]
  },
  {
   "cell_type": "markdown",
   "metadata": {},
   "source": [
    "# Импорт библиотек"
   ]
  },
  {
   "cell_type": "code",
   "execution_count": 1,
   "metadata": {},
   "outputs": [],
   "source": [
    "import pandas as pd\n",
    "from sklearn.model_selection import train_test_split\n",
    "from sklearn.linear_model import LinearRegression\n",
    "from sklearn.metrics import mean_squared_error\n",
    "from sklearn.preprocessing import StandardScaler\n",
    "import numpy as np\n",
    "import matplotlib.pyplot as plt\n",
    "import seaborn as sns"
   ]
  },
  {
   "cell_type": "markdown",
   "metadata": {},
   "source": [
    "## Загрузка и осмотр данных"
   ]
  },
  {
   "cell_type": "markdown",
   "metadata": {},
   "source": [
    "### Загрузка данных"
   ]
  },
  {
   "cell_type": "code",
   "execution_count": 2,
   "metadata": {},
   "outputs": [
    {
     "name": "stdout",
     "output_type": "stream",
     "text": [
      "Данные успешно загружены\n"
     ]
    }
   ],
   "source": [
    "try:\n",
    "    df_1 = pd.read_csv('/datasets/geo_data_0.csv')\n",
    "    df_2 = pd.read_csv('/datasets/geo_data_1.csv')\n",
    "    df_3 = pd.read_csv('/datasets/geo_data_2.csv')\n",
    "except (FileNotFoundError, OSError) as e:\n",
    "    try:\n",
    "        df_1 = pd.read_csv(\"C://Users/rdl_b/OneDrive/Рабочий стол/python/Yandex Practicum/Загрузка проектов/Проект 9/geo_data_0.csv\")\n",
    "        df_2 = pd.read_csv(\"C://Users/rdl_b/OneDrive/Рабочий стол/python/Yandex Practicum/Загрузка проектов/Проект 9/geo_data_1.csv\")\n",
    "        df_3 = pd.read_csv(\"C://Users/rdl_b/OneDrive/Рабочий стол/python/Yandex Practicum/Загрузка проектов/Проект 9/geo_data_2.csv\")\n",
    "    except (FileNotFoundError, OSError):\n",
    "        print(\"Ошибка: не удалось загрузить данные\")\n",
    "else:\n",
    "    print(\"Данные успешно загружены\")"
   ]
  },
  {
   "cell_type": "markdown",
   "metadata": {},
   "source": [
    "### Осмотр данных"
   ]
  },
  {
   "cell_type": "code",
   "execution_count": 3,
   "metadata": {},
   "outputs": [
    {
     "name": "stdout",
     "output_type": "stream",
     "text": [
      "\n",
      "Выводим инфо о дф df_1:\n",
      "<class 'pandas.core.frame.DataFrame'>\n",
      "RangeIndex: 100000 entries, 0 to 99999\n",
      "Data columns (total 5 columns):\n",
      " #   Column   Non-Null Count   Dtype  \n",
      "---  ------   --------------   -----  \n",
      " 0   id       100000 non-null  object \n",
      " 1   f0       100000 non-null  float64\n",
      " 2   f1       100000 non-null  float64\n",
      " 3   f2       100000 non-null  float64\n",
      " 4   product  100000 non-null  float64\n",
      "dtypes: float64(4), object(1)\n",
      "memory usage: 3.8+ MB\n",
      "\n",
      "Количество дубликатов в дф df_1: 0\n",
      "\n",
      "Выводим 5 строк дф df_1:\n"
     ]
    },
    {
     "data": {
      "text/html": [
       "<div>\n",
       "<style scoped>\n",
       "    .dataframe tbody tr th:only-of-type {\n",
       "        vertical-align: middle;\n",
       "    }\n",
       "\n",
       "    .dataframe tbody tr th {\n",
       "        vertical-align: top;\n",
       "    }\n",
       "\n",
       "    .dataframe thead th {\n",
       "        text-align: right;\n",
       "    }\n",
       "</style>\n",
       "<table border=\"1\" class=\"dataframe\">\n",
       "  <thead>\n",
       "    <tr style=\"text-align: right;\">\n",
       "      <th></th>\n",
       "      <th>id</th>\n",
       "      <th>f0</th>\n",
       "      <th>f1</th>\n",
       "      <th>f2</th>\n",
       "      <th>product</th>\n",
       "    </tr>\n",
       "  </thead>\n",
       "  <tbody>\n",
       "    <tr>\n",
       "      <th>0</th>\n",
       "      <td>txEyH</td>\n",
       "      <td>0.705745</td>\n",
       "      <td>-0.497823</td>\n",
       "      <td>1.221170</td>\n",
       "      <td>105.280062</td>\n",
       "    </tr>\n",
       "    <tr>\n",
       "      <th>1</th>\n",
       "      <td>2acmU</td>\n",
       "      <td>1.334711</td>\n",
       "      <td>-0.340164</td>\n",
       "      <td>4.365080</td>\n",
       "      <td>73.037750</td>\n",
       "    </tr>\n",
       "    <tr>\n",
       "      <th>2</th>\n",
       "      <td>409Wp</td>\n",
       "      <td>1.022732</td>\n",
       "      <td>0.151990</td>\n",
       "      <td>1.419926</td>\n",
       "      <td>85.265647</td>\n",
       "    </tr>\n",
       "    <tr>\n",
       "      <th>3</th>\n",
       "      <td>iJLyR</td>\n",
       "      <td>-0.032172</td>\n",
       "      <td>0.139033</td>\n",
       "      <td>2.978566</td>\n",
       "      <td>168.620776</td>\n",
       "    </tr>\n",
       "    <tr>\n",
       "      <th>4</th>\n",
       "      <td>Xdl7t</td>\n",
       "      <td>1.988431</td>\n",
       "      <td>0.155413</td>\n",
       "      <td>4.751769</td>\n",
       "      <td>154.036647</td>\n",
       "    </tr>\n",
       "  </tbody>\n",
       "</table>\n",
       "</div>"
      ],
      "text/plain": [
       "      id        f0        f1        f2     product\n",
       "0  txEyH  0.705745 -0.497823  1.221170  105.280062\n",
       "1  2acmU  1.334711 -0.340164  4.365080   73.037750\n",
       "2  409Wp  1.022732  0.151990  1.419926   85.265647\n",
       "3  iJLyR -0.032172  0.139033  2.978566  168.620776\n",
       "4  Xdl7t  1.988431  0.155413  4.751769  154.036647"
      ]
     },
     "metadata": {},
     "output_type": "display_data"
    },
    {
     "name": "stdout",
     "output_type": "stream",
     "text": [
      "\n",
      "Выводим инфо о дф df_2:\n",
      "<class 'pandas.core.frame.DataFrame'>\n",
      "RangeIndex: 100000 entries, 0 to 99999\n",
      "Data columns (total 5 columns):\n",
      " #   Column   Non-Null Count   Dtype  \n",
      "---  ------   --------------   -----  \n",
      " 0   id       100000 non-null  object \n",
      " 1   f0       100000 non-null  float64\n",
      " 2   f1       100000 non-null  float64\n",
      " 3   f2       100000 non-null  float64\n",
      " 4   product  100000 non-null  float64\n",
      "dtypes: float64(4), object(1)\n",
      "memory usage: 3.8+ MB\n",
      "\n",
      "Количество дубликатов в дф df_2: 0\n",
      "\n",
      "Выводим 5 строк дф df_2:\n"
     ]
    },
    {
     "data": {
      "text/html": [
       "<div>\n",
       "<style scoped>\n",
       "    .dataframe tbody tr th:only-of-type {\n",
       "        vertical-align: middle;\n",
       "    }\n",
       "\n",
       "    .dataframe tbody tr th {\n",
       "        vertical-align: top;\n",
       "    }\n",
       "\n",
       "    .dataframe thead th {\n",
       "        text-align: right;\n",
       "    }\n",
       "</style>\n",
       "<table border=\"1\" class=\"dataframe\">\n",
       "  <thead>\n",
       "    <tr style=\"text-align: right;\">\n",
       "      <th></th>\n",
       "      <th>id</th>\n",
       "      <th>f0</th>\n",
       "      <th>f1</th>\n",
       "      <th>f2</th>\n",
       "      <th>product</th>\n",
       "    </tr>\n",
       "  </thead>\n",
       "  <tbody>\n",
       "    <tr>\n",
       "      <th>0</th>\n",
       "      <td>kBEdx</td>\n",
       "      <td>-15.001348</td>\n",
       "      <td>-8.276000</td>\n",
       "      <td>-0.005876</td>\n",
       "      <td>3.179103</td>\n",
       "    </tr>\n",
       "    <tr>\n",
       "      <th>1</th>\n",
       "      <td>62mP7</td>\n",
       "      <td>14.272088</td>\n",
       "      <td>-3.475083</td>\n",
       "      <td>0.999183</td>\n",
       "      <td>26.953261</td>\n",
       "    </tr>\n",
       "    <tr>\n",
       "      <th>2</th>\n",
       "      <td>vyE1P</td>\n",
       "      <td>6.263187</td>\n",
       "      <td>-5.948386</td>\n",
       "      <td>5.001160</td>\n",
       "      <td>134.766305</td>\n",
       "    </tr>\n",
       "    <tr>\n",
       "      <th>3</th>\n",
       "      <td>KcrkZ</td>\n",
       "      <td>-13.081196</td>\n",
       "      <td>-11.506057</td>\n",
       "      <td>4.999415</td>\n",
       "      <td>137.945408</td>\n",
       "    </tr>\n",
       "    <tr>\n",
       "      <th>4</th>\n",
       "      <td>AHL4O</td>\n",
       "      <td>12.702195</td>\n",
       "      <td>-8.147433</td>\n",
       "      <td>5.004363</td>\n",
       "      <td>134.766305</td>\n",
       "    </tr>\n",
       "  </tbody>\n",
       "</table>\n",
       "</div>"
      ],
      "text/plain": [
       "      id         f0         f1        f2     product\n",
       "0  kBEdx -15.001348  -8.276000 -0.005876    3.179103\n",
       "1  62mP7  14.272088  -3.475083  0.999183   26.953261\n",
       "2  vyE1P   6.263187  -5.948386  5.001160  134.766305\n",
       "3  KcrkZ -13.081196 -11.506057  4.999415  137.945408\n",
       "4  AHL4O  12.702195  -8.147433  5.004363  134.766305"
      ]
     },
     "metadata": {},
     "output_type": "display_data"
    },
    {
     "name": "stdout",
     "output_type": "stream",
     "text": [
      "\n",
      "Выводим инфо о дф df_3:\n",
      "<class 'pandas.core.frame.DataFrame'>\n",
      "RangeIndex: 100000 entries, 0 to 99999\n",
      "Data columns (total 5 columns):\n",
      " #   Column   Non-Null Count   Dtype  \n",
      "---  ------   --------------   -----  \n",
      " 0   id       100000 non-null  object \n",
      " 1   f0       100000 non-null  float64\n",
      " 2   f1       100000 non-null  float64\n",
      " 3   f2       100000 non-null  float64\n",
      " 4   product  100000 non-null  float64\n",
      "dtypes: float64(4), object(1)\n",
      "memory usage: 3.8+ MB\n",
      "\n",
      "Количество дубликатов в дф df_3: 0\n",
      "\n",
      "Выводим 5 строк дф df_3:\n"
     ]
    },
    {
     "data": {
      "text/html": [
       "<div>\n",
       "<style scoped>\n",
       "    .dataframe tbody tr th:only-of-type {\n",
       "        vertical-align: middle;\n",
       "    }\n",
       "\n",
       "    .dataframe tbody tr th {\n",
       "        vertical-align: top;\n",
       "    }\n",
       "\n",
       "    .dataframe thead th {\n",
       "        text-align: right;\n",
       "    }\n",
       "</style>\n",
       "<table border=\"1\" class=\"dataframe\">\n",
       "  <thead>\n",
       "    <tr style=\"text-align: right;\">\n",
       "      <th></th>\n",
       "      <th>id</th>\n",
       "      <th>f0</th>\n",
       "      <th>f1</th>\n",
       "      <th>f2</th>\n",
       "      <th>product</th>\n",
       "    </tr>\n",
       "  </thead>\n",
       "  <tbody>\n",
       "    <tr>\n",
       "      <th>0</th>\n",
       "      <td>fwXo0</td>\n",
       "      <td>-1.146987</td>\n",
       "      <td>0.963328</td>\n",
       "      <td>-0.828965</td>\n",
       "      <td>27.758673</td>\n",
       "    </tr>\n",
       "    <tr>\n",
       "      <th>1</th>\n",
       "      <td>WJtFt</td>\n",
       "      <td>0.262778</td>\n",
       "      <td>0.269839</td>\n",
       "      <td>-2.530187</td>\n",
       "      <td>56.069697</td>\n",
       "    </tr>\n",
       "    <tr>\n",
       "      <th>2</th>\n",
       "      <td>ovLUW</td>\n",
       "      <td>0.194587</td>\n",
       "      <td>0.289035</td>\n",
       "      <td>-5.586433</td>\n",
       "      <td>62.871910</td>\n",
       "    </tr>\n",
       "    <tr>\n",
       "      <th>3</th>\n",
       "      <td>q6cA6</td>\n",
       "      <td>2.236060</td>\n",
       "      <td>-0.553760</td>\n",
       "      <td>0.930038</td>\n",
       "      <td>114.572842</td>\n",
       "    </tr>\n",
       "    <tr>\n",
       "      <th>4</th>\n",
       "      <td>WPMUX</td>\n",
       "      <td>-0.515993</td>\n",
       "      <td>1.716266</td>\n",
       "      <td>5.899011</td>\n",
       "      <td>149.600746</td>\n",
       "    </tr>\n",
       "  </tbody>\n",
       "</table>\n",
       "</div>"
      ],
      "text/plain": [
       "      id        f0        f1        f2     product\n",
       "0  fwXo0 -1.146987  0.963328 -0.828965   27.758673\n",
       "1  WJtFt  0.262778  0.269839 -2.530187   56.069697\n",
       "2  ovLUW  0.194587  0.289035 -5.586433   62.871910\n",
       "3  q6cA6  2.236060 -0.553760  0.930038  114.572842\n",
       "4  WPMUX -0.515993  1.716266  5.899011  149.600746"
      ]
     },
     "metadata": {},
     "output_type": "display_data"
    }
   ],
   "source": [
    "#Функция для ознакомления\n",
    "for name, df in [('df_1', df_1), ('df_2', df_2), ('df_3', df_3)]:\n",
    "    print()\n",
    "    print(f\"Выводим инфо о дф {name}:\")\n",
    "    df.info()\n",
    "    print()\n",
    "    print(f\"Количество дубликатов в дф {name}:\", df.duplicated().sum())\n",
    "    print()\n",
    "    print(f\"Выводим 5 строк дф {name}:\")\n",
    "    display(df.head())"
   ]
  },
  {
   "cell_type": "markdown",
   "metadata": {},
   "source": [
    "Посмотрим, как распределены данные с помощью метода describe():"
   ]
  },
  {
   "cell_type": "code",
   "execution_count": 4,
   "metadata": {},
   "outputs": [
    {
     "name": "stdout",
     "output_type": "stream",
     "text": [
      "Выводим данные распределения о дф df_1:\n"
     ]
    },
    {
     "data": {
      "text/html": [
       "<div>\n",
       "<style scoped>\n",
       "    .dataframe tbody tr th:only-of-type {\n",
       "        vertical-align: middle;\n",
       "    }\n",
       "\n",
       "    .dataframe tbody tr th {\n",
       "        vertical-align: top;\n",
       "    }\n",
       "\n",
       "    .dataframe thead th {\n",
       "        text-align: right;\n",
       "    }\n",
       "</style>\n",
       "<table border=\"1\" class=\"dataframe\">\n",
       "  <thead>\n",
       "    <tr style=\"text-align: right;\">\n",
       "      <th></th>\n",
       "      <th>f0</th>\n",
       "      <th>f1</th>\n",
       "      <th>f2</th>\n",
       "      <th>product</th>\n",
       "    </tr>\n",
       "  </thead>\n",
       "  <tbody>\n",
       "    <tr>\n",
       "      <th>count</th>\n",
       "      <td>100000.000000</td>\n",
       "      <td>100000.000000</td>\n",
       "      <td>100000.000000</td>\n",
       "      <td>100000.000000</td>\n",
       "    </tr>\n",
       "    <tr>\n",
       "      <th>mean</th>\n",
       "      <td>0.500419</td>\n",
       "      <td>0.250143</td>\n",
       "      <td>2.502647</td>\n",
       "      <td>92.500000</td>\n",
       "    </tr>\n",
       "    <tr>\n",
       "      <th>std</th>\n",
       "      <td>0.871832</td>\n",
       "      <td>0.504433</td>\n",
       "      <td>3.248248</td>\n",
       "      <td>44.288691</td>\n",
       "    </tr>\n",
       "    <tr>\n",
       "      <th>min</th>\n",
       "      <td>-1.408605</td>\n",
       "      <td>-0.848218</td>\n",
       "      <td>-12.088328</td>\n",
       "      <td>0.000000</td>\n",
       "    </tr>\n",
       "    <tr>\n",
       "      <th>25%</th>\n",
       "      <td>-0.072580</td>\n",
       "      <td>-0.200881</td>\n",
       "      <td>0.287748</td>\n",
       "      <td>56.497507</td>\n",
       "    </tr>\n",
       "    <tr>\n",
       "      <th>50%</th>\n",
       "      <td>0.502360</td>\n",
       "      <td>0.250252</td>\n",
       "      <td>2.515969</td>\n",
       "      <td>91.849972</td>\n",
       "    </tr>\n",
       "    <tr>\n",
       "      <th>75%</th>\n",
       "      <td>1.073581</td>\n",
       "      <td>0.700646</td>\n",
       "      <td>4.715088</td>\n",
       "      <td>128.564089</td>\n",
       "    </tr>\n",
       "    <tr>\n",
       "      <th>max</th>\n",
       "      <td>2.362331</td>\n",
       "      <td>1.343769</td>\n",
       "      <td>16.003790</td>\n",
       "      <td>185.364347</td>\n",
       "    </tr>\n",
       "  </tbody>\n",
       "</table>\n",
       "</div>"
      ],
      "text/plain": [
       "                  f0             f1             f2        product\n",
       "count  100000.000000  100000.000000  100000.000000  100000.000000\n",
       "mean        0.500419       0.250143       2.502647      92.500000\n",
       "std         0.871832       0.504433       3.248248      44.288691\n",
       "min        -1.408605      -0.848218     -12.088328       0.000000\n",
       "25%        -0.072580      -0.200881       0.287748      56.497507\n",
       "50%         0.502360       0.250252       2.515969      91.849972\n",
       "75%         1.073581       0.700646       4.715088     128.564089\n",
       "max         2.362331       1.343769      16.003790     185.364347"
      ]
     },
     "metadata": {},
     "output_type": "display_data"
    },
    {
     "name": "stdout",
     "output_type": "stream",
     "text": [
      "Выводим данные распределения о дф df_2:\n"
     ]
    },
    {
     "data": {
      "text/html": [
       "<div>\n",
       "<style scoped>\n",
       "    .dataframe tbody tr th:only-of-type {\n",
       "        vertical-align: middle;\n",
       "    }\n",
       "\n",
       "    .dataframe tbody tr th {\n",
       "        vertical-align: top;\n",
       "    }\n",
       "\n",
       "    .dataframe thead th {\n",
       "        text-align: right;\n",
       "    }\n",
       "</style>\n",
       "<table border=\"1\" class=\"dataframe\">\n",
       "  <thead>\n",
       "    <tr style=\"text-align: right;\">\n",
       "      <th></th>\n",
       "      <th>f0</th>\n",
       "      <th>f1</th>\n",
       "      <th>f2</th>\n",
       "      <th>product</th>\n",
       "    </tr>\n",
       "  </thead>\n",
       "  <tbody>\n",
       "    <tr>\n",
       "      <th>count</th>\n",
       "      <td>100000.000000</td>\n",
       "      <td>100000.000000</td>\n",
       "      <td>100000.000000</td>\n",
       "      <td>100000.000000</td>\n",
       "    </tr>\n",
       "    <tr>\n",
       "      <th>mean</th>\n",
       "      <td>1.141296</td>\n",
       "      <td>-4.796579</td>\n",
       "      <td>2.494541</td>\n",
       "      <td>68.825000</td>\n",
       "    </tr>\n",
       "    <tr>\n",
       "      <th>std</th>\n",
       "      <td>8.965932</td>\n",
       "      <td>5.119872</td>\n",
       "      <td>1.703572</td>\n",
       "      <td>45.944423</td>\n",
       "    </tr>\n",
       "    <tr>\n",
       "      <th>min</th>\n",
       "      <td>-31.609576</td>\n",
       "      <td>-26.358598</td>\n",
       "      <td>-0.018144</td>\n",
       "      <td>0.000000</td>\n",
       "    </tr>\n",
       "    <tr>\n",
       "      <th>25%</th>\n",
       "      <td>-6.298551</td>\n",
       "      <td>-8.267985</td>\n",
       "      <td>1.000021</td>\n",
       "      <td>26.953261</td>\n",
       "    </tr>\n",
       "    <tr>\n",
       "      <th>50%</th>\n",
       "      <td>1.153055</td>\n",
       "      <td>-4.813172</td>\n",
       "      <td>2.011479</td>\n",
       "      <td>57.085625</td>\n",
       "    </tr>\n",
       "    <tr>\n",
       "      <th>75%</th>\n",
       "      <td>8.621015</td>\n",
       "      <td>-1.332816</td>\n",
       "      <td>3.999904</td>\n",
       "      <td>107.813044</td>\n",
       "    </tr>\n",
       "    <tr>\n",
       "      <th>max</th>\n",
       "      <td>29.421755</td>\n",
       "      <td>18.734063</td>\n",
       "      <td>5.019721</td>\n",
       "      <td>137.945408</td>\n",
       "    </tr>\n",
       "  </tbody>\n",
       "</table>\n",
       "</div>"
      ],
      "text/plain": [
       "                  f0             f1             f2        product\n",
       "count  100000.000000  100000.000000  100000.000000  100000.000000\n",
       "mean        1.141296      -4.796579       2.494541      68.825000\n",
       "std         8.965932       5.119872       1.703572      45.944423\n",
       "min       -31.609576     -26.358598      -0.018144       0.000000\n",
       "25%        -6.298551      -8.267985       1.000021      26.953261\n",
       "50%         1.153055      -4.813172       2.011479      57.085625\n",
       "75%         8.621015      -1.332816       3.999904     107.813044\n",
       "max        29.421755      18.734063       5.019721     137.945408"
      ]
     },
     "metadata": {},
     "output_type": "display_data"
    },
    {
     "name": "stdout",
     "output_type": "stream",
     "text": [
      "Выводим данные распределения о дф df_3:\n"
     ]
    },
    {
     "data": {
      "text/html": [
       "<div>\n",
       "<style scoped>\n",
       "    .dataframe tbody tr th:only-of-type {\n",
       "        vertical-align: middle;\n",
       "    }\n",
       "\n",
       "    .dataframe tbody tr th {\n",
       "        vertical-align: top;\n",
       "    }\n",
       "\n",
       "    .dataframe thead th {\n",
       "        text-align: right;\n",
       "    }\n",
       "</style>\n",
       "<table border=\"1\" class=\"dataframe\">\n",
       "  <thead>\n",
       "    <tr style=\"text-align: right;\">\n",
       "      <th></th>\n",
       "      <th>f0</th>\n",
       "      <th>f1</th>\n",
       "      <th>f2</th>\n",
       "      <th>product</th>\n",
       "    </tr>\n",
       "  </thead>\n",
       "  <tbody>\n",
       "    <tr>\n",
       "      <th>count</th>\n",
       "      <td>100000.000000</td>\n",
       "      <td>100000.000000</td>\n",
       "      <td>100000.000000</td>\n",
       "      <td>100000.000000</td>\n",
       "    </tr>\n",
       "    <tr>\n",
       "      <th>mean</th>\n",
       "      <td>0.002023</td>\n",
       "      <td>-0.002081</td>\n",
       "      <td>2.495128</td>\n",
       "      <td>95.000000</td>\n",
       "    </tr>\n",
       "    <tr>\n",
       "      <th>std</th>\n",
       "      <td>1.732045</td>\n",
       "      <td>1.730417</td>\n",
       "      <td>3.473445</td>\n",
       "      <td>44.749921</td>\n",
       "    </tr>\n",
       "    <tr>\n",
       "      <th>min</th>\n",
       "      <td>-8.760004</td>\n",
       "      <td>-7.084020</td>\n",
       "      <td>-11.970335</td>\n",
       "      <td>0.000000</td>\n",
       "    </tr>\n",
       "    <tr>\n",
       "      <th>25%</th>\n",
       "      <td>-1.162288</td>\n",
       "      <td>-1.174820</td>\n",
       "      <td>0.130359</td>\n",
       "      <td>59.450441</td>\n",
       "    </tr>\n",
       "    <tr>\n",
       "      <th>50%</th>\n",
       "      <td>0.009424</td>\n",
       "      <td>-0.009482</td>\n",
       "      <td>2.484236</td>\n",
       "      <td>94.925613</td>\n",
       "    </tr>\n",
       "    <tr>\n",
       "      <th>75%</th>\n",
       "      <td>1.158535</td>\n",
       "      <td>1.163678</td>\n",
       "      <td>4.858794</td>\n",
       "      <td>130.595027</td>\n",
       "    </tr>\n",
       "    <tr>\n",
       "      <th>max</th>\n",
       "      <td>7.238262</td>\n",
       "      <td>7.844801</td>\n",
       "      <td>16.739402</td>\n",
       "      <td>190.029838</td>\n",
       "    </tr>\n",
       "  </tbody>\n",
       "</table>\n",
       "</div>"
      ],
      "text/plain": [
       "                  f0             f1             f2        product\n",
       "count  100000.000000  100000.000000  100000.000000  100000.000000\n",
       "mean        0.002023      -0.002081       2.495128      95.000000\n",
       "std         1.732045       1.730417       3.473445      44.749921\n",
       "min        -8.760004      -7.084020     -11.970335       0.000000\n",
       "25%        -1.162288      -1.174820       0.130359      59.450441\n",
       "50%         0.009424      -0.009482       2.484236      94.925613\n",
       "75%         1.158535       1.163678       4.858794     130.595027\n",
       "max         7.238262       7.844801      16.739402     190.029838"
      ]
     },
     "metadata": {},
     "output_type": "display_data"
    }
   ],
   "source": [
    "for name, df in [('df_1', df_1), ('df_2', df_2), ('df_3', df_3)]:\n",
    "    print(f\"Выводим данные распределения о дф {name}:\")\n",
    "    display(df.describe())"
   ]
  },
  {
   "cell_type": "markdown",
   "metadata": {},
   "source": [
    "### Вывод по осмотру данных"
   ]
  },
  {
   "cell_type": "markdown",
   "metadata": {},
   "source": [
    "После загрузки данных и их осмотра установлено:\n",
    "  - Пропусков и дубликатов в данных нет;\n",
    "  - Все типы данных определены верно;\n",
    "  - Аномальных значений не выявлено.\n",
    "  \n",
    "Данные поступили достаточно \"чистыми\", в предобработке не нуждаются."
   ]
  },
  {
   "cell_type": "markdown",
   "metadata": {},
   "source": [
    "## Подготовка данных, обучение и проверка модели"
   ]
  },
  {
   "cell_type": "markdown",
   "metadata": {},
   "source": [
    "Подготовим данные:"
   ]
  },
  {
   "cell_type": "code",
   "execution_count": 5,
   "metadata": {},
   "outputs": [],
   "source": [
    "df_1.drop([\"id\"], axis=1, inplace=True)\n",
    "df_2.drop([\"id\"], axis=1, inplace=True)\n",
    "df_3.drop([\"id\"], axis=1, inplace=True)"
   ]
  },
  {
   "cell_type": "markdown",
   "metadata": {},
   "source": [
    "Проверим:"
   ]
  },
  {
   "cell_type": "code",
   "execution_count": 6,
   "metadata": {},
   "outputs": [
    {
     "data": {
      "text/html": [
       "<div>\n",
       "<style scoped>\n",
       "    .dataframe tbody tr th:only-of-type {\n",
       "        vertical-align: middle;\n",
       "    }\n",
       "\n",
       "    .dataframe tbody tr th {\n",
       "        vertical-align: top;\n",
       "    }\n",
       "\n",
       "    .dataframe thead th {\n",
       "        text-align: right;\n",
       "    }\n",
       "</style>\n",
       "<table border=\"1\" class=\"dataframe\">\n",
       "  <thead>\n",
       "    <tr style=\"text-align: right;\">\n",
       "      <th></th>\n",
       "      <th>f0</th>\n",
       "      <th>f1</th>\n",
       "      <th>f2</th>\n",
       "      <th>product</th>\n",
       "    </tr>\n",
       "  </thead>\n",
       "  <tbody>\n",
       "    <tr>\n",
       "      <th>0</th>\n",
       "      <td>-1.146987</td>\n",
       "      <td>0.963328</td>\n",
       "      <td>-0.828965</td>\n",
       "      <td>27.758673</td>\n",
       "    </tr>\n",
       "    <tr>\n",
       "      <th>1</th>\n",
       "      <td>0.262778</td>\n",
       "      <td>0.269839</td>\n",
       "      <td>-2.530187</td>\n",
       "      <td>56.069697</td>\n",
       "    </tr>\n",
       "    <tr>\n",
       "      <th>2</th>\n",
       "      <td>0.194587</td>\n",
       "      <td>0.289035</td>\n",
       "      <td>-5.586433</td>\n",
       "      <td>62.871910</td>\n",
       "    </tr>\n",
       "    <tr>\n",
       "      <th>3</th>\n",
       "      <td>2.236060</td>\n",
       "      <td>-0.553760</td>\n",
       "      <td>0.930038</td>\n",
       "      <td>114.572842</td>\n",
       "    </tr>\n",
       "    <tr>\n",
       "      <th>4</th>\n",
       "      <td>-0.515993</td>\n",
       "      <td>1.716266</td>\n",
       "      <td>5.899011</td>\n",
       "      <td>149.600746</td>\n",
       "    </tr>\n",
       "  </tbody>\n",
       "</table>\n",
       "</div>"
      ],
      "text/plain": [
       "         f0        f1        f2     product\n",
       "0 -1.146987  0.963328 -0.828965   27.758673\n",
       "1  0.262778  0.269839 -2.530187   56.069697\n",
       "2  0.194587  0.289035 -5.586433   62.871910\n",
       "3  2.236060 -0.553760  0.930038  114.572842\n",
       "4 -0.515993  1.716266  5.899011  149.600746"
      ]
     },
     "execution_count": 6,
     "metadata": {},
     "output_type": "execute_result"
    }
   ],
   "source": [
    "df_1.head()\n",
    "df_2.head()\n",
    "df_3.head()"
   ]
  },
  {
   "cell_type": "code",
   "execution_count": 7,
   "metadata": {},
   "outputs": [
    {
     "data": {
      "text/html": [
       "<div>\n",
       "<style scoped>\n",
       "    .dataframe tbody tr th:only-of-type {\n",
       "        vertical-align: middle;\n",
       "    }\n",
       "\n",
       "    .dataframe tbody tr th {\n",
       "        vertical-align: top;\n",
       "    }\n",
       "\n",
       "    .dataframe thead th {\n",
       "        text-align: right;\n",
       "    }\n",
       "</style>\n",
       "<table border=\"1\" class=\"dataframe\">\n",
       "  <thead>\n",
       "    <tr style=\"text-align: right;\">\n",
       "      <th></th>\n",
       "      <th>f0</th>\n",
       "      <th>f1</th>\n",
       "      <th>f2</th>\n",
       "      <th>product</th>\n",
       "    </tr>\n",
       "  </thead>\n",
       "  <tbody>\n",
       "    <tr>\n",
       "      <th>0</th>\n",
       "      <td>-15.001348</td>\n",
       "      <td>-8.276000</td>\n",
       "      <td>-0.005876</td>\n",
       "      <td>3.179103</td>\n",
       "    </tr>\n",
       "    <tr>\n",
       "      <th>1</th>\n",
       "      <td>14.272088</td>\n",
       "      <td>-3.475083</td>\n",
       "      <td>0.999183</td>\n",
       "      <td>26.953261</td>\n",
       "    </tr>\n",
       "    <tr>\n",
       "      <th>2</th>\n",
       "      <td>6.263187</td>\n",
       "      <td>-5.948386</td>\n",
       "      <td>5.001160</td>\n",
       "      <td>134.766305</td>\n",
       "    </tr>\n",
       "    <tr>\n",
       "      <th>3</th>\n",
       "      <td>-13.081196</td>\n",
       "      <td>-11.506057</td>\n",
       "      <td>4.999415</td>\n",
       "      <td>137.945408</td>\n",
       "    </tr>\n",
       "    <tr>\n",
       "      <th>4</th>\n",
       "      <td>12.702195</td>\n",
       "      <td>-8.147433</td>\n",
       "      <td>5.004363</td>\n",
       "      <td>134.766305</td>\n",
       "    </tr>\n",
       "  </tbody>\n",
       "</table>\n",
       "</div>"
      ],
      "text/plain": [
       "          f0         f1        f2     product\n",
       "0 -15.001348  -8.276000 -0.005876    3.179103\n",
       "1  14.272088  -3.475083  0.999183   26.953261\n",
       "2   6.263187  -5.948386  5.001160  134.766305\n",
       "3 -13.081196 -11.506057  4.999415  137.945408\n",
       "4  12.702195  -8.147433  5.004363  134.766305"
      ]
     },
     "execution_count": 7,
     "metadata": {},
     "output_type": "execute_result"
    }
   ],
   "source": [
    "df_2.head()"
   ]
  },
  {
   "cell_type": "code",
   "execution_count": 8,
   "metadata": {},
   "outputs": [
    {
     "data": {
      "text/html": [
       "<div>\n",
       "<style scoped>\n",
       "    .dataframe tbody tr th:only-of-type {\n",
       "        vertical-align: middle;\n",
       "    }\n",
       "\n",
       "    .dataframe tbody tr th {\n",
       "        vertical-align: top;\n",
       "    }\n",
       "\n",
       "    .dataframe thead th {\n",
       "        text-align: right;\n",
       "    }\n",
       "</style>\n",
       "<table border=\"1\" class=\"dataframe\">\n",
       "  <thead>\n",
       "    <tr style=\"text-align: right;\">\n",
       "      <th></th>\n",
       "      <th>f0</th>\n",
       "      <th>f1</th>\n",
       "      <th>f2</th>\n",
       "      <th>product</th>\n",
       "    </tr>\n",
       "  </thead>\n",
       "  <tbody>\n",
       "    <tr>\n",
       "      <th>0</th>\n",
       "      <td>-1.146987</td>\n",
       "      <td>0.963328</td>\n",
       "      <td>-0.828965</td>\n",
       "      <td>27.758673</td>\n",
       "    </tr>\n",
       "    <tr>\n",
       "      <th>1</th>\n",
       "      <td>0.262778</td>\n",
       "      <td>0.269839</td>\n",
       "      <td>-2.530187</td>\n",
       "      <td>56.069697</td>\n",
       "    </tr>\n",
       "    <tr>\n",
       "      <th>2</th>\n",
       "      <td>0.194587</td>\n",
       "      <td>0.289035</td>\n",
       "      <td>-5.586433</td>\n",
       "      <td>62.871910</td>\n",
       "    </tr>\n",
       "    <tr>\n",
       "      <th>3</th>\n",
       "      <td>2.236060</td>\n",
       "      <td>-0.553760</td>\n",
       "      <td>0.930038</td>\n",
       "      <td>114.572842</td>\n",
       "    </tr>\n",
       "    <tr>\n",
       "      <th>4</th>\n",
       "      <td>-0.515993</td>\n",
       "      <td>1.716266</td>\n",
       "      <td>5.899011</td>\n",
       "      <td>149.600746</td>\n",
       "    </tr>\n",
       "  </tbody>\n",
       "</table>\n",
       "</div>"
      ],
      "text/plain": [
       "         f0        f1        f2     product\n",
       "0 -1.146987  0.963328 -0.828965   27.758673\n",
       "1  0.262778  0.269839 -2.530187   56.069697\n",
       "2  0.194587  0.289035 -5.586433   62.871910\n",
       "3  2.236060 -0.553760  0.930038  114.572842\n",
       "4 -0.515993  1.716266  5.899011  149.600746"
      ]
     },
     "execution_count": 8,
     "metadata": {},
     "output_type": "execute_result"
    }
   ],
   "source": [
    "df_3.head()"
   ]
  },
  {
   "cell_type": "markdown",
   "metadata": {},
   "source": [
    "### Разбиение на выборки"
   ]
  },
  {
   "cell_type": "code",
   "execution_count": 9,
   "metadata": {},
   "outputs": [],
   "source": [
    "def split_df(data_split):\n",
    "    features = data_split.drop(\"product\",axis=1)\n",
    "    target = data_split[\"product\"]\n",
    "    \n",
    "    train_features, valid_features, train_target, valid_target = train_test_split(features, target, \n",
    "                                                                                  test_size=0.25, random_state=42)\n",
    "    \n",
    "    return train_features, valid_features, train_target, valid_target"
   ]
  },
  {
   "cell_type": "code",
   "execution_count": 10,
   "metadata": {},
   "outputs": [],
   "source": [
    "train_features_1, valid_features_1, train_target_1, valid_target_1 = split_df(df_1)"
   ]
  },
  {
   "cell_type": "code",
   "execution_count": 11,
   "metadata": {},
   "outputs": [
    {
     "name": "stdout",
     "output_type": "stream",
     "text": [
      "Размер исходника: (100000, 4)\n",
      "Размер дф с признаками обучающей выборки: (75000, 3)\n",
      "Размер дф с таргетом обучающий: 75000\n",
      "Размер дф с признаками валидационной выборки: (25000, 3)\n",
      "Размер дф с таргетом валидационной выборки: 25000\n"
     ]
    }
   ],
   "source": [
    "print(f'Размер исходника: {df_1.shape}')\n",
    "print(f'Размер дф с признаками обучающей выборки: {train_features_1.shape}')\n",
    "print(f'Размер дф с таргетом обучающий: {train_features_1.shape[0]}')\n",
    "print(f'Размер дф с признаками валидационной выборки: {valid_features_1.shape}')\n",
    "print(f'Размер дф с таргетом валидационной выборки: {valid_target_1.shape[0]}')"
   ]
  },
  {
   "cell_type": "code",
   "execution_count": 12,
   "metadata": {},
   "outputs": [],
   "source": [
    "train_features_2, valid_features_2, train_target_2, valid_target_2 = split_df(df_2)"
   ]
  },
  {
   "cell_type": "code",
   "execution_count": 13,
   "metadata": {},
   "outputs": [
    {
     "name": "stdout",
     "output_type": "stream",
     "text": [
      "Размер исходника: (100000, 4)\n",
      "Размер дф с признаками обучающей выборки: (75000, 3)\n",
      "Размер дф с таргетом обучающий: 75000\n",
      "Размер дф с признаками валидационной выборки: (25000, 3)\n",
      "Размер дф с таргетом валидационной выборки: 25000\n"
     ]
    }
   ],
   "source": [
    "print(f'Размер исходника: {df_2.shape}')\n",
    "print(f'Размер дф с признаками обучающей выборки: {train_features_2.shape}')\n",
    "print(f'Размер дф с таргетом обучающий: {train_features_2.shape[0]}')\n",
    "print(f'Размер дф с признаками валидационной выборки: {valid_features_2.shape}')\n",
    "print(f'Размер дф с таргетом валидационной выборки: {valid_target_2.shape[0]}')"
   ]
  },
  {
   "cell_type": "code",
   "execution_count": 14,
   "metadata": {},
   "outputs": [],
   "source": [
    "train_features_3, valid_features_3, train_target_3, valid_target_3 = split_df(df_3)"
   ]
  },
  {
   "cell_type": "code",
   "execution_count": 15,
   "metadata": {},
   "outputs": [
    {
     "name": "stdout",
     "output_type": "stream",
     "text": [
      "Размер исходника: (100000, 4)\n",
      "Размер дф с признаками обучающей выборки: (75000, 3)\n",
      "Размер дф с таргетом обучающий: 75000\n",
      "Размер дф с признаками валидационной выборки: (25000, 3)\n",
      "Размер дф с таргетом валидационной выборки: 25000\n"
     ]
    }
   ],
   "source": [
    "print(f'Размер исходника: {df_3.shape}')\n",
    "print(f'Размер дф с признаками обучающей выборки: {train_features_3.shape}')\n",
    "print(f'Размер дф с таргетом обучающий: {train_features_3.shape[0]}')\n",
    "print(f'Размер дф с признаками валидационной выборки: {valid_features_3.shape}')\n",
    "print(f'Размер дф с таргетом валидационной выборки: {valid_target_3.shape[0]}')"
   ]
  },
  {
   "cell_type": "markdown",
   "metadata": {},
   "source": [
    "### Обучение модели"
   ]
  },
  {
   "cell_type": "code",
   "execution_count": 16,
   "metadata": {},
   "outputs": [],
   "source": [
    "def model_predict(train_features, valid_features, train_target, valid_target):\n",
    "    model = LinearRegression()\n",
    "    model.fit(train_features, train_target)\n",
    "    pred_valid = pd.Series(model.predict(valid_features))\n",
    "    rmse = mean_squared_error(valid_target, pred_valid)**0.5\n",
    "    mean = pred_valid.mean()\n",
    "    \n",
    "    return pred_valid, rmse, mean"
   ]
  },
  {
   "cell_type": "code",
   "execution_count": 17,
   "metadata": {},
   "outputs": [],
   "source": [
    "pred_valid_1, rmse_1, mean_1 = model_predict(train_features_1, \n",
    "                                                       valid_features_1, \n",
    "                                                       train_target_1, \n",
    "                                                       valid_target_1\n",
    "                                                      )"
   ]
  },
  {
   "cell_type": "code",
   "execution_count": 18,
   "metadata": {},
   "outputs": [
    {
     "name": "stdout",
     "output_type": "stream",
     "text": [
      "RMSE модели: 37.75660035026169\n",
      "Средний запас сырья в регионе: 92.39879990657768\n"
     ]
    }
   ],
   "source": [
    "print(\"RMSE модели:\",rmse_1)\n",
    "print(\"Средний запас сырья в регионе:\",mean_1)"
   ]
  },
  {
   "cell_type": "code",
   "execution_count": 19,
   "metadata": {},
   "outputs": [],
   "source": [
    "pred_valid_2, rmse_2, mean_2 = model_predict(train_features_2, \n",
    "                                                       valid_features_2, \n",
    "                                                       train_target_2, \n",
    "                                                       valid_target_2\n",
    "                                                      )"
   ]
  },
  {
   "cell_type": "code",
   "execution_count": 20,
   "metadata": {},
   "outputs": [
    {
     "name": "stdout",
     "output_type": "stream",
     "text": [
      "RMSE модели: 0.890280100102884\n",
      "Средний запас сырья в регионе: 68.71287803913762\n"
     ]
    }
   ],
   "source": [
    "print(\"RMSE модели:\",rmse_2)\n",
    "print(\"Средний запас сырья в регионе:\",mean_2)"
   ]
  },
  {
   "cell_type": "code",
   "execution_count": 21,
   "metadata": {},
   "outputs": [],
   "source": [
    "pred_valid_3, rmse_3, mean_3 = model_predict(train_features_3, \n",
    "                                                       valid_features_3, \n",
    "                                                       train_target_3, \n",
    "                                                       valid_target_3\n",
    "                                                      )"
   ]
  },
  {
   "cell_type": "code",
   "execution_count": 22,
   "metadata": {},
   "outputs": [
    {
     "name": "stdout",
     "output_type": "stream",
     "text": [
      "RMSE модели: 40.145872311342174\n",
      "Средний запас сырья в регионе: 94.77102387765939\n"
     ]
    }
   ],
   "source": [
    "print(\"RMSE модели:\",rmse_3)\n",
    "print(\"Средний запас сырья в регионе:\",mean_3)"
   ]
  },
  {
   "cell_type": "code",
   "execution_count": 23,
   "metadata": {},
   "outputs": [],
   "source": [
    "rmses = [rmse_1, rmse_2, rmse_3]\n",
    "means = [mean_1, mean_2, mean_3]"
   ]
  },
  {
   "cell_type": "code",
   "execution_count": 24,
   "metadata": {},
   "outputs": [
    {
     "data": {
      "image/png": "[encoded data removed]",
      "text/plain": [
       "<Figure size 576x432 with 2 Axes>"
      ]
     },
     "metadata": {
      "needs_background": "light"
     },
     "output_type": "display_data"
    }
   ],
   "source": [
    "# Немного визуализации\n",
    "fig, (ax1, ax2) = plt.subplots(2, 1, figsize=(8, 6))\n",
    "\n",
    "# Бар-плот RMSE\n",
    "ax1.bar(range(len(rmses)), rmses)\n",
    "ax1.set_title('RMSE по регионам')\n",
    "ax1.set_xlabel('Регион')\n",
    "ax1.set_ylabel('RMSE')\n",
    "ax1.set_xticks(range(len(rmses)))\n",
    "ax1.set_xticklabels([f' {i+1}' for i in range(len(rmses))])\n",
    "\n",
    "# Бар-плот средних значений\n",
    "ax2.bar(range(len(means)), means)\n",
    "ax2.set_title('Средние значения запаса нефти в регионе')\n",
    "ax2.set_xlabel('Регион')\n",
    "ax2.set_ylabel('Среднее значение')\n",
    "ax2.set_xticks(range(len(means)))\n",
    "ax2.set_xticklabels([f'{i+1}' for i in range(len(means))])\n",
    "\n",
    "plt.tight_layout()\n",
    "plt.show()"
   ]
  },
  {
   "cell_type": "markdown",
   "metadata": {},
   "source": [
    "Вывод после обучения:\n",
    "Средний запас сырья у второго региона существенно ниже чем у первого и третьего. Но у этих регионов среднее отклонение прогнозных значений от фактических (RMSE-метрика) слишком высокая, что говорит о том, что точность предсказаний низкая. А вот у второго региона как раз, наоборот, вероятность ошибки совсем небольшая."
   ]
  },
  {
   "cell_type": "markdown",
   "metadata": {},
   "source": [
    "## Подготовка к расчёту прибыли"
   ]
  },
  {
   "cell_type": "markdown",
   "metadata": {},
   "source": [
    "Посчитаем достаточный объём сырья для безубыточной разработки новой скважины. Известно, что один баррель сырья приносит 450 рублей дохода. Соответственно, доход с тысячи баррелей равен 450 000 рублей. Бюджет на разработку новых скважин в регионе — 10 млрд рублей. В одном регионе одновременно разрабатывается 200 новых скважин."
   ]
  },
  {
   "cell_type": "markdown",
   "metadata": {},
   "source": [
    "Зададим константы согласно условию задачи:"
   ]
  },
  {
   "cell_type": "code",
   "execution_count": 25,
   "metadata": {},
   "outputs": [],
   "source": [
    "EXPLORE = 500 # количество точек\n",
    "MINING = 200 # Количество лучших из общего числа согласно прогнозированию\n",
    "BANK = 10000000000 #Бюджет\n",
    "REVENUE_PER_BARREL = 450000 # Доход с тысячи барелей\n",
    "LOSS_PROBABILITY = 0.025 # Вероятность убытков\n",
    "BOOTSTRAP_NUMBER = 1000 # Количество выборок"
   ]
  },
  {
   "cell_type": "code",
   "execution_count": 26,
   "metadata": {},
   "outputs": [
    {
     "name": "stdout",
     "output_type": "stream",
     "text": [
      "Бюджет доступный на разработку одной скважины в регионе: 50000000.0 рублей\n"
     ]
    }
   ],
   "source": [
    "well_budget = BANK / MINING\n",
    "print('Бюджет доступный на разработку одной скважины в регионе:', well_budget, 'рублей')"
   ]
  },
  {
   "cell_type": "code",
   "execution_count": 34,
   "metadata": {},
   "outputs": [
    {
     "name": "stdout",
     "output_type": "stream",
     "text": [
      "Минимальный достаточный объём запасов нефти для разработки нового месторождения: 111.1 тысяч баррелей\n"
     ]
    }
   ],
   "source": [
    "product_threshold = well_budget / REVENUE_PER_BARREL\n",
    "print('Минимальный достаточный объём запасов нефти для разработки нового месторождения:', round(product_threshold, 1), 'тысяч баррелей')"
   ]
  },
  {
   "cell_type": "code",
   "execution_count": 28,
   "metadata": {},
   "outputs": [
    {
     "data": {
      "image/png": "[encoded data removed]",
      "text/plain": [
       "<Figure size 576x288 with 1 Axes>"
      ]
     },
     "metadata": {
      "needs_background": "light"
     },
     "output_type": "display_data"
    }
   ],
   "source": [
    "# Немного визуализации\n",
    "fig, ax2 = plt.subplots(figsize=(8, 4))\n",
    "\n",
    "# Бар-плот средних значений\n",
    "ax2.bar(range(len(means)), means)\n",
    "ax2.axhline(y=product_threshold, color='r', linestyle='-', label='Порог безубыточной добычи') \n",
    "ax2.legend()  # Добавляем легенду\n",
    "ax2.set_title('Средние значения запаса нефти в регионе')\n",
    "ax2.set_xlabel('Регион')\n",
    "ax2.set_ylabel('Среднее значение')\n",
    "ax2.set_xticks(range(len(means)))\n",
    "ax2.set_xticklabels([f'{i+1}' for i in range(len(means))])\n",
    "\n",
    "plt.tight_layout()\n",
    "plt.show()"
   ]
  },
  {
   "cell_type": "markdown",
   "metadata": {},
   "source": [
    "Вывод по подготовки к расчету прибыли:\n",
    "\n",
    "Был расчитан пороговый уровень объёма запасов в одной скважине, при котором разработка этой скважины становится экономически оправданной (прибыль покрывает все затраты на разработку). Видно, что во всех трёх регионах средние предсказанные запасы меньше, чем пороговое значение объёмов, при котором разработка новой скважины экономически эффективна. А значит, необходимо тщательно отобрать скважины с наибольшими объёмами и меньшими рисками."
   ]
  },
  {
   "cell_type": "markdown",
   "metadata": {},
   "source": [
    "## Расчёт прибыли и рисков "
   ]
  },
  {
   "cell_type": "code",
   "execution_count": 29,
   "metadata": {},
   "outputs": [],
   "source": [
    "def total_income(valid_target, pred_valid,count): #Расчитаем доход\n",
    "    top_mining = pred_valid.sort_values(ascending=False) #Сортируем лучшие точки\n",
    "    target_choice = valid_target[top_mining.index][:count] #Отбираем лучшие\n",
    "    income = (target_choice.sum() * REVENUE_PER_BARREL) - BANK # Вычисляем доход\n",
    "    return income"
   ]
  },
  {
   "cell_type": "code",
   "execution_count": 30,
   "metadata": {},
   "outputs": [],
   "source": [
    "def income_risks (valid_target, pred_valid,  bootstrap_samples, EXPLORE): #Расчет вероятности убытков\n",
    "    state = np.random.RandomState(12345)\n",
    "    values = []\n",
    "    \n",
    "    for i in range(bootstrap_samples): #Бутстрэпим\n",
    "        target_subsample = valid_target.reset_index(drop=True).sample(EXPLORE, replace=True, random_state=state)\n",
    "        probs_subsample = pred_valid[target_subsample.index]\n",
    "        rev = total_income(target_subsample, probs_subsample, MINING)\n",
    "        values.append(rev) #Добавляем\n",
    "\n",
    "    values = pd.Series(values) #Преобразуем\n",
    "#считаем квантили\n",
    "    lower = values.quantile(0.025) #считаем квантили\n",
    "    upper = values.quantile(0.975) \n",
    "    mean = values.mean()\n",
    "#вычисляем вероятность убытков\n",
    "    risks = len(values[values < 0])/len(values)*100\n",
    "#выводим\n",
    "    print(\"Средняя выручка:\", mean)\n",
    "    print(\"95%-квантиль выручки:\", upper)\n",
    "    print(\"5%-квантиль выручки:\", lower)\n",
    "    print(\"Вероятность убытков:\", risks,\"%\")"
   ]
  },
  {
   "cell_type": "markdown",
   "metadata": {},
   "source": [
    "Считаем для первого региона:"
   ]
  },
  {
   "cell_type": "code",
   "execution_count": 31,
   "metadata": {},
   "outputs": [
    {
     "name": "stdout",
     "output_type": "stream",
     "text": [
      "Средняя выручка: 435933772.1386621\n",
      "95%-квантиль выручки: 966504180.707376\n",
      "5%-квантиль выручки: -116231612.77720818\n",
      "Вероятность убытков: 6.1 %\n"
     ]
    }
   ],
   "source": [
    "income_risks(valid_target_1, pred_valid_1,  BOOTSTRAP_NUMBER, EXPLORE)"
   ]
  },
  {
   "cell_type": "markdown",
   "metadata": {},
   "source": [
    "Считаем для второго региона:"
   ]
  },
  {
   "cell_type": "code",
   "execution_count": 32,
   "metadata": {},
   "outputs": [
    {
     "name": "stdout",
     "output_type": "stream",
     "text": [
      "Средняя выручка: 489661254.41175246\n",
      "95%-квантиль выручки: 905762650.4248402\n",
      "5%-квантиль выручки: 55116177.27361494\n",
      "Вероятность убытков: 1.0999999999999999 %\n"
     ]
    }
   ],
   "source": [
    "income_risks(valid_target_2, pred_valid_2,  BOOTSTRAP_NUMBER, EXPLORE)"
   ]
  },
  {
   "cell_type": "markdown",
   "metadata": {},
   "source": [
    "Считаем для третьего региона:"
   ]
  },
  {
   "cell_type": "code",
   "execution_count": 33,
   "metadata": {},
   "outputs": [
    {
     "name": "stdout",
     "output_type": "stream",
     "text": [
      "Средняя выручка: 403687927.86213845\n",
      "95%-квантиль выручки: 952887416.7078604\n",
      "5%-квантиль выручки: -153116984.7619049\n",
      "Вероятность убытков: 7.1 %\n"
     ]
    }
   ],
   "source": [
    "income_risks(valid_target_3, pred_valid_3,  BOOTSTRAP_NUMBER, EXPLORE)"
   ]
  },
  {
   "cell_type": "markdown",
   "metadata": {},
   "source": [
    "Вывод по расчету прибыли:\n",
    "Несмотря на то, что у второго региона предсказания сырья оказались ниже остальных, этот регион лидирует по выручке и веротяности убытков (кроме того, он попадает в заданный диапазон по этому параметру в 2,5%).\n",
    "Наиболее лучшим регионом исходя из расчета выручки является - второй. При этом только в данном регионе вероятность убытков равна 1.1% и лежит в допустимом значении (Максимальное - 2.5%)."
   ]
  },
  {
   "cell_type": "markdown",
   "metadata": {},
   "source": [
    "## Итоговый вывод:"
   ]
  },
  {
   "cell_type": "markdown",
   "metadata": {},
   "source": [
    "В исследования были проделаны следующие шаги:\n",
    "  - были загружены и импортированы необходимые библиотеки;\n",
    "  - данные были осмотрены, предобработка не потребовалась;\n",
    "  - был расчитан предел безубыточной добычи в регионе, произведено сранение с имеющимися в регионах средними запасами;\n",
    "  - Данные были подготовлены и разбиты на выборки(обучающие и валидационные);\n",
    "  - была построена и обучена модель линейной регрессии и на основе неё получены предсказания по среднему запасу сырья в каждом регионе нефтедобычи, также были подсчитаны метрики RMSE по каждому региону;\n",
    "  - Была написана функция для расчета прибыли, после чего данная функция была применена к каждому региону, и получены расчеты, а также вычислены вероятности убытков;\n",
    "  \n",
    "По итогам исследования, установлено, что под параметры указанные в задании, для разработки нефтедобычи подходит второй регион нефтедобычи. В нём рассчитанная прибыль наибольшая, а вероятность убытков наименьшая и укладывается в допустимые значения."
   ]
  }
 ],
 "metadata": {
  "ExecuteTimeLog": [
   {
    "duration": 1383,
    "start_time": "2024-05-07T08:08:47.445Z"
   },
   {
    "duration": 596,
    "start_time": "2024-05-07T08:18:52.702Z"
   },
   {
    "duration": 47,
    "start_time": "2024-05-07T08:21:49.294Z"
   },
   {
    "duration": 173,
    "start_time": "2024-05-07T08:23:11.059Z"
   },
   {
    "duration": 113,
    "start_time": "2024-05-07T08:25:06.658Z"
   },
   {
    "duration": 149,
    "start_time": "2024-05-07T08:25:15.625Z"
   },
   {
    "duration": 152,
    "start_time": "2024-05-07T08:25:55.017Z"
   },
   {
    "duration": 8,
    "start_time": "2024-05-07T08:31:18.722Z"
   },
   {
    "duration": 37,
    "start_time": "2024-05-07T08:31:28.584Z"
   },
   {
    "duration": 41,
    "start_time": "2024-05-07T08:31:33.993Z"
   },
   {
    "duration": 40,
    "start_time": "2024-05-07T08:31:38.400Z"
   },
   {
    "duration": 86,
    "start_time": "2024-05-07T08:35:15.096Z"
   },
   {
    "duration": 92,
    "start_time": "2024-05-07T08:35:27.359Z"
   },
   {
    "duration": 13,
    "start_time": "2024-05-07T08:50:27.017Z"
   },
   {
    "duration": 7,
    "start_time": "2024-05-07T08:51:22.647Z"
   },
   {
    "duration": 7,
    "start_time": "2024-05-07T08:51:37.440Z"
   },
   {
    "duration": 7,
    "start_time": "2024-05-07T08:51:40.223Z"
   },
   {
    "duration": 50,
    "start_time": "2024-05-07T08:52:01.448Z"
   },
   {
    "duration": 15,
    "start_time": "2024-05-07T08:52:09.786Z"
   },
   {
    "duration": 6,
    "start_time": "2024-05-07T08:52:14.152Z"
   },
   {
    "duration": 1243,
    "start_time": "2024-05-07T08:52:21.306Z"
   },
   {
    "duration": 344,
    "start_time": "2024-05-07T08:52:22.551Z"
   },
   {
    "duration": 177,
    "start_time": "2024-05-07T08:52:22.897Z"
   },
   {
    "duration": 96,
    "start_time": "2024-05-07T08:52:23.076Z"
   },
   {
    "duration": 31,
    "start_time": "2024-05-07T08:52:23.174Z"
   },
   {
    "duration": 17,
    "start_time": "2024-05-07T08:52:23.207Z"
   },
   {
    "duration": 28,
    "start_time": "2024-05-07T08:52:23.225Z"
   },
   {
    "duration": 13,
    "start_time": "2024-05-07T08:52:23.254Z"
   },
   {
    "duration": 42,
    "start_time": "2024-05-07T12:08:34.630Z"
   },
   {
    "duration": 3,
    "start_time": "2024-05-07T12:09:37.327Z"
   },
   {
    "duration": 101,
    "start_time": "2024-05-07T12:15:12.941Z"
   },
   {
    "duration": 8,
    "start_time": "2024-05-07T12:22:26.405Z"
   },
   {
    "duration": 14,
    "start_time": "2024-05-07T12:23:07.853Z"
   },
   {
    "duration": 9,
    "start_time": "2024-05-07T12:23:09.308Z"
   },
   {
    "duration": 4,
    "start_time": "2024-05-07T12:23:22.157Z"
   },
   {
    "duration": 11,
    "start_time": "2024-05-07T12:24:25.757Z"
   },
   {
    "duration": 4,
    "start_time": "2024-05-07T12:24:49.301Z"
   },
   {
    "duration": 11,
    "start_time": "2024-05-07T12:25:27.444Z"
   },
   {
    "duration": 4,
    "start_time": "2024-05-07T12:25:50.078Z"
   },
   {
    "duration": 3,
    "start_time": "2024-05-07T12:26:30.476Z"
   },
   {
    "duration": 3,
    "start_time": "2024-05-07T12:26:38.668Z"
   },
   {
    "duration": 3,
    "start_time": "2024-05-07T12:28:20.228Z"
   },
   {
    "duration": 3,
    "start_time": "2024-05-07T12:28:42.828Z"
   },
   {
    "duration": 7,
    "start_time": "2024-05-07T12:28:44.005Z"
   },
   {
    "duration": 11,
    "start_time": "2024-05-07T12:29:45.389Z"
   },
   {
    "duration": 3,
    "start_time": "2024-05-07T12:29:48.124Z"
   },
   {
    "duration": 10,
    "start_time": "2024-05-07T12:30:27.221Z"
   },
   {
    "duration": 3,
    "start_time": "2024-05-07T12:30:41.452Z"
   },
   {
    "duration": 10,
    "start_time": "2024-05-07T12:37:42.308Z"
   },
   {
    "duration": 3,
    "start_time": "2024-05-07T12:37:56.556Z"
   },
   {
    "duration": 3,
    "start_time": "2024-05-07T13:02:05.283Z"
   },
   {
    "duration": 7,
    "start_time": "2024-05-07T13:03:18.083Z"
   },
   {
    "duration": 3,
    "start_time": "2024-05-07T13:03:56.570Z"
   },
   {
    "duration": 5,
    "start_time": "2024-05-07T13:03:58.362Z"
   },
   {
    "duration": 10,
    "start_time": "2024-05-07T13:04:04.923Z"
   },
   {
    "duration": 2,
    "start_time": "2024-05-07T13:04:49.019Z"
   },
   {
    "duration": 4,
    "start_time": "2024-05-07T13:05:39.427Z"
   },
   {
    "duration": 1094,
    "start_time": "2024-05-07T13:05:57.787Z"
   },
   {
    "duration": 1096,
    "start_time": "2024-05-07T13:06:46.251Z"
   },
   {
    "duration": 1076,
    "start_time": "2024-05-07T13:07:13.986Z"
   },
   {
    "duration": 3,
    "start_time": "2024-05-07T13:29:10.502Z"
   },
   {
    "duration": 357,
    "start_time": "2024-05-07T13:30:05.582Z"
   },
   {
    "duration": 334,
    "start_time": "2024-05-07T13:30:59.358Z"
   },
   {
    "duration": 314,
    "start_time": "2024-05-07T13:31:57.470Z"
   },
   {
    "duration": 301,
    "start_time": "2024-05-07T13:32:16.166Z"
   },
   {
    "duration": 332,
    "start_time": "2024-05-07T13:32:35.734Z"
   },
   {
    "duration": 282,
    "start_time": "2024-05-07T13:32:49.208Z"
   },
   {
    "duration": 265,
    "start_time": "2024-05-07T13:32:58.513Z"
   },
   {
    "duration": 271,
    "start_time": "2024-05-07T13:33:46.503Z"
   },
   {
    "duration": 241,
    "start_time": "2024-05-07T13:33:53.918Z"
   },
   {
    "duration": 1224,
    "start_time": "2024-05-07T13:35:37.205Z"
   },
   {
    "duration": 319,
    "start_time": "2024-05-07T13:35:38.431Z"
   },
   {
    "duration": 157,
    "start_time": "2024-05-07T13:35:38.752Z"
   },
   {
    "duration": 102,
    "start_time": "2024-05-07T13:35:38.910Z"
   },
   {
    "duration": 13,
    "start_time": "2024-05-07T13:35:39.013Z"
   },
   {
    "duration": 23,
    "start_time": "2024-05-07T13:35:39.027Z"
   },
   {
    "duration": 40,
    "start_time": "2024-05-07T13:35:39.051Z"
   },
   {
    "duration": 29,
    "start_time": "2024-05-07T13:35:39.093Z"
   },
   {
    "duration": 14,
    "start_time": "2024-05-07T13:35:39.124Z"
   },
   {
    "duration": 18,
    "start_time": "2024-05-07T13:35:39.141Z"
   },
   {
    "duration": 4,
    "start_time": "2024-05-07T13:35:39.160Z"
   },
   {
    "duration": 15,
    "start_time": "2024-05-07T13:35:39.166Z"
   },
   {
    "duration": 5,
    "start_time": "2024-05-07T13:35:39.182Z"
   },
   {
    "duration": 23,
    "start_time": "2024-05-07T13:35:39.189Z"
   },
   {
    "duration": 6,
    "start_time": "2024-05-07T13:35:39.213Z"
   },
   {
    "duration": 5,
    "start_time": "2024-05-07T13:35:39.221Z"
   },
   {
    "duration": 22,
    "start_time": "2024-05-07T13:35:39.227Z"
   },
   {
    "duration": 170,
    "start_time": "2024-05-07T13:35:39.251Z"
   },
   {
    "duration": 72,
    "start_time": "2024-05-07T13:35:39.422Z"
   },
   {
    "duration": 107,
    "start_time": "2024-05-07T13:35:39.496Z"
   },
   {
    "duration": 106,
    "start_time": "2024-05-07T13:35:39.604Z"
   },
   {
    "duration": 93,
    "start_time": "2024-05-07T13:35:39.711Z"
   },
   {
    "duration": 124,
    "start_time": "2024-05-07T13:35:39.806Z"
   },
   {
    "duration": 334,
    "start_time": "2024-05-07T13:35:39.931Z"
   },
   {
    "duration": 3,
    "start_time": "2024-05-07T13:35:40.267Z"
   },
   {
    "duration": 60,
    "start_time": "2024-05-07T13:35:40.271Z"
   },
   {
    "duration": 18,
    "start_time": "2024-05-07T13:35:40.333Z"
   },
   {
    "duration": 1141,
    "start_time": "2024-05-07T13:35:40.353Z"
   },
   {
    "duration": 1095,
    "start_time": "2024-05-07T13:35:41.495Z"
   },
   {
    "duration": 1075,
    "start_time": "2024-05-07T13:35:42.591Z"
   },
   {
    "duration": 1066,
    "start_time": "2024-05-07T13:51:44.155Z"
   },
   {
    "duration": 1115,
    "start_time": "2024-05-07T13:52:04.482Z"
   },
   {
    "duration": 1126,
    "start_time": "2024-05-07T13:52:22.196Z"
   },
   {
    "duration": 4,
    "start_time": "2024-05-07T13:52:57.195Z"
   },
   {
    "duration": 1080,
    "start_time": "2024-05-07T13:52:58.290Z"
   },
   {
    "duration": 1065,
    "start_time": "2024-05-07T13:53:01.522Z"
   },
   {
    "duration": 1082,
    "start_time": "2024-05-07T13:53:04.050Z"
   },
   {
    "duration": 4,
    "start_time": "2024-05-07T13:59:19.331Z"
   },
   {
    "duration": 1137,
    "start_time": "2024-05-07T13:59:20.778Z"
   },
   {
    "duration": 1080,
    "start_time": "2024-05-07T13:59:55.690Z"
   },
   {
    "duration": 1079,
    "start_time": "2024-05-07T14:00:17.970Z"
   },
   {
    "duration": 241,
    "start_time": "2024-05-07T14:01:34.117Z"
   },
   {
    "duration": 105,
    "start_time": "2024-05-07T14:02:00.338Z"
   },
   {
    "duration": 4,
    "start_time": "2024-05-07T14:04:12.866Z"
   },
   {
    "duration": 7,
    "start_time": "2024-05-07T14:04:26.946Z"
   },
   {
    "duration": 1162,
    "start_time": "2024-05-07T14:04:32.553Z"
   },
   {
    "duration": 6,
    "start_time": "2024-05-07T14:05:27.602Z"
   },
   {
    "duration": 1305,
    "start_time": "2024-05-07T14:05:34.441Z"
   },
   {
    "duration": 4,
    "start_time": "2024-05-07T14:05:48.002Z"
   },
   {
    "duration": 1111,
    "start_time": "2024-05-07T14:05:49.057Z"
   },
   {
    "duration": 1214,
    "start_time": "2024-05-07T14:05:57.225Z"
   },
   {
    "duration": 327,
    "start_time": "2024-05-07T14:05:58.442Z"
   },
   {
    "duration": 158,
    "start_time": "2024-05-07T14:05:58.770Z"
   },
   {
    "duration": 101,
    "start_time": "2024-05-07T14:05:58.930Z"
   },
   {
    "duration": 12,
    "start_time": "2024-05-07T14:05:59.033Z"
   },
   {
    "duration": 23,
    "start_time": "2024-05-07T14:05:59.046Z"
   },
   {
    "duration": 40,
    "start_time": "2024-05-07T14:05:59.071Z"
   },
   {
    "duration": 18,
    "start_time": "2024-05-07T14:05:59.112Z"
   },
   {
    "duration": 17,
    "start_time": "2024-05-07T14:05:59.131Z"
   },
   {
    "duration": 46,
    "start_time": "2024-05-07T14:05:59.150Z"
   },
   {
    "duration": 18,
    "start_time": "2024-05-07T14:05:59.198Z"
   },
   {
    "duration": 29,
    "start_time": "2024-05-07T14:05:59.218Z"
   },
   {
    "duration": 10,
    "start_time": "2024-05-07T14:05:59.248Z"
   },
   {
    "duration": 40,
    "start_time": "2024-05-07T14:05:59.260Z"
   },
   {
    "duration": 4,
    "start_time": "2024-05-07T14:05:59.301Z"
   },
   {
    "duration": 26,
    "start_time": "2024-05-07T14:05:59.306Z"
   },
   {
    "duration": 32,
    "start_time": "2024-05-07T14:05:59.334Z"
   },
   {
    "duration": 35,
    "start_time": "2024-05-07T14:05:59.368Z"
   },
   {
    "duration": 117,
    "start_time": "2024-05-07T14:05:59.404Z"
   },
   {
    "duration": 8,
    "start_time": "2024-05-07T14:05:59.523Z"
   },
   {
    "duration": 102,
    "start_time": "2024-05-07T14:05:59.601Z"
   },
   {
    "duration": 103,
    "start_time": "2024-05-07T14:05:59.707Z"
   },
   {
    "duration": 3,
    "start_time": "2024-05-07T14:05:59.812Z"
   },
   {
    "duration": 353,
    "start_time": "2024-05-07T14:05:59.816Z"
   },
   {
    "duration": 2,
    "start_time": "2024-05-07T14:06:00.170Z"
   },
   {
    "duration": 79,
    "start_time": "2024-05-07T14:06:00.174Z"
   },
   {
    "duration": 96,
    "start_time": "2024-05-07T14:06:00.255Z"
   },
   {
    "duration": 1163,
    "start_time": "2024-05-07T14:06:00.354Z"
   },
   {
    "duration": 1102,
    "start_time": "2024-05-07T14:06:01.518Z"
   },
   {
    "duration": 1079,
    "start_time": "2024-05-07T14:06:02.622Z"
   },
   {
    "duration": 100,
    "start_time": "2024-05-07T14:06:03.702Z"
   },
   {
    "duration": 5,
    "start_time": "2024-05-07T14:10:57.801Z"
   },
   {
    "duration": 1187,
    "start_time": "2024-05-07T14:11:00.488Z"
   },
   {
    "duration": 5,
    "start_time": "2024-05-07T14:11:46.561Z"
   },
   {
    "duration": 1182,
    "start_time": "2024-05-07T14:11:48.760Z"
   },
   {
    "duration": 1191,
    "start_time": "2024-05-07T14:11:57.696Z"
   },
   {
    "duration": 1099,
    "start_time": "2024-05-07T14:12:00.953Z"
   },
   {
    "duration": 1238,
    "start_time": "2024-05-07T14:13:52.113Z"
   },
   {
    "duration": 318,
    "start_time": "2024-05-07T14:13:53.353Z"
   },
   {
    "duration": 168,
    "start_time": "2024-05-07T14:13:53.673Z"
   },
   {
    "duration": 110,
    "start_time": "2024-05-07T14:13:53.843Z"
   },
   {
    "duration": 12,
    "start_time": "2024-05-07T14:13:53.955Z"
   },
   {
    "duration": 48,
    "start_time": "2024-05-07T14:13:53.968Z"
   },
   {
    "duration": 26,
    "start_time": "2024-05-07T14:13:54.017Z"
   },
   {
    "duration": 37,
    "start_time": "2024-05-07T14:13:54.045Z"
   },
   {
    "duration": 16,
    "start_time": "2024-05-07T14:13:54.083Z"
   },
   {
    "duration": 41,
    "start_time": "2024-05-07T14:13:54.100Z"
   },
   {
    "duration": 4,
    "start_time": "2024-05-07T14:13:54.142Z"
   },
   {
    "duration": 18,
    "start_time": "2024-05-07T14:13:54.147Z"
   },
   {
    "duration": 21,
    "start_time": "2024-05-07T14:13:54.167Z"
   },
   {
    "duration": 14,
    "start_time": "2024-05-07T14:13:54.190Z"
   },
   {
    "duration": 30,
    "start_time": "2024-05-07T14:13:54.206Z"
   },
   {
    "duration": 19,
    "start_time": "2024-05-07T14:13:54.237Z"
   },
   {
    "duration": 28,
    "start_time": "2024-05-07T14:13:54.257Z"
   },
   {
    "duration": 21,
    "start_time": "2024-05-07T14:13:54.288Z"
   },
   {
    "duration": 117,
    "start_time": "2024-05-07T14:13:54.311Z"
   },
   {
    "duration": 7,
    "start_time": "2024-05-07T14:13:54.504Z"
   },
   {
    "duration": 110,
    "start_time": "2024-05-07T14:13:54.512Z"
   },
   {
    "duration": 81,
    "start_time": "2024-05-07T14:13:54.623Z"
   },
   {
    "duration": 15,
    "start_time": "2024-05-07T14:13:54.706Z"
   },
   {
    "duration": 290,
    "start_time": "2024-05-07T14:13:54.802Z"
   },
   {
    "duration": 14,
    "start_time": "2024-05-07T14:13:55.093Z"
   },
   {
    "duration": 41,
    "start_time": "2024-05-07T14:13:55.109Z"
   },
   {
    "duration": 11,
    "start_time": "2024-05-07T14:13:55.152Z"
   },
   {
    "duration": 1199,
    "start_time": "2024-05-07T14:13:55.164Z"
   },
   {
    "duration": 1115,
    "start_time": "2024-05-07T14:13:56.364Z"
   },
   {
    "duration": 1109,
    "start_time": "2024-05-07T14:13:57.480Z"
   },
   {
    "duration": 1233,
    "start_time": "2024-05-07T14:14:21.655Z"
   },
   {
    "duration": 330,
    "start_time": "2024-05-07T14:14:22.889Z"
   },
   {
    "duration": 168,
    "start_time": "2024-05-07T14:14:23.222Z"
   },
   {
    "duration": 114,
    "start_time": "2024-05-07T14:14:23.391Z"
   },
   {
    "duration": 15,
    "start_time": "2024-05-07T14:14:23.506Z"
   },
   {
    "duration": 56,
    "start_time": "2024-05-07T14:14:23.523Z"
   },
   {
    "duration": 25,
    "start_time": "2024-05-07T14:14:23.580Z"
   },
   {
    "duration": 26,
    "start_time": "2024-05-07T14:14:23.607Z"
   },
   {
    "duration": 4,
    "start_time": "2024-05-07T14:14:23.634Z"
   },
   {
    "duration": 23,
    "start_time": "2024-05-07T14:14:23.640Z"
   },
   {
    "duration": 4,
    "start_time": "2024-05-07T14:14:23.664Z"
   },
   {
    "duration": 12,
    "start_time": "2024-05-07T14:14:23.669Z"
   },
   {
    "duration": 4,
    "start_time": "2024-05-07T14:14:23.682Z"
   },
   {
    "duration": 18,
    "start_time": "2024-05-07T14:14:23.687Z"
   },
   {
    "duration": 4,
    "start_time": "2024-05-07T14:14:23.706Z"
   },
   {
    "duration": 26,
    "start_time": "2024-05-07T14:14:23.712Z"
   },
   {
    "duration": 16,
    "start_time": "2024-05-07T14:14:23.740Z"
   },
   {
    "duration": 49,
    "start_time": "2024-05-07T14:14:23.757Z"
   },
   {
    "duration": 104,
    "start_time": "2024-05-07T14:14:23.807Z"
   },
   {
    "duration": 4,
    "start_time": "2024-05-07T14:14:23.914Z"
   },
   {
    "duration": 100,
    "start_time": "2024-05-07T14:14:23.919Z"
   },
   {
    "duration": 75,
    "start_time": "2024-05-07T14:14:24.028Z"
   },
   {
    "duration": 100,
    "start_time": "2024-05-07T14:14:24.104Z"
   },
   {
    "duration": 279,
    "start_time": "2024-05-07T14:14:24.205Z"
   },
   {
    "duration": 5,
    "start_time": "2024-05-07T14:14:24.502Z"
   },
   {
    "duration": 91,
    "start_time": "2024-05-07T14:14:24.509Z"
   },
   {
    "duration": 31,
    "start_time": "2024-05-07T14:14:24.601Z"
   },
   {
    "duration": 1243,
    "start_time": "2024-05-07T14:14:24.634Z"
   },
   {
    "duration": 1172,
    "start_time": "2024-05-07T14:14:25.878Z"
   },
   {
    "duration": 1174,
    "start_time": "2024-05-07T14:14:27.051Z"
   },
   {
    "duration": 9,
    "start_time": "2024-05-07T16:21:09.623Z"
   },
   {
    "duration": 5,
    "start_time": "2024-05-07T16:21:15.958Z"
   },
   {
    "duration": 40,
    "start_time": "2024-05-07T16:21:18.141Z"
   },
   {
    "duration": 1443,
    "start_time": "2024-05-07T16:21:25.551Z"
   },
   {
    "duration": 608,
    "start_time": "2024-05-07T16:21:26.996Z"
   },
   {
    "duration": 175,
    "start_time": "2024-05-07T16:21:27.606Z"
   },
   {
    "duration": 114,
    "start_time": "2024-05-07T16:21:27.784Z"
   },
   {
    "duration": 25,
    "start_time": "2024-05-07T16:21:27.900Z"
   },
   {
    "duration": 11,
    "start_time": "2024-05-07T16:21:27.927Z"
   },
   {
    "duration": 10,
    "start_time": "2024-05-07T16:21:27.940Z"
   },
   {
    "duration": 8,
    "start_time": "2024-05-07T16:21:27.951Z"
   },
   {
    "duration": 4,
    "start_time": "2024-05-07T16:21:27.960Z"
   },
   {
    "duration": 23,
    "start_time": "2024-05-07T16:21:27.966Z"
   },
   {
    "duration": 4,
    "start_time": "2024-05-07T16:21:27.990Z"
   },
   {
    "duration": 30,
    "start_time": "2024-05-07T16:21:27.996Z"
   },
   {
    "duration": 4,
    "start_time": "2024-05-07T16:21:28.028Z"
   },
   {
    "duration": 20,
    "start_time": "2024-05-07T16:21:28.034Z"
   },
   {
    "duration": 4,
    "start_time": "2024-05-07T16:21:28.056Z"
   },
   {
    "duration": 7,
    "start_time": "2024-05-07T16:21:28.061Z"
   },
   {
    "duration": 151,
    "start_time": "2024-05-07T16:21:28.069Z"
   },
   {
    "duration": 8,
    "start_time": "2024-05-07T16:21:28.224Z"
   },
   {
    "duration": 14,
    "start_time": "2024-05-07T16:21:28.318Z"
   },
   {
    "duration": 5,
    "start_time": "2024-05-07T16:21:28.334Z"
   },
   {
    "duration": 188,
    "start_time": "2024-05-07T16:21:28.340Z"
   },
   {
    "duration": 88,
    "start_time": "2024-05-07T16:21:28.532Z"
   },
   {
    "duration": 7,
    "start_time": "2024-05-07T16:21:28.622Z"
   },
   {
    "duration": 395,
    "start_time": "2024-05-07T16:21:28.631Z"
   },
   {
    "duration": 3,
    "start_time": "2024-05-07T16:21:29.027Z"
   },
   {
    "duration": 4,
    "start_time": "2024-05-07T16:21:29.031Z"
   },
   {
    "duration": 12,
    "start_time": "2024-05-07T16:21:29.036Z"
   },
   {
    "duration": 111,
    "start_time": "2024-05-07T16:21:29.051Z"
   },
   {
    "duration": 0,
    "start_time": "2024-05-07T16:21:29.164Z"
   },
   {
    "duration": 0,
    "start_time": "2024-05-07T16:21:29.164Z"
   },
   {
    "duration": 1389,
    "start_time": "2024-05-07T16:21:54.118Z"
   },
   {
    "duration": 1378,
    "start_time": "2024-05-07T16:22:11.534Z"
   },
   {
    "duration": 1386,
    "start_time": "2024-05-07T16:22:14.239Z"
   },
   {
    "duration": 69,
    "start_time": "2024-05-07T16:37:18.993Z"
   },
   {
    "duration": 3,
    "start_time": "2024-05-07T16:41:31.340Z"
   },
   {
    "duration": 3,
    "start_time": "2024-05-07T16:41:32.107Z"
   },
   {
    "duration": 2,
    "start_time": "2024-05-07T16:41:32.764Z"
   },
   {
    "duration": 3,
    "start_time": "2024-05-07T16:42:54.292Z"
   },
   {
    "duration": 3,
    "start_time": "2024-05-07T16:43:15.308Z"
   },
   {
    "duration": 390,
    "start_time": "2024-05-07T16:45:29.118Z"
   },
   {
    "duration": 278,
    "start_time": "2024-05-07T16:46:38.242Z"
   },
   {
    "duration": 362,
    "start_time": "2024-05-07T16:47:25.703Z"
   },
   {
    "duration": 255,
    "start_time": "2024-05-07T16:47:40.685Z"
   },
   {
    "duration": 202,
    "start_time": "2024-05-07T16:48:07.047Z"
   },
   {
    "duration": 333,
    "start_time": "2024-05-07T16:48:57.313Z"
   },
   {
    "duration": 3,
    "start_time": "2024-05-07T16:51:15.914Z"
   },
   {
    "duration": 3,
    "start_time": "2024-05-07T16:51:23.179Z"
   },
   {
    "duration": 45,
    "start_time": "2024-05-07T16:51:39.523Z"
   },
   {
    "duration": 3,
    "start_time": "2024-05-07T16:51:47.913Z"
   },
   {
    "duration": 3,
    "start_time": "2024-05-07T16:52:01.986Z"
   },
   {
    "duration": 3,
    "start_time": "2024-05-07T16:53:20.435Z"
   },
   {
    "duration": 9,
    "start_time": "2024-05-07T16:53:38.490Z"
   },
   {
    "duration": 40,
    "start_time": "2024-05-07T16:54:09.492Z"
   },
   {
    "duration": 3,
    "start_time": "2024-05-07T16:55:30.528Z"
   },
   {
    "duration": 3,
    "start_time": "2024-05-07T16:55:53.443Z"
   },
   {
    "duration": 3,
    "start_time": "2024-05-07T16:56:02.903Z"
   },
   {
    "duration": 4,
    "start_time": "2024-05-07T16:56:11.779Z"
   },
   {
    "duration": 4,
    "start_time": "2024-05-07T16:56:28.349Z"
   },
   {
    "duration": 2,
    "start_time": "2024-05-07T16:56:34.860Z"
   },
   {
    "duration": 1415,
    "start_time": "2024-05-07T17:01:39.524Z"
   },
   {
    "duration": 375,
    "start_time": "2024-05-07T17:01:40.941Z"
   },
   {
    "duration": 193,
    "start_time": "2024-05-07T17:01:41.317Z"
   },
   {
    "duration": 110,
    "start_time": "2024-05-07T17:01:41.519Z"
   },
   {
    "duration": 13,
    "start_time": "2024-05-07T17:01:41.630Z"
   },
   {
    "duration": 47,
    "start_time": "2024-05-07T17:01:41.644Z"
   },
   {
    "duration": 32,
    "start_time": "2024-05-07T17:01:41.692Z"
   },
   {
    "duration": 26,
    "start_time": "2024-05-07T17:01:41.725Z"
   },
   {
    "duration": 29,
    "start_time": "2024-05-07T17:01:41.752Z"
   },
   {
    "duration": 53,
    "start_time": "2024-05-07T17:01:41.784Z"
   },
   {
    "duration": 7,
    "start_time": "2024-05-07T17:01:41.839Z"
   },
   {
    "duration": 37,
    "start_time": "2024-05-07T17:01:41.848Z"
   },
   {
    "duration": 7,
    "start_time": "2024-05-07T17:01:41.886Z"
   },
   {
    "duration": 45,
    "start_time": "2024-05-07T17:01:41.894Z"
   },
   {
    "duration": 19,
    "start_time": "2024-05-07T17:01:41.941Z"
   },
   {
    "duration": 24,
    "start_time": "2024-05-07T17:01:41.962Z"
   },
   {
    "duration": 130,
    "start_time": "2024-05-07T17:01:41.988Z"
   },
   {
    "duration": 5,
    "start_time": "2024-05-07T17:01:42.120Z"
   },
   {
    "duration": 110,
    "start_time": "2024-05-07T17:01:42.127Z"
   },
   {
    "duration": 88,
    "start_time": "2024-05-07T17:01:42.239Z"
   },
   {
    "duration": 11,
    "start_time": "2024-05-07T17:01:42.419Z"
   },
   {
    "duration": 186,
    "start_time": "2024-05-07T17:01:42.433Z"
   },
   {
    "duration": 14,
    "start_time": "2024-05-07T17:01:42.621Z"
   },
   {
    "duration": 363,
    "start_time": "2024-05-07T17:01:42.637Z"
   },
   {
    "duration": 3,
    "start_time": "2024-05-07T17:01:43.002Z"
   },
   {
    "duration": 4,
    "start_time": "2024-05-07T17:01:43.017Z"
   },
   {
    "duration": 3,
    "start_time": "2024-05-07T17:01:43.022Z"
   },
   {
    "duration": 314,
    "start_time": "2024-05-07T17:01:43.028Z"
   },
   {
    "duration": 3,
    "start_time": "2024-05-07T17:01:43.343Z"
   },
   {
    "duration": 6,
    "start_time": "2024-05-07T17:01:43.348Z"
   },
   {
    "duration": 1402,
    "start_time": "2024-05-07T17:01:43.355Z"
   },
   {
    "duration": 1393,
    "start_time": "2024-05-07T17:01:44.759Z"
   },
   {
    "duration": 1421,
    "start_time": "2024-05-07T17:01:46.154Z"
   },
   {
    "duration": 1315,
    "start_time": "2024-05-07T17:03:56.016Z"
   },
   {
    "duration": 399,
    "start_time": "2024-05-07T17:03:57.333Z"
   },
   {
    "duration": 194,
    "start_time": "2024-05-07T17:03:57.734Z"
   },
   {
    "duration": 134,
    "start_time": "2024-05-07T17:03:57.930Z"
   },
   {
    "duration": 13,
    "start_time": "2024-05-07T17:03:58.066Z"
   },
   {
    "duration": 16,
    "start_time": "2024-05-07T17:03:58.081Z"
   },
   {
    "duration": 21,
    "start_time": "2024-05-07T17:03:58.098Z"
   },
   {
    "duration": 11,
    "start_time": "2024-05-07T17:03:58.121Z"
   },
   {
    "duration": 8,
    "start_time": "2024-05-07T17:03:58.134Z"
   },
   {
    "duration": 33,
    "start_time": "2024-05-07T17:03:58.144Z"
   },
   {
    "duration": 4,
    "start_time": "2024-05-07T17:03:58.178Z"
   },
   {
    "duration": 13,
    "start_time": "2024-05-07T17:03:58.184Z"
   },
   {
    "duration": 5,
    "start_time": "2024-05-07T17:03:58.198Z"
   },
   {
    "duration": 14,
    "start_time": "2024-05-07T17:03:58.217Z"
   },
   {
    "duration": 4,
    "start_time": "2024-05-07T17:03:58.233Z"
   },
   {
    "duration": 10,
    "start_time": "2024-05-07T17:03:58.239Z"
   },
   {
    "duration": 16,
    "start_time": "2024-05-07T17:03:58.250Z"
   },
   {
    "duration": 154,
    "start_time": "2024-05-07T17:03:58.268Z"
   },
   {
    "duration": 24,
    "start_time": "2024-05-07T17:03:58.424Z"
   },
   {
    "duration": 66,
    "start_time": "2024-05-07T17:03:58.453Z"
   },
   {
    "duration": 103,
    "start_time": "2024-05-07T17:03:58.521Z"
   },
   {
    "duration": 103,
    "start_time": "2024-05-07T17:03:58.626Z"
   },
   {
    "duration": 96,
    "start_time": "2024-05-07T17:03:58.731Z"
   },
   {
    "duration": 328,
    "start_time": "2024-05-07T17:03:58.829Z"
   },
   {
    "duration": 2,
    "start_time": "2024-05-07T17:03:59.159Z"
   },
   {
    "duration": 15,
    "start_time": "2024-05-07T17:03:59.163Z"
   },
   {
    "duration": 7,
    "start_time": "2024-05-07T17:03:59.180Z"
   },
   {
    "duration": 281,
    "start_time": "2024-05-07T17:03:59.190Z"
   },
   {
    "duration": 4,
    "start_time": "2024-05-07T17:03:59.472Z"
   },
   {
    "duration": 6,
    "start_time": "2024-05-07T17:03:59.477Z"
   },
   {
    "duration": 1451,
    "start_time": "2024-05-07T17:03:59.485Z"
   },
   {
    "duration": 1454,
    "start_time": "2024-05-07T17:04:00.938Z"
   },
   {
    "duration": 1464,
    "start_time": "2024-05-07T17:04:02.393Z"
   },
   {
    "duration": 1256,
    "start_time": "2024-05-07T17:05:53.562Z"
   },
   {
    "duration": 379,
    "start_time": "2024-05-07T17:05:54.819Z"
   },
   {
    "duration": 173,
    "start_time": "2024-05-07T17:05:55.200Z"
   },
   {
    "duration": 106,
    "start_time": "2024-05-07T17:05:55.375Z"
   },
   {
    "duration": 14,
    "start_time": "2024-05-07T17:05:55.483Z"
   },
   {
    "duration": 23,
    "start_time": "2024-05-07T17:05:55.498Z"
   },
   {
    "duration": 10,
    "start_time": "2024-05-07T17:05:55.522Z"
   },
   {
    "duration": 11,
    "start_time": "2024-05-07T17:05:55.534Z"
   },
   {
    "duration": 4,
    "start_time": "2024-05-07T17:05:55.546Z"
   },
   {
    "duration": 21,
    "start_time": "2024-05-07T17:05:55.553Z"
   },
   {
    "duration": 5,
    "start_time": "2024-05-07T17:05:55.575Z"
   },
   {
    "duration": 48,
    "start_time": "2024-05-07T17:05:55.581Z"
   },
   {
    "duration": 3,
    "start_time": "2024-05-07T17:05:55.631Z"
   },
   {
    "duration": 25,
    "start_time": "2024-05-07T17:05:55.636Z"
   },
   {
    "duration": 11,
    "start_time": "2024-05-07T17:05:55.663Z"
   },
   {
    "duration": 38,
    "start_time": "2024-05-07T17:05:55.676Z"
   },
   {
    "duration": 103,
    "start_time": "2024-05-07T17:05:55.715Z"
   },
   {
    "duration": 4,
    "start_time": "2024-05-07T17:05:55.820Z"
   },
   {
    "duration": 193,
    "start_time": "2024-05-07T17:05:55.825Z"
   },
   {
    "duration": 4,
    "start_time": "2024-05-07T17:05:56.020Z"
   },
   {
    "duration": 108,
    "start_time": "2024-05-07T17:05:56.026Z"
   },
   {
    "duration": 83,
    "start_time": "2024-05-07T17:05:56.136Z"
   },
   {
    "duration": 4,
    "start_time": "2024-05-07T17:05:56.221Z"
   },
   {
    "duration": 374,
    "start_time": "2024-05-07T17:05:56.229Z"
   },
   {
    "duration": 3,
    "start_time": "2024-05-07T17:05:56.604Z"
   },
   {
    "duration": 3,
    "start_time": "2024-05-07T17:05:56.617Z"
   },
   {
    "duration": 5,
    "start_time": "2024-05-07T17:05:56.621Z"
   },
   {
    "duration": 330,
    "start_time": "2024-05-07T17:05:56.628Z"
   },
   {
    "duration": 3,
    "start_time": "2024-05-07T17:05:56.960Z"
   },
   {
    "duration": 12,
    "start_time": "2024-05-07T17:05:56.965Z"
   },
   {
    "duration": 1408,
    "start_time": "2024-05-07T17:05:56.978Z"
   },
   {
    "duration": 1397,
    "start_time": "2024-05-07T17:05:58.388Z"
   },
   {
    "duration": 1394,
    "start_time": "2024-05-07T17:05:59.787Z"
   },
   {
    "duration": 3,
    "start_time": "2024-05-07T17:06:46.147Z"
   }
  ],
  "kernelspec": {
   "display_name": "Python 3 (ipykernel)",
   "language": "python",
   "name": "python3"
  },
  "language_info": {
   "codemirror_mode": {
    "name": "ipython",
    "version": 3
   },
   "file_extension": ".py",
   "mimetype": "text/x-python",
   "name": "python",
   "nbconvert_exporter": "python",
   "pygments_lexer": "ipython3",
   "version": "3.9.5"
  },
  "toc": {
   "base_numbering": 1,
   "nav_menu": {},
   "number_sections": true,
   "sideBar": true,
   "skip_h1_title": true,
   "title_cell": "Table of Contents",
   "title_sidebar": "Contents",
   "toc_cell": false,
   "toc_position": {},
   "toc_section_display": true,
   "toc_window_display": false
  }
 },
 "nbformat": 4,
 "nbformat_minor": 2
}
