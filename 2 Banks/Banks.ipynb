{
 "cells": [
  {
   "cell_type": "markdown",
   "id": "0cf986f1",
   "metadata": {
    "deletable": false,
    "editable": false,
    "id": "c81daeeb"
   },
   "source": [
    "# Исследование надежности заемщиков\n"
   ]
  },
  {
   "cell_type": "markdown",
   "id": "bbff3b1a",
   "metadata": {
    "deletable": false,
    "editable": false,
    "id": "827c20bf"
   },
   "source": [
    "Во второй части проекта вы выполните шаги 3 и 4. Их вручную проверит ревьюер.\n",
    "Чтобы вам не пришлось писать код заново для шагов 1 и 2, мы добавили авторские решения в ячейки с кодом. \n",
    "\n"
   ]
  },
  {
   "cell_type": "markdown",
   "id": "21837e6e",
   "metadata": {
    "deletable": false,
    "editable": false,
    "id": "744d7639"
   },
   "source": [
    "## Откройте таблицу и изучите общую информацию о данных"
   ]
  },
  {
   "cell_type": "markdown",
   "id": "99b442b8",
   "metadata": {
    "deletable": false,
    "editable": false,
    "id": "e7a14c31"
   },
   "source": [
    "**Задание 1. Импортируйте библиотеку pandas. Считайте данные из csv-файла в датафрейм и сохраните в переменную `data`. Путь к файлу:**\n",
    "\n",
    "`/datasets/data.csv`"
   ]
  },
  {
   "cell_type": "code",
   "execution_count": 1,
   "id": "afc7d22b",
   "metadata": {
    "deletable": false,
    "id": "7bcf75c9"
   },
   "outputs": [],
   "source": [
    "import pandas as pd\n",
    "\n",
    "try:\n",
    "    data = pd.read_csv('/datasets/data.csv')\n",
    "except:\n",
    "    data = pd.read_csv('https://code.s3.yandex.net/datasets/data.csv')"
   ]
  },
  {
   "cell_type": "markdown",
   "id": "4b19da64",
   "metadata": {
    "deletable": false,
    "editable": false,
    "id": "b8038fe3"
   },
   "source": [
    "**Задание 2. Выведите первые 20 строчек датафрейма `data` на экран.**"
   ]
  },
  {
   "cell_type": "code",
   "execution_count": 2,
   "id": "11273c53",
   "metadata": {
    "deletable": false,
    "id": "2a7cab99",
    "outputId": "1a8f3ef2-d323-4ec2-ddf7-89670b5944c4",
    "scrolled": false
   },
   "outputs": [
    {
     "data": {
      "text/html": [
       "<div>\n",
       "<style scoped>\n",
       "    .dataframe tbody tr th:only-of-type {\n",
       "        vertical-align: middle;\n",
       "    }\n",
       "\n",
       "    .dataframe tbody tr th {\n",
       "        vertical-align: top;\n",
       "    }\n",
       "\n",
       "    .dataframe thead th {\n",
       "        text-align: right;\n",
       "    }\n",
       "</style>\n",
       "<table border=\"1\" class=\"dataframe\">\n",
       "  <thead>\n",
       "    <tr style=\"text-align: right;\">\n",
       "      <th></th>\n",
       "      <th>children</th>\n",
       "      <th>days_employed</th>\n",
       "      <th>dob_years</th>\n",
       "      <th>education</th>\n",
       "      <th>education_id</th>\n",
       "      <th>family_status</th>\n",
       "      <th>family_status_id</th>\n",
       "      <th>gender</th>\n",
       "      <th>income_type</th>\n",
       "      <th>debt</th>\n",
       "      <th>total_income</th>\n",
       "      <th>purpose</th>\n",
       "    </tr>\n",
       "  </thead>\n",
       "  <tbody>\n",
       "    <tr>\n",
       "      <th>0</th>\n",
       "      <td>1</td>\n",
       "      <td>-8437.673028</td>\n",
       "      <td>42</td>\n",
       "      <td>высшее</td>\n",
       "      <td>0</td>\n",
       "      <td>женат / замужем</td>\n",
       "      <td>0</td>\n",
       "      <td>F</td>\n",
       "      <td>сотрудник</td>\n",
       "      <td>0</td>\n",
       "      <td>253875.639453</td>\n",
       "      <td>покупка жилья</td>\n",
       "    </tr>\n",
       "    <tr>\n",
       "      <th>1</th>\n",
       "      <td>1</td>\n",
       "      <td>-4024.803754</td>\n",
       "      <td>36</td>\n",
       "      <td>среднее</td>\n",
       "      <td>1</td>\n",
       "      <td>женат / замужем</td>\n",
       "      <td>0</td>\n",
       "      <td>F</td>\n",
       "      <td>сотрудник</td>\n",
       "      <td>0</td>\n",
       "      <td>112080.014102</td>\n",
       "      <td>приобретение автомобиля</td>\n",
       "    </tr>\n",
       "    <tr>\n",
       "      <th>2</th>\n",
       "      <td>0</td>\n",
       "      <td>-5623.422610</td>\n",
       "      <td>33</td>\n",
       "      <td>Среднее</td>\n",
       "      <td>1</td>\n",
       "      <td>женат / замужем</td>\n",
       "      <td>0</td>\n",
       "      <td>M</td>\n",
       "      <td>сотрудник</td>\n",
       "      <td>0</td>\n",
       "      <td>145885.952297</td>\n",
       "      <td>покупка жилья</td>\n",
       "    </tr>\n",
       "    <tr>\n",
       "      <th>3</th>\n",
       "      <td>3</td>\n",
       "      <td>-4124.747207</td>\n",
       "      <td>32</td>\n",
       "      <td>среднее</td>\n",
       "      <td>1</td>\n",
       "      <td>женат / замужем</td>\n",
       "      <td>0</td>\n",
       "      <td>M</td>\n",
       "      <td>сотрудник</td>\n",
       "      <td>0</td>\n",
       "      <td>267628.550329</td>\n",
       "      <td>дополнительное образование</td>\n",
       "    </tr>\n",
       "    <tr>\n",
       "      <th>4</th>\n",
       "      <td>0</td>\n",
       "      <td>340266.072047</td>\n",
       "      <td>53</td>\n",
       "      <td>среднее</td>\n",
       "      <td>1</td>\n",
       "      <td>гражданский брак</td>\n",
       "      <td>1</td>\n",
       "      <td>F</td>\n",
       "      <td>пенсионер</td>\n",
       "      <td>0</td>\n",
       "      <td>158616.077870</td>\n",
       "      <td>сыграть свадьбу</td>\n",
       "    </tr>\n",
       "    <tr>\n",
       "      <th>5</th>\n",
       "      <td>0</td>\n",
       "      <td>-926.185831</td>\n",
       "      <td>27</td>\n",
       "      <td>высшее</td>\n",
       "      <td>0</td>\n",
       "      <td>гражданский брак</td>\n",
       "      <td>1</td>\n",
       "      <td>M</td>\n",
       "      <td>компаньон</td>\n",
       "      <td>0</td>\n",
       "      <td>255763.565419</td>\n",
       "      <td>покупка жилья</td>\n",
       "    </tr>\n",
       "    <tr>\n",
       "      <th>6</th>\n",
       "      <td>0</td>\n",
       "      <td>-2879.202052</td>\n",
       "      <td>43</td>\n",
       "      <td>высшее</td>\n",
       "      <td>0</td>\n",
       "      <td>женат / замужем</td>\n",
       "      <td>0</td>\n",
       "      <td>F</td>\n",
       "      <td>компаньон</td>\n",
       "      <td>0</td>\n",
       "      <td>240525.971920</td>\n",
       "      <td>операции с жильем</td>\n",
       "    </tr>\n",
       "    <tr>\n",
       "      <th>7</th>\n",
       "      <td>0</td>\n",
       "      <td>-152.779569</td>\n",
       "      <td>50</td>\n",
       "      <td>СРЕДНЕЕ</td>\n",
       "      <td>1</td>\n",
       "      <td>женат / замужем</td>\n",
       "      <td>0</td>\n",
       "      <td>M</td>\n",
       "      <td>сотрудник</td>\n",
       "      <td>0</td>\n",
       "      <td>135823.934197</td>\n",
       "      <td>образование</td>\n",
       "    </tr>\n",
       "    <tr>\n",
       "      <th>8</th>\n",
       "      <td>2</td>\n",
       "      <td>-6929.865299</td>\n",
       "      <td>35</td>\n",
       "      <td>ВЫСШЕЕ</td>\n",
       "      <td>0</td>\n",
       "      <td>гражданский брак</td>\n",
       "      <td>1</td>\n",
       "      <td>F</td>\n",
       "      <td>сотрудник</td>\n",
       "      <td>0</td>\n",
       "      <td>95856.832424</td>\n",
       "      <td>на проведение свадьбы</td>\n",
       "    </tr>\n",
       "    <tr>\n",
       "      <th>9</th>\n",
       "      <td>0</td>\n",
       "      <td>-2188.756445</td>\n",
       "      <td>41</td>\n",
       "      <td>среднее</td>\n",
       "      <td>1</td>\n",
       "      <td>женат / замужем</td>\n",
       "      <td>0</td>\n",
       "      <td>M</td>\n",
       "      <td>сотрудник</td>\n",
       "      <td>0</td>\n",
       "      <td>144425.938277</td>\n",
       "      <td>покупка жилья для семьи</td>\n",
       "    </tr>\n",
       "  </tbody>\n",
       "</table>\n",
       "</div>"
      ],
      "text/plain": [
       "   children  days_employed  dob_years education  education_id  \\\n",
       "0         1   -8437.673028         42    высшее             0   \n",
       "1         1   -4024.803754         36   среднее             1   \n",
       "2         0   -5623.422610         33   Среднее             1   \n",
       "3         3   -4124.747207         32   среднее             1   \n",
       "4         0  340266.072047         53   среднее             1   \n",
       "5         0    -926.185831         27    высшее             0   \n",
       "6         0   -2879.202052         43    высшее             0   \n",
       "7         0    -152.779569         50   СРЕДНЕЕ             1   \n",
       "8         2   -6929.865299         35    ВЫСШЕЕ             0   \n",
       "9         0   -2188.756445         41   среднее             1   \n",
       "\n",
       "      family_status  family_status_id gender income_type  debt   total_income  \\\n",
       "0   женат / замужем                 0      F   сотрудник     0  253875.639453   \n",
       "1   женат / замужем                 0      F   сотрудник     0  112080.014102   \n",
       "2   женат / замужем                 0      M   сотрудник     0  145885.952297   \n",
       "3   женат / замужем                 0      M   сотрудник     0  267628.550329   \n",
       "4  гражданский брак                 1      F   пенсионер     0  158616.077870   \n",
       "5  гражданский брак                 1      M   компаньон     0  255763.565419   \n",
       "6   женат / замужем                 0      F   компаньон     0  240525.971920   \n",
       "7   женат / замужем                 0      M   сотрудник     0  135823.934197   \n",
       "8  гражданский брак                 1      F   сотрудник     0   95856.832424   \n",
       "9   женат / замужем                 0      M   сотрудник     0  144425.938277   \n",
       "\n",
       "                      purpose  \n",
       "0               покупка жилья  \n",
       "1     приобретение автомобиля  \n",
       "2               покупка жилья  \n",
       "3  дополнительное образование  \n",
       "4             сыграть свадьбу  \n",
       "5               покупка жилья  \n",
       "6           операции с жильем  \n",
       "7                 образование  \n",
       "8       на проведение свадьбы  \n",
       "9     покупка жилья для семьи  "
      ]
     },
     "execution_count": 2,
     "metadata": {},
     "output_type": "execute_result"
    }
   ],
   "source": [
    "data.head(10)"
   ]
  },
  {
   "cell_type": "markdown",
   "id": "36baff18",
   "metadata": {
    "deletable": false,
    "editable": false,
    "id": "1c12e233"
   },
   "source": [
    "**Задание 3. Выведите основную информацию о датафрейме с помощью метода `info()`.**"
   ]
  },
  {
   "cell_type": "code",
   "execution_count": 3,
   "id": "3affcaaa",
   "metadata": {
    "deletable": false,
    "id": "2b757bca",
    "outputId": "15376089-8dad-46c9-b520-c05248d43158"
   },
   "outputs": [
    {
     "name": "stdout",
     "output_type": "stream",
     "text": [
      "<class 'pandas.core.frame.DataFrame'>\n",
      "RangeIndex: 21525 entries, 0 to 21524\n",
      "Data columns (total 12 columns):\n",
      " #   Column            Non-Null Count  Dtype  \n",
      "---  ------            --------------  -----  \n",
      " 0   children          21525 non-null  int64  \n",
      " 1   days_employed     19351 non-null  float64\n",
      " 2   dob_years         21525 non-null  int64  \n",
      " 3   education         21525 non-null  object \n",
      " 4   education_id      21525 non-null  int64  \n",
      " 5   family_status     21525 non-null  object \n",
      " 6   family_status_id  21525 non-null  int64  \n",
      " 7   gender            21525 non-null  object \n",
      " 8   income_type       21525 non-null  object \n",
      " 9   debt              21525 non-null  int64  \n",
      " 10  total_income      19351 non-null  float64\n",
      " 11  purpose           21525 non-null  object \n",
      "dtypes: float64(2), int64(5), object(5)\n",
      "memory usage: 2.0+ MB\n"
     ]
    }
   ],
   "source": [
    "data.info()"
   ]
  },
  {
   "cell_type": "markdown",
   "id": "742052c0",
   "metadata": {
    "deletable": false,
    "editable": false,
    "id": "333ec665"
   },
   "source": [
    "## Предобработка данных"
   ]
  },
  {
   "cell_type": "markdown",
   "id": "9d696d46",
   "metadata": {
    "deletable": false,
    "editable": false,
    "id": "02d92d53"
   },
   "source": [
    "### Удаление пропусков"
   ]
  },
  {
   "cell_type": "markdown",
   "id": "75d8fe99",
   "metadata": {
    "deletable": false,
    "editable": false,
    "id": "cd84967c"
   },
   "source": [
    "**Задание 4. Выведите количество пропущенных значений для каждого столбца. Используйте комбинацию двух методов.**"
   ]
  },
  {
   "cell_type": "code",
   "execution_count": 4,
   "id": "deb99e57",
   "metadata": {
    "deletable": false,
    "id": "7f9b2309",
    "outputId": "81f4d817-781c-465c-ed15-91ce4446810d"
   },
   "outputs": [
    {
     "data": {
      "text/plain": [
       "children               0\n",
       "days_employed       2174\n",
       "dob_years              0\n",
       "education              0\n",
       "education_id           0\n",
       "family_status          0\n",
       "family_status_id       0\n",
       "gender                 0\n",
       "income_type            0\n",
       "debt                   0\n",
       "total_income        2174\n",
       "purpose                0\n",
       "dtype: int64"
      ]
     },
     "execution_count": 4,
     "metadata": {},
     "output_type": "execute_result"
    }
   ],
   "source": [
    "data.isna().sum()"
   ]
  },
  {
   "cell_type": "markdown",
   "id": "d4d86b6e",
   "metadata": {
    "deletable": false,
    "editable": false,
    "id": "db86e27b"
   },
   "source": [
    "**Задание 5. В двух столбцах есть пропущенные значения. Один из них — `days_employed`. Пропуски в этом столбце вы обработаете на следующем этапе. Другой столбец с пропущенными значениями — `total_income` — хранит данные о доходах. На сумму дохода сильнее всего влияет тип занятости, поэтому заполнить пропуски в этом столбце нужно медианным значением по каждому типу из столбца `income_type`. Например, у человека с типом занятости `сотрудник` пропуск в столбце `total_income` должен быть заполнен медианным доходом среди всех записей с тем же типом.**"
   ]
  },
  {
   "cell_type": "code",
   "execution_count": 5,
   "id": "2ef532fe",
   "metadata": {
    "deletable": false,
    "id": "42006a93"
   },
   "outputs": [],
   "source": [
    "for t in data['income_type'].unique():\n",
    "    data.loc[(data['income_type'] == t) & (data['total_income'].isna()), 'total_income'] = \\\n",
    "    data.loc[(data['income_type'] == t), 'total_income'].median()"
   ]
  },
  {
   "cell_type": "markdown",
   "id": "ff37f6d2",
   "metadata": {
    "deletable": false,
    "editable": false,
    "id": "89da5ece"
   },
   "source": [
    "### Обработка аномальных значений"
   ]
  },
  {
   "cell_type": "markdown",
   "id": "3274f666",
   "metadata": {
    "deletable": false,
    "editable": false,
    "id": "57964554"
   },
   "source": [
    "**Задание 6. В данных могут встречаться артефакты (аномалии) — значения, которые не отражают действительность и появились по какой-то ошибке. таким артефактом будет отрицательное количество дней трудового стажа в столбце `days_employed`. Для реальных данных это нормально. Обработайте значения в этом столбце: замените все отрицательные значения положительными с помощью метода `abs()`.**"
   ]
  },
  {
   "cell_type": "code",
   "execution_count": 6,
   "id": "eb39f89f",
   "metadata": {
    "deletable": false,
    "id": "f6f055bf"
   },
   "outputs": [],
   "source": [
    "data['days_employed'] = data['days_employed'].abs()"
   ]
  },
  {
   "cell_type": "markdown",
   "id": "c70c3327",
   "metadata": {
    "deletable": false,
    "editable": false,
    "id": "6107dd2f"
   },
   "source": [
    "**Задание 7. Для каждого типа занятости выведите медианное значение трудового стажа `days_employed` в днях.**"
   ]
  },
  {
   "cell_type": "code",
   "execution_count": 7,
   "id": "9b3d497b",
   "metadata": {
    "deletable": false,
    "id": "85a5faf6",
    "outputId": "801ef80e-522b-4668-f34e-565af7432bcf"
   },
   "outputs": [
    {
     "data": {
      "text/plain": [
       "income_type\n",
       "безработный        366413.652744\n",
       "в декрете            3296.759962\n",
       "госслужащий          2689.368353\n",
       "компаньон            1547.382223\n",
       "пенсионер          365213.306266\n",
       "предприниматель       520.848083\n",
       "сотрудник            1574.202821\n",
       "студент               578.751554\n",
       "Name: days_employed, dtype: float64"
      ]
     },
     "execution_count": 7,
     "metadata": {},
     "output_type": "execute_result"
    }
   ],
   "source": [
    "data.groupby('income_type')['days_employed'].agg('median')"
   ]
  },
  {
   "cell_type": "markdown",
   "id": "28c120fb",
   "metadata": {
    "deletable": false,
    "editable": false,
    "id": "38d1a030"
   },
   "source": [
    "У двух типов (безработные и пенсионеры) получатся аномально большие значения. Исправить такие значения сложно, поэтому оставьте их как есть. Тем более этот столбец не понадобится вам для исследования."
   ]
  },
  {
   "cell_type": "markdown",
   "id": "103baa90",
   "metadata": {
    "deletable": false,
    "editable": false,
    "id": "d8a9f147"
   },
   "source": [
    "**Задание 8. Выведите перечень уникальных значений столбца `children`.**"
   ]
  },
  {
   "cell_type": "code",
   "execution_count": 8,
   "id": "39aab334",
   "metadata": {
    "deletable": false,
    "id": "ef5056eb",
    "outputId": "6975b15c-7f95-4697-d16d-a0c79b657b03"
   },
   "outputs": [
    {
     "data": {
      "text/plain": [
       "array([ 1,  0,  3,  2, -1,  4, 20,  5])"
      ]
     },
     "execution_count": 8,
     "metadata": {},
     "output_type": "execute_result"
    }
   ],
   "source": [
    "data['children'].unique()"
   ]
  },
  {
   "cell_type": "markdown",
   "id": "41b1cd09",
   "metadata": {
    "deletable": false,
    "editable": false,
    "id": "40b9ebf2"
   },
   "source": [
    "**Задание 9. В столбце `children` есть два аномальных значения. Удалите строки, в которых встречаются такие аномальные значения из датафрейма `data`.**"
   ]
  },
  {
   "cell_type": "code",
   "execution_count": 9,
   "id": "51bfafd5",
   "metadata": {
    "deletable": false,
    "id": "3ff9801d"
   },
   "outputs": [],
   "source": [
    "data = data[(data['children'] != -1) & (data['children'] != 20)]"
   ]
  },
  {
   "cell_type": "markdown",
   "id": "31b90a6d",
   "metadata": {
    "deletable": false,
    "editable": false,
    "id": "bbc4d0ce"
   },
   "source": [
    "**Задание 10. Ещё раз выведите перечень уникальных значений столбца `children`, чтобы убедиться, что артефакты удалены.**"
   ]
  },
  {
   "cell_type": "code",
   "execution_count": 10,
   "id": "7920c603",
   "metadata": {
    "deletable": false,
    "id": "ad4fa8b7",
    "outputId": "b2097101-d49d-44d9-901b-32a65c9463d1"
   },
   "outputs": [
    {
     "data": {
      "text/plain": [
       "array([1, 0, 3, 2, 4, 5])"
      ]
     },
     "execution_count": 10,
     "metadata": {},
     "output_type": "execute_result"
    }
   ],
   "source": [
    "data['children'].unique()"
   ]
  },
  {
   "cell_type": "markdown",
   "id": "2199b6fb",
   "metadata": {
    "deletable": false,
    "editable": false,
    "id": "75440b63"
   },
   "source": [
    "### Удаление пропусков (продолжение)"
   ]
  },
  {
   "cell_type": "markdown",
   "id": "b28bea35",
   "metadata": {
    "deletable": false,
    "editable": false,
    "id": "f4ea573f"
   },
   "source": [
    "**Задание 11. Заполните пропуски в столбце `days_employed` медианными значениями по каждого типа занятости `income_type`.**"
   ]
  },
  {
   "cell_type": "code",
   "execution_count": 11,
   "id": "ec17577b",
   "metadata": {
    "deletable": false,
    "id": "af6b1a7e"
   },
   "outputs": [],
   "source": [
    "for t in data['income_type'].unique():\n",
    "    data.loc[(data['income_type'] == t) & (data['days_employed'].isna()), 'days_employed'] = \\\n",
    "    data.loc[(data['income_type'] == t), 'days_employed'].median()"
   ]
  },
  {
   "cell_type": "markdown",
   "id": "413404f7",
   "metadata": {
    "deletable": false,
    "editable": false,
    "id": "2753f40d"
   },
   "source": [
    "**Задание 12. Убедитесь, что все пропуски заполнены. Проверьте себя и ещё раз выведите количество пропущенных значений для каждого столбца с помощью двух методов.**"
   ]
  },
  {
   "cell_type": "code",
   "execution_count": 12,
   "id": "a31a0c78",
   "metadata": {
    "deletable": false,
    "id": "55f78bc2",
    "outputId": "8da1e4e1-358e-4e87-98c9-f261bce0a7b2"
   },
   "outputs": [
    {
     "data": {
      "text/plain": [
       "children            0\n",
       "days_employed       0\n",
       "dob_years           0\n",
       "education           0\n",
       "education_id        0\n",
       "family_status       0\n",
       "family_status_id    0\n",
       "gender              0\n",
       "income_type         0\n",
       "debt                0\n",
       "total_income        0\n",
       "purpose             0\n",
       "dtype: int64"
      ]
     },
     "execution_count": 12,
     "metadata": {},
     "output_type": "execute_result"
    }
   ],
   "source": [
    "data.isna().sum()"
   ]
  },
  {
   "cell_type": "markdown",
   "id": "cd8a2968",
   "metadata": {
    "deletable": false,
    "editable": false,
    "id": "ddc81e43"
   },
   "source": [
    "### Изменение типов данных"
   ]
  },
  {
   "cell_type": "markdown",
   "id": "cdbedd2b",
   "metadata": {
    "deletable": false,
    "editable": false,
    "id": "42d19d24"
   },
   "source": [
    "**Задание 13. Замените вещественный тип данных в столбце `total_income` на целочисленный с помощью метода `astype()`.**"
   ]
  },
  {
   "cell_type": "code",
   "execution_count": 13,
   "id": "36fd6a1b",
   "metadata": {
    "deletable": false,
    "id": "920b65ad"
   },
   "outputs": [],
   "source": [
    "data['total_income'] = data['total_income'].astype(int)"
   ]
  },
  {
   "cell_type": "markdown",
   "id": "6be32215",
   "metadata": {
    "deletable": false,
    "editable": false,
    "id": "80c420ba"
   },
   "source": [
    "### Обработка дубликатов"
   ]
  },
  {
   "cell_type": "markdown",
   "id": "c827447d",
   "metadata": {
    "deletable": false,
    "editable": false
   },
   "source": [
    "**Задание 14. Обработайте неявные дубликаты в столбце `education`. В этом столбце есть одни и те же значения, но записанные по-разному: с использованием заглавных и строчных букв. Приведите их к нижнему регистру. Проверьте остальные столбцы.**"
   ]
  },
  {
   "cell_type": "code",
   "execution_count": 14,
   "id": "d7b1c6b0",
   "metadata": {
    "deletable": false
   },
   "outputs": [],
   "source": [
    "data['education'] = data['education'].str.lower()"
   ]
  },
  {
   "cell_type": "markdown",
   "id": "22d2292a",
   "metadata": {
    "deletable": false,
    "editable": false,
    "id": "dc587695"
   },
   "source": [
    "**Задание 15. Выведите на экран количество строк-дубликатов в данных. Если такие строки присутствуют, удалите их.**"
   ]
  },
  {
   "cell_type": "code",
   "execution_count": 15,
   "id": "d359100e",
   "metadata": {
    "deletable": false,
    "id": "3ee445e4",
    "outputId": "9684deba-1934-42d1-99e1-cda61740f822"
   },
   "outputs": [
    {
     "data": {
      "text/plain": [
       "71"
      ]
     },
     "execution_count": 15,
     "metadata": {},
     "output_type": "execute_result"
    }
   ],
   "source": [
    "data.duplicated().sum()"
   ]
  },
  {
   "cell_type": "code",
   "execution_count": 16,
   "id": "056f0b37",
   "metadata": {
    "deletable": false,
    "id": "8575fe05"
   },
   "outputs": [],
   "source": [
    "data = data.drop_duplicates()"
   ]
  },
  {
   "cell_type": "markdown",
   "id": "2cfc65ee",
   "metadata": {
    "deletable": false,
    "editable": false,
    "id": "9904cf55"
   },
   "source": [
    "### Категоризация данных"
   ]
  },
  {
   "cell_type": "markdown",
   "id": "79e55f92",
   "metadata": {
    "deletable": false,
    "editable": false,
    "id": "72fcc8a2"
   },
   "source": [
    "**Задание 16. На основании диапазонов, указанных ниже, создайте в датафрейме `data` столбец `total_income_category` с категориями:**\n",
    "\n",
    "- 0–30000 — `'E'`;\n",
    "- 30001–50000 — `'D'`;\n",
    "- 50001–200000 — `'C'`;\n",
    "- 200001–1000000 — `'B'`;\n",
    "- 1000001 и выше — `'A'`.\n",
    "\n",
    "\n",
    "**Например, кредитополучателю с доходом 25000 нужно назначить категорию `'E'`, а клиенту, получающему 235000, — `'B'`. Используйте собственную функцию с именем `categorize_income()` и метод `apply()`.**"
   ]
  },
  {
   "cell_type": "code",
   "execution_count": 17,
   "id": "eca7eb00",
   "metadata": {
    "deletable": false,
    "id": "e1771346"
   },
   "outputs": [],
   "source": [
    "def categorize_income(income):\n",
    "    try:\n",
    "        if 0 <= income <= 30000:\n",
    "            return 'E'\n",
    "        elif 30001 <= income <= 50000:\n",
    "            return 'D'\n",
    "        elif 50001 <= income <= 200000:\n",
    "            return 'C'\n",
    "        elif 200001 <= income <= 1000000:\n",
    "            return 'B'\n",
    "        elif income >= 1000001:\n",
    "            return 'A'\n",
    "    except:\n",
    "        pass"
   ]
  },
  {
   "cell_type": "code",
   "execution_count": 18,
   "id": "6f284e74",
   "metadata": {
    "deletable": false,
    "id": "d5f3586d"
   },
   "outputs": [],
   "source": [
    "data['total_income_category'] = data['total_income'].apply(categorize_income)"
   ]
  },
  {
   "cell_type": "markdown",
   "id": "d7d2f7ef",
   "metadata": {
    "deletable": false,
    "editable": false,
    "id": "dde49b5c"
   },
   "source": [
    "**Задание 17. Выведите на экран перечень уникальных целей взятия кредита из столбца `purpose`.**"
   ]
  },
  {
   "cell_type": "code",
   "execution_count": 19,
   "id": "3a4fdd50",
   "metadata": {
    "deletable": false,
    "id": "f67ce9b3",
    "outputId": "673c12d9-7d7e-4ae0-9812-c622c89dd244"
   },
   "outputs": [
    {
     "data": {
      "text/plain": [
       "array(['покупка жилья', 'приобретение автомобиля',\n",
       "       'дополнительное образование', 'сыграть свадьбу',\n",
       "       'операции с жильем', 'образование', 'на проведение свадьбы',\n",
       "       'покупка жилья для семьи', 'покупка недвижимости',\n",
       "       'покупка коммерческой недвижимости', 'покупка жилой недвижимости',\n",
       "       'строительство собственной недвижимости', 'недвижимость',\n",
       "       'строительство недвижимости', 'на покупку подержанного автомобиля',\n",
       "       'на покупку своего автомобиля',\n",
       "       'операции с коммерческой недвижимостью',\n",
       "       'строительство жилой недвижимости', 'жилье',\n",
       "       'операции со своей недвижимостью', 'автомобили',\n",
       "       'заняться образованием', 'сделка с подержанным автомобилем',\n",
       "       'получение образования', 'автомобиль', 'свадьба',\n",
       "       'получение дополнительного образования', 'покупка своего жилья',\n",
       "       'операции с недвижимостью', 'получение высшего образования',\n",
       "       'свой автомобиль', 'сделка с автомобилем',\n",
       "       'профильное образование', 'высшее образование',\n",
       "       'покупка жилья для сдачи', 'на покупку автомобиля', 'ремонт жилью',\n",
       "       'заняться высшим образованием'], dtype=object)"
      ]
     },
     "execution_count": 19,
     "metadata": {},
     "output_type": "execute_result"
    }
   ],
   "source": [
    "data['purpose'].unique()"
   ]
  },
  {
   "cell_type": "markdown",
   "id": "03a66f41",
   "metadata": {
    "deletable": false,
    "editable": false,
    "id": "85d0aef0"
   },
   "source": [
    "**Задание 18. Создайте функцию, которая на основании данных из столбца `purpose` сформирует новый столбец `purpose_category`, в который войдут следующие категории:**\n",
    "\n",
    "- `'операции с автомобилем'`,\n",
    "- `'операции с недвижимостью'`,\n",
    "- `'проведение свадьбы'`,\n",
    "- `'получение образования'`.\n",
    "\n",
    "**Например, если в столбце `purpose` находится подстрока `'на покупку автомобиля'`, то в столбце `purpose_category` должна появиться строка `'операции с автомобилем'`.**\n",
    "\n",
    "**Используйте собственную функцию с именем `categorize_purpose()` и метод `apply()`. Изучите данные в столбце `purpose` и определите, какие подстроки помогут вам правильно определить категорию.**"
   ]
  },
  {
   "cell_type": "code",
   "execution_count": 20,
   "id": "fa65056d",
   "metadata": {
    "deletable": false,
    "id": "e149fab4"
   },
   "outputs": [],
   "source": [
    "def categorize_purpose(row):\n",
    "    try:\n",
    "        if 'автом' in row:\n",
    "            return 'операции с автомобилем'\n",
    "        elif 'жил' in row or 'недвиж' in row:\n",
    "            return 'операции с недвижимостью'\n",
    "        elif 'свад' in row:\n",
    "            return 'проведение свадьбы'\n",
    "        elif 'образов' in row:\n",
    "            return 'получение образования'\n",
    "    except:\n",
    "        return 'нет категории'"
   ]
  },
  {
   "cell_type": "code",
   "execution_count": 21,
   "id": "62003c47",
   "metadata": {
    "deletable": false,
    "id": "bf36e69b"
   },
   "outputs": [],
   "source": [
    "data['purpose_category'] = data['purpose'].apply(categorize_purpose)"
   ]
  },
  {
   "cell_type": "markdown",
   "id": "2c0bf30e",
   "metadata": {
    "deletable": false,
    "editable": false,
    "id": "09b242bf"
   },
   "source": [
    "### Шаг 3. Исследуйте данные и ответьте на вопросы"
   ]
  },
  {
   "cell_type": "markdown",
   "id": "0771c887",
   "metadata": {
    "deletable": false,
    "editable": false,
    "id": "c5d66278"
   },
   "source": [
    "#### 3.1 Есть ли зависимость между количеством детей и возвратом кредита в срок?"
   ]
  },
  {
   "cell_type": "markdown",
   "id": "dadf1b5f",
   "metadata": {},
   "source": [
    "Проверим значения в столбце debt на наличие случайных или ошибочных значений и создадим сводную таблицу со случаями просрочки и общим количеством выданных кредитов:"
   ]
  },
  {
   "cell_type": "code",
   "execution_count": 22,
   "id": "1118ae10",
   "metadata": {
    "deletable": false,
    "id": "2cacfc4a",
    "scrolled": true
   },
   "outputs": [
    {
     "name": "stdout",
     "output_type": "stream",
     "text": [
      "[0 1]\n",
      "          debt       \n",
      "           sum  count\n",
      "children             \n",
      "0         1063  14091\n",
      "1          444   4808\n",
      "2          194   2052\n",
      "3           27    330\n",
      "4            4     41\n",
      "5            0      9\n"
     ]
    }
   ],
   "source": [
    "print(data['debt'].unique()) # убедимся, что в столбце о наличии задолженности нет \"случайных\" значений, т.е. только 0 или 1.\n",
    "\n",
    "# сгруппируем по наличию детей,применим аггрегирующие функции к столбцу:\n",
    "children_debt_quantity = data.groupby('children').agg({'debt':['sum','count']})\n",
    "print(children_debt_quantity) #выводим результат"
   ]
  },
  {
   "cell_type": "markdown",
   "id": "ffef3b1d",
   "metadata": {},
   "source": [
    "Убираем индексы и мультииндексы:"
   ]
  },
  {
   "cell_type": "code",
   "execution_count": 23,
   "id": "e6825296",
   "metadata": {},
   "outputs": [
    {
     "name": "stdout",
     "output_type": "stream",
     "text": [
      "   children  debt_quantity  user_total\n",
      "0         0           1063       14091\n",
      "1         1            444        4808\n",
      "2         2            194        2052\n",
      "3         3             27         330\n",
      "4         4              4          41\n",
      "5         5              0           9\n"
     ]
    }
   ],
   "source": [
    "children_debt_quantity.columns = ['debt_quantity', 'user_total'] # избавляемся от мультииндекса в столбцах\n",
    "children_debt_quantity = children_debt_quantity.reset_index(inplace=False) #убираем столбец children из мультииндекса\n",
    "print(children_debt_quantity) # проверка"
   ]
  },
  {
   "cell_type": "markdown",
   "id": "899d58a2",
   "metadata": {},
   "source": [
    "Добавляем колонку debt_percent - отношение случаев просрочки к общему числу выданных кредитов:"
   ]
  },
  {
   "cell_type": "code",
   "execution_count": 24,
   "id": "d75b4884",
   "metadata": {
    "scrolled": true
   },
   "outputs": [
    {
     "name": "stdout",
     "output_type": "stream",
     "text": [
      "   children  debt_quantity  user_total  debt_percent\n",
      "0         0           1063       14091          7.54\n",
      "1         1            444        4808          9.23\n",
      "2         2            194        2052          9.45\n",
      "3         3             27         330          8.18\n",
      "4         4              4          41          9.76\n",
      "5         5              0           9          0.00\n"
     ]
    }
   ],
   "source": [
    "# создадим столбец отношения кол-во просрочек(в зависимости от наличия детей) к общему количеству кредитов\n",
    "children_debt_quantity['debt_percent'] = children_debt_quantity['debt_quantity']/children_debt_quantity['user_total'] \n",
    "\n",
    "# для наглядности переведем в проценты и округлим значения до 2 знаков после запятой\n",
    "children_debt_quantity['debt_percent'] = (children_debt_quantity['debt_percent']*100).round(2) \n",
    "print(children_debt_quantity) # выводим результат"
   ]
  },
  {
   "cell_type": "markdown",
   "id": "01f51e5c",
   "metadata": {},
   "source": [
    "Далее может быть два пути (оба ведут к +/- одинковым результатам (проверил)):\n",
    "    1) Либо мы дропаем строку с людьми имеющими 5 детей - т.к. их количество ничтожно мало по сравнению с остальной выборкой (т.е. 0 в графе просрочек - это \"выброс\") и делаем сводную таблицу с категориями \"есть/нет дети\" и считаем процент просрочки в категориях по среднему;\n",
    "    2) Либо мы оставляем строку с 5 детьми, делаем сводную таблицу с категориями \"есть/нет дети\", а значения процента просрочек в категориях считаем по медиане (в соответствии с рекомендациями курса ЯндексПрактикум по количественным значениям)\n",
    "    Пойдем вторым путем:"
   ]
  },
  {
   "cell_type": "markdown",
   "id": "ecd5e67e",
   "metadata": {},
   "source": [
    "Разобьем на категории с наличием и отсутствием детей:"
   ]
  },
  {
   "cell_type": "code",
   "execution_count": 25,
   "id": "475eed0d",
   "metadata": {},
   "outputs": [
    {
     "name": "stdout",
     "output_type": "stream",
     "text": [
      "   children  debt_quantity  user_total  debt_percent  has_child\n",
      "0         0           1063       14091          7.54  нет детей\n",
      "1         1            444        4808          9.23  есть дети\n",
      "2         2            194        2052          9.45  есть дети\n",
      "3         3             27         330          8.18  есть дети\n",
      "4         4              4          41          9.76  есть дети\n",
      "5         5              0           9          0.00  есть дети\n"
     ]
    }
   ],
   "source": [
    "def has_child(children): #напишем функцию has_child(children):\n",
    "    if 5>=children>=1:\n",
    "        return 'есть дети'\n",
    "    return 'нет детей'\n",
    "\n",
    "#применим функцию к сводной таблице children_debt_quantity:\n",
    "children_debt_quantity['has_child'] = children_debt_quantity['children'].apply(has_child)\n",
    "print(children_debt_quantity) # Проверим что получилось"
   ]
  },
  {
   "cell_type": "markdown",
   "id": "6c23278d",
   "metadata": {},
   "source": [
    "Создадим  сводную таблицу в зависимости от has_child:"
   ]
  },
  {
   "cell_type": "code",
   "execution_count": 26,
   "id": "5cab6b91",
   "metadata": {
    "scrolled": true
   },
   "outputs": [
    {
     "name": "stdout",
     "output_type": "stream",
     "text": [
      "has_child\n",
      "есть дети    9.23\n",
      "нет детей    7.54\n",
      "Name: debt_percent, dtype: float64\n"
     ]
    }
   ],
   "source": [
    "# создаем таблицу и считаем медиану в каждой категории\n",
    "has_child_df = children_debt_quantity.groupby('has_child')['debt_percent'].median()\n",
    "print(has_child_df)"
   ]
  },
  {
   "cell_type": "markdown",
   "id": "1a4ee7af",
   "metadata": {},
   "source": [
    "ВЫВОД:\n",
    "Судя по таблице has_child_df сам факт наличия детей в некоторой степени повышает риск задолженности по кредиту ( в среднем на ~2%). Данные по людям с 5 детьми в данном случае представляют собой выброс, поэтому значение в категориях о наличии детей считалось по медиане (не только поэтому, но и из-за того что количественные переменные лучше считать по медиане).\n",
    "Как вариант - убрать из исследования данные по людям с 3-5 детьми, так как они составляют менее 2% выборки.\n",
    "В данном случае, исследование проводилось с использованием этих данных."
   ]
  },
  {
   "cell_type": "markdown",
   "id": "e7504a69",
   "metadata": {
    "deletable": false,
    "id": "3a6b99ec"
   },
   "source": [
    "**Старый вывод до ревью:Судя по таблице children_debt_quantity, наличие детей в некоторой степени повышает риск задолженности по кредиту, хоть и не намного (~2%). Данными по людям с 3 - 5 детьми можно пренебречь, так как количество случаев слишком мало по сравнению с другими группами.** "
   ]
  },
  {
   "cell_type": "markdown",
   "id": "51637f21",
   "metadata": {
    "deletable": false,
    "editable": false,
    "id": "97be82ca"
   },
   "source": [
    "#### 3.2 Есть ли зависимость между семейным положением и возвратом кредита в срок?"
   ]
  },
  {
   "cell_type": "markdown",
   "id": "18814053",
   "metadata": {},
   "source": [
    "Значения в столбце debt мы проверили ранее, поэтому сразу создадим сводную таблицу со случаями просрочки и общим количеством выданных кредитов:"
   ]
  },
  {
   "cell_type": "code",
   "execution_count": 27,
   "id": "8da43ae9",
   "metadata": {},
   "outputs": [
    {
     "name": "stdout",
     "output_type": "stream",
     "text": [
      "                      debt       \n",
      "                       sum  count\n",
      "family_status                    \n",
      "Не женат / не замужем  273   2796\n",
      "в разводе               84   1189\n",
      "вдовец / вдова          63    951\n",
      "гражданский брак       385   4134\n",
      "женат / замужем        927  12261\n"
     ]
    }
   ],
   "source": [
    "# сгруппируем по семейному положению, применим аггрегирующие функции к столбцу\n",
    "family_status_debt = data.groupby('family_status').agg({'debt':['sum','count']})  \n",
    "print(family_status_debt) #выводим результат"
   ]
  },
  {
   "cell_type": "markdown",
   "id": "7642feb6",
   "metadata": {},
   "source": [
    "Убираем индексы и мультииндексы:"
   ]
  },
  {
   "cell_type": "code",
   "execution_count": 28,
   "id": "81363fc6",
   "metadata": {},
   "outputs": [
    {
     "name": "stdout",
     "output_type": "stream",
     "text": [
      "           family_status  debt_quantity  user_total\n",
      "0  Не женат / не замужем            273        2796\n",
      "1              в разводе             84        1189\n",
      "2         вдовец / вдова             63         951\n",
      "3       гражданский брак            385        4134\n",
      "4        женат / замужем            927       12261\n"
     ]
    }
   ],
   "source": [
    "family_status_debt.columns = ['debt_quantity', 'user_total'] # избавляемся от мультииндекса в столбцах\n",
    "family_status_debt = family_status_debt.reset_index(inplace=False) #убираем столбец family_status из индекса\n",
    "print(family_status_debt) # проверка"
   ]
  },
  {
   "cell_type": "markdown",
   "id": "4abc3e79",
   "metadata": {},
   "source": [
    "Cоздаем стобец отношения, переводим в проценты, округляем:"
   ]
  },
  {
   "cell_type": "code",
   "execution_count": 29,
   "id": "18578002",
   "metadata": {
    "deletable": false,
    "id": "dc3f7ee8"
   },
   "outputs": [
    {
     "name": "stdout",
     "output_type": "stream",
     "text": [
      "           family_status  debt_quantity  user_total  debt_percent\n",
      "0  Не женат / не замужем            273        2796          9.76\n",
      "1              в разводе             84        1189          7.06\n",
      "2         вдовец / вдова             63         951          6.62\n",
      "3       гражданский брак            385        4134          9.31\n",
      "4        женат / замужем            927       12261          7.56\n"
     ]
    }
   ],
   "source": [
    "#создаем стобец отношения, переводим в проценты, округляем\n",
    "family_status_debt['debt_percent'] = ((family_status_debt['debt_quantity']/family_status_debt['user_total'])*100).round(2)\n",
    "print(family_status_debt)\n"
   ]
  },
  {
   "cell_type": "markdown",
   "id": "9ae5244b",
   "metadata": {},
   "source": [
    "Полученные результаты можно доработать, разбив группы по категориям \"есть/нет партнер\":"
   ]
  },
  {
   "cell_type": "code",
   "execution_count": 30,
   "id": "9b4e6601",
   "metadata": {},
   "outputs": [
    {
     "name": "stdout",
     "output_type": "stream",
     "text": [
      "           family_status  debt_quantity  user_total  debt_percent  \\\n",
      "0  Не женат / не замужем            273        2796          9.76   \n",
      "1              в разводе             84        1189          7.06   \n",
      "2         вдовец / вдова             63         951          6.62   \n",
      "3       гражданский брак            385        4134          9.31   \n",
      "4        женат / замужем            927       12261          7.56   \n",
      "\n",
      "     is_partner  \n",
      "0  нет партнера  \n",
      "1  нет партнера  \n",
      "2  нет партнера  \n",
      "3  есть партнер  \n",
      "4  есть партнер  \n"
     ]
    }
   ],
   "source": [
    "#для этого напишем функцию partner_categorize:\n",
    "def partner_categorize(family_status): \n",
    "    if family_status in ['Не женат / не замужем', 'в разводе', 'вдовец / вдова']:\n",
    "        return 'нет партнера'\n",
    "    elif family_status in ['гражданский брак', 'женат / замужем']:\n",
    "        return 'есть партнер'\n",
    "    \n",
    "#создадим столбец is_partner в датафрейме family_status_debt и применим написанную функцию:\n",
    "family_status_debt['is_partner'] = family_status_debt['family_status'].apply(partner_categorize)\n",
    "print(family_status_debt) #выведем данные на экран"
   ]
  },
  {
   "cell_type": "markdown",
   "id": "7f42d25a",
   "metadata": {},
   "source": [
    "Сгруппируем данные в зависимости от наличия/отсутствия партнера:"
   ]
  },
  {
   "cell_type": "code",
   "execution_count": 31,
   "id": "cf062917",
   "metadata": {},
   "outputs": [
    {
     "name": "stdout",
     "output_type": "stream",
     "text": [
      "is_partner\n",
      "есть партнер    8.44\n",
      "нет партнера    7.06\n",
      "Name: debt_percent, dtype: float64\n"
     ]
    }
   ],
   "source": [
    "#сгруппируем данные, применим посчитаем среднее в каждой группе (в данном случае )\n",
    "is_partner_df = family_status_debt.groupby('is_partner')['debt_percent'].median().round(2)\n",
    "print(is_partner_df) #выведем результат на экран"
   ]
  },
  {
   "cell_type": "markdown",
   "id": "bb016bc6",
   "metadata": {},
   "source": [
    "Можно также посмотреть зависимость просрочки от параметра \"состоял ли когда-нибудь в браке\":"
   ]
  },
  {
   "cell_type": "code",
   "execution_count": 32,
   "id": "cae58db6",
   "metadata": {},
   "outputs": [
    {
     "name": "stdout",
     "output_type": "stream",
     "text": [
      "           family_status  debt_quantity  user_total  debt_percent  \\\n",
      "0  Не женат / не замужем            273        2796          9.76   \n",
      "1              в разводе             84        1189          7.06   \n",
      "2         вдовец / вдова             63         951          6.62   \n",
      "3       гражданский брак            385        4134          9.31   \n",
      "4        женат / замужем            927       12261          7.56   \n",
      "\n",
      "     is_partner                     was_married  \n",
      "0  нет партнера           не состоял(а) в браке  \n",
      "1  нет партнера  состоит или состоял(а) в браке  \n",
      "2  нет партнера  состоит или состоял(а) в браке  \n",
      "3  есть партнер           не состоял(а) в браке  \n",
      "4  есть партнер  состоит или состоял(а) в браке  \n"
     ]
    }
   ],
   "source": [
    "#для этого напишем функцию was_married:\n",
    "def was_married(family_status): \n",
    "    if family_status in ['Не женат / не замужем', 'гражданский брак']:\n",
    "        return 'не состоял(а) в браке'\n",
    "    elif family_status in ['женат / замужем','в разводе', 'вдовец / вдова']:\n",
    "        return 'состоит или состоял(а) в браке'\n",
    "#создадим столбец was_married в датафрейме family_status_debt и применим написанную функцию:\n",
    "family_status_debt['was_married'] = family_status_debt['family_status'].apply(was_married)\n",
    "print(family_status_debt) #выведем данные на экран"
   ]
  },
  {
   "cell_type": "code",
   "execution_count": 33,
   "id": "4be1e0b0",
   "metadata": {},
   "outputs": [
    {
     "name": "stdout",
     "output_type": "stream",
     "text": [
      "was_married\n",
      "не состоял(а) в браке             9.54\n",
      "состоит или состоял(а) в браке    7.08\n",
      "Name: debt_percent, dtype: float64\n"
     ]
    }
   ],
   "source": [
    "#сгруппируем данные, применим посчитаем среднее в каждой группе (в данном случае )\n",
    "was_married_df = family_status_debt.groupby('was_married')['debt_percent'].mean().round(2)\n",
    "print(was_married_df) #выведем результат на экран"
   ]
  },
  {
   "cell_type": "markdown",
   "id": "6e785bef",
   "metadata": {},
   "source": [
    "ВЫВОД: Если брать в широком смысле, то наличие партнера, как ни странно немного повышает риск возникновения задолженности по кредиту (на ~1,5%), тем не менее сам факт того, что человек состоит или состоял в браке снижает этот показатель (на 2,5%). \n",
    "Если брать для анализа более узкие данные, то вдовы/вдовцы наиболее ответственные заёмщики, за ними следом с отставанием 0,5-1 % идут замужем/женатые или в разводе. Люди не женатые/не замужем или состоящие в гражданском браке являются наименее ответственными заемщиками, процент случаев просрочки выплат приближается к 10%, что на 3 % выше чем у вдов/вдовцов и на 2% выше чем у людей в разводе или замужем/женатых."
   ]
  },
  {
   "cell_type": "markdown",
   "id": "cc7c7a3e",
   "metadata": {
    "deletable": false,
    "id": "1cef7837"
   },
   "source": []
  },
  {
   "cell_type": "markdown",
   "id": "489ed3fc",
   "metadata": {
    "deletable": false,
    "editable": false,
    "id": "1e8b2fca"
   },
   "source": [
    "#### 3.3 Есть ли зависимость между уровнем дохода и возвратом кредита в срок?"
   ]
  },
  {
   "cell_type": "markdown",
   "id": "e641cf90",
   "metadata": {},
   "source": [
    "Создадим сводную таблицу:"
   ]
  },
  {
   "cell_type": "code",
   "execution_count": 34,
   "id": "b9cd6e02",
   "metadata": {},
   "outputs": [
    {
     "name": "stdout",
     "output_type": "stream",
     "text": [
      "                       debt       \n",
      "                        sum  count\n",
      "total_income_category             \n",
      "A                         2     25\n",
      "B                       354   5014\n",
      "C                      1353  15921\n",
      "D                        21    349\n",
      "E                         2     22\n"
     ]
    }
   ],
   "source": [
    "#Сгруппируем по категории зарплат и выведем данные:\n",
    "income_category_df = data.groupby('total_income_category').agg({'debt':['sum','count']}) \n",
    "print(income_category_df)"
   ]
  },
  {
   "cell_type": "markdown",
   "id": "dc028056",
   "metadata": {},
   "source": [
    "Для наглядности таблицы, переименуем категории в диапазоны доходов, для этого сбросим индекс и напишем функцию:"
   ]
  },
  {
   "cell_type": "code",
   "execution_count": 35,
   "id": "6c059663",
   "metadata": {},
   "outputs": [
    {
     "name": "stdout",
     "output_type": "stream",
     "text": [
      "  total_income_category  debt_quantity  user_total\n",
      "0                     A              2          25\n",
      "1                     B            354        5014\n",
      "2                     C           1353       15921\n",
      "3                     D             21         349\n",
      "4                     E              2          22\n"
     ]
    }
   ],
   "source": [
    "income_category_df = income_category_df.reset_index() #сбросим индекс\n",
    "income_category_df.columns = ['total_income_category', 'debt_quantity', 'user_total'] # избавляемся от мультииндекса в столбцах\n",
    "print(income_category_df) # проверка"
   ]
  },
  {
   "cell_type": "code",
   "execution_count": 36,
   "id": "b4a49a37",
   "metadata": {},
   "outputs": [],
   "source": [
    "#запишем функцию income_range(total_income_category):\n",
    "def income_range(total_income_category):\n",
    "    if total_income_category == 'A':\n",
    "        return 'свыше 1000000'\n",
    "    if total_income_category == 'B':\n",
    "        return '200001 ... 1000000'\n",
    "    if total_income_category == 'C':\n",
    "        return '50001 ... 200000'\n",
    "    if total_income_category == 'D':\n",
    "        return '30001 ... 50000'\n",
    "    if total_income_category == 'E':\n",
    "        return 'менее 30000'"
   ]
  },
  {
   "cell_type": "markdown",
   "id": "50016b1e",
   "metadata": {},
   "source": [
    "применим функцию к столбцу total_income_category датафрейма income_category_df:"
   ]
  },
  {
   "cell_type": "code",
   "execution_count": 37,
   "id": "a590b4f0",
   "metadata": {},
   "outputs": [
    {
     "name": "stdout",
     "output_type": "stream",
     "text": [
      "  total_income_category  debt_quantity  user_total  percent\n",
      "0         свыше 1000000              2          25     8.00\n",
      "1    200001 ... 1000000            354        5014     7.06\n",
      "2      50001 ... 200000           1353       15921     8.50\n",
      "3       30001 ... 50000             21         349     6.02\n",
      "4           менее 30000              2          22     9.09\n"
     ]
    }
   ],
   "source": [
    "#применим функцию к столбцу total_income_category\n",
    "income_category_df['total_income_category'] = income_category_df['total_income_category'].apply(income_range)\n",
    "\n",
    "#добавим столбец с процентами\n",
    "income_category_df['percent'] = ((income_category_df['debt_quantity']/income_category_df['user_total'])*100).round(2)\n",
    "print(income_category_df)"
   ]
  },
  {
   "cell_type": "markdown",
   "id": "3fd1cf39",
   "metadata": {
    "deletable": false,
    "id": "cd7e3720"
   },
   "source": [
    "НОВЫЙ ВЫВОД:\n",
    "Если брать в расчет только данные по которым имеется достаточное количество значений (категории \"200000-1000000\" и \"50001-200000\", что составляет 98% от выборки), то можно сделать вывод о том, что рост абсолютного дохода напрямую влияет на вероятность просрочки по кредиту.\n",
    "Группы с доходами ниже 50000 и свыше 1000000 в данном случае имеют маленькую выборку - данными от них можно пренебречь.\n",
    "Если же необходимо из подгрупп выделить наиболее надёжного заёмщика - то это будут люди с доходом в 30000-50000, они не платят в срок лишь в 6% случаев.**"
   ]
  },
  {
   "cell_type": "markdown",
   "id": "8771b193",
   "metadata": {
    "deletable": false,
    "id": "e8593def"
   },
   "source": [
    "Вывод: Рост уровня дохода прямо не влияет на вероятность просрочки по кредиту. Группы с доходом 30000-50000 отдают кредит пунктуальнее чем с 50000-200000, при этом люди с доходом 200000-1000000 чаще не платят в срок, чем люди с 50000-200000. \n",
    "Группы с доходами ниже 30000 и свыше 1000000 в данном случае имеют маленькую выборку - данными от них можно пренебречь.\n",
    "Если же необходимо из подгрупп выделить наиболее надёжного заёмщика - то это будут люди с доходом в 30000-50000, они не платят в срок лишь в 6% случаев.** "
   ]
  },
  {
   "cell_type": "markdown",
   "id": "f3da8f53",
   "metadata": {},
   "source": [
    "Альтернативное решение через qcut():"
   ]
  },
  {
   "cell_type": "markdown",
   "id": "1899c7aa",
   "metadata": {},
   "source": [
    "Для начала отсортируем данные по доходу в исходном датафрейме и запишем данные в новый датафрейм. Это нужно для того, \n",
    "чтобы когда мы будем подклеивать значения debt к разбитому на квантили датафрейму - не нарушить порядок."
   ]
  },
  {
   "cell_type": "code",
   "execution_count": 38,
   "id": "cf0ab8ce",
   "metadata": {},
   "outputs": [],
   "source": [
    "data_income_sort = data.sort_values(by='total_income') #сортируем\n",
    "#print(data_income_sort.head(10)) #проверяем"
   ]
  },
  {
   "cell_type": "markdown",
   "id": "794db883",
   "metadata": {},
   "source": [
    "Применяем метод qcut() для разбития выборки на равные части:"
   ]
  },
  {
   "cell_type": "code",
   "execution_count": 39,
   "id": "0e0f5a2b",
   "metadata": {},
   "outputs": [
    {
     "name": "stdout",
     "output_type": "stream",
     "text": [
      "            income_range  q_part\n",
      "0   (20666.999, 98514.0]    4267\n",
      "1    (98514.0, 132113.0]    4266\n",
      "2   (132113.0, 161380.0]    4266\n",
      "3   (161380.0, 214604.0]    4266\n",
      "4  (214604.0, 2265604.0]    4266\n"
     ]
    }
   ],
   "source": [
    "income_categories = pd.qcut(data_income_sort['total_income'], q=5) #разбиваем данные на 5 равных по количеству частей\n",
    "\n",
    "#смотрим количество значений в каждой части и создаем датафрейм:\n",
    "income_cat_val = income_categories.value_counts() \n",
    "income_cat_val = income_cat_val.reset_index() #сбрасываем индекс\n",
    "#для наглядности переименуем столбцы\n",
    "income_cat_val = income_cat_val.rename(columns={'index': 'income_range', 'total_income': 'q_part'})\n",
    "print(income_cat_val) #проверяем"
   ]
  },
  {
   "cell_type": "code",
   "execution_count": 40,
   "id": "cf830dbb",
   "metadata": {},
   "outputs": [
    {
     "data": {
      "text/html": [
       "<div>\n",
       "<style scoped>\n",
       "    .dataframe tbody tr th:only-of-type {\n",
       "        vertical-align: middle;\n",
       "    }\n",
       "\n",
       "    .dataframe tbody tr th {\n",
       "        vertical-align: top;\n",
       "    }\n",
       "\n",
       "    .dataframe thead th {\n",
       "        text-align: right;\n",
       "    }\n",
       "</style>\n",
       "<table border=\"1\" class=\"dataframe\">\n",
       "  <thead>\n",
       "    <tr style=\"text-align: right;\">\n",
       "      <th></th>\n",
       "      <th>children</th>\n",
       "      <th>days_employed</th>\n",
       "      <th>dob_years</th>\n",
       "      <th>education</th>\n",
       "      <th>education_id</th>\n",
       "      <th>family_status</th>\n",
       "      <th>family_status_id</th>\n",
       "      <th>gender</th>\n",
       "      <th>income_type</th>\n",
       "      <th>debt</th>\n",
       "      <th>total_income</th>\n",
       "      <th>purpose</th>\n",
       "      <th>total_income_category</th>\n",
       "      <th>purpose_category</th>\n",
       "    </tr>\n",
       "  </thead>\n",
       "  <tbody>\n",
       "    <tr>\n",
       "      <th>14585</th>\n",
       "      <td>0</td>\n",
       "      <td>359219.059341</td>\n",
       "      <td>57</td>\n",
       "      <td>среднее</td>\n",
       "      <td>1</td>\n",
       "      <td>женат / замужем</td>\n",
       "      <td>0</td>\n",
       "      <td>F</td>\n",
       "      <td>пенсионер</td>\n",
       "      <td>1</td>\n",
       "      <td>20667</td>\n",
       "      <td>недвижимость</td>\n",
       "      <td>E</td>\n",
       "      <td>операции с недвижимостью</td>\n",
       "    </tr>\n",
       "    <tr>\n",
       "      <th>13006</th>\n",
       "      <td>0</td>\n",
       "      <td>369708.589113</td>\n",
       "      <td>37</td>\n",
       "      <td>среднее</td>\n",
       "      <td>1</td>\n",
       "      <td>гражданский брак</td>\n",
       "      <td>1</td>\n",
       "      <td>M</td>\n",
       "      <td>пенсионер</td>\n",
       "      <td>0</td>\n",
       "      <td>21205</td>\n",
       "      <td>заняться высшим образованием</td>\n",
       "      <td>E</td>\n",
       "      <td>получение образования</td>\n",
       "    </tr>\n",
       "    <tr>\n",
       "      <th>16174</th>\n",
       "      <td>1</td>\n",
       "      <td>3642.820023</td>\n",
       "      <td>52</td>\n",
       "      <td>среднее</td>\n",
       "      <td>1</td>\n",
       "      <td>женат / замужем</td>\n",
       "      <td>0</td>\n",
       "      <td>M</td>\n",
       "      <td>сотрудник</td>\n",
       "      <td>0</td>\n",
       "      <td>21367</td>\n",
       "      <td>приобретение автомобиля</td>\n",
       "      <td>E</td>\n",
       "      <td>операции с автомобилем</td>\n",
       "    </tr>\n",
       "    <tr>\n",
       "      <th>1598</th>\n",
       "      <td>0</td>\n",
       "      <td>359726.104207</td>\n",
       "      <td>68</td>\n",
       "      <td>среднее</td>\n",
       "      <td>1</td>\n",
       "      <td>гражданский брак</td>\n",
       "      <td>1</td>\n",
       "      <td>M</td>\n",
       "      <td>пенсионер</td>\n",
       "      <td>0</td>\n",
       "      <td>21695</td>\n",
       "      <td>на проведение свадьбы</td>\n",
       "      <td>E</td>\n",
       "      <td>проведение свадьбы</td>\n",
       "    </tr>\n",
       "    <tr>\n",
       "      <th>14276</th>\n",
       "      <td>0</td>\n",
       "      <td>346602.453782</td>\n",
       "      <td>61</td>\n",
       "      <td>среднее</td>\n",
       "      <td>1</td>\n",
       "      <td>женат / замужем</td>\n",
       "      <td>0</td>\n",
       "      <td>F</td>\n",
       "      <td>пенсионер</td>\n",
       "      <td>0</td>\n",
       "      <td>21895</td>\n",
       "      <td>недвижимость</td>\n",
       "      <td>E</td>\n",
       "      <td>операции с недвижимостью</td>\n",
       "    </tr>\n",
       "    <tr>\n",
       "      <th>...</th>\n",
       "      <td>...</td>\n",
       "      <td>...</td>\n",
       "      <td>...</td>\n",
       "      <td>...</td>\n",
       "      <td>...</td>\n",
       "      <td>...</td>\n",
       "      <td>...</td>\n",
       "      <td>...</td>\n",
       "      <td>...</td>\n",
       "      <td>...</td>\n",
       "      <td>...</td>\n",
       "      <td>...</td>\n",
       "      <td>...</td>\n",
       "      <td>...</td>\n",
       "    </tr>\n",
       "    <tr>\n",
       "      <th>17178</th>\n",
       "      <td>0</td>\n",
       "      <td>5734.127087</td>\n",
       "      <td>42</td>\n",
       "      <td>высшее</td>\n",
       "      <td>0</td>\n",
       "      <td>гражданский брак</td>\n",
       "      <td>1</td>\n",
       "      <td>M</td>\n",
       "      <td>компаньон</td>\n",
       "      <td>0</td>\n",
       "      <td>1711309</td>\n",
       "      <td>сыграть свадьбу</td>\n",
       "      <td>A</td>\n",
       "      <td>проведение свадьбы</td>\n",
       "    </tr>\n",
       "    <tr>\n",
       "      <th>20809</th>\n",
       "      <td>0</td>\n",
       "      <td>4719.273476</td>\n",
       "      <td>61</td>\n",
       "      <td>среднее</td>\n",
       "      <td>1</td>\n",
       "      <td>Не женат / не замужем</td>\n",
       "      <td>4</td>\n",
       "      <td>F</td>\n",
       "      <td>сотрудник</td>\n",
       "      <td>0</td>\n",
       "      <td>1715018</td>\n",
       "      <td>покупка жилья для семьи</td>\n",
       "      <td>A</td>\n",
       "      <td>операции с недвижимостью</td>\n",
       "    </tr>\n",
       "    <tr>\n",
       "      <th>9169</th>\n",
       "      <td>1</td>\n",
       "      <td>5248.554336</td>\n",
       "      <td>35</td>\n",
       "      <td>среднее</td>\n",
       "      <td>1</td>\n",
       "      <td>гражданский брак</td>\n",
       "      <td>1</td>\n",
       "      <td>M</td>\n",
       "      <td>сотрудник</td>\n",
       "      <td>0</td>\n",
       "      <td>1726276</td>\n",
       "      <td>дополнительное образование</td>\n",
       "      <td>A</td>\n",
       "      <td>получение образования</td>\n",
       "    </tr>\n",
       "    <tr>\n",
       "      <th>19606</th>\n",
       "      <td>1</td>\n",
       "      <td>2577.664662</td>\n",
       "      <td>39</td>\n",
       "      <td>высшее</td>\n",
       "      <td>0</td>\n",
       "      <td>женат / замужем</td>\n",
       "      <td>0</td>\n",
       "      <td>M</td>\n",
       "      <td>компаньон</td>\n",
       "      <td>1</td>\n",
       "      <td>2200852</td>\n",
       "      <td>строительство недвижимости</td>\n",
       "      <td>A</td>\n",
       "      <td>операции с недвижимостью</td>\n",
       "    </tr>\n",
       "    <tr>\n",
       "      <th>12412</th>\n",
       "      <td>0</td>\n",
       "      <td>1477.438114</td>\n",
       "      <td>44</td>\n",
       "      <td>высшее</td>\n",
       "      <td>0</td>\n",
       "      <td>женат / замужем</td>\n",
       "      <td>0</td>\n",
       "      <td>M</td>\n",
       "      <td>компаньон</td>\n",
       "      <td>0</td>\n",
       "      <td>2265604</td>\n",
       "      <td>ремонт жилью</td>\n",
       "      <td>A</td>\n",
       "      <td>операции с недвижимостью</td>\n",
       "    </tr>\n",
       "  </tbody>\n",
       "</table>\n",
       "<p>21331 rows × 14 columns</p>\n",
       "</div>"
      ],
      "text/plain": [
       "       children  days_employed  dob_years education  education_id  \\\n",
       "14585         0  359219.059341         57   среднее             1   \n",
       "13006         0  369708.589113         37   среднее             1   \n",
       "16174         1    3642.820023         52   среднее             1   \n",
       "1598          0  359726.104207         68   среднее             1   \n",
       "14276         0  346602.453782         61   среднее             1   \n",
       "...         ...            ...        ...       ...           ...   \n",
       "17178         0    5734.127087         42    высшее             0   \n",
       "20809         0    4719.273476         61   среднее             1   \n",
       "9169          1    5248.554336         35   среднее             1   \n",
       "19606         1    2577.664662         39    высшее             0   \n",
       "12412         0    1477.438114         44    высшее             0   \n",
       "\n",
       "               family_status  family_status_id gender income_type  debt  \\\n",
       "14585        женат / замужем                 0      F   пенсионер     1   \n",
       "13006       гражданский брак                 1      M   пенсионер     0   \n",
       "16174        женат / замужем                 0      M   сотрудник     0   \n",
       "1598        гражданский брак                 1      M   пенсионер     0   \n",
       "14276        женат / замужем                 0      F   пенсионер     0   \n",
       "...                      ...               ...    ...         ...   ...   \n",
       "17178       гражданский брак                 1      M   компаньон     0   \n",
       "20809  Не женат / не замужем                 4      F   сотрудник     0   \n",
       "9169        гражданский брак                 1      M   сотрудник     0   \n",
       "19606        женат / замужем                 0      M   компаньон     1   \n",
       "12412        женат / замужем                 0      M   компаньон     0   \n",
       "\n",
       "       total_income                       purpose total_income_category  \\\n",
       "14585         20667                  недвижимость                     E   \n",
       "13006         21205  заняться высшим образованием                     E   \n",
       "16174         21367       приобретение автомобиля                     E   \n",
       "1598          21695         на проведение свадьбы                     E   \n",
       "14276         21895                  недвижимость                     E   \n",
       "...             ...                           ...                   ...   \n",
       "17178       1711309               сыграть свадьбу                     A   \n",
       "20809       1715018       покупка жилья для семьи                     A   \n",
       "9169        1726276    дополнительное образование                     A   \n",
       "19606       2200852    строительство недвижимости                     A   \n",
       "12412       2265604                  ремонт жилью                     A   \n",
       "\n",
       "               purpose_category  \n",
       "14585  операции с недвижимостью  \n",
       "13006     получение образования  \n",
       "16174    операции с автомобилем  \n",
       "1598         проведение свадьбы  \n",
       "14276  операции с недвижимостью  \n",
       "...                         ...  \n",
       "17178        проведение свадьбы  \n",
       "20809  операции с недвижимостью  \n",
       "9169      получение образования  \n",
       "19606  операции с недвижимостью  \n",
       "12412  операции с недвижимостью  \n",
       "\n",
       "[21331 rows x 14 columns]"
      ]
     },
     "execution_count": 40,
     "metadata": {},
     "output_type": "execute_result"
    }
   ],
   "source": [
    "data_income_sort"
   ]
  },
  {
   "cell_type": "code",
   "execution_count": 41,
   "id": "23374af4",
   "metadata": {},
   "outputs": [],
   "source": [
    "#приклеиваем к income_categories значения столбца debt из датафрейма data_income_sort\n",
    "income_categories = pd.concat([income_categories, data_income_sort['debt']], axis=1)"
   ]
  },
  {
   "cell_type": "markdown",
   "id": "1c5fa8c2",
   "metadata": {},
   "source": [
    "Группируем по столбцу total_income, складываем количество просрочек и заводим новый столбец с процентом просрочек:"
   ]
  },
  {
   "cell_type": "code",
   "execution_count": 42,
   "id": "40c756a6",
   "metadata": {},
   "outputs": [],
   "source": [
    "#группируем по столбцу total_income, складываем количество просрочек \n",
    "income_cat_df = income_categories.groupby('total_income')['debt'].sum() # вот здесь, если применить agg({'debt':['sum','count']})\n",
    "#то выходит ошибка, поэтому дальнейшее решение по расчетам думаю верное, но по коду - не уверен."
   ]
  },
  {
   "cell_type": "code",
   "execution_count": 43,
   "id": "b20cf733",
   "metadata": {},
   "outputs": [],
   "source": [
    "income_cat_df = income_cat_df.reset_index() #сбрасываем индекс\n",
    "#для наглядности переименуем столбцы\n",
    "income_cat_df = income_cat_df.rename(columns={'total_income': 'income_range', 'debt': 'q_debt'}) "
   ]
  },
  {
   "cell_type": "code",
   "execution_count": 44,
   "id": "33eb95fb",
   "metadata": {},
   "outputs": [
    {
     "name": "stdout",
     "output_type": "stream",
     "text": [
      "            income_range  q_debt  debt_percent\n",
      "0   (20666.999, 98514.0]     344          8.06\n",
      "1    (98514.0, 132113.0]     358          8.39\n",
      "2   (132113.0, 161380.0]     373          8.74\n",
      "3   (161380.0, 214604.0]     358          8.39\n",
      "4  (214604.0, 2265604.0]     299          7.01\n"
     ]
    }
   ],
   "source": [
    "#заводим новый столбец со значением отношением просрочка/общее количество:\n",
    "income_cat_df['debt_percent'] = ((income_cat_df['q_debt']/income_cat_val['q_part'])*100).round(2)\n",
    "print(income_cat_df) # проверяем"
   ]
  },
  {
   "cell_type": "markdown",
   "id": "a96254f3",
   "metadata": {},
   "source": [
    "Вывод по исследованию через qcut():\n",
    "Выявлено, что люди с высоким уровнем дохода (свыше 214000) реже других совершают просрочки по кредитам (на 1-1,5%). При этом не выявлено достоверной связи между ростом абсолютного дохода и снижением просрочек по платежам. Люди из группы с доходом 20000-99000 платят кредиты исправнее, чем люди с доходом 130000-160000."
   ]
  },
  {
   "cell_type": "markdown",
   "id": "1623a00a",
   "metadata": {
    "deletable": false,
    "editable": false,
    "id": "99ecbd1f"
   },
   "source": [
    "#### 3.4 Как разные цели кредита влияют на его возврат в срок?"
   ]
  },
  {
   "cell_type": "code",
   "execution_count": 45,
   "id": "547c2bf1",
   "metadata": {
    "deletable": false,
    "id": "2b687290"
   },
   "outputs": [
    {
     "name": "stdout",
     "output_type": "stream",
     "text": [
      "           purpose_category  debt_quantity  user_total  percent\n",
      "0    операции с автомобилем            400        4279     9.35\n",
      "1  операции с недвижимостью            780       10751     7.26\n",
      "2     получение образования            369        3988     9.25\n",
      "3        проведение свадьбы            183        2313     7.91\n"
     ]
    }
   ],
   "source": [
    "purpose_category_df = data.groupby('purpose_category').agg({'debt':['sum', 'count']}) # Действия аналогичные предыдущему заданию\n",
    "#print(purpose_category_df) # проверка\n",
    "\n",
    "purpose_category_df = purpose_category_df.reset_index() # убираем индекс\n",
    "purpose_category_df.columns = ['purpose_category', 'debt_quantity', 'user_total'] # избавляемся от мультииндекса и переименовываем столбцы\n",
    "#print(purpose_category_df) #проверка\n",
    "\n",
    "#создаем столбец с процентами:\n",
    "purpose_category_df['percent'] = ((purpose_category_df['debt_quantity']/purpose_category_df['user_total'])*100).round(2)\n",
    "print(purpose_category_df)"
   ]
  },
  {
   "cell_type": "markdown",
   "id": "2297fb7b",
   "metadata": {
    "deletable": false,
    "id": "b4bb2ce6"
   },
   "source": [
    "**Вывод:Есть взаимосвязь между целью кредита и вероятностью возникновения задолженности. Так, люди берущие кредит на операции с автомобилем и получение образования сталкиваются с невозможностью вовремя произвести платёж чаще, чем люди, цель кредита которых являются операции с недвижимостью и проведение свадьбы. Разница между двумя этими \"подкатегориями\" составляет ~1,5-2%.** "
   ]
  },
  {
   "cell_type": "markdown",
   "id": "b664c3e5",
   "metadata": {},
   "source": [
    "Думаю, что недвижимостью занимаются люди с большей дисциплинированностью и возможно большим доходом. Стимул выплатить ипотеку выше - т.к. остаться без крыши над головой - это не езда на общественном транспорте (как в случае с просрочкой платежей по кредиту на автомобиль). Процент по ипотеке ниже чем во всех остальных видах кредита - это тоже сказывается.\n",
    "В случае же свадьб, полагаю, что деньги полученные в качестве подарка на свадьбу идут в счет покашения кредита, что сильно облегчает долговую нагрузку."
   ]
  },
  {
   "cell_type": "markdown",
   "id": "a5bf924e",
   "metadata": {
    "deletable": false,
    "editable": false,
    "id": "09c3ac4c"
   },
   "source": [
    "#### 3.5 Приведите возможные причины появления пропусков в исходных данных."
   ]
  },
  {
   "cell_type": "markdown",
   "id": "d708e5a7",
   "metadata": {
    "deletable": false,
    "id": "9da2ceda"
   },
   "source": [
    "*Ответ:* Пропуски в графе days_employed у пенсионеров, студентов, безработных и в декрете - неслучайны. Данные категории могут не иметь работы. Пенсионеры и студенты бывают работающие, но в данном случае, вероятно число дней не указано из-за отсутвия работы. У госслужащих, возможно, пропуски в данной графе также могут быть неслучайны, т.к. инфомация о службе может быть обьектом гостайны. У остальных, скорее всего пропуски носят случайных характер и связаны с техническими ошибками.\n",
    "Отсутствие данных по доходу также может быть связано со столбцом income_type. Безработные,  студенты и, возможно, родители в декрете могут не иметь официального источника дохода (имеется в виду, что их \"кормят\" члены их семей, а не то что они совсем без денег сидят). А вот у остальных данные по доходу скорее всего отсутствуют из-за небрежности заполнения или технической ошибки, т.к. вероятность того, что человеку выдадут кредит без получения от него информации о доходе крайне низкая."
   ]
  },
  {
   "cell_type": "markdown",
   "id": "02064abb",
   "metadata": {
    "deletable": false,
    "editable": false,
    "id": "7b0487d6"
   },
   "source": [
    "#### 3.6 Объясните, почему заполнить пропуски медианным значением — лучшее решение для количественных переменных."
   ]
  },
  {
   "cell_type": "markdown",
   "id": "15244974",
   "metadata": {
    "deletable": false,
    "id": "7ecf2b8e"
   },
   "source": [
    "*Ответ:* В случае зарплат или других подобных переменных среди значений с плавно меняющимися количественными параметрами могут попадаться \"выбросы\" - единичные, сильно отличающиеся от остальных значения. Это не ошибки, а реальные данные (хотя ошибки тоже нельзя исключить), которые могут сильно \"подвинуть\" среднее значение, что при заполнении пропусков может исказить общую картину данных по выбранному параметру (в нашем случае зарплате)."
   ]
  },
  {
   "cell_type": "markdown",
   "id": "d02cc321",
   "metadata": {
    "deletable": false,
    "editable": false,
    "id": "6db5255a"
   },
   "source": [
    "### Шаг 4: общий вывод."
   ]
  },
  {
   "cell_type": "markdown",
   "id": "04097bb1",
   "metadata": {
    "deletable": false,
    "id": "bad65432"
   },
   "source": []
  },
  {
   "cell_type": "markdown",
   "id": "2303db3c",
   "metadata": {},
   "source": [
    "ВЫВОД\n",
    "Прежде чем перейти к исследованию, пришлось провести небольшую предобработку данных, она включала:\n",
    "- работа с аномальными значениями (стаж и количество детей местами были отрицательны);\n",
    "- обработка пропусков (замена медианными значениями в стаже в зависимости от категории занятости);\n",
    "- удалены дубликаты.\n",
    "\n",
    "Исходя из проведенного исследования, можно сделать следующие выводы:\n",
    "- Наличие детей приводит к увеличению вероятности просрочки по кредиту (на 1-2%);\n",
    "\n",
    "- Семейное положение также влияет на просрочку по кредиту: самые надежные заёмщики - вдовцы и вдовы (всего 6% случаев просрочки), самые ненадёжные - не состоящие в браке или живущие в гражданском браке (процент просрочки по кредиту приближается к 10%); При этом наличие партнера исходя из сводных данных - повышает вероятность просрочки(разница между категориями составляет ~1.5%); Если же посмотреть на распределение по категориям \"состоял(а) ли когда-либо в браке\" или \"не состоял(а)\" то можно заметить что люди из первой категории реже допускают просрочки платежей (разница достигает 2,5%);\n",
    "\n",
    "- Исходя из двух видов проведенных исследований, можно сказать, что размер дохода влиет на процент просрочек. Зависимость нельзя назвать прямой, тем не менее, она есть. При этом люди с небольшим доходом (около 50000) могут справляться с обязательствами по кредиту лучше тех, кто имеет средние значения (около 150000). При этом согласно альтернативному исследованию (через qcut()) люди имеющие доход свыше 214000 значительно пунктуальнее в выплатах относительно других подгрупп (разница до 1,5%)\n",
    ".\n",
    "- Люди берущие кредит на операции с авто и получение образования чаще нарушают график платежей, по сравнению с теми, кто берет деньги на свадьбу или жилье (9% и 7% соответственно).\n",
    "\n",
    "Таким образом, одинокие вдовы/вдовцы, без детей, с доходом свыше 214000, берущие кредит на свадьбу или на жилье чаще всех остальных соблюдают график платежей.\n",
    "\n",
    "А вот живущие в гражданском браке, с детьми, имеющие средний или доход ниже среднего берущие деньги на образование или авто - напротив - наиболее вероятный должник по кредиту."
   ]
  }
 ],
 "metadata": {
  "ExecuteTimeLog": [
   {
    "duration": 653,
    "start_time": "2024-01-19T05:11:16.304Z"
   },
   {
    "duration": 7,
    "start_time": "2024-01-19T05:14:57.963Z"
   },
   {
    "duration": 3,
    "start_time": "2024-01-19T05:15:42.803Z"
   },
   {
    "duration": 5,
    "start_time": "2024-01-19T05:15:56.412Z"
   },
   {
    "duration": 451,
    "start_time": "2024-01-19T05:16:08.029Z"
   },
   {
    "duration": 25,
    "start_time": "2024-01-19T05:16:08.482Z"
   },
   {
    "duration": 15,
    "start_time": "2024-01-19T05:16:08.509Z"
   },
   {
    "duration": 9,
    "start_time": "2024-01-19T05:16:08.526Z"
   },
   {
    "duration": 58,
    "start_time": "2024-01-19T05:16:08.537Z"
   },
   {
    "duration": 4,
    "start_time": "2024-01-19T05:16:08.596Z"
   },
   {
    "duration": 9,
    "start_time": "2024-01-19T05:16:08.601Z"
   },
   {
    "duration": 4,
    "start_time": "2024-01-19T05:16:08.611Z"
   },
   {
    "duration": 12,
    "start_time": "2024-01-19T05:16:08.617Z"
   },
   {
    "duration": 7,
    "start_time": "2024-01-19T05:16:08.631Z"
   },
   {
    "duration": 57,
    "start_time": "2024-01-19T05:16:08.639Z"
   },
   {
    "duration": 9,
    "start_time": "2024-01-19T05:16:08.698Z"
   },
   {
    "duration": 4,
    "start_time": "2024-01-19T05:16:08.709Z"
   },
   {
    "duration": 15,
    "start_time": "2024-01-19T05:16:08.715Z"
   },
   {
    "duration": 35,
    "start_time": "2024-01-19T05:16:08.731Z"
   },
   {
    "duration": 16,
    "start_time": "2024-01-19T05:16:08.768Z"
   },
   {
    "duration": 5,
    "start_time": "2024-01-19T05:16:08.786Z"
   },
   {
    "duration": 14,
    "start_time": "2024-01-19T05:16:08.793Z"
   },
   {
    "duration": 5,
    "start_time": "2024-01-19T05:16:08.808Z"
   },
   {
    "duration": 4,
    "start_time": "2024-01-19T05:16:08.814Z"
   },
   {
    "duration": 18,
    "start_time": "2024-01-19T05:16:08.819Z"
   },
   {
    "duration": 6,
    "start_time": "2024-01-19T05:16:08.839Z"
   },
   {
    "duration": 2,
    "start_time": "2024-01-19T05:16:08.866Z"
   },
   {
    "duration": 5,
    "start_time": "2024-01-19T05:16:08.869Z"
   },
   {
    "duration": 5,
    "start_time": "2024-01-19T05:16:08.875Z"
   },
   {
    "duration": 64,
    "start_time": "2024-01-19T05:24:23.563Z"
   },
   {
    "duration": 22,
    "start_time": "2024-01-19T05:24:31.451Z"
   },
   {
    "duration": 17,
    "start_time": "2024-01-19T05:24:54.771Z"
   },
   {
    "duration": 7,
    "start_time": "2024-01-19T05:25:36.579Z"
   },
   {
    "duration": 16,
    "start_time": "2024-01-19T05:35:51.571Z"
   },
   {
    "duration": 17,
    "start_time": "2024-01-19T05:39:30.177Z"
   },
   {
    "duration": 13,
    "start_time": "2024-01-19T05:40:01.994Z"
   },
   {
    "duration": 15,
    "start_time": "2024-01-19T05:45:29.082Z"
   },
   {
    "duration": 19,
    "start_time": "2024-01-19T05:48:34.049Z"
   },
   {
    "duration": 79,
    "start_time": "2024-01-19T05:49:31.975Z"
   },
   {
    "duration": 17,
    "start_time": "2024-01-19T05:49:39.159Z"
   },
   {
    "duration": 23,
    "start_time": "2024-01-19T05:55:04.144Z"
   },
   {
    "duration": 19,
    "start_time": "2024-01-19T05:55:25.486Z"
   },
   {
    "duration": 19,
    "start_time": "2024-01-19T05:55:45.262Z"
   },
   {
    "duration": 67,
    "start_time": "2024-01-19T06:22:01.611Z"
   },
   {
    "duration": 8,
    "start_time": "2024-01-19T06:22:10.055Z"
   },
   {
    "duration": 18,
    "start_time": "2024-01-19T06:23:57.320Z"
   },
   {
    "duration": 6,
    "start_time": "2024-01-19T06:25:38.176Z"
   },
   {
    "duration": 16,
    "start_time": "2024-01-19T06:31:57.914Z"
   },
   {
    "duration": 14,
    "start_time": "2024-01-19T06:32:08.792Z"
   },
   {
    "duration": 19,
    "start_time": "2024-01-19T06:37:27.394Z"
   },
   {
    "duration": 17,
    "start_time": "2024-01-19T06:38:11.561Z"
   },
   {
    "duration": 14,
    "start_time": "2024-01-19T06:38:21.664Z"
   },
   {
    "duration": 16,
    "start_time": "2024-01-19T06:40:53.610Z"
   },
   {
    "duration": 78,
    "start_time": "2024-01-19T06:44:32.154Z"
   },
   {
    "duration": 20,
    "start_time": "2024-01-19T06:44:58.872Z"
   },
   {
    "duration": 21,
    "start_time": "2024-01-19T06:45:54.320Z"
   },
   {
    "duration": 13,
    "start_time": "2024-01-19T06:46:31.064Z"
   },
   {
    "duration": 82,
    "start_time": "2024-01-19T06:49:18.059Z"
   },
   {
    "duration": 16,
    "start_time": "2024-01-19T06:49:37.832Z"
   },
   {
    "duration": 16,
    "start_time": "2024-01-19T06:58:59.247Z"
   },
   {
    "duration": 487,
    "start_time": "2024-01-19T06:59:06.963Z"
   },
   {
    "duration": 20,
    "start_time": "2024-01-19T06:59:07.452Z"
   },
   {
    "duration": 25,
    "start_time": "2024-01-19T06:59:07.474Z"
   },
   {
    "duration": 13,
    "start_time": "2024-01-19T06:59:07.501Z"
   },
   {
    "duration": 38,
    "start_time": "2024-01-19T06:59:07.516Z"
   },
   {
    "duration": 3,
    "start_time": "2024-01-19T06:59:07.555Z"
   },
   {
    "duration": 16,
    "start_time": "2024-01-19T06:59:07.560Z"
   },
   {
    "duration": 13,
    "start_time": "2024-01-19T06:59:07.578Z"
   },
   {
    "duration": 7,
    "start_time": "2024-01-19T06:59:07.593Z"
   },
   {
    "duration": 6,
    "start_time": "2024-01-19T06:59:07.603Z"
   },
   {
    "duration": 54,
    "start_time": "2024-01-19T06:59:07.610Z"
   },
   {
    "duration": 10,
    "start_time": "2024-01-19T06:59:07.666Z"
   },
   {
    "duration": 4,
    "start_time": "2024-01-19T06:59:07.678Z"
   },
   {
    "duration": 21,
    "start_time": "2024-01-19T06:59:07.683Z"
   },
   {
    "duration": 29,
    "start_time": "2024-01-19T06:59:07.705Z"
   },
   {
    "duration": 29,
    "start_time": "2024-01-19T06:59:07.736Z"
   },
   {
    "duration": 3,
    "start_time": "2024-01-19T06:59:07.767Z"
   },
   {
    "duration": 43,
    "start_time": "2024-01-19T06:59:07.772Z"
   },
   {
    "duration": 24,
    "start_time": "2024-01-19T06:59:07.817Z"
   },
   {
    "duration": 16,
    "start_time": "2024-01-19T06:59:07.842Z"
   },
   {
    "duration": 29,
    "start_time": "2024-01-19T06:59:07.859Z"
   },
   {
    "duration": 31,
    "start_time": "2024-01-19T06:59:07.889Z"
   },
   {
    "duration": 38,
    "start_time": "2024-01-19T06:59:07.921Z"
   },
   {
    "duration": 14,
    "start_time": "2024-01-19T06:59:07.960Z"
   },
   {
    "duration": 21,
    "start_time": "2024-01-19T06:59:07.976Z"
   },
   {
    "duration": 1364,
    "start_time": "2024-01-19T07:07:38.977Z"
   },
   {
    "duration": 2554,
    "start_time": "2024-01-19T07:11:42.030Z"
   },
   {
    "duration": 20,
    "start_time": "2024-01-19T07:18:00.582Z"
   },
   {
    "duration": 21,
    "start_time": "2024-01-19T07:18:56.131Z"
   },
   {
    "duration": 15,
    "start_time": "2024-01-19T07:19:07.955Z"
   },
   {
    "duration": 17,
    "start_time": "2024-01-19T07:19:17.659Z"
   },
   {
    "duration": 18,
    "start_time": "2024-01-19T07:20:37.483Z"
   },
   {
    "duration": 22,
    "start_time": "2024-01-19T07:24:20.957Z"
   },
   {
    "duration": 25,
    "start_time": "2024-01-19T07:27:09.250Z"
   },
   {
    "duration": 84,
    "start_time": "2024-01-19T07:39:37.303Z"
   },
   {
    "duration": 30,
    "start_time": "2024-01-19T07:39:47.421Z"
   },
   {
    "duration": 31,
    "start_time": "2024-01-19T07:40:55.773Z"
   },
   {
    "duration": 20,
    "start_time": "2024-01-19T07:41:06.941Z"
   },
   {
    "duration": 12,
    "start_time": "2024-01-19T08:20:16.786Z"
   },
   {
    "duration": 4,
    "start_time": "2024-01-19T08:21:57.136Z"
   },
   {
    "duration": 9,
    "start_time": "2024-01-19T08:23:06.595Z"
   },
   {
    "duration": 107,
    "start_time": "2024-01-19T08:24:20.105Z"
   },
   {
    "duration": 17,
    "start_time": "2024-01-19T08:24:25.824Z"
   },
   {
    "duration": 16,
    "start_time": "2024-01-19T08:26:30.977Z"
   },
   {
    "duration": 4,
    "start_time": "2024-01-19T08:35:02.083Z"
   },
   {
    "duration": 8,
    "start_time": "2024-01-19T08:36:57.537Z"
   },
   {
    "duration": 3,
    "start_time": "2024-01-19T08:37:11.273Z"
   },
   {
    "duration": 8,
    "start_time": "2024-01-19T08:37:24.634Z"
   },
   {
    "duration": 6,
    "start_time": "2024-01-19T08:37:55.497Z"
   },
   {
    "duration": 5,
    "start_time": "2024-01-19T08:38:33.970Z"
   },
   {
    "duration": 6,
    "start_time": "2024-01-19T08:40:22.048Z"
   },
   {
    "duration": 10,
    "start_time": "2024-01-19T08:44:19.220Z"
   },
   {
    "duration": 11,
    "start_time": "2024-01-19T08:58:03.229Z"
   },
   {
    "duration": 11,
    "start_time": "2024-01-19T08:59:31.479Z"
   },
   {
    "duration": 20,
    "start_time": "2024-01-19T09:10:18.683Z"
   },
   {
    "duration": 1663,
    "start_time": "2024-01-19T09:10:44.961Z"
   },
   {
    "duration": 1242,
    "start_time": "2024-01-19T09:19:01.736Z"
   },
   {
    "duration": 14,
    "start_time": "2024-01-19T09:20:14.832Z"
   },
   {
    "duration": 69,
    "start_time": "2024-01-19T09:20:48.535Z"
   },
   {
    "duration": 14,
    "start_time": "2024-01-19T09:20:56.647Z"
   },
   {
    "duration": 14,
    "start_time": "2024-01-19T09:24:41.193Z"
   },
   {
    "duration": 14,
    "start_time": "2024-01-19T09:24:55.161Z"
   },
   {
    "duration": 10,
    "start_time": "2024-01-19T09:28:37.306Z"
   },
   {
    "duration": 8,
    "start_time": "2024-01-19T09:31:11.683Z"
   },
   {
    "duration": 7,
    "start_time": "2024-01-19T09:31:21.347Z"
   },
   {
    "duration": 10,
    "start_time": "2024-01-19T09:31:36.251Z"
   },
   {
    "duration": 367,
    "start_time": "2024-01-19T09:34:55.422Z"
   },
   {
    "duration": 10,
    "start_time": "2024-01-19T09:35:51.996Z"
   },
   {
    "duration": 11,
    "start_time": "2024-01-19T09:37:41.311Z"
   },
   {
    "duration": 103,
    "start_time": "2024-01-19T09:39:26.245Z"
   },
   {
    "duration": 15,
    "start_time": "2024-01-19T09:39:39.037Z"
   },
   {
    "duration": 13,
    "start_time": "2024-01-19T09:39:47.028Z"
   },
   {
    "duration": 24,
    "start_time": "2024-01-19T09:58:45.714Z"
   },
   {
    "duration": 90,
    "start_time": "2024-01-19T09:59:09.072Z"
   },
   {
    "duration": 24,
    "start_time": "2024-01-19T09:59:11.705Z"
   },
   {
    "duration": 27,
    "start_time": "2024-01-19T10:00:12.929Z"
   },
   {
    "duration": 19,
    "start_time": "2024-01-19T10:01:21.409Z"
   },
   {
    "duration": 20,
    "start_time": "2024-01-19T10:01:50.961Z"
   },
   {
    "duration": 3,
    "start_time": "2024-01-19T10:07:14.248Z"
   },
   {
    "duration": 3,
    "start_time": "2024-01-19T10:07:27.254Z"
   },
   {
    "duration": 14,
    "start_time": "2024-01-19T10:07:49.414Z"
   },
   {
    "duration": 13,
    "start_time": "2024-01-19T10:07:59.079Z"
   },
   {
    "duration": 14,
    "start_time": "2024-01-19T10:08:06.334Z"
   },
   {
    "duration": 39,
    "start_time": "2024-01-19T10:08:22.840Z"
   },
   {
    "duration": 78,
    "start_time": "2024-01-19T10:09:20.318Z"
   },
   {
    "duration": 36,
    "start_time": "2024-01-19T10:09:22.736Z"
   },
   {
    "duration": 8,
    "start_time": "2024-01-19T10:12:29.554Z"
   },
   {
    "duration": 7,
    "start_time": "2024-01-19T10:12:36.349Z"
   },
   {
    "duration": 4,
    "start_time": "2024-01-19T10:12:49.990Z"
   },
   {
    "duration": 13,
    "start_time": "2024-01-19T10:17:32.759Z"
   },
   {
    "duration": 110,
    "start_time": "2024-01-19T12:07:07.863Z"
   },
   {
    "duration": 23,
    "start_time": "2024-01-19T12:07:36.404Z"
   },
   {
    "duration": 15,
    "start_time": "2024-01-19T12:08:36.737Z"
   },
   {
    "duration": 539,
    "start_time": "2024-01-19T12:08:55.712Z"
   },
   {
    "duration": 23,
    "start_time": "2024-01-19T12:08:56.252Z"
   },
   {
    "duration": 31,
    "start_time": "2024-01-19T12:08:56.277Z"
   },
   {
    "duration": 33,
    "start_time": "2024-01-19T12:08:56.310Z"
   },
   {
    "duration": 58,
    "start_time": "2024-01-19T12:08:56.345Z"
   },
   {
    "duration": 3,
    "start_time": "2024-01-19T12:08:56.404Z"
   },
   {
    "duration": 23,
    "start_time": "2024-01-19T12:08:56.409Z"
   },
   {
    "duration": 22,
    "start_time": "2024-01-19T12:08:56.433Z"
   },
   {
    "duration": 23,
    "start_time": "2024-01-19T12:08:56.457Z"
   },
   {
    "duration": 24,
    "start_time": "2024-01-19T12:08:56.484Z"
   },
   {
    "duration": 61,
    "start_time": "2024-01-19T12:08:56.509Z"
   },
   {
    "duration": 12,
    "start_time": "2024-01-19T12:08:56.571Z"
   },
   {
    "duration": 28,
    "start_time": "2024-01-19T12:08:56.586Z"
   },
   {
    "duration": 53,
    "start_time": "2024-01-19T12:08:56.616Z"
   },
   {
    "duration": 41,
    "start_time": "2024-01-19T12:08:56.671Z"
   },
   {
    "duration": 18,
    "start_time": "2024-01-19T12:08:56.714Z"
   },
   {
    "duration": 23,
    "start_time": "2024-01-19T12:08:56.733Z"
   },
   {
    "duration": 27,
    "start_time": "2024-01-19T12:08:56.757Z"
   },
   {
    "duration": 35,
    "start_time": "2024-01-19T12:08:56.786Z"
   },
   {
    "duration": 15,
    "start_time": "2024-01-19T12:08:56.822Z"
   },
   {
    "duration": 27,
    "start_time": "2024-01-19T12:08:56.838Z"
   },
   {
    "duration": 27,
    "start_time": "2024-01-19T12:08:56.867Z"
   },
   {
    "duration": 51,
    "start_time": "2024-01-19T12:08:56.896Z"
   },
   {
    "duration": 34,
    "start_time": "2024-01-19T12:08:56.950Z"
   },
   {
    "duration": 40,
    "start_time": "2024-01-19T12:08:56.986Z"
   },
   {
    "duration": 15,
    "start_time": "2024-01-19T12:09:02.249Z"
   },
   {
    "duration": 14,
    "start_time": "2024-01-19T12:12:16.762Z"
   },
   {
    "duration": 13,
    "start_time": "2024-01-19T12:12:20.409Z"
   },
   {
    "duration": 13,
    "start_time": "2024-01-19T12:13:06.490Z"
   },
   {
    "duration": 23,
    "start_time": "2024-01-19T12:18:20.796Z"
   },
   {
    "duration": 20,
    "start_time": "2024-01-19T12:18:27.825Z"
   },
   {
    "duration": 20,
    "start_time": "2024-01-19T12:18:51.778Z"
   },
   {
    "duration": 22,
    "start_time": "2024-01-19T12:19:41.978Z"
   },
   {
    "duration": 21,
    "start_time": "2024-01-19T12:20:21.330Z"
   },
   {
    "duration": 21,
    "start_time": "2024-01-19T12:21:10.468Z"
   },
   {
    "duration": 14,
    "start_time": "2024-01-19T12:22:05.169Z"
   },
   {
    "duration": 12,
    "start_time": "2024-01-19T12:22:17.649Z"
   },
   {
    "duration": 13,
    "start_time": "2024-01-19T12:26:08.993Z"
   },
   {
    "duration": 47,
    "start_time": "2024-01-19T13:53:41.139Z"
   },
   {
    "duration": 706,
    "start_time": "2024-01-19T13:53:52.021Z"
   },
   {
    "duration": 19,
    "start_time": "2024-01-19T13:53:52.729Z"
   },
   {
    "duration": 15,
    "start_time": "2024-01-19T13:53:52.749Z"
   },
   {
    "duration": 18,
    "start_time": "2024-01-19T13:53:52.766Z"
   },
   {
    "duration": 34,
    "start_time": "2024-01-19T13:53:52.785Z"
   },
   {
    "duration": 4,
    "start_time": "2024-01-19T13:53:52.820Z"
   },
   {
    "duration": 17,
    "start_time": "2024-01-19T13:53:52.844Z"
   },
   {
    "duration": 24,
    "start_time": "2024-01-19T13:53:52.863Z"
   },
   {
    "duration": 20,
    "start_time": "2024-01-19T13:53:52.888Z"
   },
   {
    "duration": 18,
    "start_time": "2024-01-19T13:53:52.910Z"
   },
   {
    "duration": 62,
    "start_time": "2024-01-19T13:53:52.930Z"
   },
   {
    "duration": 15,
    "start_time": "2024-01-19T13:53:52.993Z"
   },
   {
    "duration": 6,
    "start_time": "2024-01-19T13:53:53.010Z"
   },
   {
    "duration": 30,
    "start_time": "2024-01-19T13:53:53.017Z"
   },
   {
    "duration": 21,
    "start_time": "2024-01-19T13:53:53.049Z"
   },
   {
    "duration": 16,
    "start_time": "2024-01-19T13:53:53.071Z"
   },
   {
    "duration": 4,
    "start_time": "2024-01-19T13:53:53.088Z"
   },
   {
    "duration": 24,
    "start_time": "2024-01-19T13:53:53.093Z"
   },
   {
    "duration": 14,
    "start_time": "2024-01-19T13:53:53.118Z"
   },
   {
    "duration": 13,
    "start_time": "2024-01-19T13:53:53.134Z"
   },
   {
    "duration": 14,
    "start_time": "2024-01-19T13:53:53.148Z"
   },
   {
    "duration": 34,
    "start_time": "2024-01-19T13:53:53.164Z"
   },
   {
    "duration": 20,
    "start_time": "2024-01-19T13:53:53.200Z"
   },
   {
    "duration": 35,
    "start_time": "2024-01-19T13:53:53.221Z"
   },
   {
    "duration": 12,
    "start_time": "2024-01-19T13:53:53.258Z"
   },
   {
    "duration": 15,
    "start_time": "2024-01-19T13:53:59.857Z"
   },
   {
    "duration": 45,
    "start_time": "2024-01-20T07:26:50.535Z"
   },
   {
    "duration": 693,
    "start_time": "2024-01-20T07:27:02.075Z"
   },
   {
    "duration": 19,
    "start_time": "2024-01-20T07:27:02.770Z"
   },
   {
    "duration": 14,
    "start_time": "2024-01-20T07:27:02.790Z"
   },
   {
    "duration": 9,
    "start_time": "2024-01-20T07:27:02.806Z"
   },
   {
    "duration": 51,
    "start_time": "2024-01-20T07:27:02.817Z"
   },
   {
    "duration": 3,
    "start_time": "2024-01-20T07:27:02.870Z"
   },
   {
    "duration": 8,
    "start_time": "2024-01-20T07:27:02.874Z"
   },
   {
    "duration": 3,
    "start_time": "2024-01-20T07:27:02.884Z"
   },
   {
    "duration": 7,
    "start_time": "2024-01-20T07:27:02.888Z"
   },
   {
    "duration": 4,
    "start_time": "2024-01-20T07:27:02.897Z"
   },
   {
    "duration": 34,
    "start_time": "2024-01-20T07:27:02.902Z"
   },
   {
    "duration": 35,
    "start_time": "2024-01-20T07:27:02.938Z"
   },
   {
    "duration": 3,
    "start_time": "2024-01-20T07:27:02.975Z"
   },
   {
    "duration": 12,
    "start_time": "2024-01-20T07:27:02.979Z"
   },
   {
    "duration": 18,
    "start_time": "2024-01-20T07:27:02.993Z"
   },
   {
    "duration": 16,
    "start_time": "2024-01-20T07:27:03.012Z"
   },
   {
    "duration": 3,
    "start_time": "2024-01-20T07:27:03.029Z"
   },
   {
    "duration": 39,
    "start_time": "2024-01-20T07:27:03.034Z"
   },
   {
    "duration": 6,
    "start_time": "2024-01-20T07:27:03.074Z"
   },
   {
    "duration": 3,
    "start_time": "2024-01-20T07:27:03.081Z"
   },
   {
    "duration": 10,
    "start_time": "2024-01-20T07:27:03.086Z"
   },
   {
    "duration": 8,
    "start_time": "2024-01-20T07:27:03.098Z"
   },
   {
    "duration": 87,
    "start_time": "2024-01-20T07:27:03.108Z"
   },
   {
    "duration": 0,
    "start_time": "2024-01-20T07:27:03.196Z"
   },
   {
    "duration": 0,
    "start_time": "2024-01-20T07:27:03.197Z"
   },
   {
    "duration": 0,
    "start_time": "2024-01-20T07:27:03.198Z"
   },
   {
    "duration": 9,
    "start_time": "2024-01-20T07:32:37.533Z"
   },
   {
    "duration": 10,
    "start_time": "2024-01-20T07:34:35.764Z"
   },
   {
    "duration": 363,
    "start_time": "2024-01-20T07:34:48.501Z"
   },
   {
    "duration": 429,
    "start_time": "2024-01-20T07:35:47.948Z"
   },
   {
    "duration": 7,
    "start_time": "2024-01-20T07:36:30.739Z"
   },
   {
    "duration": 8,
    "start_time": "2024-01-20T07:36:42.885Z"
   },
   {
    "duration": 7,
    "start_time": "2024-01-20T07:37:30.082Z"
   },
   {
    "duration": 6,
    "start_time": "2024-01-20T07:38:24.728Z"
   },
   {
    "duration": 7,
    "start_time": "2024-01-20T07:38:29.683Z"
   },
   {
    "duration": 5,
    "start_time": "2024-01-20T07:38:31.321Z"
   },
   {
    "duration": 9,
    "start_time": "2024-01-20T07:38:36.850Z"
   },
   {
    "duration": 5,
    "start_time": "2024-01-20T07:38:51.856Z"
   },
   {
    "duration": 4,
    "start_time": "2024-01-20T07:40:04.769Z"
   },
   {
    "duration": 4,
    "start_time": "2024-01-20T07:45:00.525Z"
   },
   {
    "duration": 1171,
    "start_time": "2024-01-20T07:46:01.845Z"
   },
   {
    "duration": 7,
    "start_time": "2024-01-20T07:47:02.763Z"
   },
   {
    "duration": 8,
    "start_time": "2024-01-20T07:49:35.917Z"
   },
   {
    "duration": 9,
    "start_time": "2024-01-20T07:59:31.469Z"
   },
   {
    "duration": 1509,
    "start_time": "2024-01-20T08:00:43.190Z"
   },
   {
    "duration": 1480,
    "start_time": "2024-01-20T08:00:47.889Z"
   },
   {
    "duration": 4,
    "start_time": "2024-01-20T08:01:10.007Z"
   },
   {
    "duration": 6,
    "start_time": "2024-01-20T08:01:12.640Z"
   },
   {
    "duration": 6,
    "start_time": "2024-01-20T08:01:28.960Z"
   },
   {
    "duration": 1318,
    "start_time": "2024-01-20T08:14:24.862Z"
   },
   {
    "duration": 5,
    "start_time": "2024-01-20T08:15:17.913Z"
   },
   {
    "duration": 10,
    "start_time": "2024-01-20T08:15:58.767Z"
   },
   {
    "duration": 9,
    "start_time": "2024-01-20T08:16:32.929Z"
   },
   {
    "duration": 428,
    "start_time": "2024-01-20T08:16:46.314Z"
   },
   {
    "duration": 19,
    "start_time": "2024-01-20T08:16:46.743Z"
   },
   {
    "duration": 18,
    "start_time": "2024-01-20T08:16:46.763Z"
   },
   {
    "duration": 9,
    "start_time": "2024-01-20T08:16:46.783Z"
   },
   {
    "duration": 36,
    "start_time": "2024-01-20T08:16:46.794Z"
   },
   {
    "duration": 3,
    "start_time": "2024-01-20T08:16:46.832Z"
   },
   {
    "duration": 29,
    "start_time": "2024-01-20T08:16:46.836Z"
   },
   {
    "duration": 4,
    "start_time": "2024-01-20T08:16:46.867Z"
   },
   {
    "duration": 9,
    "start_time": "2024-01-20T08:16:46.872Z"
   },
   {
    "duration": 4,
    "start_time": "2024-01-20T08:16:46.883Z"
   },
   {
    "duration": 39,
    "start_time": "2024-01-20T08:16:46.889Z"
   },
   {
    "duration": 10,
    "start_time": "2024-01-20T08:16:46.930Z"
   },
   {
    "duration": 4,
    "start_time": "2024-01-20T08:16:46.965Z"
   },
   {
    "duration": 11,
    "start_time": "2024-01-20T08:16:46.970Z"
   },
   {
    "duration": 18,
    "start_time": "2024-01-20T08:16:46.983Z"
   },
   {
    "duration": 21,
    "start_time": "2024-01-20T08:16:47.003Z"
   },
   {
    "duration": 4,
    "start_time": "2024-01-20T08:16:47.025Z"
   },
   {
    "duration": 41,
    "start_time": "2024-01-20T08:16:47.030Z"
   },
   {
    "duration": 5,
    "start_time": "2024-01-20T08:16:47.073Z"
   },
   {
    "duration": 5,
    "start_time": "2024-01-20T08:16:47.079Z"
   },
   {
    "duration": 12,
    "start_time": "2024-01-20T08:16:47.085Z"
   },
   {
    "duration": 9,
    "start_time": "2024-01-20T08:16:47.098Z"
   },
   {
    "duration": 384,
    "start_time": "2024-01-20T08:16:47.109Z"
   },
   {
    "duration": 0,
    "start_time": "2024-01-20T08:16:47.495Z"
   },
   {
    "duration": 0,
    "start_time": "2024-01-20T08:16:47.497Z"
   },
   {
    "duration": 0,
    "start_time": "2024-01-20T08:16:47.499Z"
   },
   {
    "duration": 0,
    "start_time": "2024-01-20T08:16:47.500Z"
   },
   {
    "duration": 0,
    "start_time": "2024-01-20T08:16:47.501Z"
   },
   {
    "duration": 345,
    "start_time": "2024-01-20T08:17:02.416Z"
   },
   {
    "duration": 306,
    "start_time": "2024-01-20T08:17:44.577Z"
   },
   {
    "duration": 337,
    "start_time": "2024-01-20T08:18:18.010Z"
   },
   {
    "duration": 325,
    "start_time": "2024-01-20T08:18:26.528Z"
   },
   {
    "duration": 623,
    "start_time": "2024-01-20T08:18:42.170Z"
   },
   {
    "duration": 583,
    "start_time": "2024-01-20T08:18:50.041Z"
   },
   {
    "duration": 466,
    "start_time": "2024-01-20T08:19:05.985Z"
   },
   {
    "duration": 19,
    "start_time": "2024-01-20T08:19:06.453Z"
   },
   {
    "duration": 16,
    "start_time": "2024-01-20T08:19:06.473Z"
   },
   {
    "duration": 9,
    "start_time": "2024-01-20T08:19:06.491Z"
   },
   {
    "duration": 34,
    "start_time": "2024-01-20T08:19:06.502Z"
   },
   {
    "duration": 3,
    "start_time": "2024-01-20T08:19:06.537Z"
   },
   {
    "duration": 25,
    "start_time": "2024-01-20T08:19:06.541Z"
   },
   {
    "duration": 4,
    "start_time": "2024-01-20T08:19:06.567Z"
   },
   {
    "duration": 9,
    "start_time": "2024-01-20T08:19:06.572Z"
   },
   {
    "duration": 4,
    "start_time": "2024-01-20T08:19:06.583Z"
   },
   {
    "duration": 35,
    "start_time": "2024-01-20T08:19:06.588Z"
   },
   {
    "duration": 10,
    "start_time": "2024-01-20T08:19:06.625Z"
   },
   {
    "duration": 30,
    "start_time": "2024-01-20T08:19:06.636Z"
   },
   {
    "duration": 12,
    "start_time": "2024-01-20T08:19:06.668Z"
   },
   {
    "duration": 21,
    "start_time": "2024-01-20T08:19:06.682Z"
   },
   {
    "duration": 16,
    "start_time": "2024-01-20T08:19:06.704Z"
   },
   {
    "duration": 3,
    "start_time": "2024-01-20T08:19:06.721Z"
   },
   {
    "duration": 42,
    "start_time": "2024-01-20T08:19:06.726Z"
   },
   {
    "duration": 6,
    "start_time": "2024-01-20T08:19:06.769Z"
   },
   {
    "duration": 4,
    "start_time": "2024-01-20T08:19:06.777Z"
   },
   {
    "duration": 10,
    "start_time": "2024-01-20T08:19:06.782Z"
   },
   {
    "duration": 10,
    "start_time": "2024-01-20T08:19:06.793Z"
   },
   {
    "duration": 375,
    "start_time": "2024-01-20T08:19:06.804Z"
   },
   {
    "duration": 0,
    "start_time": "2024-01-20T08:19:07.181Z"
   },
   {
    "duration": 0,
    "start_time": "2024-01-20T08:19:07.182Z"
   },
   {
    "duration": 0,
    "start_time": "2024-01-20T08:19:07.184Z"
   },
   {
    "duration": 0,
    "start_time": "2024-01-20T08:19:07.185Z"
   },
   {
    "duration": 0,
    "start_time": "2024-01-20T08:19:07.185Z"
   },
   {
    "duration": 285,
    "start_time": "2024-01-20T08:19:19.618Z"
   },
   {
    "duration": 5,
    "start_time": "2024-01-20T08:19:30.810Z"
   },
   {
    "duration": 6,
    "start_time": "2024-01-20T08:20:18.834Z"
   },
   {
    "duration": 327,
    "start_time": "2024-01-20T08:21:25.283Z"
   },
   {
    "duration": 8,
    "start_time": "2024-01-20T08:22:40.948Z"
   },
   {
    "duration": 6,
    "start_time": "2024-01-20T08:22:49.317Z"
   },
   {
    "duration": 7,
    "start_time": "2024-01-20T08:23:17.477Z"
   },
   {
    "duration": 8,
    "start_time": "2024-01-20T08:23:26.333Z"
   },
   {
    "duration": 6,
    "start_time": "2024-01-20T08:23:28.941Z"
   },
   {
    "duration": 3,
    "start_time": "2024-01-20T08:23:42.085Z"
   },
   {
    "duration": 6,
    "start_time": "2024-01-20T08:23:47.525Z"
   },
   {
    "duration": 7,
    "start_time": "2024-01-20T08:25:27.303Z"
   },
   {
    "duration": 7,
    "start_time": "2024-01-20T08:25:35.407Z"
   },
   {
    "duration": 7,
    "start_time": "2024-01-20T08:25:40.878Z"
   },
   {
    "duration": 7,
    "start_time": "2024-01-20T08:25:42.903Z"
   },
   {
    "duration": 473,
    "start_time": "2024-01-20T08:25:48.867Z"
   },
   {
    "duration": 18,
    "start_time": "2024-01-20T08:25:49.341Z"
   },
   {
    "duration": 23,
    "start_time": "2024-01-20T08:25:49.361Z"
   },
   {
    "duration": 19,
    "start_time": "2024-01-20T08:25:49.386Z"
   },
   {
    "duration": 42,
    "start_time": "2024-01-20T08:25:49.406Z"
   },
   {
    "duration": 3,
    "start_time": "2024-01-20T08:25:49.449Z"
   },
   {
    "duration": 22,
    "start_time": "2024-01-20T08:25:49.454Z"
   },
   {
    "duration": 4,
    "start_time": "2024-01-20T08:25:49.477Z"
   },
   {
    "duration": 7,
    "start_time": "2024-01-20T08:25:49.483Z"
   },
   {
    "duration": 4,
    "start_time": "2024-01-20T08:25:49.493Z"
   },
   {
    "duration": 36,
    "start_time": "2024-01-20T08:25:49.499Z"
   },
   {
    "duration": 11,
    "start_time": "2024-01-20T08:25:49.536Z"
   },
   {
    "duration": 3,
    "start_time": "2024-01-20T08:25:49.565Z"
   },
   {
    "duration": 12,
    "start_time": "2024-01-20T08:25:49.569Z"
   },
   {
    "duration": 18,
    "start_time": "2024-01-20T08:25:49.582Z"
   },
   {
    "duration": 16,
    "start_time": "2024-01-20T08:25:49.601Z"
   },
   {
    "duration": 3,
    "start_time": "2024-01-20T08:25:49.619Z"
   },
   {
    "duration": 15,
    "start_time": "2024-01-20T08:25:49.623Z"
   },
   {
    "duration": 28,
    "start_time": "2024-01-20T08:25:49.639Z"
   },
   {
    "duration": 3,
    "start_time": "2024-01-20T08:25:49.668Z"
   },
   {
    "duration": 15,
    "start_time": "2024-01-20T08:25:49.673Z"
   },
   {
    "duration": 11,
    "start_time": "2024-01-20T08:25:49.690Z"
   },
   {
    "duration": 4,
    "start_time": "2024-01-20T08:25:49.703Z"
   },
   {
    "duration": 8,
    "start_time": "2024-01-20T08:25:49.709Z"
   },
   {
    "duration": 1310,
    "start_time": "2024-01-20T08:25:49.718Z"
   },
   {
    "duration": 0,
    "start_time": "2024-01-20T08:25:51.031Z"
   },
   {
    "duration": 0,
    "start_time": "2024-01-20T08:25:51.032Z"
   },
   {
    "duration": 0,
    "start_time": "2024-01-20T08:25:51.034Z"
   },
   {
    "duration": 310,
    "start_time": "2024-01-20T08:26:33.336Z"
   },
   {
    "duration": 306,
    "start_time": "2024-01-20T08:26:46.769Z"
   },
   {
    "duration": 9,
    "start_time": "2024-01-20T08:27:09.552Z"
   },
   {
    "duration": 5,
    "start_time": "2024-01-20T08:27:12.050Z"
   },
   {
    "duration": 6,
    "start_time": "2024-01-20T08:27:26.376Z"
   },
   {
    "duration": 8,
    "start_time": "2024-01-20T08:27:34.288Z"
   },
   {
    "duration": 7,
    "start_time": "2024-01-20T08:27:36.889Z"
   },
   {
    "duration": 4,
    "start_time": "2024-01-20T08:27:45.124Z"
   },
   {
    "duration": 6,
    "start_time": "2024-01-20T08:28:39.703Z"
   },
   {
    "duration": 5,
    "start_time": "2024-01-20T08:33:27.894Z"
   },
   {
    "duration": 6,
    "start_time": "2024-01-20T08:34:37.832Z"
   },
   {
    "duration": 5,
    "start_time": "2024-01-20T08:37:06.819Z"
   },
   {
    "duration": 5,
    "start_time": "2024-01-20T08:38:14.999Z"
   },
   {
    "duration": 6,
    "start_time": "2024-01-20T08:38:21.821Z"
   },
   {
    "duration": 5,
    "start_time": "2024-01-20T08:38:24.741Z"
   },
   {
    "duration": 7,
    "start_time": "2024-01-20T08:38:58.108Z"
   },
   {
    "duration": 278,
    "start_time": "2024-01-20T08:39:07.325Z"
   },
   {
    "duration": 481,
    "start_time": "2024-01-20T08:39:13.769Z"
   },
   {
    "duration": 28,
    "start_time": "2024-01-20T08:39:14.252Z"
   },
   {
    "duration": 14,
    "start_time": "2024-01-20T08:39:14.281Z"
   },
   {
    "duration": 11,
    "start_time": "2024-01-20T08:39:14.297Z"
   },
   {
    "duration": 33,
    "start_time": "2024-01-20T08:39:14.309Z"
   },
   {
    "duration": 3,
    "start_time": "2024-01-20T08:39:14.343Z"
   },
   {
    "duration": 19,
    "start_time": "2024-01-20T08:39:14.348Z"
   },
   {
    "duration": 4,
    "start_time": "2024-01-20T08:39:14.368Z"
   },
   {
    "duration": 6,
    "start_time": "2024-01-20T08:39:14.373Z"
   },
   {
    "duration": 5,
    "start_time": "2024-01-20T08:39:14.385Z"
   },
   {
    "duration": 44,
    "start_time": "2024-01-20T08:39:14.391Z"
   },
   {
    "duration": 33,
    "start_time": "2024-01-20T08:39:14.436Z"
   },
   {
    "duration": 4,
    "start_time": "2024-01-20T08:39:14.470Z"
   },
   {
    "duration": 14,
    "start_time": "2024-01-20T08:39:14.475Z"
   },
   {
    "duration": 18,
    "start_time": "2024-01-20T08:39:14.491Z"
   },
   {
    "duration": 15,
    "start_time": "2024-01-20T08:39:14.510Z"
   },
   {
    "duration": 3,
    "start_time": "2024-01-20T08:39:14.527Z"
   },
   {
    "duration": 37,
    "start_time": "2024-01-20T08:39:14.531Z"
   },
   {
    "duration": 5,
    "start_time": "2024-01-20T08:39:14.569Z"
   },
   {
    "duration": 3,
    "start_time": "2024-01-20T08:39:14.576Z"
   },
   {
    "duration": 11,
    "start_time": "2024-01-20T08:39:14.580Z"
   },
   {
    "duration": 8,
    "start_time": "2024-01-20T08:39:14.592Z"
   },
   {
    "duration": 5,
    "start_time": "2024-01-20T08:39:14.602Z"
   },
   {
    "duration": 6,
    "start_time": "2024-01-20T08:39:14.608Z"
   },
   {
    "duration": 68,
    "start_time": "2024-01-20T08:39:14.616Z"
   },
   {
    "duration": 0,
    "start_time": "2024-01-20T08:39:14.686Z"
   },
   {
    "duration": 0,
    "start_time": "2024-01-20T08:39:14.687Z"
   },
   {
    "duration": 0,
    "start_time": "2024-01-20T08:39:14.688Z"
   },
   {
    "duration": 0,
    "start_time": "2024-01-20T08:39:14.689Z"
   },
   {
    "duration": 0,
    "start_time": "2024-01-20T08:39:14.690Z"
   },
   {
    "duration": 8,
    "start_time": "2024-01-20T08:39:24.383Z"
   },
   {
    "duration": 6,
    "start_time": "2024-01-20T08:39:27.071Z"
   },
   {
    "duration": 411,
    "start_time": "2024-01-20T08:39:58.224Z"
   },
   {
    "duration": 8,
    "start_time": "2024-01-20T08:40:02.948Z"
   },
   {
    "duration": 5,
    "start_time": "2024-01-20T08:40:04.916Z"
   },
   {
    "duration": 7,
    "start_time": "2024-01-20T08:40:12.869Z"
   },
   {
    "duration": 7,
    "start_time": "2024-01-20T08:40:21.735Z"
   },
   {
    "duration": 5,
    "start_time": "2024-01-20T08:40:40.713Z"
   },
   {
    "duration": 5,
    "start_time": "2024-01-20T08:40:44.743Z"
   },
   {
    "duration": 4,
    "start_time": "2024-01-20T08:41:23.294Z"
   },
   {
    "duration": 5,
    "start_time": "2024-01-20T08:41:31.517Z"
   },
   {
    "duration": 4,
    "start_time": "2024-01-20T08:43:48.441Z"
   },
   {
    "duration": 6,
    "start_time": "2024-01-20T08:43:51.287Z"
   },
   {
    "duration": 5,
    "start_time": "2024-01-20T08:43:55.717Z"
   },
   {
    "duration": 5,
    "start_time": "2024-01-20T08:44:05.727Z"
   },
   {
    "duration": 5,
    "start_time": "2024-01-20T08:46:14.978Z"
   },
   {
    "duration": 7,
    "start_time": "2024-01-20T08:53:58.690Z"
   },
   {
    "duration": 303,
    "start_time": "2024-01-20T08:54:10.649Z"
   },
   {
    "duration": 430,
    "start_time": "2024-01-20T08:54:15.903Z"
   },
   {
    "duration": 17,
    "start_time": "2024-01-20T08:54:16.335Z"
   },
   {
    "duration": 13,
    "start_time": "2024-01-20T08:54:16.354Z"
   },
   {
    "duration": 8,
    "start_time": "2024-01-20T08:54:16.369Z"
   },
   {
    "duration": 32,
    "start_time": "2024-01-20T08:54:16.379Z"
   },
   {
    "duration": 3,
    "start_time": "2024-01-20T08:54:16.412Z"
   },
   {
    "duration": 13,
    "start_time": "2024-01-20T08:54:16.416Z"
   },
   {
    "duration": 4,
    "start_time": "2024-01-20T08:54:16.430Z"
   },
   {
    "duration": 6,
    "start_time": "2024-01-20T08:54:16.435Z"
   },
   {
    "duration": 22,
    "start_time": "2024-01-20T08:54:16.444Z"
   },
   {
    "duration": 32,
    "start_time": "2024-01-20T08:54:16.467Z"
   },
   {
    "duration": 10,
    "start_time": "2024-01-20T08:54:16.500Z"
   },
   {
    "duration": 3,
    "start_time": "2024-01-20T08:54:16.511Z"
   },
   {
    "duration": 11,
    "start_time": "2024-01-20T08:54:16.515Z"
   },
   {
    "duration": 47,
    "start_time": "2024-01-20T08:54:16.527Z"
   },
   {
    "duration": 15,
    "start_time": "2024-01-20T08:54:16.575Z"
   },
   {
    "duration": 4,
    "start_time": "2024-01-20T08:54:16.591Z"
   },
   {
    "duration": 11,
    "start_time": "2024-01-20T08:54:16.596Z"
   },
   {
    "duration": 4,
    "start_time": "2024-01-20T08:54:16.609Z"
   },
   {
    "duration": 4,
    "start_time": "2024-01-20T08:54:16.614Z"
   },
   {
    "duration": 8,
    "start_time": "2024-01-20T08:54:16.619Z"
   },
   {
    "duration": 38,
    "start_time": "2024-01-20T08:54:16.628Z"
   },
   {
    "duration": 5,
    "start_time": "2024-01-20T08:54:16.668Z"
   },
   {
    "duration": 7,
    "start_time": "2024-01-20T08:54:16.674Z"
   },
   {
    "duration": 7,
    "start_time": "2024-01-20T08:54:16.682Z"
   },
   {
    "duration": 6,
    "start_time": "2024-01-20T08:54:16.690Z"
   },
   {
    "duration": 20,
    "start_time": "2024-01-20T08:54:16.697Z"
   },
   {
    "duration": 46,
    "start_time": "2024-01-20T08:54:16.720Z"
   },
   {
    "duration": 13,
    "start_time": "2024-01-20T08:54:16.768Z"
   },
   {
    "duration": 8,
    "start_time": "2024-01-20T08:54:27.810Z"
   },
   {
    "duration": 4,
    "start_time": "2024-01-20T08:54:33.017Z"
   },
   {
    "duration": 7,
    "start_time": "2024-01-20T08:54:57.642Z"
   },
   {
    "duration": 5,
    "start_time": "2024-01-20T08:55:04.099Z"
   },
   {
    "duration": 11,
    "start_time": "2024-01-20T09:06:36.087Z"
   },
   {
    "duration": 6,
    "start_time": "2024-01-20T09:06:38.383Z"
   },
   {
    "duration": 418,
    "start_time": "2024-01-20T09:07:03.423Z"
   },
   {
    "duration": 12,
    "start_time": "2024-01-20T09:07:06.263Z"
   },
   {
    "duration": 6,
    "start_time": "2024-01-20T09:07:10.376Z"
   },
   {
    "duration": 10,
    "start_time": "2024-01-20T09:07:21.072Z"
   },
   {
    "duration": 7,
    "start_time": "2024-01-20T09:07:45.911Z"
   },
   {
    "duration": 5,
    "start_time": "2024-01-20T09:07:58.536Z"
   },
   {
    "duration": 18,
    "start_time": "2024-01-20T09:21:22.271Z"
   },
   {
    "duration": 481,
    "start_time": "2024-01-20T09:21:48.194Z"
   },
   {
    "duration": 28,
    "start_time": "2024-01-20T09:21:48.680Z"
   },
   {
    "duration": 18,
    "start_time": "2024-01-20T09:21:48.713Z"
   },
   {
    "duration": 24,
    "start_time": "2024-01-20T09:21:48.732Z"
   },
   {
    "duration": 53,
    "start_time": "2024-01-20T09:21:48.757Z"
   },
   {
    "duration": 11,
    "start_time": "2024-01-20T09:21:48.811Z"
   },
   {
    "duration": 49,
    "start_time": "2024-01-20T09:21:48.823Z"
   },
   {
    "duration": 21,
    "start_time": "2024-01-20T09:21:48.876Z"
   },
   {
    "duration": 21,
    "start_time": "2024-01-20T09:21:48.900Z"
   },
   {
    "duration": 8,
    "start_time": "2024-01-20T09:21:48.923Z"
   },
   {
    "duration": 47,
    "start_time": "2024-01-20T09:21:48.932Z"
   },
   {
    "duration": 26,
    "start_time": "2024-01-20T09:21:48.980Z"
   },
   {
    "duration": 5,
    "start_time": "2024-01-20T09:21:49.008Z"
   },
   {
    "duration": 19,
    "start_time": "2024-01-20T09:21:49.015Z"
   },
   {
    "duration": 42,
    "start_time": "2024-01-20T09:21:49.036Z"
   },
   {
    "duration": 24,
    "start_time": "2024-01-20T09:21:49.079Z"
   },
   {
    "duration": 3,
    "start_time": "2024-01-20T09:21:49.105Z"
   },
   {
    "duration": 43,
    "start_time": "2024-01-20T09:21:49.110Z"
   },
   {
    "duration": 32,
    "start_time": "2024-01-20T09:21:49.155Z"
   },
   {
    "duration": 4,
    "start_time": "2024-01-20T09:21:49.188Z"
   },
   {
    "duration": 9,
    "start_time": "2024-01-20T09:21:49.194Z"
   },
   {
    "duration": 8,
    "start_time": "2024-01-20T09:21:49.205Z"
   },
   {
    "duration": 5,
    "start_time": "2024-01-20T09:21:49.214Z"
   },
   {
    "duration": 7,
    "start_time": "2024-01-20T09:21:49.220Z"
   },
   {
    "duration": 7,
    "start_time": "2024-01-20T09:21:49.228Z"
   },
   {
    "duration": 6,
    "start_time": "2024-01-20T09:21:49.236Z"
   },
   {
    "duration": 14,
    "start_time": "2024-01-20T09:21:49.269Z"
   },
   {
    "duration": 28,
    "start_time": "2024-01-20T09:21:49.287Z"
   },
   {
    "duration": 14,
    "start_time": "2024-01-20T09:21:49.317Z"
   },
   {
    "duration": 12,
    "start_time": "2024-01-20T09:21:49.332Z"
   },
   {
    "duration": 9,
    "start_time": "2024-01-20T09:21:55.611Z"
   },
   {
    "duration": 10,
    "start_time": "2024-01-20T09:22:48.012Z"
   },
   {
    "duration": 10,
    "start_time": "2024-01-20T09:23:00.539Z"
   },
   {
    "duration": 9,
    "start_time": "2024-01-20T09:23:06.371Z"
   },
   {
    "duration": 5,
    "start_time": "2024-01-20T09:23:10.452Z"
   },
   {
    "duration": 11,
    "start_time": "2024-01-20T09:23:24.885Z"
   },
   {
    "duration": 477,
    "start_time": "2024-01-20T09:23:35.975Z"
   },
   {
    "duration": 32,
    "start_time": "2024-01-20T09:23:36.455Z"
   },
   {
    "duration": 20,
    "start_time": "2024-01-20T09:23:36.488Z"
   },
   {
    "duration": 10,
    "start_time": "2024-01-20T09:23:36.509Z"
   },
   {
    "duration": 32,
    "start_time": "2024-01-20T09:23:36.521Z"
   },
   {
    "duration": 3,
    "start_time": "2024-01-20T09:23:36.554Z"
   },
   {
    "duration": 28,
    "start_time": "2024-01-20T09:23:36.559Z"
   },
   {
    "duration": 5,
    "start_time": "2024-01-20T09:23:36.589Z"
   },
   {
    "duration": 9,
    "start_time": "2024-01-20T09:23:36.596Z"
   },
   {
    "duration": 3,
    "start_time": "2024-01-20T09:23:36.606Z"
   },
   {
    "duration": 32,
    "start_time": "2024-01-20T09:23:36.610Z"
   },
   {
    "duration": 30,
    "start_time": "2024-01-20T09:23:36.644Z"
   },
   {
    "duration": 5,
    "start_time": "2024-01-20T09:23:36.675Z"
   },
   {
    "duration": 23,
    "start_time": "2024-01-20T09:23:36.683Z"
   },
   {
    "duration": 17,
    "start_time": "2024-01-20T09:23:36.707Z"
   },
   {
    "duration": 14,
    "start_time": "2024-01-20T09:23:36.726Z"
   },
   {
    "duration": 3,
    "start_time": "2024-01-20T09:23:36.741Z"
   },
   {
    "duration": 27,
    "start_time": "2024-01-20T09:23:36.745Z"
   },
   {
    "duration": 8,
    "start_time": "2024-01-20T09:23:36.773Z"
   },
   {
    "duration": 4,
    "start_time": "2024-01-20T09:23:36.784Z"
   },
   {
    "duration": 16,
    "start_time": "2024-01-20T09:23:36.790Z"
   },
   {
    "duration": 9,
    "start_time": "2024-01-20T09:23:36.807Z"
   },
   {
    "duration": 5,
    "start_time": "2024-01-20T09:23:36.817Z"
   },
   {
    "duration": 6,
    "start_time": "2024-01-20T09:23:36.823Z"
   },
   {
    "duration": 8,
    "start_time": "2024-01-20T09:23:36.830Z"
   },
   {
    "duration": 5,
    "start_time": "2024-01-20T09:23:36.839Z"
   },
   {
    "duration": 14,
    "start_time": "2024-01-20T09:23:36.868Z"
   },
   {
    "duration": 21,
    "start_time": "2024-01-20T09:23:36.886Z"
   },
   {
    "duration": 14,
    "start_time": "2024-01-20T09:23:36.908Z"
   },
   {
    "duration": 11,
    "start_time": "2024-01-20T09:23:36.923Z"
   },
   {
    "duration": 9,
    "start_time": "2024-01-20T09:23:44.329Z"
   },
   {
    "duration": 10,
    "start_time": "2024-01-20T09:25:27.400Z"
   },
   {
    "duration": 7,
    "start_time": "2024-01-20T09:28:04.814Z"
   },
   {
    "duration": 358,
    "start_time": "2024-01-20T09:28:18.602Z"
   },
   {
    "duration": 499,
    "start_time": "2024-01-20T09:28:39.007Z"
   },
   {
    "duration": 19,
    "start_time": "2024-01-20T09:28:39.508Z"
   },
   {
    "duration": 15,
    "start_time": "2024-01-20T09:28:39.528Z"
   },
   {
    "duration": 33,
    "start_time": "2024-01-20T09:28:39.544Z"
   },
   {
    "duration": 38,
    "start_time": "2024-01-20T09:28:39.582Z"
   },
   {
    "duration": 3,
    "start_time": "2024-01-20T09:28:39.622Z"
   },
   {
    "duration": 10,
    "start_time": "2024-01-20T09:28:39.626Z"
   },
   {
    "duration": 4,
    "start_time": "2024-01-20T09:28:39.637Z"
   },
   {
    "duration": 5,
    "start_time": "2024-01-20T09:28:39.643Z"
   },
   {
    "duration": 30,
    "start_time": "2024-01-20T09:28:39.650Z"
   },
   {
    "duration": 41,
    "start_time": "2024-01-20T09:28:39.686Z"
   },
   {
    "duration": 10,
    "start_time": "2024-01-20T09:28:39.729Z"
   },
   {
    "duration": 6,
    "start_time": "2024-01-20T09:28:39.740Z"
   },
   {
    "duration": 15,
    "start_time": "2024-01-20T09:28:39.748Z"
   },
   {
    "duration": 31,
    "start_time": "2024-01-20T09:28:39.774Z"
   },
   {
    "duration": 15,
    "start_time": "2024-01-20T09:28:39.806Z"
   },
   {
    "duration": 3,
    "start_time": "2024-01-20T09:28:39.823Z"
   },
   {
    "duration": 12,
    "start_time": "2024-01-20T09:28:39.828Z"
   },
   {
    "duration": 5,
    "start_time": "2024-01-20T09:28:39.842Z"
   },
   {
    "duration": 6,
    "start_time": "2024-01-20T09:28:39.848Z"
   },
   {
    "duration": 23,
    "start_time": "2024-01-20T09:28:39.866Z"
   },
   {
    "duration": 11,
    "start_time": "2024-01-20T09:28:39.890Z"
   },
   {
    "duration": 5,
    "start_time": "2024-01-20T09:28:39.902Z"
   },
   {
    "duration": 8,
    "start_time": "2024-01-20T09:28:39.908Z"
   },
   {
    "duration": 17,
    "start_time": "2024-01-20T09:28:39.917Z"
   },
   {
    "duration": 5,
    "start_time": "2024-01-20T09:28:39.936Z"
   },
   {
    "duration": 25,
    "start_time": "2024-01-20T09:28:39.942Z"
   },
   {
    "duration": 16,
    "start_time": "2024-01-20T09:28:39.971Z"
   },
   {
    "duration": 62,
    "start_time": "2024-01-20T09:28:39.989Z"
   },
   {
    "duration": 0,
    "start_time": "2024-01-20T09:28:40.052Z"
   },
   {
    "duration": 0,
    "start_time": "2024-01-20T09:28:40.053Z"
   },
   {
    "duration": 302,
    "start_time": "2024-01-20T09:28:55.390Z"
   },
   {
    "duration": 17,
    "start_time": "2024-01-20T09:29:09.378Z"
   },
   {
    "duration": 5,
    "start_time": "2024-01-20T09:29:12.657Z"
   },
   {
    "duration": 9,
    "start_time": "2024-01-20T09:29:17.550Z"
   },
   {
    "duration": 9,
    "start_time": "2024-01-20T09:29:22.083Z"
   },
   {
    "duration": 1215,
    "start_time": "2024-01-20T09:32:54.916Z"
   },
   {
    "duration": 1177,
    "start_time": "2024-01-20T09:32:57.903Z"
   },
   {
    "duration": 6,
    "start_time": "2024-01-20T09:33:19.999Z"
   },
   {
    "duration": 9,
    "start_time": "2024-01-20T09:37:39.045Z"
   },
   {
    "duration": 9,
    "start_time": "2024-01-20T09:41:24.040Z"
   },
   {
    "duration": 7,
    "start_time": "2024-01-20T09:41:43.706Z"
   },
   {
    "duration": 12,
    "start_time": "2024-01-20T09:41:57.730Z"
   },
   {
    "duration": 9,
    "start_time": "2024-01-20T09:42:01.372Z"
   },
   {
    "duration": 7,
    "start_time": "2024-01-20T09:42:03.988Z"
   },
   {
    "duration": 9,
    "start_time": "2024-01-20T09:42:08.076Z"
   },
   {
    "duration": 5,
    "start_time": "2024-01-20T09:42:11.676Z"
   },
   {
    "duration": 9,
    "start_time": "2024-01-20T09:43:35.475Z"
   },
   {
    "duration": 5,
    "start_time": "2024-01-20T09:43:40.115Z"
   },
   {
    "duration": 6,
    "start_time": "2024-01-20T09:43:44.683Z"
   },
   {
    "duration": 10,
    "start_time": "2024-01-20T09:45:13.460Z"
   },
   {
    "duration": 6,
    "start_time": "2024-01-20T09:46:05.075Z"
   },
   {
    "duration": 6,
    "start_time": "2024-01-20T09:47:38.437Z"
   },
   {
    "duration": 13,
    "start_time": "2024-01-20T09:47:52.062Z"
   },
   {
    "duration": 6,
    "start_time": "2024-01-20T09:47:59.197Z"
   },
   {
    "duration": 10,
    "start_time": "2024-01-20T09:48:20.728Z"
   },
   {
    "duration": 6,
    "start_time": "2024-01-20T09:48:23.100Z"
   },
   {
    "duration": 7,
    "start_time": "2024-01-20T09:48:25.284Z"
   },
   {
    "duration": 7,
    "start_time": "2024-01-20T09:48:32.605Z"
   },
   {
    "duration": 10,
    "start_time": "2024-01-20T09:48:44.460Z"
   },
   {
    "duration": 6,
    "start_time": "2024-01-20T09:48:48.375Z"
   },
   {
    "duration": 9,
    "start_time": "2024-01-20T09:49:20.037Z"
   },
   {
    "duration": 5,
    "start_time": "2024-01-20T09:49:24.445Z"
   },
   {
    "duration": 6,
    "start_time": "2024-01-20T09:49:27.244Z"
   },
   {
    "duration": 7,
    "start_time": "2024-01-20T09:49:31.179Z"
   },
   {
    "duration": 7,
    "start_time": "2024-01-20T09:50:14.445Z"
   },
   {
    "duration": 5,
    "start_time": "2024-01-20T09:50:17.942Z"
   },
   {
    "duration": 7,
    "start_time": "2024-01-20T09:56:17.832Z"
   },
   {
    "duration": 6,
    "start_time": "2024-01-20T09:58:12.880Z"
   },
   {
    "duration": 5,
    "start_time": "2024-01-20T09:58:23.381Z"
   },
   {
    "duration": 14,
    "start_time": "2024-01-20T10:08:51.303Z"
   },
   {
    "duration": 11,
    "start_time": "2024-01-20T10:11:42.950Z"
   },
   {
    "duration": 9,
    "start_time": "2024-01-20T10:12:32.831Z"
   },
   {
    "duration": 7,
    "start_time": "2024-01-20T10:12:57.903Z"
   },
   {
    "duration": 13,
    "start_time": "2024-01-20T10:14:56.351Z"
   },
   {
    "duration": 7,
    "start_time": "2024-01-20T10:14:58.918Z"
   },
   {
    "duration": 4,
    "start_time": "2024-01-20T10:15:02.166Z"
   },
   {
    "duration": 7,
    "start_time": "2024-01-20T10:16:46.119Z"
   },
   {
    "duration": 3,
    "start_time": "2024-01-20T10:40:32.148Z"
   },
   {
    "duration": 7,
    "start_time": "2024-01-20T10:40:34.778Z"
   },
   {
    "duration": 7,
    "start_time": "2024-01-20T10:40:43.866Z"
   },
   {
    "duration": 12,
    "start_time": "2024-01-20T10:40:56.482Z"
   },
   {
    "duration": 7,
    "start_time": "2024-01-20T10:40:59.170Z"
   },
   {
    "duration": 3,
    "start_time": "2024-01-20T10:41:02.667Z"
   },
   {
    "duration": 7,
    "start_time": "2024-01-20T10:41:04.964Z"
   },
   {
    "duration": 7,
    "start_time": "2024-01-20T10:42:18.186Z"
   },
   {
    "duration": 8,
    "start_time": "2024-01-20T10:42:22.226Z"
   },
   {
    "duration": 6,
    "start_time": "2024-01-20T10:42:23.987Z"
   },
   {
    "duration": 2,
    "start_time": "2024-01-20T10:42:25.515Z"
   },
   {
    "duration": 7,
    "start_time": "2024-01-20T10:42:27.531Z"
   },
   {
    "duration": 1148,
    "start_time": "2024-01-20T10:49:52.446Z"
   },
   {
    "duration": 11,
    "start_time": "2024-01-20T10:50:02.023Z"
   },
   {
    "duration": 16,
    "start_time": "2024-01-20T10:55:01.450Z"
   },
   {
    "duration": 13,
    "start_time": "2024-01-20T10:55:06.280Z"
   },
   {
    "duration": 64,
    "start_time": "2024-01-20T10:55:42.425Z"
   },
   {
    "duration": 10,
    "start_time": "2024-01-20T10:55:46.912Z"
   },
   {
    "duration": 13,
    "start_time": "2024-01-20T11:00:16.514Z"
   },
   {
    "duration": 12,
    "start_time": "2024-01-20T11:00:21.636Z"
   },
   {
    "duration": 7,
    "start_time": "2024-01-20T11:01:34.620Z"
   },
   {
    "duration": 15,
    "start_time": "2024-01-20T11:16:02.625Z"
   },
   {
    "duration": 14,
    "start_time": "2024-01-20T11:19:08.163Z"
   },
   {
    "duration": 14,
    "start_time": "2024-01-20T11:19:16.716Z"
   },
   {
    "duration": 72,
    "start_time": "2024-01-20T11:21:03.283Z"
   },
   {
    "duration": 18,
    "start_time": "2024-01-20T11:21:11.811Z"
   },
   {
    "duration": 17,
    "start_time": "2024-01-20T11:21:32.955Z"
   },
   {
    "duration": 457,
    "start_time": "2024-01-20T11:21:51.629Z"
   },
   {
    "duration": 19,
    "start_time": "2024-01-20T11:21:52.088Z"
   },
   {
    "duration": 14,
    "start_time": "2024-01-20T11:21:52.108Z"
   },
   {
    "duration": 10,
    "start_time": "2024-01-20T11:21:52.124Z"
   },
   {
    "duration": 51,
    "start_time": "2024-01-20T11:21:52.135Z"
   },
   {
    "duration": 3,
    "start_time": "2024-01-20T11:21:52.188Z"
   },
   {
    "duration": 8,
    "start_time": "2024-01-20T11:21:52.193Z"
   },
   {
    "duration": 3,
    "start_time": "2024-01-20T11:21:52.202Z"
   },
   {
    "duration": 8,
    "start_time": "2024-01-20T11:21:52.206Z"
   },
   {
    "duration": 4,
    "start_time": "2024-01-20T11:21:52.216Z"
   },
   {
    "duration": 58,
    "start_time": "2024-01-20T11:21:52.221Z"
   },
   {
    "duration": 10,
    "start_time": "2024-01-20T11:21:52.281Z"
   },
   {
    "duration": 7,
    "start_time": "2024-01-20T11:21:52.292Z"
   },
   {
    "duration": 13,
    "start_time": "2024-01-20T11:21:52.300Z"
   },
   {
    "duration": 19,
    "start_time": "2024-01-20T11:21:52.314Z"
   },
   {
    "duration": 34,
    "start_time": "2024-01-20T11:21:52.334Z"
   },
   {
    "duration": 4,
    "start_time": "2024-01-20T11:21:52.369Z"
   },
   {
    "duration": 20,
    "start_time": "2024-01-20T11:21:52.375Z"
   },
   {
    "duration": 10,
    "start_time": "2024-01-20T11:21:52.397Z"
   },
   {
    "duration": 4,
    "start_time": "2024-01-20T11:21:52.409Z"
   },
   {
    "duration": 10,
    "start_time": "2024-01-20T11:21:52.415Z"
   },
   {
    "duration": 10,
    "start_time": "2024-01-20T11:21:52.427Z"
   },
   {
    "duration": 29,
    "start_time": "2024-01-20T11:21:52.439Z"
   },
   {
    "duration": 10,
    "start_time": "2024-01-20T11:21:52.470Z"
   },
   {
    "duration": 8,
    "start_time": "2024-01-20T11:21:52.482Z"
   },
   {
    "duration": 19,
    "start_time": "2024-01-20T11:21:52.491Z"
   },
   {
    "duration": 14,
    "start_time": "2024-01-20T11:21:52.511Z"
   },
   {
    "duration": 5,
    "start_time": "2024-01-20T11:21:52.528Z"
   },
   {
    "duration": 31,
    "start_time": "2024-01-20T11:21:52.534Z"
   },
   {
    "duration": 93,
    "start_time": "2024-01-20T11:21:52.567Z"
   },
   {
    "duration": 0,
    "start_time": "2024-01-20T11:21:52.662Z"
   },
   {
    "duration": 0,
    "start_time": "2024-01-20T11:21:52.664Z"
   },
   {
    "duration": 0,
    "start_time": "2024-01-20T11:21:52.665Z"
   },
   {
    "duration": 0,
    "start_time": "2024-01-20T11:21:52.667Z"
   },
   {
    "duration": 0,
    "start_time": "2024-01-20T11:21:52.668Z"
   },
   {
    "duration": 0,
    "start_time": "2024-01-20T11:21:52.670Z"
   },
   {
    "duration": 0,
    "start_time": "2024-01-20T11:21:52.671Z"
   },
   {
    "duration": 0,
    "start_time": "2024-01-20T11:21:52.672Z"
   },
   {
    "duration": 0,
    "start_time": "2024-01-20T11:21:52.673Z"
   },
   {
    "duration": 0,
    "start_time": "2024-01-20T11:21:52.675Z"
   },
   {
    "duration": 91,
    "start_time": "2024-01-20T11:22:01.188Z"
   },
   {
    "duration": 17,
    "start_time": "2024-01-20T11:22:39.662Z"
   },
   {
    "duration": 23,
    "start_time": "2024-01-20T11:25:25.371Z"
   },
   {
    "duration": 17,
    "start_time": "2024-01-20T11:25:55.171Z"
   },
   {
    "duration": 18,
    "start_time": "2024-01-20T11:27:22.775Z"
   },
   {
    "duration": 16,
    "start_time": "2024-01-20T11:28:19.896Z"
   },
   {
    "duration": 18,
    "start_time": "2024-01-20T11:29:48.008Z"
   },
   {
    "duration": 20,
    "start_time": "2024-01-20T11:31:10.801Z"
   },
   {
    "duration": 455,
    "start_time": "2024-01-20T11:31:23.799Z"
   },
   {
    "duration": 20,
    "start_time": "2024-01-20T11:31:24.256Z"
   },
   {
    "duration": 16,
    "start_time": "2024-01-20T11:31:24.277Z"
   },
   {
    "duration": 11,
    "start_time": "2024-01-20T11:31:24.295Z"
   },
   {
    "duration": 58,
    "start_time": "2024-01-20T11:31:24.307Z"
   },
   {
    "duration": 3,
    "start_time": "2024-01-20T11:31:24.367Z"
   },
   {
    "duration": 15,
    "start_time": "2024-01-20T11:31:24.371Z"
   },
   {
    "duration": 4,
    "start_time": "2024-01-20T11:31:24.387Z"
   },
   {
    "duration": 12,
    "start_time": "2024-01-20T11:31:24.392Z"
   },
   {
    "duration": 4,
    "start_time": "2024-01-20T11:31:24.407Z"
   },
   {
    "duration": 55,
    "start_time": "2024-01-20T11:31:24.413Z"
   },
   {
    "duration": 10,
    "start_time": "2024-01-20T11:31:24.470Z"
   },
   {
    "duration": 16,
    "start_time": "2024-01-20T11:31:24.481Z"
   },
   {
    "duration": 14,
    "start_time": "2024-01-20T11:31:24.499Z"
   },
   {
    "duration": 19,
    "start_time": "2024-01-20T11:31:24.515Z"
   },
   {
    "duration": 29,
    "start_time": "2024-01-20T11:31:24.536Z"
   },
   {
    "duration": 4,
    "start_time": "2024-01-20T11:31:24.567Z"
   },
   {
    "duration": 27,
    "start_time": "2024-01-20T11:31:24.572Z"
   },
   {
    "duration": 8,
    "start_time": "2024-01-20T11:31:24.601Z"
   },
   {
    "duration": 5,
    "start_time": "2024-01-20T11:31:24.610Z"
   },
   {
    "duration": 16,
    "start_time": "2024-01-20T11:31:24.617Z"
   },
   {
    "duration": 13,
    "start_time": "2024-01-20T11:31:24.634Z"
   },
   {
    "duration": 14,
    "start_time": "2024-01-20T11:31:24.649Z"
   },
   {
    "duration": 10,
    "start_time": "2024-01-20T11:31:24.665Z"
   },
   {
    "duration": 7,
    "start_time": "2024-01-20T11:31:24.676Z"
   },
   {
    "duration": 5,
    "start_time": "2024-01-20T11:31:24.685Z"
   },
   {
    "duration": 12,
    "start_time": "2024-01-20T11:31:24.691Z"
   },
   {
    "duration": 5,
    "start_time": "2024-01-20T11:31:24.706Z"
   },
   {
    "duration": 6,
    "start_time": "2024-01-20T11:31:24.713Z"
   },
   {
    "duration": 84,
    "start_time": "2024-01-20T11:31:24.721Z"
   },
   {
    "duration": 0,
    "start_time": "2024-01-20T11:31:24.807Z"
   },
   {
    "duration": 0,
    "start_time": "2024-01-20T11:31:24.808Z"
   },
   {
    "duration": 0,
    "start_time": "2024-01-20T11:31:24.809Z"
   },
   {
    "duration": 0,
    "start_time": "2024-01-20T11:31:24.810Z"
   },
   {
    "duration": 0,
    "start_time": "2024-01-20T11:31:24.811Z"
   },
   {
    "duration": 0,
    "start_time": "2024-01-20T11:31:24.812Z"
   },
   {
    "duration": 0,
    "start_time": "2024-01-20T11:31:24.814Z"
   },
   {
    "duration": 0,
    "start_time": "2024-01-20T11:31:24.814Z"
   },
   {
    "duration": 0,
    "start_time": "2024-01-20T11:31:24.815Z"
   },
   {
    "duration": 0,
    "start_time": "2024-01-20T11:31:24.816Z"
   },
   {
    "duration": 20,
    "start_time": "2024-01-20T11:31:28.720Z"
   },
   {
    "duration": 19,
    "start_time": "2024-01-20T11:32:05.537Z"
   },
   {
    "duration": 20,
    "start_time": "2024-01-20T11:37:23.187Z"
   },
   {
    "duration": 435,
    "start_time": "2024-01-20T11:37:32.110Z"
   },
   {
    "duration": 19,
    "start_time": "2024-01-20T11:37:32.547Z"
   },
   {
    "duration": 21,
    "start_time": "2024-01-20T11:37:32.568Z"
   },
   {
    "duration": 14,
    "start_time": "2024-01-20T11:37:32.591Z"
   },
   {
    "duration": 58,
    "start_time": "2024-01-20T11:37:32.607Z"
   },
   {
    "duration": 4,
    "start_time": "2024-01-20T11:37:32.666Z"
   },
   {
    "duration": 8,
    "start_time": "2024-01-20T11:37:32.671Z"
   },
   {
    "duration": 4,
    "start_time": "2024-01-20T11:37:32.680Z"
   },
   {
    "duration": 8,
    "start_time": "2024-01-20T11:37:32.685Z"
   },
   {
    "duration": 3,
    "start_time": "2024-01-20T11:37:32.695Z"
   },
   {
    "duration": 36,
    "start_time": "2024-01-20T11:37:32.699Z"
   },
   {
    "duration": 34,
    "start_time": "2024-01-20T11:37:32.736Z"
   },
   {
    "duration": 4,
    "start_time": "2024-01-20T11:37:32.772Z"
   },
   {
    "duration": 15,
    "start_time": "2024-01-20T11:37:32.778Z"
   },
   {
    "duration": 22,
    "start_time": "2024-01-20T11:37:32.794Z"
   },
   {
    "duration": 16,
    "start_time": "2024-01-20T11:37:32.817Z"
   },
   {
    "duration": 3,
    "start_time": "2024-01-20T11:37:32.835Z"
   },
   {
    "duration": 35,
    "start_time": "2024-01-20T11:37:32.839Z"
   },
   {
    "duration": 23,
    "start_time": "2024-01-20T11:37:32.877Z"
   },
   {
    "duration": 3,
    "start_time": "2024-01-20T11:37:32.902Z"
   },
   {
    "duration": 9,
    "start_time": "2024-01-20T11:37:32.907Z"
   },
   {
    "duration": 9,
    "start_time": "2024-01-20T11:37:32.918Z"
   },
   {
    "duration": 6,
    "start_time": "2024-01-20T11:37:32.928Z"
   },
   {
    "duration": 7,
    "start_time": "2024-01-20T11:37:32.935Z"
   },
   {
    "duration": 26,
    "start_time": "2024-01-20T11:37:32.944Z"
   },
   {
    "duration": 6,
    "start_time": "2024-01-20T11:37:32.972Z"
   },
   {
    "duration": 10,
    "start_time": "2024-01-20T11:37:32.980Z"
   },
   {
    "duration": 7,
    "start_time": "2024-01-20T11:37:32.991Z"
   },
   {
    "duration": 8,
    "start_time": "2024-01-20T11:37:32.999Z"
   },
   {
    "duration": 66,
    "start_time": "2024-01-20T11:37:33.009Z"
   },
   {
    "duration": 0,
    "start_time": "2024-01-20T11:37:33.077Z"
   },
   {
    "duration": 0,
    "start_time": "2024-01-20T11:37:33.078Z"
   },
   {
    "duration": 0,
    "start_time": "2024-01-20T11:37:33.079Z"
   },
   {
    "duration": 0,
    "start_time": "2024-01-20T11:37:33.080Z"
   },
   {
    "duration": 0,
    "start_time": "2024-01-20T11:37:33.081Z"
   },
   {
    "duration": 0,
    "start_time": "2024-01-20T11:37:33.082Z"
   },
   {
    "duration": 0,
    "start_time": "2024-01-20T11:37:33.083Z"
   },
   {
    "duration": 0,
    "start_time": "2024-01-20T11:37:33.084Z"
   },
   {
    "duration": 0,
    "start_time": "2024-01-20T11:37:33.085Z"
   },
   {
    "duration": 0,
    "start_time": "2024-01-20T11:37:33.086Z"
   },
   {
    "duration": 20,
    "start_time": "2024-01-20T11:37:37.427Z"
   },
   {
    "duration": 16,
    "start_time": "2024-01-20T11:39:19.828Z"
   },
   {
    "duration": 88,
    "start_time": "2024-01-20T11:42:07.918Z"
   },
   {
    "duration": 20,
    "start_time": "2024-01-20T11:42:53.502Z"
   },
   {
    "duration": 20,
    "start_time": "2024-01-20T11:43:15.310Z"
   },
   {
    "duration": 17,
    "start_time": "2024-01-20T11:44:12.839Z"
   },
   {
    "duration": 24,
    "start_time": "2024-01-20T11:46:32.602Z"
   },
   {
    "duration": 18,
    "start_time": "2024-01-20T11:48:00.505Z"
   },
   {
    "duration": 20,
    "start_time": "2024-01-20T11:48:40.145Z"
   },
   {
    "duration": 70,
    "start_time": "2024-01-20T11:56:00.371Z"
   },
   {
    "duration": 491,
    "start_time": "2024-01-20T11:56:43.653Z"
   },
   {
    "duration": 19,
    "start_time": "2024-01-20T11:56:44.146Z"
   },
   {
    "duration": 16,
    "start_time": "2024-01-20T11:56:44.166Z"
   },
   {
    "duration": 10,
    "start_time": "2024-01-20T11:56:44.184Z"
   },
   {
    "duration": 38,
    "start_time": "2024-01-20T11:56:44.195Z"
   },
   {
    "duration": 3,
    "start_time": "2024-01-20T11:56:44.235Z"
   },
   {
    "duration": 31,
    "start_time": "2024-01-20T11:56:44.239Z"
   },
   {
    "duration": 4,
    "start_time": "2024-01-20T11:56:44.271Z"
   },
   {
    "duration": 6,
    "start_time": "2024-01-20T11:56:44.276Z"
   },
   {
    "duration": 4,
    "start_time": "2024-01-20T11:56:44.286Z"
   },
   {
    "duration": 34,
    "start_time": "2024-01-20T11:56:44.291Z"
   },
   {
    "duration": 10,
    "start_time": "2024-01-20T11:56:44.326Z"
   },
   {
    "duration": 30,
    "start_time": "2024-01-20T11:56:44.337Z"
   },
   {
    "duration": 12,
    "start_time": "2024-01-20T11:56:44.368Z"
   },
   {
    "duration": 18,
    "start_time": "2024-01-20T11:56:44.381Z"
   },
   {
    "duration": 15,
    "start_time": "2024-01-20T11:56:44.401Z"
   },
   {
    "duration": 4,
    "start_time": "2024-01-20T11:56:44.417Z"
   },
   {
    "duration": 14,
    "start_time": "2024-01-20T11:56:44.422Z"
   },
   {
    "duration": 29,
    "start_time": "2024-01-20T11:56:44.438Z"
   },
   {
    "duration": 4,
    "start_time": "2024-01-20T11:56:44.468Z"
   },
   {
    "duration": 18,
    "start_time": "2024-01-20T11:56:44.474Z"
   },
   {
    "duration": 15,
    "start_time": "2024-01-20T11:56:44.493Z"
   },
   {
    "duration": 5,
    "start_time": "2024-01-20T11:56:44.510Z"
   },
   {
    "duration": 12,
    "start_time": "2024-01-20T11:56:44.517Z"
   },
   {
    "duration": 11,
    "start_time": "2024-01-20T11:56:44.530Z"
   },
   {
    "duration": 27,
    "start_time": "2024-01-20T11:56:44.543Z"
   },
   {
    "duration": 10,
    "start_time": "2024-01-20T11:56:44.571Z"
   },
   {
    "duration": 7,
    "start_time": "2024-01-20T11:56:44.584Z"
   },
   {
    "duration": 11,
    "start_time": "2024-01-20T11:56:44.593Z"
   },
   {
    "duration": 71,
    "start_time": "2024-01-20T11:56:44.605Z"
   },
   {
    "duration": 0,
    "start_time": "2024-01-20T11:56:44.678Z"
   },
   {
    "duration": 0,
    "start_time": "2024-01-20T11:56:44.679Z"
   },
   {
    "duration": 0,
    "start_time": "2024-01-20T11:56:44.680Z"
   },
   {
    "duration": 0,
    "start_time": "2024-01-20T11:56:44.681Z"
   },
   {
    "duration": 0,
    "start_time": "2024-01-20T11:56:44.682Z"
   },
   {
    "duration": 0,
    "start_time": "2024-01-20T11:56:44.683Z"
   },
   {
    "duration": 0,
    "start_time": "2024-01-20T11:56:44.684Z"
   },
   {
    "duration": 0,
    "start_time": "2024-01-20T11:56:44.685Z"
   },
   {
    "duration": 0,
    "start_time": "2024-01-20T11:56:44.686Z"
   },
   {
    "duration": 0,
    "start_time": "2024-01-20T11:56:44.687Z"
   },
   {
    "duration": 0,
    "start_time": "2024-01-20T11:56:44.688Z"
   },
   {
    "duration": 0,
    "start_time": "2024-01-20T11:56:44.689Z"
   },
   {
    "duration": 67,
    "start_time": "2024-01-20T11:56:54.382Z"
   },
   {
    "duration": 19,
    "start_time": "2024-01-20T11:58:01.590Z"
   },
   {
    "duration": 14,
    "start_time": "2024-01-20T11:58:03.602Z"
   },
   {
    "duration": 449,
    "start_time": "2024-01-20T11:58:07.285Z"
   },
   {
    "duration": 20,
    "start_time": "2024-01-20T11:58:07.736Z"
   },
   {
    "duration": 17,
    "start_time": "2024-01-20T11:58:07.757Z"
   },
   {
    "duration": 10,
    "start_time": "2024-01-20T11:58:07.775Z"
   },
   {
    "duration": 33,
    "start_time": "2024-01-20T11:58:07.786Z"
   },
   {
    "duration": 3,
    "start_time": "2024-01-20T11:58:07.820Z"
   },
   {
    "duration": 8,
    "start_time": "2024-01-20T11:58:07.825Z"
   },
   {
    "duration": 7,
    "start_time": "2024-01-20T11:58:07.835Z"
   },
   {
    "duration": 8,
    "start_time": "2024-01-20T11:58:07.864Z"
   },
   {
    "duration": 5,
    "start_time": "2024-01-20T11:58:07.874Z"
   },
   {
    "duration": 36,
    "start_time": "2024-01-20T11:58:07.880Z"
   },
   {
    "duration": 10,
    "start_time": "2024-01-20T11:58:07.917Z"
   },
   {
    "duration": 3,
    "start_time": "2024-01-20T11:58:07.928Z"
   },
   {
    "duration": 34,
    "start_time": "2024-01-20T11:58:07.932Z"
   },
   {
    "duration": 18,
    "start_time": "2024-01-20T11:58:07.968Z"
   },
   {
    "duration": 15,
    "start_time": "2024-01-20T11:58:07.987Z"
   },
   {
    "duration": 3,
    "start_time": "2024-01-20T11:58:08.003Z"
   },
   {
    "duration": 16,
    "start_time": "2024-01-20T11:58:08.007Z"
   },
   {
    "duration": 6,
    "start_time": "2024-01-20T11:58:08.024Z"
   },
   {
    "duration": 5,
    "start_time": "2024-01-20T11:58:08.032Z"
   },
   {
    "duration": 31,
    "start_time": "2024-01-20T11:58:08.038Z"
   },
   {
    "duration": 12,
    "start_time": "2024-01-20T11:58:08.071Z"
   },
   {
    "duration": 5,
    "start_time": "2024-01-20T11:58:08.084Z"
   },
   {
    "duration": 11,
    "start_time": "2024-01-20T11:58:08.091Z"
   },
   {
    "duration": 6,
    "start_time": "2024-01-20T11:58:08.104Z"
   },
   {
    "duration": 11,
    "start_time": "2024-01-20T11:58:08.111Z"
   },
   {
    "duration": 9,
    "start_time": "2024-01-20T11:58:08.123Z"
   },
   {
    "duration": 5,
    "start_time": "2024-01-20T11:58:08.135Z"
   },
   {
    "duration": 28,
    "start_time": "2024-01-20T11:58:08.141Z"
   },
   {
    "duration": 70,
    "start_time": "2024-01-20T11:58:08.170Z"
   },
   {
    "duration": 0,
    "start_time": "2024-01-20T11:58:08.242Z"
   },
   {
    "duration": 0,
    "start_time": "2024-01-20T11:58:08.243Z"
   },
   {
    "duration": 0,
    "start_time": "2024-01-20T11:58:08.244Z"
   },
   {
    "duration": 0,
    "start_time": "2024-01-20T11:58:08.246Z"
   },
   {
    "duration": 0,
    "start_time": "2024-01-20T11:58:08.247Z"
   },
   {
    "duration": 0,
    "start_time": "2024-01-20T11:58:08.248Z"
   },
   {
    "duration": 0,
    "start_time": "2024-01-20T11:58:08.249Z"
   },
   {
    "duration": 0,
    "start_time": "2024-01-20T11:58:08.250Z"
   },
   {
    "duration": 0,
    "start_time": "2024-01-20T11:58:08.251Z"
   },
   {
    "duration": 0,
    "start_time": "2024-01-20T11:58:08.252Z"
   },
   {
    "duration": 0,
    "start_time": "2024-01-20T11:58:08.254Z"
   },
   {
    "duration": 0,
    "start_time": "2024-01-20T11:58:08.255Z"
   },
   {
    "duration": 65,
    "start_time": "2024-01-20T11:58:19.831Z"
   },
   {
    "duration": 18,
    "start_time": "2024-01-20T11:58:43.078Z"
   },
   {
    "duration": 18,
    "start_time": "2024-01-20T12:00:37.748Z"
   },
   {
    "duration": 20,
    "start_time": "2024-01-20T12:00:41.174Z"
   },
   {
    "duration": 21,
    "start_time": "2024-01-20T12:24:46.592Z"
   },
   {
    "duration": 7,
    "start_time": "2024-01-20T12:34:40.650Z"
   },
   {
    "duration": 536,
    "start_time": "2024-01-20T12:34:47.434Z"
   },
   {
    "duration": 21,
    "start_time": "2024-01-20T12:34:47.972Z"
   },
   {
    "duration": 15,
    "start_time": "2024-01-20T12:34:47.994Z"
   },
   {
    "duration": 10,
    "start_time": "2024-01-20T12:34:48.011Z"
   },
   {
    "duration": 73,
    "start_time": "2024-01-20T12:34:48.022Z"
   },
   {
    "duration": 4,
    "start_time": "2024-01-20T12:34:48.096Z"
   },
   {
    "duration": 10,
    "start_time": "2024-01-20T12:34:48.101Z"
   },
   {
    "duration": 4,
    "start_time": "2024-01-20T12:34:48.112Z"
   },
   {
    "duration": 8,
    "start_time": "2024-01-20T12:34:48.118Z"
   },
   {
    "duration": 4,
    "start_time": "2024-01-20T12:34:48.128Z"
   },
   {
    "duration": 72,
    "start_time": "2024-01-20T12:34:48.133Z"
   },
   {
    "duration": 10,
    "start_time": "2024-01-20T12:34:48.206Z"
   },
   {
    "duration": 8,
    "start_time": "2024-01-20T12:34:48.217Z"
   },
   {
    "duration": 13,
    "start_time": "2024-01-20T12:34:48.226Z"
   },
   {
    "duration": 34,
    "start_time": "2024-01-20T12:34:48.240Z"
   },
   {
    "duration": 24,
    "start_time": "2024-01-20T12:34:48.277Z"
   },
   {
    "duration": 3,
    "start_time": "2024-01-20T12:34:48.302Z"
   },
   {
    "duration": 12,
    "start_time": "2024-01-20T12:34:48.307Z"
   },
   {
    "duration": 6,
    "start_time": "2024-01-20T12:34:48.320Z"
   },
   {
    "duration": 4,
    "start_time": "2024-01-20T12:34:48.327Z"
   },
   {
    "duration": 38,
    "start_time": "2024-01-20T12:34:48.332Z"
   },
   {
    "duration": 10,
    "start_time": "2024-01-20T12:34:48.372Z"
   },
   {
    "duration": 6,
    "start_time": "2024-01-20T12:34:48.385Z"
   },
   {
    "duration": 10,
    "start_time": "2024-01-20T12:34:48.393Z"
   },
   {
    "duration": 17,
    "start_time": "2024-01-20T12:34:48.404Z"
   },
   {
    "duration": 5,
    "start_time": "2024-01-20T12:34:48.422Z"
   },
   {
    "duration": 9,
    "start_time": "2024-01-20T12:34:48.429Z"
   },
   {
    "duration": 9,
    "start_time": "2024-01-20T12:34:48.469Z"
   },
   {
    "duration": 7,
    "start_time": "2024-01-20T12:34:48.479Z"
   },
   {
    "duration": 90,
    "start_time": "2024-01-20T12:34:48.488Z"
   },
   {
    "duration": 0,
    "start_time": "2024-01-20T12:34:48.580Z"
   },
   {
    "duration": 0,
    "start_time": "2024-01-20T12:34:48.582Z"
   },
   {
    "duration": 0,
    "start_time": "2024-01-20T12:34:48.584Z"
   },
   {
    "duration": 0,
    "start_time": "2024-01-20T12:34:48.585Z"
   },
   {
    "duration": 0,
    "start_time": "2024-01-20T12:34:48.586Z"
   },
   {
    "duration": 0,
    "start_time": "2024-01-20T12:34:48.589Z"
   },
   {
    "duration": 0,
    "start_time": "2024-01-20T12:34:48.590Z"
   },
   {
    "duration": 0,
    "start_time": "2024-01-20T12:34:48.592Z"
   },
   {
    "duration": 0,
    "start_time": "2024-01-20T12:34:48.593Z"
   },
   {
    "duration": 0,
    "start_time": "2024-01-20T12:34:48.594Z"
   },
   {
    "duration": 10,
    "start_time": "2024-01-20T12:34:54.761Z"
   },
   {
    "duration": 7,
    "start_time": "2024-01-20T12:34:58.218Z"
   },
   {
    "duration": 3,
    "start_time": "2024-01-20T12:35:00.412Z"
   },
   {
    "duration": 7,
    "start_time": "2024-01-20T12:35:03.537Z"
   },
   {
    "duration": 21,
    "start_time": "2024-01-20T12:35:37.794Z"
   },
   {
    "duration": 20,
    "start_time": "2024-01-20T12:36:09.290Z"
   },
   {
    "duration": 27,
    "start_time": "2024-01-20T12:36:18.269Z"
   },
   {
    "duration": 21,
    "start_time": "2024-01-20T12:36:40.884Z"
   },
   {
    "duration": 20,
    "start_time": "2024-01-20T12:47:21.557Z"
   },
   {
    "duration": 26,
    "start_time": "2024-01-20T12:50:22.175Z"
   },
   {
    "duration": 26,
    "start_time": "2024-01-20T12:52:25.840Z"
   },
   {
    "duration": 32,
    "start_time": "2024-01-20T13:02:27.628Z"
   },
   {
    "duration": 70,
    "start_time": "2024-01-20T13:24:20.716Z"
   },
   {
    "duration": 30,
    "start_time": "2024-01-20T13:24:25.435Z"
   },
   {
    "duration": 15,
    "start_time": "2024-01-20T13:30:07.921Z"
   },
   {
    "duration": 12,
    "start_time": "2024-01-20T13:30:22.352Z"
   },
   {
    "duration": 12,
    "start_time": "2024-01-20T13:31:58.244Z"
   },
   {
    "duration": 13,
    "start_time": "2024-01-20T13:32:17.902Z"
   },
   {
    "duration": 9,
    "start_time": "2024-01-20T13:35:25.140Z"
   },
   {
    "duration": 6,
    "start_time": "2024-01-20T13:37:16.452Z"
   },
   {
    "duration": 5,
    "start_time": "2024-01-20T13:37:35.489Z"
   },
   {
    "duration": 8,
    "start_time": "2024-01-20T13:38:44.031Z"
   },
   {
    "duration": 4,
    "start_time": "2024-01-20T13:40:05.084Z"
   },
   {
    "duration": 3,
    "start_time": "2024-01-20T13:43:41.593Z"
   },
   {
    "duration": 15,
    "start_time": "2024-01-20T13:43:43.472Z"
   },
   {
    "duration": 493,
    "start_time": "2024-01-20T13:43:59.346Z"
   },
   {
    "duration": 20,
    "start_time": "2024-01-20T13:43:59.840Z"
   },
   {
    "duration": 15,
    "start_time": "2024-01-20T13:43:59.861Z"
   },
   {
    "duration": 9,
    "start_time": "2024-01-20T13:43:59.878Z"
   },
   {
    "duration": 38,
    "start_time": "2024-01-20T13:43:59.889Z"
   },
   {
    "duration": 3,
    "start_time": "2024-01-20T13:43:59.929Z"
   },
   {
    "duration": 12,
    "start_time": "2024-01-20T13:43:59.933Z"
   },
   {
    "duration": 19,
    "start_time": "2024-01-20T13:43:59.947Z"
   },
   {
    "duration": 6,
    "start_time": "2024-01-20T13:43:59.967Z"
   },
   {
    "duration": 4,
    "start_time": "2024-01-20T13:43:59.976Z"
   },
   {
    "duration": 34,
    "start_time": "2024-01-20T13:43:59.982Z"
   },
   {
    "duration": 11,
    "start_time": "2024-01-20T13:44:00.017Z"
   },
   {
    "duration": 22,
    "start_time": "2024-01-20T13:44:00.029Z"
   },
   {
    "duration": 33,
    "start_time": "2024-01-20T13:44:00.052Z"
   },
   {
    "duration": 58,
    "start_time": "2024-01-20T13:44:00.087Z"
   },
   {
    "duration": 46,
    "start_time": "2024-01-20T13:44:00.146Z"
   },
   {
    "duration": 9,
    "start_time": "2024-01-20T13:44:00.194Z"
   },
   {
    "duration": 43,
    "start_time": "2024-01-20T13:44:00.204Z"
   },
   {
    "duration": 58,
    "start_time": "2024-01-20T13:44:00.249Z"
   },
   {
    "duration": 29,
    "start_time": "2024-01-20T13:44:00.309Z"
   },
   {
    "duration": 72,
    "start_time": "2024-01-20T13:44:00.339Z"
   },
   {
    "duration": 33,
    "start_time": "2024-01-20T13:44:00.413Z"
   },
   {
    "duration": 25,
    "start_time": "2024-01-20T13:44:00.448Z"
   },
   {
    "duration": 50,
    "start_time": "2024-01-20T13:44:00.474Z"
   },
   {
    "duration": 59,
    "start_time": "2024-01-20T13:44:00.525Z"
   },
   {
    "duration": 45,
    "start_time": "2024-01-20T13:44:00.586Z"
   },
   {
    "duration": 47,
    "start_time": "2024-01-20T13:44:00.633Z"
   },
   {
    "duration": 44,
    "start_time": "2024-01-20T13:44:00.684Z"
   },
   {
    "duration": 48,
    "start_time": "2024-01-20T13:44:00.730Z"
   },
   {
    "duration": 81,
    "start_time": "2024-01-20T13:44:00.779Z"
   },
   {
    "duration": 0,
    "start_time": "2024-01-20T13:44:00.862Z"
   },
   {
    "duration": 0,
    "start_time": "2024-01-20T13:44:00.863Z"
   },
   {
    "duration": 0,
    "start_time": "2024-01-20T13:44:00.865Z"
   },
   {
    "duration": 0,
    "start_time": "2024-01-20T13:44:00.866Z"
   },
   {
    "duration": 0,
    "start_time": "2024-01-20T13:44:00.867Z"
   },
   {
    "duration": 0,
    "start_time": "2024-01-20T13:44:00.869Z"
   },
   {
    "duration": 0,
    "start_time": "2024-01-20T13:44:00.870Z"
   },
   {
    "duration": 1,
    "start_time": "2024-01-20T13:44:00.871Z"
   },
   {
    "duration": 0,
    "start_time": "2024-01-20T13:44:00.873Z"
   },
   {
    "duration": 0,
    "start_time": "2024-01-20T13:44:00.875Z"
   },
   {
    "duration": 0,
    "start_time": "2024-01-20T13:44:00.876Z"
   },
   {
    "duration": 0,
    "start_time": "2024-01-20T13:44:00.877Z"
   },
   {
    "duration": 0,
    "start_time": "2024-01-20T13:44:00.879Z"
   },
   {
    "duration": 0,
    "start_time": "2024-01-20T13:44:00.880Z"
   },
   {
    "duration": 60,
    "start_time": "2024-01-20T13:44:08.144Z"
   },
   {
    "duration": 7,
    "start_time": "2024-01-20T13:45:28.753Z"
   },
   {
    "duration": 19,
    "start_time": "2024-01-20T13:45:57.455Z"
   },
   {
    "duration": 9,
    "start_time": "2024-01-20T13:46:03.615Z"
   },
   {
    "duration": 3,
    "start_time": "2024-01-20T13:46:06.190Z"
   },
   {
    "duration": 10,
    "start_time": "2024-01-20T13:46:11.585Z"
   },
   {
    "duration": 23,
    "start_time": "2024-01-20T13:46:20.175Z"
   },
   {
    "duration": 480,
    "start_time": "2024-01-20T13:46:40.755Z"
   },
   {
    "duration": 18,
    "start_time": "2024-01-20T13:46:41.237Z"
   },
   {
    "duration": 15,
    "start_time": "2024-01-20T13:46:41.259Z"
   },
   {
    "duration": 10,
    "start_time": "2024-01-20T13:46:41.275Z"
   },
   {
    "duration": 33,
    "start_time": "2024-01-20T13:46:41.287Z"
   },
   {
    "duration": 4,
    "start_time": "2024-01-20T13:46:41.322Z"
   },
   {
    "duration": 8,
    "start_time": "2024-01-20T13:46:41.327Z"
   },
   {
    "duration": 30,
    "start_time": "2024-01-20T13:46:41.336Z"
   },
   {
    "duration": 7,
    "start_time": "2024-01-20T13:46:41.369Z"
   },
   {
    "duration": 4,
    "start_time": "2024-01-20T13:46:41.377Z"
   },
   {
    "duration": 32,
    "start_time": "2024-01-20T13:46:41.382Z"
   },
   {
    "duration": 10,
    "start_time": "2024-01-20T13:46:41.415Z"
   },
   {
    "duration": 3,
    "start_time": "2024-01-20T13:46:41.426Z"
   },
   {
    "duration": 40,
    "start_time": "2024-01-20T13:46:41.430Z"
   },
   {
    "duration": 18,
    "start_time": "2024-01-20T13:46:41.471Z"
   },
   {
    "duration": 15,
    "start_time": "2024-01-20T13:46:41.490Z"
   },
   {
    "duration": 3,
    "start_time": "2024-01-20T13:46:41.506Z"
   },
   {
    "duration": 15,
    "start_time": "2024-01-20T13:46:41.510Z"
   },
   {
    "duration": 5,
    "start_time": "2024-01-20T13:46:41.527Z"
   },
   {
    "duration": 30,
    "start_time": "2024-01-20T13:46:41.533Z"
   },
   {
    "duration": 25,
    "start_time": "2024-01-20T13:46:41.564Z"
   },
   {
    "duration": 13,
    "start_time": "2024-01-20T13:46:41.590Z"
   },
   {
    "duration": 5,
    "start_time": "2024-01-20T13:46:41.604Z"
   },
   {
    "duration": 29,
    "start_time": "2024-01-20T13:46:41.611Z"
   },
   {
    "duration": 17,
    "start_time": "2024-01-20T13:46:41.642Z"
   },
   {
    "duration": 27,
    "start_time": "2024-01-20T13:46:41.660Z"
   },
   {
    "duration": 8,
    "start_time": "2024-01-20T13:46:41.691Z"
   },
   {
    "duration": 4,
    "start_time": "2024-01-20T13:46:41.701Z"
   },
   {
    "duration": 14,
    "start_time": "2024-01-20T13:46:41.706Z"
   },
   {
    "duration": 147,
    "start_time": "2024-01-20T13:46:41.721Z"
   },
   {
    "duration": 0,
    "start_time": "2024-01-20T13:46:41.870Z"
   },
   {
    "duration": 0,
    "start_time": "2024-01-20T13:46:41.871Z"
   },
   {
    "duration": 0,
    "start_time": "2024-01-20T13:46:41.872Z"
   },
   {
    "duration": 0,
    "start_time": "2024-01-20T13:46:41.873Z"
   },
   {
    "duration": 0,
    "start_time": "2024-01-20T13:46:41.875Z"
   },
   {
    "duration": 0,
    "start_time": "2024-01-20T13:46:41.875Z"
   },
   {
    "duration": 0,
    "start_time": "2024-01-20T13:46:41.876Z"
   },
   {
    "duration": 0,
    "start_time": "2024-01-20T13:46:41.877Z"
   },
   {
    "duration": 0,
    "start_time": "2024-01-20T13:46:41.878Z"
   },
   {
    "duration": 0,
    "start_time": "2024-01-20T13:46:41.879Z"
   },
   {
    "duration": 0,
    "start_time": "2024-01-20T13:46:41.880Z"
   },
   {
    "duration": 0,
    "start_time": "2024-01-20T13:46:41.881Z"
   },
   {
    "duration": 0,
    "start_time": "2024-01-20T13:46:41.882Z"
   },
   {
    "duration": 0,
    "start_time": "2024-01-20T13:46:41.883Z"
   },
   {
    "duration": 16,
    "start_time": "2024-01-20T13:46:47.061Z"
   },
   {
    "duration": 10,
    "start_time": "2024-01-20T13:46:49.929Z"
   },
   {
    "duration": 4,
    "start_time": "2024-01-20T13:46:52.009Z"
   },
   {
    "duration": 9,
    "start_time": "2024-01-20T13:46:55.875Z"
   },
   {
    "duration": 77,
    "start_time": "2024-01-20T13:46:58.886Z"
   },
   {
    "duration": 5,
    "start_time": "2024-01-20T13:47:54.890Z"
   },
   {
    "duration": 13,
    "start_time": "2024-01-20T13:48:04.648Z"
   },
   {
    "duration": 8,
    "start_time": "2024-01-20T13:48:07.584Z"
   },
   {
    "duration": 5,
    "start_time": "2024-01-20T13:48:09.819Z"
   },
   {
    "duration": 9,
    "start_time": "2024-01-20T13:48:14.488Z"
   },
   {
    "duration": 10,
    "start_time": "2024-01-20T13:48:16.931Z"
   },
   {
    "duration": 8,
    "start_time": "2024-01-20T13:53:29.002Z"
   },
   {
    "duration": 9,
    "start_time": "2024-01-20T13:53:38.928Z"
   },
   {
    "duration": 6,
    "start_time": "2024-01-20T13:53:41.659Z"
   },
   {
    "duration": 9,
    "start_time": "2024-01-20T13:54:17.656Z"
   },
   {
    "duration": 6,
    "start_time": "2024-01-20T13:54:19.628Z"
   },
   {
    "duration": 8,
    "start_time": "2024-01-20T13:54:26.635Z"
   },
   {
    "duration": 12,
    "start_time": "2024-01-20T13:55:03.698Z"
   },
   {
    "duration": 1263,
    "start_time": "2024-01-20T13:55:12.491Z"
   },
   {
    "duration": 1305,
    "start_time": "2024-01-20T13:56:24.893Z"
   },
   {
    "duration": 1169,
    "start_time": "2024-01-20T13:56:40.939Z"
   },
   {
    "duration": 11,
    "start_time": "2024-01-20T13:57:07.754Z"
   },
   {
    "duration": 8,
    "start_time": "2024-01-20T13:57:52.125Z"
   },
   {
    "duration": 9,
    "start_time": "2024-01-20T14:00:24.189Z"
   },
   {
    "duration": 13,
    "start_time": "2024-01-20T14:00:30.628Z"
   },
   {
    "duration": 8,
    "start_time": "2024-01-20T14:00:35.716Z"
   },
   {
    "duration": 9,
    "start_time": "2024-01-20T14:00:38.676Z"
   },
   {
    "duration": 9,
    "start_time": "2024-01-20T14:00:40.516Z"
   },
   {
    "duration": 14,
    "start_time": "2024-01-20T14:02:07.150Z"
   },
   {
    "duration": 10,
    "start_time": "2024-01-20T14:02:11.342Z"
   },
   {
    "duration": 8,
    "start_time": "2024-01-20T14:02:17.836Z"
   },
   {
    "duration": 10,
    "start_time": "2024-01-20T14:02:21.316Z"
   },
   {
    "duration": 9,
    "start_time": "2024-01-20T14:02:23.750Z"
   },
   {
    "duration": 9,
    "start_time": "2024-01-20T14:02:29.843Z"
   },
   {
    "duration": 10,
    "start_time": "2024-01-20T14:02:36.779Z"
   },
   {
    "duration": 1197,
    "start_time": "2024-01-20T14:03:21.333Z"
   },
   {
    "duration": 8,
    "start_time": "2024-01-20T14:03:36.622Z"
   },
   {
    "duration": 10,
    "start_time": "2024-01-20T14:03:38.344Z"
   },
   {
    "duration": 8,
    "start_time": "2024-01-20T14:03:41.590Z"
   },
   {
    "duration": 9,
    "start_time": "2024-01-20T14:03:46.837Z"
   },
   {
    "duration": 1156,
    "start_time": "2024-01-20T14:03:51.455Z"
   },
   {
    "duration": 13,
    "start_time": "2024-01-20T14:04:18.151Z"
   },
   {
    "duration": 6,
    "start_time": "2024-01-20T14:15:34.378Z"
   },
   {
    "duration": 8,
    "start_time": "2024-01-20T14:15:38.146Z"
   },
   {
    "duration": 7,
    "start_time": "2024-01-20T14:16:48.395Z"
   },
   {
    "duration": 8,
    "start_time": "2024-01-20T14:28:30.532Z"
   },
   {
    "duration": 444,
    "start_time": "2024-01-20T14:28:37.000Z"
   },
   {
    "duration": 18,
    "start_time": "2024-01-20T14:28:37.445Z"
   },
   {
    "duration": 30,
    "start_time": "2024-01-20T14:28:37.465Z"
   },
   {
    "duration": 9,
    "start_time": "2024-01-20T14:28:37.497Z"
   },
   {
    "duration": 41,
    "start_time": "2024-01-20T14:28:37.508Z"
   },
   {
    "duration": 3,
    "start_time": "2024-01-20T14:28:37.551Z"
   },
   {
    "duration": 18,
    "start_time": "2024-01-20T14:28:37.556Z"
   },
   {
    "duration": 7,
    "start_time": "2024-01-20T14:28:37.575Z"
   },
   {
    "duration": 7,
    "start_time": "2024-01-20T14:28:37.583Z"
   },
   {
    "duration": 4,
    "start_time": "2024-01-20T14:28:37.592Z"
   },
   {
    "duration": 38,
    "start_time": "2024-01-20T14:28:37.598Z"
   },
   {
    "duration": 9,
    "start_time": "2024-01-20T14:28:37.637Z"
   },
   {
    "duration": 4,
    "start_time": "2024-01-20T14:28:37.665Z"
   },
   {
    "duration": 14,
    "start_time": "2024-01-20T14:28:37.670Z"
   },
   {
    "duration": 20,
    "start_time": "2024-01-20T14:28:37.685Z"
   },
   {
    "duration": 15,
    "start_time": "2024-01-20T14:28:37.706Z"
   },
   {
    "duration": 3,
    "start_time": "2024-01-20T14:28:37.723Z"
   },
   {
    "duration": 18,
    "start_time": "2024-01-20T14:28:37.727Z"
   },
   {
    "duration": 7,
    "start_time": "2024-01-20T14:28:37.764Z"
   },
   {
    "duration": 5,
    "start_time": "2024-01-20T14:28:37.773Z"
   },
   {
    "duration": 9,
    "start_time": "2024-01-20T14:28:37.779Z"
   },
   {
    "duration": 8,
    "start_time": "2024-01-20T14:28:37.790Z"
   },
   {
    "duration": 5,
    "start_time": "2024-01-20T14:28:37.799Z"
   },
   {
    "duration": 13,
    "start_time": "2024-01-20T14:28:37.806Z"
   },
   {
    "duration": 56,
    "start_time": "2024-01-20T14:28:37.820Z"
   },
   {
    "duration": 6,
    "start_time": "2024-01-20T14:28:37.878Z"
   },
   {
    "duration": 11,
    "start_time": "2024-01-20T14:28:37.885Z"
   },
   {
    "duration": 5,
    "start_time": "2024-01-20T14:28:37.899Z"
   },
   {
    "duration": 9,
    "start_time": "2024-01-20T14:28:37.905Z"
   },
   {
    "duration": 24,
    "start_time": "2024-01-20T14:28:37.915Z"
   },
   {
    "duration": 7,
    "start_time": "2024-01-20T14:28:37.940Z"
   },
   {
    "duration": 17,
    "start_time": "2024-01-20T14:28:37.949Z"
   },
   {
    "duration": 28,
    "start_time": "2024-01-20T14:28:37.967Z"
   },
   {
    "duration": 15,
    "start_time": "2024-01-20T14:28:37.997Z"
   },
   {
    "duration": 6,
    "start_time": "2024-01-20T14:28:38.014Z"
   },
   {
    "duration": 4,
    "start_time": "2024-01-20T14:28:38.021Z"
   },
   {
    "duration": 9,
    "start_time": "2024-01-20T14:28:38.026Z"
   },
   {
    "duration": 10,
    "start_time": "2024-01-20T14:28:38.037Z"
   },
   {
    "duration": 114,
    "start_time": "2024-01-20T14:28:38.049Z"
   },
   {
    "duration": 45,
    "start_time": "2024-01-20T14:28:38.164Z"
   },
   {
    "duration": 12,
    "start_time": "2024-01-20T14:28:38.210Z"
   },
   {
    "duration": 5,
    "start_time": "2024-01-20T14:28:38.224Z"
   },
   {
    "duration": 13,
    "start_time": "2024-01-20T14:28:38.230Z"
   },
   {
    "duration": 10,
    "start_time": "2024-01-20T14:28:38.244Z"
   },
   {
    "duration": 17,
    "start_time": "2024-01-20T14:28:38.255Z"
   },
   {
    "duration": 8,
    "start_time": "2024-01-20T14:28:56.941Z"
   },
   {
    "duration": 5,
    "start_time": "2024-01-20T14:29:03.325Z"
   },
   {
    "duration": 7,
    "start_time": "2024-01-20T14:29:12.240Z"
   },
   {
    "duration": 6,
    "start_time": "2024-01-20T14:31:04.704Z"
   },
   {
    "duration": 5,
    "start_time": "2024-01-20T14:31:11.662Z"
   },
   {
    "duration": 10,
    "start_time": "2024-01-20T14:31:37.165Z"
   },
   {
    "duration": 6,
    "start_time": "2024-01-20T14:31:41.746Z"
   },
   {
    "duration": 6,
    "start_time": "2024-01-20T14:32:00.607Z"
   },
   {
    "duration": 7,
    "start_time": "2024-01-20T14:32:06.313Z"
   },
   {
    "duration": 5,
    "start_time": "2024-01-20T14:32:17.415Z"
   },
   {
    "duration": 7,
    "start_time": "2024-01-20T14:32:31.543Z"
   },
   {
    "duration": 5,
    "start_time": "2024-01-20T14:32:34.809Z"
   },
   {
    "duration": 9,
    "start_time": "2024-01-20T14:33:08.997Z"
   },
   {
    "duration": 6,
    "start_time": "2024-01-20T14:33:12.026Z"
   },
   {
    "duration": 4,
    "start_time": "2024-01-20T14:33:15.862Z"
   },
   {
    "duration": 7,
    "start_time": "2024-01-20T14:33:20.545Z"
   },
   {
    "duration": 9,
    "start_time": "2024-01-20T14:33:38.100Z"
   },
   {
    "duration": 12,
    "start_time": "2024-01-20T14:33:40.216Z"
   },
   {
    "duration": 7,
    "start_time": "2024-01-20T14:33:44.991Z"
   },
   {
    "duration": 10,
    "start_time": "2024-01-20T14:33:50.067Z"
   },
   {
    "duration": 6,
    "start_time": "2024-01-20T14:33:54.041Z"
   },
   {
    "duration": 5,
    "start_time": "2024-01-20T14:34:06.516Z"
   },
   {
    "duration": 8,
    "start_time": "2024-01-20T14:34:14.225Z"
   },
   {
    "duration": 7,
    "start_time": "2024-01-20T14:34:18.246Z"
   },
   {
    "duration": 8,
    "start_time": "2024-01-20T14:37:13.983Z"
   },
   {
    "duration": 11,
    "start_time": "2024-01-20T14:37:15.941Z"
   },
   {
    "duration": 9,
    "start_time": "2024-01-20T14:37:21.552Z"
   },
   {
    "duration": 6,
    "start_time": "2024-01-20T14:37:27.575Z"
   },
   {
    "duration": 10,
    "start_time": "2024-01-20T14:47:37.629Z"
   },
   {
    "duration": 7,
    "start_time": "2024-01-20T14:47:41.019Z"
   },
   {
    "duration": 4,
    "start_time": "2024-01-20T14:47:42.956Z"
   },
   {
    "duration": 8,
    "start_time": "2024-01-20T14:47:45.020Z"
   },
   {
    "duration": 9,
    "start_time": "2024-01-20T14:48:19.110Z"
   },
   {
    "duration": 9,
    "start_time": "2024-01-20T14:48:32.036Z"
   },
   {
    "duration": 6,
    "start_time": "2024-01-20T14:48:34.676Z"
   },
   {
    "duration": 6,
    "start_time": "2024-01-20T14:48:37.091Z"
   },
   {
    "duration": 7,
    "start_time": "2024-01-20T14:48:39.471Z"
   },
   {
    "duration": 5,
    "start_time": "2024-01-20T14:48:44.563Z"
   },
   {
    "duration": 5,
    "start_time": "2024-01-20T14:48:55.710Z"
   },
   {
    "duration": 5,
    "start_time": "2024-01-20T14:49:01.797Z"
   },
   {
    "duration": 5,
    "start_time": "2024-01-20T14:49:21.293Z"
   },
   {
    "duration": 482,
    "start_time": "2024-01-20T15:35:39.261Z"
   },
   {
    "duration": 20,
    "start_time": "2024-01-20T15:35:39.745Z"
   },
   {
    "duration": 14,
    "start_time": "2024-01-20T15:35:39.767Z"
   },
   {
    "duration": 14,
    "start_time": "2024-01-20T15:35:39.784Z"
   },
   {
    "duration": 34,
    "start_time": "2024-01-20T15:35:39.800Z"
   },
   {
    "duration": 3,
    "start_time": "2024-01-20T15:35:39.836Z"
   },
   {
    "duration": 28,
    "start_time": "2024-01-20T15:35:39.841Z"
   },
   {
    "duration": 3,
    "start_time": "2024-01-20T15:35:39.871Z"
   },
   {
    "duration": 8,
    "start_time": "2024-01-20T15:35:39.875Z"
   },
   {
    "duration": 4,
    "start_time": "2024-01-20T15:35:39.885Z"
   },
   {
    "duration": 34,
    "start_time": "2024-01-20T15:35:39.890Z"
   },
   {
    "duration": 9,
    "start_time": "2024-01-20T15:35:39.926Z"
   },
   {
    "duration": 30,
    "start_time": "2024-01-20T15:35:39.936Z"
   },
   {
    "duration": 10,
    "start_time": "2024-01-20T15:35:39.968Z"
   },
   {
    "duration": 19,
    "start_time": "2024-01-20T15:35:39.979Z"
   },
   {
    "duration": 14,
    "start_time": "2024-01-20T15:35:40.000Z"
   },
   {
    "duration": 3,
    "start_time": "2024-01-20T15:35:40.015Z"
   },
   {
    "duration": 15,
    "start_time": "2024-01-20T15:35:40.019Z"
   },
   {
    "duration": 6,
    "start_time": "2024-01-20T15:35:40.035Z"
   },
   {
    "duration": 3,
    "start_time": "2024-01-20T15:35:40.065Z"
   },
   {
    "duration": 16,
    "start_time": "2024-01-20T15:35:40.069Z"
   },
   {
    "duration": 11,
    "start_time": "2024-01-20T15:35:40.086Z"
   },
   {
    "duration": 5,
    "start_time": "2024-01-20T15:35:40.098Z"
   },
   {
    "duration": 7,
    "start_time": "2024-01-20T15:35:40.105Z"
   },
   {
    "duration": 8,
    "start_time": "2024-01-20T15:35:40.113Z"
   },
   {
    "duration": 5,
    "start_time": "2024-01-20T15:35:40.122Z"
   },
   {
    "duration": 21,
    "start_time": "2024-01-20T15:35:40.128Z"
   },
   {
    "duration": 5,
    "start_time": "2024-01-20T15:35:40.164Z"
   },
   {
    "duration": 5,
    "start_time": "2024-01-20T15:35:40.171Z"
   },
   {
    "duration": 15,
    "start_time": "2024-01-20T15:35:40.178Z"
   },
   {
    "duration": 10,
    "start_time": "2024-01-20T15:35:40.195Z"
   },
   {
    "duration": 8,
    "start_time": "2024-01-20T15:35:40.207Z"
   },
   {
    "duration": 6,
    "start_time": "2024-01-20T15:35:40.217Z"
   },
   {
    "duration": 9,
    "start_time": "2024-01-20T15:35:40.224Z"
   },
   {
    "duration": 6,
    "start_time": "2024-01-20T15:35:40.235Z"
   },
   {
    "duration": 3,
    "start_time": "2024-01-20T15:35:40.265Z"
   },
   {
    "duration": 12,
    "start_time": "2024-01-20T15:35:40.270Z"
   },
   {
    "duration": 11,
    "start_time": "2024-01-20T15:35:40.284Z"
   },
   {
    "duration": 11,
    "start_time": "2024-01-20T15:35:40.297Z"
   },
   {
    "duration": 9,
    "start_time": "2024-01-20T15:35:40.309Z"
   },
   {
    "duration": 7,
    "start_time": "2024-01-20T15:35:40.319Z"
   },
   {
    "duration": 41,
    "start_time": "2024-01-20T15:35:40.328Z"
   },
   {
    "duration": 6,
    "start_time": "2024-01-20T15:35:40.371Z"
   },
   {
    "duration": 13,
    "start_time": "2024-01-20T15:35:40.379Z"
   },
   {
    "duration": 9,
    "start_time": "2024-01-20T15:36:11.601Z"
   },
   {
    "duration": 6,
    "start_time": "2024-01-20T15:36:28.879Z"
   },
   {
    "duration": 7,
    "start_time": "2024-01-20T15:36:37.154Z"
   },
   {
    "duration": 7,
    "start_time": "2024-01-20T15:39:58.133Z"
   },
   {
    "duration": 7,
    "start_time": "2024-01-20T15:40:11.388Z"
   },
   {
    "duration": 7,
    "start_time": "2024-01-20T15:45:22.653Z"
   },
   {
    "duration": 5,
    "start_time": "2024-01-20T15:45:25.055Z"
   },
   {
    "duration": 10,
    "start_time": "2024-01-20T15:45:50.622Z"
   },
   {
    "duration": 6,
    "start_time": "2024-01-20T15:45:53.983Z"
   },
   {
    "duration": 7,
    "start_time": "2024-01-20T15:46:06.278Z"
   },
   {
    "duration": 9,
    "start_time": "2024-01-20T15:46:08.976Z"
   },
   {
    "duration": 6,
    "start_time": "2024-01-20T15:46:13.941Z"
   },
   {
    "duration": 8,
    "start_time": "2024-01-20T15:46:19.567Z"
   },
   {
    "duration": 5,
    "start_time": "2024-01-20T15:46:23.927Z"
   },
   {
    "duration": 9,
    "start_time": "2024-01-20T15:48:08.375Z"
   },
   {
    "duration": 7,
    "start_time": "2024-01-20T15:48:11.408Z"
   },
   {
    "duration": 358,
    "start_time": "2024-01-20T15:48:17.062Z"
   },
   {
    "duration": 9,
    "start_time": "2024-01-20T15:48:21.472Z"
   },
   {
    "duration": 7,
    "start_time": "2024-01-20T15:48:24.352Z"
   },
   {
    "duration": 3,
    "start_time": "2024-01-20T15:48:29.341Z"
   },
   {
    "duration": 7,
    "start_time": "2024-01-20T15:48:32.018Z"
   },
   {
    "duration": 9,
    "start_time": "2024-01-20T15:49:53.447Z"
   },
   {
    "duration": 10,
    "start_time": "2024-01-20T15:49:56.432Z"
   },
   {
    "duration": 8,
    "start_time": "2024-01-20T15:50:04.055Z"
   },
   {
    "duration": 7,
    "start_time": "2024-01-20T15:50:12.839Z"
   },
   {
    "duration": 7,
    "start_time": "2024-01-20T15:50:22.841Z"
   },
   {
    "duration": 7,
    "start_time": "2024-01-20T15:50:39.905Z"
   },
   {
    "duration": 12,
    "start_time": "2024-01-20T15:51:20.593Z"
   },
   {
    "duration": 5,
    "start_time": "2024-01-20T16:04:20.295Z"
   },
   {
    "duration": 5,
    "start_time": "2024-01-20T16:04:36.374Z"
   },
   {
    "duration": 4,
    "start_time": "2024-01-20T16:04:45.774Z"
   },
   {
    "duration": 8,
    "start_time": "2024-01-20T16:05:40.598Z"
   },
   {
    "duration": 10,
    "start_time": "2024-01-20T16:05:42.486Z"
   },
   {
    "duration": 4,
    "start_time": "2024-01-20T16:05:46.951Z"
   },
   {
    "duration": 5,
    "start_time": "2024-01-20T16:05:48.672Z"
   },
   {
    "duration": 4,
    "start_time": "2024-01-20T16:05:50.431Z"
   },
   {
    "duration": 7,
    "start_time": "2024-01-20T16:05:52.150Z"
   },
   {
    "duration": 75,
    "start_time": "2024-01-21T09:45:36.362Z"
   },
   {
    "duration": 99,
    "start_time": "2024-01-21T10:01:16.231Z"
   },
   {
    "duration": 90,
    "start_time": "2024-01-21T10:05:47.781Z"
   },
   {
    "duration": 74,
    "start_time": "2024-01-21T10:07:27.908Z"
   },
   {
    "duration": 704,
    "start_time": "2024-01-21T10:08:17.453Z"
   },
   {
    "duration": 20,
    "start_time": "2024-01-21T10:08:18.159Z"
   },
   {
    "duration": 15,
    "start_time": "2024-01-21T10:08:18.180Z"
   },
   {
    "duration": 21,
    "start_time": "2024-01-21T10:08:18.197Z"
   },
   {
    "duration": 37,
    "start_time": "2024-01-21T10:08:18.219Z"
   },
   {
    "duration": 3,
    "start_time": "2024-01-21T10:08:18.258Z"
   },
   {
    "duration": 9,
    "start_time": "2024-01-21T10:08:18.263Z"
   },
   {
    "duration": 5,
    "start_time": "2024-01-21T10:08:18.274Z"
   },
   {
    "duration": 15,
    "start_time": "2024-01-21T10:08:18.280Z"
   },
   {
    "duration": 22,
    "start_time": "2024-01-21T10:08:18.299Z"
   },
   {
    "duration": 36,
    "start_time": "2024-01-21T10:08:18.323Z"
   },
   {
    "duration": 11,
    "start_time": "2024-01-21T10:08:18.361Z"
   },
   {
    "duration": 4,
    "start_time": "2024-01-21T10:08:18.374Z"
   },
   {
    "duration": 43,
    "start_time": "2024-01-21T10:08:18.379Z"
   },
   {
    "duration": 45,
    "start_time": "2024-01-21T10:08:18.423Z"
   },
   {
    "duration": 17,
    "start_time": "2024-01-21T10:08:18.470Z"
   },
   {
    "duration": 4,
    "start_time": "2024-01-21T10:08:18.489Z"
   },
   {
    "duration": 27,
    "start_time": "2024-01-21T10:08:18.494Z"
   },
   {
    "duration": 7,
    "start_time": "2024-01-21T10:08:18.523Z"
   },
   {
    "duration": 4,
    "start_time": "2024-01-21T10:08:18.532Z"
   },
   {
    "duration": 9,
    "start_time": "2024-01-21T10:08:18.538Z"
   },
   {
    "duration": 10,
    "start_time": "2024-01-21T10:08:18.549Z"
   },
   {
    "duration": 6,
    "start_time": "2024-01-21T10:08:18.560Z"
   },
   {
    "duration": 27,
    "start_time": "2024-01-21T10:08:18.568Z"
   },
   {
    "duration": 27,
    "start_time": "2024-01-21T10:08:18.597Z"
   },
   {
    "duration": 11,
    "start_time": "2024-01-21T10:08:18.625Z"
   },
   {
    "duration": 22,
    "start_time": "2024-01-21T10:08:18.637Z"
   },
   {
    "duration": 6,
    "start_time": "2024-01-21T10:08:18.662Z"
   },
   {
    "duration": 7,
    "start_time": "2024-01-21T10:08:18.669Z"
   },
   {
    "duration": 18,
    "start_time": "2024-01-21T10:08:18.677Z"
   },
   {
    "duration": 11,
    "start_time": "2024-01-21T10:08:18.697Z"
   },
   {
    "duration": 17,
    "start_time": "2024-01-21T10:08:18.709Z"
   },
   {
    "duration": 18,
    "start_time": "2024-01-21T10:08:18.727Z"
   },
   {
    "duration": 14,
    "start_time": "2024-01-21T10:08:18.746Z"
   },
   {
    "duration": 8,
    "start_time": "2024-01-21T10:08:18.761Z"
   },
   {
    "duration": 27,
    "start_time": "2024-01-21T10:08:18.771Z"
   },
   {
    "duration": 12,
    "start_time": "2024-01-21T10:08:18.799Z"
   },
   {
    "duration": 13,
    "start_time": "2024-01-21T10:08:18.813Z"
   },
   {
    "duration": 13,
    "start_time": "2024-01-21T10:08:18.827Z"
   },
   {
    "duration": 4,
    "start_time": "2024-01-21T10:08:18.841Z"
   },
   {
    "duration": 7,
    "start_time": "2024-01-21T10:08:18.847Z"
   },
   {
    "duration": 9,
    "start_time": "2024-01-21T10:08:18.856Z"
   },
   {
    "duration": 12,
    "start_time": "2024-01-21T10:08:18.867Z"
   },
   {
    "duration": 43,
    "start_time": "2024-01-21T10:08:18.881Z"
   },
   {
    "duration": 8,
    "start_time": "2024-01-21T10:09:04.448Z"
   },
   {
    "duration": 12,
    "start_time": "2024-01-21T10:09:31.257Z"
   },
   {
    "duration": 11,
    "start_time": "2024-01-21T10:10:18.867Z"
   },
   {
    "duration": 8,
    "start_time": "2024-01-21T10:12:13.629Z"
   },
   {
    "duration": 72,
    "start_time": "2024-01-21T10:12:49.147Z"
   },
   {
    "duration": 984,
    "start_time": "2024-01-21T10:13:09.833Z"
   },
   {
    "duration": 1034,
    "start_time": "2024-01-21T10:13:16.894Z"
   },
   {
    "duration": 8,
    "start_time": "2024-01-21T10:14:30.109Z"
   },
   {
    "duration": 8,
    "start_time": "2024-01-21T10:14:41.106Z"
   },
   {
    "duration": 6,
    "start_time": "2024-01-21T10:15:54.195Z"
   },
   {
    "duration": 25,
    "start_time": "2024-01-21T10:16:01.636Z"
   },
   {
    "duration": 67,
    "start_time": "2024-01-21T10:23:35.677Z"
   },
   {
    "duration": 488,
    "start_time": "2024-01-21T10:25:46.880Z"
   },
   {
    "duration": 20,
    "start_time": "2024-01-21T10:25:47.370Z"
   },
   {
    "duration": 56,
    "start_time": "2024-01-21T10:25:47.394Z"
   },
   {
    "duration": 11,
    "start_time": "2024-01-21T10:25:47.451Z"
   },
   {
    "duration": 36,
    "start_time": "2024-01-21T10:25:47.463Z"
   },
   {
    "duration": 3,
    "start_time": "2024-01-21T10:25:47.500Z"
   },
   {
    "duration": 16,
    "start_time": "2024-01-21T10:25:47.505Z"
   },
   {
    "duration": 4,
    "start_time": "2024-01-21T10:25:47.522Z"
   },
   {
    "duration": 6,
    "start_time": "2024-01-21T10:25:47.530Z"
   },
   {
    "duration": 14,
    "start_time": "2024-01-21T10:25:47.537Z"
   },
   {
    "duration": 34,
    "start_time": "2024-01-21T10:25:47.552Z"
   },
   {
    "duration": 10,
    "start_time": "2024-01-21T10:25:47.588Z"
   },
   {
    "duration": 22,
    "start_time": "2024-01-21T10:25:47.599Z"
   },
   {
    "duration": 12,
    "start_time": "2024-01-21T10:25:47.623Z"
   },
   {
    "duration": 21,
    "start_time": "2024-01-21T10:25:47.637Z"
   },
   {
    "duration": 16,
    "start_time": "2024-01-21T10:25:47.660Z"
   },
   {
    "duration": 3,
    "start_time": "2024-01-21T10:25:47.678Z"
   },
   {
    "duration": 11,
    "start_time": "2024-01-21T10:25:47.683Z"
   },
   {
    "duration": 30,
    "start_time": "2024-01-21T10:25:47.695Z"
   },
   {
    "duration": 10,
    "start_time": "2024-01-21T10:25:47.727Z"
   },
   {
    "duration": 14,
    "start_time": "2024-01-21T10:25:47.739Z"
   },
   {
    "duration": 9,
    "start_time": "2024-01-21T10:25:47.755Z"
   },
   {
    "duration": 6,
    "start_time": "2024-01-21T10:25:47.765Z"
   },
   {
    "duration": 8,
    "start_time": "2024-01-21T10:25:47.773Z"
   },
   {
    "duration": 20,
    "start_time": "2024-01-21T10:25:47.783Z"
   },
   {
    "duration": 4,
    "start_time": "2024-01-21T10:25:47.821Z"
   },
   {
    "duration": 15,
    "start_time": "2024-01-21T10:25:47.828Z"
   },
   {
    "duration": 6,
    "start_time": "2024-01-21T10:25:47.844Z"
   },
   {
    "duration": 24,
    "start_time": "2024-01-21T10:25:47.851Z"
   },
   {
    "duration": 8,
    "start_time": "2024-01-21T10:25:47.876Z"
   },
   {
    "duration": 15,
    "start_time": "2024-01-21T10:25:47.886Z"
   },
   {
    "duration": 11,
    "start_time": "2024-01-21T10:25:47.903Z"
   },
   {
    "duration": 8,
    "start_time": "2024-01-21T10:25:47.920Z"
   },
   {
    "duration": 11,
    "start_time": "2024-01-21T10:25:47.929Z"
   },
   {
    "duration": 6,
    "start_time": "2024-01-21T10:25:47.942Z"
   },
   {
    "duration": 3,
    "start_time": "2024-01-21T10:25:47.950Z"
   },
   {
    "duration": 13,
    "start_time": "2024-01-21T10:25:47.954Z"
   },
   {
    "duration": 17,
    "start_time": "2024-01-21T10:25:47.968Z"
   },
   {
    "duration": 34,
    "start_time": "2024-01-21T10:25:47.986Z"
   },
   {
    "duration": 22,
    "start_time": "2024-01-21T10:25:48.022Z"
   },
   {
    "duration": 4,
    "start_time": "2024-01-21T10:25:48.045Z"
   },
   {
    "duration": 5,
    "start_time": "2024-01-21T10:25:48.051Z"
   },
   {
    "duration": 19,
    "start_time": "2024-01-21T10:25:48.057Z"
   },
   {
    "duration": 9,
    "start_time": "2024-01-21T10:25:48.077Z"
   },
   {
    "duration": 15,
    "start_time": "2024-01-21T10:25:48.087Z"
   },
   {
    "duration": 9,
    "start_time": "2024-01-21T10:27:03.389Z"
   },
   {
    "duration": 12,
    "start_time": "2024-01-21T10:27:17.827Z"
   },
   {
    "duration": 12,
    "start_time": "2024-01-21T10:27:57.408Z"
   },
   {
    "duration": 67,
    "start_time": "2024-01-21T10:29:22.906Z"
   },
   {
    "duration": 14,
    "start_time": "2024-01-21T10:29:35.082Z"
   },
   {
    "duration": 69,
    "start_time": "2024-01-21T10:36:10.325Z"
   },
   {
    "duration": 79,
    "start_time": "2024-01-21T10:36:42.228Z"
   },
   {
    "duration": 78,
    "start_time": "2024-01-21T10:38:50.545Z"
   }
  ],
  "colab": {
   "name": "dpp_template_part2.ipynb",
   "provenance": []
  },
  "kernelspec": {
   "display_name": "Python 3 (ipykernel)",
   "language": "python",
   "name": "python3"
  },
  "language_info": {
   "codemirror_mode": {
    "name": "ipython",
    "version": 3
   },
   "file_extension": ".py",
   "mimetype": "text/x-python",
   "name": "python",
   "nbconvert_exporter": "python",
   "pygments_lexer": "ipython3",
   "version": "3.9.5"
  },
  "toc": {
   "base_numbering": 1,
   "nav_menu": {},
   "number_sections": true,
   "sideBar": true,
   "skip_h1_title": true,
   "title_cell": "Table of Contents",
   "title_sidebar": "Contents",
   "toc_cell": false,
   "toc_position": {},
   "toc_section_display": true,
   "toc_window_display": false
  }
 },
 "nbformat": 4,
 "nbformat_minor": 5
}
